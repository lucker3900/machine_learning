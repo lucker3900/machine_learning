{
  "nbformat": 4,
  "nbformat_minor": 0,
  "metadata": {
    "colab": {
      "provenance": [],
      "authorship_tag": "ABX9TyPIyrtr3N3/EDO+EbtGCdNj"
    },
    "kernelspec": {
      "name": "python3",
      "display_name": "Python 3"
    },
    "language_info": {
      "name": "python"
    }
  },
  "cells": [
    {
      "cell_type": "code",
      "execution_count": 1,
      "metadata": {
        "id": "R4KJJdJ2wAwF"
      },
      "outputs": [],
      "source": [
        "#考虑一个用于回归任务的简单神经网络，其结构如下：\n",
        "\n",
        "#输入层： 1 个神经元\n",
        "#隐藏层： 2 个神经元，使用线性激活函数（即不使用激活函数）\n",
        "#输出层： 1 个神经元，线性输出"
      ]
    },
    {
      "cell_type": "code",
      "source": [
        "import numpy as np\n",
        "import matplotlib.pyplot as plt"
      ],
      "metadata": {
        "id": "hyjpvnKowPbA"
      },
      "execution_count": 2,
      "outputs": []
    },
    {
      "cell_type": "code",
      "source": [
        "#sigmoid函数实现\n",
        "def sigmoid(a):\n",
        "  return 1/(1 + np.exp(-a))"
      ],
      "metadata": {
        "id": "SwKWe29gwphn"
      },
      "execution_count": 3,
      "outputs": []
    },
    {
      "cell_type": "code",
      "source": [
        "#前向传播, 求y_pred的值\n",
        "def forward(W1, W2, b1, b2, X):\n",
        "  Z = np.dot(X, W1.T) + b1.T #shape (2,2)\n",
        "\n",
        "  y_pred = np.dot(Z, W2.T) + b2\n",
        "  return Z, y_pred"
      ],
      "metadata": {
        "id": "BWh3XQdIxb5V"
      },
      "execution_count": 4,
      "outputs": []
    },
    {
      "cell_type": "code",
      "source": [
        "#求损失函数loss值\n",
        "def compute_loss():\n",
        "  loss = (y_pred - y_true)**2 /2\n",
        "  return loss"
      ],
      "metadata": {
        "id": "B7Hki9qhzUc_"
      },
      "execution_count": 5,
      "outputs": []
    },
    {
      "cell_type": "code",
      "source": [
        "#反向传导,求梯度计算\n",
        "def backward(y_pred, y_true, Z, W2, X):\n",
        "  dy_diff = y_pred - y_true\n",
        "  b2_grad = np.mean(dy_diff, axis=0, keepdims=True)\n",
        "  W2_grad = np.dot(dy_diff.T, Z)\n",
        "\n",
        "  dz = np.dot(dy_diff, W2)\n",
        "  b1_grad = np.mean(dz, axis=0, keepdims=True).T\n",
        "  W1_grad = np.dot(dz, X)\n",
        "  return W1_grad, W2_grad, b1_grad, b2_grad"
      ],
      "metadata": {
        "id": "FuX7t80kzojh"
      },
      "execution_count": 6,
      "outputs": []
    },
    {
      "cell_type": "code",
      "source": [
        "#更新参数，weight,bias\n",
        "def update_params(W1, W2, b1, b2, W1_grad, W2_grad, b1_grad, b2_grad, lr):\n",
        "    W1 -= lr * W1_grad\n",
        "    W2 -= lr * W2_grad\n",
        "    b1 -= lr * b1_grad\n",
        "    b2 -= lr * b2_grad\n",
        "\n",
        "    return W1, W2, b1, b2"
      ],
      "metadata": {
        "id": "NqOEs5ox-RsU"
      },
      "execution_count": 7,
      "outputs": []
    },
    {
      "cell_type": "code",
      "source": [
        "X = np.array([[2.0],\n",
        "        [3.0]]) #ndarray (2,1)\n",
        "\n",
        "W1 = np.array([[1.0],\n",
        "        [2.0]]) #ndarray (2,1) （输入层到隐藏层）\n",
        "b1 = np.array([[0.5], [1.0]]) #ndarray (2,1) （隐藏层偏置）\n",
        "W2 = np.array([[1.0, 2.0]]) #ndarray (1,2) （隐藏层到输出层）\n",
        "b2 = np.array([[0.5]]) #ndarray (1,1) （输出层偏置）\n",
        "\n",
        "lr = 0.01\n",
        "\n",
        "y_true = np.array([[5.0], [8.0]]) #ndarray (2,1)\n",
        "losses = []\n",
        "epochs = 100\n",
        "\n",
        "for epoch in range(epochs):\n",
        "  Z, y_pred = forward(W1, W2, b1, b2, X)\n",
        "  loss = (y_pred - y_true)**2 /2\n",
        "\n",
        "  losses.append(loss.mean())\n",
        "  W1_grad, W2_grad, b1_grad, b2_grad = backward(y_pred, y_true, Z, W2, X)\n",
        "  W1, W2, b1, b2 = update_params(W1, W2, b1, b2, W1_grad, W2_grad, b1_grad, b2_grad, lr)\n",
        "\n",
        "  print(\"Epoch:\", epoch + 1,\n",
        "      \"loss:\", np.round(loss.mean(), 4),\n",
        "      \"W1_grad:\", np.round(W1_grad.flatten(), 2),\n",
        "      \"W2_grad:\", np.round(W2_grad.flatten(), 2),\n",
        "      \"b1_grad:\", np.round(b1_grad.flatten(), 2),\n",
        "      \"b2_grad:\", np.round(b2_grad.flatten(), 2)\n",
        "    )\n",
        "\n",
        "plt.plot(range(epochs), losses, \"blue\")\n",
        "plt.xlabel(\"loss axis\")\n",
        "plt.ylabel(\"epoch axis\")\n",
        "plt.legend()\n",
        "plt.show()"
      ],
      "metadata": {
        "id": "NJ9kyU1FwY9W",
        "colab": {
          "base_uri": "https://localhost:8080/",
          "height": 1000
        },
        "outputId": "e7d7e9bd-dd4b-43b9-a1f2-84fb981668b7"
      },
      "execution_count": 8,
      "outputs": [
        {
          "output_type": "stream",
          "name": "stdout",
          "text": [
            "Epoch: 1 loss: 41.0 W1_grad: [64. 80.] W2_grad: [ 55. 110.] b1_grad: [ 9. 18.] b2_grad: [9.]\n",
            "Epoch: 2 loss: 2.5133 W1_grad: [ -4.26 -10.59] W2_grad: [ -5.72 -16.81] b1_grad: [-0.93 -1.86] b2_grad: [-2.06]\n",
            "Epoch: 3 loss: 0.7094 W1_grad: [-1.11 -7.02] W2_grad: [-3.03 -8.82] b1_grad: [-0.49 -1.03] b2_grad: [-0.96]\n",
            "Epoch: 4 loss: 0.226 W1_grad: [ 1.26 -4.13] W2_grad: [-1.17 -3.53] b1_grad: [-0.17 -0.37] b2_grad: [-0.32]\n",
            "Epoch: 5 loss: 0.1493 W1_grad: [ 2.39 -2.71] W2_grad: [-0.31 -1.07] b1_grad: [-0.02 -0.04] b2_grad: [-0.03]\n",
            "Epoch: 6 loss: 0.1414 W1_grad: [ 2.8  -2.17] W2_grad: [-0.02 -0.16] b1_grad: [0.04 0.08] b2_grad: [0.07]\n",
            "Epoch: 7 loss: 0.1406 W1_grad: [ 2.93 -1.99] W2_grad: [0.08 0.13] b1_grad: [0.05 0.12] b2_grad: [0.1]\n",
            "Epoch: 8 loss: 0.1402 W1_grad: [ 2.95 -1.93] W2_grad: [0.1  0.23] b1_grad: [0.06 0.13] b2_grad: [0.11]\n",
            "Epoch: 9 loss: 0.1397 W1_grad: [ 2.95 -1.9 ] W2_grad: [0.11 0.25] b1_grad: [0.06 0.13] b2_grad: [0.11]\n",
            "Epoch: 10 loss: 0.1391 W1_grad: [ 2.94 -1.89] W2_grad: [0.11 0.26] b1_grad: [0.06 0.13] b2_grad: [0.11]\n",
            "Epoch: 11 loss: 0.1385 W1_grad: [ 2.93 -1.88] W2_grad: [0.11 0.26] b1_grad: [0.06 0.13] b2_grad: [0.11]\n",
            "Epoch: 12 loss: 0.1379 W1_grad: [ 2.92 -1.88] W2_grad: [0.1  0.26] b1_grad: [0.06 0.13] b2_grad: [0.11]\n",
            "Epoch: 13 loss: 0.1373 W1_grad: [ 2.91 -1.87] W2_grad: [0.1  0.26] b1_grad: [0.06 0.13] b2_grad: [0.11]\n",
            "Epoch: 14 loss: 0.1367 W1_grad: [ 2.89 -1.86] W2_grad: [0.1  0.26] b1_grad: [0.06 0.13] b2_grad: [0.11]\n",
            "Epoch: 15 loss: 0.1362 W1_grad: [ 2.88 -1.86] W2_grad: [0.1  0.25] b1_grad: [0.06 0.13] b2_grad: [0.11]\n",
            "Epoch: 16 loss: 0.1356 W1_grad: [ 2.87 -1.85] W2_grad: [0.1  0.25] b1_grad: [0.06 0.13] b2_grad: [0.11]\n",
            "Epoch: 17 loss: 0.135 W1_grad: [ 2.86 -1.84] W2_grad: [0.09 0.25] b1_grad: [0.06 0.13] b2_grad: [0.11]\n",
            "Epoch: 18 loss: 0.1345 W1_grad: [ 2.84 -1.84] W2_grad: [0.09 0.25] b1_grad: [0.06 0.13] b2_grad: [0.11]\n",
            "Epoch: 19 loss: 0.1339 W1_grad: [ 2.83 -1.83] W2_grad: [0.09 0.25] b1_grad: [0.06 0.13] b2_grad: [0.11]\n",
            "Epoch: 20 loss: 0.1334 W1_grad: [ 2.82 -1.82] W2_grad: [0.09 0.24] b1_grad: [0.06 0.13] b2_grad: [0.11]\n",
            "Epoch: 21 loss: 0.1329 W1_grad: [ 2.81 -1.82] W2_grad: [0.09 0.24] b1_grad: [0.06 0.13] b2_grad: [0.11]\n",
            "Epoch: 22 loss: 0.1323 W1_grad: [ 2.8  -1.81] W2_grad: [0.09 0.24] b1_grad: [0.06 0.13] b2_grad: [0.11]\n",
            "Epoch: 23 loss: 0.1318 W1_grad: [ 2.78 -1.8 ] W2_grad: [0.09 0.24] b1_grad: [0.06 0.13] b2_grad: [0.11]\n",
            "Epoch: 24 loss: 0.1313 W1_grad: [ 2.77 -1.8 ] W2_grad: [0.08 0.24] b1_grad: [0.06 0.12] b2_grad: [0.11]\n",
            "Epoch: 25 loss: 0.1308 W1_grad: [ 2.76 -1.79] W2_grad: [0.08 0.24] b1_grad: [0.06 0.12] b2_grad: [0.11]\n",
            "Epoch: 26 loss: 0.1302 W1_grad: [ 2.75 -1.79] W2_grad: [0.08 0.23] b1_grad: [0.06 0.12] b2_grad: [0.11]\n",
            "Epoch: 27 loss: 0.1297 W1_grad: [ 2.74 -1.78] W2_grad: [0.08 0.23] b1_grad: [0.06 0.12] b2_grad: [0.11]\n",
            "Epoch: 28 loss: 0.1292 W1_grad: [ 2.73 -1.77] W2_grad: [0.08 0.23] b1_grad: [0.06 0.12] b2_grad: [0.11]\n",
            "Epoch: 29 loss: 0.1287 W1_grad: [ 2.72 -1.77] W2_grad: [0.08 0.23] b1_grad: [0.06 0.12] b2_grad: [0.11]\n",
            "Epoch: 30 loss: 0.1282 W1_grad: [ 2.71 -1.76] W2_grad: [0.08 0.23] b1_grad: [0.06 0.12] b2_grad: [0.1]\n",
            "Epoch: 31 loss: 0.1278 W1_grad: [ 2.7  -1.76] W2_grad: [0.08 0.22] b1_grad: [0.06 0.12] b2_grad: [0.1]\n",
            "Epoch: 32 loss: 0.1273 W1_grad: [ 2.69 -1.75] W2_grad: [0.08 0.22] b1_grad: [0.06 0.12] b2_grad: [0.1]\n",
            "Epoch: 33 loss: 0.1268 W1_grad: [ 2.67 -1.74] W2_grad: [0.08 0.22] b1_grad: [0.05 0.12] b2_grad: [0.1]\n",
            "Epoch: 34 loss: 0.1263 W1_grad: [ 2.66 -1.74] W2_grad: [0.07 0.22] b1_grad: [0.05 0.12] b2_grad: [0.1]\n",
            "Epoch: 35 loss: 0.1259 W1_grad: [ 2.65 -1.73] W2_grad: [0.07 0.22] b1_grad: [0.05 0.12] b2_grad: [0.1]\n",
            "Epoch: 36 loss: 0.1254 W1_grad: [ 2.64 -1.73] W2_grad: [0.07 0.21] b1_grad: [0.05 0.12] b2_grad: [0.1]\n",
            "Epoch: 37 loss: 0.1249 W1_grad: [ 2.63 -1.72] W2_grad: [0.07 0.21] b1_grad: [0.05 0.12] b2_grad: [0.1]\n",
            "Epoch: 38 loss: 0.1245 W1_grad: [ 2.62 -1.72] W2_grad: [0.07 0.21] b1_grad: [0.05 0.12] b2_grad: [0.1]\n",
            "Epoch: 39 loss: 0.124 W1_grad: [ 2.61 -1.71] W2_grad: [0.07 0.21] b1_grad: [0.05 0.11] b2_grad: [0.1]\n",
            "Epoch: 40 loss: 0.1236 W1_grad: [ 2.6  -1.71] W2_grad: [0.07 0.21] b1_grad: [0.05 0.11] b2_grad: [0.1]\n",
            "Epoch: 41 loss: 0.1231 W1_grad: [ 2.6 -1.7] W2_grad: [0.07 0.21] b1_grad: [0.05 0.11] b2_grad: [0.1]\n",
            "Epoch: 42 loss: 0.1227 W1_grad: [ 2.59 -1.7 ] W2_grad: [0.07 0.2 ] b1_grad: [0.05 0.11] b2_grad: [0.1]\n",
            "Epoch: 43 loss: 0.1223 W1_grad: [ 2.58 -1.69] W2_grad: [0.07 0.2 ] b1_grad: [0.05 0.11] b2_grad: [0.1]\n",
            "Epoch: 44 loss: 0.1218 W1_grad: [ 2.57 -1.68] W2_grad: [0.07 0.2 ] b1_grad: [0.05 0.11] b2_grad: [0.1]\n",
            "Epoch: 45 loss: 0.1214 W1_grad: [ 2.56 -1.68] W2_grad: [0.07 0.2 ] b1_grad: [0.05 0.11] b2_grad: [0.1]\n",
            "Epoch: 46 loss: 0.121 W1_grad: [ 2.55 -1.67] W2_grad: [0.07 0.2 ] b1_grad: [0.05 0.11] b2_grad: [0.1]\n",
            "Epoch: 47 loss: 0.1206 W1_grad: [ 2.54 -1.67] W2_grad: [0.07 0.2 ] b1_grad: [0.05 0.11] b2_grad: [0.1]\n",
            "Epoch: 48 loss: 0.1201 W1_grad: [ 2.53 -1.66] W2_grad: [0.07 0.19] b1_grad: [0.05 0.11] b2_grad: [0.1]\n",
            "Epoch: 49 loss: 0.1197 W1_grad: [ 2.52 -1.66] W2_grad: [0.07 0.19] b1_grad: [0.05 0.11] b2_grad: [0.1]\n",
            "Epoch: 50 loss: 0.1193 W1_grad: [ 2.51 -1.65] W2_grad: [0.07 0.19] b1_grad: [0.05 0.11] b2_grad: [0.1]\n",
            "Epoch: 51 loss: 0.1189 W1_grad: [ 2.5  -1.65] W2_grad: [0.07 0.19] b1_grad: [0.05 0.11] b2_grad: [0.1]\n",
            "Epoch: 52 loss: 0.1185 W1_grad: [ 2.5  -1.64] W2_grad: [0.07 0.19] b1_grad: [0.05 0.11] b2_grad: [0.1]\n",
            "Epoch: 53 loss: 0.1181 W1_grad: [ 2.49 -1.64] W2_grad: [0.07 0.19] b1_grad: [0.05 0.11] b2_grad: [0.1]\n",
            "Epoch: 54 loss: 0.1177 W1_grad: [ 2.48 -1.63] W2_grad: [0.07 0.19] b1_grad: [0.05 0.11] b2_grad: [0.1]\n",
            "Epoch: 55 loss: 0.1173 W1_grad: [ 2.47 -1.63] W2_grad: [0.07 0.18] b1_grad: [0.05 0.11] b2_grad: [0.1]\n",
            "Epoch: 56 loss: 0.1169 W1_grad: [ 2.46 -1.62] W2_grad: [0.07 0.18] b1_grad: [0.05 0.11] b2_grad: [0.1]\n",
            "Epoch: 57 loss: 0.1165 W1_grad: [ 2.45 -1.62] W2_grad: [0.07 0.18] b1_grad: [0.05 0.11] b2_grad: [0.1]\n",
            "Epoch: 58 loss: 0.1161 W1_grad: [ 2.45 -1.61] W2_grad: [0.07 0.18] b1_grad: [0.05 0.11] b2_grad: [0.1]\n",
            "Epoch: 59 loss: 0.1158 W1_grad: [ 2.44 -1.61] W2_grad: [0.07 0.18] b1_grad: [0.05 0.11] b2_grad: [0.1]\n",
            "Epoch: 60 loss: 0.1154 W1_grad: [ 2.43 -1.61] W2_grad: [0.06 0.18] b1_grad: [0.05 0.1 ] b2_grad: [0.1]\n",
            "Epoch: 61 loss: 0.115 W1_grad: [ 2.42 -1.6 ] W2_grad: [0.06 0.18] b1_grad: [0.05 0.1 ] b2_grad: [0.1]\n",
            "Epoch: 62 loss: 0.1146 W1_grad: [ 2.41 -1.6 ] W2_grad: [0.06 0.17] b1_grad: [0.05 0.1 ] b2_grad: [0.1]\n",
            "Epoch: 63 loss: 0.1143 W1_grad: [ 2.41 -1.59] W2_grad: [0.06 0.17] b1_grad: [0.05 0.1 ] b2_grad: [0.1]\n",
            "Epoch: 64 loss: 0.1139 W1_grad: [ 2.4  -1.59] W2_grad: [0.06 0.17] b1_grad: [0.05 0.1 ] b2_grad: [0.1]\n",
            "Epoch: 65 loss: 0.1135 W1_grad: [ 2.39 -1.58] W2_grad: [0.06 0.17] b1_grad: [0.05 0.1 ] b2_grad: [0.1]\n",
            "Epoch: 66 loss: 0.1132 W1_grad: [ 2.38 -1.58] W2_grad: [0.06 0.17] b1_grad: [0.05 0.1 ] b2_grad: [0.09]\n",
            "Epoch: 67 loss: 0.1128 W1_grad: [ 2.38 -1.57] W2_grad: [0.06 0.17] b1_grad: [0.05 0.1 ] b2_grad: [0.09]\n",
            "Epoch: 68 loss: 0.1124 W1_grad: [ 2.37 -1.57] W2_grad: [0.06 0.17] b1_grad: [0.05 0.1 ] b2_grad: [0.09]\n",
            "Epoch: 69 loss: 0.1121 W1_grad: [ 2.36 -1.56] W2_grad: [0.06 0.17] b1_grad: [0.05 0.1 ] b2_grad: [0.09]\n",
            "Epoch: 70 loss: 0.1117 W1_grad: [ 2.35 -1.56] W2_grad: [0.06 0.17] b1_grad: [0.05 0.1 ] b2_grad: [0.09]\n",
            "Epoch: 71 loss: 0.1114 W1_grad: [ 2.35 -1.55] W2_grad: [0.06 0.16] b1_grad: [0.05 0.1 ] b2_grad: [0.09]\n",
            "Epoch: 72 loss: 0.111 W1_grad: [ 2.34 -1.55] W2_grad: [0.06 0.16] b1_grad: [0.05 0.1 ] b2_grad: [0.09]\n",
            "Epoch: 73 loss: 0.1107 W1_grad: [ 2.33 -1.55] W2_grad: [0.06 0.16] b1_grad: [0.05 0.1 ] b2_grad: [0.09]\n",
            "Epoch: 74 loss: 0.1103 W1_grad: [ 2.32 -1.54] W2_grad: [0.06 0.16] b1_grad: [0.05 0.1 ] b2_grad: [0.09]\n",
            "Epoch: 75 loss: 0.11 W1_grad: [ 2.32 -1.54] W2_grad: [0.06 0.16] b1_grad: [0.05 0.1 ] b2_grad: [0.09]\n",
            "Epoch: 76 loss: 0.1097 W1_grad: [ 2.31 -1.53] W2_grad: [0.06 0.16] b1_grad: [0.05 0.1 ] b2_grad: [0.09]\n",
            "Epoch: 77 loss: 0.1093 W1_grad: [ 2.3  -1.53] W2_grad: [0.06 0.16] b1_grad: [0.05 0.1 ] b2_grad: [0.09]\n",
            "Epoch: 78 loss: 0.109 W1_grad: [ 2.3  -1.52] W2_grad: [0.06 0.16] b1_grad: [0.05 0.1 ] b2_grad: [0.09]\n",
            "Epoch: 79 loss: 0.1086 W1_grad: [ 2.29 -1.52] W2_grad: [0.06 0.16] b1_grad: [0.05 0.1 ] b2_grad: [0.09]\n",
            "Epoch: 80 loss: 0.1083 W1_grad: [ 2.28 -1.51] W2_grad: [0.06 0.16] b1_grad: [0.05 0.1 ] b2_grad: [0.09]\n",
            "Epoch: 81 loss: 0.108 W1_grad: [ 2.28 -1.51] W2_grad: [0.06 0.15] b1_grad: [0.05 0.1 ] b2_grad: [0.09]\n",
            "Epoch: 82 loss: 0.1077 W1_grad: [ 2.27 -1.51] W2_grad: [0.06 0.15] b1_grad: [0.05 0.1 ] b2_grad: [0.09]\n",
            "Epoch: 83 loss: 0.1073 W1_grad: [ 2.26 -1.5 ] W2_grad: [0.06 0.15] b1_grad: [0.05 0.1 ] b2_grad: [0.09]\n",
            "Epoch: 84 loss: 0.107 W1_grad: [ 2.26 -1.5 ] W2_grad: [0.06 0.15] b1_grad: [0.05 0.1 ] b2_grad: [0.09]\n",
            "Epoch: 85 loss: 0.1067 W1_grad: [ 2.25 -1.49] W2_grad: [0.06 0.15] b1_grad: [0.05 0.1 ] b2_grad: [0.09]\n",
            "Epoch: 86 loss: 0.1064 W1_grad: [ 2.24 -1.49] W2_grad: [0.06 0.15] b1_grad: [0.05 0.1 ] b2_grad: [0.09]\n",
            "Epoch: 87 loss: 0.106 W1_grad: [ 2.24 -1.48] W2_grad: [0.06 0.15] b1_grad: [0.04 0.1 ] b2_grad: [0.09]\n",
            "Epoch: 88 loss: 0.1057 W1_grad: [ 2.23 -1.48] W2_grad: [0.06 0.15] b1_grad: [0.04 0.09] b2_grad: [0.09]\n",
            "Epoch: 89 loss: 0.1054 W1_grad: [ 2.22 -1.48] W2_grad: [0.06 0.15] b1_grad: [0.04 0.09] b2_grad: [0.09]\n",
            "Epoch: 90 loss: 0.1051 W1_grad: [ 2.22 -1.47] W2_grad: [0.06 0.15] b1_grad: [0.04 0.09] b2_grad: [0.09]\n",
            "Epoch: 91 loss: 0.1048 W1_grad: [ 2.21 -1.47] W2_grad: [0.06 0.15] b1_grad: [0.04 0.09] b2_grad: [0.09]\n",
            "Epoch: 92 loss: 0.1045 W1_grad: [ 2.2  -1.46] W2_grad: [0.06 0.15] b1_grad: [0.04 0.09] b2_grad: [0.09]\n",
            "Epoch: 93 loss: 0.1042 W1_grad: [ 2.2  -1.46] W2_grad: [0.06 0.15] b1_grad: [0.04 0.09] b2_grad: [0.09]\n",
            "Epoch: 94 loss: 0.1039 W1_grad: [ 2.19 -1.46] W2_grad: [0.06 0.14] b1_grad: [0.04 0.09] b2_grad: [0.09]\n",
            "Epoch: 95 loss: 0.1036 W1_grad: [ 2.18 -1.45] W2_grad: [0.06 0.14] b1_grad: [0.04 0.09] b2_grad: [0.09]\n",
            "Epoch: 96 loss: 0.1033 W1_grad: [ 2.18 -1.45] W2_grad: [0.06 0.14] b1_grad: [0.04 0.09] b2_grad: [0.09]\n",
            "Epoch: 97 loss: 0.103 W1_grad: [ 2.17 -1.44] W2_grad: [0.06 0.14] b1_grad: [0.04 0.09] b2_grad: [0.09]\n",
            "Epoch: 98 loss: 0.1027 W1_grad: [ 2.17 -1.44] W2_grad: [0.06 0.14] b1_grad: [0.04 0.09] b2_grad: [0.09]\n",
            "Epoch: 99 loss: 0.1024 W1_grad: [ 2.16 -1.44] W2_grad: [0.06 0.14] b1_grad: [0.04 0.09] b2_grad: [0.09]\n",
            "Epoch: 100 loss: 0.1021 W1_grad: [ 2.15 -1.43] W2_grad: [0.06 0.14] b1_grad: [0.04 0.09] b2_grad: [0.09]\n"
          ]
        },
        {
          "output_type": "stream",
          "name": "stderr",
          "text": [
            "<ipython-input-8-707725739f1f>:35: UserWarning: No artists with labels found to put in legend.  Note that artists whose label start with an underscore are ignored when legend() is called with no argument.\n",
            "  plt.legend()\n"
          ]
        },
        {
          "output_type": "display_data",
          "data": {
            "text/plain": [
              "<Figure size 640x480 with 1 Axes>"
            ],
            "image/png": "[encoded data removed]"
          },
          "metadata": {}
        }
      ]
    }
  ]
}