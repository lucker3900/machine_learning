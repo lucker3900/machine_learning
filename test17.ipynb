{
  "cells": [
    {
      "cell_type": "code",
      "execution_count": 2,
      "metadata": {
        "id": "R4KJJdJ2wAwF"
      },
      "outputs": [],
      "source": [
        "#考虑一个用于回归任务的简单神经网络，其结构如下：\n",
        "\n",
        "#输入层： 1 个神经元\n",
        "#隐藏层： 2 个神经元，使用线性激活函数（即不使用激活函数）\n",
        "#输出层： 1 个神经元，线性输出"
      ]
    },
    {
      "cell_type": "code",
      "execution_count": 3,
      "metadata": {
        "id": "hyjpvnKowPbA"
      },
      "outputs": [],
      "source": [
        "import numpy as np\n",
        "import matplotlib.pyplot as plt"
      ]
    },
    {
      "cell_type": "code",
      "execution_count": 4,
      "metadata": {
        "id": "SwKWe29gwphn"
      },
      "outputs": [],
      "source": [
        "#sigmoid函数实现\n",
        "def sigmoid(a):\n",
        "  return 1/(1 + np.exp(-a))"
      ]
    },
    {
      "cell_type": "code",
      "execution_count": 5,
      "metadata": {
        "id": "BWh3XQdIxb5V"
      },
      "outputs": [],
      "source": [
        "#前向传播, 求y_pred的值\n",
        "def forward(W1, W2, b1, b2, X):\n",
        "  Z = np.dot(X, W1.T) + b1.T #shape (2,2)\n",
        "\n",
        "  y_pred = np.dot(Z, W2.T) + b2\n",
        "  return Z, y_pred"
      ]
    },
    {
      "cell_type": "code",
      "execution_count": 6,
      "metadata": {
        "id": "B7Hki9qhzUc_"
      },
      "outputs": [],
      "source": [
        "#求损失函数loss值\n",
        "def compute_loss(y_pred, y_true):\n",
        "  loss = (y_pred - y_true)**2 /2\n",
        "  return loss"
      ]
    },
    {
      "cell_type": "code",
      "execution_count": 10,
      "metadata": {
        "id": "FuX7t80kzojh"
      },
      "outputs": [],
      "source": [
        "#反向传导,求梯度计算\n",
        "def backward(y_pred, y_true, Z, W2, X):\n",
        "  dy_diff = y_pred - y_true\n",
        "  b2_grad = np.mean(dy_diff, axis=0, keepdims=True)\n",
        "  W2_grad = np.dot(dy_diff.T, Z)\n",
        "\n",
        "  dz = np.dot(dy_diff, W2)\n",
        "  b1_grad = np.mean(dz, axis=0, keepdims=True).T\n",
        "  W1_grad = np.dot(dz.T, X)\n",
        "  return W1_grad, W2_grad, b1_grad, b2_grad"
      ]
    },
    {
      "cell_type": "code",
      "execution_count": 8,
      "metadata": {
        "id": "NqOEs5ox-RsU"
      },
      "outputs": [],
      "source": [
        "#更新参数，weight,bias\n",
        "def update_params(W1, W2, b1, b2, W1_grad, W2_grad, b1_grad, b2_grad, lr):\n",
        "    W1 -= lr * W1_grad\n",
        "    W2 -= lr * W2_grad\n",
        "    b1 -= lr * b1_grad\n",
        "    b2 -= lr * b2_grad\n",
        "\n",
        "    return W1, W2, b1, b2"
      ]
    },
    {
      "cell_type": "code",
      "execution_count": 11,
      "metadata": {
        "colab": {
          "base_uri": "https://localhost:8080/",
          "height": 1000
        },
        "id": "NJ9kyU1FwY9W",
        "outputId": "e7d7e9bd-dd4b-43b9-a1f2-84fb981668b7"
      },
      "outputs": [
        {
          "name": "stdout",
          "output_type": "stream",
          "text": [
            "Epoch: 1 loss: 41.0 W1_grad: [46. 92.] W2_grad: [ 55. 110.] b1_grad: [ 9. 18.] b2_grad: [9.]\n",
            "Epoch: 2 loss: 2.6667 W1_grad: [ -5.19 -10.39] W2_grad: [ -7.98 -15.96] b1_grad: [-0.96 -1.92] b2_grad: [-2.13]\n",
            "Epoch: 3 loss: 0.7941 W1_grad: [-3.13 -6.25] W2_grad: [-4.36 -8.73] b1_grad: [-0.55 -1.1 ] b2_grad: [-1.04]\n",
            "Epoch: 4 loss: 0.2533 W1_grad: [-1.42 -2.83] W2_grad: [-1.86 -3.71] b1_grad: [-0.21 -0.43] b2_grad: [-0.37]\n",
            "Epoch: 5 loss: 0.1577 W1_grad: [-0.55 -1.1 ] W2_grad: [-0.65 -1.31] b1_grad: [-0.04 -0.09] b2_grad: [-0.07]\n",
            "Epoch: 6 loss: 0.1454 W1_grad: [-0.22 -0.43] W2_grad: [-0.2 -0.4] b1_grad: [0.02 0.04] b2_grad: [0.04]\n",
            "Epoch: 7 loss: 0.1438 W1_grad: [-0.11 -0.21] W2_grad: [-0.05 -0.11] b1_grad: [0.04 0.09] b2_grad: [0.07]\n",
            "Epoch: 8 loss: 0.1434 W1_grad: [-0.07 -0.14] W2_grad: [-0.01 -0.01] b1_grad: [0.05 0.1 ] b2_grad: [0.08]\n",
            "Epoch: 9 loss: 0.1431 W1_grad: [-0.06 -0.12] W2_grad: [0.01 0.02] b1_grad: [0.05 0.1 ] b2_grad: [0.09]\n",
            "Epoch: 10 loss: 0.1428 W1_grad: [-0.06 -0.11] W2_grad: [0.01 0.03] b1_grad: [0.05 0.1 ] b2_grad: [0.09]\n",
            "Epoch: 11 loss: 0.1425 W1_grad: [-0.05 -0.11] W2_grad: [0.02 0.03] b1_grad: [0.05 0.1 ] b2_grad: [0.09]\n",
            "Epoch: 12 loss: 0.1422 W1_grad: [-0.05 -0.11] W2_grad: [0.02 0.03] b1_grad: [0.05 0.1 ] b2_grad: [0.09]\n",
            "Epoch: 13 loss: 0.1419 W1_grad: [-0.05 -0.11] W2_grad: [0.02 0.03] b1_grad: [0.05 0.1 ] b2_grad: [0.09]\n",
            "Epoch: 14 loss: 0.1416 W1_grad: [-0.05 -0.11] W2_grad: [0.02 0.03] b1_grad: [0.05 0.1 ] b2_grad: [0.09]\n",
            "Epoch: 15 loss: 0.1414 W1_grad: [-0.05 -0.11] W2_grad: [0.02 0.03] b1_grad: [0.05 0.1 ] b2_grad: [0.09]\n",
            "Epoch: 16 loss: 0.1411 W1_grad: [-0.05 -0.11] W2_grad: [0.02 0.03] b1_grad: [0.05 0.1 ] b2_grad: [0.09]\n",
            "Epoch: 17 loss: 0.1408 W1_grad: [-0.05 -0.11] W2_grad: [0.02 0.03] b1_grad: [0.05 0.1 ] b2_grad: [0.09]\n",
            "Epoch: 18 loss: 0.1405 W1_grad: [-0.05 -0.11] W2_grad: [0.02 0.03] b1_grad: [0.05 0.1 ] b2_grad: [0.09]\n",
            "Epoch: 19 loss: 0.1402 W1_grad: [-0.05 -0.11] W2_grad: [0.02 0.03] b1_grad: [0.05 0.1 ] b2_grad: [0.09]\n",
            "Epoch: 20 loss: 0.1399 W1_grad: [-0.05 -0.11] W2_grad: [0.02 0.03] b1_grad: [0.05 0.1 ] b2_grad: [0.09]\n",
            "Epoch: 21 loss: 0.1396 W1_grad: [-0.05 -0.11] W2_grad: [0.02 0.03] b1_grad: [0.05 0.1 ] b2_grad: [0.09]\n",
            "Epoch: 22 loss: 0.1393 W1_grad: [-0.05 -0.11] W2_grad: [0.02 0.03] b1_grad: [0.05 0.1 ] b2_grad: [0.09]\n",
            "Epoch: 23 loss: 0.1391 W1_grad: [-0.05 -0.1 ] W2_grad: [0.02 0.03] b1_grad: [0.05 0.1 ] b2_grad: [0.09]\n",
            "Epoch: 24 loss: 0.1388 W1_grad: [-0.05 -0.1 ] W2_grad: [0.02 0.03] b1_grad: [0.05 0.1 ] b2_grad: [0.09]\n",
            "Epoch: 25 loss: 0.1385 W1_grad: [-0.05 -0.1 ] W2_grad: [0.02 0.03] b1_grad: [0.05 0.1 ] b2_grad: [0.09]\n",
            "Epoch: 26 loss: 0.1382 W1_grad: [-0.05 -0.1 ] W2_grad: [0.02 0.03] b1_grad: [0.05 0.1 ] b2_grad: [0.09]\n",
            "Epoch: 27 loss: 0.1379 W1_grad: [-0.05 -0.1 ] W2_grad: [0.02 0.03] b1_grad: [0.05 0.1 ] b2_grad: [0.09]\n",
            "Epoch: 28 loss: 0.1376 W1_grad: [-0.05 -0.1 ] W2_grad: [0.01 0.03] b1_grad: [0.05 0.1 ] b2_grad: [0.09]\n",
            "Epoch: 29 loss: 0.1374 W1_grad: [-0.05 -0.1 ] W2_grad: [0.01 0.03] b1_grad: [0.05 0.1 ] b2_grad: [0.09]\n",
            "Epoch: 30 loss: 0.1371 W1_grad: [-0.05 -0.1 ] W2_grad: [0.01 0.03] b1_grad: [0.05 0.1 ] b2_grad: [0.09]\n",
            "Epoch: 31 loss: 0.1368 W1_grad: [-0.05 -0.1 ] W2_grad: [0.01 0.03] b1_grad: [0.05 0.1 ] b2_grad: [0.09]\n",
            "Epoch: 32 loss: 0.1365 W1_grad: [-0.05 -0.1 ] W2_grad: [0.01 0.03] b1_grad: [0.05 0.1 ] b2_grad: [0.09]\n",
            "Epoch: 33 loss: 0.1363 W1_grad: [-0.05 -0.1 ] W2_grad: [0.01 0.03] b1_grad: [0.05 0.1 ] b2_grad: [0.09]\n",
            "Epoch: 34 loss: 0.136 W1_grad: [-0.05 -0.1 ] W2_grad: [0.01 0.03] b1_grad: [0.05 0.1 ] b2_grad: [0.09]\n",
            "Epoch: 35 loss: 0.1357 W1_grad: [-0.05 -0.1 ] W2_grad: [0.01 0.03] b1_grad: [0.05 0.1 ] b2_grad: [0.09]\n",
            "Epoch: 36 loss: 0.1354 W1_grad: [-0.05 -0.1 ] W2_grad: [0.01 0.03] b1_grad: [0.05 0.1 ] b2_grad: [0.09]\n",
            "Epoch: 37 loss: 0.1352 W1_grad: [-0.05 -0.1 ] W2_grad: [0.01 0.03] b1_grad: [0.05 0.1 ] b2_grad: [0.09]\n",
            "Epoch: 38 loss: 0.1349 W1_grad: [-0.05 -0.1 ] W2_grad: [0.01 0.03] b1_grad: [0.05 0.1 ] b2_grad: [0.09]\n",
            "Epoch: 39 loss: 0.1346 W1_grad: [-0.05 -0.1 ] W2_grad: [0.01 0.03] b1_grad: [0.05 0.1 ] b2_grad: [0.09]\n",
            "Epoch: 40 loss: 0.1343 W1_grad: [-0.05 -0.1 ] W2_grad: [0.01 0.03] b1_grad: [0.05 0.1 ] b2_grad: [0.09]\n",
            "Epoch: 41 loss: 0.1341 W1_grad: [-0.05 -0.1 ] W2_grad: [0.01 0.03] b1_grad: [0.05 0.1 ] b2_grad: [0.09]\n",
            "Epoch: 42 loss: 0.1338 W1_grad: [-0.05 -0.1 ] W2_grad: [0.01 0.03] b1_grad: [0.05 0.1 ] b2_grad: [0.09]\n",
            "Epoch: 43 loss: 0.1335 W1_grad: [-0.05 -0.1 ] W2_grad: [0.01 0.03] b1_grad: [0.05 0.1 ] b2_grad: [0.09]\n",
            "Epoch: 44 loss: 0.1333 W1_grad: [-0.05 -0.1 ] W2_grad: [0.01 0.03] b1_grad: [0.05 0.1 ] b2_grad: [0.09]\n",
            "Epoch: 45 loss: 0.133 W1_grad: [-0.05 -0.1 ] W2_grad: [0.01 0.03] b1_grad: [0.05 0.1 ] b2_grad: [0.09]\n",
            "Epoch: 46 loss: 0.1327 W1_grad: [-0.05 -0.1 ] W2_grad: [0.01 0.03] b1_grad: [0.05 0.1 ] b2_grad: [0.08]\n",
            "Epoch: 47 loss: 0.1325 W1_grad: [-0.05 -0.1 ] W2_grad: [0.01 0.03] b1_grad: [0.05 0.1 ] b2_grad: [0.08]\n",
            "Epoch: 48 loss: 0.1322 W1_grad: [-0.05 -0.1 ] W2_grad: [0.01 0.03] b1_grad: [0.05 0.1 ] b2_grad: [0.08]\n",
            "Epoch: 49 loss: 0.1319 W1_grad: [-0.05 -0.1 ] W2_grad: [0.01 0.03] b1_grad: [0.05 0.1 ] b2_grad: [0.08]\n",
            "Epoch: 50 loss: 0.1317 W1_grad: [-0.05 -0.1 ] W2_grad: [0.01 0.03] b1_grad: [0.05 0.1 ] b2_grad: [0.08]\n",
            "Epoch: 51 loss: 0.1314 W1_grad: [-0.05 -0.1 ] W2_grad: [0.01 0.03] b1_grad: [0.05 0.1 ] b2_grad: [0.08]\n",
            "Epoch: 52 loss: 0.1311 W1_grad: [-0.05 -0.1 ] W2_grad: [0.01 0.03] b1_grad: [0.05 0.1 ] b2_grad: [0.08]\n",
            "Epoch: 53 loss: 0.1309 W1_grad: [-0.05 -0.1 ] W2_grad: [0.01 0.03] b1_grad: [0.05 0.1 ] b2_grad: [0.08]\n",
            "Epoch: 54 loss: 0.1306 W1_grad: [-0.05 -0.1 ] W2_grad: [0.01 0.03] b1_grad: [0.05 0.1 ] b2_grad: [0.08]\n",
            "Epoch: 55 loss: 0.1304 W1_grad: [-0.05 -0.1 ] W2_grad: [0.01 0.03] b1_grad: [0.05 0.1 ] b2_grad: [0.08]\n",
            "Epoch: 56 loss: 0.1301 W1_grad: [-0.05 -0.1 ] W2_grad: [0.01 0.03] b1_grad: [0.05 0.1 ] b2_grad: [0.08]\n",
            "Epoch: 57 loss: 0.1298 W1_grad: [-0.05 -0.1 ] W2_grad: [0.01 0.03] b1_grad: [0.05 0.1 ] b2_grad: [0.08]\n",
            "Epoch: 58 loss: 0.1296 W1_grad: [-0.05 -0.1 ] W2_grad: [0.01 0.03] b1_grad: [0.05 0.1 ] b2_grad: [0.08]\n",
            "Epoch: 59 loss: 0.1293 W1_grad: [-0.05 -0.1 ] W2_grad: [0.01 0.03] b1_grad: [0.05 0.1 ] b2_grad: [0.08]\n",
            "Epoch: 60 loss: 0.1291 W1_grad: [-0.05 -0.1 ] W2_grad: [0.01 0.03] b1_grad: [0.05 0.1 ] b2_grad: [0.08]\n",
            "Epoch: 61 loss: 0.1288 W1_grad: [-0.05 -0.1 ] W2_grad: [0.01 0.03] b1_grad: [0.05 0.1 ] b2_grad: [0.08]\n",
            "Epoch: 62 loss: 0.1285 W1_grad: [-0.05 -0.1 ] W2_grad: [0.01 0.03] b1_grad: [0.05 0.1 ] b2_grad: [0.08]\n",
            "Epoch: 63 loss: 0.1283 W1_grad: [-0.05 -0.1 ] W2_grad: [0.01 0.02] b1_grad: [0.05 0.1 ] b2_grad: [0.08]\n",
            "Epoch: 64 loss: 0.128 W1_grad: [-0.05 -0.1 ] W2_grad: [0.01 0.02] b1_grad: [0.05 0.1 ] b2_grad: [0.08]\n",
            "Epoch: 65 loss: 0.1278 W1_grad: [-0.05 -0.1 ] W2_grad: [0.01 0.02] b1_grad: [0.05 0.1 ] b2_grad: [0.08]\n",
            "Epoch: 66 loss: 0.1275 W1_grad: [-0.05 -0.1 ] W2_grad: [0.01 0.02] b1_grad: [0.05 0.1 ] b2_grad: [0.08]\n",
            "Epoch: 67 loss: 0.1273 W1_grad: [-0.05 -0.09] W2_grad: [0.01 0.02] b1_grad: [0.05 0.1 ] b2_grad: [0.08]\n",
            "Epoch: 68 loss: 0.127 W1_grad: [-0.05 -0.09] W2_grad: [0.01 0.02] b1_grad: [0.05 0.1 ] b2_grad: [0.08]\n",
            "Epoch: 69 loss: 0.1268 W1_grad: [-0.05 -0.09] W2_grad: [0.01 0.02] b1_grad: [0.05 0.1 ] b2_grad: [0.08]\n",
            "Epoch: 70 loss: 0.1265 W1_grad: [-0.05 -0.09] W2_grad: [0.01 0.02] b1_grad: [0.05 0.1 ] b2_grad: [0.08]\n",
            "Epoch: 71 loss: 0.1263 W1_grad: [-0.05 -0.09] W2_grad: [0.01 0.02] b1_grad: [0.05 0.1 ] b2_grad: [0.08]\n",
            "Epoch: 72 loss: 0.126 W1_grad: [-0.05 -0.09] W2_grad: [0.01 0.02] b1_grad: [0.05 0.1 ] b2_grad: [0.08]\n",
            "Epoch: 73 loss: 0.1258 W1_grad: [-0.05 -0.09] W2_grad: [0.01 0.02] b1_grad: [0.05 0.1 ] b2_grad: [0.08]\n",
            "Epoch: 74 loss: 0.1255 W1_grad: [-0.05 -0.09] W2_grad: [0.01 0.02] b1_grad: [0.05 0.1 ] b2_grad: [0.08]\n",
            "Epoch: 75 loss: 0.1253 W1_grad: [-0.05 -0.09] W2_grad: [0.01 0.02] b1_grad: [0.05 0.1 ] b2_grad: [0.08]\n",
            "Epoch: 76 loss: 0.125 W1_grad: [-0.05 -0.09] W2_grad: [0.01 0.02] b1_grad: [0.05 0.1 ] b2_grad: [0.08]\n",
            "Epoch: 77 loss: 0.1248 W1_grad: [-0.05 -0.09] W2_grad: [0.01 0.02] b1_grad: [0.05 0.1 ] b2_grad: [0.08]\n",
            "Epoch: 78 loss: 0.1245 W1_grad: [-0.05 -0.09] W2_grad: [0.01 0.02] b1_grad: [0.05 0.1 ] b2_grad: [0.08]\n",
            "Epoch: 79 loss: 0.1243 W1_grad: [-0.05 -0.09] W2_grad: [0.01 0.02] b1_grad: [0.05 0.1 ] b2_grad: [0.08]\n",
            "Epoch: 80 loss: 0.124 W1_grad: [-0.05 -0.09] W2_grad: [0.01 0.02] b1_grad: [0.05 0.1 ] b2_grad: [0.08]\n",
            "Epoch: 81 loss: 0.1238 W1_grad: [-0.05 -0.09] W2_grad: [0.01 0.02] b1_grad: [0.05 0.1 ] b2_grad: [0.08]\n",
            "Epoch: 82 loss: 0.1236 W1_grad: [-0.05 -0.09] W2_grad: [0.01 0.02] b1_grad: [0.05 0.1 ] b2_grad: [0.08]\n",
            "Epoch: 83 loss: 0.1233 W1_grad: [-0.05 -0.09] W2_grad: [0.01 0.02] b1_grad: [0.05 0.1 ] b2_grad: [0.08]\n",
            "Epoch: 84 loss: 0.1231 W1_grad: [-0.05 -0.09] W2_grad: [0.01 0.02] b1_grad: [0.05 0.1 ] b2_grad: [0.08]\n",
            "Epoch: 85 loss: 0.1228 W1_grad: [-0.05 -0.09] W2_grad: [0.01 0.02] b1_grad: [0.05 0.1 ] b2_grad: [0.08]\n",
            "Epoch: 86 loss: 0.1226 W1_grad: [-0.05 -0.09] W2_grad: [0.01 0.02] b1_grad: [0.05 0.1 ] b2_grad: [0.08]\n",
            "Epoch: 87 loss: 0.1224 W1_grad: [-0.05 -0.09] W2_grad: [0.01 0.02] b1_grad: [0.05 0.1 ] b2_grad: [0.08]\n",
            "Epoch: 88 loss: 0.1221 W1_grad: [-0.05 -0.09] W2_grad: [0.01 0.02] b1_grad: [0.05 0.1 ] b2_grad: [0.08]\n",
            "Epoch: 89 loss: 0.1219 W1_grad: [-0.05 -0.09] W2_grad: [0.01 0.02] b1_grad: [0.05 0.1 ] b2_grad: [0.08]\n",
            "Epoch: 90 loss: 0.1216 W1_grad: [-0.05 -0.09] W2_grad: [0.01 0.02] b1_grad: [0.05 0.1 ] b2_grad: [0.08]\n",
            "Epoch: 91 loss: 0.1214 W1_grad: [-0.04 -0.09] W2_grad: [0.01 0.02] b1_grad: [0.05 0.1 ] b2_grad: [0.08]\n",
            "Epoch: 92 loss: 0.1212 W1_grad: [-0.04 -0.09] W2_grad: [0.01 0.02] b1_grad: [0.05 0.1 ] b2_grad: [0.08]\n",
            "Epoch: 93 loss: 0.1209 W1_grad: [-0.04 -0.09] W2_grad: [0.01 0.02] b1_grad: [0.05 0.1 ] b2_grad: [0.08]\n",
            "Epoch: 94 loss: 0.1207 W1_grad: [-0.04 -0.09] W2_grad: [0.01 0.02] b1_grad: [0.05 0.1 ] b2_grad: [0.08]\n",
            "Epoch: 95 loss: 0.1204 W1_grad: [-0.04 -0.09] W2_grad: [0.01 0.02] b1_grad: [0.05 0.1 ] b2_grad: [0.08]\n",
            "Epoch: 96 loss: 0.1202 W1_grad: [-0.04 -0.09] W2_grad: [0.01 0.02] b1_grad: [0.05 0.1 ] b2_grad: [0.08]\n",
            "Epoch: 97 loss: 0.12 W1_grad: [-0.04 -0.09] W2_grad: [0.01 0.02] b1_grad: [0.05 0.1 ] b2_grad: [0.08]\n",
            "Epoch: 98 loss: 0.1197 W1_grad: [-0.04 -0.09] W2_grad: [0.01 0.02] b1_grad: [0.05 0.1 ] b2_grad: [0.08]\n",
            "Epoch: 99 loss: 0.1195 W1_grad: [-0.04 -0.09] W2_grad: [0.01 0.02] b1_grad: [0.05 0.1 ] b2_grad: [0.08]\n",
            "Epoch: 100 loss: 0.1193 W1_grad: [-0.04 -0.09] W2_grad: [0.01 0.02] b1_grad: [0.05 0.1 ] b2_grad: [0.08]\n"
          ]
        },
        {
          "name": "stderr",
          "output_type": "stream",
          "text": [
            "/tmp/ipykernel_5555/3651323419.py:35: UserWarning: No artists with labels found to put in legend.  Note that artists whose label start with an underscore are ignored when legend() is called with no argument.\n",
            "  plt.legend()\n"
          ]
        },
        {
          "data": {
            "image/png": "[encoded data removed]",
            "text/plain": [
              "<Figure size 640x480 with 1 Axes>"
            ]
          },
          "metadata": {},
          "output_type": "display_data"
        }
      ],
      "source": [
        "X = np.array([[2.0],\n",
        "        [3.0]]) #ndarray (2,1)\n",
        "\n",
        "W1 = np.array([[1.0],\n",
        "        [2.0]]) #ndarray (2,1) （输入层到隐藏层）\n",
        "b1 = np.array([[0.5], [1.0]]) #ndarray (2,1) （隐藏层偏置）\n",
        "W2 = np.array([[1.0, 2.0]]) #ndarray (1,2) （隐藏层到输出层）\n",
        "b2 = np.array([[0.5]]) #ndarray (1,1) （输出层偏置）\n",
        "\n",
        "lr = 0.01\n",
        "\n",
        "y_true = np.array([[5.0], [8.0]]) #ndarray (2,1)\n",
        "losses = []\n",
        "epochs = 100\n",
        "\n",
        "for epoch in range(epochs):\n",
        "  Z, y_pred = forward(W1, W2, b1, b2, X)\n",
        "  loss = (y_pred - y_true)**2 /2\n",
        "\n",
        "  losses.append(loss.mean())\n",
        "  W1_grad, W2_grad, b1_grad, b2_grad = backward(y_pred, y_true, Z, W2, X)\n",
        "  W1, W2, b1, b2 = update_params(W1, W2, b1, b2, W1_grad, W2_grad, b1_grad, b2_grad, lr)\n",
        "\n",
        "  print(\"Epoch:\", epoch + 1,\n",
        "      \"loss:\", np.round(loss.mean(), 4),\n",
        "      \"W1_grad:\", np.round(W1_grad.flatten(), 2),\n",
        "      \"W2_grad:\", np.round(W2_grad.flatten(), 2),\n",
        "      \"b1_grad:\", np.round(b1_grad.flatten(), 2),\n",
        "      \"b2_grad:\", np.round(b2_grad.flatten(), 2)\n",
        "    )\n",
        "\n",
        "plt.plot(range(epochs), losses, \"blue\")\n",
        "plt.xlabel(\"loss axis\")\n",
        "plt.ylabel(\"epoch axis\")\n",
        "plt.legend()\n",
        "plt.show()"
      ]
    }
  ],
  "metadata": {
    "colab": {
      "authorship_tag": "ABX9TyPIyrtr3N3/EDO+EbtGCdNj",
      "provenance": []
    },
    "kernelspec": {
      "display_name": "Python 3",
      "name": "python3"
    },
    "language_info": {
      "codemirror_mode": {
        "name": "ipython",
        "version": 3
      },
      "file_extension": ".py",
      "mimetype": "text/x-python",
      "name": "python",
      "nbconvert_exporter": "python",
      "pygments_lexer": "ipython3",
      "version": "3.12.1"
    }
  },
  "nbformat": 4,
  "nbformat_minor": 0
}
