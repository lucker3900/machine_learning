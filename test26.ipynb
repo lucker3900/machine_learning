{
  "nbformat": 4,
  "nbformat_minor": 0,
  "metadata": {
    "colab": {
      "provenance": [],
      "authorship_tag": "ABX9TyOLHEEzkieuL4beLXs5V15C"
    },
    "kernelspec": {
      "name": "python3",
      "display_name": "Python 3"
    },
    "language_info": {
      "name": "python"
    }
  },
  "cells": [
    {
      "cell_type": "code",
      "execution_count": null,
      "metadata": {
        "id": "SWbfhyEY-eST"
      },
      "outputs": [],
      "source": [
        "#考虑一个具有两个隐藏层的神经网络，结构如下：\n",
        "\n",
        "#一个输入节点 (x)\n",
        "#第一个隐藏层，包含 2 个 神经元 (h_{1,1}, h_{1,2})，均使用 ReLU 激活函数。\n",
        "#第二个隐藏层，包含 2 个 神经元 (h_{2,1}, h_{2,2})，均使用 ReLU 激活函数。\n",
        "#一个输出节点 (y_{pred})，使用 Sigmoid 激活函数。"
      ]
    },
    {
      "cell_type": "code",
      "source": [
        "import numpy as np\n",
        "import matplotlib.pyplot as plt"
      ],
      "metadata": {
        "id": "ule8IIx7BM37"
      },
      "execution_count": null,
      "outputs": []
    },
    {
      "cell_type": "code",
      "source": [
        "#计算relu函数\n",
        "def relu(a):\n",
        "  return np.maximum(0, a)"
      ],
      "metadata": {
        "id": "ygKHS7KDD0Kz"
      },
      "execution_count": null,
      "outputs": []
    },
    {
      "cell_type": "code",
      "source": [
        "#计算sigmoid函数\n",
        "def sigmoid(a):\n",
        "  return 1 / (1 + np.exp(-a))"
      ],
      "metadata": {
        "id": "DAVrTwlzETek"
      },
      "execution_count": null,
      "outputs": []
    },
    {
      "cell_type": "code",
      "source": [
        "#正向传播，求出y_pred\n",
        "def forward(w1, w2, w3, b1, b2, b3, x):\n",
        "  z1 = np.outer(w1, x) + b1 #shape(2,1)\n",
        "  h1 = relu(z1) # shape(2,1)\n",
        "\n",
        "  z2 = np.dot(w2, h1) + b2 # shape (2, 1)\n",
        "  h2 = relu(z2) # shape(2, 1)\n",
        "\n",
        "  zout = np.dot(w3, h2) + b3 #shape (2,1)\n",
        "  y_pred = sigmoid(zout).flatten()\n",
        "  return z1, h1, z2, h2, zout, y_pred"
      ],
      "metadata": {
        "id": "FPK25mV-Ej9D"
      },
      "execution_count": null,
      "outputs": []
    },
    {
      "cell_type": "code",
      "source": [
        "#计算损失函数loss\n",
        "def compute_loss(y_pred, y_true):\n",
        "  loss = (y_pred - y_true)**2 /2\n",
        "  return loss"
      ],
      "metadata": {
        "id": "Vq8as4BIHqMU"
      },
      "execution_count": null,
      "outputs": []
    },
    {
      "cell_type": "code",
      "source": [
        "#反向传播，计算梯度\n",
        "def backward(z1, h1, z2, h2, zout, y_pred, y_true, x):\n",
        "  dypred = y_pred - y_true\n",
        "  b3_grad = dypred * y_pred * (1- y_pred) # shape(1,)\n",
        "  w3_grad = b3_grad * h2.T # shape(2,1)\n",
        "\n",
        "  dh2 = np.outer(w3.T, b3_grad) #shape (1,2)\n",
        "  b2_grad = dh2 * (z2>0) #shape (1,2)\n",
        "  w2_grad = b2_grad* h1 #shape (2,2)\n",
        "\n",
        "  dh1 = np.dot(w2.T, b2_grad) #shape (2,1)\n",
        "  b1_grad = dh1 * (z1>0)\n",
        "  w1_grad = b1_grad * x# shape (2,1)\n",
        "\n",
        "  return w1_grad, w2_grad, w3_grad, b1_grad, b2_grad, b3_grad"
      ],
      "metadata": {
        "id": "qS8VYOxvIDyT"
      },
      "execution_count": null,
      "outputs": []
    },
    {
      "cell_type": "code",
      "source": [
        "#更新参数\n",
        "def update_params(w1, w2, w3, b1, b2, b3, w1_grad, w2_grad, w3_grad, b1_grad, b2_grad, b3_grad, learning_rate):\n",
        "  w1 -= learning_rate * w1_grad\n",
        "  w2 -= learning_rate * w2_grad\n",
        "  w3 -= learning_rate * w3_grad\n",
        "  b1 -= learning_rate * b1_grad\n",
        "  b2 -= learning_rate * b2_grad\n",
        "  b3 -= learning_rate * b3_grad\n",
        "  return w1, w2, w3, b1, b2, b3"
      ],
      "metadata": {
        "id": "Jfq2Ol7cQanL"
      },
      "execution_count": null,
      "outputs": []
    },
    {
      "cell_type": "code",
      "source": [
        "#参数初始化\n",
        "w1 = np.array([[0.2],\n",
        "        [-0.3]]) #shape (2,1)\n",
        "\n",
        "b1 = np.array([[0.1],\n",
        "        [-0.1]]) #shape (2,1)\n",
        "\n",
        "w2 = np.array([[0.4, -0.1],\n",
        "        [0.2, 0.5]]) #shape (2,2)\n",
        "\n",
        "b2 = np.array([[-0.2],\n",
        "        [0.3]]) # shape (2,1)\n",
        "\n",
        "w3 = np.array([[-0.6, 0.7]]) #shape (1,2)\n",
        "\n",
        "b3 = np.array([[0.1]]) #shape (1,1)\n",
        "\n",
        "learning_rate = 0.02\n",
        "\n",
        "x = np.array([1.5])\n",
        "y_true = np.array([0.6])\n",
        "\n",
        "epochs = 800\n",
        "losses = []\n",
        "\n",
        "for epoch in range(epochs):\n",
        "  z1, h1, z2, h2, zout, y_pred = forward(w1, w2, w3, b1, b2, b3, x)\n",
        "  loss = compute_loss(y_pred, y_true)\n",
        "  losses.append(loss)\n",
        "\n",
        "  w1_grad, w2_grad, w3_grad, b1_grad, b2_grad, b3_grad = backward(z1, h1, z2, h2, zout, y_pred, y_true, x)\n",
        "  w1, w2, w3, b1, b2, b3 = update_params(w1, w2, w3, b1, b2, b3, w1_grad, w2_grad, w3_grad, b1_grad, b2_grad, b3_grad, learning_rate)\n",
        "\n",
        "  if epoch%10 == 0:\n",
        "    print(\"Epoch:\", epoch + 1,\n",
        "      f\"loss: {loss}\",\n",
        "      f\"y_pred: {np.round(y_pred, 4)}\",\n",
        "      f\"w1_grad: {np.round(w1_grad.flatten(), 2)}\",\n",
        "      f\"w2_grad: {np.round(w2_grad.flatten(), 2)}\",\n",
        "      f\"w3_grad: {np.round(w3_grad.flatten(), 2)}\",\n",
        "      f\"b1_grad: {np.round(b1_grad.flatten(), 2)}\",\n",
        "      f\"b2_grad: {np.round(b2_grad.flatten(), 2)}\",\n",
        "      f\"b3_grad: {np.round(b3_grad.flatten(), 2)}\"\n",
        "      )\n",
        "\n",
        "plt.plot(range(epochs), losses, \"blue\")\n",
        "plt.xlabel(\"epoch axis\")\n",
        "plt.ylabel(\"loss axis\")\n",
        "plt.show()"
      ],
      "metadata": {
        "colab": {
          "base_uri": "https://localhost:8080/",
          "height": 1000
        },
        "id": "YksVvVVK-x4G",
        "outputId": "f9199f7a-4ab2-4ed0-f987-3eef49589c9d"
      },
      "execution_count": null,
      "outputs": [
        {
          "output_type": "stream",
          "name": "stdout",
          "text": [
            "Epoch: 1 loss: [4.5200224e-05] y_pred: [0.5905] w1_grad: [-0. -0.] w2_grad: [ 0. -0.] w3_grad: [-0. -0.] b1_grad: [-0. -0.] b2_grad: [ 0. -0.] b3_grad: [-0.]\n",
            "Epoch: 11 loss: [4.34384411e-05] y_pred: [0.5907] w1_grad: [-0. -0.] w2_grad: [ 0. -0.] w3_grad: [-0. -0.] b1_grad: [-0. -0.] b2_grad: [ 0. -0.] b3_grad: [-0.]\n",
            "Epoch: 21 loss: [4.17452584e-05] y_pred: [0.5909] w1_grad: [-0. -0.] w2_grad: [ 0. -0.] w3_grad: [-0. -0.] b1_grad: [-0. -0.] b2_grad: [ 0. -0.] b3_grad: [-0.]\n",
            "Epoch: 31 loss: [4.01180092e-05] y_pred: [0.591] w1_grad: [-0. -0.] w2_grad: [ 0. -0.] w3_grad: [-0. -0.] b1_grad: [-0. -0.] b2_grad: [ 0. -0.] b3_grad: [-0.]\n",
            "Epoch: 41 loss: [3.85541305e-05] y_pred: [0.5912] w1_grad: [-0. -0.] w2_grad: [ 0. -0.] w3_grad: [-0. -0.] b1_grad: [-0. -0.] b2_grad: [ 0. -0.] b3_grad: [-0.]\n",
            "Epoch: 51 loss: [3.70511584e-05] y_pred: [0.5914] w1_grad: [-0. -0.] w2_grad: [ 0. -0.] w3_grad: [-0. -0.] b1_grad: [-0. -0.] b2_grad: [ 0. -0.] b3_grad: [-0.]\n",
            "Epoch: 61 loss: [3.56067245e-05] y_pred: [0.5916] w1_grad: [-0. -0.] w2_grad: [ 0. -0.] w3_grad: [-0. -0.] b1_grad: [-0. -0.] b2_grad: [ 0. -0.] b3_grad: [-0.]\n",
            "Epoch: 71 loss: [3.42185525e-05] y_pred: [0.5917] w1_grad: [-0. -0.] w2_grad: [ 0. -0.] w3_grad: [-0. -0.] b1_grad: [-0. -0.] b2_grad: [ 0. -0.] b3_grad: [-0.]\n",
            "Epoch: 81 loss: [3.28844541e-05] y_pred: [0.5919] w1_grad: [-0. -0.] w2_grad: [ 0. -0.] w3_grad: [-0. -0.] b1_grad: [-0. -0.] b2_grad: [ 0. -0.] b3_grad: [-0.]\n",
            "Epoch: 91 loss: [3.1602326e-05] y_pred: [0.592] w1_grad: [-0. -0.] w2_grad: [ 0. -0.] w3_grad: [-0. -0.] b1_grad: [-0. -0.] b2_grad: [ 0. -0.] b3_grad: [-0.]\n",
            "Epoch: 101 loss: [3.03701465e-05] y_pred: [0.5922] w1_grad: [-0. -0.] w2_grad: [ 0. -0.] w3_grad: [-0. -0.] b1_grad: [-0. -0.] b2_grad: [ 0. -0.] b3_grad: [-0.]\n",
            "Epoch: 111 loss: [2.91859724e-05] y_pred: [0.5924] w1_grad: [-0. -0.] w2_grad: [ 0. -0.] w3_grad: [-0. -0.] b1_grad: [-0. -0.] b2_grad: [ 0. -0.] b3_grad: [-0.]\n",
            "Epoch: 121 loss: [2.80479359e-05] y_pred: [0.5925] w1_grad: [-0. -0.] w2_grad: [ 0. -0.] w3_grad: [-0. -0.] b1_grad: [-0. -0.] b2_grad: [ 0. -0.] b3_grad: [-0.]\n",
            "Epoch: 131 loss: [2.69542416e-05] y_pred: [0.5927] w1_grad: [-0. -0.] w2_grad: [ 0. -0.] w3_grad: [-0. -0.] b1_grad: [-0. -0.] b2_grad: [ 0. -0.] b3_grad: [-0.]\n",
            "Epoch: 141 loss: [2.59031641e-05] y_pred: [0.5928] w1_grad: [-0. -0.] w2_grad: [ 0. -0.] w3_grad: [-0. -0.] b1_grad: [-0. -0.] b2_grad: [ 0. -0.] b3_grad: [-0.]\n",
            "Epoch: 151 loss: [2.48930446e-05] y_pred: [0.5929] w1_grad: [-0. -0.] w2_grad: [ 0. -0.] w3_grad: [-0. -0.] b1_grad: [-0. -0.] b2_grad: [ 0. -0.] b3_grad: [-0.]\n",
            "Epoch: 161 loss: [2.39222891e-05] y_pred: [0.5931] w1_grad: [-0. -0.] w2_grad: [ 0. -0.] w3_grad: [-0. -0.] b1_grad: [-0. -0.] b2_grad: [ 0. -0.] b3_grad: [-0.]\n",
            "Epoch: 171 loss: [2.29893652e-05] y_pred: [0.5932] w1_grad: [-0. -0.] w2_grad: [ 0. -0.] w3_grad: [-0. -0.] b1_grad: [-0. -0.] b2_grad: [ 0. -0.] b3_grad: [-0.]\n",
            "Epoch: 181 loss: [2.20928003e-05] y_pred: [0.5934] w1_grad: [-0. -0.] w2_grad: [ 0. -0.] w3_grad: [-0. -0.] b1_grad: [-0. -0.] b2_grad: [ 0. -0.] b3_grad: [-0.]\n",
            "Epoch: 191 loss: [2.12311788e-05] y_pred: [0.5935] w1_grad: [-0. -0.] w2_grad: [ 0. -0.] w3_grad: [-0. -0.] b1_grad: [-0. -0.] b2_grad: [ 0. -0.] b3_grad: [-0.]\n",
            "Epoch: 201 loss: [2.04031403e-05] y_pred: [0.5936] w1_grad: [-0. -0.] w2_grad: [ 0. -0.] w3_grad: [-0. -0.] b1_grad: [-0. -0.] b2_grad: [ 0. -0.] b3_grad: [-0.]\n",
            "Epoch: 211 loss: [1.96073771e-05] y_pred: [0.5937] w1_grad: [-0. -0.] w2_grad: [ 0. -0.] w3_grad: [-0. -0.] b1_grad: [-0. -0.] b2_grad: [ 0. -0.] b3_grad: [-0.]\n",
            "Epoch: 221 loss: [1.88426324e-05] y_pred: [0.5939] w1_grad: [-0. -0.] w2_grad: [ 0. -0.] w3_grad: [-0. -0.] b1_grad: [-0. -0.] b2_grad: [ 0. -0.] b3_grad: [-0.]\n",
            "Epoch: 231 loss: [1.81076983e-05] y_pred: [0.594] w1_grad: [-0. -0.] w2_grad: [ 0. -0.] w3_grad: [-0. -0.] b1_grad: [-0. -0.] b2_grad: [ 0. -0.] b3_grad: [-0.]\n",
            "Epoch: 241 loss: [1.74014139e-05] y_pred: [0.5941] w1_grad: [-0. -0.] w2_grad: [ 0. -0.] w3_grad: [-0. -0.] b1_grad: [-0. -0.] b2_grad: [ 0. -0.] b3_grad: [-0.]\n",
            "Epoch: 251 loss: [1.67226633e-05] y_pred: [0.5942] w1_grad: [-0. -0.] w2_grad: [ 0. -0.] w3_grad: [-0. -0.] b1_grad: [-0. -0.] b2_grad: [ 0. -0.] b3_grad: [-0.]\n",
            "Epoch: 261 loss: [1.60703741e-05] y_pred: [0.5943] w1_grad: [-0. -0.] w2_grad: [ 0. -0.] w3_grad: [-0. -0.] b1_grad: [-0. -0.] b2_grad: [ 0. -0.] b3_grad: [-0.]\n",
            "Epoch: 271 loss: [1.54435155e-05] y_pred: [0.5944] w1_grad: [-0. -0.] w2_grad: [ 0. -0.] w3_grad: [-0. -0.] b1_grad: [-0. -0.] b2_grad: [ 0. -0.] b3_grad: [-0.]\n",
            "Epoch: 281 loss: [1.48410969e-05] y_pred: [0.5946] w1_grad: [-0. -0.] w2_grad: [ 0. -0.] w3_grad: [-0. -0.] b1_grad: [-0. -0.] b2_grad: [ 0. -0.] b3_grad: [-0.]\n",
            "Epoch: 291 loss: [1.42621662e-05] y_pred: [0.5947] w1_grad: [-0. -0.] w2_grad: [ 0. -0.] w3_grad: [-0. -0.] b1_grad: [-0. -0.] b2_grad: [ 0. -0.] b3_grad: [-0.]\n",
            "Epoch: 301 loss: [1.37058084e-05] y_pred: [0.5948] w1_grad: [-0. -0.] w2_grad: [ 0. -0.] w3_grad: [-0. -0.] b1_grad: [-0. -0.] b2_grad: [ 0. -0.] b3_grad: [-0.]\n",
            "Epoch: 311 loss: [1.3171144e-05] y_pred: [0.5949] w1_grad: [-0. -0.] w2_grad: [ 0. -0.] w3_grad: [-0. -0.] b1_grad: [-0. -0.] b2_grad: [ 0. -0.] b3_grad: [-0.]\n",
            "Epoch: 321 loss: [1.26573277e-05] y_pred: [0.595] w1_grad: [-0. -0.] w2_grad: [ 0. -0.] w3_grad: [-0. -0.] b1_grad: [-0. -0.] b2_grad: [ 0. -0.] b3_grad: [-0.]\n",
            "Epoch: 331 loss: [1.21635472e-05] y_pred: [0.5951] w1_grad: [-0. -0.] w2_grad: [ 0. -0.] w3_grad: [-0. -0.] b1_grad: [-0. -0.] b2_grad: [ 0. -0.] b3_grad: [-0.]\n",
            "Epoch: 341 loss: [1.16890218e-05] y_pred: [0.5952] w1_grad: [-0. -0.] w2_grad: [ 0. -0.] w3_grad: [-0. -0.] b1_grad: [-0. -0.] b2_grad: [ 0. -0.] b3_grad: [-0.]\n",
            "Epoch: 351 loss: [1.12330011e-05] y_pred: [0.5953] w1_grad: [-0. -0.] w2_grad: [ 0. -0.] w3_grad: [-0. -0.] b1_grad: [-0. -0.] b2_grad: [ 0. -0.] b3_grad: [-0.]\n",
            "Epoch: 361 loss: [1.07947641e-05] y_pred: [0.5954] w1_grad: [-0. -0.] w2_grad: [ 0. -0.] w3_grad: [-0. -0.] b1_grad: [-0. -0.] b2_grad: [ 0. -0.] b3_grad: [-0.]\n",
            "Epoch: 371 loss: [1.03736175e-05] y_pred: [0.5954] w1_grad: [-0. -0.] w2_grad: [ 0. -0.] w3_grad: [-0. -0.] b1_grad: [-0. -0.] b2_grad: [ 0. -0.] b3_grad: [-0.]\n",
            "Epoch: 381 loss: [9.96889544e-06] y_pred: [0.5955] w1_grad: [-0. -0.] w2_grad: [ 0. -0.] w3_grad: [-0. -0.] b1_grad: [-0. -0.] b2_grad: [ 0. -0.] b3_grad: [-0.]\n",
            "Epoch: 391 loss: [9.57995764e-06] y_pred: [0.5956] w1_grad: [-0. -0.] w2_grad: [ 0. -0.] w3_grad: [-0. -0.] b1_grad: [-0. -0.] b2_grad: [ 0. -0.] b3_grad: [-0.]\n",
            "Epoch: 401 loss: [9.20618891e-06] y_pred: [0.5957] w1_grad: [-0. -0.] w2_grad: [ 0. -0.] w3_grad: [-0. -0.] b1_grad: [-0. -0.] b2_grad: [ 0. -0.] b3_grad: [-0.]\n",
            "Epoch: 411 loss: [8.84699798e-06] y_pred: [0.5958] w1_grad: [-0. -0.] w2_grad: [ 0. -0.] w3_grad: [-0. -0.] b1_grad: [-0. -0.] b2_grad: [ 0. -0.] b3_grad: [-0.]\n",
            "Epoch: 421 loss: [8.5018166e-06] y_pred: [0.5959] w1_grad: [-0. -0.] w2_grad: [ 0. -0.] w3_grad: [-0. -0.] b1_grad: [-0. -0.] b2_grad: [ 0. -0.] b3_grad: [-0.]\n",
            "Epoch: 431 loss: [8.17009866e-06] y_pred: [0.596] w1_grad: [-0. -0.] w2_grad: [ 0. -0.] w3_grad: [-0. -0.] b1_grad: [-0. -0.] b2_grad: [ 0. -0.] b3_grad: [-0.]\n",
            "Epoch: 441 loss: [7.85131931e-06] y_pred: [0.596] w1_grad: [-0. -0.] w2_grad: [ 0. -0.] w3_grad: [-0. -0.] b1_grad: [-0. -0.] b2_grad: [ 0. -0.] b3_grad: [-0.]\n",
            "Epoch: 451 loss: [7.54497414e-06] y_pred: [0.5961] w1_grad: [-0. -0.] w2_grad: [ 0. -0.] w3_grad: [-0. -0.] b1_grad: [-0. -0.] b2_grad: [ 0. -0.] b3_grad: [-0.]\n",
            "Epoch: 461 loss: [7.2505784e-06] y_pred: [0.5962] w1_grad: [-0. -0.] w2_grad: [ 0. -0.] w3_grad: [-0. -0.] b1_grad: [-0. -0.] b2_grad: [ 0. -0.] b3_grad: [-0.]\n",
            "Epoch: 471 loss: [6.96766622e-06] y_pred: [0.5963] w1_grad: [-0. -0.] w2_grad: [ 0. -0.] w3_grad: [-0. -0.] b1_grad: [-0. -0.] b2_grad: [ 0. -0.] b3_grad: [-0.]\n",
            "Epoch: 481 loss: [6.69578986e-06] y_pred: [0.5963] w1_grad: [-0. -0.] w2_grad: [ 0. -0.] w3_grad: [-0. -0.] b1_grad: [-0. -0.] b2_grad: [ 0. -0.] b3_grad: [-0.]\n",
            "Epoch: 491 loss: [6.43451904e-06] y_pred: [0.5964] w1_grad: [-0. -0.] w2_grad: [ 0. -0.] w3_grad: [-0. -0.] b1_grad: [-0. -0.] b2_grad: [ 0. -0.] b3_grad: [-0.]\n",
            "Epoch: 501 loss: [6.18344025e-06] y_pred: [0.5965] w1_grad: [-0. -0.] w2_grad: [ 0. -0.] w3_grad: [-0. -0.] b1_grad: [-0. -0.] b2_grad: [ 0. -0.] b3_grad: [-0.]\n",
            "Epoch: 511 loss: [5.94215607e-06] y_pred: [0.5966] w1_grad: [-0. -0.] w2_grad: [ 0. -0.] w3_grad: [-0. -0.] b1_grad: [-0. -0.] b2_grad: [ 0. -0.] b3_grad: [-0.]\n",
            "Epoch: 521 loss: [5.71028458e-06] y_pred: [0.5966] w1_grad: [-0. -0.] w2_grad: [ 0. -0.] w3_grad: [-0. -0.] b1_grad: [-0. -0.] b2_grad: [ 0. -0.] b3_grad: [-0.]\n",
            "Epoch: 531 loss: [5.48745874e-06] y_pred: [0.5967] w1_grad: [-0. -0.] w2_grad: [ 0. -0.] w3_grad: [-0. -0.] b1_grad: [-0. -0.] b2_grad: [ 0. -0.] b3_grad: [-0.]\n",
            "Epoch: 541 loss: [5.27332581e-06] y_pred: [0.5968] w1_grad: [-0. -0.] w2_grad: [ 0. -0.] w3_grad: [-0. -0.] b1_grad: [-0. -0.] b2_grad: [ 0. -0.] b3_grad: [-0.]\n",
            "Epoch: 551 loss: [5.06754679e-06] y_pred: [0.5968] w1_grad: [-0. -0.] w2_grad: [ 0. -0.] w3_grad: [-0. -0.] b1_grad: [-0. -0.] b2_grad: [ 0. -0.] b3_grad: [-0.]\n",
            "Epoch: 561 loss: [4.86979591e-06] y_pred: [0.5969] w1_grad: [-0. -0.] w2_grad: [ 0. -0.] w3_grad: [-0. -0.] b1_grad: [-0. -0.] b2_grad: [ 0. -0.] b3_grad: [-0.]\n",
            "Epoch: 571 loss: [4.67976007e-06] y_pred: [0.5969] w1_grad: [-0. -0.] w2_grad: [ 0. -0.] w3_grad: [-0. -0.] b1_grad: [-0. -0.] b2_grad: [ 0. -0.] b3_grad: [-0.]\n",
            "Epoch: 581 loss: [4.4971384e-06] y_pred: [0.597] w1_grad: [-0. -0.] w2_grad: [ 0. -0.] w3_grad: [-0. -0.] b1_grad: [-0. -0.] b2_grad: [ 0. -0.] b3_grad: [-0.]\n",
            "Epoch: 591 loss: [4.32164174e-06] y_pred: [0.5971] w1_grad: [-0. -0.] w2_grad: [ 0. -0.] w3_grad: [-0. -0.] b1_grad: [-0. -0.] b2_grad: [ 0. -0.] b3_grad: [-0.]\n",
            "Epoch: 601 loss: [4.15299219e-06] y_pred: [0.5971] w1_grad: [-0. -0.] w2_grad: [ 0. -0.] w3_grad: [-0. -0.] b1_grad: [-0. -0.] b2_grad: [ 0. -0.] b3_grad: [-0.]\n",
            "Epoch: 611 loss: [3.99092272e-06] y_pred: [0.5972] w1_grad: [-0. -0.] w2_grad: [ 0. -0.] w3_grad: [-0. -0.] b1_grad: [-0. -0.] b2_grad: [ 0. -0.] b3_grad: [-0.]\n",
            "Epoch: 621 loss: [3.83517668e-06] y_pred: [0.5972] w1_grad: [-0. -0.] w2_grad: [ 0. -0.] w3_grad: [-0. -0.] b1_grad: [-0. -0.] b2_grad: [ 0. -0.] b3_grad: [-0.]\n",
            "Epoch: 631 loss: [3.68550741e-06] y_pred: [0.5973] w1_grad: [-0. -0.] w2_grad: [ 0. -0.] w3_grad: [-0. -0.] b1_grad: [-0. -0.] b2_grad: [ 0. -0.] b3_grad: [-0.]\n",
            "Epoch: 641 loss: [3.54167791e-06] y_pred: [0.5973] w1_grad: [-0. -0.] w2_grad: [ 0. -0.] w3_grad: [-0. -0.] b1_grad: [-0. -0.] b2_grad: [ 0. -0.] b3_grad: [-0.]\n",
            "Epoch: 651 loss: [3.40346039e-06] y_pred: [0.5974] w1_grad: [-0. -0.] w2_grad: [ 0. -0.] w3_grad: [-0. -0.] b1_grad: [-0. -0.] b2_grad: [ 0. -0.] b3_grad: [-0.]\n",
            "Epoch: 661 loss: [3.27063594e-06] y_pred: [0.5974] w1_grad: [-0. -0.] w2_grad: [ 0. -0.] w3_grad: [-0. -0.] b1_grad: [-0. -0.] b2_grad: [ 0. -0.] b3_grad: [-0.]\n",
            "Epoch: 671 loss: [3.1429942e-06] y_pred: [0.5975] w1_grad: [-0. -0.] w2_grad: [ 0. -0.] w3_grad: [-0. -0.] b1_grad: [-0. -0.] b2_grad: [ 0. -0.] b3_grad: [-0.]\n",
            "Epoch: 681 loss: [3.020333e-06] y_pred: [0.5975] w1_grad: [-0. -0.] w2_grad: [ 0. -0.] w3_grad: [-0. -0.] b1_grad: [-0. -0.] b2_grad: [ 0. -0.] b3_grad: [-0.]\n",
            "Epoch: 691 loss: [2.90245805e-06] y_pred: [0.5976] w1_grad: [-0. -0.] w2_grad: [ 0. -0.] w3_grad: [-0. -0.] b1_grad: [-0. -0.] b2_grad: [ 0. -0.] b3_grad: [-0.]\n",
            "Epoch: 701 loss: [2.78918264e-06] y_pred: [0.5976] w1_grad: [-0. -0.] w2_grad: [ 0. -0.] w3_grad: [-0. -0.] b1_grad: [-0. -0.] b2_grad: [ 0. -0.] b3_grad: [-0.]\n",
            "Epoch: 711 loss: [2.68032735e-06] y_pred: [0.5977] w1_grad: [-0. -0.] w2_grad: [ 0. -0.] w3_grad: [-0. -0.] b1_grad: [-0. -0.] b2_grad: [ 0. -0.] b3_grad: [-0.]\n",
            "Epoch: 721 loss: [2.57571974e-06] y_pred: [0.5977] w1_grad: [-0. -0.] w2_grad: [ 0. -0.] w3_grad: [-0. -0.] b1_grad: [-0. -0.] b2_grad: [ 0. -0.] b3_grad: [-0.]\n",
            "Epoch: 731 loss: [2.47519411e-06] y_pred: [0.5978] w1_grad: [-0. -0.] w2_grad: [ 0. -0.] w3_grad: [-0. -0.] b1_grad: [-0. -0.] b2_grad: [ 0. -0.] b3_grad: [-0.]\n",
            "Epoch: 741 loss: [2.37859121e-06] y_pred: [0.5978] w1_grad: [-0. -0.] w2_grad: [ 0. -0.] w3_grad: [-0. -0.] b1_grad: [-0. -0.] b2_grad: [ 0. -0.] b3_grad: [-0.]\n",
            "Epoch: 751 loss: [2.28575799e-06] y_pred: [0.5979] w1_grad: [-0. -0.] w2_grad: [ 0. -0.] w3_grad: [-0. -0.] b1_grad: [-0. -0.] b2_grad: [ 0. -0.] b3_grad: [-0.]\n",
            "Epoch: 761 loss: [2.19654741e-06] y_pred: [0.5979] w1_grad: [-0. -0.] w2_grad: [ 0. -0.] w3_grad: [-0. -0.] b1_grad: [-0. -0.] b2_grad: [ 0. -0.] b3_grad: [-0.]\n",
            "Epoch: 771 loss: [2.11081811e-06] y_pred: [0.5979] w1_grad: [-0. -0.] w2_grad: [ 0. -0.] w3_grad: [-0. -0.] b1_grad: [-0. -0.] b2_grad: [ 0. -0.] b3_grad: [-0.]\n",
            "Epoch: 781 loss: [2.02843428e-06] y_pred: [0.598] w1_grad: [-0. -0.] w2_grad: [ 0. -0.] w3_grad: [-0. -0.] b1_grad: [-0. -0.] b2_grad: [ 0. -0.] b3_grad: [-0.]\n",
            "Epoch: 791 loss: [1.9492654e-06] y_pred: [0.598] w1_grad: [-0. -0.] w2_grad: [ 0. -0.] w3_grad: [-0. -0.] b1_grad: [-0. -0.] b2_grad: [ 0. -0.] b3_grad: [-0.]\n"
          ]
        },
        {
          "output_type": "display_data",
          "data": {
            "text/plain": [
              "<Figure size 640x480 with 1 Axes>"
            ],
            "image/png": "[encoded data removed]"
          },
          "metadata": {}
        }
      ]
    },
    {
      "cell_type": "code",
      "source": [
        "import torch\n",
        "import matplotlib.pyplot as plt"
      ],
      "metadata": {
        "id": "GQakWTxQTSTd"
      },
      "execution_count": null,
      "outputs": []
    },
    {
      "cell_type": "code",
      "source": [
        "#前向传播\n",
        "def th_forward(w1, w2, w3, b1, b2, b3, x):\n",
        "  z1 = w1 * x + b1 #shape(2,1)\n",
        "  h1 = torch.relu(z1) # shape(2,1)\n",
        "\n",
        "  z2 = torch.matmul(w2, h1) + b2 # shape (2, 1)\n",
        "  h2 = torch.relu(z2) # shape(2, 1)\n",
        "\n",
        "  zout = torch.matmul(w3, h2) + b3 #shape (2,1)\n",
        "  y_pred = torch.sigmoid(zout).flatten()\n",
        "\n",
        "  return y_pred"
      ],
      "metadata": {
        "id": "sDZkCq2YUdJB"
      },
      "execution_count": null,
      "outputs": []
    },
    {
      "cell_type": "code",
      "source": [
        "#计算损失函数\n",
        "def compute_loss(y_pred, y_true):\n",
        "  loss = (y_pred - y_true)**2 /2\n",
        "  return loss"
      ],
      "metadata": {
        "id": "YTXwzDNbhqxi"
      },
      "execution_count": null,
      "outputs": []
    },
    {
      "cell_type": "code",
      "source": [
        "#参数初始化\n",
        "w1 = torch.tensor([[0.2],\n",
        "          [-0.3]],requires_grad= True) #shape (2,1)\n",
        "\n",
        "b1 = torch.tensor([[0.1],\n",
        "        [-0.1]],requires_grad=True) #shape (2,1)\n",
        "\n",
        "w2 = torch.tensor([[0.4, -0.1],\n",
        "        [0.2, 0.5]],requires_grad=True) #shape (2,2)\n",
        "\n",
        "b2 = torch.tensor([[-0.2],\n",
        "        [0.3]],requires_grad=True) # shape (2,1)\n",
        "\n",
        "w3 = torch.tensor([[-0.6, 0.7]],requires_grad=True) #shape (1,2)\n",
        "\n",
        "b3 = torch.tensor([[0.1]],requires_grad=True) #shape (1,1)\n",
        "\n",
        "x = torch.tensor([1.5])\n",
        "y_true = torch.tensor([0.6])\n",
        "\n",
        "learning_rate = 0.02\n",
        "epochs = 800\n",
        "\n",
        "losses = []\n",
        "\n",
        "for epoch in range(epochs):\n",
        "\n",
        "  y_pred = th_forward(w1, w2, w3, b1, b2, b3, x)\n",
        "  loss = compute_loss(y_pred, y_true)\n",
        "  losses.append(loss.item())\n",
        "\n",
        "  if w1.grad is not None:\n",
        "    w1.grad.zero_()\n",
        "    w2.grad.zero_()\n",
        "    w3.grad.zero_()\n",
        "    b1.grad.zero_()\n",
        "    b2.grad.zero_()\n",
        "    b3.grad.zero_()\n",
        "\n",
        "  loss.backward()\n",
        "\n",
        "  with torch.no_grad():\n",
        "    w1 -= learning_rate * w1.grad\n",
        "    w2 -= learning_rate * w2.grad\n",
        "    w3 -= learning_rate * w3.grad\n",
        "    b1 -= learning_rate * b1.grad\n",
        "    b2 -= learning_rate * b2.grad\n",
        "    b3 -= learning_rate * b3.grad\n",
        "\n",
        "  if epoch%10 == 0:\n",
        "    print(f\"Epoch: {epoch + 1}\",\n",
        "      f\"loss: {loss.item():0.4f}\",\n",
        "      f\"y_pred: {y_pred.item():0.2f}\",\n",
        "      f\"w1_grad: {w1.grad.flatten().numpy().round(2)}\",\n",
        "      f\"w2_grad: {w2.grad.flatten().numpy().round(2)}\",\n",
        "      f\"w3_grad: {w3.grad.flatten().numpy().round(2)}\",\n",
        "      f\"b1_grad: {b1.grad.flatten().numpy().round(2)}\",\n",
        "      f\"b2_grad: {b2.grad.flatten().numpy().round(2)}\",\n",
        "      f\"b3_grad: {b3.grad.flatten().numpy().round(2)}\"\n",
        "      )\n",
        "\n",
        "plt.plot(range(epochs), losses, \"yellow\")\n",
        "plt.xlabel(\"epoch axis\")\n",
        "plt.ylabel(\"loss axis\")\n",
        "plt.show()"
      ],
      "metadata": {
        "colab": {
          "base_uri": "https://localhost:8080/",
          "height": 1000
        },
        "id": "X5HwT4JfUDV9",
        "outputId": "133ce67b-1224-4c67-bc6e-831f8154ada7"
      },
      "execution_count": null,
      "outputs": [
        {
          "output_type": "stream",
          "name": "stdout",
          "text": [
            "Epoch: 1 loss: 0.0000 y_pred: 0.59 w1_grad: [-0.  0.] w2_grad: [ 0.  0. -0. -0.] w3_grad: [ 0. -0.] b1_grad: [-0.  0.] b2_grad: [ 0. -0.] b3_grad: [-0.]\n",
            "Epoch: 11 loss: 0.0000 y_pred: 0.59 w1_grad: [-0.  0.] w2_grad: [ 0.  0. -0.  0.] w3_grad: [ 0. -0.] b1_grad: [-0.  0.] b2_grad: [ 0. -0.] b3_grad: [-0.]\n",
            "Epoch: 21 loss: 0.0000 y_pred: 0.59 w1_grad: [-0.  0.] w2_grad: [ 0.  0. -0.  0.] w3_grad: [ 0. -0.] b1_grad: [-0.  0.] b2_grad: [ 0. -0.] b3_grad: [-0.]\n",
            "Epoch: 31 loss: 0.0000 y_pred: 0.59 w1_grad: [-0.  0.] w2_grad: [ 0.  0. -0.  0.] w3_grad: [ 0. -0.] b1_grad: [-0.  0.] b2_grad: [ 0. -0.] b3_grad: [-0.]\n",
            "Epoch: 41 loss: 0.0000 y_pred: 0.59 w1_grad: [-0.  0.] w2_grad: [ 0.  0. -0.  0.] w3_grad: [ 0. -0.] b1_grad: [-0.  0.] b2_grad: [ 0. -0.] b3_grad: [-0.]\n",
            "Epoch: 51 loss: 0.0000 y_pred: 0.59 w1_grad: [-0.  0.] w2_grad: [ 0.  0. -0.  0.] w3_grad: [ 0. -0.] b1_grad: [-0.  0.] b2_grad: [ 0. -0.] b3_grad: [-0.]\n",
            "Epoch: 61 loss: 0.0000 y_pred: 0.59 w1_grad: [-0.  0.] w2_grad: [ 0.  0. -0.  0.] w3_grad: [ 0. -0.] b1_grad: [-0.  0.] b2_grad: [ 0. -0.] b3_grad: [-0.]\n",
            "Epoch: 71 loss: 0.0000 y_pred: 0.59 w1_grad: [-0.  0.] w2_grad: [ 0.  0. -0.  0.] w3_grad: [ 0. -0.] b1_grad: [-0.  0.] b2_grad: [ 0. -0.] b3_grad: [-0.]\n",
            "Epoch: 81 loss: 0.0000 y_pred: 0.59 w1_grad: [-0.  0.] w2_grad: [ 0.  0. -0.  0.] w3_grad: [ 0. -0.] b1_grad: [-0.  0.] b2_grad: [ 0. -0.] b3_grad: [-0.]\n",
            "Epoch: 91 loss: 0.0000 y_pred: 0.59 w1_grad: [-0.  0.] w2_grad: [ 0.  0. -0.  0.] w3_grad: [ 0. -0.] b1_grad: [-0.  0.] b2_grad: [ 0. -0.] b3_grad: [-0.]\n",
            "Epoch: 101 loss: 0.0000 y_pred: 0.59 w1_grad: [-0.  0.] w2_grad: [ 0.  0. -0.  0.] w3_grad: [ 0. -0.] b1_grad: [-0.  0.] b2_grad: [ 0. -0.] b3_grad: [-0.]\n",
            "Epoch: 111 loss: 0.0000 y_pred: 0.59 w1_grad: [-0.  0.] w2_grad: [ 0.  0. -0.  0.] w3_grad: [ 0. -0.] b1_grad: [-0.  0.] b2_grad: [ 0. -0.] b3_grad: [-0.]\n",
            "Epoch: 121 loss: 0.0000 y_pred: 0.59 w1_grad: [-0.  0.] w2_grad: [ 0.  0. -0.  0.] w3_grad: [ 0. -0.] b1_grad: [-0.  0.] b2_grad: [ 0. -0.] b3_grad: [-0.]\n",
            "Epoch: 131 loss: 0.0000 y_pred: 0.59 w1_grad: [-0.  0.] w2_grad: [ 0.  0. -0.  0.] w3_grad: [ 0. -0.] b1_grad: [-0.  0.] b2_grad: [ 0. -0.] b3_grad: [-0.]\n",
            "Epoch: 141 loss: 0.0000 y_pred: 0.59 w1_grad: [-0.  0.] w2_grad: [ 0.  0. -0.  0.] w3_grad: [ 0. -0.] b1_grad: [-0.  0.] b2_grad: [ 0. -0.] b3_grad: [-0.]\n",
            "Epoch: 151 loss: 0.0000 y_pred: 0.59 w1_grad: [-0.  0.] w2_grad: [ 0.  0. -0.  0.] w3_grad: [ 0. -0.] b1_grad: [-0.  0.] b2_grad: [ 0. -0.] b3_grad: [-0.]\n",
            "Epoch: 161 loss: 0.0000 y_pred: 0.59 w1_grad: [-0.  0.] w2_grad: [ 0.  0. -0.  0.] w3_grad: [ 0. -0.] b1_grad: [-0.  0.] b2_grad: [ 0. -0.] b3_grad: [-0.]\n",
            "Epoch: 171 loss: 0.0000 y_pred: 0.59 w1_grad: [-0.  0.] w2_grad: [ 0.  0. -0.  0.] w3_grad: [ 0. -0.] b1_grad: [-0.  0.] b2_grad: [ 0. -0.] b3_grad: [-0.]\n",
            "Epoch: 181 loss: 0.0000 y_pred: 0.59 w1_grad: [-0.  0.] w2_grad: [ 0.  0. -0.  0.] w3_grad: [ 0. -0.] b1_grad: [-0.  0.] b2_grad: [ 0. -0.] b3_grad: [-0.]\n",
            "Epoch: 191 loss: 0.0000 y_pred: 0.59 w1_grad: [-0.  0.] w2_grad: [ 0.  0. -0.  0.] w3_grad: [ 0. -0.] b1_grad: [-0.  0.] b2_grad: [ 0. -0.] b3_grad: [-0.]\n",
            "Epoch: 201 loss: 0.0000 y_pred: 0.59 w1_grad: [-0.  0.] w2_grad: [ 0.  0. -0.  0.] w3_grad: [ 0. -0.] b1_grad: [-0.  0.] b2_grad: [ 0. -0.] b3_grad: [-0.]\n",
            "Epoch: 211 loss: 0.0000 y_pred: 0.59 w1_grad: [-0.  0.] w2_grad: [ 0.  0. -0.  0.] w3_grad: [ 0. -0.] b1_grad: [-0.  0.] b2_grad: [ 0. -0.] b3_grad: [-0.]\n",
            "Epoch: 221 loss: 0.0000 y_pred: 0.59 w1_grad: [-0.  0.] w2_grad: [ 0.  0. -0.  0.] w3_grad: [ 0. -0.] b1_grad: [-0.  0.] b2_grad: [ 0. -0.] b3_grad: [-0.]\n",
            "Epoch: 231 loss: 0.0000 y_pred: 0.59 w1_grad: [-0.  0.] w2_grad: [ 0.  0. -0.  0.] w3_grad: [ 0. -0.] b1_grad: [-0.  0.] b2_grad: [ 0. -0.] b3_grad: [-0.]\n",
            "Epoch: 241 loss: 0.0000 y_pred: 0.59 w1_grad: [-0.  0.] w2_grad: [ 0.  0. -0.  0.] w3_grad: [ 0. -0.] b1_grad: [-0.  0.] b2_grad: [ 0. -0.] b3_grad: [-0.]\n",
            "Epoch: 251 loss: 0.0000 y_pred: 0.59 w1_grad: [-0.  0.] w2_grad: [ 0.  0. -0.  0.] w3_grad: [ 0. -0.] b1_grad: [-0.  0.] b2_grad: [ 0. -0.] b3_grad: [-0.]\n",
            "Epoch: 261 loss: 0.0000 y_pred: 0.59 w1_grad: [-0.  0.] w2_grad: [ 0.  0. -0.  0.] w3_grad: [ 0. -0.] b1_grad: [-0.  0.] b2_grad: [ 0. -0.] b3_grad: [-0.]\n",
            "Epoch: 271 loss: 0.0000 y_pred: 0.59 w1_grad: [-0.  0.] w2_grad: [ 0.  0. -0.  0.] w3_grad: [ 0. -0.] b1_grad: [-0.  0.] b2_grad: [ 0. -0.] b3_grad: [-0.]\n",
            "Epoch: 281 loss: 0.0000 y_pred: 0.59 w1_grad: [-0.  0.] w2_grad: [ 0.  0. -0.  0.] w3_grad: [ 0. -0.] b1_grad: [-0.  0.] b2_grad: [ 0. -0.] b3_grad: [-0.]\n",
            "Epoch: 291 loss: 0.0000 y_pred: 0.59 w1_grad: [-0.  0.] w2_grad: [ 0.  0. -0.  0.] w3_grad: [ 0. -0.] b1_grad: [-0.  0.] b2_grad: [ 0. -0.] b3_grad: [-0.]\n",
            "Epoch: 301 loss: 0.0000 y_pred: 0.59 w1_grad: [-0.  0.] w2_grad: [ 0.  0. -0.  0.] w3_grad: [ 0. -0.] b1_grad: [-0.  0.] b2_grad: [ 0. -0.] b3_grad: [-0.]\n",
            "Epoch: 311 loss: 0.0000 y_pred: 0.60 w1_grad: [-0.  0.] w2_grad: [ 0.  0. -0.  0.] w3_grad: [ 0. -0.] b1_grad: [-0.  0.] b2_grad: [ 0. -0.] b3_grad: [-0.]\n",
            "Epoch: 321 loss: 0.0000 y_pred: 0.60 w1_grad: [-0.  0.] w2_grad: [ 0.  0. -0.  0.] w3_grad: [ 0. -0.] b1_grad: [-0.  0.] b2_grad: [ 0. -0.] b3_grad: [-0.]\n",
            "Epoch: 331 loss: 0.0000 y_pred: 0.60 w1_grad: [-0.  0.] w2_grad: [ 0.  0. -0.  0.] w3_grad: [ 0. -0.] b1_grad: [-0.  0.] b2_grad: [ 0. -0.] b3_grad: [-0.]\n",
            "Epoch: 341 loss: 0.0000 y_pred: 0.60 w1_grad: [-0.  0.] w2_grad: [ 0.  0. -0.  0.] w3_grad: [ 0. -0.] b1_grad: [-0.  0.] b2_grad: [ 0. -0.] b3_grad: [-0.]\n",
            "Epoch: 351 loss: 0.0000 y_pred: 0.60 w1_grad: [-0.  0.] w2_grad: [ 0.  0. -0.  0.] w3_grad: [ 0. -0.] b1_grad: [-0.  0.] b2_grad: [ 0. -0.] b3_grad: [-0.]\n",
            "Epoch: 361 loss: 0.0000 y_pred: 0.60 w1_grad: [-0.  0.] w2_grad: [ 0.  0. -0.  0.] w3_grad: [ 0. -0.] b1_grad: [-0.  0.] b2_grad: [ 0. -0.] b3_grad: [-0.]\n",
            "Epoch: 371 loss: 0.0000 y_pred: 0.60 w1_grad: [-0.  0.] w2_grad: [ 0.  0. -0.  0.] w3_grad: [ 0. -0.] b1_grad: [-0.  0.] b2_grad: [ 0. -0.] b3_grad: [-0.]\n",
            "Epoch: 381 loss: 0.0000 y_pred: 0.60 w1_grad: [-0.  0.] w2_grad: [ 0.  0. -0.  0.] w3_grad: [ 0. -0.] b1_grad: [-0.  0.] b2_grad: [ 0. -0.] b3_grad: [-0.]\n",
            "Epoch: 391 loss: 0.0000 y_pred: 0.60 w1_grad: [-0.  0.] w2_grad: [ 0.  0. -0.  0.] w3_grad: [ 0. -0.] b1_grad: [-0.  0.] b2_grad: [ 0. -0.] b3_grad: [-0.]\n",
            "Epoch: 401 loss: 0.0000 y_pred: 0.60 w1_grad: [-0.  0.] w2_grad: [ 0.  0. -0.  0.] w3_grad: [ 0. -0.] b1_grad: [-0.  0.] b2_grad: [ 0. -0.] b3_grad: [-0.]\n",
            "Epoch: 411 loss: 0.0000 y_pred: 0.60 w1_grad: [-0.  0.] w2_grad: [ 0.  0. -0.  0.] w3_grad: [ 0. -0.] b1_grad: [-0.  0.] b2_grad: [ 0. -0.] b3_grad: [-0.]\n",
            "Epoch: 421 loss: 0.0000 y_pred: 0.60 w1_grad: [-0.  0.] w2_grad: [ 0.  0. -0.  0.] w3_grad: [ 0. -0.] b1_grad: [-0.  0.] b2_grad: [ 0. -0.] b3_grad: [-0.]\n",
            "Epoch: 431 loss: 0.0000 y_pred: 0.60 w1_grad: [-0.  0.] w2_grad: [ 0.  0. -0.  0.] w3_grad: [ 0. -0.] b1_grad: [-0.  0.] b2_grad: [ 0. -0.] b3_grad: [-0.]\n",
            "Epoch: 441 loss: 0.0000 y_pred: 0.60 w1_grad: [-0.  0.] w2_grad: [ 0.  0. -0.  0.] w3_grad: [ 0. -0.] b1_grad: [-0.  0.] b2_grad: [ 0. -0.] b3_grad: [-0.]\n",
            "Epoch: 451 loss: 0.0000 y_pred: 0.60 w1_grad: [-0.  0.] w2_grad: [ 0.  0. -0.  0.] w3_grad: [ 0. -0.] b1_grad: [-0.  0.] b2_grad: [ 0. -0.] b3_grad: [-0.]\n",
            "Epoch: 461 loss: 0.0000 y_pred: 0.60 w1_grad: [-0.  0.] w2_grad: [ 0.  0. -0.  0.] w3_grad: [ 0. -0.] b1_grad: [-0.  0.] b2_grad: [ 0. -0.] b3_grad: [-0.]\n",
            "Epoch: 471 loss: 0.0000 y_pred: 0.60 w1_grad: [-0.  0.] w2_grad: [ 0.  0. -0.  0.] w3_grad: [ 0. -0.] b1_grad: [-0.  0.] b2_grad: [ 0. -0.] b3_grad: [-0.]\n",
            "Epoch: 481 loss: 0.0000 y_pred: 0.60 w1_grad: [-0.  0.] w2_grad: [ 0.  0. -0.  0.] w3_grad: [ 0. -0.] b1_grad: [-0.  0.] b2_grad: [ 0. -0.] b3_grad: [-0.]\n",
            "Epoch: 491 loss: 0.0000 y_pred: 0.60 w1_grad: [-0.  0.] w2_grad: [ 0.  0. -0.  0.] w3_grad: [ 0. -0.] b1_grad: [-0.  0.] b2_grad: [ 0. -0.] b3_grad: [-0.]\n",
            "Epoch: 501 loss: 0.0000 y_pred: 0.60 w1_grad: [-0.  0.] w2_grad: [ 0.  0. -0.  0.] w3_grad: [ 0. -0.] b1_grad: [-0.  0.] b2_grad: [ 0. -0.] b3_grad: [-0.]\n",
            "Epoch: 511 loss: 0.0000 y_pred: 0.60 w1_grad: [-0.  0.] w2_grad: [ 0.  0. -0.  0.] w3_grad: [ 0. -0.] b1_grad: [-0.  0.] b2_grad: [ 0. -0.] b3_grad: [-0.]\n",
            "Epoch: 521 loss: 0.0000 y_pred: 0.60 w1_grad: [-0.  0.] w2_grad: [ 0.  0. -0.  0.] w3_grad: [ 0. -0.] b1_grad: [-0.  0.] b2_grad: [ 0. -0.] b3_grad: [-0.]\n",
            "Epoch: 531 loss: 0.0000 y_pred: 0.60 w1_grad: [-0.  0.] w2_grad: [ 0.  0. -0.  0.] w3_grad: [ 0. -0.] b1_grad: [-0.  0.] b2_grad: [ 0. -0.] b3_grad: [-0.]\n",
            "Epoch: 541 loss: 0.0000 y_pred: 0.60 w1_grad: [-0.  0.] w2_grad: [ 0.  0. -0.  0.] w3_grad: [ 0. -0.] b1_grad: [-0.  0.] b2_grad: [ 0. -0.] b3_grad: [-0.]\n",
            "Epoch: 551 loss: 0.0000 y_pred: 0.60 w1_grad: [-0.  0.] w2_grad: [ 0.  0. -0.  0.] w3_grad: [ 0. -0.] b1_grad: [-0.  0.] b2_grad: [ 0. -0.] b3_grad: [-0.]\n",
            "Epoch: 561 loss: 0.0000 y_pred: 0.60 w1_grad: [-0.  0.] w2_grad: [ 0.  0. -0.  0.] w3_grad: [ 0. -0.] b1_grad: [-0.  0.] b2_grad: [ 0. -0.] b3_grad: [-0.]\n",
            "Epoch: 571 loss: 0.0000 y_pred: 0.60 w1_grad: [-0.  0.] w2_grad: [ 0.  0. -0.  0.] w3_grad: [ 0. -0.] b1_grad: [-0.  0.] b2_grad: [ 0. -0.] b3_grad: [-0.]\n",
            "Epoch: 581 loss: 0.0000 y_pred: 0.60 w1_grad: [-0.  0.] w2_grad: [ 0.  0. -0.  0.] w3_grad: [ 0. -0.] b1_grad: [-0.  0.] b2_grad: [ 0. -0.] b3_grad: [-0.]\n",
            "Epoch: 591 loss: 0.0000 y_pred: 0.60 w1_grad: [-0.  0.] w2_grad: [ 0.  0. -0.  0.] w3_grad: [ 0. -0.] b1_grad: [-0.  0.] b2_grad: [ 0. -0.] b3_grad: [-0.]\n",
            "Epoch: 601 loss: 0.0000 y_pred: 0.60 w1_grad: [-0.  0.] w2_grad: [ 0.  0. -0.  0.] w3_grad: [ 0. -0.] b1_grad: [-0.  0.] b2_grad: [ 0. -0.] b3_grad: [-0.]\n",
            "Epoch: 611 loss: 0.0000 y_pred: 0.60 w1_grad: [-0.  0.] w2_grad: [ 0.  0. -0.  0.] w3_grad: [ 0. -0.] b1_grad: [-0.  0.] b2_grad: [ 0. -0.] b3_grad: [-0.]\n",
            "Epoch: 621 loss: 0.0000 y_pred: 0.60 w1_grad: [-0.  0.] w2_grad: [ 0.  0. -0.  0.] w3_grad: [ 0. -0.] b1_grad: [-0.  0.] b2_grad: [ 0. -0.] b3_grad: [-0.]\n",
            "Epoch: 631 loss: 0.0000 y_pred: 0.60 w1_grad: [-0.  0.] w2_grad: [ 0.  0. -0.  0.] w3_grad: [ 0. -0.] b1_grad: [-0.  0.] b2_grad: [ 0. -0.] b3_grad: [-0.]\n",
            "Epoch: 641 loss: 0.0000 y_pred: 0.60 w1_grad: [-0.  0.] w2_grad: [ 0.  0. -0.  0.] w3_grad: [ 0. -0.] b1_grad: [-0.  0.] b2_grad: [ 0. -0.] b3_grad: [-0.]\n",
            "Epoch: 651 loss: 0.0000 y_pred: 0.60 w1_grad: [-0.  0.] w2_grad: [ 0.  0. -0.  0.] w3_grad: [ 0. -0.] b1_grad: [-0.  0.] b2_grad: [ 0. -0.] b3_grad: [-0.]\n",
            "Epoch: 661 loss: 0.0000 y_pred: 0.60 w1_grad: [-0.  0.] w2_grad: [ 0.  0. -0.  0.] w3_grad: [ 0. -0.] b1_grad: [-0.  0.] b2_grad: [ 0. -0.] b3_grad: [-0.]\n",
            "Epoch: 671 loss: 0.0000 y_pred: 0.60 w1_grad: [-0.  0.] w2_grad: [ 0.  0. -0.  0.] w3_grad: [ 0. -0.] b1_grad: [-0.  0.] b2_grad: [ 0. -0.] b3_grad: [-0.]\n",
            "Epoch: 681 loss: 0.0000 y_pred: 0.60 w1_grad: [-0.  0.] w2_grad: [ 0.  0. -0.  0.] w3_grad: [ 0. -0.] b1_grad: [-0.  0.] b2_grad: [ 0. -0.] b3_grad: [-0.]\n",
            "Epoch: 691 loss: 0.0000 y_pred: 0.60 w1_grad: [-0.  0.] w2_grad: [ 0.  0. -0.  0.] w3_grad: [ 0. -0.] b1_grad: [-0.  0.] b2_grad: [ 0. -0.] b3_grad: [-0.]\n",
            "Epoch: 701 loss: 0.0000 y_pred: 0.60 w1_grad: [-0.  0.] w2_grad: [ 0.  0. -0.  0.] w3_grad: [ 0. -0.] b1_grad: [-0.  0.] b2_grad: [ 0. -0.] b3_grad: [-0.]\n",
            "Epoch: 711 loss: 0.0000 y_pred: 0.60 w1_grad: [-0.  0.] w2_grad: [ 0.  0. -0.  0.] w3_grad: [ 0. -0.] b1_grad: [-0.  0.] b2_grad: [ 0. -0.] b3_grad: [-0.]\n",
            "Epoch: 721 loss: 0.0000 y_pred: 0.60 w1_grad: [-0.  0.] w2_grad: [ 0.  0. -0.  0.] w3_grad: [ 0. -0.] b1_grad: [-0.  0.] b2_grad: [ 0. -0.] b3_grad: [-0.]\n",
            "Epoch: 731 loss: 0.0000 y_pred: 0.60 w1_grad: [-0.  0.] w2_grad: [ 0.  0. -0.  0.] w3_grad: [ 0. -0.] b1_grad: [-0.  0.] b2_grad: [ 0. -0.] b3_grad: [-0.]\n",
            "Epoch: 741 loss: 0.0000 y_pred: 0.60 w1_grad: [-0.  0.] w2_grad: [ 0.  0. -0.  0.] w3_grad: [ 0. -0.] b1_grad: [-0.  0.] b2_grad: [ 0. -0.] b3_grad: [-0.]\n",
            "Epoch: 751 loss: 0.0000 y_pred: 0.60 w1_grad: [-0.  0.] w2_grad: [ 0.  0. -0.  0.] w3_grad: [ 0. -0.] b1_grad: [-0.  0.] b2_grad: [ 0. -0.] b3_grad: [-0.]\n",
            "Epoch: 761 loss: 0.0000 y_pred: 0.60 w1_grad: [-0.  0.] w2_grad: [ 0.  0. -0.  0.] w3_grad: [ 0. -0.] b1_grad: [-0.  0.] b2_grad: [ 0. -0.] b3_grad: [-0.]\n",
            "Epoch: 771 loss: 0.0000 y_pred: 0.60 w1_grad: [-0.  0.] w2_grad: [ 0.  0. -0.  0.] w3_grad: [ 0. -0.] b1_grad: [-0.  0.] b2_grad: [ 0. -0.] b3_grad: [-0.]\n",
            "Epoch: 781 loss: 0.0000 y_pred: 0.60 w1_grad: [-0.  0.] w2_grad: [ 0.  0. -0.  0.] w3_grad: [ 0. -0.] b1_grad: [-0.  0.] b2_grad: [ 0. -0.] b3_grad: [-0.]\n",
            "Epoch: 791 loss: 0.0000 y_pred: 0.60 w1_grad: [-0.  0.] w2_grad: [ 0.  0. -0.  0.] w3_grad: [ 0. -0.] b1_grad: [-0.  0.] b2_grad: [ 0. -0.] b3_grad: [-0.]\n"
          ]
        },
        {
          "output_type": "display_data",
          "data": {
            "text/plain": [
              "<Figure size 640x480 with 1 Axes>"
            ],
            "image/png": "[encoded data removed]"
          },
          "metadata": {}
        }
      ]
    }
  ]
}