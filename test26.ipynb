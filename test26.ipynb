{
  "nbformat": 4,
  "nbformat_minor": 0,
  "metadata": {
    "colab": {
      "provenance": [],
      "authorship_tag": "ABX9TyOlvwsnKg9FsoFguBRmyeFF"
    },
    "kernelspec": {
      "name": "python3",
      "display_name": "Python 3"
    },
    "language_info": {
      "name": "python"
    }
  },
  "cells": [
    {
      "cell_type": "code",
      "execution_count": null,
      "metadata": {
        "id": "SWbfhyEY-eST"
      },
      "outputs": [],
      "source": [
        "#考虑一个具有两个隐藏层的神经网络，结构如下：\n",
        "\n",
        "#一个输入节点 (x)\n",
        "#第一个隐藏层，包含 2 个 神经元 (h_{1,1}, h_{1,2})，均使用 ReLU 激活函数。\n",
        "#第二个隐藏层，包含 2 个 神经元 (h_{2,1}, h_{2,2})，均使用 ReLU 激活函数。\n",
        "#一个输出节点 (y_{pred})，使用 Sigmoid 激活函数。"
      ]
    },
    {
      "cell_type": "code",
      "source": [
        "import numpy as np\n",
        "import matplotlib.pyplot as plt"
      ],
      "metadata": {
        "id": "ule8IIx7BM37"
      },
      "execution_count": null,
      "outputs": []
    },
    {
      "cell_type": "code",
      "source": [
        "#计算relu函数\n",
        "def relu(a):\n",
        "  return np.maximum(0, a)"
      ],
      "metadata": {
        "id": "ygKHS7KDD0Kz"
      },
      "execution_count": null,
      "outputs": []
    },
    {
      "cell_type": "code",
      "source": [
        "#计算sigmoid函数\n",
        "def sigmoid(a):\n",
        "  return 1 / (1 + np.exp(-a))"
      ],
      "metadata": {
        "id": "DAVrTwlzETek"
      },
      "execution_count": null,
      "outputs": []
    },
    {
      "cell_type": "code",
      "source": [
        "#正向传播，求出y_pred\n",
        "def forward(w1, w2, w3, b1, b2, b3, x):\n",
        "  z1 = np.outer(w1, x) + b1 #shape(2,1)\n",
        "  h1 = relu(z1) # shape(2,1)\n",
        "\n",
        "  z2 = np.dot(w2, h1) + b2 # shape (2, 1)\n",
        "  h2 = relu(z2) # shape(2, 1)\n",
        "\n",
        "  zout = np.dot(w3, h2) + b3 #shape (2,1)\n",
        "  y_pred = sigmoid(zout).flatten()\n",
        "  return z1, h1, z2, h2, zout, y_pred"
      ],
      "metadata": {
        "id": "FPK25mV-Ej9D"
      },
      "execution_count": null,
      "outputs": []
    },
    {
      "cell_type": "code",
      "source": [
        "#计算损失函数loss\n",
        "def compute_loss(y_pred, y_true):\n",
        "  loss = (y_pred - y_true)**2 /2\n",
        "  return loss"
      ],
      "metadata": {
        "id": "Vq8as4BIHqMU"
      },
      "execution_count": null,
      "outputs": []
    },
    {
      "cell_type": "code",
      "source": [
        "#反向传播，计算梯度\n",
        "def backward(z1, h1, z2, h2, zout, y_pred, y_true, x):\n",
        "  dypred = y_pred - y_true\n",
        "  b3_grad = dypred * y_pred * (1- y_pred) # shape(1,)\n",
        "  w3_grad = np.dot(b3_grad.reshape(1,1), h2.T) # shape(2,1)\n",
        "\n",
        "  dh2 = np.outer(w3.T, b3_grad) #shape (1,2)\n",
        "  b2_grad = dh2 * (z2>0) #shape (1,2)\n",
        "  w2_grad = np.dot(b2_grad, h1.T) #shape (2,1)\n",
        "\n",
        "  dh1 = np.dot(w2.T, b2_grad) #shape (2,1)\n",
        "  b1_grad = dh1 * (z1>0)\n",
        "  w1_grad = np.outer(b1_grad.flatten(), x)# shape (2,1)\n",
        "\n",
        "  return w1_grad, w2_grad, w3_grad, b1_grad, b2_grad, b3_grad"
      ],
      "metadata": {
        "id": "qS8VYOxvIDyT"
      },
      "execution_count": 68,
      "outputs": []
    },
    {
      "cell_type": "code",
      "source": [
        "#更新参数\n",
        "def update_params(w1, w2, w3, b1, b2, b3, w1_grad, w2_grad, w3_grad, b1_grad, b2_grad, b3_grad, learning_rate):\n",
        "  w1 -= learning_rate * w1_grad\n",
        "  w2 -= learning_rate * w2_grad\n",
        "  w3 -= learning_rate * w3_grad\n",
        "  b1 -= learning_rate * b1_grad\n",
        "  b2 -= learning_rate * b2_grad\n",
        "  b3 -= learning_rate * b3_grad\n",
        "  return w1, w2, w3, b1, b2, b3"
      ],
      "metadata": {
        "id": "Jfq2Ol7cQanL"
      },
      "execution_count": null,
      "outputs": []
    },
    {
      "cell_type": "code",
      "source": [
        "#参数初始化\n",
        "w1 = np.array([[0.2],\n",
        "        [-0.3]]) #shape (2,1)\n",
        "\n",
        "b1 = np.array([[0.1],\n",
        "        [-0.1]]) #shape (2,1)\n",
        "\n",
        "w2 = np.array([[0.4, -0.1],\n",
        "        [0.2, 0.5]]) #shape (2,2)\n",
        "\n",
        "b2 = np.array([[-0.2],\n",
        "        [0.3]]) # shape (2,1)\n",
        "\n",
        "w3 = np.array([[-0.6, 0.7]]) #shape (1,2)\n",
        "\n",
        "b3 = np.array([[0.1]]) #shape (1,1)\n",
        "\n",
        "learning_rate = 0.03\n",
        "\n",
        "x = np.array([1.5])\n",
        "y_true = np.array([0.6])\n",
        "\n",
        "epochs = 800\n",
        "losses = []\n",
        "\n",
        "for epoch in range(epochs):\n",
        "  z1, h1, z2, h2, zout, y_pred = forward(w1, w2, w3, b1, b2, b3, x)\n",
        "  loss = compute_loss(y_pred, y_true)\n",
        "  losses.append(loss)\n",
        "\n",
        "  w1_grad, w2_grad, w3_grad, b1_grad, b2_grad, b3_grad = backward(z1, h1, z2, h2, zout, y_pred, y_true, x)\n",
        "  w1, w2, w3, b1, b2, b3 = update_params(w1, w2, w3, b1, b2, b3, w1_grad, w2_grad, w3_grad, b1_grad, b2_grad, b3_grad, learning_rate)\n",
        "\n",
        "  if epoch%10 == 0:\n",
        "    print(\"Epoch:\", epoch + 1,\n",
        "      f\"loss: {loss}\",\n",
        "      f\"y_pred: {np.round(y_pred, 4)}\",\n",
        "      f\"w1_grad: {np.round(w1_grad.flatten(), 2)}\",\n",
        "      f\"w2_grad: {np.round(w2_grad.flatten(), 2)}\",\n",
        "      f\"w3_grad: {np.round(w3_grad.flatten(), 2)}\",\n",
        "      f\"b1_grad: {np.round(b1_grad.flatten(), 2)}\",\n",
        "      f\"b2_grad: {np.round(b2_grad.flatten(), 2)}\",\n",
        "      f\"b3_grad: {np.round(b3_grad.flatten(), 2)}\"\n",
        "      )\n",
        "\n",
        "plt.plot(range(epochs), losses, \"blue\")\n",
        "plt.xlabel(\"epoch axis\")\n",
        "plt.ylabel(\"loss axis\")\n",
        "plt.show()"
      ],
      "metadata": {
        "colab": {
          "base_uri": "https://localhost:8080/",
          "height": 1000
        },
        "id": "YksVvVVK-x4G",
        "outputId": "03ec8791-9bac-4577-8b04-a6c2c91d2ff7"
      },
      "execution_count": 72,
      "outputs": [
        {
          "output_type": "stream",
          "name": "stdout",
          "text": [
            "Epoch: 1 loss: [4.5200224e-05] y_pred: [0.5905] w1_grad: [-0. -0.] w2_grad: [ 0.  0. -0.  0.] w3_grad: [ 0. -0.] b1_grad: [-0. -0.] b2_grad: [ 0. -0.] b3_grad: [-0.]\n",
            "Epoch: 11 loss: [4.24646527e-05] y_pred: [0.5908] w1_grad: [-0. -0.] w2_grad: [ 0.  0. -0.  0.] w3_grad: [ 0. -0.] b1_grad: [-0. -0.] b2_grad: [ 0. -0.] b3_grad: [-0.]\n",
            "Epoch: 21 loss: [3.98940904e-05] y_pred: [0.5911] w1_grad: [-0. -0.] w2_grad: [ 0.  0. -0.  0.] w3_grad: [ 0. -0.] b1_grad: [-0. -0.] b2_grad: [ 0. -0.] b3_grad: [-0.]\n",
            "Epoch: 31 loss: [3.74786344e-05] y_pred: [0.5913] w1_grad: [-0. -0.] w2_grad: [ 0.  0. -0.  0.] w3_grad: [ 0. -0.] b1_grad: [-0. -0.] b2_grad: [ 0. -0.] b3_grad: [-0.]\n",
            "Epoch: 41 loss: [3.52089714e-05] y_pred: [0.5916] w1_grad: [-0. -0.] w2_grad: [ 0.  0. -0.  0.] w3_grad: [ 0. -0.] b1_grad: [-0. -0.] b2_grad: [ 0. -0.] b3_grad: [-0.]\n",
            "Epoch: 51 loss: [3.30763434e-05] y_pred: [0.5919] w1_grad: [-0. -0.] w2_grad: [ 0.  0. -0.  0.] w3_grad: [ 0. -0.] b1_grad: [-0. -0.] b2_grad: [ 0. -0.] b3_grad: [-0.]\n",
            "Epoch: 61 loss: [3.10725143e-05] y_pred: [0.5921] w1_grad: [-0. -0.] w2_grad: [ 0.  0. -0.  0.] w3_grad: [ 0. -0.] b1_grad: [-0. -0.] b2_grad: [ 0. -0.] b3_grad: [-0.]\n",
            "Epoch: 71 loss: [2.91897398e-05] y_pred: [0.5924] w1_grad: [-0. -0.] w2_grad: [ 0.  0. -0.  0.] w3_grad: [ 0. -0.] b1_grad: [-0. -0.] b2_grad: [ 0. -0.] b3_grad: [-0.]\n",
            "Epoch: 81 loss: [2.7420738e-05] y_pred: [0.5926] w1_grad: [-0. -0.] w2_grad: [ 0.  0. -0.  0.] w3_grad: [ 0. -0.] b1_grad: [-0. -0.] b2_grad: [ 0. -0.] b3_grad: [-0.]\n",
            "Epoch: 91 loss: [2.57586622e-05] y_pred: [0.5928] w1_grad: [-0. -0.] w2_grad: [ 0.  0. -0.  0.] w3_grad: [ 0. -0.] b1_grad: [-0. -0.] b2_grad: [ 0. -0.] b3_grad: [-0.]\n",
            "Epoch: 101 loss: [2.41970751e-05] y_pred: [0.593] w1_grad: [-0. -0.] w2_grad: [ 0.  0. -0.  0.] w3_grad: [ 0. -0.] b1_grad: [-0. -0.] b2_grad: [ 0. -0.] b3_grad: [-0.]\n",
            "Epoch: 111 loss: [2.27299245e-05] y_pred: [0.5933] w1_grad: [-0. -0.] w2_grad: [ 0.  0. -0.  0.] w3_grad: [ 0. -0.] b1_grad: [-0. -0.] b2_grad: [ 0. -0.] b3_grad: [-0.]\n",
            "Epoch: 121 loss: [2.13515206e-05] y_pred: [0.5935] w1_grad: [-0. -0.] w2_grad: [ 0.  0. -0.  0.] w3_grad: [ 0. -0.] b1_grad: [-0. -0.] b2_grad: [ 0. -0.] b3_grad: [-0.]\n",
            "Epoch: 131 loss: [2.00565146e-05] y_pred: [0.5937] w1_grad: [-0. -0.] w2_grad: [ 0.  0. -0.  0.] w3_grad: [ 0. -0.] b1_grad: [-0. -0.] b2_grad: [ 0. -0.] b3_grad: [-0.]\n",
            "Epoch: 141 loss: [1.88398782e-05] y_pred: [0.5939] w1_grad: [-0. -0.] w2_grad: [ 0.  0. -0.  0.] w3_grad: [ 0. -0.] b1_grad: [-0. -0.] b2_grad: [ 0. -0.] b3_grad: [-0.]\n",
            "Epoch: 151 loss: [1.76968846e-05] y_pred: [0.5941] w1_grad: [-0. -0.] w2_grad: [ 0.  0. -0.  0.] w3_grad: [ 0. -0.] b1_grad: [-0. -0.] b2_grad: [ 0. -0.] b3_grad: [-0.]\n",
            "Epoch: 161 loss: [1.66230907e-05] y_pred: [0.5942] w1_grad: [-0. -0.] w2_grad: [ 0.  0. -0.  0.] w3_grad: [ 0. -0.] b1_grad: [-0. -0.] b2_grad: [ 0. -0.] b3_grad: [-0.]\n",
            "Epoch: 171 loss: [1.56143202e-05] y_pred: [0.5944] w1_grad: [-0. -0.] w2_grad: [ 0.  0. -0.  0.] w3_grad: [ 0. -0.] b1_grad: [-0. -0.] b2_grad: [ 0. -0.] b3_grad: [-0.]\n",
            "Epoch: 181 loss: [1.46666475e-05] y_pred: [0.5946] w1_grad: [-0. -0.] w2_grad: [ 0.  0. -0.  0.] w3_grad: [ 0. -0.] b1_grad: [-0. -0.] b2_grad: [ 0. -0.] b3_grad: [-0.]\n",
            "Epoch: 191 loss: [1.3776383e-05] y_pred: [0.5948] w1_grad: [-0. -0.] w2_grad: [ 0.  0. -0.  0.] w3_grad: [ 0. -0.] b1_grad: [-0. -0.] b2_grad: [ 0. -0.] b3_grad: [-0.]\n",
            "Epoch: 201 loss: [1.29400589e-05] y_pred: [0.5949] w1_grad: [-0. -0.] w2_grad: [ 0.  0. -0.  0.] w3_grad: [ 0. -0.] b1_grad: [-0. -0.] b2_grad: [ 0. -0.] b3_grad: [-0.]\n",
            "Epoch: 211 loss: [1.2154416e-05] y_pred: [0.5951] w1_grad: [-0. -0.] w2_grad: [ 0.  0. -0.  0.] w3_grad: [ 0. -0.] b1_grad: [-0. -0.] b2_grad: [ 0. -0.] b3_grad: [-0.]\n",
            "Epoch: 221 loss: [1.14163912e-05] y_pred: [0.5952] w1_grad: [-0. -0.] w2_grad: [ 0.  0. -0.  0.] w3_grad: [ 0. -0.] b1_grad: [-0. -0.] b2_grad: [ 0. -0.] b3_grad: [-0.]\n",
            "Epoch: 231 loss: [1.07231057e-05] y_pred: [0.5954] w1_grad: [-0. -0.] w2_grad: [ 0.  0. -0.  0.] w3_grad: [ 0. -0.] b1_grad: [-0. -0.] b2_grad: [ 0. -0.] b3_grad: [-0.]\n",
            "Epoch: 241 loss: [1.00718541e-05] y_pred: [0.5955] w1_grad: [-0. -0.] w2_grad: [ 0.  0. -0.  0.] w3_grad: [ 0. -0.] b1_grad: [-0. -0.] b2_grad: [ 0. -0.] b3_grad: [-0.]\n",
            "Epoch: 251 loss: [9.46009407e-06] y_pred: [0.5957] w1_grad: [-0. -0.] w2_grad: [ 0.  0. -0.  0.] w3_grad: [ 0. -0.] b1_grad: [-0. -0.] b2_grad: [ 0. -0.] b3_grad: [-0.]\n",
            "Epoch: 261 loss: [8.8854364e-06] y_pred: [0.5958] w1_grad: [-0. -0.] w2_grad: [ 0.  0. -0.  0.] w3_grad: [ 0. -0.] b1_grad: [-0. -0.] b2_grad: [ 0. -0.] b3_grad: [-0.]\n",
            "Epoch: 271 loss: [8.34563596e-06] y_pred: [0.5959] w1_grad: [-0. -0.] w2_grad: [ 0.  0. -0.  0.] w3_grad: [ 0. -0.] b1_grad: [-0. -0.] b2_grad: [ 0. -0.] b3_grad: [-0.]\n",
            "Epoch: 281 loss: [7.83858299e-06] y_pred: [0.596] w1_grad: [-0. -0.] w2_grad: [ 0.  0. -0.  0.] w3_grad: [ 0. -0.] b1_grad: [-0. -0.] b2_grad: [ 0. -0.] b3_grad: [-0.]\n",
            "Epoch: 291 loss: [7.36229502e-06] y_pred: [0.5962] w1_grad: [-0. -0.] w2_grad: [ 0.  0. -0.  0.] w3_grad: [ 0. -0.] b1_grad: [-0. -0.] b2_grad: [ 0. -0.] b3_grad: [-0.]\n",
            "Epoch: 301 loss: [6.9149092e-06] y_pred: [0.5963] w1_grad: [-0. -0.] w2_grad: [ 0.  0. -0.  0.] w3_grad: [ 0. -0.] b1_grad: [-0. -0.] b2_grad: [ 0. -0.] b3_grad: [-0.]\n",
            "Epoch: 311 loss: [6.49467515e-06] y_pred: [0.5964] w1_grad: [-0. -0.] w2_grad: [ 0.  0. -0.  0.] w3_grad: [ 0. -0.] b1_grad: [-0. -0.] b2_grad: [ 0. -0.] b3_grad: [-0.]\n",
            "Epoch: 321 loss: [6.09994817e-06] y_pred: [0.5965] w1_grad: [-0. -0.] w2_grad: [ 0.  0. -0.  0.] w3_grad: [ 0. -0.] b1_grad: [-0. -0.] b2_grad: [ 0. -0.] b3_grad: [-0.]\n",
            "Epoch: 331 loss: [5.72918291e-06] y_pred: [0.5966] w1_grad: [-0. -0.] w2_grad: [ 0.  0. -0.  0.] w3_grad: [ 0. -0.] b1_grad: [-0. -0.] b2_grad: [ 0. -0.] b3_grad: [-0.]\n",
            "Epoch: 341 loss: [5.38092738e-06] y_pred: [0.5967] w1_grad: [-0. -0.] w2_grad: [ 0.  0. -0.  0.] w3_grad: [ 0. -0.] b1_grad: [-0. -0.] b2_grad: [ 0. -0.] b3_grad: [-0.]\n",
            "Epoch: 351 loss: [5.05381733e-06] y_pred: [0.5968] w1_grad: [-0. -0.] w2_grad: [ 0.  0. -0.  0.] w3_grad: [ 0. -0.] b1_grad: [-0. -0.] b2_grad: [ 0. -0.] b3_grad: [-0.]\n",
            "Epoch: 361 loss: [4.74657099e-06] y_pred: [0.5969] w1_grad: [-0. -0.] w2_grad: [ 0.  0. -0.  0.] w3_grad: [ 0. -0.] b1_grad: [-0. -0.] b2_grad: [ 0. -0.] b3_grad: [-0.]\n",
            "Epoch: 371 loss: [4.4579841e-06] y_pred: [0.597] w1_grad: [-0. -0.] w2_grad: [ 0.  0. -0.  0.] w3_grad: [ 0. -0.] b1_grad: [-0. -0.] b2_grad: [ 0. -0.] b3_grad: [-0.]\n",
            "Epoch: 381 loss: [4.18692521e-06] y_pred: [0.5971] w1_grad: [-0. -0.] w2_grad: [ 0.  0. -0.  0.] w3_grad: [ 0. -0.] b1_grad: [-0. -0.] b2_grad: [ 0. -0.] b3_grad: [-0.]\n",
            "Epoch: 391 loss: [3.93233134e-06] y_pred: [0.5972] w1_grad: [-0. -0.] w2_grad: [ 0.  0. -0.  0.] w3_grad: [ 0. -0.] b1_grad: [-0. -0.] b2_grad: [ 0. -0.] b3_grad: [-0.]\n",
            "Epoch: 401 loss: [3.69320381e-06] y_pred: [0.5973] w1_grad: [-0. -0.] w2_grad: [ 0.  0. -0.  0.] w3_grad: [ 0. -0.] b1_grad: [-0. -0.] b2_grad: [ 0. -0.] b3_grad: [-0.]\n",
            "Epoch: 411 loss: [3.46860438e-06] y_pred: [0.5974] w1_grad: [-0. -0.] w2_grad: [ 0.  0. -0.  0.] w3_grad: [ 0. -0.] b1_grad: [-0. -0.] b2_grad: [ 0. -0.] b3_grad: [-0.]\n",
            "Epoch: 421 loss: [3.25765163e-06] y_pred: [0.5974] w1_grad: [-0. -0.] w2_grad: [ 0.  0. -0.  0.] w3_grad: [ 0. -0.] b1_grad: [-0. -0.] b2_grad: [ 0. -0.] b3_grad: [-0.]\n",
            "Epoch: 431 loss: [3.05951747e-06] y_pred: [0.5975] w1_grad: [-0. -0.] w2_grad: [ 0.  0. -0.  0.] w3_grad: [ 0. -0.] b1_grad: [-0. -0.] b2_grad: [ 0. -0.] b3_grad: [-0.]\n",
            "Epoch: 441 loss: [2.87342399e-06] y_pred: [0.5976] w1_grad: [-0. -0.] w2_grad: [ 0.  0. -0.  0.] w3_grad: [ 0. -0.] b1_grad: [-0. -0.] b2_grad: [ 0. -0.] b3_grad: [-0.]\n",
            "Epoch: 451 loss: [2.69864039e-06] y_pred: [0.5977] w1_grad: [-0. -0.] w2_grad: [ 0.  0. -0.  0.] w3_grad: [ 0. -0.] b1_grad: [-0. -0.] b2_grad: [ 0. -0.] b3_grad: [-0.]\n",
            "Epoch: 461 loss: [2.53448012e-06] y_pred: [0.5977] w1_grad: [-0. -0.] w2_grad: [ 0.  0. -0.  0.] w3_grad: [ 0. -0.] b1_grad: [-0. -0.] b2_grad: [ 0. -0.] b3_grad: [-0.]\n",
            "Epoch: 471 loss: [2.38029827e-06] y_pred: [0.5978] w1_grad: [-0. -0.] w2_grad: [ 0.  0. -0.  0.] w3_grad: [ 0. -0.] b1_grad: [-0. -0.] b2_grad: [ 0. -0.] b3_grad: [-0.]\n",
            "Epoch: 481 loss: [2.23548898e-06] y_pred: [0.5979] w1_grad: [-0. -0.] w2_grad: [ 0.  0. -0.  0.] w3_grad: [ 0. -0.] b1_grad: [-0. -0.] b2_grad: [ 0. -0.] b3_grad: [-0.]\n",
            "Epoch: 491 loss: [2.09948312e-06] y_pred: [0.598] w1_grad: [-0. -0.] w2_grad: [ 0.  0. -0.  0.] w3_grad: [ 0. -0.] b1_grad: [-0. -0.] b2_grad: [ 0. -0.] b3_grad: [-0.]\n",
            "Epoch: 501 loss: [1.97174608e-06] y_pred: [0.598] w1_grad: [-0. -0.] w2_grad: [ 0.  0. -0.  0.] w3_grad: [ 0. -0.] b1_grad: [-0. -0.] b2_grad: [ 0. -0.] b3_grad: [-0.]\n",
            "Epoch: 511 loss: [1.85177565e-06] y_pred: [0.5981] w1_grad: [-0. -0.] w2_grad: [ 0.  0. -0.  0.] w3_grad: [ 0. -0.] b1_grad: [-0. -0.] b2_grad: [ 0. -0.] b3_grad: [-0.]\n",
            "Epoch: 521 loss: [1.73910007e-06] y_pred: [0.5981] w1_grad: [-0. -0.] w2_grad: [ 0.  0. -0.  0.] w3_grad: [ 0. -0.] b1_grad: [-0. -0.] b2_grad: [ 0. -0.] b3_grad: [-0.]\n",
            "Epoch: 531 loss: [1.6332762e-06] y_pred: [0.5982] w1_grad: [-0. -0.] w2_grad: [ 0.  0. -0.  0.] w3_grad: [ 0. -0.] b1_grad: [-0. -0.] b2_grad: [ 0. -0.] b3_grad: [-0.]\n",
            "Epoch: 541 loss: [1.53388779e-06] y_pred: [0.5982] w1_grad: [-0. -0.] w2_grad: [ 0.  0. -0.  0.] w3_grad: [ 0. -0.] b1_grad: [-0. -0.] b2_grad: [ 0. -0.] b3_grad: [-0.]\n",
            "Epoch: 551 loss: [1.44054382e-06] y_pred: [0.5983] w1_grad: [-0. -0.] w2_grad: [ 0.  0. -0.  0.] w3_grad: [ 0. -0.] b1_grad: [-0. -0.] b2_grad: [ 0. -0.] b3_grad: [-0.]\n",
            "Epoch: 561 loss: [1.35287703e-06] y_pred: [0.5984] w1_grad: [-0. -0.] w2_grad: [ 0.  0. -0.  0.] w3_grad: [ 0. -0.] b1_grad: [-0. -0.] b2_grad: [ 0. -0.] b3_grad: [-0.]\n",
            "Epoch: 571 loss: [1.27054241e-06] y_pred: [0.5984] w1_grad: [-0. -0.] w2_grad: [ 0.  0. -0.  0.] w3_grad: [ 0. -0.] b1_grad: [-0. -0.] b2_grad: [ 0. -0.] b3_grad: [-0.]\n",
            "Epoch: 581 loss: [1.19321591e-06] y_pred: [0.5985] w1_grad: [-0. -0.] w2_grad: [ 0.  0. -0.  0.] w3_grad: [ 0. -0.] b1_grad: [-0. -0.] b2_grad: [ 0. -0.] b3_grad: [-0.]\n",
            "Epoch: 591 loss: [1.12059314e-06] y_pred: [0.5985] w1_grad: [-0. -0.] w2_grad: [ 0.  0. -0.  0.] w3_grad: [ 0. -0.] b1_grad: [-0. -0.] b2_grad: [ 0. -0.] b3_grad: [-0.]\n",
            "Epoch: 601 loss: [1.05238821e-06] y_pred: [0.5985] w1_grad: [-0. -0.] w2_grad: [ 0.  0. -0.  0.] w3_grad: [ 0. -0.] b1_grad: [-0. -0.] b2_grad: [ 0. -0.] b3_grad: [-0.]\n",
            "Epoch: 611 loss: [9.88332561e-07] y_pred: [0.5986] w1_grad: [-0. -0.] w2_grad: [ 0.  0. -0.  0.] w3_grad: [ 0. -0.] b1_grad: [-0. -0.] b2_grad: [ 0. -0.] b3_grad: [-0.]\n",
            "Epoch: 621 loss: [9.2817395e-07] y_pred: [0.5986] w1_grad: [-0. -0.] w2_grad: [ 0.  0. -0.  0.] w3_grad: [ 0. -0.] b1_grad: [-0. -0.] b2_grad: [ 0. -0.] b3_grad: [-0.]\n",
            "Epoch: 631 loss: [8.71675454e-07] y_pred: [0.5987] w1_grad: [-0. -0.] w2_grad: [ 0.  0. -0.  0.] w3_grad: [ 0. -0.] b1_grad: [-0. -0.] b2_grad: [ 0. -0.] b3_grad: [-0.]\n",
            "Epoch: 641 loss: [8.1861454e-07] y_pred: [0.5987] w1_grad: [-0. -0.] w2_grad: [ 0.  0. -0.  0.] w3_grad: [ 0. -0.] b1_grad: [-0. -0.] b2_grad: [ 0. -0.] b3_grad: [-0.]\n",
            "Epoch: 651 loss: [7.68782188e-07] y_pred: [0.5988] w1_grad: [-0. -0.] w2_grad: [ 0.  0. -0.  0.] w3_grad: [ 0. -0.] b1_grad: [-0. -0.] b2_grad: [ 0. -0.] b3_grad: [-0.]\n",
            "Epoch: 661 loss: [7.21982077e-07] y_pred: [0.5988] w1_grad: [-0. -0.] w2_grad: [ 0.  0. -0.  0.] w3_grad: [ 0. -0.] b1_grad: [-0. -0.] b2_grad: [ 0. -0.] b3_grad: [-0.]\n",
            "Epoch: 671 loss: [6.78029811e-07] y_pred: [0.5988] w1_grad: [-0. -0.] w2_grad: [ 0.  0. -0.  0.] w3_grad: [ 0. -0.] b1_grad: [-0. -0.] b2_grad: [ 0. -0.] b3_grad: [-0.]\n",
            "Epoch: 681 loss: [6.36752199e-07] y_pred: [0.5989] w1_grad: [-0. -0.] w2_grad: [ 0.  0. -0.  0.] w3_grad: [ 0. -0.] b1_grad: [-0. -0.] b2_grad: [ 0. -0.] b3_grad: [-0.]\n",
            "Epoch: 691 loss: [5.97986572e-07] y_pred: [0.5989] w1_grad: [-0. -0.] w2_grad: [ 0.  0. -0.  0.] w3_grad: [ 0. -0.] b1_grad: [-0. -0.] b2_grad: [ 0. -0.] b3_grad: [-0.]\n",
            "Epoch: 701 loss: [5.61580146e-07] y_pred: [0.5989] w1_grad: [-0. -0.] w2_grad: [ 0.  0. -0.  0.] w3_grad: [ 0. -0.] b1_grad: [-0. -0.] b2_grad: [ 0. -0.] b3_grad: [-0.]\n",
            "Epoch: 711 loss: [5.27389422e-07] y_pred: [0.599] w1_grad: [-0. -0.] w2_grad: [ 0.  0. -0.  0.] w3_grad: [ 0. -0.] b1_grad: [-0. -0.] b2_grad: [ 0. -0.] b3_grad: [-0.]\n",
            "Epoch: 721 loss: [4.95279623e-07] y_pred: [0.599] w1_grad: [-0. -0.] w2_grad: [ 0.  0. -0.  0.] w3_grad: [ 0. -0.] b1_grad: [-0. -0.] b2_grad: [ 0. -0.] b3_grad: [-0.]\n",
            "Epoch: 731 loss: [4.65124163e-07] y_pred: [0.599] w1_grad: [-0. -0.] w2_grad: [ 0.  0. -0.  0.] w3_grad: [ 0. -0.] b1_grad: [-0. -0.] b2_grad: [ 0. -0.] b3_grad: [-0.]\n",
            "Epoch: 741 loss: [4.36804152e-07] y_pred: [0.5991] w1_grad: [-0. -0.] w2_grad: [ 0.  0. -0.  0.] w3_grad: [ 0. -0.] b1_grad: [-0. -0.] b2_grad: [ 0. -0.] b3_grad: [-0.]\n",
            "Epoch: 751 loss: [4.10207924e-07] y_pred: [0.5991] w1_grad: [-0. -0.] w2_grad: [ 0.  0. -0.  0.] w3_grad: [ 0. -0.] b1_grad: [-0. -0.] b2_grad: [ 0. -0.] b3_grad: [-0.]\n",
            "Epoch: 761 loss: [3.85230607e-07] y_pred: [0.5991] w1_grad: [-0. -0.] w2_grad: [ 0.  0. -0.  0.] w3_grad: [ 0. -0.] b1_grad: [-0. -0.] b2_grad: [ 0. -0.] b3_grad: [-0.]\n",
            "Epoch: 771 loss: [3.617737e-07] y_pred: [0.5991] w1_grad: [-0. -0.] w2_grad: [ 0.  0. -0.  0.] w3_grad: [ 0. -0.] b1_grad: [-0. -0.] b2_grad: [ 0. -0.] b3_grad: [-0.]\n",
            "Epoch: 781 loss: [3.39744693e-07] y_pred: [0.5992] w1_grad: [-0. -0.] w2_grad: [ 0.  0. -0.  0.] w3_grad: [ 0. -0.] b1_grad: [-0. -0.] b2_grad: [ 0. -0.] b3_grad: [-0.]\n",
            "Epoch: 791 loss: [3.19056703e-07] y_pred: [0.5992] w1_grad: [-0. -0.] w2_grad: [ 0.  0. -0.  0.] w3_grad: [ 0. -0.] b1_grad: [-0. -0.] b2_grad: [ 0. -0.] b3_grad: [-0.]\n"
          ]
        },
        {
          "output_type": "display_data",
          "data": {
            "text/plain": [
              "<Figure size 640x480 with 1 Axes>"
            ],
            "image/png": "[encoded data removed]"
          },
          "metadata": {}
        }
      ]
    },
    {
      "cell_type": "code",
      "source": [
        "import torch\n",
        "import matplotlib.pyplot as plt"
      ],
      "metadata": {
        "id": "GQakWTxQTSTd"
      },
      "execution_count": null,
      "outputs": []
    },
    {
      "cell_type": "code",
      "source": [
        "#前向传播\n",
        "def th_forward(w1, w2, w3, b1, b2, b3, x):\n",
        "  z1 = torch.matmul(w1, x.reshape(1,1)) + b1 #shape(2,1)\n",
        "  h1 = torch.relu(z1) # shape(2,1)\n",
        "\n",
        "  z2 = torch.matmul(w2, h1) + b2 # shape (2, 1)\n",
        "  h2 = torch.relu(z2) # shape(2, 1)\n",
        "\n",
        "  zout = torch.matmul(w3, h2) + b3 #shape (2,1)\n",
        "  y_pred = torch.sigmoid(zout).flatten()\n",
        "\n",
        "  return y_pred"
      ],
      "metadata": {
        "id": "sDZkCq2YUdJB"
      },
      "execution_count": 61,
      "outputs": []
    },
    {
      "cell_type": "code",
      "source": [
        "#计算损失函数\n",
        "def compute_loss(y_pred, y_true):\n",
        "  loss = (y_pred - y_true)**2 /2\n",
        "  return loss"
      ],
      "metadata": {
        "id": "YTXwzDNbhqxi"
      },
      "execution_count": null,
      "outputs": []
    },
    {
      "cell_type": "code",
      "source": [
        "#参数初始化\n",
        "w1 = torch.tensor([[0.2],\n",
        "          [-0.3]],requires_grad= True) #shape (2,1)\n",
        "\n",
        "b1 = torch.tensor([[0.1],\n",
        "        [-0.1]],requires_grad=True) #shape (2,1)\n",
        "\n",
        "w2 = torch.tensor([[0.4, -0.1],\n",
        "        [0.2, 0.5]],requires_grad=True) #shape (2,2)\n",
        "\n",
        "b2 = torch.tensor([[-0.2],\n",
        "        [0.3]],requires_grad=True) # shape (2,1)\n",
        "\n",
        "w3 = torch.tensor([[-0.6, 0.7]],requires_grad=True) #shape (1,2)\n",
        "\n",
        "b3 = torch.tensor([[0.1]],requires_grad=True) #shape (1,1)\n",
        "\n",
        "x = torch.tensor([1.5])\n",
        "y_true = torch.tensor([0.6])\n",
        "\n",
        "learning_rate = 0.02\n",
        "epochs = 800\n",
        "\n",
        "losses = []\n",
        "\n",
        "for epoch in range(epochs):\n",
        "\n",
        "  y_pred = th_forward(w1, w2, w3, b1, b2, b3, x)\n",
        "  loss = compute_loss(y_pred, y_true)\n",
        "  losses.append(loss.item())\n",
        "\n",
        "  if w1.grad is not None:\n",
        "    w1.grad.zero_()\n",
        "    w2.grad.zero_()\n",
        "    w3.grad.zero_()\n",
        "    b1.grad.zero_()\n",
        "    b2.grad.zero_()\n",
        "    b3.grad.zero_()\n",
        "\n",
        "  loss.backward()\n",
        "\n",
        "  with torch.no_grad():\n",
        "    w1 -= learning_rate * w1.grad\n",
        "    w2 -= learning_rate * w2.grad\n",
        "    w3 -= learning_rate * w3.grad\n",
        "    b1 -= learning_rate * b1.grad\n",
        "    b2 -= learning_rate * b2.grad\n",
        "    b3 -= learning_rate * b3.grad\n",
        "\n",
        "  if epoch%10 == 0:\n",
        "    print(f\"Epoch: {epoch + 1}\",\n",
        "      f\"loss: {loss.item():0.4f}\",\n",
        "      f\"y_pred: {y_pred.item():0.2f}\",\n",
        "      f\"w1_grad: {w1.grad.flatten().numpy().round(2)}\",\n",
        "      f\"w2_grad: {w2.grad.flatten().numpy().round(2)}\",\n",
        "      f\"w3_grad: {w3.grad.flatten().numpy().round(2)}\",\n",
        "      f\"b1_grad: {b1.grad.flatten().numpy().round(2)}\",\n",
        "      f\"b2_grad: {b2.grad.flatten().numpy().round(2)}\",\n",
        "      f\"b3_grad: {b3.grad.flatten().numpy().round(2)}\"\n",
        "      )\n",
        "\n",
        "plt.plot(range(epochs), losses, \"yellow\")\n",
        "plt.xlabel(\"epoch axis\")\n",
        "plt.ylabel(\"loss axis\")\n",
        "plt.show()"
      ],
      "metadata": {
        "colab": {
          "base_uri": "https://localhost:8080/",
          "height": 1000
        },
        "id": "X5HwT4JfUDV9",
        "outputId": "133ce67b-1224-4c67-bc6e-831f8154ada7"
      },
      "execution_count": null,
      "outputs": [
        {
          "output_type": "stream",
          "name": "stdout",
          "text": [
            "Epoch: 1 loss: 0.0000 y_pred: 0.59 w1_grad: [-0.  0.] w2_grad: [ 0.  0. -0. -0.] w3_grad: [ 0. -0.] b1_grad: [-0.  0.] b2_grad: [ 0. -0.] b3_grad: [-0.]\n",
            "Epoch: 11 loss: 0.0000 y_pred: 0.59 w1_grad: [-0.  0.] w2_grad: [ 0.  0. -0.  0.] w3_grad: [ 0. -0.] b1_grad: [-0.  0.] b2_grad: [ 0. -0.] b3_grad: [-0.]\n",
            "Epoch: 21 loss: 0.0000 y_pred: 0.59 w1_grad: [-0.  0.] w2_grad: [ 0.  0. -0.  0.] w3_grad: [ 0. -0.] b1_grad: [-0.  0.] b2_grad: [ 0. -0.] b3_grad: [-0.]\n",
            "Epoch: 31 loss: 0.0000 y_pred: 0.59 w1_grad: [-0.  0.] w2_grad: [ 0.  0. -0.  0.] w3_grad: [ 0. -0.] b1_grad: [-0.  0.] b2_grad: [ 0. -0.] b3_grad: [-0.]\n",
            "Epoch: 41 loss: 0.0000 y_pred: 0.59 w1_grad: [-0.  0.] w2_grad: [ 0.  0. -0.  0.] w3_grad: [ 0. -0.] b1_grad: [-0.  0.] b2_grad: [ 0. -0.] b3_grad: [-0.]\n",
            "Epoch: 51 loss: 0.0000 y_pred: 0.59 w1_grad: [-0.  0.] w2_grad: [ 0.  0. -0.  0.] w3_grad: [ 0. -0.] b1_grad: [-0.  0.] b2_grad: [ 0. -0.] b3_grad: [-0.]\n",
            "Epoch: 61 loss: 0.0000 y_pred: 0.59 w1_grad: [-0.  0.] w2_grad: [ 0.  0. -0.  0.] w3_grad: [ 0. -0.] b1_grad: [-0.  0.] b2_grad: [ 0. -0.] b3_grad: [-0.]\n",
            "Epoch: 71 loss: 0.0000 y_pred: 0.59 w1_grad: [-0.  0.] w2_grad: [ 0.  0. -0.  0.] w3_grad: [ 0. -0.] b1_grad: [-0.  0.] b2_grad: [ 0. -0.] b3_grad: [-0.]\n",
            "Epoch: 81 loss: 0.0000 y_pred: 0.59 w1_grad: [-0.  0.] w2_grad: [ 0.  0. -0.  0.] w3_grad: [ 0. -0.] b1_grad: [-0.  0.] b2_grad: [ 0. -0.] b3_grad: [-0.]\n",
            "Epoch: 91 loss: 0.0000 y_pred: 0.59 w1_grad: [-0.  0.] w2_grad: [ 0.  0. -0.  0.] w3_grad: [ 0. -0.] b1_grad: [-0.  0.] b2_grad: [ 0. -0.] b3_grad: [-0.]\n",
            "Epoch: 101 loss: 0.0000 y_pred: 0.59 w1_grad: [-0.  0.] w2_grad: [ 0.  0. -0.  0.] w3_grad: [ 0. -0.] b1_grad: [-0.  0.] b2_grad: [ 0. -0.] b3_grad: [-0.]\n",
            "Epoch: 111 loss: 0.0000 y_pred: 0.59 w1_grad: [-0.  0.] w2_grad: [ 0.  0. -0.  0.] w3_grad: [ 0. -0.] b1_grad: [-0.  0.] b2_grad: [ 0. -0.] b3_grad: [-0.]\n",
            "Epoch: 121 loss: 0.0000 y_pred: 0.59 w1_grad: [-0.  0.] w2_grad: [ 0.  0. -0.  0.] w3_grad: [ 0. -0.] b1_grad: [-0.  0.] b2_grad: [ 0. -0.] b3_grad: [-0.]\n",
            "Epoch: 131 loss: 0.0000 y_pred: 0.59 w1_grad: [-0.  0.] w2_grad: [ 0.  0. -0.  0.] w3_grad: [ 0. -0.] b1_grad: [-0.  0.] b2_grad: [ 0. -0.] b3_grad: [-0.]\n",
            "Epoch: 141 loss: 0.0000 y_pred: 0.59 w1_grad: [-0.  0.] w2_grad: [ 0.  0. -0.  0.] w3_grad: [ 0. -0.] b1_grad: [-0.  0.] b2_grad: [ 0. -0.] b3_grad: [-0.]\n",
            "Epoch: 151 loss: 0.0000 y_pred: 0.59 w1_grad: [-0.  0.] w2_grad: [ 0.  0. -0.  0.] w3_grad: [ 0. -0.] b1_grad: [-0.  0.] b2_grad: [ 0. -0.] b3_grad: [-0.]\n",
            "Epoch: 161 loss: 0.0000 y_pred: 0.59 w1_grad: [-0.  0.] w2_grad: [ 0.  0. -0.  0.] w3_grad: [ 0. -0.] b1_grad: [-0.  0.] b2_grad: [ 0. -0.] b3_grad: [-0.]\n",
            "Epoch: 171 loss: 0.0000 y_pred: 0.59 w1_grad: [-0.  0.] w2_grad: [ 0.  0. -0.  0.] w3_grad: [ 0. -0.] b1_grad: [-0.  0.] b2_grad: [ 0. -0.] b3_grad: [-0.]\n",
            "Epoch: 181 loss: 0.0000 y_pred: 0.59 w1_grad: [-0.  0.] w2_grad: [ 0.  0. -0.  0.] w3_grad: [ 0. -0.] b1_grad: [-0.  0.] b2_grad: [ 0. -0.] b3_grad: [-0.]\n",
            "Epoch: 191 loss: 0.0000 y_pred: 0.59 w1_grad: [-0.  0.] w2_grad: [ 0.  0. -0.  0.] w3_grad: [ 0. -0.] b1_grad: [-0.  0.] b2_grad: [ 0. -0.] b3_grad: [-0.]\n",
            "Epoch: 201 loss: 0.0000 y_pred: 0.59 w1_grad: [-0.  0.] w2_grad: [ 0.  0. -0.  0.] w3_grad: [ 0. -0.] b1_grad: [-0.  0.] b2_grad: [ 0. -0.] b3_grad: [-0.]\n",
            "Epoch: 211 loss: 0.0000 y_pred: 0.59 w1_grad: [-0.  0.] w2_grad: [ 0.  0. -0.  0.] w3_grad: [ 0. -0.] b1_grad: [-0.  0.] b2_grad: [ 0. -0.] b3_grad: [-0.]\n",
            "Epoch: 221 loss: 0.0000 y_pred: 0.59 w1_grad: [-0.  0.] w2_grad: [ 0.  0. -0.  0.] w3_grad: [ 0. -0.] b1_grad: [-0.  0.] b2_grad: [ 0. -0.] b3_grad: [-0.]\n",
            "Epoch: 231 loss: 0.0000 y_pred: 0.59 w1_grad: [-0.  0.] w2_grad: [ 0.  0. -0.  0.] w3_grad: [ 0. -0.] b1_grad: [-0.  0.] b2_grad: [ 0. -0.] b3_grad: [-0.]\n",
            "Epoch: 241 loss: 0.0000 y_pred: 0.59 w1_grad: [-0.  0.] w2_grad: [ 0.  0. -0.  0.] w3_grad: [ 0. -0.] b1_grad: [-0.  0.] b2_grad: [ 0. -0.] b3_grad: [-0.]\n",
            "Epoch: 251 loss: 0.0000 y_pred: 0.59 w1_grad: [-0.  0.] w2_grad: [ 0.  0. -0.  0.] w3_grad: [ 0. -0.] b1_grad: [-0.  0.] b2_grad: [ 0. -0.] b3_grad: [-0.]\n",
            "Epoch: 261 loss: 0.0000 y_pred: 0.59 w1_grad: [-0.  0.] w2_grad: [ 0.  0. -0.  0.] w3_grad: [ 0. -0.] b1_grad: [-0.  0.] b2_grad: [ 0. -0.] b3_grad: [-0.]\n",
            "Epoch: 271 loss: 0.0000 y_pred: 0.59 w1_grad: [-0.  0.] w2_grad: [ 0.  0. -0.  0.] w3_grad: [ 0. -0.] b1_grad: [-0.  0.] b2_grad: [ 0. -0.] b3_grad: [-0.]\n",
            "Epoch: 281 loss: 0.0000 y_pred: 0.59 w1_grad: [-0.  0.] w2_grad: [ 0.  0. -0.  0.] w3_grad: [ 0. -0.] b1_grad: [-0.  0.] b2_grad: [ 0. -0.] b3_grad: [-0.]\n",
            "Epoch: 291 loss: 0.0000 y_pred: 0.59 w1_grad: [-0.  0.] w2_grad: [ 0.  0. -0.  0.] w3_grad: [ 0. -0.] b1_grad: [-0.  0.] b2_grad: [ 0. -0.] b3_grad: [-0.]\n",
            "Epoch: 301 loss: 0.0000 y_pred: 0.59 w1_grad: [-0.  0.] w2_grad: [ 0.  0. -0.  0.] w3_grad: [ 0. -0.] b1_grad: [-0.  0.] b2_grad: [ 0. -0.] b3_grad: [-0.]\n",
            "Epoch: 311 loss: 0.0000 y_pred: 0.60 w1_grad: [-0.  0.] w2_grad: [ 0.  0. -0.  0.] w3_grad: [ 0. -0.] b1_grad: [-0.  0.] b2_grad: [ 0. -0.] b3_grad: [-0.]\n",
            "Epoch: 321 loss: 0.0000 y_pred: 0.60 w1_grad: [-0.  0.] w2_grad: [ 0.  0. -0.  0.] w3_grad: [ 0. -0.] b1_grad: [-0.  0.] b2_grad: [ 0. -0.] b3_grad: [-0.]\n",
            "Epoch: 331 loss: 0.0000 y_pred: 0.60 w1_grad: [-0.  0.] w2_grad: [ 0.  0. -0.  0.] w3_grad: [ 0. -0.] b1_grad: [-0.  0.] b2_grad: [ 0. -0.] b3_grad: [-0.]\n",
            "Epoch: 341 loss: 0.0000 y_pred: 0.60 w1_grad: [-0.  0.] w2_grad: [ 0.  0. -0.  0.] w3_grad: [ 0. -0.] b1_grad: [-0.  0.] b2_grad: [ 0. -0.] b3_grad: [-0.]\n",
            "Epoch: 351 loss: 0.0000 y_pred: 0.60 w1_grad: [-0.  0.] w2_grad: [ 0.  0. -0.  0.] w3_grad: [ 0. -0.] b1_grad: [-0.  0.] b2_grad: [ 0. -0.] b3_grad: [-0.]\n",
            "Epoch: 361 loss: 0.0000 y_pred: 0.60 w1_grad: [-0.  0.] w2_grad: [ 0.  0. -0.  0.] w3_grad: [ 0. -0.] b1_grad: [-0.  0.] b2_grad: [ 0. -0.] b3_grad: [-0.]\n",
            "Epoch: 371 loss: 0.0000 y_pred: 0.60 w1_grad: [-0.  0.] w2_grad: [ 0.  0. -0.  0.] w3_grad: [ 0. -0.] b1_grad: [-0.  0.] b2_grad: [ 0. -0.] b3_grad: [-0.]\n",
            "Epoch: 381 loss: 0.0000 y_pred: 0.60 w1_grad: [-0.  0.] w2_grad: [ 0.  0. -0.  0.] w3_grad: [ 0. -0.] b1_grad: [-0.  0.] b2_grad: [ 0. -0.] b3_grad: [-0.]\n",
            "Epoch: 391 loss: 0.0000 y_pred: 0.60 w1_grad: [-0.  0.] w2_grad: [ 0.  0. -0.  0.] w3_grad: [ 0. -0.] b1_grad: [-0.  0.] b2_grad: [ 0. -0.] b3_grad: [-0.]\n",
            "Epoch: 401 loss: 0.0000 y_pred: 0.60 w1_grad: [-0.  0.] w2_grad: [ 0.  0. -0.  0.] w3_grad: [ 0. -0.] b1_grad: [-0.  0.] b2_grad: [ 0. -0.] b3_grad: [-0.]\n",
            "Epoch: 411 loss: 0.0000 y_pred: 0.60 w1_grad: [-0.  0.] w2_grad: [ 0.  0. -0.  0.] w3_grad: [ 0. -0.] b1_grad: [-0.  0.] b2_grad: [ 0. -0.] b3_grad: [-0.]\n",
            "Epoch: 421 loss: 0.0000 y_pred: 0.60 w1_grad: [-0.  0.] w2_grad: [ 0.  0. -0.  0.] w3_grad: [ 0. -0.] b1_grad: [-0.  0.] b2_grad: [ 0. -0.] b3_grad: [-0.]\n",
            "Epoch: 431 loss: 0.0000 y_pred: 0.60 w1_grad: [-0.  0.] w2_grad: [ 0.  0. -0.  0.] w3_grad: [ 0. -0.] b1_grad: [-0.  0.] b2_grad: [ 0. -0.] b3_grad: [-0.]\n",
            "Epoch: 441 loss: 0.0000 y_pred: 0.60 w1_grad: [-0.  0.] w2_grad: [ 0.  0. -0.  0.] w3_grad: [ 0. -0.] b1_grad: [-0.  0.] b2_grad: [ 0. -0.] b3_grad: [-0.]\n",
            "Epoch: 451 loss: 0.0000 y_pred: 0.60 w1_grad: [-0.  0.] w2_grad: [ 0.  0. -0.  0.] w3_grad: [ 0. -0.] b1_grad: [-0.  0.] b2_grad: [ 0. -0.] b3_grad: [-0.]\n",
            "Epoch: 461 loss: 0.0000 y_pred: 0.60 w1_grad: [-0.  0.] w2_grad: [ 0.  0. -0.  0.] w3_grad: [ 0. -0.] b1_grad: [-0.  0.] b2_grad: [ 0. -0.] b3_grad: [-0.]\n",
            "Epoch: 471 loss: 0.0000 y_pred: 0.60 w1_grad: [-0.  0.] w2_grad: [ 0.  0. -0.  0.] w3_grad: [ 0. -0.] b1_grad: [-0.  0.] b2_grad: [ 0. -0.] b3_grad: [-0.]\n",
            "Epoch: 481 loss: 0.0000 y_pred: 0.60 w1_grad: [-0.  0.] w2_grad: [ 0.  0. -0.  0.] w3_grad: [ 0. -0.] b1_grad: [-0.  0.] b2_grad: [ 0. -0.] b3_grad: [-0.]\n",
            "Epoch: 491 loss: 0.0000 y_pred: 0.60 w1_grad: [-0.  0.] w2_grad: [ 0.  0. -0.  0.] w3_grad: [ 0. -0.] b1_grad: [-0.  0.] b2_grad: [ 0. -0.] b3_grad: [-0.]\n",
            "Epoch: 501 loss: 0.0000 y_pred: 0.60 w1_grad: [-0.  0.] w2_grad: [ 0.  0. -0.  0.] w3_grad: [ 0. -0.] b1_grad: [-0.  0.] b2_grad: [ 0. -0.] b3_grad: [-0.]\n",
            "Epoch: 511 loss: 0.0000 y_pred: 0.60 w1_grad: [-0.  0.] w2_grad: [ 0.  0. -0.  0.] w3_grad: [ 0. -0.] b1_grad: [-0.  0.] b2_grad: [ 0. -0.] b3_grad: [-0.]\n",
            "Epoch: 521 loss: 0.0000 y_pred: 0.60 w1_grad: [-0.  0.] w2_grad: [ 0.  0. -0.  0.] w3_grad: [ 0. -0.] b1_grad: [-0.  0.] b2_grad: [ 0. -0.] b3_grad: [-0.]\n",
            "Epoch: 531 loss: 0.0000 y_pred: 0.60 w1_grad: [-0.  0.] w2_grad: [ 0.  0. -0.  0.] w3_grad: [ 0. -0.] b1_grad: [-0.  0.] b2_grad: [ 0. -0.] b3_grad: [-0.]\n",
            "Epoch: 541 loss: 0.0000 y_pred: 0.60 w1_grad: [-0.  0.] w2_grad: [ 0.  0. -0.  0.] w3_grad: [ 0. -0.] b1_grad: [-0.  0.] b2_grad: [ 0. -0.] b3_grad: [-0.]\n",
            "Epoch: 551 loss: 0.0000 y_pred: 0.60 w1_grad: [-0.  0.] w2_grad: [ 0.  0. -0.  0.] w3_grad: [ 0. -0.] b1_grad: [-0.  0.] b2_grad: [ 0. -0.] b3_grad: [-0.]\n",
            "Epoch: 561 loss: 0.0000 y_pred: 0.60 w1_grad: [-0.  0.] w2_grad: [ 0.  0. -0.  0.] w3_grad: [ 0. -0.] b1_grad: [-0.  0.] b2_grad: [ 0. -0.] b3_grad: [-0.]\n",
            "Epoch: 571 loss: 0.0000 y_pred: 0.60 w1_grad: [-0.  0.] w2_grad: [ 0.  0. -0.  0.] w3_grad: [ 0. -0.] b1_grad: [-0.  0.] b2_grad: [ 0. -0.] b3_grad: [-0.]\n",
            "Epoch: 581 loss: 0.0000 y_pred: 0.60 w1_grad: [-0.  0.] w2_grad: [ 0.  0. -0.  0.] w3_grad: [ 0. -0.] b1_grad: [-0.  0.] b2_grad: [ 0. -0.] b3_grad: [-0.]\n",
            "Epoch: 591 loss: 0.0000 y_pred: 0.60 w1_grad: [-0.  0.] w2_grad: [ 0.  0. -0.  0.] w3_grad: [ 0. -0.] b1_grad: [-0.  0.] b2_grad: [ 0. -0.] b3_grad: [-0.]\n",
            "Epoch: 601 loss: 0.0000 y_pred: 0.60 w1_grad: [-0.  0.] w2_grad: [ 0.  0. -0.  0.] w3_grad: [ 0. -0.] b1_grad: [-0.  0.] b2_grad: [ 0. -0.] b3_grad: [-0.]\n",
            "Epoch: 611 loss: 0.0000 y_pred: 0.60 w1_grad: [-0.  0.] w2_grad: [ 0.  0. -0.  0.] w3_grad: [ 0. -0.] b1_grad: [-0.  0.] b2_grad: [ 0. -0.] b3_grad: [-0.]\n",
            "Epoch: 621 loss: 0.0000 y_pred: 0.60 w1_grad: [-0.  0.] w2_grad: [ 0.  0. -0.  0.] w3_grad: [ 0. -0.] b1_grad: [-0.  0.] b2_grad: [ 0. -0.] b3_grad: [-0.]\n",
            "Epoch: 631 loss: 0.0000 y_pred: 0.60 w1_grad: [-0.  0.] w2_grad: [ 0.  0. -0.  0.] w3_grad: [ 0. -0.] b1_grad: [-0.  0.] b2_grad: [ 0. -0.] b3_grad: [-0.]\n",
            "Epoch: 641 loss: 0.0000 y_pred: 0.60 w1_grad: [-0.  0.] w2_grad: [ 0.  0. -0.  0.] w3_grad: [ 0. -0.] b1_grad: [-0.  0.] b2_grad: [ 0. -0.] b3_grad: [-0.]\n",
            "Epoch: 651 loss: 0.0000 y_pred: 0.60 w1_grad: [-0.  0.] w2_grad: [ 0.  0. -0.  0.] w3_grad: [ 0. -0.] b1_grad: [-0.  0.] b2_grad: [ 0. -0.] b3_grad: [-0.]\n",
            "Epoch: 661 loss: 0.0000 y_pred: 0.60 w1_grad: [-0.  0.] w2_grad: [ 0.  0. -0.  0.] w3_grad: [ 0. -0.] b1_grad: [-0.  0.] b2_grad: [ 0. -0.] b3_grad: [-0.]\n",
            "Epoch: 671 loss: 0.0000 y_pred: 0.60 w1_grad: [-0.  0.] w2_grad: [ 0.  0. -0.  0.] w3_grad: [ 0. -0.] b1_grad: [-0.  0.] b2_grad: [ 0. -0.] b3_grad: [-0.]\n",
            "Epoch: 681 loss: 0.0000 y_pred: 0.60 w1_grad: [-0.  0.] w2_grad: [ 0.  0. -0.  0.] w3_grad: [ 0. -0.] b1_grad: [-0.  0.] b2_grad: [ 0. -0.] b3_grad: [-0.]\n",
            "Epoch: 691 loss: 0.0000 y_pred: 0.60 w1_grad: [-0.  0.] w2_grad: [ 0.  0. -0.  0.] w3_grad: [ 0. -0.] b1_grad: [-0.  0.] b2_grad: [ 0. -0.] b3_grad: [-0.]\n",
            "Epoch: 701 loss: 0.0000 y_pred: 0.60 w1_grad: [-0.  0.] w2_grad: [ 0.  0. -0.  0.] w3_grad: [ 0. -0.] b1_grad: [-0.  0.] b2_grad: [ 0. -0.] b3_grad: [-0.]\n",
            "Epoch: 711 loss: 0.0000 y_pred: 0.60 w1_grad: [-0.  0.] w2_grad: [ 0.  0. -0.  0.] w3_grad: [ 0. -0.] b1_grad: [-0.  0.] b2_grad: [ 0. -0.] b3_grad: [-0.]\n",
            "Epoch: 721 loss: 0.0000 y_pred: 0.60 w1_grad: [-0.  0.] w2_grad: [ 0.  0. -0.  0.] w3_grad: [ 0. -0.] b1_grad: [-0.  0.] b2_grad: [ 0. -0.] b3_grad: [-0.]\n",
            "Epoch: 731 loss: 0.0000 y_pred: 0.60 w1_grad: [-0.  0.] w2_grad: [ 0.  0. -0.  0.] w3_grad: [ 0. -0.] b1_grad: [-0.  0.] b2_grad: [ 0. -0.] b3_grad: [-0.]\n",
            "Epoch: 741 loss: 0.0000 y_pred: 0.60 w1_grad: [-0.  0.] w2_grad: [ 0.  0. -0.  0.] w3_grad: [ 0. -0.] b1_grad: [-0.  0.] b2_grad: [ 0. -0.] b3_grad: [-0.]\n",
            "Epoch: 751 loss: 0.0000 y_pred: 0.60 w1_grad: [-0.  0.] w2_grad: [ 0.  0. -0.  0.] w3_grad: [ 0. -0.] b1_grad: [-0.  0.] b2_grad: [ 0. -0.] b3_grad: [-0.]\n",
            "Epoch: 761 loss: 0.0000 y_pred: 0.60 w1_grad: [-0.  0.] w2_grad: [ 0.  0. -0.  0.] w3_grad: [ 0. -0.] b1_grad: [-0.  0.] b2_grad: [ 0. -0.] b3_grad: [-0.]\n",
            "Epoch: 771 loss: 0.0000 y_pred: 0.60 w1_grad: [-0.  0.] w2_grad: [ 0.  0. -0.  0.] w3_grad: [ 0. -0.] b1_grad: [-0.  0.] b2_grad: [ 0. -0.] b3_grad: [-0.]\n",
            "Epoch: 781 loss: 0.0000 y_pred: 0.60 w1_grad: [-0.  0.] w2_grad: [ 0.  0. -0.  0.] w3_grad: [ 0. -0.] b1_grad: [-0.  0.] b2_grad: [ 0. -0.] b3_grad: [-0.]\n",
            "Epoch: 791 loss: 0.0000 y_pred: 0.60 w1_grad: [-0.  0.] w2_grad: [ 0.  0. -0.  0.] w3_grad: [ 0. -0.] b1_grad: [-0.  0.] b2_grad: [ 0. -0.] b3_grad: [-0.]\n"
          ]
        },
        {
          "output_type": "display_data",
          "data": {
            "text/plain": [
              "<Figure size 640x480 with 1 Axes>"
            ],
            "image/png": "[encoded data removed]"
          },
          "metadata": {}
        }
      ]
    }
  ]
}