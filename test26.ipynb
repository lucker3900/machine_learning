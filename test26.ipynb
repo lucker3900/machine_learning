{
  "nbformat": 4,
  "nbformat_minor": 0,
  "metadata": {
    "colab": {
      "provenance": [],
      "authorship_tag": "ABX9TyM9XedAMagGNzZOeNxvQkV7"
    },
    "kernelspec": {
      "name": "python3",
      "display_name": "Python 3"
    },
    "language_info": {
      "name": "python"
    }
  },
  "cells": [
    {
      "cell_type": "code",
      "execution_count": 6,
      "metadata": {
        "id": "SWbfhyEY-eST"
      },
      "outputs": [],
      "source": [
        "#考虑一个具有两个隐藏层的神经网络，结构如下：\n",
        "\n",
        "#一个输入节点 (x)\n",
        "#第一个隐藏层，包含 2 个 神经元 (h_{1,1}, h_{1,2})，均使用 ReLU 激活函数。\n",
        "#第二个隐藏层，包含 2 个 神经元 (h_{2,1}, h_{2,2})，均使用 ReLU 激活函数。\n",
        "#一个输出节点 (y_{pred})，使用 Sigmoid 激活函数。"
      ]
    },
    {
      "cell_type": "code",
      "source": [
        "import numpy as np\n",
        "import matplotlib.pyplot as plt"
      ],
      "metadata": {
        "id": "ule8IIx7BM37"
      },
      "execution_count": 3,
      "outputs": []
    },
    {
      "cell_type": "code",
      "source": [
        "#计算relu函数\n",
        "def relu(a):\n",
        "  return np.maximum(0, a)"
      ],
      "metadata": {
        "id": "ygKHS7KDD0Kz"
      },
      "execution_count": 7,
      "outputs": []
    },
    {
      "cell_type": "code",
      "source": [
        "#计算sigmoid函数\n",
        "def sigmoid(a):\n",
        "  return 1 / (1 + np.exp(-a))"
      ],
      "metadata": {
        "id": "DAVrTwlzETek"
      },
      "execution_count": 8,
      "outputs": []
    },
    {
      "cell_type": "code",
      "source": [
        "#正向传播，求出y_pred\n",
        "def forward(w1, w2, w3, b1, b2, b3, x):\n",
        "  z1 = np.outer(x, w1.T) + b1.T #shape(1,2)\n",
        "  h1 = relu(z1) # shape(1,2)\n",
        "\n",
        "  z2 = np.dot(h1, w2.T) + b2.T # shape (1, 2)\n",
        "  h2 = relu(z2) # shape(1,2)\n",
        "\n",
        "  zout = np.dot(h2, w3.T) + b3 #shape (2,1)\n",
        "  y_pred = sigmoid(zout).flatten()\n",
        "  return z1, h1, z2, h2, zout, y_pred"
      ],
      "metadata": {
        "id": "FPK25mV-Ej9D"
      },
      "execution_count": 106,
      "outputs": []
    },
    {
      "cell_type": "code",
      "source": [
        "#计算损失函数loss\n",
        "def compute_loss(y_pred, y_true):\n",
        "  loss = (y_pred - y_true)**2 /2\n",
        "  return loss"
      ],
      "metadata": {
        "id": "Vq8as4BIHqMU"
      },
      "execution_count": 13,
      "outputs": []
    },
    {
      "cell_type": "code",
      "source": [
        "#反向传播，计算梯度\n",
        "def backward(z1, h1, z2, h2, zout, y_pred, y_true, x):\n",
        "  dypred = y_pred - y_true\n",
        "  b3_grad = dypred * (1- y_pred**2) # shape(1,)\n",
        "  w3_grad = np.dot(b3_grad, h2.T) # shape(1,2)\n",
        "\n",
        "  dh2 = np.dot(w3.T, b3_grad) #shape (2,1)\n",
        "  b2_grad = dh2 * (z2>0) #shape (2,1)\n",
        "  w2_grad = np.dot(b2_grad, h1.T) #shape (2,2)\n",
        "\n",
        "  dh1 = np.dot(w2.T, b2_grad) #shape (2,1)\n",
        "  b1_grad = dh1 * (z1>0)\n",
        "  w1_grad = np.dot(b1_grad, x) # shape (2,1)\n",
        "\n",
        "  return w1_grad, w2_grad, w3_grad, b1_grad, b2_grad, b3_grad"
      ],
      "metadata": {
        "id": "qS8VYOxvIDyT"
      },
      "execution_count": 108,
      "outputs": []
    },
    {
      "cell_type": "code",
      "source": [
        "#更新参数\n",
        "def update_params(w1, w2, w3, b1, b2, b3, w1_grad, w2_grad, w3_grad, b1_grad, b2_grad, b3_grad, learning_rate):\n",
        "  w1 -= learning_rate * w1_grad\n",
        "  w2 -= learning_rate * w2_grad\n",
        "  w3 -= learning_rate * w3_grad\n",
        "  b1 -= learning_rate * b1_grad\n",
        "  b2 -= learning_rate * b2_grad\n",
        "  b3 -= learning_rate * b3_grad\n",
        "  return w1, w2, w3, b1, b2, b3"
      ],
      "metadata": {
        "id": "Jfq2Ol7cQanL"
      },
      "execution_count": 49,
      "outputs": []
    },
    {
      "cell_type": "code",
      "source": [
        "#参数初始化\n",
        "w1 = np.array([[0.2],\n",
        "        [-0.3]]) #shape (2,1)\n",
        "\n",
        "b1 = np.array([[0.1],\n",
        "        [-0.1]]) #shape (2,1)\n",
        "\n",
        "w2 = np.array([[0.4, -0.1],\n",
        "        [0.2, 0.5]]) #shape (2,2)\n",
        "\n",
        "b2 = np.array([[-0.2],\n",
        "        [0.3]]) # shape (2,1)\n",
        "\n",
        "w3 = np.array([[-0.6, 0.7]]) #shape (1,2)\n",
        "\n",
        "b3 = np.array([[0.1]]) #shape (1,1)\n",
        "\n",
        "learning_rate = 0.01\n",
        "\n",
        "x = np.array([1.5])\n",
        "y_true = np.array([0.6])\n",
        "\n",
        "epochs = 1000\n",
        "losses = []\n",
        "\n",
        "for epoch in range(epochs):\n",
        "  z1, h1, z2, h2, zout, y_pred = forward(w1, w2, w3, b1, b2, b3, x)\n",
        "  loss = compute_loss(y_pred, y_true)\n",
        "  losses.append(loss)\n",
        "\n",
        "  w1_grad, w2_grad, w3_grad, b1_grad, b2_grad, b3_grad = backward(z1, h1, z2, h2, zout, y_pred, y_true, x)\n",
        "  w1, w2, w3, b1, b2, b3 = update_params(w1, w2, w3, b1, b2, b3, w1_grad, w2_grad, w3_grad, b1_grad, b2_grad, b3_grad, learning_rate)\n",
        "\n",
        "  if epoch%10 == 0:\n",
        "    print(\"Epoch:\", epoch + 1,\n",
        "      f\"loss: {loss:.4f}\",\n",
        "      f\"y_pred: {np.round(y_pred, 4)}\",\n",
        "      f\"w1_grad: {np.round(w1_grad.flatten(), 2)}\",\n",
        "      f\"w2_grad: {np.round(w2_grad.flatten(), 2)}\",\n",
        "      f\"w3_grad: {np.round(w3_grad.flatten(), 2)}\",\n",
        "      f\"b1_grad: {np.round(b1_grad.flatten(), 2)}\",\n",
        "      f\"b2_grad: {np.round(b2_grad.flatten(), 2)}\",\n",
        "      f\"b3_grad: {np.round(b3_grad, 2)}\"\n",
        "      )\n",
        "\n",
        "plt.plot(range(epochs), losses, \"blue\")\n",
        "plt.xlabel(\"epoch axis\")\n",
        "plt.ylabel(\"loss axis\")\n",
        "plt.show()\n",
        ""
      ],
      "metadata": {
        "colab": {
          "base_uri": "https://localhost:8080/",
          "height": 342
        },
        "id": "YksVvVVK-x4G",
        "outputId": "4df2fd04-5777-43a1-f301-73989f73a424"
      },
      "execution_count": 109,
      "outputs": [
        {
          "output_type": "error",
          "ename": "ValueError",
          "evalue": "shapes (1,) and (2,1) not aligned: 1 (dim 0) != 2 (dim 0)",
          "traceback": [
            "\u001b[0;31m---------------------------------------------------------------------------\u001b[0m",
            "\u001b[0;31mValueError\u001b[0m                                Traceback (most recent call last)",
            "\u001b[0;32m<ipython-input-109-49e3774435db>\u001b[0m in \u001b[0;36m<cell line: 0>\u001b[0;34m()\u001b[0m\n\u001b[1;32m     29\u001b[0m   \u001b[0mlosses\u001b[0m\u001b[0;34m.\u001b[0m\u001b[0mappend\u001b[0m\u001b[0;34m(\u001b[0m\u001b[0mloss\u001b[0m\u001b[0;34m)\u001b[0m\u001b[0;34m\u001b[0m\u001b[0;34m\u001b[0m\u001b[0m\n\u001b[1;32m     30\u001b[0m \u001b[0;34m\u001b[0m\u001b[0m\n\u001b[0;32m---> 31\u001b[0;31m   \u001b[0mw1_grad\u001b[0m\u001b[0;34m,\u001b[0m \u001b[0mw2_grad\u001b[0m\u001b[0;34m,\u001b[0m \u001b[0mw3_grad\u001b[0m\u001b[0;34m,\u001b[0m \u001b[0mb1_grad\u001b[0m\u001b[0;34m,\u001b[0m \u001b[0mb2_grad\u001b[0m\u001b[0;34m,\u001b[0m \u001b[0mb3_grad\u001b[0m \u001b[0;34m=\u001b[0m \u001b[0mbackward\u001b[0m\u001b[0;34m(\u001b[0m\u001b[0mz1\u001b[0m\u001b[0;34m,\u001b[0m \u001b[0mh1\u001b[0m\u001b[0;34m,\u001b[0m \u001b[0mz2\u001b[0m\u001b[0;34m,\u001b[0m \u001b[0mh2\u001b[0m\u001b[0;34m,\u001b[0m \u001b[0mzout\u001b[0m\u001b[0;34m,\u001b[0m \u001b[0my_pred\u001b[0m\u001b[0;34m,\u001b[0m \u001b[0my_true\u001b[0m\u001b[0;34m,\u001b[0m \u001b[0mx\u001b[0m\u001b[0;34m)\u001b[0m\u001b[0;34m\u001b[0m\u001b[0;34m\u001b[0m\u001b[0m\n\u001b[0m\u001b[1;32m     32\u001b[0m   \u001b[0mw1\u001b[0m\u001b[0;34m,\u001b[0m \u001b[0mw2\u001b[0m\u001b[0;34m,\u001b[0m \u001b[0mw3\u001b[0m\u001b[0;34m,\u001b[0m \u001b[0mb1\u001b[0m\u001b[0;34m,\u001b[0m \u001b[0mb2\u001b[0m\u001b[0;34m,\u001b[0m \u001b[0mb3\u001b[0m \u001b[0;34m=\u001b[0m \u001b[0mupdate_params\u001b[0m\u001b[0;34m(\u001b[0m\u001b[0mw1\u001b[0m\u001b[0;34m,\u001b[0m \u001b[0mw2\u001b[0m\u001b[0;34m,\u001b[0m \u001b[0mw3\u001b[0m\u001b[0;34m,\u001b[0m \u001b[0mb1\u001b[0m\u001b[0;34m,\u001b[0m \u001b[0mb2\u001b[0m\u001b[0;34m,\u001b[0m \u001b[0mb3\u001b[0m\u001b[0;34m,\u001b[0m \u001b[0mw1_grad\u001b[0m\u001b[0;34m,\u001b[0m \u001b[0mw2_grad\u001b[0m\u001b[0;34m,\u001b[0m \u001b[0mw3_grad\u001b[0m\u001b[0;34m,\u001b[0m \u001b[0mb1_grad\u001b[0m\u001b[0;34m,\u001b[0m \u001b[0mb2_grad\u001b[0m\u001b[0;34m,\u001b[0m \u001b[0mb3_grad\u001b[0m\u001b[0;34m,\u001b[0m \u001b[0mlearning_rate\u001b[0m\u001b[0;34m)\u001b[0m\u001b[0;34m\u001b[0m\u001b[0;34m\u001b[0m\u001b[0m\n\u001b[1;32m     33\u001b[0m \u001b[0;34m\u001b[0m\u001b[0m\n",
            "\u001b[0;32m<ipython-input-108-c942234c6624>\u001b[0m in \u001b[0;36mbackward\u001b[0;34m(z1, h1, z2, h2, zout, y_pred, y_true, x)\u001b[0m\n\u001b[1;32m      3\u001b[0m   \u001b[0mdypred\u001b[0m \u001b[0;34m=\u001b[0m \u001b[0my_pred\u001b[0m \u001b[0;34m-\u001b[0m \u001b[0my_true\u001b[0m\u001b[0;34m\u001b[0m\u001b[0;34m\u001b[0m\u001b[0m\n\u001b[1;32m      4\u001b[0m   \u001b[0mb3_grad\u001b[0m \u001b[0;34m=\u001b[0m \u001b[0mdypred\u001b[0m \u001b[0;34m*\u001b[0m \u001b[0;34m(\u001b[0m\u001b[0;36m1\u001b[0m\u001b[0;34m-\u001b[0m \u001b[0my_pred\u001b[0m\u001b[0;34m**\u001b[0m\u001b[0;36m2\u001b[0m\u001b[0;34m)\u001b[0m \u001b[0;31m# shape(1,)\u001b[0m\u001b[0;34m\u001b[0m\u001b[0;34m\u001b[0m\u001b[0m\n\u001b[0;32m----> 5\u001b[0;31m   \u001b[0mw3_grad\u001b[0m \u001b[0;34m=\u001b[0m \u001b[0mnp\u001b[0m\u001b[0;34m.\u001b[0m\u001b[0mdot\u001b[0m\u001b[0;34m(\u001b[0m\u001b[0mb3_grad\u001b[0m\u001b[0;34m,\u001b[0m \u001b[0mh2\u001b[0m\u001b[0;34m.\u001b[0m\u001b[0mT\u001b[0m\u001b[0;34m)\u001b[0m \u001b[0;31m# shape(1,2)\u001b[0m\u001b[0;34m\u001b[0m\u001b[0;34m\u001b[0m\u001b[0m\n\u001b[0m\u001b[1;32m      6\u001b[0m \u001b[0;34m\u001b[0m\u001b[0m\n\u001b[1;32m      7\u001b[0m   \u001b[0mdh2\u001b[0m \u001b[0;34m=\u001b[0m \u001b[0mnp\u001b[0m\u001b[0;34m.\u001b[0m\u001b[0mdot\u001b[0m\u001b[0;34m(\u001b[0m\u001b[0mw3\u001b[0m\u001b[0;34m.\u001b[0m\u001b[0mT\u001b[0m\u001b[0;34m,\u001b[0m \u001b[0mb3_grad\u001b[0m\u001b[0;34m)\u001b[0m \u001b[0;31m#shape (2,1)\u001b[0m\u001b[0;34m\u001b[0m\u001b[0;34m\u001b[0m\u001b[0m\n",
            "\u001b[0;31mValueError\u001b[0m: shapes (1,) and (2,1) not aligned: 1 (dim 0) != 2 (dim 0)"
          ]
        }
      ]
    },
    {
      "cell_type": "code",
      "source": [],
      "metadata": {
        "id": "kGUvTA34DrmD"
      },
      "execution_count": null,
      "outputs": []
    }
  ]
}