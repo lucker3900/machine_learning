{
  "nbformat": 4,
  "nbformat_minor": 0,
  "metadata": {
    "colab": {
      "provenance": [],
      "authorship_tag": "ABX9TyMaX0dEhUz0vqK6UwoZW9Ka"
    },
    "kernelspec": {
      "name": "python3",
      "display_name": "Python 3"
    },
    "language_info": {
      "name": "python"
    }
  },
  "cells": [
    {
      "cell_type": "code",
      "source": [
        "#网络结构如下：\n",
        "#输入层：输入特征维度为 2\n",
        "\n",
        "#隐藏层：2个神经元，激活函数为 Tanh\n",
        "\n",
        "#输出层：2个神经元，激活函数为 Softmax（用于多分类，输出为概率）"
      ],
      "metadata": {
        "id": "IgIq9EPxQ0nF"
      },
      "execution_count": 1,
      "outputs": []
    },
    {
      "cell_type": "code",
      "source": [
        "import numpy as np\n",
        "import matplotlib.pyplot as plt"
      ],
      "metadata": {
        "id": "xwqlVbXPQ-gC"
      },
      "execution_count": 2,
      "outputs": []
    },
    {
      "cell_type": "code",
      "source": [
        "#计算tanh函数\n",
        "def tanh(a):\n",
        "  return np.tanh(a)"
      ],
      "metadata": {
        "id": "X60JrBRPRezc"
      },
      "execution_count": 3,
      "outputs": []
    },
    {
      "cell_type": "code",
      "source": [
        "#计算softmax函数\n",
        "def softmax(a):\n",
        "  a_max = np.max(a, axis=1, keepdims=True)\n",
        "  z = np.exp(a- a_max)\n",
        "\n",
        "  sums = np.sum(z, axis=1, keepdims=True)\n",
        "\n",
        "  return z / sums"
      ],
      "metadata": {
        "id": "Phhh9cDiRr_1"
      },
      "execution_count": 4,
      "outputs": []
    },
    {
      "cell_type": "code",
      "source": [
        "#计算前向传播,求y_pred\n",
        "def forward(W1, W2, b1, b2, X):\n",
        "  Z = np.dot(X, W1.T) + b1 #ndarray (2,2)\n",
        "  H = tanh(Z) #ndarray (2,2)\n",
        "\n",
        "  Zout = np.dot(H, W2.T) + b2 #ndarray (2,2)\n",
        "  y_pred = softmax(Zout)  #ndarray (2,2)\n",
        "  return Z, H, y_pred"
      ],
      "metadata": {
        "id": "d4h0y9JeS8C1"
      },
      "execution_count": 5,
      "outputs": []
    },
    {
      "cell_type": "code",
      "source": [
        "#求损失函数loss\n",
        "def compute_loss(y_true, y_pred):\n",
        "  loss = -np.sum(y_true * np.log(y_pred + 1e-10)) / y_pred.shape[0]\n",
        "  return loss"
      ],
      "metadata": {
        "id": "vf0OnJcUUF5j"
      },
      "execution_count": 6,
      "outputs": []
    },
    {
      "cell_type": "code",
      "source": [
        "#反向传播,计算梯度\n",
        "def backward(y_pred, y_true, H, W2, X):\n",
        "  dzout = y_pred - y_true #ndarray (2,2)\n",
        "  b2_grad = np.mean(dzout, axis=0, keepdims=True).T #ndarray (2,1)\n",
        "  w2_grad = np.dot(dzout.T, H) #ndarray (2,2)\n",
        "\n",
        "  dh = np.dot(dzout, W2) #shape (2,2)\n",
        "  dz = dh * (1 - H**2)\n",
        "  b1_grad = np.mean(dz, axis=0, keepdims=True).T\n",
        "  W1_grad = np.dot(dz.T, X)\n",
        "  return W1_grad, w2_grad, b1_grad, b2_grad"
      ],
      "metadata": {
        "id": "oHJOsz1iU6dj"
      },
      "execution_count": 7,
      "outputs": []
    },
    {
      "cell_type": "code",
      "source": [
        "#更新参数.weight/bias\n",
        "def update_params(W1, W2, b1, b2, W1_grad, W2_grad, b1_grad, b2_grad, learning_rate):\n",
        "  W1 -= learning_rate * W1_grad\n",
        "  W2 -= learning_rate * W2_grad\n",
        "  b1 -= learning_rate * b1_grad\n",
        "  b2 -= learning_rate * b2_grad\n",
        "  return W1, W2, b1, b2"
      ],
      "metadata": {
        "id": "V2k9qkIIZmtf"
      },
      "execution_count": 10,
      "outputs": []
    },
    {
      "cell_type": "code",
      "execution_count": 13,
      "metadata": {
        "colab": {
          "base_uri": "https://localhost:8080/",
          "height": 1000
        },
        "id": "kx3Am-KlQhuv",
        "outputId": "86f304e9-fba3-4232-c427-35cfaa39b4c1"
      },
      "outputs": [
        {
          "output_type": "stream",
          "name": "stdout",
          "text": [
            "Epochs: 1 loss 0.6766 W1_grad [ 0.04 -0.03  0.04 -0.03] W2_grad [ 0.07  0.07 -0.07 -0.07] b1_grad [0.01 0.01] b2_grad [-0.03  0.03]\n",
            "Epochs: 11 loss 0.6605 W1_grad [ 0.08 -0.05  0.07 -0.04] W2_grad [ 0.08  0.07 -0.08 -0.07] b1_grad [0.03 0.03] b2_grad [-0.05  0.05]\n",
            "Epochs: 21 loss 0.6307 W1_grad [ 0.12 -0.07  0.11 -0.06] W2_grad [ 0.1   0.09 -0.1  -0.09] b1_grad [0.05 0.05] b2_grad [-0.07  0.07]\n",
            "Epochs: 31 loss 0.5707 W1_grad [ 0.17 -0.09  0.16 -0.07] W2_grad [ 0.15  0.13 -0.15 -0.13] b1_grad [0.08 0.07] b2_grad [-0.07  0.07]\n",
            "Epochs: 41 loss 0.4666 W1_grad [ 0.2  -0.12  0.18 -0.1 ] W2_grad [ 0.19  0.17 -0.19 -0.17] b1_grad [0.08 0.08] b2_grad [-0.06  0.06]\n",
            "Epochs: 51 loss 0.342 W1_grad [ 0.18 -0.15  0.17 -0.12] W2_grad [ 0.19  0.17 -0.19 -0.17] b1_grad [0.05 0.06] b2_grad [-0.03  0.03]\n",
            "Epochs: 61 loss 0.2374 W1_grad [ 0.15 -0.14  0.14 -0.12] W2_grad [ 0.16  0.15 -0.16 -0.15] b1_grad [0.03 0.03] b2_grad [-0.02  0.02]\n",
            "Epochs: 71 loss 0.1653 W1_grad [ 0.12 -0.12  0.11 -0.1 ] W2_grad [ 0.13  0.12 -0.13 -0.12] b1_grad [0.02 0.02] b2_grad [-0.01  0.01]\n",
            "Epochs: 81 loss 0.1193 W1_grad [ 0.09 -0.09  0.09 -0.08] W2_grad [ 0.11  0.1  -0.11 -0.1 ] b1_grad [0.01 0.02] b2_grad [-0.01  0.01]\n",
            "Epochs: 91 loss 0.0899 W1_grad [ 0.07 -0.08  0.07 -0.07] W2_grad [ 0.09  0.08 -0.09 -0.08] b1_grad [0.01 0.01] b2_grad [-0.  0.]\n",
            "Epochs: 101 loss 0.0704 W1_grad [ 0.06 -0.06  0.06 -0.05] W2_grad [ 0.07  0.07 -0.07 -0.07] b1_grad [0.01 0.01] b2_grad [-0.  0.]\n",
            "Epochs: 111 loss 0.057 W1_grad [ 0.05 -0.05  0.05 -0.05] W2_grad [ 0.06  0.06 -0.06 -0.06] b1_grad [0.01 0.01] b2_grad [-0.  0.]\n",
            "Epochs: 121 loss 0.0474 W1_grad [ 0.04 -0.04  0.04 -0.04] W2_grad [ 0.05  0.05 -0.05 -0.05] b1_grad [0.01 0.01] b2_grad [-0.  0.]\n",
            "Epochs: 131 loss 0.0403 W1_grad [ 0.04 -0.04  0.04 -0.03] W2_grad [ 0.04  0.04 -0.04 -0.04] b1_grad [0.   0.01] b2_grad [-0.  0.]\n",
            "Epochs: 141 loss 0.0348 W1_grad [ 0.03 -0.03  0.03 -0.03] W2_grad [ 0.04  0.04 -0.04 -0.04] b1_grad [0.   0.01] b2_grad [-0.  0.]\n",
            "Epochs: 151 loss 0.0305 W1_grad [ 0.03 -0.03  0.03 -0.03] W2_grad [ 0.03  0.03 -0.03 -0.03] b1_grad [0.   0.01] b2_grad [-0.  0.]\n",
            "Epochs: 161 loss 0.0271 W1_grad [ 0.03 -0.03  0.03 -0.02] W2_grad [ 0.03  0.03 -0.03 -0.03] b1_grad [0. 0.] b2_grad [-0.  0.]\n",
            "Epochs: 171 loss 0.0243 W1_grad [ 0.02 -0.02  0.02 -0.02] W2_grad [ 0.03  0.03 -0.03 -0.03] b1_grad [0. 0.] b2_grad [-0.  0.]\n",
            "Epochs: 181 loss 0.022 W1_grad [ 0.02 -0.02  0.02 -0.02] W2_grad [ 0.03  0.02 -0.03 -0.02] b1_grad [0. 0.] b2_grad [-0.  0.]\n",
            "Epochs: 191 loss 0.02 W1_grad [ 0.02 -0.02  0.02 -0.02] W2_grad [ 0.02  0.02 -0.02 -0.02] b1_grad [0. 0.] b2_grad [-0.  0.]\n",
            "Epochs: 201 loss 0.0184 W1_grad [ 0.02 -0.02  0.02 -0.02] W2_grad [ 0.02  0.02 -0.02 -0.02] b1_grad [0. 0.] b2_grad [-0.  0.]\n",
            "Epochs: 211 loss 0.017 W1_grad [ 0.02 -0.02  0.02 -0.02] W2_grad [ 0.02  0.02 -0.02 -0.02] b1_grad [0. 0.] b2_grad [-0.  0.]\n",
            "Epochs: 221 loss 0.0157 W1_grad [ 0.02 -0.02  0.02 -0.01] W2_grad [ 0.02  0.02 -0.02 -0.02] b1_grad [0. 0.] b2_grad [-0.  0.]\n",
            "Epochs: 231 loss 0.0147 W1_grad [ 0.01 -0.01  0.01 -0.01] W2_grad [ 0.02  0.02 -0.02 -0.02] b1_grad [0. 0.] b2_grad [-0.  0.]\n",
            "Epochs: 241 loss 0.0137 W1_grad [ 0.01 -0.01  0.01 -0.01] W2_grad [ 0.02  0.02 -0.02 -0.02] b1_grad [0. 0.] b2_grad [-0.  0.]\n",
            "Epochs: 251 loss 0.0129 W1_grad [ 0.01 -0.01  0.01 -0.01] W2_grad [ 0.02  0.02 -0.02 -0.02] b1_grad [0. 0.] b2_grad [-0.  0.]\n",
            "Epochs: 261 loss 0.0121 W1_grad [ 0.01 -0.01  0.01 -0.01] W2_grad [ 0.02  0.01 -0.02 -0.01] b1_grad [0. 0.] b2_grad [-0.  0.]\n",
            "Epochs: 271 loss 0.0114 W1_grad [ 0.01 -0.01  0.01 -0.01] W2_grad [ 0.01  0.01 -0.01 -0.01] b1_grad [0. 0.] b2_grad [-0.  0.]\n",
            "Epochs: 281 loss 0.0108 W1_grad [ 0.01 -0.01  0.01 -0.01] W2_grad [ 0.01  0.01 -0.01 -0.01] b1_grad [0. 0.] b2_grad [-0.  0.]\n",
            "Epochs: 291 loss 0.0103 W1_grad [ 0.01 -0.01  0.01 -0.01] W2_grad [ 0.01  0.01 -0.01 -0.01] b1_grad [0. 0.] b2_grad [-0.  0.]\n",
            "Epochs: 301 loss 0.0098 W1_grad [ 0.01 -0.01  0.01 -0.01] W2_grad [ 0.01  0.01 -0.01 -0.01] b1_grad [0. 0.] b2_grad [-0.  0.]\n",
            "Epochs: 311 loss 0.0093 W1_grad [ 0.01 -0.01  0.01 -0.01] W2_grad [ 0.01  0.01 -0.01 -0.01] b1_grad [0. 0.] b2_grad [-0.  0.]\n",
            "Epochs: 321 loss 0.0089 W1_grad [ 0.01 -0.01  0.01 -0.01] W2_grad [ 0.01  0.01 -0.01 -0.01] b1_grad [0. 0.] b2_grad [-0.  0.]\n",
            "Epochs: 331 loss 0.0085 W1_grad [ 0.01 -0.01  0.01 -0.01] W2_grad [ 0.01  0.01 -0.01 -0.01] b1_grad [0. 0.] b2_grad [-0.  0.]\n",
            "Epochs: 341 loss 0.0082 W1_grad [ 0.01 -0.01  0.01 -0.01] W2_grad [ 0.01  0.01 -0.01 -0.01] b1_grad [0. 0.] b2_grad [-0.  0.]\n",
            "Epochs: 351 loss 0.0078 W1_grad [ 0.01 -0.01  0.01 -0.01] W2_grad [ 0.01  0.01 -0.01 -0.01] b1_grad [0. 0.] b2_grad [-0.  0.]\n",
            "Epochs: 361 loss 0.0075 W1_grad [ 0.01 -0.01  0.01 -0.01] W2_grad [ 0.01  0.01 -0.01 -0.01] b1_grad [0. 0.] b2_grad [-0.  0.]\n",
            "Epochs: 371 loss 0.0072 W1_grad [ 0.01 -0.01  0.01 -0.01] W2_grad [ 0.01  0.01 -0.01 -0.01] b1_grad [0. 0.] b2_grad [-0.  0.]\n",
            "Epochs: 381 loss 0.007 W1_grad [ 0.01 -0.01  0.01 -0.01] W2_grad [ 0.01  0.01 -0.01 -0.01] b1_grad [0. 0.] b2_grad [-0.  0.]\n",
            "Epochs: 391 loss 0.0067 W1_grad [ 0.01 -0.01  0.01 -0.01] W2_grad [ 0.01  0.01 -0.01 -0.01] b1_grad [0. 0.] b2_grad [-0.  0.]\n",
            "Epochs: 401 loss 0.0065 W1_grad [ 0.01 -0.01  0.01 -0.01] W2_grad [ 0.01  0.01 -0.01 -0.01] b1_grad [0. 0.] b2_grad [-0.  0.]\n",
            "Epochs: 411 loss 0.0063 W1_grad [ 0.01 -0.01  0.01 -0.01] W2_grad [ 0.01  0.01 -0.01 -0.01] b1_grad [0. 0.] b2_grad [-0.  0.]\n",
            "Epochs: 421 loss 0.0061 W1_grad [ 0.01 -0.01  0.01 -0.01] W2_grad [ 0.01  0.01 -0.01 -0.01] b1_grad [0. 0.] b2_grad [-0.  0.]\n",
            "Epochs: 431 loss 0.0059 W1_grad [ 0.01 -0.01  0.01 -0.01] W2_grad [ 0.01  0.01 -0.01 -0.01] b1_grad [0. 0.] b2_grad [-0.  0.]\n",
            "Epochs: 441 loss 0.0057 W1_grad [ 0.01 -0.01  0.01 -0.01] W2_grad [ 0.01  0.01 -0.01 -0.01] b1_grad [0. 0.] b2_grad [-0.  0.]\n",
            "Epochs: 451 loss 0.0055 W1_grad [ 0.01 -0.01  0.01 -0.01] W2_grad [ 0.01  0.01 -0.01 -0.01] b1_grad [0. 0.] b2_grad [-0.  0.]\n",
            "Epochs: 461 loss 0.0054 W1_grad [ 0.01 -0.01  0.01 -0.01] W2_grad [ 0.01  0.01 -0.01 -0.01] b1_grad [0. 0.] b2_grad [-0.  0.]\n",
            "Epochs: 471 loss 0.0052 W1_grad [ 0.01 -0.01  0.01 -0.01] W2_grad [ 0.01  0.01 -0.01 -0.01] b1_grad [0. 0.] b2_grad [-0.  0.]\n",
            "Epochs: 481 loss 0.0051 W1_grad [ 0.01 -0.01  0.01 -0.  ] W2_grad [ 0.01  0.01 -0.01 -0.01] b1_grad [0. 0.] b2_grad [-0.  0.]\n",
            "Epochs: 491 loss 0.005 W1_grad [ 0.   -0.01  0.   -0.  ] W2_grad [ 0.01  0.01 -0.01 -0.01] b1_grad [0. 0.] b2_grad [-0.  0.]\n",
            "Epochs: 501 loss 0.0048 W1_grad [ 0. -0.  0. -0.] W2_grad [ 0.01  0.01 -0.01 -0.01] b1_grad [0. 0.] b2_grad [-0.  0.]\n",
            "Epochs: 511 loss 0.0047 W1_grad [ 0. -0.  0. -0.] W2_grad [ 0.01  0.01 -0.01 -0.01] b1_grad [0. 0.] b2_grad [-0.  0.]\n",
            "Epochs: 521 loss 0.0046 W1_grad [ 0. -0.  0. -0.] W2_grad [ 0.01  0.01 -0.01 -0.01] b1_grad [0. 0.] b2_grad [-0.  0.]\n",
            "Epochs: 531 loss 0.0045 W1_grad [ 0. -0.  0. -0.] W2_grad [ 0.01  0.01 -0.01 -0.01] b1_grad [0. 0.] b2_grad [-0.  0.]\n",
            "Epochs: 541 loss 0.0044 W1_grad [ 0. -0.  0. -0.] W2_grad [ 0.01  0.01 -0.01 -0.01] b1_grad [0. 0.] b2_grad [-0.  0.]\n",
            "Epochs: 551 loss 0.0043 W1_grad [ 0. -0.  0. -0.] W2_grad [ 0.01  0.01 -0.01 -0.01] b1_grad [0. 0.] b2_grad [-0.  0.]\n",
            "Epochs: 561 loss 0.0042 W1_grad [ 0. -0.  0. -0.] W2_grad [ 0.01  0.01 -0.01 -0.01] b1_grad [0. 0.] b2_grad [-0.  0.]\n",
            "Epochs: 571 loss 0.0041 W1_grad [ 0. -0.  0. -0.] W2_grad [ 0.01  0.01 -0.01 -0.01] b1_grad [0. 0.] b2_grad [-0.  0.]\n",
            "Epochs: 581 loss 0.004 W1_grad [ 0. -0.  0. -0.] W2_grad [ 0.01  0.01 -0.01 -0.01] b1_grad [0. 0.] b2_grad [-0.  0.]\n",
            "Epochs: 591 loss 0.0039 W1_grad [ 0. -0.  0. -0.] W2_grad [ 0.01  0.01 -0.01 -0.01] b1_grad [0. 0.] b2_grad [-0.  0.]\n"
          ]
        },
        {
          "output_type": "display_data",
          "data": {
            "text/plain": [
              "<Figure size 640x480 with 1 Axes>"
            ],
            "image/png": "[encoded data removed]"
          },
          "metadata": {}
        }
      ],
      "source": [
        "X = np.array([[0.5, 0.2],\n",
        "        [0.1, 0.7]]) # shape (2,2)\n",
        "\n",
        "# 标签（one-hot）\n",
        "y_true = np.array([[1, 0],\n",
        "          [0, 1]])  # shape (2,2)\n",
        "\n",
        "# 权重和偏置初始化\n",
        "W1 = np.array([[0.1, 0.3],\n",
        "        [0.2, 0.4]])  # shape (2, 2)\n",
        "\n",
        "b1 = np.array([[0.1],\n",
        "        [0.2]])     # shape (2, 1)\n",
        "\n",
        "W2 = np.array([[0.5, 0.6],\n",
        "        [0.7, 0.8]])  # shape (2, 2)\n",
        "\n",
        "b2 = np.array([[0.1],\n",
        "        [0.2]])     # shape (2, 1)\n",
        "\n",
        "learning_rate = 0.1\n",
        "\n",
        "epochs = 600\n",
        "losses = []\n",
        "\n",
        "for epoch in range(epochs):\n",
        "  Z, H, y_pred = forward(W1, W2, b1, b2, X)\n",
        "  loss = compute_loss(y_true, y_pred)\n",
        "  losses.append(loss)\n",
        "\n",
        "  W1_grad, W2_grad, b1_grad, b2_grad = backward(y_pred, y_true, H, W2, X)\n",
        "  loss = compute_loss(y_true, y_pred)\n",
        "  W1, W2, b1, b2 = update_params(W1, W2, b1, b2, W1_grad, W2_grad, b1_grad, b2_grad, learning_rate)\n",
        "\n",
        "  if epoch%10== 0:\n",
        "    print(\"Epochs:\", epoch + 1,\n",
        "        \"loss\", np.round(loss, 4),\n",
        "        \"W1_grad\", np.round(W1_grad.flatten(), 2),\n",
        "        \"W2_grad\", np.round(W2_grad.flatten(), 2),\n",
        "        \"b1_grad\", np.round(b1_grad.flatten(), 2),\n",
        "        \"b2_grad\", np.round(b2_grad.flatten(), 2)\n",
        "        )\n",
        "\n",
        "plt.plot(range(epochs), losses, \"blue\")\n",
        "plt.xlabel(\"epoch axis\")\n",
        "plt.ylabel(\"loss axis\")\n",
        "plt.show()"
      ]
    }
  ]
}