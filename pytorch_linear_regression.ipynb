{
  "nbformat": 4,
  "nbformat_minor": 0,
  "metadata": {
    "colab": {
      "provenance": [],
      "gpuType": "T4",
      "authorship_tag": "ABX9TyOV+lRatThJCAbqftkV/64m"
    },
    "kernelspec": {
      "name": "python3",
      "display_name": "Python 3"
    },
    "language_info": {
      "name": "python"
    },
    "accelerator": "GPU"
  },
  "cells": [
    {
      "cell_type": "code",
      "execution_count": 7,
      "metadata": {
        "colab": {
          "base_uri": "https://localhost:8080/",
          "height": 1000
        },
        "id": "rRm4qsp6ksJy",
        "outputId": "e07e6616-6d46-4e50-9506-80c5b57a8206"
      },
      "outputs": [
        {
          "output_type": "execute_result",
          "data": {
            "text/plain": [
              "    YearsExperience  Salary\n",
              "0               0.3    36.2\n",
              "1               0.6    36.6\n",
              "2               0.8    42.8\n",
              "3               1.1    39.3\n",
              "4               1.3    46.2\n",
              "5               1.5    37.7\n",
              "6               2.0    43.5\n",
              "7               2.2    39.8\n",
              "8               2.9    56.6\n",
              "9               3.0    60.1\n",
              "10              3.2    54.4\n",
              "11              3.2    64.4\n",
              "12              3.7    57.1\n",
              "13              3.9    63.2\n",
              "14              4.0    55.7\n",
              "15              4.0    56.9\n",
              "16              4.1    57.0\n",
              "17              4.5    61.1\n",
              "18              4.9    67.9\n",
              "19              5.1    66.0\n",
              "20              5.3    83.0\n",
              "21              5.9    81.3\n",
              "22              6.0    93.9\n",
              "23              6.8    91.7\n",
              "24              7.1    98.2\n",
              "25              7.9   101.3\n",
              "26              8.2   113.8\n",
              "27              8.7   109.4\n",
              "28              9.0   105.5\n",
              "29              9.5   116.9\n",
              "30              9.6   112.6\n",
              "31             10.3   122.3\n",
              "32             10.5   121.8"
            ],
            "text/html": [
              "\n",
              "  <div id=\"df-fe0deec6-3414-4e61-a440-9fcbd7874bdc\" class=\"colab-df-container\">\n",
              "    <div>\n",
              "<style scoped>\n",
              "    .dataframe tbody tr th:only-of-type {\n",
              "        vertical-align: middle;\n",
              "    }\n",
              "\n",
              "    .dataframe tbody tr th {\n",
              "        vertical-align: top;\n",
              "    }\n",
              "\n",
              "    .dataframe thead th {\n",
              "        text-align: right;\n",
              "    }\n",
              "</style>\n",
              "<table border=\"1\" class=\"dataframe\">\n",
              "  <thead>\n",
              "    <tr style=\"text-align: right;\">\n",
              "      <th></th>\n",
              "      <th>YearsExperience</th>\n",
              "      <th>Salary</th>\n",
              "    </tr>\n",
              "  </thead>\n",
              "  <tbody>\n",
              "    <tr>\n",
              "      <th>0</th>\n",
              "      <td>0.3</td>\n",
              "      <td>36.2</td>\n",
              "    </tr>\n",
              "    <tr>\n",
              "      <th>1</th>\n",
              "      <td>0.6</td>\n",
              "      <td>36.6</td>\n",
              "    </tr>\n",
              "    <tr>\n",
              "      <th>2</th>\n",
              "      <td>0.8</td>\n",
              "      <td>42.8</td>\n",
              "    </tr>\n",
              "    <tr>\n",
              "      <th>3</th>\n",
              "      <td>1.1</td>\n",
              "      <td>39.3</td>\n",
              "    </tr>\n",
              "    <tr>\n",
              "      <th>4</th>\n",
              "      <td>1.3</td>\n",
              "      <td>46.2</td>\n",
              "    </tr>\n",
              "    <tr>\n",
              "      <th>5</th>\n",
              "      <td>1.5</td>\n",
              "      <td>37.7</td>\n",
              "    </tr>\n",
              "    <tr>\n",
              "      <th>6</th>\n",
              "      <td>2.0</td>\n",
              "      <td>43.5</td>\n",
              "    </tr>\n",
              "    <tr>\n",
              "      <th>7</th>\n",
              "      <td>2.2</td>\n",
              "      <td>39.8</td>\n",
              "    </tr>\n",
              "    <tr>\n",
              "      <th>8</th>\n",
              "      <td>2.9</td>\n",
              "      <td>56.6</td>\n",
              "    </tr>\n",
              "    <tr>\n",
              "      <th>9</th>\n",
              "      <td>3.0</td>\n",
              "      <td>60.1</td>\n",
              "    </tr>\n",
              "    <tr>\n",
              "      <th>10</th>\n",
              "      <td>3.2</td>\n",
              "      <td>54.4</td>\n",
              "    </tr>\n",
              "    <tr>\n",
              "      <th>11</th>\n",
              "      <td>3.2</td>\n",
              "      <td>64.4</td>\n",
              "    </tr>\n",
              "    <tr>\n",
              "      <th>12</th>\n",
              "      <td>3.7</td>\n",
              "      <td>57.1</td>\n",
              "    </tr>\n",
              "    <tr>\n",
              "      <th>13</th>\n",
              "      <td>3.9</td>\n",
              "      <td>63.2</td>\n",
              "    </tr>\n",
              "    <tr>\n",
              "      <th>14</th>\n",
              "      <td>4.0</td>\n",
              "      <td>55.7</td>\n",
              "    </tr>\n",
              "    <tr>\n",
              "      <th>15</th>\n",
              "      <td>4.0</td>\n",
              "      <td>56.9</td>\n",
              "    </tr>\n",
              "    <tr>\n",
              "      <th>16</th>\n",
              "      <td>4.1</td>\n",
              "      <td>57.0</td>\n",
              "    </tr>\n",
              "    <tr>\n",
              "      <th>17</th>\n",
              "      <td>4.5</td>\n",
              "      <td>61.1</td>\n",
              "    </tr>\n",
              "    <tr>\n",
              "      <th>18</th>\n",
              "      <td>4.9</td>\n",
              "      <td>67.9</td>\n",
              "    </tr>\n",
              "    <tr>\n",
              "      <th>19</th>\n",
              "      <td>5.1</td>\n",
              "      <td>66.0</td>\n",
              "    </tr>\n",
              "    <tr>\n",
              "      <th>20</th>\n",
              "      <td>5.3</td>\n",
              "      <td>83.0</td>\n",
              "    </tr>\n",
              "    <tr>\n",
              "      <th>21</th>\n",
              "      <td>5.9</td>\n",
              "      <td>81.3</td>\n",
              "    </tr>\n",
              "    <tr>\n",
              "      <th>22</th>\n",
              "      <td>6.0</td>\n",
              "      <td>93.9</td>\n",
              "    </tr>\n",
              "    <tr>\n",
              "      <th>23</th>\n",
              "      <td>6.8</td>\n",
              "      <td>91.7</td>\n",
              "    </tr>\n",
              "    <tr>\n",
              "      <th>24</th>\n",
              "      <td>7.1</td>\n",
              "      <td>98.2</td>\n",
              "    </tr>\n",
              "    <tr>\n",
              "      <th>25</th>\n",
              "      <td>7.9</td>\n",
              "      <td>101.3</td>\n",
              "    </tr>\n",
              "    <tr>\n",
              "      <th>26</th>\n",
              "      <td>8.2</td>\n",
              "      <td>113.8</td>\n",
              "    </tr>\n",
              "    <tr>\n",
              "      <th>27</th>\n",
              "      <td>8.7</td>\n",
              "      <td>109.4</td>\n",
              "    </tr>\n",
              "    <tr>\n",
              "      <th>28</th>\n",
              "      <td>9.0</td>\n",
              "      <td>105.5</td>\n",
              "    </tr>\n",
              "    <tr>\n",
              "      <th>29</th>\n",
              "      <td>9.5</td>\n",
              "      <td>116.9</td>\n",
              "    </tr>\n",
              "    <tr>\n",
              "      <th>30</th>\n",
              "      <td>9.6</td>\n",
              "      <td>112.6</td>\n",
              "    </tr>\n",
              "    <tr>\n",
              "      <th>31</th>\n",
              "      <td>10.3</td>\n",
              "      <td>122.3</td>\n",
              "    </tr>\n",
              "    <tr>\n",
              "      <th>32</th>\n",
              "      <td>10.5</td>\n",
              "      <td>121.8</td>\n",
              "    </tr>\n",
              "  </tbody>\n",
              "</table>\n",
              "</div>\n",
              "    <div class=\"colab-df-buttons\">\n",
              "\n",
              "  <div class=\"colab-df-container\">\n",
              "    <button class=\"colab-df-convert\" onclick=\"convertToInteractive('df-fe0deec6-3414-4e61-a440-9fcbd7874bdc')\"\n",
              "            title=\"Convert this dataframe to an interactive table.\"\n",
              "            style=\"display:none;\">\n",
              "\n",
              "  <svg xmlns=\"http://www.w3.org/2000/svg\" height=\"24px\" viewBox=\"0 -960 960 960\">\n",
              "    <path d=\"M120-120v-720h720v720H120Zm60-500h600v-160H180v160Zm220 220h160v-160H400v160Zm0 220h160v-160H400v160ZM180-400h160v-160H180v160Zm440 0h160v-160H620v160ZM180-180h160v-160H180v160Zm440 0h160v-160H620v160Z\"/>\n",
              "  </svg>\n",
              "    </button>\n",
              "\n",
              "  <style>\n",
              "    .colab-df-container {\n",
              "      display:flex;\n",
              "      gap: 12px;\n",
              "    }\n",
              "\n",
              "    .colab-df-convert {\n",
              "      background-color: #E8F0FE;\n",
              "      border: none;\n",
              "      border-radius: 50%;\n",
              "      cursor: pointer;\n",
              "      display: none;\n",
              "      fill: #1967D2;\n",
              "      height: 32px;\n",
              "      padding: 0 0 0 0;\n",
              "      width: 32px;\n",
              "    }\n",
              "\n",
              "    .colab-df-convert:hover {\n",
              "      background-color: #E2EBFA;\n",
              "      box-shadow: 0px 1px 2px rgba(60, 64, 67, 0.3), 0px 1px 3px 1px rgba(60, 64, 67, 0.15);\n",
              "      fill: #174EA6;\n",
              "    }\n",
              "\n",
              "    .colab-df-buttons div {\n",
              "      margin-bottom: 4px;\n",
              "    }\n",
              "\n",
              "    [theme=dark] .colab-df-convert {\n",
              "      background-color: #3B4455;\n",
              "      fill: #D2E3FC;\n",
              "    }\n",
              "\n",
              "    [theme=dark] .colab-df-convert:hover {\n",
              "      background-color: #434B5C;\n",
              "      box-shadow: 0px 1px 3px 1px rgba(0, 0, 0, 0.15);\n",
              "      filter: drop-shadow(0px 1px 2px rgba(0, 0, 0, 0.3));\n",
              "      fill: #FFFFFF;\n",
              "    }\n",
              "  </style>\n",
              "\n",
              "    <script>\n",
              "      const buttonEl =\n",
              "        document.querySelector('#df-fe0deec6-3414-4e61-a440-9fcbd7874bdc button.colab-df-convert');\n",
              "      buttonEl.style.display =\n",
              "        google.colab.kernel.accessAllowed ? 'block' : 'none';\n",
              "\n",
              "      async function convertToInteractive(key) {\n",
              "        const element = document.querySelector('#df-fe0deec6-3414-4e61-a440-9fcbd7874bdc');\n",
              "        const dataTable =\n",
              "          await google.colab.kernel.invokeFunction('convertToInteractive',\n",
              "                                                    [key], {});\n",
              "        if (!dataTable) return;\n",
              "\n",
              "        const docLinkHtml = 'Like what you see? Visit the ' +\n",
              "          '<a target=\"_blank\" href=https://colab.research.google.com/notebooks/data_table.ipynb>data table notebook</a>'\n",
              "          + ' to learn more about interactive tables.';\n",
              "        element.innerHTML = '';\n",
              "        dataTable['output_type'] = 'display_data';\n",
              "        await google.colab.output.renderOutput(dataTable, element);\n",
              "        const docLink = document.createElement('div');\n",
              "        docLink.innerHTML = docLinkHtml;\n",
              "        element.appendChild(docLink);\n",
              "      }\n",
              "    </script>\n",
              "  </div>\n",
              "\n",
              "\n",
              "<div id=\"df-5f2f44c4-9084-441c-a3cd-ccbbd5e7f1c6\">\n",
              "  <button class=\"colab-df-quickchart\" onclick=\"quickchart('df-5f2f44c4-9084-441c-a3cd-ccbbd5e7f1c6')\"\n",
              "            title=\"Suggest charts\"\n",
              "            style=\"display:none;\">\n",
              "\n",
              "<svg xmlns=\"http://www.w3.org/2000/svg\" height=\"24px\"viewBox=\"0 0 24 24\"\n",
              "     width=\"24px\">\n",
              "    <g>\n",
              "        <path d=\"M19 3H5c-1.1 0-2 .9-2 2v14c0 1.1.9 2 2 2h14c1.1 0 2-.9 2-2V5c0-1.1-.9-2-2-2zM9 17H7v-7h2v7zm4 0h-2V7h2v10zm4 0h-2v-4h2v4z\"/>\n",
              "    </g>\n",
              "</svg>\n",
              "  </button>\n",
              "\n",
              "<style>\n",
              "  .colab-df-quickchart {\n",
              "      --bg-color: #E8F0FE;\n",
              "      --fill-color: #1967D2;\n",
              "      --hover-bg-color: #E2EBFA;\n",
              "      --hover-fill-color: #174EA6;\n",
              "      --disabled-fill-color: #AAA;\n",
              "      --disabled-bg-color: #DDD;\n",
              "  }\n",
              "\n",
              "  [theme=dark] .colab-df-quickchart {\n",
              "      --bg-color: #3B4455;\n",
              "      --fill-color: #D2E3FC;\n",
              "      --hover-bg-color: #434B5C;\n",
              "      --hover-fill-color: #FFFFFF;\n",
              "      --disabled-bg-color: #3B4455;\n",
              "      --disabled-fill-color: #666;\n",
              "  }\n",
              "\n",
              "  .colab-df-quickchart {\n",
              "    background-color: var(--bg-color);\n",
              "    border: none;\n",
              "    border-radius: 50%;\n",
              "    cursor: pointer;\n",
              "    display: none;\n",
              "    fill: var(--fill-color);\n",
              "    height: 32px;\n",
              "    padding: 0;\n",
              "    width: 32px;\n",
              "  }\n",
              "\n",
              "  .colab-df-quickchart:hover {\n",
              "    background-color: var(--hover-bg-color);\n",
              "    box-shadow: 0 1px 2px rgba(60, 64, 67, 0.3), 0 1px 3px 1px rgba(60, 64, 67, 0.15);\n",
              "    fill: var(--button-hover-fill-color);\n",
              "  }\n",
              "\n",
              "  .colab-df-quickchart-complete:disabled,\n",
              "  .colab-df-quickchart-complete:disabled:hover {\n",
              "    background-color: var(--disabled-bg-color);\n",
              "    fill: var(--disabled-fill-color);\n",
              "    box-shadow: none;\n",
              "  }\n",
              "\n",
              "  .colab-df-spinner {\n",
              "    border: 2px solid var(--fill-color);\n",
              "    border-color: transparent;\n",
              "    border-bottom-color: var(--fill-color);\n",
              "    animation:\n",
              "      spin 1s steps(1) infinite;\n",
              "  }\n",
              "\n",
              "  @keyframes spin {\n",
              "    0% {\n",
              "      border-color: transparent;\n",
              "      border-bottom-color: var(--fill-color);\n",
              "      border-left-color: var(--fill-color);\n",
              "    }\n",
              "    20% {\n",
              "      border-color: transparent;\n",
              "      border-left-color: var(--fill-color);\n",
              "      border-top-color: var(--fill-color);\n",
              "    }\n",
              "    30% {\n",
              "      border-color: transparent;\n",
              "      border-left-color: var(--fill-color);\n",
              "      border-top-color: var(--fill-color);\n",
              "      border-right-color: var(--fill-color);\n",
              "    }\n",
              "    40% {\n",
              "      border-color: transparent;\n",
              "      border-right-color: var(--fill-color);\n",
              "      border-top-color: var(--fill-color);\n",
              "    }\n",
              "    60% {\n",
              "      border-color: transparent;\n",
              "      border-right-color: var(--fill-color);\n",
              "    }\n",
              "    80% {\n",
              "      border-color: transparent;\n",
              "      border-right-color: var(--fill-color);\n",
              "      border-bottom-color: var(--fill-color);\n",
              "    }\n",
              "    90% {\n",
              "      border-color: transparent;\n",
              "      border-bottom-color: var(--fill-color);\n",
              "    }\n",
              "  }\n",
              "</style>\n",
              "\n",
              "  <script>\n",
              "    async function quickchart(key) {\n",
              "      const quickchartButtonEl =\n",
              "        document.querySelector('#' + key + ' button');\n",
              "      quickchartButtonEl.disabled = true;  // To prevent multiple clicks.\n",
              "      quickchartButtonEl.classList.add('colab-df-spinner');\n",
              "      try {\n",
              "        const charts = await google.colab.kernel.invokeFunction(\n",
              "            'suggestCharts', [key], {});\n",
              "      } catch (error) {\n",
              "        console.error('Error during call to suggestCharts:', error);\n",
              "      }\n",
              "      quickchartButtonEl.classList.remove('colab-df-spinner');\n",
              "      quickchartButtonEl.classList.add('colab-df-quickchart-complete');\n",
              "    }\n",
              "    (() => {\n",
              "      let quickchartButtonEl =\n",
              "        document.querySelector('#df-5f2f44c4-9084-441c-a3cd-ccbbd5e7f1c6 button');\n",
              "      quickchartButtonEl.style.display =\n",
              "        google.colab.kernel.accessAllowed ? 'block' : 'none';\n",
              "    })();\n",
              "  </script>\n",
              "</div>\n",
              "    </div>\n",
              "  </div>\n"
            ],
            "application/vnd.google.colaboratory.intrinsic+json": {
              "type": "dataframe",
              "variable_name": "data",
              "summary": "{\n  \"name\": \"data\",\n  \"rows\": 33,\n  \"fields\": [\n    {\n      \"column\": \"YearsExperience\",\n      \"properties\": {\n        \"dtype\": \"number\",\n        \"std\": 3.036903701290031,\n        \"min\": 0.3,\n        \"max\": 10.5,\n        \"num_unique_values\": 31,\n        \"samples\": [\n          9.5,\n          4.5,\n          7.9\n        ],\n        \"semantic_type\": \"\",\n        \"description\": \"\"\n      }\n    },\n    {\n      \"column\": \"Salary\",\n      \"properties\": {\n        \"dtype\": \"number\",\n        \"std\": 28.30461668628593,\n        \"min\": 36.2,\n        \"max\": 122.3,\n        \"num_unique_values\": 33,\n        \"samples\": [\n          122.3,\n          56.9,\n          113.8\n        ],\n        \"semantic_type\": \"\",\n        \"description\": \"\"\n      }\n    }\n  ]\n}"
            }
          },
          "metadata": {},
          "execution_count": 7
        }
      ],
      "source": [
        "import pandas as pd\n",
        "\n",
        "url = \"https://raw.githubusercontent.com/GrandmaCan/ML/main/Resgression/Salary_Data.csv\"\n",
        "\n",
        "data = pd.read_csv(url)\n",
        "data\n",
        "# y = w*x + b\n",
        "x = data[\"YearsExperience\"]\n",
        "y = data[\"Salary\"]\n",
        "\n",
        "data"
      ]
    },
    {
      "cell_type": "code",
      "source": [
        "from sklearn.model_selection import train_test_split\n",
        "import torch\n",
        "\n",
        "x_train, x_test, y_train, y_test = train_test_split(x, y, test_size=0.2, random_state=87)\n",
        "x_train = x_train.to_numpy()\n",
        "x_test = x_test.to_numpy()\n",
        "y_train = y_train.to_numpy()\n",
        "y_test = y_test.to_numpy()\n",
        "\n",
        "x_train = torch.from_numpy(x_train)\n",
        "x_test = torch.from_numpy(x_test)\n",
        "y_train = torch.from_numpy(y_train)\n",
        "y_test = torch.from_numpy(y_test)\n",
        "\n",
        "x_train, x_test, y_train, x_test"
      ],
      "metadata": {
        "colab": {
          "base_uri": "https://localhost:8080/"
        },
        "id": "7m7-tvSFlrsv",
        "outputId": "fb5f9301-3a4a-45d6-b19d-7b27b475da9c"
      },
      "execution_count": 8,
      "outputs": [
        {
          "output_type": "execute_result",
          "data": {
            "text/plain": [
              "(tensor([ 6.8000,  4.1000,  7.1000,  0.8000,  3.2000,  9.5000,  1.5000,  2.2000,\n",
              "          4.5000,  4.9000,  5.3000,  1.1000,  8.2000,  2.9000,  3.2000,  4.0000,\n",
              "          7.9000,  3.0000,  0.3000,  5.1000,  9.0000,  2.0000, 10.3000,  4.0000,\n",
              "          8.7000,  3.9000], dtype=torch.float64),\n",
              " tensor([ 6.0000, 10.5000,  0.6000,  5.9000,  9.6000,  3.7000,  1.3000],\n",
              "        dtype=torch.float64),\n",
              " tensor([ 91.7000,  57.0000,  98.2000,  42.8000,  64.4000, 116.9000,  37.7000,\n",
              "          39.8000,  61.1000,  67.9000,  83.0000,  39.3000, 113.8000,  56.6000,\n",
              "          54.4000,  55.7000, 101.3000,  60.1000,  36.2000,  66.0000, 105.5000,\n",
              "          43.5000, 122.3000,  56.9000, 109.4000,  63.2000], dtype=torch.float64),\n",
              " tensor([ 6.0000, 10.5000,  0.6000,  5.9000,  9.6000,  3.7000,  1.3000],\n",
              "        dtype=torch.float64))"
            ]
          },
          "metadata": {},
          "execution_count": 8
        }
      ]
    },
    {
      "cell_type": "code",
      "source": [
        "from torch import nn\n",
        "\n",
        "class LinearRegressionModel(nn.Module):\n",
        "  def __init__(self):\n",
        "    super().__init__()\n",
        "    #self.linear_layer == nn.Linear(in_features=1, out_features=1)\n",
        "    self.w = nn.Parameter(torch.rand(1, requires_grad=True))\n",
        "    self.b = nn.Parameter(torch.rand(1, requires_grad=True))\n",
        "\n",
        "  def forward(self, x):\n",
        "    return self.w*x + self.b"
      ],
      "metadata": {
        "id": "uuEEAWNJVJLR"
      },
      "execution_count": 9,
      "outputs": []
    },
    {
      "cell_type": "code",
      "source": [
        "torch.manual_seed(87)\n",
        "model = LinearRegressionModel()\n",
        "# list(model.parameters())\n",
        "model.state_dict()"
      ],
      "metadata": {
        "colab": {
          "base_uri": "https://localhost:8080/"
        },
        "id": "NX3j0pZwrXsC",
        "outputId": "ced9d4cc-3e9a-4521-c0e2-e5662c8fe067"
      },
      "execution_count": 10,
      "outputs": [
        {
          "output_type": "execute_result",
          "data": {
            "text/plain": [
              "OrderedDict([('w', tensor([0.0036])), ('b', tensor([0.8931]))])"
            ]
          },
          "metadata": {},
          "execution_count": 10
        }
      ]
    },
    {
      "cell_type": "code",
      "source": [
        "y_pred = model(x_test)\n",
        "y_pred, y_test"
      ],
      "metadata": {
        "colab": {
          "base_uri": "https://localhost:8080/"
        },
        "id": "A94o6xGDr27W",
        "outputId": "c4d959f8-12a9-40f0-aa8c-3f073446f439"
      },
      "execution_count": 11,
      "outputs": [
        {
          "output_type": "execute_result",
          "data": {
            "text/plain": [
              "(tensor([0.9149, 0.9312, 0.8953, 0.9145, 0.9279, 0.9065, 0.8978],\n",
              "        dtype=torch.float64, grad_fn=<AddBackward0>),\n",
              " tensor([ 93.9000, 121.8000,  36.6000,  81.3000, 112.6000,  57.1000,  46.2000],\n",
              "        dtype=torch.float64))"
            ]
          },
          "metadata": {},
          "execution_count": 11
        }
      ]
    },
    {
      "cell_type": "code",
      "source": [
        "cost_fn = nn.MSELoss()\n",
        "y_pred = model(x_train)\n",
        "cost = cost_fn(y_pred, y_train)\n",
        "print(model.state_dict())\n",
        "print(cost)\n",
        "\n",
        "optimizer = torch.optim.SGD(params=model.parameters(),lr=0.001)\n",
        "optimizer.zero_grad()\n",
        "cost.backward()\n",
        "optimizer.step()\n",
        "\n",
        "y_pred = model(x_train)\n",
        "cost = cost_fn(y_pred, y_train)\n",
        "print(model.state_dict())\n",
        "print(cost)"
      ],
      "metadata": {
        "colab": {
          "base_uri": "https://localhost:8080/"
        },
        "id": "5hpxTUaWub79",
        "outputId": "2759e38d-6d38-4f04-de4f-15dd6a95766a"
      },
      "execution_count": 12,
      "outputs": [
        {
          "output_type": "stream",
          "name": "stdout",
          "text": [
            "OrderedDict([('w', tensor([0.0036])), ('b', tensor([0.8931]))])\n",
            "tensor(5627.4383, dtype=torch.float64, grad_fn=<MseLossBackward0>)\n",
            "OrderedDict([('w', tensor([0.8168])), ('b', tensor([1.0332]))])\n",
            "tensor(4967.8156, dtype=torch.float64, grad_fn=<MseLossBackward0>)\n"
          ]
        }
      ]
    },
    {
      "cell_type": "code",
      "source": [
        "epochs = 1000\n",
        "\n",
        "train_cost_hist = []\n",
        "test_cost_hist = []\n",
        "\n",
        "for epoch in range(epochs):\n",
        "  model.train()\n",
        "\n",
        "  y_pred = model(x_train)\n",
        "  train_cost = cost_fn(y_pred, y_train)\n",
        "  train_cost_hist.append(train_cost.detach().numpy())\n",
        "\n",
        "  optimizer.zero_grad()\n",
        "  train_cost.backward()\n",
        "  optimizer.step()\n",
        "\n",
        "  model.eval()\n",
        "  with torch.inference_mode():\n",
        "    test_pred = model(x_test)\n",
        "    test_cost = cost_fn(test_pred, y_test)\n",
        "    test_cost_hist.append(test_cost)\n",
        "\n",
        "  if epoch%10 == 0:\n",
        "    print(f\"Epoch: {epoch:5},Train Cost: {train_cost: .4e},Test Cost{test_cost: .4e}\")"
      ],
      "metadata": {
        "colab": {
          "base_uri": "https://localhost:8080/"
        },
        "id": "M43QeJviBZ9n",
        "outputId": "ba5064ba-600c-41c2-fe78-7bf888e042d6"
      },
      "execution_count": 13,
      "outputs": [
        {
          "output_type": "stream",
          "name": "stdout",
          "text": [
            "Epoch:     0,Train Cost:  4.9678e+03,Test Cost 5.3700e+03\n",
            "Epoch:    10,Train Cost:  1.4952e+03,Test Cost 1.5507e+03\n",
            "Epoch:    20,Train Cost:  5.3827e+02,Test Cost 5.6718e+02\n",
            "Epoch:    30,Train Cost:  2.7381e+02,Test Cost 3.3110e+02\n",
            "Epoch:    40,Train Cost:  1.9998e+02,Test Cost 2.8344e+02\n",
            "Epoch:    50,Train Cost:  1.7864e+02,Test Cost 2.7861e+02\n",
            "Epoch:    60,Train Cost:  1.7176e+02,Test Cost 2.8085e+02\n",
            "Epoch:    70,Train Cost:  1.6886e+02,Test Cost 2.8259e+02\n",
            "Epoch:    80,Train Cost:  1.6708e+02,Test Cost 2.8292e+02\n",
            "Epoch:    90,Train Cost:  1.6561e+02,Test Cost 2.8220e+02\n",
            "Epoch:   100,Train Cost:  1.6423e+02,Test Cost 2.8086e+02\n",
            "Epoch:   110,Train Cost:  1.6289e+02,Test Cost 2.7918e+02\n",
            "Epoch:   120,Train Cost:  1.6158e+02,Test Cost 2.7732e+02\n",
            "Epoch:   130,Train Cost:  1.6027e+02,Test Cost 2.7537e+02\n",
            "Epoch:   140,Train Cost:  1.5898e+02,Test Cost 2.7339e+02\n",
            "Epoch:   150,Train Cost:  1.5771e+02,Test Cost 2.7140e+02\n",
            "Epoch:   160,Train Cost:  1.5644e+02,Test Cost 2.6942e+02\n",
            "Epoch:   170,Train Cost:  1.5519e+02,Test Cost 2.6744e+02\n",
            "Epoch:   180,Train Cost:  1.5395e+02,Test Cost 2.6548e+02\n",
            "Epoch:   190,Train Cost:  1.5273e+02,Test Cost 2.6353e+02\n",
            "Epoch:   200,Train Cost:  1.5152e+02,Test Cost 2.6160e+02\n",
            "Epoch:   210,Train Cost:  1.5031e+02,Test Cost 2.5969e+02\n",
            "Epoch:   220,Train Cost:  1.4913e+02,Test Cost 2.5779e+02\n",
            "Epoch:   230,Train Cost:  1.4795e+02,Test Cost 2.5591e+02\n",
            "Epoch:   240,Train Cost:  1.4678e+02,Test Cost 2.5405e+02\n",
            "Epoch:   250,Train Cost:  1.4563e+02,Test Cost 2.5221e+02\n",
            "Epoch:   260,Train Cost:  1.4449e+02,Test Cost 2.5038e+02\n",
            "Epoch:   270,Train Cost:  1.4336e+02,Test Cost 2.4857e+02\n",
            "Epoch:   280,Train Cost:  1.4224e+02,Test Cost 2.4677e+02\n",
            "Epoch:   290,Train Cost:  1.4113e+02,Test Cost 2.4499e+02\n",
            "Epoch:   300,Train Cost:  1.4004e+02,Test Cost 2.4323e+02\n",
            "Epoch:   310,Train Cost:  1.3895e+02,Test Cost 2.4148e+02\n",
            "Epoch:   320,Train Cost:  1.3788e+02,Test Cost 2.3975e+02\n",
            "Epoch:   330,Train Cost:  1.3681e+02,Test Cost 2.3804e+02\n",
            "Epoch:   340,Train Cost:  1.3576e+02,Test Cost 2.3634e+02\n",
            "Epoch:   350,Train Cost:  1.3472e+02,Test Cost 2.3465e+02\n",
            "Epoch:   360,Train Cost:  1.3369e+02,Test Cost 2.3298e+02\n",
            "Epoch:   370,Train Cost:  1.3267e+02,Test Cost 2.3133e+02\n",
            "Epoch:   380,Train Cost:  1.3166e+02,Test Cost 2.2969e+02\n",
            "Epoch:   390,Train Cost:  1.3066e+02,Test Cost 2.2807e+02\n",
            "Epoch:   400,Train Cost:  1.2967e+02,Test Cost 2.2646e+02\n",
            "Epoch:   410,Train Cost:  1.2869e+02,Test Cost 2.2486e+02\n",
            "Epoch:   420,Train Cost:  1.2772e+02,Test Cost 2.2328e+02\n",
            "Epoch:   430,Train Cost:  1.2675e+02,Test Cost 2.2171e+02\n",
            "Epoch:   440,Train Cost:  1.2580e+02,Test Cost 2.2016e+02\n",
            "Epoch:   450,Train Cost:  1.2486e+02,Test Cost 2.1862e+02\n",
            "Epoch:   460,Train Cost:  1.2393e+02,Test Cost 2.1710e+02\n",
            "Epoch:   470,Train Cost:  1.2301e+02,Test Cost 2.1558e+02\n",
            "Epoch:   480,Train Cost:  1.2210e+02,Test Cost 2.1409e+02\n",
            "Epoch:   490,Train Cost:  1.2119e+02,Test Cost 2.1260e+02\n",
            "Epoch:   500,Train Cost:  1.2030e+02,Test Cost 2.1113e+02\n",
            "Epoch:   510,Train Cost:  1.1941e+02,Test Cost 2.0967e+02\n",
            "Epoch:   520,Train Cost:  1.1853e+02,Test Cost 2.0823e+02\n",
            "Epoch:   530,Train Cost:  1.1767e+02,Test Cost 2.0680e+02\n",
            "Epoch:   540,Train Cost:  1.1681e+02,Test Cost 2.0538e+02\n",
            "Epoch:   550,Train Cost:  1.1596e+02,Test Cost 2.0397e+02\n",
            "Epoch:   560,Train Cost:  1.1511e+02,Test Cost 2.0258e+02\n",
            "Epoch:   570,Train Cost:  1.1428e+02,Test Cost 2.0120e+02\n",
            "Epoch:   580,Train Cost:  1.1346e+02,Test Cost 1.9983e+02\n",
            "Epoch:   590,Train Cost:  1.1264e+02,Test Cost 1.9847e+02\n",
            "Epoch:   600,Train Cost:  1.1183e+02,Test Cost 1.9712e+02\n",
            "Epoch:   610,Train Cost:  1.1103e+02,Test Cost 1.9579e+02\n",
            "Epoch:   620,Train Cost:  1.1024e+02,Test Cost 1.9447e+02\n",
            "Epoch:   630,Train Cost:  1.0946e+02,Test Cost 1.9316e+02\n",
            "Epoch:   640,Train Cost:  1.0868e+02,Test Cost 1.9186e+02\n",
            "Epoch:   650,Train Cost:  1.0791e+02,Test Cost 1.9058e+02\n",
            "Epoch:   660,Train Cost:  1.0715e+02,Test Cost 1.8930e+02\n",
            "Epoch:   670,Train Cost:  1.0640e+02,Test Cost 1.8804e+02\n",
            "Epoch:   680,Train Cost:  1.0565e+02,Test Cost 1.8679e+02\n",
            "Epoch:   690,Train Cost:  1.0491e+02,Test Cost 1.8555e+02\n",
            "Epoch:   700,Train Cost:  1.0418e+02,Test Cost 1.8432e+02\n",
            "Epoch:   710,Train Cost:  1.0346e+02,Test Cost 1.8310e+02\n",
            "Epoch:   720,Train Cost:  1.0274e+02,Test Cost 1.8189e+02\n",
            "Epoch:   730,Train Cost:  1.0204e+02,Test Cost 1.8069e+02\n",
            "Epoch:   740,Train Cost:  1.0134e+02,Test Cost 1.7951e+02\n",
            "Epoch:   750,Train Cost:  1.0064e+02,Test Cost 1.7833e+02\n",
            "Epoch:   760,Train Cost:  9.9954e+01,Test Cost 1.7717e+02\n",
            "Epoch:   770,Train Cost:  9.9274e+01,Test Cost 1.7601e+02\n",
            "Epoch:   780,Train Cost:  9.8600e+01,Test Cost 1.7486e+02\n",
            "Epoch:   790,Train Cost:  9.7934e+01,Test Cost 1.7373e+02\n",
            "Epoch:   800,Train Cost:  9.7274e+01,Test Cost 1.7260e+02\n",
            "Epoch:   810,Train Cost:  9.6621e+01,Test Cost 1.7149e+02\n",
            "Epoch:   820,Train Cost:  9.5974e+01,Test Cost 1.7038e+02\n",
            "Epoch:   830,Train Cost:  9.5334e+01,Test Cost 1.6929e+02\n",
            "Epoch:   840,Train Cost:  9.4700e+01,Test Cost 1.6820e+02\n",
            "Epoch:   850,Train Cost:  9.4073e+01,Test Cost 1.6713e+02\n",
            "Epoch:   860,Train Cost:  9.3452e+01,Test Cost 1.6606e+02\n",
            "Epoch:   870,Train Cost:  9.2838e+01,Test Cost 1.6500e+02\n",
            "Epoch:   880,Train Cost:  9.2229e+01,Test Cost 1.6395e+02\n",
            "Epoch:   890,Train Cost:  9.1627e+01,Test Cost 1.6291e+02\n",
            "Epoch:   900,Train Cost:  9.1031e+01,Test Cost 1.6188e+02\n",
            "Epoch:   910,Train Cost:  9.0441e+01,Test Cost 1.6086e+02\n",
            "Epoch:   920,Train Cost:  8.9856e+01,Test Cost 1.5985e+02\n",
            "Epoch:   930,Train Cost:  8.9278e+01,Test Cost 1.5885e+02\n",
            "Epoch:   940,Train Cost:  8.8706e+01,Test Cost 1.5785e+02\n",
            "Epoch:   950,Train Cost:  8.8139e+01,Test Cost 1.5687e+02\n",
            "Epoch:   960,Train Cost:  8.7578e+01,Test Cost 1.5589e+02\n",
            "Epoch:   970,Train Cost:  8.7023e+01,Test Cost 1.5492e+02\n",
            "Epoch:   980,Train Cost:  8.6473e+01,Test Cost 1.5396e+02\n",
            "Epoch:   990,Train Cost:  8.5929e+01,Test Cost 1.5301e+02\n"
          ]
        }
      ]
    },
    {
      "cell_type": "code",
      "source": [
        "import matplotlib.pyplot as plt\n",
        "plt.plot(range(0, 1000), train_cost_hist, label=\"train cost\")\n",
        "plt.plot(range(0, 1000), test_cost_hist, label=\"test cost\")\n",
        "plt.title(\"train & test cost\")\n",
        "plt.xlabel(\"epochs\")\n",
        "plt.ylabel(\"cost\")\n",
        "plt.legend()\n",
        "plt.show()"
      ],
      "metadata": {
        "colab": {
          "base_uri": "https://localhost:8080/",
          "height": 472
        },
        "id": "hgE6O9fjFqbO",
        "outputId": "b665cdce-4c22-4f6a-90a6-f256fee2ea0b"
      },
      "execution_count": 14,
      "outputs": [
        {
          "output_type": "display_data",
          "data": {
            "text/plain": [
              "<Figure size 640x480 with 1 Axes>"
            ],
            "image/png": "[encoded data removed]"
          },
          "metadata": {}
        }
      ]
    },
    {
      "cell_type": "code",
      "source": [
        "model.state_dict()\n",
        "model.w, model.b"
      ],
      "metadata": {
        "colab": {
          "base_uri": "https://localhost:8080/"
        },
        "id": "ZcneW7DVIIva",
        "outputId": "eef28661-250b-4d38-9781-5607648e0acb"
      },
      "execution_count": 15,
      "outputs": [
        {
          "output_type": "execute_result",
          "data": {
            "text/plain": [
              "(Parameter containing:\n",
              " tensor([11.5699], requires_grad=True),\n",
              " Parameter containing:\n",
              " tensor([12.3775], requires_grad=True))"
            ]
          },
          "metadata": {},
          "execution_count": 15
        }
      ]
    },
    {
      "cell_type": "code",
      "source": [
        "model.eval()\n",
        "with torch.inference_mode():\n",
        "  y_pred = model(x_test)\n",
        "\n",
        "y_pred, y_test"
      ],
      "metadata": {
        "colab": {
          "base_uri": "https://localhost:8080/"
        },
        "id": "vCKPrR07ND2P",
        "outputId": "5e6c18d9-3b44-4db0-f3d2-e3eeba0e65ad"
      },
      "execution_count": 16,
      "outputs": [
        {
          "output_type": "execute_result",
          "data": {
            "text/plain": [
              "(tensor([ 81.7970, 133.8616,  19.3195,  80.6400, 123.4486,  55.1862,  27.4184],\n",
              "        dtype=torch.float64),\n",
              " tensor([ 93.9000, 121.8000,  36.6000,  81.3000, 112.6000,  57.1000,  46.2000],\n",
              "        dtype=torch.float64))"
            ]
          },
          "metadata": {},
          "execution_count": 16
        }
      ]
    },
    {
      "cell_type": "code",
      "source": [
        "model.state_dict()\n",
        "torch.save(obj=model.state_dict(), f=\"model/pytorch_linear_regression.pth\")"
      ],
      "metadata": {
        "id": "8z4UhzdjNYGH"
      },
      "execution_count": 17,
      "outputs": []
    },
    {
      "cell_type": "code",
      "source": [
        "model_1 = LinearRegressionModel()\n",
        "model_1.state_dict()"
      ],
      "metadata": {
        "colab": {
          "base_uri": "https://localhost:8080/"
        },
        "id": "isHLB52aOc6f",
        "outputId": "121c5238-2677-4cb9-f409-196a043d85f9"
      },
      "execution_count": 18,
      "outputs": [
        {
          "output_type": "execute_result",
          "data": {
            "text/plain": [
              "OrderedDict([('w', tensor([0.4548])), ('b', tensor([0.9815]))])"
            ]
          },
          "metadata": {},
          "execution_count": 18
        }
      ]
    },
    {
      "cell_type": "code",
      "source": [
        "model_1.eval()\n",
        "with torch.inference_mode():\n",
        "  y_pred = model_1(x_test)\n",
        "\n",
        "y_pred, y_test"
      ],
      "metadata": {
        "colab": {
          "base_uri": "https://localhost:8080/"
        },
        "id": "L7TTxt9nO0zn",
        "outputId": "0c231410-070e-4c32-95f0-8edc65ccba63"
      },
      "execution_count": 19,
      "outputs": [
        {
          "output_type": "execute_result",
          "data": {
            "text/plain": [
              "(tensor([3.7100, 5.7564, 1.2543, 3.6645, 5.3471, 2.6640, 1.5726],\n",
              "        dtype=torch.float64),\n",
              " tensor([ 93.9000, 121.8000,  36.6000,  81.3000, 112.6000,  57.1000,  46.2000],\n",
              "        dtype=torch.float64))"
            ]
          },
          "metadata": {},
          "execution_count": 19
        }
      ]
    },
    {
      "cell_type": "code",
      "source": [
        "from torch import nn\n",
        "\n",
        "class LinearRegressionModel2(nn.Module):\n",
        "  def __init__(self):\n",
        "    super().__init__()\n",
        "    self.linear_layer = nn.Linear(in_features=1, out_features=1, dtype=torch.float64)\n",
        "    #self.w = nn.Parameter(torch.rand(1, requires_grad=True))\n",
        "    #self.b = nn.Parameter(torch.rand(1, requires_grad=True))\n",
        "\n",
        "  def forward(self, x):\n",
        "    return self.linear_layer(x)"
      ],
      "metadata": {
        "id": "3M6nl4xZqI1e"
      },
      "execution_count": 20,
      "outputs": []
    },
    {
      "cell_type": "code",
      "source": [
        "torch.manual_seed(87)\n",
        "model_2 = LinearRegressionModel2()\n",
        "model_2, model_2.state_dict()"
      ],
      "metadata": {
        "colab": {
          "base_uri": "https://localhost:8080/"
        },
        "id": "A_kwadmeUAet",
        "outputId": "9c2dd237-94d7-4fb9-9851-511b2dd4aa14"
      },
      "execution_count": 21,
      "outputs": [
        {
          "output_type": "execute_result",
          "data": {
            "text/plain": [
              "(LinearRegressionModel2(\n",
              "   (linear_layer): Linear(in_features=1, out_features=1, bias=True)\n",
              " ),\n",
              " OrderedDict([('linear_layer.weight',\n",
              "               tensor([[-0.9419]], dtype=torch.float64)),\n",
              "              ('linear_layer.bias', tensor([0.2761], dtype=torch.float64))]))"
            ]
          },
          "metadata": {},
          "execution_count": 21
        }
      ]
    },
    {
      "cell_type": "code",
      "source": [
        "x_train = x_train.reshape(-1 ,1)\n",
        "y_train = y_train.reshape(-1 ,1)\n",
        "x_test = x_test.reshape(-1 ,1)\n",
        "y_test = y_test.reshape(-1 ,1)"
      ],
      "metadata": {
        "id": "ieug0UnJg1NS"
      },
      "execution_count": 22,
      "outputs": []
    },
    {
      "cell_type": "code",
      "source": [
        "cost_fn = nn.MSELoss()\n",
        "\n",
        "y_pred = model_2(x_train)\n",
        "cost = cost_fn(y_pred, y_train)\n",
        "print(model_2.state_dict())\n",
        "print(cost)\n",
        "\n",
        "optimizer = torch.optim.SGD(params=model_2.parameters(),lr=0.001)\n",
        "optimizer.zero_grad()\n",
        "cost.backward()\n",
        "optimizer.step()\n",
        "\n",
        "y_pred = model_2(x_train)\n",
        "cost = cost_fn(y_pred, y_train)\n",
        "print(model_2.state_dict())\n",
        "print(cost)"
      ],
      "metadata": {
        "colab": {
          "base_uri": "https://localhost:8080/"
        },
        "id": "9TOEly8MZU0a",
        "outputId": "4b8f6da1-9bc5-4b66-af5a-3dd2dd99355f"
      },
      "execution_count": 23,
      "outputs": [
        {
          "output_type": "stream",
          "name": "stdout",
          "text": [
            "OrderedDict([('linear_layer.weight', tensor([[-0.9419]], dtype=torch.float64)), ('linear_layer.bias', tensor([0.2761], dtype=torch.float64))])\n",
            "tensor(6515.9517, dtype=torch.float64, grad_fn=<MseLossBackward0>)\n",
            "OrderedDict([('linear_layer.weight', tensor([[-0.0652]], dtype=torch.float64)), ('linear_layer.bias', tensor([0.4264], dtype=torch.float64))])\n",
            "tensor(5749.4774, dtype=torch.float64, grad_fn=<MseLossBackward0>)\n"
          ]
        }
      ]
    },
    {
      "cell_type": "code",
      "source": [
        "epochs = 1000\n",
        "\n",
        "train_cost_hist = []\n",
        "test_cost_hist = []\n",
        "\n",
        "for epoch in range(epochs):\n",
        "  model_2.train()\n",
        "\n",
        "  y_pred = model_2(x_train)\n",
        "  train_cost = cost_fn(y_pred, y_train)\n",
        "  train_cost_hist.append(train_cost.detach().numpy())\n",
        "\n",
        "  optimizer.zero_grad()\n",
        "  train_cost.backward()\n",
        "  optimizer.step()\n",
        "\n",
        "  model_2.eval()\n",
        "  with torch.inference_mode():\n",
        "    test_pred = model_2(x_test)\n",
        "    test_cost = cost_fn(test_pred, y_test)\n",
        "    test_cost_hist.append(test_cost)\n",
        "\n",
        "  if epoch%10 == 0:\n",
        "    print(f\"Epoch: {epoch:5},Train Cost: {train_cost: .4e},Test Cost{test_cost: .4e}\")"
      ],
      "metadata": {
        "colab": {
          "base_uri": "https://localhost:8080/"
        },
        "id": "X6K8CMWPfXTC",
        "outputId": "b352a766-5b4d-417c-c068-929a5e343123"
      },
      "execution_count": 24,
      "outputs": [
        {
          "output_type": "stream",
          "name": "stdout",
          "text": [
            "Epoch:     0,Train Cost:  8.5390e+01,Test Cost 7.0985e+03\n",
            "Epoch:    10,Train Cost:  8.5390e+01,Test Cost 7.0985e+03\n",
            "Epoch:    20,Train Cost:  8.5390e+01,Test Cost 7.0985e+03\n",
            "Epoch:    30,Train Cost:  8.5390e+01,Test Cost 7.0985e+03\n",
            "Epoch:    40,Train Cost:  8.5390e+01,Test Cost 7.0985e+03\n",
            "Epoch:    50,Train Cost:  8.5390e+01,Test Cost 7.0985e+03\n",
            "Epoch:    60,Train Cost:  8.5390e+01,Test Cost 7.0985e+03\n",
            "Epoch:    70,Train Cost:  8.5390e+01,Test Cost 7.0985e+03\n",
            "Epoch:    80,Train Cost:  8.5390e+01,Test Cost 7.0985e+03\n",
            "Epoch:    90,Train Cost:  8.5390e+01,Test Cost 7.0985e+03\n",
            "Epoch:   100,Train Cost:  8.5390e+01,Test Cost 7.0985e+03\n",
            "Epoch:   110,Train Cost:  8.5390e+01,Test Cost 7.0985e+03\n",
            "Epoch:   120,Train Cost:  8.5390e+01,Test Cost 7.0985e+03\n",
            "Epoch:   130,Train Cost:  8.5390e+01,Test Cost 7.0985e+03\n",
            "Epoch:   140,Train Cost:  8.5390e+01,Test Cost 7.0985e+03\n",
            "Epoch:   150,Train Cost:  8.5390e+01,Test Cost 7.0985e+03\n",
            "Epoch:   160,Train Cost:  8.5390e+01,Test Cost 7.0985e+03\n",
            "Epoch:   170,Train Cost:  8.5390e+01,Test Cost 7.0985e+03\n",
            "Epoch:   180,Train Cost:  8.5390e+01,Test Cost 7.0985e+03\n",
            "Epoch:   190,Train Cost:  8.5390e+01,Test Cost 7.0985e+03\n",
            "Epoch:   200,Train Cost:  8.5390e+01,Test Cost 7.0985e+03\n",
            "Epoch:   210,Train Cost:  8.5390e+01,Test Cost 7.0985e+03\n",
            "Epoch:   220,Train Cost:  8.5390e+01,Test Cost 7.0985e+03\n",
            "Epoch:   230,Train Cost:  8.5390e+01,Test Cost 7.0985e+03\n",
            "Epoch:   240,Train Cost:  8.5390e+01,Test Cost 7.0985e+03\n",
            "Epoch:   250,Train Cost:  8.5390e+01,Test Cost 7.0985e+03\n",
            "Epoch:   260,Train Cost:  8.5390e+01,Test Cost 7.0985e+03\n",
            "Epoch:   270,Train Cost:  8.5390e+01,Test Cost 7.0985e+03\n",
            "Epoch:   280,Train Cost:  8.5390e+01,Test Cost 7.0985e+03\n",
            "Epoch:   290,Train Cost:  8.5390e+01,Test Cost 7.0985e+03\n",
            "Epoch:   300,Train Cost:  8.5390e+01,Test Cost 7.0985e+03\n",
            "Epoch:   310,Train Cost:  8.5390e+01,Test Cost 7.0985e+03\n",
            "Epoch:   320,Train Cost:  8.5390e+01,Test Cost 7.0985e+03\n",
            "Epoch:   330,Train Cost:  8.5390e+01,Test Cost 7.0985e+03\n",
            "Epoch:   340,Train Cost:  8.5390e+01,Test Cost 7.0985e+03\n",
            "Epoch:   350,Train Cost:  8.5390e+01,Test Cost 7.0985e+03\n",
            "Epoch:   360,Train Cost:  8.5390e+01,Test Cost 7.0985e+03\n",
            "Epoch:   370,Train Cost:  8.5390e+01,Test Cost 7.0985e+03\n",
            "Epoch:   380,Train Cost:  8.5390e+01,Test Cost 7.0985e+03\n",
            "Epoch:   390,Train Cost:  8.5390e+01,Test Cost 7.0985e+03\n",
            "Epoch:   400,Train Cost:  8.5390e+01,Test Cost 7.0985e+03\n",
            "Epoch:   410,Train Cost:  8.5390e+01,Test Cost 7.0985e+03\n",
            "Epoch:   420,Train Cost:  8.5390e+01,Test Cost 7.0985e+03\n",
            "Epoch:   430,Train Cost:  8.5390e+01,Test Cost 7.0985e+03\n",
            "Epoch:   440,Train Cost:  8.5390e+01,Test Cost 7.0985e+03\n",
            "Epoch:   450,Train Cost:  8.5390e+01,Test Cost 7.0985e+03\n",
            "Epoch:   460,Train Cost:  8.5390e+01,Test Cost 7.0985e+03\n",
            "Epoch:   470,Train Cost:  8.5390e+01,Test Cost 7.0985e+03\n",
            "Epoch:   480,Train Cost:  8.5390e+01,Test Cost 7.0985e+03\n",
            "Epoch:   490,Train Cost:  8.5390e+01,Test Cost 7.0985e+03\n",
            "Epoch:   500,Train Cost:  8.5390e+01,Test Cost 7.0985e+03\n",
            "Epoch:   510,Train Cost:  8.5390e+01,Test Cost 7.0985e+03\n",
            "Epoch:   520,Train Cost:  8.5390e+01,Test Cost 7.0985e+03\n",
            "Epoch:   530,Train Cost:  8.5390e+01,Test Cost 7.0985e+03\n",
            "Epoch:   540,Train Cost:  8.5390e+01,Test Cost 7.0985e+03\n",
            "Epoch:   550,Train Cost:  8.5390e+01,Test Cost 7.0985e+03\n",
            "Epoch:   560,Train Cost:  8.5390e+01,Test Cost 7.0985e+03\n",
            "Epoch:   570,Train Cost:  8.5390e+01,Test Cost 7.0985e+03\n",
            "Epoch:   580,Train Cost:  8.5390e+01,Test Cost 7.0985e+03\n",
            "Epoch:   590,Train Cost:  8.5390e+01,Test Cost 7.0985e+03\n",
            "Epoch:   600,Train Cost:  8.5390e+01,Test Cost 7.0985e+03\n",
            "Epoch:   610,Train Cost:  8.5390e+01,Test Cost 7.0985e+03\n",
            "Epoch:   620,Train Cost:  8.5390e+01,Test Cost 7.0985e+03\n",
            "Epoch:   630,Train Cost:  8.5390e+01,Test Cost 7.0985e+03\n",
            "Epoch:   640,Train Cost:  8.5390e+01,Test Cost 7.0985e+03\n",
            "Epoch:   650,Train Cost:  8.5390e+01,Test Cost 7.0985e+03\n",
            "Epoch:   660,Train Cost:  8.5390e+01,Test Cost 7.0985e+03\n",
            "Epoch:   670,Train Cost:  8.5390e+01,Test Cost 7.0985e+03\n",
            "Epoch:   680,Train Cost:  8.5390e+01,Test Cost 7.0985e+03\n",
            "Epoch:   690,Train Cost:  8.5390e+01,Test Cost 7.0985e+03\n",
            "Epoch:   700,Train Cost:  8.5390e+01,Test Cost 7.0985e+03\n",
            "Epoch:   710,Train Cost:  8.5390e+01,Test Cost 7.0985e+03\n",
            "Epoch:   720,Train Cost:  8.5390e+01,Test Cost 7.0985e+03\n",
            "Epoch:   730,Train Cost:  8.5390e+01,Test Cost 7.0985e+03\n",
            "Epoch:   740,Train Cost:  8.5390e+01,Test Cost 7.0985e+03\n",
            "Epoch:   750,Train Cost:  8.5390e+01,Test Cost 7.0985e+03\n",
            "Epoch:   760,Train Cost:  8.5390e+01,Test Cost 7.0985e+03\n",
            "Epoch:   770,Train Cost:  8.5390e+01,Test Cost 7.0985e+03\n",
            "Epoch:   780,Train Cost:  8.5390e+01,Test Cost 7.0985e+03\n",
            "Epoch:   790,Train Cost:  8.5390e+01,Test Cost 7.0985e+03\n",
            "Epoch:   800,Train Cost:  8.5390e+01,Test Cost 7.0985e+03\n",
            "Epoch:   810,Train Cost:  8.5390e+01,Test Cost 7.0985e+03\n",
            "Epoch:   820,Train Cost:  8.5390e+01,Test Cost 7.0985e+03\n",
            "Epoch:   830,Train Cost:  8.5390e+01,Test Cost 7.0985e+03\n",
            "Epoch:   840,Train Cost:  8.5390e+01,Test Cost 7.0985e+03\n",
            "Epoch:   850,Train Cost:  8.5390e+01,Test Cost 7.0985e+03\n",
            "Epoch:   860,Train Cost:  8.5390e+01,Test Cost 7.0985e+03\n",
            "Epoch:   870,Train Cost:  8.5390e+01,Test Cost 7.0985e+03\n",
            "Epoch:   880,Train Cost:  8.5390e+01,Test Cost 7.0985e+03\n",
            "Epoch:   890,Train Cost:  8.5390e+01,Test Cost 7.0985e+03\n",
            "Epoch:   900,Train Cost:  8.5390e+01,Test Cost 7.0985e+03\n",
            "Epoch:   910,Train Cost:  8.5390e+01,Test Cost 7.0985e+03\n",
            "Epoch:   920,Train Cost:  8.5390e+01,Test Cost 7.0985e+03\n",
            "Epoch:   930,Train Cost:  8.5390e+01,Test Cost 7.0985e+03\n",
            "Epoch:   940,Train Cost:  8.5390e+01,Test Cost 7.0985e+03\n",
            "Epoch:   950,Train Cost:  8.5390e+01,Test Cost 7.0985e+03\n",
            "Epoch:   960,Train Cost:  8.5390e+01,Test Cost 7.0985e+03\n",
            "Epoch:   970,Train Cost:  8.5390e+01,Test Cost 7.0985e+03\n",
            "Epoch:   980,Train Cost:  8.5390e+01,Test Cost 7.0985e+03\n",
            "Epoch:   990,Train Cost:  8.5390e+01,Test Cost 7.0985e+03\n"
          ]
        }
      ]
    },
    {
      "cell_type": "code",
      "source": [
        "!nvidia-smi"
      ],
      "metadata": {
        "colab": {
          "base_uri": "https://localhost:8080/"
        },
        "id": "4MYoSDarijO4",
        "outputId": "976b8104-182b-4763-b607-48fa03247ee2"
      },
      "execution_count": 25,
      "outputs": [
        {
          "output_type": "stream",
          "name": "stdout",
          "text": [
            "Sat Feb 15 12:17:12 2025       \n",
            "+-----------------------------------------------------------------------------------------+\n",
            "| NVIDIA-SMI 550.54.15              Driver Version: 550.54.15      CUDA Version: 12.4     |\n",
            "|-----------------------------------------+------------------------+----------------------+\n",
            "| GPU  Name                 Persistence-M | Bus-Id          Disp.A | Volatile Uncorr. ECC |\n",
            "| Fan  Temp   Perf          Pwr:Usage/Cap |           Memory-Usage | GPU-Util  Compute M. |\n",
            "|                                         |                        |               MIG M. |\n",
            "|=========================================+========================+======================|\n",
            "|   0  Tesla T4                       Off |   00000000:00:04.0 Off |                    0 |\n",
            "| N/A   43C    P8              9W /   70W |       2MiB /  15360MiB |      0%      Default |\n",
            "|                                         |                        |                  N/A |\n",
            "+-----------------------------------------+------------------------+----------------------+\n",
            "                                                                                         \n",
            "+-----------------------------------------------------------------------------------------+\n",
            "| Processes:                                                                              |\n",
            "|  GPU   GI   CI        PID   Type   Process name                              GPU Memory |\n",
            "|        ID   ID                                                               Usage      |\n",
            "|=========================================================================================|\n",
            "|  No running processes found                                                             |\n",
            "+-----------------------------------------------------------------------------------------+\n"
          ]
        }
      ]
    },
    {
      "cell_type": "code",
      "source": [
        "torch.cuda.is_available()"
      ],
      "metadata": {
        "colab": {
          "base_uri": "https://localhost:8080/"
        },
        "id": "auLZObDYir0L",
        "outputId": "50516e26-5680-4bbd-9a61-bcf62e1166e0"
      },
      "execution_count": 26,
      "outputs": [
        {
          "output_type": "execute_result",
          "data": {
            "text/plain": [
              "True"
            ]
          },
          "metadata": {},
          "execution_count": 26
        }
      ]
    },
    {
      "cell_type": "code",
      "source": [
        "torch.cuda.device_count()"
      ],
      "metadata": {
        "colab": {
          "base_uri": "https://localhost:8080/"
        },
        "id": "JBljQXCiiyqD",
        "outputId": "ec905f01-b933-4947-f773-e4103d1fb3a5"
      },
      "execution_count": 27,
      "outputs": [
        {
          "output_type": "execute_result",
          "data": {
            "text/plain": [
              "1"
            ]
          },
          "metadata": {},
          "execution_count": 27
        }
      ]
    },
    {
      "cell_type": "code",
      "source": [
        "device = \"cuda\" if torch.cuda.is_available() else \"cpu\"\n",
        "device"
      ],
      "metadata": {
        "colab": {
          "base_uri": "https://localhost:8080/",
          "height": 35
        },
        "id": "C3bELVqxjAE0",
        "outputId": "5c6684a3-c66b-4869-af8e-41121587cda3"
      },
      "execution_count": 28,
      "outputs": [
        {
          "output_type": "execute_result",
          "data": {
            "text/plain": [
              "'cuda'"
            ],
            "application/vnd.google.colaboratory.intrinsic+json": {
              "type": "string"
            }
          },
          "metadata": {},
          "execution_count": 28
        }
      ]
    },
    {
      "cell_type": "code",
      "source": [
        "tensor = torch.tensor([1, 2, 3])\n",
        "tensor = tensor.to(device)\n",
        "tensor, tensor.device"
      ],
      "metadata": {
        "colab": {
          "base_uri": "https://localhost:8080/"
        },
        "id": "7ieTRsYgjYs7",
        "outputId": "ca45d4e3-68c8-4fd8-a8df-5c91034ee275"
      },
      "execution_count": 29,
      "outputs": [
        {
          "output_type": "execute_result",
          "data": {
            "text/plain": [
              "(tensor([1, 2, 3], device='cuda:0'), device(type='cuda', index=0))"
            ]
          },
          "metadata": {},
          "execution_count": 29
        }
      ]
    },
    {
      "cell_type": "code",
      "source": [
        "model_3 = LinearRegressionModel2()\n",
        "model_3 = model_3.to(device)\n",
        "model_3.linear_layer.weight.device, model_3.linear_layer.bias.device"
      ],
      "metadata": {
        "colab": {
          "base_uri": "https://localhost:8080/"
        },
        "id": "IpLf3-0RjtIk",
        "outputId": "1f7b8dab-7ab9-42a9-da89-9e3483022904"
      },
      "execution_count": 31,
      "outputs": [
        {
          "output_type": "execute_result",
          "data": {
            "text/plain": [
              "(device(type='cuda', index=0), device(type='cuda', index=0))"
            ]
          },
          "metadata": {},
          "execution_count": 31
        }
      ]
    },
    {
      "cell_type": "code",
      "source": [
        "x_train = x_train.to(device)\n",
        "y_train = y_train.to(device)\n",
        "x_test = x_test.to(device)\n",
        "y_test = y_test.to(device)"
      ],
      "metadata": {
        "id": "STtJ8lNQlc7r"
      },
      "execution_count": 34,
      "outputs": []
    },
    {
      "cell_type": "code",
      "source": [
        "cost_fn = nn.MSELoss()\n",
        "\n",
        "y_pred = model_3(x_train)\n",
        "cost = cost_fn(y_pred, y_train)\n",
        "print(model_3.state_dict())\n",
        "print(cost)\n",
        "\n",
        "optimizer = torch.optim.SGD(params=model_3.parameters(),lr=0.001)\n",
        "optimizer.zero_grad()\n",
        "cost.backward()\n",
        "optimizer.step()\n",
        "\n",
        "y_pred = model_3(x_train)\n",
        "cost = cost_fn(y_pred, y_train)\n",
        "print(model_3.state_dict())\n",
        "print(cost)"
      ],
      "metadata": {
        "colab": {
          "base_uri": "https://localhost:8080/"
        },
        "id": "txWkfjH8ksrJ",
        "outputId": "5f0457e2-a8aa-4597-d8b7-43b85ee11e67"
      },
      "execution_count": 35,
      "outputs": [
        {
          "output_type": "stream",
          "name": "stdout",
          "text": [
            "OrderedDict([('linear_layer.weight', tensor([[-0.9088]], device='cuda:0', dtype=torch.float64)), ('linear_layer.bias', tensor([0.9576], device='cuda:0', dtype=torch.float64))])\n",
            "tensor(6385.2371, device='cuda:0', dtype=torch.float64,\n",
            "       grad_fn=<MseLossBackward0>)\n",
            "OrderedDict([('linear_layer.weight', tensor([[-0.0406]], device='cuda:0', dtype=torch.float64)), ('linear_layer.bias', tensor([1.1062], device='cuda:0', dtype=torch.float64))])\n",
            "tensor(5633.6022, device='cuda:0', dtype=torch.float64,\n",
            "       grad_fn=<MseLossBackward0>)\n"
          ]
        }
      ]
    },
    {
      "cell_type": "code",
      "source": [
        "epochs = 1000\n",
        "\n",
        "train_cost_hist = []\n",
        "test_cost_hist = []\n",
        "\n",
        "for epoch in range(epochs):\n",
        "  model_3.train()\n",
        "\n",
        "  y_pred = model_3(x_train)\n",
        "  train_cost = cost_fn(y_pred, y_train)\n",
        "  train_cost_hist.append(train_cost.cpu().detach().numpy())\n",
        "\n",
        "  optimizer.zero_grad()\n",
        "  train_cost.backward()\n",
        "  optimizer.step()\n",
        "\n",
        "  model_3.eval()\n",
        "  with torch.inference_mode():\n",
        "    test_pred = model_3(x_test)\n",
        "    test_cost = cost_fn(test_pred, y_test)\n",
        "    test_cost_hist.append(test_cost.cpu())\n",
        "\n",
        "  if epoch%10 == 0:\n",
        "    print(f\"Epoch: {epoch:5},Train Cost: {train_cost: .4e},Test Cost{test_cost: .4e}\")"
      ],
      "metadata": {
        "colab": {
          "base_uri": "https://localhost:8080/"
        },
        "id": "AAfpJBQdmQgX",
        "outputId": "3bdb8c76-9697-4161-df55-c998bec0eb2b"
      },
      "execution_count": 42,
      "outputs": [
        {
          "output_type": "stream",
          "name": "stdout",
          "text": [
            "Epoch:     0,Train Cost:  3.9409e+01,Test Cost 6.1072e+01\n",
            "Epoch:    10,Train Cost:  3.9341e+01,Test Cost 6.0892e+01\n",
            "Epoch:    20,Train Cost:  3.9272e+01,Test Cost 6.0713e+01\n",
            "Epoch:    30,Train Cost:  3.9205e+01,Test Cost 6.0536e+01\n",
            "Epoch:    40,Train Cost:  3.9138e+01,Test Cost 6.0360e+01\n",
            "Epoch:    50,Train Cost:  3.9072e+01,Test Cost 6.0186e+01\n",
            "Epoch:    60,Train Cost:  3.9007e+01,Test Cost 6.0013e+01\n",
            "Epoch:    70,Train Cost:  3.8942e+01,Test Cost 5.9841e+01\n",
            "Epoch:    80,Train Cost:  3.8878e+01,Test Cost 5.9670e+01\n",
            "Epoch:    90,Train Cost:  3.8814e+01,Test Cost 5.9501e+01\n",
            "Epoch:   100,Train Cost:  3.8752e+01,Test Cost 5.9333e+01\n",
            "Epoch:   110,Train Cost:  3.8689e+01,Test Cost 5.9166e+01\n",
            "Epoch:   120,Train Cost:  3.8628e+01,Test Cost 5.9001e+01\n",
            "Epoch:   130,Train Cost:  3.8567e+01,Test Cost 5.8836e+01\n",
            "Epoch:   140,Train Cost:  3.8507e+01,Test Cost 5.8673e+01\n",
            "Epoch:   150,Train Cost:  3.8447e+01,Test Cost 5.8511e+01\n",
            "Epoch:   160,Train Cost:  3.8388e+01,Test Cost 5.8351e+01\n",
            "Epoch:   170,Train Cost:  3.8329e+01,Test Cost 5.8191e+01\n",
            "Epoch:   180,Train Cost:  3.8271e+01,Test Cost 5.8033e+01\n",
            "Epoch:   190,Train Cost:  3.8214e+01,Test Cost 5.7876e+01\n",
            "Epoch:   200,Train Cost:  3.8157e+01,Test Cost 5.7720e+01\n",
            "Epoch:   210,Train Cost:  3.8101e+01,Test Cost 5.7565e+01\n",
            "Epoch:   220,Train Cost:  3.8045e+01,Test Cost 5.7411e+01\n",
            "Epoch:   230,Train Cost:  3.7990e+01,Test Cost 5.7259e+01\n",
            "Epoch:   240,Train Cost:  3.7936e+01,Test Cost 5.7108e+01\n",
            "Epoch:   250,Train Cost:  3.7882e+01,Test Cost 5.6957e+01\n",
            "Epoch:   260,Train Cost:  3.7829e+01,Test Cost 5.6808e+01\n",
            "Epoch:   270,Train Cost:  3.7776e+01,Test Cost 5.6660e+01\n",
            "Epoch:   280,Train Cost:  3.7723e+01,Test Cost 5.6513e+01\n",
            "Epoch:   290,Train Cost:  3.7672e+01,Test Cost 5.6367e+01\n",
            "Epoch:   300,Train Cost:  3.7620e+01,Test Cost 5.6222e+01\n",
            "Epoch:   310,Train Cost:  3.7570e+01,Test Cost 5.6079e+01\n",
            "Epoch:   320,Train Cost:  3.7519e+01,Test Cost 5.5936e+01\n",
            "Epoch:   330,Train Cost:  3.7470e+01,Test Cost 5.5794e+01\n",
            "Epoch:   340,Train Cost:  3.7420e+01,Test Cost 5.5653e+01\n",
            "Epoch:   350,Train Cost:  3.7372e+01,Test Cost 5.5514e+01\n",
            "Epoch:   360,Train Cost:  3.7323e+01,Test Cost 5.5375e+01\n",
            "Epoch:   370,Train Cost:  3.7276e+01,Test Cost 5.5238e+01\n",
            "Epoch:   380,Train Cost:  3.7228e+01,Test Cost 5.5101e+01\n",
            "Epoch:   390,Train Cost:  3.7181e+01,Test Cost 5.4965e+01\n",
            "Epoch:   400,Train Cost:  3.7135e+01,Test Cost 5.4831e+01\n",
            "Epoch:   410,Train Cost:  3.7089e+01,Test Cost 5.4697e+01\n",
            "Epoch:   420,Train Cost:  3.7044e+01,Test Cost 5.4565e+01\n",
            "Epoch:   430,Train Cost:  3.6999e+01,Test Cost 5.4433e+01\n",
            "Epoch:   440,Train Cost:  3.6954e+01,Test Cost 5.4302e+01\n",
            "Epoch:   450,Train Cost:  3.6910e+01,Test Cost 5.4172e+01\n",
            "Epoch:   460,Train Cost:  3.6867e+01,Test Cost 5.4044e+01\n",
            "Epoch:   470,Train Cost:  3.6824e+01,Test Cost 5.3916e+01\n",
            "Epoch:   480,Train Cost:  3.6781e+01,Test Cost 5.3789e+01\n",
            "Epoch:   490,Train Cost:  3.6739e+01,Test Cost 5.3663e+01\n",
            "Epoch:   500,Train Cost:  3.6697e+01,Test Cost 5.3537e+01\n",
            "Epoch:   510,Train Cost:  3.6655e+01,Test Cost 5.3413e+01\n",
            "Epoch:   520,Train Cost:  3.6614e+01,Test Cost 5.3290e+01\n",
            "Epoch:   530,Train Cost:  3.6574e+01,Test Cost 5.3167e+01\n",
            "Epoch:   540,Train Cost:  3.6534e+01,Test Cost 5.3046e+01\n",
            "Epoch:   550,Train Cost:  3.6494e+01,Test Cost 5.2925e+01\n",
            "Epoch:   560,Train Cost:  3.6454e+01,Test Cost 5.2805e+01\n",
            "Epoch:   570,Train Cost:  3.6415e+01,Test Cost 5.2686e+01\n",
            "Epoch:   580,Train Cost:  3.6377e+01,Test Cost 5.2568e+01\n",
            "Epoch:   590,Train Cost:  3.6339e+01,Test Cost 5.2451e+01\n",
            "Epoch:   600,Train Cost:  3.6301e+01,Test Cost 5.2334e+01\n",
            "Epoch:   610,Train Cost:  3.6263e+01,Test Cost 5.2218e+01\n",
            "Epoch:   620,Train Cost:  3.6226e+01,Test Cost 5.2104e+01\n",
            "Epoch:   630,Train Cost:  3.6190e+01,Test Cost 5.1990e+01\n",
            "Epoch:   640,Train Cost:  3.6153e+01,Test Cost 5.1876e+01\n",
            "Epoch:   650,Train Cost:  3.6117e+01,Test Cost 5.1764e+01\n",
            "Epoch:   660,Train Cost:  3.6082e+01,Test Cost 5.1652e+01\n",
            "Epoch:   670,Train Cost:  3.6047e+01,Test Cost 5.1542e+01\n",
            "Epoch:   680,Train Cost:  3.6012e+01,Test Cost 5.1432e+01\n",
            "Epoch:   690,Train Cost:  3.5977e+01,Test Cost 5.1322e+01\n",
            "Epoch:   700,Train Cost:  3.5943e+01,Test Cost 5.1214e+01\n",
            "Epoch:   710,Train Cost:  3.5909e+01,Test Cost 5.1106e+01\n",
            "Epoch:   720,Train Cost:  3.5876e+01,Test Cost 5.0999e+01\n",
            "Epoch:   730,Train Cost:  3.5843e+01,Test Cost 5.0893e+01\n",
            "Epoch:   740,Train Cost:  3.5810e+01,Test Cost 5.0788e+01\n",
            "Epoch:   750,Train Cost:  3.5777e+01,Test Cost 5.0683e+01\n",
            "Epoch:   760,Train Cost:  3.5745e+01,Test Cost 5.0579e+01\n",
            "Epoch:   770,Train Cost:  3.5713e+01,Test Cost 5.0476e+01\n",
            "Epoch:   780,Train Cost:  3.5682e+01,Test Cost 5.0374e+01\n",
            "Epoch:   790,Train Cost:  3.5651e+01,Test Cost 5.0272e+01\n",
            "Epoch:   800,Train Cost:  3.5620e+01,Test Cost 5.0171e+01\n",
            "Epoch:   810,Train Cost:  3.5589e+01,Test Cost 5.0070e+01\n",
            "Epoch:   820,Train Cost:  3.5559e+01,Test Cost 4.9971e+01\n",
            "Epoch:   830,Train Cost:  3.5529e+01,Test Cost 4.9872e+01\n",
            "Epoch:   840,Train Cost:  3.5499e+01,Test Cost 4.9774e+01\n",
            "Epoch:   850,Train Cost:  3.5470e+01,Test Cost 4.9676e+01\n",
            "Epoch:   860,Train Cost:  3.5441e+01,Test Cost 4.9579e+01\n",
            "Epoch:   870,Train Cost:  3.5412e+01,Test Cost 4.9483e+01\n",
            "Epoch:   880,Train Cost:  3.5384e+01,Test Cost 4.9388e+01\n",
            "Epoch:   890,Train Cost:  3.5356e+01,Test Cost 4.9293e+01\n",
            "Epoch:   900,Train Cost:  3.5328e+01,Test Cost 4.9199e+01\n",
            "Epoch:   910,Train Cost:  3.5300e+01,Test Cost 4.9105e+01\n",
            "Epoch:   920,Train Cost:  3.5273e+01,Test Cost 4.9012e+01\n",
            "Epoch:   930,Train Cost:  3.5246e+01,Test Cost 4.8920e+01\n",
            "Epoch:   940,Train Cost:  3.5219e+01,Test Cost 4.8828e+01\n",
            "Epoch:   950,Train Cost:  3.5192e+01,Test Cost 4.8737e+01\n",
            "Epoch:   960,Train Cost:  3.5166e+01,Test Cost 4.8647e+01\n",
            "Epoch:   970,Train Cost:  3.5140e+01,Test Cost 4.8557e+01\n",
            "Epoch:   980,Train Cost:  3.5114e+01,Test Cost 4.8468e+01\n",
            "Epoch:   990,Train Cost:  3.5089e+01,Test Cost 4.8380e+01\n"
          ]
        }
      ]
    },
    {
      "cell_type": "code",
      "source": [
        "import matplotlib.pyplot as plt\n",
        "plt.plot(range(0, 1000), train_cost_hist, label=\"train cost\")\n",
        "plt.plot(range(0, 1000), test_cost_hist, label=\"test cost\")\n",
        "plt.title(\"train & test cost\")\n",
        "plt.xlabel(\"epochs\")\n",
        "plt.ylabel(\"cost\")\n",
        "plt.legend()\n",
        "plt.show()"
      ],
      "metadata": {
        "colab": {
          "base_uri": "https://localhost:8080/",
          "height": 472
        },
        "id": "1TPWtbAYneU8",
        "outputId": "41efaad8-03b9-43dc-d0e1-453f627e6bba"
      },
      "execution_count": 43,
      "outputs": [
        {
          "output_type": "display_data",
          "data": {
            "text/plain": [
              "<Figure size 640x480 with 1 Axes>"
            ],
            "image/png": "[encoded data removed]"
          },
          "metadata": {}
        }
      ]
    },
    {
      "cell_type": "code",
      "source": [
        "model_3.state_dict()\n",
        "torch.save(obj=model_3.state_dict(), f=\"model/pytorch_linear_regression_2.pth\")"
      ],
      "metadata": {
        "id": "juirQdLaoEHd"
      },
      "execution_count": 44,
      "outputs": []
    },
    {
      "cell_type": "code",
      "source": [
        "model_4 = LinearRegressionModel2()\n",
        "model_4.state_dict()"
      ],
      "metadata": {
        "colab": {
          "base_uri": "https://localhost:8080/"
        },
        "id": "NbkabCUKowpN",
        "outputId": "cb4366ea-8d71-4f94-e68c-3645c62772d7"
      },
      "execution_count": 45,
      "outputs": [
        {
          "output_type": "execute_result",
          "data": {
            "text/plain": [
              "OrderedDict([('linear_layer.weight', tensor([[-0.6328]], dtype=torch.float64)),\n",
              "             ('linear_layer.bias', tensor([0.6519], dtype=torch.float64))])"
            ]
          },
          "metadata": {},
          "execution_count": 45
        }
      ]
    },
    {
      "cell_type": "code",
      "source": [
        "model_4.load_state_dict(torch.load(f=\"model/pytorch_linear_regression_2.pth\"))\n",
        "model_4.state_dict()"
      ],
      "metadata": {
        "colab": {
          "base_uri": "https://localhost:8080/"
        },
        "id": "xMFPLqA5pNAO",
        "outputId": "e7d93490-c5dc-4bac-bdbb-9ec2e60a01c8"
      },
      "execution_count": 46,
      "outputs": [
        {
          "output_type": "stream",
          "name": "stderr",
          "text": [
            "<ipython-input-46-85013c11fd59>:1: FutureWarning: You are using `torch.load` with `weights_only=False` (the current default value), which uses the default pickle module implicitly. It is possible to construct malicious pickle data which will execute arbitrary code during unpickling (See https://github.com/pytorch/pytorch/blob/main/SECURITY.md#untrusted-models for more details). In a future release, the default value for `weights_only` will be flipped to `True`. This limits the functions that could be executed during unpickling. Arbitrary objects will no longer be allowed to be loaded via this mode unless they are explicitly allowlisted by the user via `torch.serialization.add_safe_globals`. We recommend you start setting `weights_only=True` for any use case where you don't have full control of the loaded file. Please open an issue on GitHub for any issues related to this experimental feature.\n",
            "  model_4.load_state_dict(torch.load(f=\"model/pytorch_linear_regression_2.pth\"))\n"
          ]
        },
        {
          "output_type": "execute_result",
          "data": {
            "text/plain": [
              "OrderedDict([('linear_layer.weight', tensor([[9.8151]], dtype=torch.float64)),\n",
              "             ('linear_layer.bias', tensor([23.5464], dtype=torch.float64))])"
            ]
          },
          "metadata": {},
          "execution_count": 46
        }
      ]
    },
    {
      "cell_type": "code",
      "source": [
        "model_4.to(device)\n",
        "model_4.eval()\n",
        "with torch.inference_mode():\n",
        "  y_pred = model_4(x_test)\n",
        "\n",
        "y_pred"
      ],
      "metadata": {
        "colab": {
          "base_uri": "https://localhost:8080/"
        },
        "id": "y0ZmJDpTptgs",
        "outputId": "476f6908-ab99-4cc2-97c2-3c96c1977b46"
      },
      "execution_count": 49,
      "outputs": [
        {
          "output_type": "execute_result",
          "data": {
            "text/plain": [
              "tensor([[ 82.4369],\n",
              "        [126.6047],\n",
              "        [ 29.4355],\n",
              "        [ 81.4554],\n",
              "        [117.7711],\n",
              "        [ 59.8622],\n",
              "        [ 36.3060]], device='cuda:0', dtype=torch.float64)"
            ]
          },
          "metadata": {},
          "execution_count": 49
        }
      ]
    }
  ]
}