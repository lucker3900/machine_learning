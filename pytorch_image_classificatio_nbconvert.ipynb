{
  "cells": [
    {
      "cell_type": "code",
      "execution_count": null,
      "metadata": {
        "id": "VIBeUvcijdXw"
      },
      "outputs": [],
      "source": [
        "from torchvision import datasets\n",
        "from torchvision.transforms import ToTensor\n",
        "import matplotlib.pyplot as plt\n",
        "import random\n",
        "from torch.utils.data import DataLoader\n",
        "from torch import nn\n",
        "import torch\n",
        "import torchvision"
      ]
    },
    {
      "cell_type": "code",
      "execution_count": null,
      "metadata": {
        "colab": {
          "base_uri": "https://localhost:8080/"
        },
        "id": "t8W8MfUA0-gM",
        "outputId": "e7d03577-0a13-4e13-9ac5-666f0b97cc30"
      },
      "outputs": [
        {
          "name": "stdout",
          "output_type": "stream",
          "text": [
            "Downloading http://fashion-mnist.s3-website.eu-central-1.amazonaws.com/train-images-idx3-ubyte.gz\n",
            "Downloading http://fashion-mnist.s3-website.eu-central-1.amazonaws.com/train-images-idx3-ubyte.gz to image/FashionMNIST/raw/train-images-idx3-ubyte.gz\n"
          ]
        },
        {
          "name": "stderr",
          "output_type": "stream",
          "text": [
            "100%|██████████| 26421880/26421880 [00:01<00:00, 15930277.52it/s]\n"
          ]
        },
        {
          "name": "stdout",
          "output_type": "stream",
          "text": [
            "Extracting image/FashionMNIST/raw/train-images-idx3-ubyte.gz to image/FashionMNIST/raw\n",
            "\n",
            "Downloading http://fashion-mnist.s3-website.eu-central-1.amazonaws.com/train-labels-idx1-ubyte.gz\n",
            "Downloading http://fashion-mnist.s3-website.eu-central-1.amazonaws.com/train-labels-idx1-ubyte.gz to image/FashionMNIST/raw/train-labels-idx1-ubyte.gz\n"
          ]
        },
        {
          "name": "stderr",
          "output_type": "stream",
          "text": [
            "100%|██████████| 29515/29515 [00:00<00:00, 273431.81it/s]\n"
          ]
        },
        {
          "name": "stdout",
          "output_type": "stream",
          "text": [
            "Extracting image/FashionMNIST/raw/train-labels-idx1-ubyte.gz to image/FashionMNIST/raw\n",
            "\n",
            "Downloading http://fashion-mnist.s3-website.eu-central-1.amazonaws.com/t10k-images-idx3-ubyte.gz\n",
            "Downloading http://fashion-mnist.s3-website.eu-central-1.amazonaws.com/t10k-images-idx3-ubyte.gz to image/FashionMNIST/raw/t10k-images-idx3-ubyte.gz\n"
          ]
        },
        {
          "name": "stderr",
          "output_type": "stream",
          "text": [
            "100%|██████████| 4422102/4422102 [00:00<00:00, 5053054.31it/s]\n"
          ]
        },
        {
          "name": "stdout",
          "output_type": "stream",
          "text": [
            "Extracting image/FashionMNIST/raw/t10k-images-idx3-ubyte.gz to image/FashionMNIST/raw\n",
            "\n",
            "Downloading http://fashion-mnist.s3-website.eu-central-1.amazonaws.com/t10k-labels-idx1-ubyte.gz\n",
            "Downloading http://fashion-mnist.s3-website.eu-central-1.amazonaws.com/t10k-labels-idx1-ubyte.gz to image/FashionMNIST/raw/t10k-labels-idx1-ubyte.gz\n"
          ]
        },
        {
          "name": "stderr",
          "output_type": "stream",
          "text": [
            "100%|██████████| 5148/5148 [00:00<00:00, 5334060.52it/s]"
          ]
        },
        {
          "name": "stdout",
          "output_type": "stream",
          "text": [
            "Extracting image/FashionMNIST/raw/t10k-labels-idx1-ubyte.gz to image/FashionMNIST/raw\n",
            "\n"
          ]
        },
        {
          "name": "stderr",
          "output_type": "stream",
          "text": [
            "\n"
          ]
        }
      ],
      "source": [
        "train_data = datasets.FashionMNIST(\n",
        "  root=\"image\",\n",
        "  train=True,\n",
        "  download=True,\n",
        "  transform=ToTensor()\n",
        ")\n",
        "\n",
        "test_data = datasets.FashionMNIST(\n",
        "  root=\"image\",\n",
        "  train=False,\n",
        "  download=True,\n",
        "  transform=ToTensor()\n",
        ")"
      ]
    },
    {
      "cell_type": "code",
      "execution_count": null,
      "metadata": {
        "colab": {
          "base_uri": "https://localhost:8080/"
        },
        "id": "zYOGKAYf2S8v",
        "outputId": "39121e24-1a40-4617-e37e-ee32079b4fbf"
      },
      "outputs": [
        {
          "data": {
            "text/plain": [
              "torch.Size([28, 28, 1])"
            ]
          },
          "execution_count": 3,
          "metadata": {},
          "output_type": "execute_result"
        }
      ],
      "source": [
        "img, label = train_data[0]\n",
        "class_names = train_data.classes\n",
        "class_names[label]\n",
        "img.shape\n",
        "img.permute(1, 2, 0).shape"
      ]
    },
    {
      "cell_type": "code",
      "execution_count": null,
      "metadata": {
        "colab": {
          "base_uri": "https://localhost:8080/"
        },
        "id": "fNVvZG-j_6BQ",
        "outputId": "ab1c322d-74dc-41ca-d7b5-6dfc84db16d4"
      },
      "outputs": [
        {
          "data": {
            "text/plain": [
              "['T-shirt/top',\n",
              " 'Trouser',\n",
              " 'Pullover',\n",
              " 'Dress',\n",
              " 'Coat',\n",
              " 'Sandal',\n",
              " 'Shirt',\n",
              " 'Sneaker',\n",
              " 'Bag',\n",
              " 'Ankle boot']"
            ]
          },
          "execution_count": 4,
          "metadata": {},
          "output_type": "execute_result"
        }
      ],
      "source": [
        "class_names"
      ]
    },
    {
      "cell_type": "code",
      "execution_count": null,
      "metadata": {
        "colab": {
          "base_uri": "https://localhost:8080/",
          "height": 470
        },
        "id": "ECjF0Wdb7PKP",
        "outputId": "b58b2d48-fdd2-4bf2-8ebc-8f89b976bf9d"
      },
      "outputs": [
        {
          "data": {
            "text/plain": [
              "Text(0.5, 1.0, 'Shirt')"
            ]
          },
          "execution_count": 5,
          "metadata": {},
          "output_type": "execute_result"
        },
        {
          "data": {
            "image/png": "[encoded data removed]",
            "text/plain": [
              "<Figure size 640x480 with 1 Axes>"
            ]
          },
          "metadata": {},
          "output_type": "display_data"
        }
      ],
      "source": [
        "random_idx = random.randint(0, len(train_data)-1)\n",
        "img, label = train_data[random_idx]\n",
        "plt.imshow(img.permute(1, 2, 0))\n",
        "plt.title(class_names[label])"
      ]
    },
    {
      "cell_type": "code",
      "execution_count": null,
      "metadata": {
        "colab": {
          "base_uri": "https://localhost:8080/"
        },
        "id": "IvIS26i2V_Kp",
        "outputId": "e01eb881-6a69-4b98-fc10-39cd4dcc7d57"
      },
      "outputs": [
        {
          "data": {
            "text/plain": [
              "(1875, 313)"
            ]
          },
          "execution_count": 4,
          "metadata": {},
          "output_type": "execute_result"
        }
      ],
      "source": [
        "len(train_data), len(test_data)\n",
        "\n",
        "BATCH_SIZE = 32\n",
        "\n",
        "train_dataloader = DataLoader(\n",
        "  train_data,\n",
        "  batch_size=BATCH_SIZE,\n",
        "  shuffle=True\n",
        ")\n",
        "\n",
        "test_dataloader = DataLoader(\n",
        "  test_data,\n",
        "  batch_size=BATCH_SIZE,\n",
        "  shuffle=False\n",
        ")\n",
        "\n",
        "len(train_dataloader), len(test_dataloader)"
      ]
    },
    {
      "cell_type": "code",
      "execution_count": null,
      "metadata": {
        "colab": {
          "base_uri": "https://localhost:8080/"
        },
        "id": "szCL2AGTbcBX",
        "outputId": "52c4eda8-9a5e-4ae3-b468-23c2e6b96277"
      },
      "outputs": [
        {
          "data": {
            "text/plain": [
              "(torch.Size([32, 1, 28, 28]), torch.Size([32]))"
            ]
          },
          "execution_count": 5,
          "metadata": {},
          "output_type": "execute_result"
        }
      ],
      "source": [
        "x_first_batch, y_first_batch = next(iter(train_dataloader))\n",
        "x_first_batch.shape, y_first_batch.shape"
      ]
    },
    {
      "cell_type": "code",
      "execution_count": null,
      "metadata": {
        "colab": {
          "base_uri": "https://localhost:8080/",
          "height": 620
        },
        "id": "5rOCvsixmkqq",
        "outputId": "8184a305-2a59-4f43-e71b-ab2cd58bc05f"
      },
      "outputs": [
        {
          "ename": "NameError",
          "evalue": "ignored",
          "output_type": "error",
          "traceback": [
            "\u001b[0;31m---------------------------------------------------------------------------\u001b[0m",
            "\u001b[0;31mNameError\u001b[0m                                 Traceback (most recent call last)",
            "\u001b[0;32m<ipython-input-6-00d619207cbc>\u001b[0m in \u001b[0;36m<cell line: 5>\u001b[0;34m()\u001b[0m\n\u001b[1;32m      3\u001b[0m \u001b[0;34m\u001b[0m\u001b[0m\n\u001b[1;32m      4\u001b[0m \u001b[0mplt\u001b[0m\u001b[0;34m.\u001b[0m\u001b[0mimshow\u001b[0m\u001b[0;34m(\u001b[0m\u001b[0mimg\u001b[0m\u001b[0;34m.\u001b[0m\u001b[0mpermute\u001b[0m\u001b[0;34m(\u001b[0m\u001b[0;36m1\u001b[0m\u001b[0;34m,\u001b[0m \u001b[0;36m2\u001b[0m\u001b[0;34m,\u001b[0m \u001b[0;36m0\u001b[0m\u001b[0;34m)\u001b[0m\u001b[0;34m)\u001b[0m\u001b[0;34m\u001b[0m\u001b[0;34m\u001b[0m\u001b[0m\n\u001b[0;32m----> 5\u001b[0;31m \u001b[0mplt\u001b[0m\u001b[0;34m.\u001b[0m\u001b[0mtitle\u001b[0m\u001b[0;34m(\u001b[0m\u001b[0mclass_names\u001b[0m\u001b[0;34m[\u001b[0m\u001b[0mlabel\u001b[0m\u001b[0;34m]\u001b[0m\u001b[0;34m)\u001b[0m\u001b[0;34m\u001b[0m\u001b[0;34m\u001b[0m\u001b[0m\n\u001b[0m",
            "\u001b[0;31mNameError\u001b[0m: name 'class_names' is not defined"
          ]
        },
        {
          "data": {
            "image/png": "[encoded data removed]",
            "text/plain": [
              "<Figure size 640x480 with 1 Axes>"
            ]
          },
          "metadata": {},
          "output_type": "display_data"
        }
      ],
      "source": [
        "random_idx = random.randint(0, len(x_first_batch)-1)\n",
        "img, label = x_first_batch[random_idx], y_first_batch[random_idx]\n",
        "\n",
        "plt.imshow(img.permute(1, 2, 0))\n",
        "plt.title(class_names[label])"
      ]
    },
    {
      "cell_type": "code",
      "execution_count": null,
      "metadata": {
        "colab": {
          "base_uri": "https://localhost:8080/"
        },
        "id": "Ju7wH_dkDpwQ",
        "outputId": "f8327bd9-4eaf-4c66-c057-c23f694ccfa3"
      },
      "outputs": [
        {
          "data": {
            "text/plain": [
              "torch.Size([1, 28, 28])"
            ]
          },
          "execution_count": 7,
          "metadata": {},
          "output_type": "execute_result"
        }
      ],
      "source": [
        "x_first_batch[0].shape"
      ]
    },
    {
      "cell_type": "code",
      "execution_count": null,
      "metadata": {
        "colab": {
          "base_uri": "https://localhost:8080/"
        },
        "id": "glBKdoiUGsY1",
        "outputId": "49f94456-c54e-47af-9edf-d7f1b6ec0fa3"
      },
      "outputs": [
        {
          "data": {
            "text/plain": [
              "torch.Size([784])"
            ]
          },
          "execution_count": 8,
          "metadata": {},
          "output_type": "execute_result"
        }
      ],
      "source": [
        "f = nn.Flatten(start_dim=0, end_dim=-1)\n",
        "f(x_first_batch[0]).shape"
      ]
    },
    {
      "cell_type": "code",
      "execution_count": null,
      "metadata": {
        "id": "auL7J9wiPOeA"
      },
      "outputs": [],
      "source": [
        "class ImageClassificationModel(nn.Module):\n",
        "  def __init__(self, input_shape, output_shape):\n",
        "    super().__init__()\n",
        "    self.layer_stack = nn.Sequential(\n",
        "      nn.Flatten(start_dim=1, end_dim=-1),\n",
        "      nn.Linear(in_features=input_shape, out_features=output_shape)\n",
        "    )\n",
        "\n",
        "  def forward(self, x):\n",
        "    return self.layer_stack(x)"
      ]
    },
    {
      "cell_type": "code",
      "execution_count": null,
      "metadata": {
        "colab": {
          "base_uri": "https://localhost:8080/"
        },
        "id": "pqwesHe6dlkC",
        "outputId": "c1c02e4f-fc20-4932-ec4e-8cd1d0fed534"
      },
      "outputs": [
        {
          "data": {
            "text/plain": [
              "(torch.Size([32, 1, 28, 28]), torch.Size([32]))"
            ]
          },
          "execution_count": 10,
          "metadata": {},
          "output_type": "execute_result"
        }
      ],
      "source": [
        "x_first_batch, y_first_batch = next(iter(train_dataloader))\n",
        "x_first_batch.shape, y_first_batch.shape"
      ]
    },
    {
      "cell_type": "code",
      "execution_count": null,
      "metadata": {
        "colab": {
          "base_uri": "https://localhost:8080/"
        },
        "id": "GEZIm-KNTcm5",
        "outputId": "f7f6cc60-9dc4-4e6d-d708-f9ddf80197b0"
      },
      "outputs": [
        {
          "data": {
            "text/plain": [
              "tensor([6, 3, 3, 6, 9, 6, 8, 0, 5, 6, 9, 9, 5, 5, 9, 7, 9, 9, 9, 5, 3, 8, 9, 9,\n",
              "        6, 3, 9, 9, 7, 9, 0, 9])"
            ]
          },
          "execution_count": 11,
          "metadata": {},
          "output_type": "execute_result"
        }
      ],
      "source": [
        "# torch.manual_seed(87)\n",
        "model = ImageClassificationModel(28*28, 10)\n",
        "y_pred = model(x_first_batch)\n",
        "y_pred.argmax(dim=1)"
      ]
    },
    {
      "cell_type": "code",
      "execution_count": null,
      "metadata": {
        "colab": {
          "base_uri": "https://localhost:8080/"
        },
        "id": "L8cx_9eA5lyr",
        "outputId": "aadd0489-a957-4225-8416-45a56567e91e"
      },
      "outputs": [
        {
          "name": "stdout",
          "output_type": "stream",
          "text": [
            "tensor(2.3064, grad_fn=<NllLossBackward0>)\n",
            "OrderedDict([('layer_stack.1.weight', tensor([[ 0.0310,  0.0016, -0.0099,  ..., -0.0267,  0.0257, -0.0096],\n",
            "        [-0.0071,  0.0250,  0.0319,  ...,  0.0087,  0.0211,  0.0044],\n",
            "        [-0.0058, -0.0032,  0.0130,  ..., -0.0153,  0.0353, -0.0307],\n",
            "        ...,\n",
            "        [-0.0179,  0.0287, -0.0270,  ...,  0.0334,  0.0305, -0.0312],\n",
            "        [ 0.0255,  0.0317,  0.0246,  ..., -0.0047,  0.0308, -0.0319],\n",
            "        [ 0.0263, -0.0333, -0.0219,  ..., -0.0229, -0.0095,  0.0162]])), ('layer_stack.1.bias', tensor([ 0.0177,  0.0137,  0.0143, -0.0117,  0.0093,  0.0291, -0.0177, -0.0288,\n",
            "        -0.0189,  0.0319]))])\n",
            "tensor(2.2647, grad_fn=<NllLossBackward0>)\n",
            "OrderedDict([('layer_stack.1.weight', tensor([[ 0.0310,  0.0016, -0.0099,  ..., -0.0267,  0.0257, -0.0096],\n",
            "        [-0.0071,  0.0250,  0.0319,  ...,  0.0087,  0.0211,  0.0044],\n",
            "        [-0.0058, -0.0032,  0.0130,  ..., -0.0153,  0.0353, -0.0307],\n",
            "        ...,\n",
            "        [-0.0179,  0.0287, -0.0270,  ...,  0.0334,  0.0305, -0.0312],\n",
            "        [ 0.0255,  0.0317,  0.0246,  ..., -0.0047,  0.0307, -0.0319],\n",
            "        [ 0.0263, -0.0333, -0.0219,  ..., -0.0227, -0.0094,  0.0163]])), ('layer_stack.1.bias', tensor([ 0.0176,  0.0145,  0.0142, -0.0112,  0.0093,  0.0298, -0.0181, -0.0289,\n",
            "        -0.0196,  0.0316]))])\n"
          ]
        }
      ],
      "source": [
        "cost_fn = nn.CrossEntropyLoss()\n",
        "y_pred = model(x_first_batch)\n",
        "cost = cost_fn(y_pred, y_first_batch)\n",
        "print(cost)\n",
        "print(model.state_dict())\n",
        "\n",
        "optimizer = torch.optim.SGD(params=model.parameters(), lr=0.01)\n",
        "optimizer.zero_grad()\n",
        "cost.backward()\n",
        "optimizer.step()\n",
        "\n",
        "y_pred = model(x_first_batch)\n",
        "cost = cost_fn(y_pred, y_first_batch)\n",
        "print(cost)\n",
        "print(model.state_dict())"
      ]
    },
    {
      "cell_type": "code",
      "execution_count": null,
      "metadata": {
        "id": "m_xaxeP_ZnWB"
      },
      "outputs": [],
      "source": [
        "def accuracy_fn(y_pred, y_true):\n",
        "\n",
        "  correct_num = (y_pred==y_true).sum()\n",
        "  acc = correct_num / len(y_true) * 100\n",
        "\n",
        "  return acc"
      ]
    },
    {
      "cell_type": "code",
      "execution_count": null,
      "metadata": {
        "colab": {
          "base_uri": "https://localhost:8080/"
        },
        "id": "C7woONJ-gU2Y",
        "outputId": "000cb494-aae0-4f66-d61d-1ef8d429ae01"
      },
      "outputs": [
        {
          "data": {
            "text/plain": [
              "ImageClassificationModel(\n",
              "  (layer_stack): Sequential(\n",
              "    (0): Flatten(start_dim=1, end_dim=-1)\n",
              "    (1): Linear(in_features=784, out_features=10, bias=True)\n",
              "  )\n",
              ")"
            ]
          },
          "execution_count": 14,
          "metadata": {},
          "output_type": "execute_result"
        }
      ],
      "source": [
        "device = \"cuda\" if torch.cuda.is_available() else \"cpu\"\n",
        "model.to(device)"
      ]
    },
    {
      "cell_type": "code",
      "execution_count": null,
      "metadata": {
        "id": "AoEoAldtzcdR"
      },
      "outputs": [],
      "source": [
        "def train_step(dataloader, model, cost_fn, optimizer, accuracy_fn, device):\n",
        "  train_cost = 0\n",
        "  train_acc = 0\n",
        "  for batch, (x, y) in enumerate(dataloader):\n",
        "    x = x.to(device)\n",
        "    y = y.to(device)\n",
        "\n",
        "    model.train()\n",
        "\n",
        "    y_pred = model(x)\n",
        "\n",
        "    cost = cost_fn(y_pred, y)\n",
        "\n",
        "    train_cost += cost\n",
        "    train_acc += accuracy_fn(y_pred.argmax(dim=1), y)\n",
        "\n",
        "    optimizer.zero_grad()\n",
        "\n",
        "    cost.backward()\n",
        "\n",
        "    optimizer.step()\n",
        "\n",
        "  train_cost /= len(train_dataloader)\n",
        "  train_acc /= len(train_dataloader)\n",
        "\n",
        "  print(f\"\\nTrain Cost: {train_cost:.4f}, Train Acc: {train_acc:.2f}\")\n",
        "\n",
        "\n",
        "def test_step(dataloader, model, cost_fn, accuracy_fn, device):\n",
        "  test_cost = 0\n",
        "  test_acc = 0\n",
        "  model.eval()\n",
        "  with torch.inference_mode():\n",
        "    for x, y in dataloader:\n",
        "      x = x.to(device)\n",
        "      y = y.to(device)\n",
        "\n",
        "      test_pred = model(x)\n",
        "\n",
        "      test_cost += cost_fn(test_pred, y)\n",
        "      test_acc += accuracy_fn(test_pred.argmax(dim=1), y)\n",
        "\n",
        "    test_cost /= len(test_dataloader)\n",
        "    test_acc /= len(test_dataloader)\n",
        "\n",
        "  print(f\"Test Cost: {test_cost:.4f}, Test Acc: {test_acc:.2f} \\n\")"
      ]
    },
    {
      "cell_type": "code",
      "execution_count": null,
      "metadata": {
        "colab": {
          "base_uri": "https://localhost:8080/",
          "height": 1000,
          "referenced_widgets": [
            "a2ab276400a34b46840616557bf3057c",
            "6db02a77156b468dbb1b3c502a25fc14",
            "d376ca85bc8346c0b9e7947185725c44",
            "80188ced7b5f47c280a2e6b78488cb13",
            "914eb08dd39e42b1b42c8cd6b015514f",
            "9d3df03fec3549038b3027498cd63190",
            "e7ebb32a69a5439e90aaeb9d8365aa56",
            "67abce26ed6343d29e80e33701e4f629",
            "0f3f235d132c42dea4381261bdbc1fb0",
            "45a4628d2e4c42bcbba9a22392e44152",
            "845f992248344d309732a46765de9e97"
          ]
        },
        "id": "q-5Fnt9tUBb2",
        "outputId": "c95865d9-1a98-4501-f73a-04dc66da64c9"
      },
      "outputs": [
        {
          "data": {
            "application/vnd.jupyter.widget-view+json": {
              "model_id": "a2ab276400a34b46840616557bf3057c",
              "version_major": 2,
              "version_minor": 0
            },
            "text/plain": [
              "  0%|          | 0/10 [00:00<?, ?it/s]"
            ]
          },
          "metadata": {},
          "output_type": "display_data"
        },
        {
          "name": "stdout",
          "output_type": "stream",
          "text": [
            "Epoch: 0\n",
            "-------\n",
            "\n",
            "Train Cost: 0.8159, Train Acc: 74.99\n",
            "Test Cost: 0.6469, Test Acc: 78.74 \n",
            "\n",
            "Epoch: 1\n",
            "-------\n",
            "\n",
            "Train Cost: 0.5884, Train Acc: 80.85\n",
            "Test Cost: 0.5774, Test Acc: 80.80 \n",
            "\n",
            "Epoch: 2\n",
            "-------\n",
            "\n",
            "Train Cost: 0.5394, Train Acc: 82.23\n",
            "Test Cost: 0.5485, Test Acc: 81.57 \n",
            "\n",
            "Epoch: 3\n",
            "-------\n",
            "\n",
            "Train Cost: 0.5133, Train Acc: 82.90\n",
            "Test Cost: 0.5279, Test Acc: 82.09 \n",
            "\n",
            "Epoch: 4\n",
            "-------\n",
            "\n",
            "Train Cost: 0.4962, Train Acc: 83.48\n",
            "Test Cost: 0.5160, Test Acc: 82.36 \n",
            "\n",
            "Epoch: 5\n",
            "-------\n",
            "\n",
            "Train Cost: 0.4840, Train Acc: 83.76\n",
            "Test Cost: 0.5066, Test Acc: 82.78 \n",
            "\n",
            "Epoch: 6\n",
            "-------\n",
            "\n",
            "Train Cost: 0.4741, Train Acc: 84.14\n",
            "Test Cost: 0.5014, Test Acc: 83.05 \n",
            "\n",
            "Epoch: 7\n",
            "-------\n",
            "\n",
            "Train Cost: 0.4664, Train Acc: 84.31\n",
            "Test Cost: 0.4949, Test Acc: 82.86 \n",
            "\n",
            "Epoch: 8\n",
            "-------\n",
            "\n",
            "Train Cost: 0.4600, Train Acc: 84.47\n",
            "Test Cost: 0.4869, Test Acc: 83.25 \n",
            "\n",
            "Epoch: 9\n",
            "-------\n",
            "\n",
            "Train Cost: 0.4548, Train Acc: 84.60\n",
            "Test Cost: 0.4833, Test Acc: 83.21 \n",
            "\n"
          ]
        }
      ],
      "source": [
        "from tqdm.auto import tqdm\n",
        "\n",
        "epochs = 10\n",
        "\n",
        "for epoch in tqdm(range(epochs)):\n",
        "  print(f\"Epoch: {epoch}\\n-------\")\n",
        "\n",
        "  train_step(train_dataloader, model, cost_fn, optimizer, accuracy_fn, device)\n",
        "\n",
        "  test_step(test_dataloader, model, cost_fn, accuracy_fn, device)\n",
        ""
      ]
    },
    {
      "cell_type": "code",
      "execution_count": null,
      "metadata": {
        "id": "Ic416BOYojy2"
      },
      "outputs": [],
      "source": [
        "class ImageClassificationModel2(nn.Module):\n",
        "  def __init__(self, input_shape, output_shape):\n",
        "    super().__init__()\n",
        "    self.layer_stack = nn.Sequential(\n",
        "      nn.Flatten(start_dim=1, end_dim=-1),\n",
        "      nn.Linear(in_features=input_shape, out_features=5),\n",
        "      nn.ReLU(),\n",
        "      nn.Linear(in_features=5, out_features=8),\n",
        "      nn.ReLU(),\n",
        "      nn.Linear(in_features=8, out_features=output_shape),\n",
        "    )\n",
        "\n",
        "  def forward(self, x):\n",
        "    return self.layer_stack(x)"
      ]
    },
    {
      "cell_type": "code",
      "execution_count": null,
      "metadata": {
        "id": "BXSgykplt_7s"
      },
      "outputs": [],
      "source": [
        "model_2 = ImageClassificationModel2(28*28, 10)\n",
        "model_2.to(device)\n",
        "cost_fn = nn.CrossEntropyLoss()\n",
        "optimizer = torch.optim.SGD(model_2.parameters(), lr=0.01)"
      ]
    },
    {
      "cell_type": "code",
      "execution_count": null,
      "metadata": {
        "colab": {
          "base_uri": "https://localhost:8080/",
          "height": 1000,
          "referenced_widgets": [
            "f53b6b8045904be7b6c682fade690937",
            "2c0f7dabe64e4096abdb32b85cce37da",
            "e649b727d8fd4bf4a77a0cecd9184f89",
            "3520d2edac2d495eadc4f2764e3a1be5",
            "cb83bfc9772447fc8e99455f19d437a5",
            "1393923498674faf9aff3151b02df960",
            "9f7ef0df229f4d488853d13ad74744e0",
            "fcc56aeaa9f944de89e9a6b710ad02dc",
            "675bd3d0ae54470db3e6c2a5f78230fb",
            "8fa3d110029d45089623d78f632c5700",
            "f58fbe9583ae49e1a7394797b037f01c"
          ]
        },
        "id": "y4erN2ovvZVU",
        "outputId": "de253da0-bcbb-42e8-8df9-02cad5dd2684"
      },
      "outputs": [
        {
          "data": {
            "application/vnd.jupyter.widget-view+json": {
              "model_id": "f53b6b8045904be7b6c682fade690937",
              "version_major": 2,
              "version_minor": 0
            },
            "text/plain": [
              "  0%|          | 0/10 [00:00<?, ?it/s]"
            ]
          },
          "metadata": {},
          "output_type": "display_data"
        },
        {
          "name": "stdout",
          "output_type": "stream",
          "text": [
            "Epoch: 0\n",
            "-------\n",
            "\n",
            "Train Cost: 1.6190, Train Acc: 40.34\n",
            "Test Cost: 1.1267, Test Acc: 57.54 \n",
            "\n",
            "Epoch: 1\n",
            "-------\n",
            "\n",
            "Train Cost: 0.9843, Train Acc: 62.32\n",
            "Test Cost: 0.9084, Test Acc: 70.15 \n",
            "\n",
            "Epoch: 2\n",
            "-------\n",
            "\n",
            "Train Cost: 0.8204, Train Acc: 72.24\n",
            "Test Cost: 0.7620, Test Acc: 73.55 \n",
            "\n",
            "Epoch: 3\n",
            "-------\n",
            "\n",
            "Train Cost: 0.6801, Train Acc: 75.29\n",
            "Test Cost: 0.6515, Test Acc: 76.48 \n",
            "\n",
            "Epoch: 4\n",
            "-------\n",
            "\n",
            "Train Cost: 0.6044, Train Acc: 77.53\n",
            "Test Cost: 0.6081, Test Acc: 78.05 \n",
            "\n",
            "Epoch: 5\n",
            "-------\n",
            "\n",
            "Train Cost: 0.5743, Train Acc: 78.62\n",
            "Test Cost: 0.5872, Test Acc: 78.71 \n",
            "\n",
            "Epoch: 6\n",
            "-------\n",
            "\n",
            "Train Cost: 0.5566, Train Acc: 79.23\n",
            "Test Cost: 0.5889, Test Acc: 77.87 \n",
            "\n",
            "Epoch: 7\n",
            "-------\n",
            "\n",
            "Train Cost: 0.5432, Train Acc: 79.83\n",
            "Test Cost: 0.5644, Test Acc: 79.39 \n",
            "\n",
            "Epoch: 8\n",
            "-------\n",
            "\n",
            "Train Cost: 0.5294, Train Acc: 80.81\n",
            "Test Cost: 0.5478, Test Acc: 80.82 \n",
            "\n",
            "Epoch: 9\n",
            "-------\n",
            "\n",
            "Train Cost: 0.5110, Train Acc: 81.93\n",
            "Test Cost: 0.5314, Test Acc: 81.69 \n",
            "\n"
          ]
        }
      ],
      "source": [
        "epochs = 10\n",
        "\n",
        "for epoch in tqdm(range(epochs)):\n",
        "  print(f\"Epoch: {epoch}\\n-------\")\n",
        "\n",
        "  train_step(train_dataloader, model_2, cost_fn, optimizer, accuracy_fn, device)\n",
        "\n",
        "  test_step(test_dataloader, model_2, cost_fn, accuracy_fn, device)"
      ]
    },
    {
      "cell_type": "code",
      "execution_count": null,
      "metadata": {
        "id": "H_Bzw8W8qfiH"
      },
      "outputs": [],
      "source": [
        "def eval_model(dataloader, model, cost_fn, accuracy_fn, device):\n",
        "  test_cost = 0\n",
        "  test_acc = 0\n",
        "  model.eval()\n",
        "  with torch.inference_mode():\n",
        "    for x, y in dataloader:\n",
        "      x = x.to(device)\n",
        "      y = y.to(device)\n",
        "\n",
        "      test_pred = model(x)\n",
        "\n",
        "      test_cost += cost_fn(test_pred, y)\n",
        "      test_acc += accuracy_fn(test_pred.argmax(dim=1), y)\n",
        "\n",
        "    test_cost /= len(test_dataloader)\n",
        "    test_acc /= len(test_dataloader)\n",
        "\n",
        "  return {\n",
        "      \"model_name\": model.__class__.__name__,\n",
        "      \"model_cost\": test_cost.item(),\n",
        "      \"model_acc\": test_acc.item()\n",
        "  }"
      ]
    },
    {
      "cell_type": "code",
      "execution_count": null,
      "metadata": {
        "colab": {
          "base_uri": "https://localhost:8080/"
        },
        "id": "pinOm6G4tgS8",
        "outputId": "412b0b51-96e5-465a-8531-d5a351b79b96"
      },
      "outputs": [
        {
          "data": {
            "text/plain": [
              "{'model_name': 'ImageClassificationModel',\n",
              " 'model_cost': 0.4833093285560608,\n",
              " 'model_acc': 83.20687103271484}"
            ]
          },
          "execution_count": 23,
          "metadata": {},
          "output_type": "execute_result"
        }
      ],
      "source": [
        "model_1_result = eval_model(test_dataloader, model, cost_fn, accuracy_fn, device)\n",
        "model_1_result"
      ]
    },
    {
      "cell_type": "code",
      "execution_count": null,
      "metadata": {
        "colab": {
          "base_uri": "https://localhost:8080/"
        },
        "id": "yKI2jLkkvOzj",
        "outputId": "14174625-2917-48a5-eb40-95d49e2ee8c3"
      },
      "outputs": [
        {
          "data": {
            "text/plain": [
              "{'model_name': 'ImageClassificationModel2',\n",
              " 'model_cost': 0.5314356088638306,\n",
              " 'model_acc': 81.68929290771484}"
            ]
          },
          "execution_count": 24,
          "metadata": {},
          "output_type": "execute_result"
        }
      ],
      "source": [
        "model_2_result = eval_model(test_dataloader, model_2, cost_fn, accuracy_fn, device)\n",
        "model_2_result"
      ]
    },
    {
      "cell_type": "markdown",
      "metadata": {
        "id": "eHoAL3pCiBXJ"
      },
      "source": [
        "# **其他種類的神經網路**"
      ]
    },
    {
      "cell_type": "code",
      "execution_count": null,
      "metadata": {
        "colab": {
          "base_uri": "https://localhost:8080/"
        },
        "id": "XzBD5pcV6sbL",
        "outputId": "3033cccd-d824-402c-e2f5-670c01492f32"
      },
      "outputs": [
        {
          "name": "stdout",
          "output_type": "stream",
          "text": [
            "torch.Size([8, 26, 26])\n"
          ]
        },
        {
          "data": {
            "text/plain": [
              "torch.Size([8, 25, 25])"
            ]
          },
          "execution_count": 14,
          "metadata": {},
          "output_type": "execute_result"
        }
      ],
      "source": [
        "conv_layer = nn.Conv2d(in_channels=1, out_channels=8, kernel_size=(5, 5), stride=1, padding=1)\n",
        "conv_output = conv_layer(x_first_batch[0])\n",
        "print(conv_output.shape)\n",
        "# x_first_batch[0].shape\n",
        "maxpool = nn.MaxPool2d(kernel_size=(2, 2), stride=1, padding=0)\n",
        "maxpool(conv_output).shape"
      ]
    },
    {
      "cell_type": "code",
      "execution_count": null,
      "metadata": {
        "id": "ADqc79Y7HqRO"
      },
      "outputs": [],
      "source": [
        "class ImageClassificationModel3(nn.Module):\n",
        "  def __init__(self, input_shape, output_shape):\n",
        "    super().__init__()\n",
        "    self.conv_block_1 = nn.Sequential(\n",
        "      nn.Conv2d(in_channels=input_shape,\n",
        "          out_channels=8,\n",
        "          kernel_size=(3, 3),\n",
        "          stride=1,\n",
        "          padding=1\n",
        "      ),\n",
        "      nn.ReLU(),\n",
        "      nn.Conv2d(in_channels=8,\n",
        "          out_channels=8,\n",
        "          kernel_size=(3, 3),\n",
        "          stride=1,\n",
        "          padding=1\n",
        "      ),\n",
        "      nn.ReLU(),\n",
        "      nn.MaxPool2d(kernel_size=(2, 2),\n",
        "            stride=2,\n",
        "            padding=0\n",
        "      )\n",
        "    )\n",
        "\n",
        "    self.conv_block_2 = nn.Sequential(\n",
        "      nn.Conv2d(in_channels=8,\n",
        "          out_channels=16,\n",
        "          kernel_size=(3, 3),\n",
        "          stride=1,\n",
        "          padding=1\n",
        "      ),\n",
        "      nn.ReLU(),\n",
        "      nn.Conv2d(in_channels=16,\n",
        "          out_channels=16,\n",
        "          kernel_size=(3, 3),\n",
        "          stride=1,\n",
        "          padding=1\n",
        "      ),\n",
        "      nn.ReLU(),\n",
        "      nn.MaxPool2d(kernel_size=(2, 2),\n",
        "            stride=2,\n",
        "            padding=0\n",
        "      )\n",
        "    )\n",
        "\n",
        "    self.classifier = nn.Sequential(\n",
        "      nn.Flatten(start_dim=1, end_dim=-1),\n",
        "      nn.Linear(in_features=16*7*7, out_features=output_shape)\n",
        "    )\n",
        "  def forward(self, x):\n",
        "    x = self.conv_block_1(x)\n",
        "    x = self.conv_block_2(x)\n",
        "    x = self.classifier(x)\n",
        "    return x"
      ]
    },
    {
      "cell_type": "code",
      "execution_count": null,
      "metadata": {
        "id": "b4i1tjmNjxR1"
      },
      "outputs": [],
      "source": [
        "model_3 = ImageClassificationModel3(1, 10)\n",
        "model_3.to(device)\n",
        "cost_fn = nn.CrossEntropyLoss()\n",
        "optimizer = torch.optim.SGD(params=model_3.parameters(), lr=0.01)"
      ]
    },
    {
      "cell_type": "code",
      "execution_count": null,
      "metadata": {
        "colab": {
          "base_uri": "https://localhost:8080/",
          "height": 1000,
          "referenced_widgets": [
            "fdd6abab2be34fc58ee2d832fd03fc5b",
            "977e7f1efc954d9d884f88074b0b41ad",
            "3341b751459c469a9218e363d2578822",
            "6094a554aa2044b483890fa5c96352f4",
            "24b0c371a6854dc2adf03ebb33320618",
            "1cab367815ad46c3934cc7307f59db40",
            "aa77d1224f49453ea45b36cfb23e9b1e",
            "9d208511b17a4f5094a0159b7dc29173",
            "7626c29e4c8f4d3f9dc099c51b72bb07",
            "8ded4e8d4c914f149c230fcb1e62b185",
            "c5f43d8f153147c588730863fc9ff89c"
          ]
        },
        "id": "ZzHBBuGjidyn",
        "outputId": "c46fd15b-f0c7-4963-de2b-4c56ac04bee2"
      },
      "outputs": [
        {
          "data": {
            "application/vnd.jupyter.widget-view+json": {
              "model_id": "fdd6abab2be34fc58ee2d832fd03fc5b",
              "version_major": 2,
              "version_minor": 0
            },
            "text/plain": [
              "  0%|          | 0/10 [00:00<?, ?it/s]"
            ]
          },
          "metadata": {},
          "output_type": "display_data"
        },
        {
          "name": "stdout",
          "output_type": "stream",
          "text": [
            "Epoch: 0\n",
            "-------\n",
            "\n",
            "Train Cost: 0.3777, Train Acc: 86.40\n",
            "Test Cost: 0.3877, Test Acc: 86.07 \n",
            "\n",
            "Epoch: 1\n",
            "-------\n",
            "\n",
            "Train Cost: 0.3501, Train Acc: 87.51\n",
            "Test Cost: 0.3604, Test Acc: 87.34 \n",
            "\n",
            "Epoch: 2\n",
            "-------\n",
            "\n",
            "Train Cost: 0.3313, Train Acc: 88.27\n",
            "Test Cost: 0.3557, Test Acc: 87.42 \n",
            "\n",
            "Epoch: 3\n",
            "-------\n",
            "\n",
            "Train Cost: 0.3170, Train Acc: 88.65\n",
            "Test Cost: 0.3621, Test Acc: 87.05 \n",
            "\n",
            "Epoch: 4\n",
            "-------\n",
            "\n",
            "Train Cost: 0.3062, Train Acc: 88.95\n",
            "Test Cost: 0.3414, Test Acc: 87.46 \n",
            "\n",
            "Epoch: 5\n",
            "-------\n",
            "\n",
            "Train Cost: 0.2977, Train Acc: 89.23\n",
            "Test Cost: 0.3342, Test Acc: 88.02 \n",
            "\n",
            "Epoch: 6\n",
            "-------\n",
            "\n",
            "Train Cost: 0.2902, Train Acc: 89.59\n",
            "Test Cost: 0.3378, Test Acc: 87.56 \n",
            "\n",
            "Epoch: 7\n",
            "-------\n",
            "\n",
            "Train Cost: 0.2833, Train Acc: 89.76\n",
            "Test Cost: 0.3175, Test Acc: 88.67 \n",
            "\n",
            "Epoch: 8\n",
            "-------\n",
            "\n",
            "Train Cost: 0.2772, Train Acc: 89.94\n",
            "Test Cost: 0.3122, Test Acc: 88.93 \n",
            "\n",
            "Epoch: 9\n",
            "-------\n",
            "\n",
            "Train Cost: 0.2719, Train Acc: 90.26\n",
            "Test Cost: 0.3267, Test Acc: 88.46 \n",
            "\n"
          ]
        }
      ],
      "source": [
        "from tqdm.auto import tqdm\n",
        "epochs = 10\n",
        "\n",
        "for epoch in tqdm(range(epochs)):\n",
        "  print(f\"Epoch: {epoch}\\n-------\")\n",
        "\n",
        "  train_step(train_dataloader, model_3, cost_fn, optimizer, accuracy_fn, device)\n",
        "\n",
        "  test_step(test_dataloader, model_3, cost_fn, accuracy_fn, device)"
      ]
    },
    {
      "cell_type": "code",
      "execution_count": null,
      "metadata": {
        "id": "ohi2skVt5cxf"
      },
      "outputs": [],
      "source": []
    },
    {
      "cell_type": "code",
      "execution_count": null,
      "metadata": {
        "id": "QVw9WTlm5cvL"
      },
      "outputs": [],
      "source": []
    },
    {
      "cell_type": "code",
      "execution_count": null,
      "metadata": {
        "id": "rk0NADES5csa"
      },
      "outputs": [],
      "source": []
    },
    {
      "cell_type": "code",
      "execution_count": null,
      "metadata": {
        "id": "wL8G0YCvYhDK"
      },
      "outputs": [],
      "source": []
    }
  ],
  "metadata": {
    "accelerator": "GPU",
    "colab": {
      "provenance": []
    },
    "gpuClass": "standard",
    "kernelspec": {
      "display_name": "Python 3",
      "name": "python3"
    },
    "language_info": {
      "name": "python"
    },
    "widgets": {
      "application/vnd.jupyter.widget-state+json": {
        "0f3f235d132c42dea4381261bdbc1fb0": {
          "model_module": "@jupyter-widgets/controls",
          "model_module_version": "1.5.0",
          "model_name": "ProgressStyleModel",
          "state": {
            "_model_module": "@jupyter-widgets/controls",
            "_model_module_version": "1.5.0",
            "_model_name": "ProgressStyleModel",
            "_view_count": null,
            "_view_module": "@jupyter-widgets/base",
            "_view_module_version": "1.2.0",
            "_view_name": "StyleView",
            "bar_color": null,
            "description_width": ""
          }
        },
        "1393923498674faf9aff3151b02df960": {
          "model_module": "@jupyter-widgets/base",
          "model_module_version": "1.2.0",
          "model_name": "LayoutModel",
          "state": {
            "_model_module": "@jupyter-widgets/base",
            "_model_module_version": "1.2.0",
            "_model_name": "LayoutModel",
            "_view_count": null,
            "_view_module": "@jupyter-widgets/base",
            "_view_module_version": "1.2.0",
            "_view_name": "LayoutView",
            "align_content": null,
            "align_items": null,
            "align_self": null,
            "border": null,
            "bottom": null,
            "display": null,
            "flex": null,
            "flex_flow": null,
            "grid_area": null,
            "grid_auto_columns": null,
            "grid_auto_flow": null,
            "grid_auto_rows": null,
            "grid_column": null,
            "grid_gap": null,
            "grid_row": null,
            "grid_template_areas": null,
            "grid_template_columns": null,
            "grid_template_rows": null,
            "height": null,
            "justify_content": null,
            "justify_items": null,
            "left": null,
            "margin": null,
            "max_height": null,
            "max_width": null,
            "min_height": null,
            "min_width": null,
            "object_fit": null,
            "object_position": null,
            "order": null,
            "overflow": null,
            "overflow_x": null,
            "overflow_y": null,
            "padding": null,
            "right": null,
            "top": null,
            "visibility": null,
            "width": null
          }
        },
        "1cab367815ad46c3934cc7307f59db40": {
          "model_module": "@jupyter-widgets/base",
          "model_module_version": "1.2.0",
          "model_name": "LayoutModel",
          "state": {
            "_model_module": "@jupyter-widgets/base",
            "_model_module_version": "1.2.0",
            "_model_name": "LayoutModel",
            "_view_count": null,
            "_view_module": "@jupyter-widgets/base",
            "_view_module_version": "1.2.0",
            "_view_name": "LayoutView",
            "align_content": null,
            "align_items": null,
            "align_self": null,
            "border": null,
            "bottom": null,
            "display": null,
            "flex": null,
            "flex_flow": null,
            "grid_area": null,
            "grid_auto_columns": null,
            "grid_auto_flow": null,
            "grid_auto_rows": null,
            "grid_column": null,
            "grid_gap": null,
            "grid_row": null,
            "grid_template_areas": null,
            "grid_template_columns": null,
            "grid_template_rows": null,
            "height": null,
            "justify_content": null,
            "justify_items": null,
            "left": null,
            "margin": null,
            "max_height": null,
            "max_width": null,
            "min_height": null,
            "min_width": null,
            "object_fit": null,
            "object_position": null,
            "order": null,
            "overflow": null,
            "overflow_x": null,
            "overflow_y": null,
            "padding": null,
            "right": null,
            "top": null,
            "visibility": null,
            "width": null
          }
        },
        "24b0c371a6854dc2adf03ebb33320618": {
          "model_module": "@jupyter-widgets/base",
          "model_module_version": "1.2.0",
          "model_name": "LayoutModel",
          "state": {
            "_model_module": "@jupyter-widgets/base",
            "_model_module_version": "1.2.0",
            "_model_name": "LayoutModel",
            "_view_count": null,
            "_view_module": "@jupyter-widgets/base",
            "_view_module_version": "1.2.0",
            "_view_name": "LayoutView",
            "align_content": null,
            "align_items": null,
            "align_self": null,
            "border": null,
            "bottom": null,
            "display": null,
            "flex": null,
            "flex_flow": null,
            "grid_area": null,
            "grid_auto_columns": null,
            "grid_auto_flow": null,
            "grid_auto_rows": null,
            "grid_column": null,
            "grid_gap": null,
            "grid_row": null,
            "grid_template_areas": null,
            "grid_template_columns": null,
            "grid_template_rows": null,
            "height": null,
            "justify_content": null,
            "justify_items": null,
            "left": null,
            "margin": null,
            "max_height": null,
            "max_width": null,
            "min_height": null,
            "min_width": null,
            "object_fit": null,
            "object_position": null,
            "order": null,
            "overflow": null,
            "overflow_x": null,
            "overflow_y": null,
            "padding": null,
            "right": null,
            "top": null,
            "visibility": null,
            "width": null
          }
        },
        "2c0f7dabe64e4096abdb32b85cce37da": {
          "model_module": "@jupyter-widgets/controls",
          "model_module_version": "1.5.0",
          "model_name": "HTMLModel",
          "state": {
            "_dom_classes": [],
            "_model_module": "@jupyter-widgets/controls",
            "_model_module_version": "1.5.0",
            "_model_name": "HTMLModel",
            "_view_count": null,
            "_view_module": "@jupyter-widgets/controls",
            "_view_module_version": "1.5.0",
            "_view_name": "HTMLView",
            "description": "",
            "description_tooltip": null,
            "layout": "IPY_MODEL_1393923498674faf9aff3151b02df960",
            "placeholder": "​",
            "style": "IPY_MODEL_9f7ef0df229f4d488853d13ad74744e0",
            "value": "100%"
          }
        },
        "3341b751459c469a9218e363d2578822": {
          "model_module": "@jupyter-widgets/controls",
          "model_module_version": "1.5.0",
          "model_name": "FloatProgressModel",
          "state": {
            "_dom_classes": [],
            "_model_module": "@jupyter-widgets/controls",
            "_model_module_version": "1.5.0",
            "_model_name": "FloatProgressModel",
            "_view_count": null,
            "_view_module": "@jupyter-widgets/controls",
            "_view_module_version": "1.5.0",
            "_view_name": "ProgressView",
            "bar_style": "success",
            "description": "",
            "description_tooltip": null,
            "layout": "IPY_MODEL_9d208511b17a4f5094a0159b7dc29173",
            "max": 10,
            "min": 0,
            "orientation": "horizontal",
            "style": "IPY_MODEL_7626c29e4c8f4d3f9dc099c51b72bb07",
            "value": 10
          }
        },
        "3520d2edac2d495eadc4f2764e3a1be5": {
          "model_module": "@jupyter-widgets/controls",
          "model_module_version": "1.5.0",
          "model_name": "HTMLModel",
          "state": {
            "_dom_classes": [],
            "_model_module": "@jupyter-widgets/controls",
            "_model_module_version": "1.5.0",
            "_model_name": "HTMLModel",
            "_view_count": null,
            "_view_module": "@jupyter-widgets/controls",
            "_view_module_version": "1.5.0",
            "_view_name": "HTMLView",
            "description": "",
            "description_tooltip": null,
            "layout": "IPY_MODEL_8fa3d110029d45089623d78f632c5700",
            "placeholder": "​",
            "style": "IPY_MODEL_f58fbe9583ae49e1a7394797b037f01c",
            "value": " 10/10 [02:06&lt;00:00, 12.67s/it]"
          }
        },
        "45a4628d2e4c42bcbba9a22392e44152": {
          "model_module": "@jupyter-widgets/base",
          "model_module_version": "1.2.0",
          "model_name": "LayoutModel",
          "state": {
            "_model_module": "@jupyter-widgets/base",
            "_model_module_version": "1.2.0",
            "_model_name": "LayoutModel",
            "_view_count": null,
            "_view_module": "@jupyter-widgets/base",
            "_view_module_version": "1.2.0",
            "_view_name": "LayoutView",
            "align_content": null,
            "align_items": null,
            "align_self": null,
            "border": null,
            "bottom": null,
            "display": null,
            "flex": null,
            "flex_flow": null,
            "grid_area": null,
            "grid_auto_columns": null,
            "grid_auto_flow": null,
            "grid_auto_rows": null,
            "grid_column": null,
            "grid_gap": null,
            "grid_row": null,
            "grid_template_areas": null,
            "grid_template_columns": null,
            "grid_template_rows": null,
            "height": null,
            "justify_content": null,
            "justify_items": null,
            "left": null,
            "margin": null,
            "max_height": null,
            "max_width": null,
            "min_height": null,
            "min_width": null,
            "object_fit": null,
            "object_position": null,
            "order": null,
            "overflow": null,
            "overflow_x": null,
            "overflow_y": null,
            "padding": null,
            "right": null,
            "top": null,
            "visibility": null,
            "width": null
          }
        },
        "6094a554aa2044b483890fa5c96352f4": {
          "model_module": "@jupyter-widgets/controls",
          "model_module_version": "1.5.0",
          "model_name": "HTMLModel",
          "state": {
            "_dom_classes": [],
            "_model_module": "@jupyter-widgets/controls",
            "_model_module_version": "1.5.0",
            "_model_name": "HTMLModel",
            "_view_count": null,
            "_view_module": "@jupyter-widgets/controls",
            "_view_module_version": "1.5.0",
            "_view_name": "HTMLView",
            "description": "",
            "description_tooltip": null,
            "layout": "IPY_MODEL_8ded4e8d4c914f149c230fcb1e62b185",
            "placeholder": "​",
            "style": "IPY_MODEL_c5f43d8f153147c588730863fc9ff89c",
            "value": " 10/10 [02:25&lt;00:00, 14.44s/it]"
          }
        },
        "675bd3d0ae54470db3e6c2a5f78230fb": {
          "model_module": "@jupyter-widgets/controls",
          "model_module_version": "1.5.0",
          "model_name": "ProgressStyleModel",
          "state": {
            "_model_module": "@jupyter-widgets/controls",
            "_model_module_version": "1.5.0",
            "_model_name": "ProgressStyleModel",
            "_view_count": null,
            "_view_module": "@jupyter-widgets/base",
            "_view_module_version": "1.2.0",
            "_view_name": "StyleView",
            "bar_color": null,
            "description_width": ""
          }
        },
        "67abce26ed6343d29e80e33701e4f629": {
          "model_module": "@jupyter-widgets/base",
          "model_module_version": "1.2.0",
          "model_name": "LayoutModel",
          "state": {
            "_model_module": "@jupyter-widgets/base",
            "_model_module_version": "1.2.0",
            "_model_name": "LayoutModel",
            "_view_count": null,
            "_view_module": "@jupyter-widgets/base",
            "_view_module_version": "1.2.0",
            "_view_name": "LayoutView",
            "align_content": null,
            "align_items": null,
            "align_self": null,
            "border": null,
            "bottom": null,
            "display": null,
            "flex": null,
            "flex_flow": null,
            "grid_area": null,
            "grid_auto_columns": null,
            "grid_auto_flow": null,
            "grid_auto_rows": null,
            "grid_column": null,
            "grid_gap": null,
            "grid_row": null,
            "grid_template_areas": null,
            "grid_template_columns": null,
            "grid_template_rows": null,
            "height": null,
            "justify_content": null,
            "justify_items": null,
            "left": null,
            "margin": null,
            "max_height": null,
            "max_width": null,
            "min_height": null,
            "min_width": null,
            "object_fit": null,
            "object_position": null,
            "order": null,
            "overflow": null,
            "overflow_x": null,
            "overflow_y": null,
            "padding": null,
            "right": null,
            "top": null,
            "visibility": null,
            "width": null
          }
        },
        "6db02a77156b468dbb1b3c502a25fc14": {
          "model_module": "@jupyter-widgets/controls",
          "model_module_version": "1.5.0",
          "model_name": "HTMLModel",
          "state": {
            "_dom_classes": [],
            "_model_module": "@jupyter-widgets/controls",
            "_model_module_version": "1.5.0",
            "_model_name": "HTMLModel",
            "_view_count": null,
            "_view_module": "@jupyter-widgets/controls",
            "_view_module_version": "1.5.0",
            "_view_name": "HTMLView",
            "description": "",
            "description_tooltip": null,
            "layout": "IPY_MODEL_9d3df03fec3549038b3027498cd63190",
            "placeholder": "​",
            "style": "IPY_MODEL_e7ebb32a69a5439e90aaeb9d8365aa56",
            "value": "100%"
          }
        },
        "7626c29e4c8f4d3f9dc099c51b72bb07": {
          "model_module": "@jupyter-widgets/controls",
          "model_module_version": "1.5.0",
          "model_name": "ProgressStyleModel",
          "state": {
            "_model_module": "@jupyter-widgets/controls",
            "_model_module_version": "1.5.0",
            "_model_name": "ProgressStyleModel",
            "_view_count": null,
            "_view_module": "@jupyter-widgets/base",
            "_view_module_version": "1.2.0",
            "_view_name": "StyleView",
            "bar_color": null,
            "description_width": ""
          }
        },
        "80188ced7b5f47c280a2e6b78488cb13": {
          "model_module": "@jupyter-widgets/controls",
          "model_module_version": "1.5.0",
          "model_name": "HTMLModel",
          "state": {
            "_dom_classes": [],
            "_model_module": "@jupyter-widgets/controls",
            "_model_module_version": "1.5.0",
            "_model_name": "HTMLModel",
            "_view_count": null,
            "_view_module": "@jupyter-widgets/controls",
            "_view_module_version": "1.5.0",
            "_view_name": "HTMLView",
            "description": "",
            "description_tooltip": null,
            "layout": "IPY_MODEL_45a4628d2e4c42bcbba9a22392e44152",
            "placeholder": "​",
            "style": "IPY_MODEL_845f992248344d309732a46765de9e97",
            "value": " 10/10 [02:04&lt;00:00, 11.93s/it]"
          }
        },
        "845f992248344d309732a46765de9e97": {
          "model_module": "@jupyter-widgets/controls",
          "model_module_version": "1.5.0",
          "model_name": "DescriptionStyleModel",
          "state": {
            "_model_module": "@jupyter-widgets/controls",
            "_model_module_version": "1.5.0",
            "_model_name": "DescriptionStyleModel",
            "_view_count": null,
            "_view_module": "@jupyter-widgets/base",
            "_view_module_version": "1.2.0",
            "_view_name": "StyleView",
            "description_width": ""
          }
        },
        "8ded4e8d4c914f149c230fcb1e62b185": {
          "model_module": "@jupyter-widgets/base",
          "model_module_version": "1.2.0",
          "model_name": "LayoutModel",
          "state": {
            "_model_module": "@jupyter-widgets/base",
            "_model_module_version": "1.2.0",
            "_model_name": "LayoutModel",
            "_view_count": null,
            "_view_module": "@jupyter-widgets/base",
            "_view_module_version": "1.2.0",
            "_view_name": "LayoutView",
            "align_content": null,
            "align_items": null,
            "align_self": null,
            "border": null,
            "bottom": null,
            "display": null,
            "flex": null,
            "flex_flow": null,
            "grid_area": null,
            "grid_auto_columns": null,
            "grid_auto_flow": null,
            "grid_auto_rows": null,
            "grid_column": null,
            "grid_gap": null,
            "grid_row": null,
            "grid_template_areas": null,
            "grid_template_columns": null,
            "grid_template_rows": null,
            "height": null,
            "justify_content": null,
            "justify_items": null,
            "left": null,
            "margin": null,
            "max_height": null,
            "max_width": null,
            "min_height": null,
            "min_width": null,
            "object_fit": null,
            "object_position": null,
            "order": null,
            "overflow": null,
            "overflow_x": null,
            "overflow_y": null,
            "padding": null,
            "right": null,
            "top": null,
            "visibility": null,
            "width": null
          }
        },
        "8fa3d110029d45089623d78f632c5700": {
          "model_module": "@jupyter-widgets/base",
          "model_module_version": "1.2.0",
          "model_name": "LayoutModel",
          "state": {
            "_model_module": "@jupyter-widgets/base",
            "_model_module_version": "1.2.0",
            "_model_name": "LayoutModel",
            "_view_count": null,
            "_view_module": "@jupyter-widgets/base",
            "_view_module_version": "1.2.0",
            "_view_name": "LayoutView",
            "align_content": null,
            "align_items": null,
            "align_self": null,
            "border": null,
            "bottom": null,
            "display": null,
            "flex": null,
            "flex_flow": null,
            "grid_area": null,
            "grid_auto_columns": null,
            "grid_auto_flow": null,
            "grid_auto_rows": null,
            "grid_column": null,
            "grid_gap": null,
            "grid_row": null,
            "grid_template_areas": null,
            "grid_template_columns": null,
            "grid_template_rows": null,
            "height": null,
            "justify_content": null,
            "justify_items": null,
            "left": null,
            "margin": null,
            "max_height": null,
            "max_width": null,
            "min_height": null,
            "min_width": null,
            "object_fit": null,
            "object_position": null,
            "order": null,
            "overflow": null,
            "overflow_x": null,
            "overflow_y": null,
            "padding": null,
            "right": null,
            "top": null,
            "visibility": null,
            "width": null
          }
        },
        "914eb08dd39e42b1b42c8cd6b015514f": {
          "model_module": "@jupyter-widgets/base",
          "model_module_version": "1.2.0",
          "model_name": "LayoutModel",
          "state": {
            "_model_module": "@jupyter-widgets/base",
            "_model_module_version": "1.2.0",
            "_model_name": "LayoutModel",
            "_view_count": null,
            "_view_module": "@jupyter-widgets/base",
            "_view_module_version": "1.2.0",
            "_view_name": "LayoutView",
            "align_content": null,
            "align_items": null,
            "align_self": null,
            "border": null,
            "bottom": null,
            "display": null,
            "flex": null,
            "flex_flow": null,
            "grid_area": null,
            "grid_auto_columns": null,
            "grid_auto_flow": null,
            "grid_auto_rows": null,
            "grid_column": null,
            "grid_gap": null,
            "grid_row": null,
            "grid_template_areas": null,
            "grid_template_columns": null,
            "grid_template_rows": null,
            "height": null,
            "justify_content": null,
            "justify_items": null,
            "left": null,
            "margin": null,
            "max_height": null,
            "max_width": null,
            "min_height": null,
            "min_width": null,
            "object_fit": null,
            "object_position": null,
            "order": null,
            "overflow": null,
            "overflow_x": null,
            "overflow_y": null,
            "padding": null,
            "right": null,
            "top": null,
            "visibility": null,
            "width": null
          }
        },
        "977e7f1efc954d9d884f88074b0b41ad": {
          "model_module": "@jupyter-widgets/controls",
          "model_module_version": "1.5.0",
          "model_name": "HTMLModel",
          "state": {
            "_dom_classes": [],
            "_model_module": "@jupyter-widgets/controls",
            "_model_module_version": "1.5.0",
            "_model_name": "HTMLModel",
            "_view_count": null,
            "_view_module": "@jupyter-widgets/controls",
            "_view_module_version": "1.5.0",
            "_view_name": "HTMLView",
            "description": "",
            "description_tooltip": null,
            "layout": "IPY_MODEL_1cab367815ad46c3934cc7307f59db40",
            "placeholder": "​",
            "style": "IPY_MODEL_aa77d1224f49453ea45b36cfb23e9b1e",
            "value": "100%"
          }
        },
        "9d208511b17a4f5094a0159b7dc29173": {
          "model_module": "@jupyter-widgets/base",
          "model_module_version": "1.2.0",
          "model_name": "LayoutModel",
          "state": {
            "_model_module": "@jupyter-widgets/base",
            "_model_module_version": "1.2.0",
            "_model_name": "LayoutModel",
            "_view_count": null,
            "_view_module": "@jupyter-widgets/base",
            "_view_module_version": "1.2.0",
            "_view_name": "LayoutView",
            "align_content": null,
            "align_items": null,
            "align_self": null,
            "border": null,
            "bottom": null,
            "display": null,
            "flex": null,
            "flex_flow": null,
            "grid_area": null,
            "grid_auto_columns": null,
            "grid_auto_flow": null,
            "grid_auto_rows": null,
            "grid_column": null,
            "grid_gap": null,
            "grid_row": null,
            "grid_template_areas": null,
            "grid_template_columns": null,
            "grid_template_rows": null,
            "height": null,
            "justify_content": null,
            "justify_items": null,
            "left": null,
            "margin": null,
            "max_height": null,
            "max_width": null,
            "min_height": null,
            "min_width": null,
            "object_fit": null,
            "object_position": null,
            "order": null,
            "overflow": null,
            "overflow_x": null,
            "overflow_y": null,
            "padding": null,
            "right": null,
            "top": null,
            "visibility": null,
            "width": null
          }
        },
        "9d3df03fec3549038b3027498cd63190": {
          "model_module": "@jupyter-widgets/base",
          "model_module_version": "1.2.0",
          "model_name": "LayoutModel",
          "state": {
            "_model_module": "@jupyter-widgets/base",
            "_model_module_version": "1.2.0",
            "_model_name": "LayoutModel",
            "_view_count": null,
            "_view_module": "@jupyter-widgets/base",
            "_view_module_version": "1.2.0",
            "_view_name": "LayoutView",
            "align_content": null,
            "align_items": null,
            "align_self": null,
            "border": null,
            "bottom": null,
            "display": null,
            "flex": null,
            "flex_flow": null,
            "grid_area": null,
            "grid_auto_columns": null,
            "grid_auto_flow": null,
            "grid_auto_rows": null,
            "grid_column": null,
            "grid_gap": null,
            "grid_row": null,
            "grid_template_areas": null,
            "grid_template_columns": null,
            "grid_template_rows": null,
            "height": null,
            "justify_content": null,
            "justify_items": null,
            "left": null,
            "margin": null,
            "max_height": null,
            "max_width": null,
            "min_height": null,
            "min_width": null,
            "object_fit": null,
            "object_position": null,
            "order": null,
            "overflow": null,
            "overflow_x": null,
            "overflow_y": null,
            "padding": null,
            "right": null,
            "top": null,
            "visibility": null,
            "width": null
          }
        },
        "9f7ef0df229f4d488853d13ad74744e0": {
          "model_module": "@jupyter-widgets/controls",
          "model_module_version": "1.5.0",
          "model_name": "DescriptionStyleModel",
          "state": {
            "_model_module": "@jupyter-widgets/controls",
            "_model_module_version": "1.5.0",
            "_model_name": "DescriptionStyleModel",
            "_view_count": null,
            "_view_module": "@jupyter-widgets/base",
            "_view_module_version": "1.2.0",
            "_view_name": "StyleView",
            "description_width": ""
          }
        },
        "a2ab276400a34b46840616557bf3057c": {
          "model_module": "@jupyter-widgets/controls",
          "model_module_version": "1.5.0",
          "model_name": "HBoxModel",
          "state": {
            "_dom_classes": [],
            "_model_module": "@jupyter-widgets/controls",
            "_model_module_version": "1.5.0",
            "_model_name": "HBoxModel",
            "_view_count": null,
            "_view_module": "@jupyter-widgets/controls",
            "_view_module_version": "1.5.0",
            "_view_name": "HBoxView",
            "box_style": "",
            "children": [
              "IPY_MODEL_6db02a77156b468dbb1b3c502a25fc14",
              "IPY_MODEL_d376ca85bc8346c0b9e7947185725c44",
              "IPY_MODEL_80188ced7b5f47c280a2e6b78488cb13"
            ],
            "layout": "IPY_MODEL_914eb08dd39e42b1b42c8cd6b015514f"
          }
        },
        "aa77d1224f49453ea45b36cfb23e9b1e": {
          "model_module": "@jupyter-widgets/controls",
          "model_module_version": "1.5.0",
          "model_name": "DescriptionStyleModel",
          "state": {
            "_model_module": "@jupyter-widgets/controls",
            "_model_module_version": "1.5.0",
            "_model_name": "DescriptionStyleModel",
            "_view_count": null,
            "_view_module": "@jupyter-widgets/base",
            "_view_module_version": "1.2.0",
            "_view_name": "StyleView",
            "description_width": ""
          }
        },
        "c5f43d8f153147c588730863fc9ff89c": {
          "model_module": "@jupyter-widgets/controls",
          "model_module_version": "1.5.0",
          "model_name": "DescriptionStyleModel",
          "state": {
            "_model_module": "@jupyter-widgets/controls",
            "_model_module_version": "1.5.0",
            "_model_name": "DescriptionStyleModel",
            "_view_count": null,
            "_view_module": "@jupyter-widgets/base",
            "_view_module_version": "1.2.0",
            "_view_name": "StyleView",
            "description_width": ""
          }
        },
        "cb83bfc9772447fc8e99455f19d437a5": {
          "model_module": "@jupyter-widgets/base",
          "model_module_version": "1.2.0",
          "model_name": "LayoutModel",
          "state": {
            "_model_module": "@jupyter-widgets/base",
            "_model_module_version": "1.2.0",
            "_model_name": "LayoutModel",
            "_view_count": null,
            "_view_module": "@jupyter-widgets/base",
            "_view_module_version": "1.2.0",
            "_view_name": "LayoutView",
            "align_content": null,
            "align_items": null,
            "align_self": null,
            "border": null,
            "bottom": null,
            "display": null,
            "flex": null,
            "flex_flow": null,
            "grid_area": null,
            "grid_auto_columns": null,
            "grid_auto_flow": null,
            "grid_auto_rows": null,
            "grid_column": null,
            "grid_gap": null,
            "grid_row": null,
            "grid_template_areas": null,
            "grid_template_columns": null,
            "grid_template_rows": null,
            "height": null,
            "justify_content": null,
            "justify_items": null,
            "left": null,
            "margin": null,
            "max_height": null,
            "max_width": null,
            "min_height": null,
            "min_width": null,
            "object_fit": null,
            "object_position": null,
            "order": null,
            "overflow": null,
            "overflow_x": null,
            "overflow_y": null,
            "padding": null,
            "right": null,
            "top": null,
            "visibility": null,
            "width": null
          }
        },
        "d376ca85bc8346c0b9e7947185725c44": {
          "model_module": "@jupyter-widgets/controls",
          "model_module_version": "1.5.0",
          "model_name": "FloatProgressModel",
          "state": {
            "_dom_classes": [],
            "_model_module": "@jupyter-widgets/controls",
            "_model_module_version": "1.5.0",
            "_model_name": "FloatProgressModel",
            "_view_count": null,
            "_view_module": "@jupyter-widgets/controls",
            "_view_module_version": "1.5.0",
            "_view_name": "ProgressView",
            "bar_style": "success",
            "description": "",
            "description_tooltip": null,
            "layout": "IPY_MODEL_67abce26ed6343d29e80e33701e4f629",
            "max": 10,
            "min": 0,
            "orientation": "horizontal",
            "style": "IPY_MODEL_0f3f235d132c42dea4381261bdbc1fb0",
            "value": 10
          }
        },
        "e649b727d8fd4bf4a77a0cecd9184f89": {
          "model_module": "@jupyter-widgets/controls",
          "model_module_version": "1.5.0",
          "model_name": "FloatProgressModel",
          "state": {
            "_dom_classes": [],
            "_model_module": "@jupyter-widgets/controls",
            "_model_module_version": "1.5.0",
            "_model_name": "FloatProgressModel",
            "_view_count": null,
            "_view_module": "@jupyter-widgets/controls",
            "_view_module_version": "1.5.0",
            "_view_name": "ProgressView",
            "bar_style": "success",
            "description": "",
            "description_tooltip": null,
            "layout": "IPY_MODEL_fcc56aeaa9f944de89e9a6b710ad02dc",
            "max": 10,
            "min": 0,
            "orientation": "horizontal",
            "style": "IPY_MODEL_675bd3d0ae54470db3e6c2a5f78230fb",
            "value": 10
          }
        },
        "e7ebb32a69a5439e90aaeb9d8365aa56": {
          "model_module": "@jupyter-widgets/controls",
          "model_module_version": "1.5.0",
          "model_name": "DescriptionStyleModel",
          "state": {
            "_model_module": "@jupyter-widgets/controls",
            "_model_module_version": "1.5.0",
            "_model_name": "DescriptionStyleModel",
            "_view_count": null,
            "_view_module": "@jupyter-widgets/base",
            "_view_module_version": "1.2.0",
            "_view_name": "StyleView",
            "description_width": ""
          }
        },
        "f53b6b8045904be7b6c682fade690937": {
          "model_module": "@jupyter-widgets/controls",
          "model_module_version": "1.5.0",
          "model_name": "HBoxModel",
          "state": {
            "_dom_classes": [],
            "_model_module": "@jupyter-widgets/controls",
            "_model_module_version": "1.5.0",
            "_model_name": "HBoxModel",
            "_view_count": null,
            "_view_module": "@jupyter-widgets/controls",
            "_view_module_version": "1.5.0",
            "_view_name": "HBoxView",
            "box_style": "",
            "children": [
              "IPY_MODEL_2c0f7dabe64e4096abdb32b85cce37da",
              "IPY_MODEL_e649b727d8fd4bf4a77a0cecd9184f89",
              "IPY_MODEL_3520d2edac2d495eadc4f2764e3a1be5"
            ],
            "layout": "IPY_MODEL_cb83bfc9772447fc8e99455f19d437a5"
          }
        },
        "f58fbe9583ae49e1a7394797b037f01c": {
          "model_module": "@jupyter-widgets/controls",
          "model_module_version": "1.5.0",
          "model_name": "DescriptionStyleModel",
          "state": {
            "_model_module": "@jupyter-widgets/controls",
            "_model_module_version": "1.5.0",
            "_model_name": "DescriptionStyleModel",
            "_view_count": null,
            "_view_module": "@jupyter-widgets/base",
            "_view_module_version": "1.2.0",
            "_view_name": "StyleView",
            "description_width": ""
          }
        },
        "fcc56aeaa9f944de89e9a6b710ad02dc": {
          "model_module": "@jupyter-widgets/base",
          "model_module_version": "1.2.0",
          "model_name": "LayoutModel",
          "state": {
            "_model_module": "@jupyter-widgets/base",
            "_model_module_version": "1.2.0",
            "_model_name": "LayoutModel",
            "_view_count": null,
            "_view_module": "@jupyter-widgets/base",
            "_view_module_version": "1.2.0",
            "_view_name": "LayoutView",
            "align_content": null,
            "align_items": null,
            "align_self": null,
            "border": null,
            "bottom": null,
            "display": null,
            "flex": null,
            "flex_flow": null,
            "grid_area": null,
            "grid_auto_columns": null,
            "grid_auto_flow": null,
            "grid_auto_rows": null,
            "grid_column": null,
            "grid_gap": null,
            "grid_row": null,
            "grid_template_areas": null,
            "grid_template_columns": null,
            "grid_template_rows": null,
            "height": null,
            "justify_content": null,
            "justify_items": null,
            "left": null,
            "margin": null,
            "max_height": null,
            "max_width": null,
            "min_height": null,
            "min_width": null,
            "object_fit": null,
            "object_position": null,
            "order": null,
            "overflow": null,
            "overflow_x": null,
            "overflow_y": null,
            "padding": null,
            "right": null,
            "top": null,
            "visibility": null,
            "width": null
          }
        },
        "fdd6abab2be34fc58ee2d832fd03fc5b": {
          "model_module": "@jupyter-widgets/controls",
          "model_module_version": "1.5.0",
          "model_name": "HBoxModel",
          "state": {
            "_dom_classes": [],
            "_model_module": "@jupyter-widgets/controls",
            "_model_module_version": "1.5.0",
            "_model_name": "HBoxModel",
            "_view_count": null,
            "_view_module": "@jupyter-widgets/controls",
            "_view_module_version": "1.5.0",
            "_view_name": "HBoxView",
            "box_style": "",
            "children": [
              "IPY_MODEL_977e7f1efc954d9d884f88074b0b41ad",
              "IPY_MODEL_3341b751459c469a9218e363d2578822",
              "IPY_MODEL_6094a554aa2044b483890fa5c96352f4"
            ],
            "layout": "IPY_MODEL_24b0c371a6854dc2adf03ebb33320618"
          }
        }
      }
    }
  },
  "nbformat": 4,
  "nbformat_minor": 0
}