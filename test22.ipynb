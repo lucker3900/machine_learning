{
  "nbformat": 4,
  "nbformat_minor": 0,
  "metadata": {
    "colab": {
      "provenance": [],
      "authorship_tag": "ABX9TyNqJJCD4N6HkmNIPx2REydH"
    },
    "kernelspec": {
      "name": "python3",
      "display_name": "Python 3"
    },
    "language_info": {
      "name": "python"
    }
  },
  "cells": [
    {
      "cell_type": "code",
      "execution_count": 1,
      "metadata": {
        "id": "Oz3haaAbCv_1"
      },
      "outputs": [],
      "source": [
        "#问题描述:\n",
        "\n",
        "#考虑一个简单的神经网络，结构如下：\n",
        "\n",
        "#一个输入节点 (x)\n",
        "#一个隐藏层，包含一个神经元 (h)，使用 Sigmoid 激活函数 ( \\sigma(z) = \\frac{1}{1 + e^{-z}} )\n",
        "#一个输出节点 (y_{pred})，也使用 Sigmoid 激活函数 ( \\sigma(z) )"
      ]
    },
    {
      "cell_type": "code",
      "source": [
        "import numpy as np\n",
        "import matplotlib.pyplot as plt"
      ],
      "metadata": {
        "id": "D5_eHN3uEJJP"
      },
      "execution_count": 2,
      "outputs": []
    },
    {
      "cell_type": "code",
      "source": [
        "#初始化参数\n",
        "\n",
        "w_1 = 0.2\n",
        "b_1 = -0.1\n",
        "w_2 = 0.5\n",
        "b_2 = 0.1\n",
        "\n",
        "x = 0.5\n",
        "y_true = 0.8\n",
        "\n",
        "lr = 0.1\n",
        "\n",
        "losses = []\n",
        "epochs = 800\n",
        "\n",
        "for epoch in range(epochs):\n",
        "  z = w_1 * x + b_1\n",
        "  h = 1 / (1 + np.exp(-z))\n",
        "\n",
        "  zout = w_2 * h + b_2\n",
        "\n",
        "  #前向传播求y_pred\n",
        "  y_pred = 1 / (1 + np.exp(-zout))\n",
        "\n",
        "  #求损失值loss\n",
        "  loss = (y_pred - y_true)**2 / 2\n",
        "  losses.append(loss)\n",
        "\n",
        "  #反向传播, 求梯度\n",
        "  y_diff = y_pred - y_true\n",
        "  b2_grad = y_diff * y_pred * (1- y_pred)\n",
        "  w2_grad = b2_grad * h\n",
        "\n",
        "  dh = b2_grad * w_2\n",
        "  b1_grad = dh * h * (1-h)\n",
        "  w1_grad = b1_grad * x\n",
        "\n",
        "  #更新参数w,b\n",
        "  w_1 -= lr * w1_grad\n",
        "  w_2 -= lr * w2_grad\n",
        "  b_1 -= lr * b1_grad\n",
        "  b_2 -= lr * b2_grad\n",
        "\n",
        "  if epoch%10 == 0:\n",
        "    print(\"epoch\", epoch + 1,\n",
        "      \"loss\", np.round(loss, 4),\n",
        "      \"y_pred\", np.round(y_pred, 2),\n",
        "      \"w1_grad\", np.round(w1_grad, 2),\n",
        "      \"w2_grad\", np.round(w2_grad, 2),\n",
        "      \"b1_grad\", np.round(b1_grad, 2),\n",
        "      \"b2_grad\", np.round(b2_grad, 2),\n",
        "      \"w1\", np.round(w_1, 2),\n",
        "      \"w2\", np.round(w_2, 2),\n",
        "      \"b1\", np.round(b_1, 2),\n",
        "      \"b2\", np.round(b_2, 2),\n",
        "      )\n",
        "\n",
        "plt.plot(range(epochs),losses, \"blue\")\n",
        "plt.xlabel(\"epoch axis\")\n",
        "plt.ylabel(\"loss axis\")\n",
        "plt.show()"
      ],
      "metadata": {
        "colab": {
          "base_uri": "https://localhost:8080/",
          "height": 1000
        },
        "id": "qjoOF2t7C6yB",
        "outputId": "3f918fe8-2142-4d4d-8897-591d04375f77"
      },
      "execution_count": 8,
      "outputs": [
        {
          "output_type": "stream",
          "name": "stdout",
          "text": [
            "epoch 1 loss 0.0228 y_pred 0.59 w1_grad -0.0 w2_grad -0.03 b1_grad -0.01 b2_grad -0.05 w1 0.2 w2 0.5 b1 -0.1 b2 0.11\n",
            "epoch 11 loss 0.0196 y_pred 0.6 w1_grad -0.0 w2_grad -0.02 b1_grad -0.01 b2_grad -0.05 w1 0.2 w2 0.53 b1 -0.09 b2 0.15\n",
            "epoch 21 loss 0.017 y_pred 0.62 w1_grad -0.0 w2_grad -0.02 b1_grad -0.01 b2_grad -0.04 w1 0.21 w2 0.55 b1 -0.09 b2 0.2\n",
            "epoch 31 loss 0.0147 y_pred 0.63 w1_grad -0.0 w2_grad -0.02 b1_grad -0.01 b2_grad -0.04 w1 0.21 w2 0.57 b1 -0.08 b2 0.24\n",
            "epoch 41 loss 0.0128 y_pred 0.64 w1_grad -0.0 w2_grad -0.02 b1_grad -0.01 b2_grad -0.04 w1 0.21 w2 0.59 b1 -0.08 b2 0.28\n",
            "epoch 51 loss 0.0112 y_pred 0.65 w1_grad -0.0 w2_grad -0.02 b1_grad -0.01 b2_grad -0.03 w1 0.21 w2 0.61 b1 -0.07 b2 0.32\n",
            "epoch 61 loss 0.0098 y_pred 0.66 w1_grad -0.0 w2_grad -0.02 b1_grad -0.0 b2_grad -0.03 w1 0.22 w2 0.63 b1 -0.07 b2 0.35\n",
            "epoch 71 loss 0.0086 y_pred 0.67 w1_grad -0.0 w2_grad -0.01 b1_grad -0.0 b2_grad -0.03 w1 0.22 w2 0.64 b1 -0.06 b2 0.38\n",
            "epoch 81 loss 0.0076 y_pred 0.68 w1_grad -0.0 w2_grad -0.01 b1_grad -0.0 b2_grad -0.03 w1 0.22 w2 0.65 b1 -0.06 b2 0.41\n",
            "epoch 91 loss 0.0067 y_pred 0.68 w1_grad -0.0 w2_grad -0.01 b1_grad -0.0 b2_grad -0.03 w1 0.22 w2 0.67 b1 -0.05 b2 0.43\n",
            "epoch 101 loss 0.006 y_pred 0.69 w1_grad -0.0 w2_grad -0.01 b1_grad -0.0 b2_grad -0.02 w1 0.23 w2 0.68 b1 -0.05 b2 0.46\n",
            "epoch 111 loss 0.0053 y_pred 0.7 w1_grad -0.0 w2_grad -0.01 b1_grad -0.0 b2_grad -0.02 w1 0.23 w2 0.69 b1 -0.04 b2 0.48\n",
            "epoch 121 loss 0.0047 y_pred 0.7 w1_grad -0.0 w2_grad -0.01 b1_grad -0.0 b2_grad -0.02 w1 0.23 w2 0.7 b1 -0.04 b2 0.5\n",
            "epoch 131 loss 0.0042 y_pred 0.71 w1_grad -0.0 w2_grad -0.01 b1_grad -0.0 b2_grad -0.02 w1 0.23 w2 0.71 b1 -0.04 b2 0.52\n",
            "epoch 141 loss 0.0038 y_pred 0.71 w1_grad -0.0 w2_grad -0.01 b1_grad -0.0 b2_grad -0.02 w1 0.23 w2 0.72 b1 -0.03 b2 0.54\n",
            "epoch 151 loss 0.0034 y_pred 0.72 w1_grad -0.0 w2_grad -0.01 b1_grad -0.0 b2_grad -0.02 w1 0.23 w2 0.73 b1 -0.03 b2 0.55\n",
            "epoch 161 loss 0.003 y_pred 0.72 w1_grad -0.0 w2_grad -0.01 b1_grad -0.0 b2_grad -0.02 w1 0.24 w2 0.74 b1 -0.03 b2 0.57\n",
            "epoch 171 loss 0.0027 y_pred 0.73 w1_grad -0.0 w2_grad -0.01 b1_grad -0.0 b2_grad -0.01 w1 0.24 w2 0.75 b1 -0.02 b2 0.59\n",
            "epoch 181 loss 0.0025 y_pred 0.73 w1_grad -0.0 w2_grad -0.01 b1_grad -0.0 b2_grad -0.01 w1 0.24 w2 0.76 b1 -0.02 b2 0.6\n",
            "epoch 191 loss 0.0022 y_pred 0.73 w1_grad -0.0 w2_grad -0.01 b1_grad -0.0 b2_grad -0.01 w1 0.24 w2 0.76 b1 -0.02 b2 0.61\n",
            "epoch 201 loss 0.002 y_pred 0.74 w1_grad -0.0 w2_grad -0.01 b1_grad -0.0 b2_grad -0.01 w1 0.24 w2 0.77 b1 -0.02 b2 0.63\n",
            "epoch 211 loss 0.0018 y_pred 0.74 w1_grad -0.0 w2_grad -0.01 b1_grad -0.0 b2_grad -0.01 w1 0.24 w2 0.78 b1 -0.01 b2 0.64\n",
            "epoch 221 loss 0.0017 y_pred 0.74 w1_grad -0.0 w2_grad -0.01 b1_grad -0.0 b2_grad -0.01 w1 0.24 w2 0.78 b1 -0.01 b2 0.65\n",
            "epoch 231 loss 0.0015 y_pred 0.75 w1_grad -0.0 w2_grad -0.01 b1_grad -0.0 b2_grad -0.01 w1 0.24 w2 0.79 b1 -0.01 b2 0.66\n",
            "epoch 241 loss 0.0014 y_pred 0.75 w1_grad -0.0 w2_grad -0.01 b1_grad -0.0 b2_grad -0.01 w1 0.25 w2 0.79 b1 -0.01 b2 0.67\n",
            "epoch 251 loss 0.0012 y_pred 0.75 w1_grad -0.0 w2_grad -0.0 b1_grad -0.0 b2_grad -0.01 w1 0.25 w2 0.8 b1 -0.01 b2 0.68\n",
            "epoch 261 loss 0.0011 y_pred 0.75 w1_grad -0.0 w2_grad -0.0 b1_grad -0.0 b2_grad -0.01 w1 0.25 w2 0.8 b1 -0.0 b2 0.69\n",
            "epoch 271 loss 0.001 y_pred 0.75 w1_grad -0.0 w2_grad -0.0 b1_grad -0.0 b2_grad -0.01 w1 0.25 w2 0.81 b1 -0.0 b2 0.7\n",
            "epoch 281 loss 0.0009 y_pred 0.76 w1_grad -0.0 w2_grad -0.0 b1_grad -0.0 b2_grad -0.01 w1 0.25 w2 0.81 b1 -0.0 b2 0.7\n",
            "epoch 291 loss 0.0009 y_pred 0.76 w1_grad -0.0 w2_grad -0.0 b1_grad -0.0 b2_grad -0.01 w1 0.25 w2 0.82 b1 0.0 b2 0.71\n",
            "epoch 301 loss 0.0008 y_pred 0.76 w1_grad -0.0 w2_grad -0.0 b1_grad -0.0 b2_grad -0.01 w1 0.25 w2 0.82 b1 0.0 b2 0.72\n",
            "epoch 311 loss 0.0007 y_pred 0.76 w1_grad -0.0 w2_grad -0.0 b1_grad -0.0 b2_grad -0.01 w1 0.25 w2 0.82 b1 0.0 b2 0.73\n",
            "epoch 321 loss 0.0007 y_pred 0.76 w1_grad -0.0 w2_grad -0.0 b1_grad -0.0 b2_grad -0.01 w1 0.25 w2 0.83 b1 0.0 b2 0.73\n",
            "epoch 331 loss 0.0006 y_pred 0.77 w1_grad -0.0 w2_grad -0.0 b1_grad -0.0 b2_grad -0.01 w1 0.25 w2 0.83 b1 0.01 b2 0.74\n",
            "epoch 341 loss 0.0006 y_pred 0.77 w1_grad -0.0 w2_grad -0.0 b1_grad -0.0 b2_grad -0.01 w1 0.25 w2 0.83 b1 0.01 b2 0.75\n",
            "epoch 351 loss 0.0005 y_pred 0.77 w1_grad -0.0 w2_grad -0.0 b1_grad -0.0 b2_grad -0.01 w1 0.25 w2 0.84 b1 0.01 b2 0.75\n",
            "epoch 361 loss 0.0005 y_pred 0.77 w1_grad -0.0 w2_grad -0.0 b1_grad -0.0 b2_grad -0.01 w1 0.25 w2 0.84 b1 0.01 b2 0.76\n",
            "epoch 371 loss 0.0004 y_pred 0.77 w1_grad -0.0 w2_grad -0.0 b1_grad -0.0 b2_grad -0.01 w1 0.26 w2 0.84 b1 0.01 b2 0.76\n",
            "epoch 381 loss 0.0004 y_pred 0.77 w1_grad -0.0 w2_grad -0.0 b1_grad -0.0 b2_grad -0.0 w1 0.26 w2 0.84 b1 0.01 b2 0.77\n",
            "epoch 391 loss 0.0004 y_pred 0.77 w1_grad -0.0 w2_grad -0.0 b1_grad -0.0 b2_grad -0.0 w1 0.26 w2 0.85 b1 0.01 b2 0.77\n",
            "epoch 401 loss 0.0003 y_pred 0.77 w1_grad -0.0 w2_grad -0.0 b1_grad -0.0 b2_grad -0.0 w1 0.26 w2 0.85 b1 0.01 b2 0.78\n",
            "epoch 411 loss 0.0003 y_pred 0.78 w1_grad -0.0 w2_grad -0.0 b1_grad -0.0 b2_grad -0.0 w1 0.26 w2 0.85 b1 0.01 b2 0.78\n",
            "epoch 421 loss 0.0003 y_pred 0.78 w1_grad -0.0 w2_grad -0.0 b1_grad -0.0 b2_grad -0.0 w1 0.26 w2 0.85 b1 0.02 b2 0.79\n",
            "epoch 431 loss 0.0003 y_pred 0.78 w1_grad -0.0 w2_grad -0.0 b1_grad -0.0 b2_grad -0.0 w1 0.26 w2 0.86 b1 0.02 b2 0.79\n",
            "epoch 441 loss 0.0002 y_pred 0.78 w1_grad -0.0 w2_grad -0.0 b1_grad -0.0 b2_grad -0.0 w1 0.26 w2 0.86 b1 0.02 b2 0.79\n",
            "epoch 451 loss 0.0002 y_pred 0.78 w1_grad -0.0 w2_grad -0.0 b1_grad -0.0 b2_grad -0.0 w1 0.26 w2 0.86 b1 0.02 b2 0.8\n",
            "epoch 461 loss 0.0002 y_pred 0.78 w1_grad -0.0 w2_grad -0.0 b1_grad -0.0 b2_grad -0.0 w1 0.26 w2 0.86 b1 0.02 b2 0.8\n",
            "epoch 471 loss 0.0002 y_pred 0.78 w1_grad -0.0 w2_grad -0.0 b1_grad -0.0 b2_grad -0.0 w1 0.26 w2 0.86 b1 0.02 b2 0.8\n",
            "epoch 481 loss 0.0002 y_pred 0.78 w1_grad -0.0 w2_grad -0.0 b1_grad -0.0 b2_grad -0.0 w1 0.26 w2 0.87 b1 0.02 b2 0.81\n",
            "epoch 491 loss 0.0002 y_pred 0.78 w1_grad -0.0 w2_grad -0.0 b1_grad -0.0 b2_grad -0.0 w1 0.26 w2 0.87 b1 0.02 b2 0.81\n",
            "epoch 501 loss 0.0002 y_pred 0.78 w1_grad -0.0 w2_grad -0.0 b1_grad -0.0 b2_grad -0.0 w1 0.26 w2 0.87 b1 0.02 b2 0.81\n",
            "epoch 511 loss 0.0001 y_pred 0.78 w1_grad -0.0 w2_grad -0.0 b1_grad -0.0 b2_grad -0.0 w1 0.26 w2 0.87 b1 0.02 b2 0.82\n",
            "epoch 521 loss 0.0001 y_pred 0.78 w1_grad -0.0 w2_grad -0.0 b1_grad -0.0 b2_grad -0.0 w1 0.26 w2 0.87 b1 0.02 b2 0.82\n",
            "epoch 531 loss 0.0001 y_pred 0.78 w1_grad -0.0 w2_grad -0.0 b1_grad -0.0 b2_grad -0.0 w1 0.26 w2 0.87 b1 0.02 b2 0.82\n",
            "epoch 541 loss 0.0001 y_pred 0.79 w1_grad -0.0 w2_grad -0.0 b1_grad -0.0 b2_grad -0.0 w1 0.26 w2 0.88 b1 0.02 b2 0.82\n",
            "epoch 551 loss 0.0001 y_pred 0.79 w1_grad -0.0 w2_grad -0.0 b1_grad -0.0 b2_grad -0.0 w1 0.26 w2 0.88 b1 0.02 b2 0.83\n",
            "epoch 561 loss 0.0001 y_pred 0.79 w1_grad -0.0 w2_grad -0.0 b1_grad -0.0 b2_grad -0.0 w1 0.26 w2 0.88 b1 0.02 b2 0.83\n",
            "epoch 571 loss 0.0001 y_pred 0.79 w1_grad -0.0 w2_grad -0.0 b1_grad -0.0 b2_grad -0.0 w1 0.26 w2 0.88 b1 0.03 b2 0.83\n",
            "epoch 581 loss 0.0001 y_pred 0.79 w1_grad -0.0 w2_grad -0.0 b1_grad -0.0 b2_grad -0.0 w1 0.26 w2 0.88 b1 0.03 b2 0.83\n",
            "epoch 591 loss 0.0001 y_pred 0.79 w1_grad -0.0 w2_grad -0.0 b1_grad -0.0 b2_grad -0.0 w1 0.26 w2 0.88 b1 0.03 b2 0.84\n",
            "epoch 601 loss 0.0001 y_pred 0.79 w1_grad -0.0 w2_grad -0.0 b1_grad -0.0 b2_grad -0.0 w1 0.26 w2 0.88 b1 0.03 b2 0.84\n",
            "epoch 611 loss 0.0001 y_pred 0.79 w1_grad -0.0 w2_grad -0.0 b1_grad -0.0 b2_grad -0.0 w1 0.26 w2 0.88 b1 0.03 b2 0.84\n",
            "epoch 621 loss 0.0001 y_pred 0.79 w1_grad -0.0 w2_grad -0.0 b1_grad -0.0 b2_grad -0.0 w1 0.26 w2 0.88 b1 0.03 b2 0.84\n",
            "epoch 631 loss 0.0001 y_pred 0.79 w1_grad -0.0 w2_grad -0.0 b1_grad -0.0 b2_grad -0.0 w1 0.26 w2 0.89 b1 0.03 b2 0.84\n",
            "epoch 641 loss 0.0001 y_pred 0.79 w1_grad -0.0 w2_grad -0.0 b1_grad -0.0 b2_grad -0.0 w1 0.26 w2 0.89 b1 0.03 b2 0.85\n",
            "epoch 651 loss 0.0 y_pred 0.79 w1_grad -0.0 w2_grad -0.0 b1_grad -0.0 b2_grad -0.0 w1 0.26 w2 0.89 b1 0.03 b2 0.85\n",
            "epoch 661 loss 0.0 y_pred 0.79 w1_grad -0.0 w2_grad -0.0 b1_grad -0.0 b2_grad -0.0 w1 0.26 w2 0.89 b1 0.03 b2 0.85\n",
            "epoch 671 loss 0.0 y_pred 0.79 w1_grad -0.0 w2_grad -0.0 b1_grad -0.0 b2_grad -0.0 w1 0.26 w2 0.89 b1 0.03 b2 0.85\n",
            "epoch 681 loss 0.0 y_pred 0.79 w1_grad -0.0 w2_grad -0.0 b1_grad -0.0 b2_grad -0.0 w1 0.26 w2 0.89 b1 0.03 b2 0.85\n",
            "epoch 691 loss 0.0 y_pred 0.79 w1_grad -0.0 w2_grad -0.0 b1_grad -0.0 b2_grad -0.0 w1 0.27 w2 0.89 b1 0.03 b2 0.85\n",
            "epoch 701 loss 0.0 y_pred 0.79 w1_grad -0.0 w2_grad -0.0 b1_grad -0.0 b2_grad -0.0 w1 0.27 w2 0.89 b1 0.03 b2 0.85\n",
            "epoch 711 loss 0.0 y_pred 0.79 w1_grad -0.0 w2_grad -0.0 b1_grad -0.0 b2_grad -0.0 w1 0.27 w2 0.89 b1 0.03 b2 0.86\n",
            "epoch 721 loss 0.0 y_pred 0.79 w1_grad -0.0 w2_grad -0.0 b1_grad -0.0 b2_grad -0.0 w1 0.27 w2 0.89 b1 0.03 b2 0.86\n",
            "epoch 731 loss 0.0 y_pred 0.79 w1_grad -0.0 w2_grad -0.0 b1_grad -0.0 b2_grad -0.0 w1 0.27 w2 0.89 b1 0.03 b2 0.86\n",
            "epoch 741 loss 0.0 y_pred 0.79 w1_grad -0.0 w2_grad -0.0 b1_grad -0.0 b2_grad -0.0 w1 0.27 w2 0.89 b1 0.03 b2 0.86\n",
            "epoch 751 loss 0.0 y_pred 0.79 w1_grad -0.0 w2_grad -0.0 b1_grad -0.0 b2_grad -0.0 w1 0.27 w2 0.89 b1 0.03 b2 0.86\n",
            "epoch 761 loss 0.0 y_pred 0.79 w1_grad -0.0 w2_grad -0.0 b1_grad -0.0 b2_grad -0.0 w1 0.27 w2 0.9 b1 0.03 b2 0.86\n",
            "epoch 771 loss 0.0 y_pred 0.79 w1_grad -0.0 w2_grad -0.0 b1_grad -0.0 b2_grad -0.0 w1 0.27 w2 0.9 b1 0.03 b2 0.86\n",
            "epoch 781 loss 0.0 y_pred 0.79 w1_grad -0.0 w2_grad -0.0 b1_grad -0.0 b2_grad -0.0 w1 0.27 w2 0.9 b1 0.03 b2 0.86\n",
            "epoch 791 loss 0.0 y_pred 0.79 w1_grad -0.0 w2_grad -0.0 b1_grad -0.0 b2_grad -0.0 w1 0.27 w2 0.9 b1 0.03 b2 0.86\n"
          ]
        },
        {
          "output_type": "display_data",
          "data": {
            "text/plain": [
              "<Figure size 640x480 with 1 Axes>"
            ],
            "image/png": "[encoded data removed]"
          },
          "metadata": {}
        }
      ]
    }
  ]
}