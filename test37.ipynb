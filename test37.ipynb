{
  "nbformat": 4,
  "nbformat_minor": 0,
  "metadata": {
    "colab": {
      "provenance": [],
      "gpuType": "T4",
      "authorship_tag": "ABX9TyOq83LZicGNtemF9PeUUOpv"
    },
    "kernelspec": {
      "name": "python3",
      "display_name": "Python 3"
    },
    "language_info": {
      "name": "python"
    },
    "accelerator": "GPU"
  },
  "cells": [
    {
      "cell_type": "code",
      "execution_count": 1,
      "metadata": {
        "id": "MAR5_OuuO080"
      },
      "outputs": [],
      "source": [
        "#网络结构：\n",
        "#输入层：4 个特征\n",
        "#隐藏层 1：5 个神经元，使用 ReLU 激活函数\n",
        "#隐藏层 2：3 个神经元，使用 ReLU 激活函数\n",
        "#输出层：2 个神经元，使用 Softmax 激活函数（用于二分类）"
      ]
    },
    {
      "cell_type": "code",
      "source": [
        "import torch\n",
        "import torch.nn as nn\n",
        "import torch.optim as optim\n",
        "import matplotlib.pyplot as plt"
      ],
      "metadata": {
        "id": "VT88dMG5PEqe"
      },
      "execution_count": 2,
      "outputs": []
    },
    {
      "cell_type": "code",
      "source": [
        "#运行在cuda\n",
        "device = torch.device(\"cuda\" if torch.cuda.is_available else \"cpu\")"
      ],
      "metadata": {
        "id": "a259ISUmPmeP"
      },
      "execution_count": 4,
      "outputs": []
    },
    {
      "cell_type": "code",
      "source": [
        "class SimpleNN(nn.Module):\n",
        "  def __init__(self, w1, w2, w3, b1, b2, b3):\n",
        "    super().__init__()\n",
        "    self.layer1 = nn.Linear(4, 5)\n",
        "    self.layer2 = nn.Linear(5, 3)\n",
        "    self.layer3 = nn.Linear(3, 2)\n",
        "\n",
        "    self.layer1.weight.data.copy_(w1)\n",
        "    self.layer1.bias.data.copy_(b1.flatten())\n",
        "\n",
        "    self.layer2.weight.data.copy_(w2)\n",
        "    self.layer2.bias.data.copy_(b2.flatten())\n",
        "\n",
        "    self.layer3.weight.data.copy_(w3)\n",
        "    self.layer3.bias.data.copy_(b3.flatten())\n",
        "\n",
        "  def forward(self, x):\n",
        "    x = torch.relu(self.layer1(x))\n",
        "    x = torch.relu(self.layer2(x))\n",
        "    x = self.layer3(x)\n",
        "    return x"
      ],
      "metadata": {
        "id": "MEGiubRBUGAY"
      },
      "execution_count": 8,
      "outputs": []
    },
    {
      "cell_type": "code",
      "source": [
        "#参数初始化\n",
        "w1 = torch.tensor([[0.1, 0.2, 0.3, 0.4],\n",
        "          [0.5, 0.6, 0.7, 0.8],\n",
        "          [0.2, 0.1, 0.4, 0.3],\n",
        "          [0.3, 0.5, 0.1, 0.6],\n",
        "          [0.7, 0.8, 0.2, 0.9]]).to(device) #shape (5,4)\n",
        "\n",
        "b1= torch.tensor([[0.1],\n",
        "          [0.2],\n",
        "          [0.3],\n",
        "          [0.4],\n",
        "          [0.5]]).to(device) #shape (5,1)\n",
        "\n",
        "w2 = torch.tensor([[0.1, 0.2, 0.3, 0.4, 0.5],\n",
        "          [0.6, 0.7, 0.8, 0.9, 0.1],\n",
        "          [0.2, 0.3, 0.4, 0.5, 0.6]]).to(device) #shape (3,5)\n",
        "\n",
        "b2 = torch.tensor([[0.2],\n",
        "          [0.3],\n",
        "          [0.4]]).to(device) #shape (3,1)\n",
        "\n",
        "w3 = torch.tensor([[0.5, 0.6, 0.7],\n",
        "          [0.8, 0.9, 0.1]]).to(device) #shape(2,3)\n",
        "\n",
        "b3 = torch.tensor([[0.1],\n",
        "          [0.2]]).to(device) #shape (2,1)\n",
        "\n",
        "x = torch.tensor([[0.1, 0.2, 0.3, 0.4],\n",
        "          [0.5, 0.6, 0.7, 0.8],\n",
        "          [0.9, 0.1, 0.2, 0.3]]).to(device) #shape (3,4)\n",
        "\n",
        "y_true = torch.tensor([[1, 0],  # 类 0\n",
        "            [0, 1],  # 类 1\n",
        "            [1, 0]], dtype=torch.float32).to(device)  # 类 0).to(device) #shape (5,4)\n",
        "\n",
        "model = SimpleNN(w1, w2, w3, b1, b2, b3).to(device)\n",
        "\n",
        "criterion = nn.CrossEntropyLoss()\n",
        "optimizer = optim.SGD(model.parameters(), lr =0.01)\n",
        "\n",
        "epochs = 4000\n",
        "losses = []\n",
        "\n",
        "y_pred = model(x)\n",
        "\n",
        "for epoch in range(epochs):\n",
        "  y_pred = model(x)\n",
        "\n",
        "  loss = criterion(y_pred, y_true)\n",
        "  losses.append(loss.item())\n",
        "\n",
        "  optimizer.zero_grad()\n",
        "  loss.backward()\n",
        "  optimizer.step()\n",
        "\n",
        "  if epoch%100 == 0:\n",
        "    print(f\"epoch: {epoch + 1}\",\n",
        "      f\"loss: {loss.item():.4f}\")\n",
        "\n",
        "final_prediction = model(x)\n",
        "print(\"\\n the final pred is:\")\n",
        "print(final_prediction)\n",
        "\n",
        "print(\"\\n the ture value is:\")\n",
        "print(y_pred)\n",
        "\n",
        "plt.plot(range(epochs), losses, \"blue\")\n",
        "plt.xlabel(\"epoch axis\")\n",
        "plt.ylabel(\"loss axis\")\n",
        "plt.title(\"gradiant descent\")\n",
        "plt.show()"
      ],
      "metadata": {
        "colab": {
          "base_uri": "https://localhost:8080/",
          "height": 1000
        },
        "id": "yvd3orlIPBMO",
        "outputId": "3a5f2094-f87c-44da-e69a-a42752f3134e"
      },
      "execution_count": 44,
      "outputs": [
        {
          "output_type": "stream",
          "name": "stdout",
          "text": [
            "epoch: 1 loss: 0.6900\n",
            "epoch: 101 loss: 0.6405\n",
            "epoch: 201 loss: 0.5961\n",
            "epoch: 301 loss: 0.5439\n",
            "epoch: 401 loss: 0.4798\n",
            "epoch: 501 loss: 0.4017\n",
            "epoch: 601 loss: 0.3134\n",
            "epoch: 701 loss: 0.2279\n",
            "epoch: 801 loss: 0.1591\n",
            "epoch: 901 loss: 0.1112\n",
            "epoch: 1001 loss: 0.0802\n",
            "epoch: 1101 loss: 0.0598\n",
            "epoch: 1201 loss: 0.0460\n",
            "epoch: 1301 loss: 0.0364\n",
            "epoch: 1401 loss: 0.0296\n",
            "epoch: 1501 loss: 0.0245\n",
            "epoch: 1601 loss: 0.0207\n",
            "epoch: 1701 loss: 0.0178\n",
            "epoch: 1801 loss: 0.0155\n",
            "epoch: 1901 loss: 0.0136\n",
            "epoch: 2001 loss: 0.0121\n",
            "epoch: 2101 loss: 0.0108\n",
            "epoch: 2201 loss: 0.0098\n",
            "epoch: 2301 loss: 0.0089\n",
            "epoch: 2401 loss: 0.0081\n",
            "epoch: 2501 loss: 0.0074\n",
            "epoch: 2601 loss: 0.0069\n",
            "epoch: 2701 loss: 0.0064\n",
            "epoch: 2801 loss: 0.0059\n",
            "epoch: 2901 loss: 0.0055\n",
            "epoch: 3001 loss: 0.0052\n",
            "epoch: 3101 loss: 0.0049\n",
            "epoch: 3201 loss: 0.0046\n",
            "epoch: 3301 loss: 0.0043\n",
            "epoch: 3401 loss: 0.0041\n",
            "epoch: 3501 loss: 0.0039\n",
            "epoch: 3601 loss: 0.0037\n",
            "epoch: 3701 loss: 0.0035\n",
            "epoch: 3801 loss: 0.0034\n",
            "epoch: 3901 loss: 0.0032\n",
            "\n",
            " the final pred is:\n",
            "tensor([[ 4.6613, -0.6529],\n",
            "        [ 3.4020,  9.0991],\n",
            "        [ 5.5152, -1.4679]], device='cuda:0', grad_fn=<AddmmBackward0>)\n",
            "\n",
            " the ture value is:\n",
            "tensor([[ 4.6612, -0.6528],\n",
            "        [ 3.4023,  9.0986],\n",
            "        [ 5.5151, -1.4679]], device='cuda:0', grad_fn=<AddmmBackward0>)\n"
          ]
        },
        {
          "output_type": "display_data",
          "data": {
            "text/plain": [
              "<Figure size 640x480 with 1 Axes>"
            ],
            "image/png": "[encoded data removed]"
          },
          "metadata": {}
        }
      ]
    }
  ]
}