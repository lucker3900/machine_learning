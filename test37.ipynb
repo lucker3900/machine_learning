{
  "nbformat": 4,
  "nbformat_minor": 0,
  "metadata": {
    "colab": {
      "provenance": [],
      "gpuType": "T4",
      "authorship_tag": "ABX9TyN+01+deNxym3ONz+IFH632"
    },
    "kernelspec": {
      "name": "python3",
      "display_name": "Python 3"
    },
    "language_info": {
      "name": "python"
    },
    "accelerator": "GPU"
  },
  "cells": [
    {
      "cell_type": "code",
      "execution_count": 1,
      "metadata": {
        "id": "MAR5_OuuO080"
      },
      "outputs": [],
      "source": [
        "#网络结构：\n",
        "#输入层：4 个特征\n",
        "#隐藏层 1：5 个神经元，使用 ReLU 激活函数\n",
        "#隐藏层 2：3 个神经元，使用 ReLU 激活函数\n",
        "#输出层：2 个神经元，使用 Softmax 激活函数（用于二分类）"
      ]
    },
    {
      "cell_type": "code",
      "source": [
        "import torch\n",
        "import torch.nn as nn\n",
        "import torch.optim as optim\n",
        "import matplotlib.pyplot as plt"
      ],
      "metadata": {
        "id": "VT88dMG5PEqe"
      },
      "execution_count": 2,
      "outputs": []
    },
    {
      "cell_type": "code",
      "source": [
        "#运行在cuda\n",
        "device = torch.device(\"cuda\" if torch.cuda.is_available() else \"cpu\")"
      ],
      "metadata": {
        "id": "a259ISUmPmeP"
      },
      "execution_count": 4,
      "outputs": []
    },
    {
      "cell_type": "code",
      "source": [
        "class SimpleNN(nn.Module):\n",
        "  def __init__(self, w1, w2, w3, b1, b2, b3):\n",
        "    super().__init__()\n",
        "    self.layer1 = nn.Linear(4, 5)\n",
        "    self.layer2 = nn.Linear(5, 3)\n",
        "    self.layer3 = nn.Linear(3, 2)\n",
        "\n",
        "    self.layer1.weight.data.copy_(w1)\n",
        "    self.layer1.bias.data.copy_(b1.flatten())\n",
        "\n",
        "    self.layer2.weight.data.copy_(w2)\n",
        "    self.layer2.bias.data.copy_(b2.flatten())\n",
        "\n",
        "    self.layer3.weight.data.copy_(w3)\n",
        "    self.layer3.bias.data.copy_(b3.flatten())\n",
        "\n",
        "  def forward(self, x):\n",
        "    x = torch.relu(self.layer1(x))\n",
        "    x = torch.relu(self.layer2(x))\n",
        "    x = self.layer3(x)\n",
        "    return x"
      ],
      "metadata": {
        "id": "MEGiubRBUGAY"
      },
      "execution_count": 8,
      "outputs": []
    },
    {
      "cell_type": "code",
      "source": [
        "#参数初始化\n",
        "w1 = torch.tensor([[0.1, 0.2, 0.3, 0.4],\n",
        "          [0.5, 0.6, 0.7, 0.8],\n",
        "          [0.2, 0.1, 0.4, 0.3],\n",
        "          [0.3, 0.5, 0.1, 0.6],\n",
        "          [0.7, 0.8, 0.2, 0.9]]).to(device) #shape (5,4)\n",
        "\n",
        "b1= torch.tensor([[0.1],\n",
        "          [0.2],\n",
        "          [0.3],\n",
        "          [0.4],\n",
        "          [0.5]]).to(device) #shape (5,1)\n",
        "\n",
        "w2 = torch.tensor([[0.1, 0.2, 0.3, 0.4, 0.5],\n",
        "          [0.6, 0.7, 0.8, 0.9, 0.1],\n",
        "          [0.2, 0.3, 0.4, 0.5, 0.6]]).to(device) #shape (3,5)\n",
        "\n",
        "b2 = torch.tensor([[0.2],\n",
        "          [0.3],\n",
        "          [0.4]]).to(device) #shape (3,1)\n",
        "\n",
        "w3 = torch.tensor([[0.5, 0.6, 0.7],\n",
        "          [0.8, 0.9, 0.1]]).to(device) #shape(2,3)\n",
        "\n",
        "b3 = torch.tensor([[0.1],\n",
        "          [0.2]]).to(device) #shape (2,1)\n",
        "\n",
        "x = torch.tensor([[0.1, 0.2, 0.3, 0.4],\n",
        "          [0.5, 0.6, 0.7, 0.8],\n",
        "          [0.9, 0.1, 0.2, 0.3]]).to(device) #shape (3,4)\n",
        "\n",
        "y_true = torch.tensor([[1, 0],  # 类 0\n",
        "            [0, 1],  # 类 1\n",
        "            [1, 0]]).to(device)  # 类 0).to(device) #shape (5,4)\n",
        "\n",
        "y_true = torch.argmax(y_true, dim=1).to(device)\n",
        "\n",
        "\n",
        "model = SimpleNN(w1, w2, w3, b1, b2, b3).to(device)\n",
        "\n",
        "criterion = nn.CrossEntropyLoss()\n",
        "optimizer = optim.SGD(model.parameters(), lr =0.1)\n",
        "\n",
        "epochs = 200\n",
        "losses = []\n",
        "\n",
        "y_pred = model(x)\n",
        "y_pred = torch.tensor(y_pred, dtype=torch.int32)\n",
        "\n",
        "print(y_pred.dtype, y_true.dtype)\n",
        "\n",
        "for epoch in range(epochs):\n",
        "  y_pred = model(x)\n",
        "\n",
        "  loss = criterion(y_pred, y_true)\n",
        "  losses.append(loss.item())\n",
        "\n",
        "  optimizer.zero_grad()\n",
        "  loss.backward()\n",
        "  optimizer.step()\n",
        "\n",
        "  if epoch%10 == 0:\n",
        "    print(f\"epoch: {epoch + 1}\",\n",
        "      f\"loss: {loss.item():.4f}\")\n",
        "\n",
        "final_prediction = model(x)\n",
        "print(\"\\n the final pred is:\")\n",
        "print(final_prediction)\n",
        "\n",
        "print(\"\\n the ture value is:\")\n",
        "print(y_pred)\n",
        "\n",
        "plt.plot(range(epochs), losses, \"blue\")\n",
        "plt.xlabel(\"epoch axis\")\n",
        "plt.ylabel(\"loss axis\")\n",
        "plt.title(\"gradiant descent\")\n",
        "plt.show()"
      ],
      "metadata": {
        "colab": {
          "base_uri": "https://localhost:8080/",
          "height": 1000
        },
        "id": "yvd3orlIPBMO",
        "outputId": "7cdef580-9ff9-49e6-98db-e2d023909b73"
      },
      "execution_count": 56,
      "outputs": [
        {
          "output_type": "stream",
          "name": "stderr",
          "text": [
            "<ipython-input-56-0927cce7409c>:48: UserWarning: To copy construct from a tensor, it is recommended to use sourceTensor.clone().detach() or sourceTensor.clone().detach().requires_grad_(True), rather than torch.tensor(sourceTensor).\n",
            "  y_pred = torch.tensor(y_pred, dtype=torch.int32)\n"
          ]
        },
        {
          "output_type": "stream",
          "name": "stdout",
          "text": [
            "torch.int32 torch.int64\n",
            "epoch: 1 loss: 0.6900\n",
            "epoch: 11 loss: 0.6406\n",
            "epoch: 21 loss: 0.5965\n",
            "epoch: 31 loss: 0.5449\n",
            "epoch: 41 loss: 0.4818\n",
            "epoch: 51 loss: 0.4049\n",
            "epoch: 61 loss: 0.3174\n",
            "epoch: 71 loss: 0.2316\n",
            "epoch: 81 loss: 0.1617\n",
            "epoch: 91 loss: 0.1127\n",
            "epoch: 101 loss: 0.0811\n",
            "epoch: 111 loss: 0.0602\n",
            "epoch: 121 loss: 0.0462\n",
            "epoch: 131 loss: 0.0365\n",
            "epoch: 141 loss: 0.0296\n",
            "epoch: 151 loss: 0.0246\n",
            "epoch: 161 loss: 0.0207\n",
            "epoch: 171 loss: 0.0178\n",
            "epoch: 181 loss: 0.0155\n",
            "epoch: 191 loss: 0.0136\n",
            "\n",
            " the final pred is:\n",
            "tensor([[ 4.2851,  0.3176],\n",
            "        [ 4.0734,  8.4026],\n",
            "        [ 5.0342, -0.4030]], device='cuda:0', grad_fn=<AddmmBackward0>)\n",
            "\n",
            " the ture value is:\n",
            "tensor([[ 4.2822,  0.3259],\n",
            "        [ 4.0792,  8.3968],\n",
            "        [ 5.0303, -0.3935]], device='cuda:0', grad_fn=<AddmmBackward0>)\n"
          ]
        },
        {
          "output_type": "display_data",
          "data": {
            "text/plain": [
              "<Figure size 640x480 with 1 Axes>"
            ],
            "image/png": "[encoded data removed]"
          },
          "metadata": {}
        }
      ]
    }
  ]
}