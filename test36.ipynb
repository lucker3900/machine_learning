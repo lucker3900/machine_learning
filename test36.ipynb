{
  "nbformat": 4,
  "nbformat_minor": 0,
  "metadata": {
    "colab": {
      "provenance": [],
      "authorship_tag": "ABX9TyONRa+1B+edwjcIrUZpsbSw"
    },
    "kernelspec": {
      "name": "python3",
      "display_name": "Python 3"
    },
    "language_info": {
      "name": "python"
    }
  },
  "cells": [
    {
      "cell_type": "code",
      "execution_count": 4,
      "metadata": {
        "id": "1rTa7UTQ8iXL"
      },
      "outputs": [],
      "source": [
        "#设计并实现一个用于回归任务的全连接神经网络，其结构如下：\n",
        "\n",
        "#输入层：10 个神经元\n",
        "#（对应每个样本的 10 维特征）\n",
        "\n",
        "#隐藏层 1：7 个神经元，激活函数使用 ReLU\n",
        "\n",
        "#隐藏层 2：5 个神经元，激活函数使用 Tanh\n",
        "\n",
        "#输出层：1 个神经元，输出为一个标量（不经过激活函数，因为回归任务的输出通常直接为线性值）"
      ]
    },
    {
      "cell_type": "code",
      "source": [
        "import torch\n",
        "import torch.nn as nn\n",
        "import torch.optim as optim\n",
        "import matplotlib.pyplot as plt"
      ],
      "metadata": {
        "id": "S5ql8ivb86DD"
      },
      "execution_count": 5,
      "outputs": []
    },
    {
      "cell_type": "code",
      "source": [
        "class SimpleNN(nn.Module):\n",
        "  def __init__(self):\n",
        "    super().__init__()\n",
        "    self.layer1 = nn.Linear(10, 7)\n",
        "    self.layer2 = nn.Linear(7, 5)\n",
        "    self.layer3 = nn.Linear(5, 1)\n",
        "\n",
        "  def forward(self, x):\n",
        "    x = torch.relu(self.layer1(x))\n",
        "    x = torch.tanh(self.layer2(x))\n",
        "    x = self.layer3(x)\n",
        "    return x"
      ],
      "metadata": {
        "id": "ie-SCoQy9asS"
      },
      "execution_count": 6,
      "outputs": []
    },
    {
      "cell_type": "code",
      "source": [
        "#数据准备：\n",
        "\n",
        "#随机生成一个输入数据张量 x，形状为 (16, 10) ，即 16 个样本，每个样本 10 维特征（使用 torch.randn 即可）。\n",
        "\n",
        "#随机生成目标输出 y，形状为 (16, 1) ，由 torch.randn 生成。\n",
        "x = torch.randn(16, 10)\n",
        "y_true = torch.randn(16, 1)\n",
        "\n",
        "model = SimpleNN()\n",
        "\n",
        "criterion = nn.MSELoss()\n",
        "optimizer = optim.SGD(model.parameters(), lr =0.01)\n",
        "\n",
        "epochs = 1000\n",
        "losses = []\n",
        "\n",
        "for epoch in range(epochs):\n",
        "  y_pred = model(x)\n",
        "\n",
        "  loss = criterion(y_pred, y_true)\n",
        "  losses.append(loss.item())\n",
        "\n",
        "  optimizer.zero_grad()\n",
        "  loss.backward()\n",
        "  optimizer.step()\n",
        "\n",
        "  if epoch%100 == 0:\n",
        "    print(f\"epoch: {epoch + 1}\",\n",
        "      f\"loss: {loss.item():.4f}\")\n",
        "\n",
        "\n",
        "final_prediction = model(x)\n",
        "print(\"\\n the final value is:\")\n",
        "print(final_prediction)\n",
        "\n",
        "print(\"\\n the true value is:\")\n",
        "print(y_true)\n",
        "\n",
        "plt.plot(range(epochs), losses, \"blue\")\n",
        "plt.xlabel(\"epoch axis\")\n",
        "plt.ylabel(\"loss axis\")\n",
        "plt.title(\"gradiant descent compute\")\n",
        "plt.show()"
      ],
      "metadata": {
        "colab": {
          "base_uri": "https://localhost:8080/",
          "height": 1000
        },
        "id": "_TqNepCy8yE7",
        "outputId": "2d4df586-1a55-4a75-bf2e-ba7cf07b0abf"
      },
      "execution_count": 10,
      "outputs": [
        {
          "output_type": "stream",
          "name": "stdout",
          "text": [
            "epoch: 1 loss: 1.6050\n",
            "epoch: 101 loss: 1.1429\n",
            "epoch: 201 loss: 0.6734\n",
            "epoch: 301 loss: 0.3796\n",
            "epoch: 401 loss: 0.1557\n",
            "epoch: 501 loss: 0.0517\n",
            "epoch: 601 loss: 0.0218\n",
            "epoch: 701 loss: 0.0108\n",
            "epoch: 801 loss: 0.0055\n",
            "epoch: 901 loss: 0.0028\n",
            "\n",
            " the final value is:\n",
            "tensor([[ 0.9337],\n",
            "        [ 0.9094],\n",
            "        [ 2.3800],\n",
            "        [-1.1806],\n",
            "        [ 2.2027],\n",
            "        [ 1.1664],\n",
            "        [-1.8747],\n",
            "        [-1.4576],\n",
            "        [-0.3517],\n",
            "        [-0.2364],\n",
            "        [-0.6038],\n",
            "        [-0.0300],\n",
            "        [ 0.6389],\n",
            "        [-0.6788],\n",
            "        [-0.0155],\n",
            "        [-0.5875]], grad_fn=<AddmmBackward0>)\n",
            "\n",
            " the true value is:\n",
            "tensor([[ 0.9098],\n",
            "        [ 0.9188],\n",
            "        [ 2.3799],\n",
            "        [-1.2914],\n",
            "        [ 2.2068],\n",
            "        [ 1.1761],\n",
            "        [-1.9243],\n",
            "        [-1.4468],\n",
            "        [-0.3591],\n",
            "        [-0.2314],\n",
            "        [-0.5278],\n",
            "        [-0.0337],\n",
            "        [ 0.6376],\n",
            "        [-0.6683],\n",
            "        [ 0.0073],\n",
            "        [-0.5830]])\n"
          ]
        },
        {
          "output_type": "display_data",
          "data": {
            "text/plain": [
              "<Figure size 640x480 with 1 Axes>"
            ],
            "image/png": "[encoded data removed]"
          },
          "metadata": {}
        }
      ]
    }
  ]
}