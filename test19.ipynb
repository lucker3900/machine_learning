{
  "nbformat": 4,
  "nbformat_minor": 0,
  "metadata": {
    "colab": {
      "provenance": [],
      "authorship_tag": "ABX9TyPZRfnCTSCeSN0BySpIFRnM"
    },
    "kernelspec": {
      "name": "python3",
      "display_name": "Python 3"
    },
    "language_info": {
      "name": "python"
    }
  },
  "cells": [
    {
      "cell_type": "code",
      "execution_count": 1,
      "metadata": {
        "id": "bbjCnD5UJ8RG"
      },
      "outputs": [],
      "source": [
        "#考虑一个具有以下结构的小型神经网络：\n",
        "#输入层：2个神经元\n",
        "#隐藏层：2个神经元，使用Sigmoid激活函数\n",
        "#输出层：1个神经元，使用Sigmoid激活函数\n",
        "#其中Sigmoid函数定义为：σ(x) = 1/(1+e^(-x))"
      ]
    },
    {
      "cell_type": "code",
      "source": [
        "import numpy as np\n",
        "import matplotlib.pyplot as plt"
      ],
      "metadata": {
        "id": "XRD_W7WGKHz_"
      },
      "execution_count": 2,
      "outputs": []
    },
    {
      "cell_type": "code",
      "source": [
        "#计算sigmoid函数\n",
        "def sigmoid(a):\n",
        "  return 1/(1 + np.exp(-a))"
      ],
      "metadata": {
        "id": "ERhFVgHYMQUR"
      },
      "execution_count": 3,
      "outputs": []
    },
    {
      "cell_type": "code",
      "source": [
        "#前向传播,求输出y_pred\n",
        "def forward(W1, W2, b1, b2, X):\n",
        "  Z = np.dot(X, W1.T) + b1 # shape (2,)\n",
        "  H = sigmoid(Z) # shape (2,)\n",
        "\n",
        "  Zo = np.dot(H, W2.T) + b2\n",
        "  y_pred = sigmoid(Zo)\n",
        "  return Z, H, y_pred"
      ],
      "metadata": {
        "id": "e8Frg9osMi7x"
      },
      "execution_count": 4,
      "outputs": []
    },
    {
      "cell_type": "code",
      "source": [
        "#计算损失函数，loss\n",
        "def compute_loss(y_pred, y_true):\n",
        "  loss = (y_pred - y_true)**2 / 2\n",
        "  return loss"
      ],
      "metadata": {
        "id": "jAdy6zhrOJtA"
      },
      "execution_count": 5,
      "outputs": []
    },
    {
      "cell_type": "code",
      "source": [
        "#计算反向传导，梯度\n",
        "def backward(y_pred, y_true, H, W2, X):\n",
        "  dy = y_pred - y_true\n",
        "  b2_grad = dy * y_pred * (1-y_pred)\n",
        "  W2_grad = np.dot(b2_grad, H) # shape (2,)\n",
        "\n",
        "  dh = np.dot(b2_grad, W2) # shape (2,)\n",
        "  dz = dh * H * (1 - H) # shape (2,)\n",
        "  b1_grad = dz       # shape (2,)\n",
        "  W1_grad = np.dot(dz.T, X) # shape (2,2)\n",
        "  return W1_grad, W2_grad, b1_grad, b2_grad"
      ],
      "metadata": {
        "id": "6n6jVbY0Ou9q"
      },
      "execution_count": 9,
      "outputs": []
    },
    {
      "cell_type": "code",
      "source": [
        "#更新梯度参数weight,bias\n",
        "def update_params(W1, W2, b1, b2, W1_grad, W2_grad, b1_grad, b2_grad, learning_rate):\n",
        "  W1 -= learning_rate * W1_grad\n",
        "  W2 -= learning_rate * W2_grad\n",
        "  b1 -= learning_rate * b1_grad\n",
        "  b2 -= learning_rate * b2_grad\n",
        "  return W1, W2, b1, b2"
      ],
      "metadata": {
        "id": "_Xs-vCQuRfFw"
      },
      "execution_count": 11,
      "outputs": []
    },
    {
      "cell_type": "code",
      "source": [
        "#初始化参数\n",
        "\n",
        "W1 = np.array([[0.1, 0.2],\n",
        "        [0.3, 0.1]]) #shape (2,2)（第一行对应第一个隐藏神经元，第二行对应第二个隐藏神经元）\n",
        "\n",
        "b1 = np.array([0.1, 0.2]) #shape (2,)\n",
        "W2 = np.array([0.4, 0.5]) #ndarray (2,)\n",
        "b2 = 0.1\n",
        "X = np.array([1, 2]) #ndarray (2,)\n",
        "\n",
        "y_true = 1\n",
        "learning_rate = 0.1\n",
        "\n",
        "epochs = 1000\n",
        "\n",
        "losses = []\n",
        "\n",
        "for epoch in range(epochs):\n",
        "  Z, H, y_pred = forward(W1, W2, b1, b2, X)\n",
        "  loss = compute_loss(y_pred, y_true)\n",
        "  losses.append(loss)\n",
        "\n",
        "  W1_grad, W2_grad, b1_grad, b2_grad = backward(y_pred, y_true, H, W2, X)\n",
        "  W1, W2, b1, b2 = update_params(W1, W2, b1, b2, W1_grad, W2_grad, b1_grad, b2_grad, learning_rate)\n",
        "\n",
        "  if epoch%100 == 0:\n",
        "    print(\"Epochs:\", epoch + 1,\n",
        "      \"loss:\", np.round(loss, 4),\n",
        "      \"W1_grad:\", np.round(W1_grad.flatten(), 2),\n",
        "      \"W2_grad:\", np.round(W2_grad.flatten(), 2),\n",
        "      \"b1_grad:\", np.round(b1_grad.flatten(), 2),\n",
        "      \"b2_grad:\", np.round(b2_grad.flatten(), 2)\n",
        "      )\n",
        "\n",
        "plt.plot(range(epochs), losses, \"blue\")\n",
        "plt.xlabel(\"epoch axis\")\n",
        "plt.ylabel(\"loss axis\")\n",
        "plt.show()"
      ],
      "metadata": {
        "colab": {
          "base_uri": "https://localhost:8080/",
          "height": 629
        },
        "id": "Fxzm0XpPKSB_",
        "outputId": "54e27813-e77e-4ca6-a959-f9b0b22f5c2c"
      },
      "execution_count": 14,
      "outputs": [
        {
          "output_type": "stream",
          "name": "stdout",
          "text": [
            "Epochs: 1 loss: 0.0556 W1_grad: [-0.02] W2_grad: [-0.05 -0.05] b1_grad: [-0.01 -0.01] b2_grad: [-0.07]\n",
            "Epochs: 101 loss: 0.0134 W1_grad: [-0.01] W2_grad: [-0.02 -0.02] b1_grad: [-0. -0.] b2_grad: [-0.02]\n",
            "Epochs: 201 loss: 0.0065 W1_grad: [-0.] W2_grad: [-0.01 -0.01] b1_grad: [-0. -0.] b2_grad: [-0.01]\n",
            "Epochs: 301 loss: 0.0042 W1_grad: [-0.] W2_grad: [-0.01 -0.01] b1_grad: [-0. -0.] b2_grad: [-0.01]\n",
            "Epochs: 401 loss: 0.003 W1_grad: [-0.] W2_grad: [-0. -0.] b1_grad: [-0. -0.] b2_grad: [-0.01]\n",
            "Epochs: 501 loss: 0.0023 W1_grad: [-0.] W2_grad: [-0. -0.] b1_grad: [-0. -0.] b2_grad: [-0.]\n",
            "Epochs: 601 loss: 0.0019 W1_grad: [-0.] W2_grad: [-0. -0.] b1_grad: [-0. -0.] b2_grad: [-0.]\n",
            "Epochs: 701 loss: 0.0016 W1_grad: [-0.] W2_grad: [-0. -0.] b1_grad: [-0. -0.] b2_grad: [-0.]\n",
            "Epochs: 801 loss: 0.0014 W1_grad: [-0.] W2_grad: [-0. -0.] b1_grad: [-0. -0.] b2_grad: [-0.]\n",
            "Epochs: 901 loss: 0.0012 W1_grad: [-0.] W2_grad: [-0. -0.] b1_grad: [-0. -0.] b2_grad: [-0.]\n"
          ]
        },
        {
          "output_type": "display_data",
          "data": {
            "text/plain": [
              "<Figure size 640x480 with 1 Axes>"
            ],
            "image/png": "[encoded data removed]"
          },
          "metadata": {}
        }
      ]
    }
  ]
}