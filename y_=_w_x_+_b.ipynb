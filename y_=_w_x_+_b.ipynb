{
  "nbformat": 4,
  "nbformat_minor": 0,
  "metadata": {
    "colab": {
      "provenance": [],
      "toc_visible": true,
      "gpuType": "T4",
      "authorship_tag": "ABX9TyNojzPZtM+nKHVTCzQUyHZH"
    },
    "kernelspec": {
      "name": "python3",
      "display_name": "Python 3"
    },
    "language_info": {
      "name": "python"
    },
    "accelerator": "GPU",
    "widgets": {
      "application/vnd.jupyter.widget-state+json": {
        "e3b71c68bea6425bba61133242cc0471": {
          "model_module": "@jupyter-widgets/controls",
          "model_name": "VBoxModel",
          "model_module_version": "1.5.0",
          "state": {
            "_dom_classes": [
              "widget-interact"
            ],
            "_model_module": "@jupyter-widgets/controls",
            "_model_module_version": "1.5.0",
            "_model_name": "VBoxModel",
            "_view_count": null,
            "_view_module": "@jupyter-widgets/controls",
            "_view_module_version": "1.5.0",
            "_view_name": "VBoxView",
            "box_style": "",
            "children": [
              "IPY_MODEL_d1ab948a4db94314aa6e43287061c7a6",
              "IPY_MODEL_b88646d7e5a9430889e9552c0004288e",
              "IPY_MODEL_a58b7c05c5e64838b8ecdcf88ce09d54"
            ],
            "layout": "IPY_MODEL_2221e3316eb64d1eb0d30191e9cb991d"
          }
        },
        "d1ab948a4db94314aa6e43287061c7a6": {
          "model_module": "@jupyter-widgets/controls",
          "model_name": "IntSliderModel",
          "model_module_version": "1.5.0",
          "state": {
            "_dom_classes": [],
            "_model_module": "@jupyter-widgets/controls",
            "_model_module_version": "1.5.0",
            "_model_name": "IntSliderModel",
            "_view_count": null,
            "_view_module": "@jupyter-widgets/controls",
            "_view_module_version": "1.5.0",
            "_view_name": "IntSliderView",
            "continuous_update": true,
            "description": "w",
            "description_tooltip": null,
            "disabled": false,
            "layout": "IPY_MODEL_9bd08fbd3f3d4c1293f5495909caea65",
            "max": 100,
            "min": -100,
            "orientation": "horizontal",
            "readout": true,
            "readout_format": "d",
            "step": 1,
            "style": "IPY_MODEL_bbe0e18582324c5a9a1c21d9429f2413",
            "value": 12
          }
        },
        "b88646d7e5a9430889e9552c0004288e": {
          "model_module": "@jupyter-widgets/controls",
          "model_name": "IntSliderModel",
          "model_module_version": "1.5.0",
          "state": {
            "_dom_classes": [],
            "_model_module": "@jupyter-widgets/controls",
            "_model_module_version": "1.5.0",
            "_model_name": "IntSliderModel",
            "_view_count": null,
            "_view_module": "@jupyter-widgets/controls",
            "_view_module_version": "1.5.0",
            "_view_name": "IntSliderView",
            "continuous_update": true,
            "description": "b",
            "description_tooltip": null,
            "disabled": false,
            "layout": "IPY_MODEL_928be515feb94f9b92d0a1bb573f5481",
            "max": 100,
            "min": -100,
            "orientation": "horizontal",
            "readout": true,
            "readout_format": "d",
            "step": 1,
            "style": "IPY_MODEL_80ca243597d14d25a95c0bd0e086760c",
            "value": 0
          }
        },
        "a58b7c05c5e64838b8ecdcf88ce09d54": {
          "model_module": "@jupyter-widgets/output",
          "model_name": "OutputModel",
          "model_module_version": "1.0.0",
          "state": {
            "_dom_classes": [],
            "_model_module": "@jupyter-widgets/output",
            "_model_module_version": "1.0.0",
            "_model_name": "OutputModel",
            "_view_count": null,
            "_view_module": "@jupyter-widgets/output",
            "_view_module_version": "1.0.0",
            "_view_name": "OutputView",
            "layout": "IPY_MODEL_da4e953a86e44f0eaaf9213d313bb7be",
            "msg_id": "",
            "outputs": [
              {
                "output_type": "display_data",
                "data": {
                  "text/plain": "<Figure size 640x480 with 1 Axes>",
                  "image/png": "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\n"
                },
                "metadata": {}
              }
            ]
          }
        },
        "2221e3316eb64d1eb0d30191e9cb991d": {
          "model_module": "@jupyter-widgets/base",
          "model_name": "LayoutModel",
          "model_module_version": "1.2.0",
          "state": {
            "_model_module": "@jupyter-widgets/base",
            "_model_module_version": "1.2.0",
            "_model_name": "LayoutModel",
            "_view_count": null,
            "_view_module": "@jupyter-widgets/base",
            "_view_module_version": "1.2.0",
            "_view_name": "LayoutView",
            "align_content": null,
            "align_items": null,
            "align_self": null,
            "border": null,
            "bottom": null,
            "display": null,
            "flex": null,
            "flex_flow": null,
            "grid_area": null,
            "grid_auto_columns": null,
            "grid_auto_flow": null,
            "grid_auto_rows": null,
            "grid_column": null,
            "grid_gap": null,
            "grid_row": null,
            "grid_template_areas": null,
            "grid_template_columns": null,
            "grid_template_rows": null,
            "height": null,
            "justify_content": null,
            "justify_items": null,
            "left": null,
            "margin": null,
            "max_height": null,
            "max_width": null,
            "min_height": null,
            "min_width": null,
            "object_fit": null,
            "object_position": null,
            "order": null,
            "overflow": null,
            "overflow_x": null,
            "overflow_y": null,
            "padding": null,
            "right": null,
            "top": null,
            "visibility": null,
            "width": null
          }
        },
        "9bd08fbd3f3d4c1293f5495909caea65": {
          "model_module": "@jupyter-widgets/base",
          "model_name": "LayoutModel",
          "model_module_version": "1.2.0",
          "state": {
            "_model_module": "@jupyter-widgets/base",
            "_model_module_version": "1.2.0",
            "_model_name": "LayoutModel",
            "_view_count": null,
            "_view_module": "@jupyter-widgets/base",
            "_view_module_version": "1.2.0",
            "_view_name": "LayoutView",
            "align_content": null,
            "align_items": null,
            "align_self": null,
            "border": null,
            "bottom": null,
            "display": null,
            "flex": null,
            "flex_flow": null,
            "grid_area": null,
            "grid_auto_columns": null,
            "grid_auto_flow": null,
            "grid_auto_rows": null,
            "grid_column": null,
            "grid_gap": null,
            "grid_row": null,
            "grid_template_areas": null,
            "grid_template_columns": null,
            "grid_template_rows": null,
            "height": null,
            "justify_content": null,
            "justify_items": null,
            "left": null,
            "margin": null,
            "max_height": null,
            "max_width": null,
            "min_height": null,
            "min_width": null,
            "object_fit": null,
            "object_position": null,
            "order": null,
            "overflow": null,
            "overflow_x": null,
            "overflow_y": null,
            "padding": null,
            "right": null,
            "top": null,
            "visibility": null,
            "width": null
          }
        },
        "bbe0e18582324c5a9a1c21d9429f2413": {
          "model_module": "@jupyter-widgets/controls",
          "model_name": "SliderStyleModel",
          "model_module_version": "1.5.0",
          "state": {
            "_model_module": "@jupyter-widgets/controls",
            "_model_module_version": "1.5.0",
            "_model_name": "SliderStyleModel",
            "_view_count": null,
            "_view_module": "@jupyter-widgets/base",
            "_view_module_version": "1.2.0",
            "_view_name": "StyleView",
            "description_width": "",
            "handle_color": null
          }
        },
        "928be515feb94f9b92d0a1bb573f5481": {
          "model_module": "@jupyter-widgets/base",
          "model_name": "LayoutModel",
          "model_module_version": "1.2.0",
          "state": {
            "_model_module": "@jupyter-widgets/base",
            "_model_module_version": "1.2.0",
            "_model_name": "LayoutModel",
            "_view_count": null,
            "_view_module": "@jupyter-widgets/base",
            "_view_module_version": "1.2.0",
            "_view_name": "LayoutView",
            "align_content": null,
            "align_items": null,
            "align_self": null,
            "border": null,
            "bottom": null,
            "display": null,
            "flex": null,
            "flex_flow": null,
            "grid_area": null,
            "grid_auto_columns": null,
            "grid_auto_flow": null,
            "grid_auto_rows": null,
            "grid_column": null,
            "grid_gap": null,
            "grid_row": null,
            "grid_template_areas": null,
            "grid_template_columns": null,
            "grid_template_rows": null,
            "height": null,
            "justify_content": null,
            "justify_items": null,
            "left": null,
            "margin": null,
            "max_height": null,
            "max_width": null,
            "min_height": null,
            "min_width": null,
            "object_fit": null,
            "object_position": null,
            "order": null,
            "overflow": null,
            "overflow_x": null,
            "overflow_y": null,
            "padding": null,
            "right": null,
            "top": null,
            "visibility": null,
            "width": null
          }
        },
        "80ca243597d14d25a95c0bd0e086760c": {
          "model_module": "@jupyter-widgets/controls",
          "model_name": "SliderStyleModel",
          "model_module_version": "1.5.0",
          "state": {
            "_model_module": "@jupyter-widgets/controls",
            "_model_module_version": "1.5.0",
            "_model_name": "SliderStyleModel",
            "_view_count": null,
            "_view_module": "@jupyter-widgets/base",
            "_view_module_version": "1.2.0",
            "_view_name": "StyleView",
            "description_width": "",
            "handle_color": null
          }
        },
        "da4e953a86e44f0eaaf9213d313bb7be": {
          "model_module": "@jupyter-widgets/base",
          "model_name": "LayoutModel",
          "model_module_version": "1.2.0",
          "state": {
            "_model_module": "@jupyter-widgets/base",
            "_model_module_version": "1.2.0",
            "_model_name": "LayoutModel",
            "_view_count": null,
            "_view_module": "@jupyter-widgets/base",
            "_view_module_version": "1.2.0",
            "_view_name": "LayoutView",
            "align_content": null,
            "align_items": null,
            "align_self": null,
            "border": null,
            "bottom": null,
            "display": null,
            "flex": null,
            "flex_flow": null,
            "grid_area": null,
            "grid_auto_columns": null,
            "grid_auto_flow": null,
            "grid_auto_rows": null,
            "grid_column": null,
            "grid_gap": null,
            "grid_row": null,
            "grid_template_areas": null,
            "grid_template_columns": null,
            "grid_template_rows": null,
            "height": null,
            "justify_content": null,
            "justify_items": null,
            "left": null,
            "margin": null,
            "max_height": null,
            "max_width": null,
            "min_height": null,
            "min_width": null,
            "object_fit": null,
            "object_position": null,
            "order": null,
            "overflow": null,
            "overflow_x": null,
            "overflow_y": null,
            "padding": null,
            "right": null,
            "top": null,
            "visibility": null,
            "width": null
          }
        }
      }
    }
  },
  "cells": [
    {
      "cell_type": "code",
      "execution_count": null,
      "metadata": {
        "colab": {
          "base_uri": "https://localhost:8080/",
          "height": 1000
        },
        "id": "5SkgqVeF6AR5",
        "outputId": "ee8162c5-79c6-4a47-bb4f-e27e5794edbb",
        "collapsed": true
      },
      "outputs": [
        {
          "output_type": "execute_result",
          "data": {
            "text/plain": [
              "0      36.2\n",
              "1      36.6\n",
              "2      42.8\n",
              "3      39.3\n",
              "4      46.2\n",
              "5      37.7\n",
              "6      43.5\n",
              "7      39.8\n",
              "8      56.6\n",
              "9      60.1\n",
              "10     54.4\n",
              "11     64.4\n",
              "12     57.1\n",
              "13     63.2\n",
              "14     55.7\n",
              "15     56.9\n",
              "16     57.0\n",
              "17     61.1\n",
              "18     67.9\n",
              "19     66.0\n",
              "20     83.0\n",
              "21     81.3\n",
              "22     93.9\n",
              "23     91.7\n",
              "24     98.2\n",
              "25    101.3\n",
              "26    113.8\n",
              "27    109.4\n",
              "28    105.5\n",
              "29    116.9\n",
              "30    112.6\n",
              "31    122.3\n",
              "32    121.8\n",
              "Name: Salary, dtype: float64"
            ],
            "text/html": [
              "<div>\n",
              "<style scoped>\n",
              "    .dataframe tbody tr th:only-of-type {\n",
              "        vertical-align: middle;\n",
              "    }\n",
              "\n",
              "    .dataframe tbody tr th {\n",
              "        vertical-align: top;\n",
              "    }\n",
              "\n",
              "    .dataframe thead th {\n",
              "        text-align: right;\n",
              "    }\n",
              "</style>\n",
              "<table border=\"1\" class=\"dataframe\">\n",
              "  <thead>\n",
              "    <tr style=\"text-align: right;\">\n",
              "      <th></th>\n",
              "      <th>Salary</th>\n",
              "    </tr>\n",
              "  </thead>\n",
              "  <tbody>\n",
              "    <tr>\n",
              "      <th>0</th>\n",
              "      <td>36.2</td>\n",
              "    </tr>\n",
              "    <tr>\n",
              "      <th>1</th>\n",
              "      <td>36.6</td>\n",
              "    </tr>\n",
              "    <tr>\n",
              "      <th>2</th>\n",
              "      <td>42.8</td>\n",
              "    </tr>\n",
              "    <tr>\n",
              "      <th>3</th>\n",
              "      <td>39.3</td>\n",
              "    </tr>\n",
              "    <tr>\n",
              "      <th>4</th>\n",
              "      <td>46.2</td>\n",
              "    </tr>\n",
              "    <tr>\n",
              "      <th>5</th>\n",
              "      <td>37.7</td>\n",
              "    </tr>\n",
              "    <tr>\n",
              "      <th>6</th>\n",
              "      <td>43.5</td>\n",
              "    </tr>\n",
              "    <tr>\n",
              "      <th>7</th>\n",
              "      <td>39.8</td>\n",
              "    </tr>\n",
              "    <tr>\n",
              "      <th>8</th>\n",
              "      <td>56.6</td>\n",
              "    </tr>\n",
              "    <tr>\n",
              "      <th>9</th>\n",
              "      <td>60.1</td>\n",
              "    </tr>\n",
              "    <tr>\n",
              "      <th>10</th>\n",
              "      <td>54.4</td>\n",
              "    </tr>\n",
              "    <tr>\n",
              "      <th>11</th>\n",
              "      <td>64.4</td>\n",
              "    </tr>\n",
              "    <tr>\n",
              "      <th>12</th>\n",
              "      <td>57.1</td>\n",
              "    </tr>\n",
              "    <tr>\n",
              "      <th>13</th>\n",
              "      <td>63.2</td>\n",
              "    </tr>\n",
              "    <tr>\n",
              "      <th>14</th>\n",
              "      <td>55.7</td>\n",
              "    </tr>\n",
              "    <tr>\n",
              "      <th>15</th>\n",
              "      <td>56.9</td>\n",
              "    </tr>\n",
              "    <tr>\n",
              "      <th>16</th>\n",
              "      <td>57.0</td>\n",
              "    </tr>\n",
              "    <tr>\n",
              "      <th>17</th>\n",
              "      <td>61.1</td>\n",
              "    </tr>\n",
              "    <tr>\n",
              "      <th>18</th>\n",
              "      <td>67.9</td>\n",
              "    </tr>\n",
              "    <tr>\n",
              "      <th>19</th>\n",
              "      <td>66.0</td>\n",
              "    </tr>\n",
              "    <tr>\n",
              "      <th>20</th>\n",
              "      <td>83.0</td>\n",
              "    </tr>\n",
              "    <tr>\n",
              "      <th>21</th>\n",
              "      <td>81.3</td>\n",
              "    </tr>\n",
              "    <tr>\n",
              "      <th>22</th>\n",
              "      <td>93.9</td>\n",
              "    </tr>\n",
              "    <tr>\n",
              "      <th>23</th>\n",
              "      <td>91.7</td>\n",
              "    </tr>\n",
              "    <tr>\n",
              "      <th>24</th>\n",
              "      <td>98.2</td>\n",
              "    </tr>\n",
              "    <tr>\n",
              "      <th>25</th>\n",
              "      <td>101.3</td>\n",
              "    </tr>\n",
              "    <tr>\n",
              "      <th>26</th>\n",
              "      <td>113.8</td>\n",
              "    </tr>\n",
              "    <tr>\n",
              "      <th>27</th>\n",
              "      <td>109.4</td>\n",
              "    </tr>\n",
              "    <tr>\n",
              "      <th>28</th>\n",
              "      <td>105.5</td>\n",
              "    </tr>\n",
              "    <tr>\n",
              "      <th>29</th>\n",
              "      <td>116.9</td>\n",
              "    </tr>\n",
              "    <tr>\n",
              "      <th>30</th>\n",
              "      <td>112.6</td>\n",
              "    </tr>\n",
              "    <tr>\n",
              "      <th>31</th>\n",
              "      <td>122.3</td>\n",
              "    </tr>\n",
              "    <tr>\n",
              "      <th>32</th>\n",
              "      <td>121.8</td>\n",
              "    </tr>\n",
              "  </tbody>\n",
              "</table>\n",
              "</div><br><label><b>dtype:</b> float64</label>"
            ]
          },
          "metadata": {},
          "execution_count": 4
        }
      ],
      "source": [
        "import pandas as pd\n",
        "\n",
        "url = \"https://raw.githubusercontent.com/GrandmaCan/ML/main/Resgression/Salary_Data.csv\"\n",
        "\n",
        "data = pd.read_csv(url)\n",
        "data\n",
        "# y = w*x + b\n",
        "x = data[\"YearsExperience\"]\n",
        "y = data[\"Salary\"]"
      ]
    },
    {
      "cell_type": "code",
      "source": [
        "import matplotlib.pyplot as plt\n",
        "import matplotlib as mlp\n",
        "from matplotlib.font_manager import fontManager\n",
        "\n",
        "fontManager.addfont(\"ChineseFont.ttf\")\n",
        "mlp.rc('font', family=\"ChineseFont\")\n",
        "\n",
        "plt.scatter(x, y, marker=\"x\", color=\"red\")\n",
        "plt.title(\"年资-薪水\")\n",
        "plt.xlabel(\"年资\")\n",
        "plt.ylabel(\"月薪(千)\")\n",
        "plt.show()"
      ],
      "metadata": {
        "colab": {
          "base_uri": "https://localhost:8080/",
          "height": 472
        },
        "id": "CutGROSzDQLh",
        "outputId": "5b77b0ec-2d4d-4984-d70a-6734ed4f603a"
      },
      "execution_count": null,
      "outputs": [
        {
          "output_type": "display_data",
          "data": {
            "text/plain": [
              "<Figure size 640x480 with 1 Axes>"
            ],
            "image/png": "[encoded data removed]"
          },
          "metadata": {}
        }
      ]
    },
    {
      "cell_type": "markdown",
      "source": [
        "# 新段落"
      ],
      "metadata": {
        "id": "LPqH0tjWjCyL"
      }
    },
    {
      "cell_type": "code",
      "source": [
        "def plot_pred(w,b):\n",
        "  y_pred = x*w + b\n",
        "  plt.plot(x, y_pred, color=\"blue\", label=\"预测线\")\n",
        "  plt.scatter(x, y, marker=\"x\", color=\"red\", label=\"真实数据\")\n",
        "  plt.title(\"年资-薪水\")\n",
        "  plt.xlabel(\"年资\")\n",
        "  plt.ylabel(\"月薪(千)\")\n",
        "  plt.xlim([0, 12])\n",
        "  plt.ylim([-60, 140])\n",
        "  plt.legend()\n",
        "  plt.show()\n",
        "\n",
        "plot_pred(10, -30)"
      ],
      "metadata": {
        "colab": {
          "base_uri": "https://localhost:8080/",
          "height": 472
        },
        "id": "V6UeGxqMTDYH",
        "outputId": "8e622d8b-fdc7-49a7-9dd5-62124db40506"
      },
      "execution_count": null,
      "outputs": [
        {
          "output_type": "display_data",
          "data": {
            "text/plain": [
              "<Figure size 640x480 with 1 Axes>"
            ],
            "image/png": "[encoded data removed]"
          },
          "metadata": {}
        }
      ]
    },
    {
      "cell_type": "code",
      "source": [
        "from ipywidgets import interact\n",
        "\n",
        "interact(plot_pred, w=(-100, 100, 1), b=(-100, 100, 1))"
      ],
      "metadata": {
        "colab": {
          "base_uri": "https://localhost:8080/",
          "height": 622,
          "referenced_widgets": [
            "e3b71c68bea6425bba61133242cc0471",
            "d1ab948a4db94314aa6e43287061c7a6",
            "b88646d7e5a9430889e9552c0004288e",
            "a58b7c05c5e64838b8ecdcf88ce09d54",
            "2221e3316eb64d1eb0d30191e9cb991d",
            "9bd08fbd3f3d4c1293f5495909caea65",
            "bbe0e18582324c5a9a1c21d9429f2413",
            "928be515feb94f9b92d0a1bb573f5481",
            "80ca243597d14d25a95c0bd0e086760c",
            "da4e953a86e44f0eaaf9213d313bb7be"
          ]
        },
        "id": "xd-6W_shVubH",
        "outputId": "c1ba1584-9947-43dd-e045-68788a11d824"
      },
      "execution_count": null,
      "outputs": [
        {
          "output_type": "display_data",
          "data": {
            "text/plain": [
              "interactive(children=(IntSlider(value=0, description='w', min=-100), IntSlider(value=0, description='b', min=-…"
            ],
            "application/vnd.jupyter.widget-view+json": {
              "version_major": 2,
              "version_minor": 0,
              "model_id": "e3b71c68bea6425bba61133242cc0471"
            }
          },
          "metadata": {}
        },
        {
          "output_type": "execute_result",
          "data": {
            "text/plain": [
              "<function __main__.plot_pred(w, b)>"
            ],
            "text/html": [
              "<div style=\"max-width:800px; border: 1px solid var(--colab-border-color);\"><style>\n",
              "      pre.function-repr-contents {\n",
              "        overflow-x: auto;\n",
              "        padding: 8px 12px;\n",
              "        max-height: 500px;\n",
              "      }\n",
              "\n",
              "      pre.function-repr-contents.function-repr-contents-collapsed {\n",
              "        cursor: pointer;\n",
              "        max-height: 100px;\n",
              "      }\n",
              "    </style>\n",
              "    <pre style=\"white-space: initial; background:\n",
              "         var(--colab-secondary-surface-color); padding: 8px 12px;\n",
              "         border-bottom: 1px solid var(--colab-border-color);\"><b>plot_pred</b><br/>def plot_pred(w, b)</pre><pre class=\"function-repr-contents function-repr-contents-collapsed\" style=\"\"><a class=\"filepath\" style=\"display:none\" href=\"#\">/content/&lt;ipython-input-17-fb5df8b52250&gt;</a>&lt;no docstring&gt;</pre></div>"
            ]
          },
          "metadata": {},
          "execution_count": 18
        }
      ]
    },
    {
      "cell_type": "code",
      "source": [
        "!pip install wget\n",
        "import wget\n",
        "\n",
        "wget.download(\"https://github.com/GrandmaCan/ML/raw/main/Resgression/ChineseFont.ttf\")"
      ],
      "metadata": {
        "colab": {
          "base_uri": "https://localhost:8080/",
          "height": 235
        },
        "id": "pDKuZJdVRIfn",
        "outputId": "4259e133-3deb-4837-d057-136cf5c58e52"
      },
      "execution_count": null,
      "outputs": [
        {
          "output_type": "stream",
          "name": "stdout",
          "text": [
            "Collecting wget\n",
            "  Downloading wget-3.2.zip (10 kB)\n",
            "  Preparing metadata (setup.py) ... \u001b[?25l\u001b[?25hdone\n",
            "Building wheels for collected packages: wget\n",
            "  Building wheel for wget (setup.py) ... \u001b[?25l\u001b[?25hdone\n",
            "  Created wheel for wget: filename=wget-3.2-py3-none-any.whl size=9656 sha256=42d43388a6c346c98627619d0ed201844055b8be0379a3bee40a42db654137db\n",
            "  Stored in directory: /root/.cache/pip/wheels/40/b3/0f/a40dbd1c6861731779f62cc4babcb234387e11d697df70ee97\n",
            "Successfully built wget\n",
            "Installing collected packages: wget\n",
            "Successfully installed wget-3.2\n"
          ]
        },
        {
          "output_type": "execute_result",
          "data": {
            "text/plain": [
              "'ChineseFont.ttf'"
            ],
            "application/vnd.google.colaboratory.intrinsic+json": {
              "type": "string"
            }
          },
          "metadata": {},
          "execution_count": 6
        }
      ]
    },
    {
      "cell_type": "markdown",
      "source": [],
      "metadata": {
        "id": "3QtQrrgKBLd9"
      }
    }
  ]
}