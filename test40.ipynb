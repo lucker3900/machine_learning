{
  "nbformat": 4,
  "nbformat_minor": 0,
  "metadata": {
    "colab": {
      "provenance": [],
      "gpuType": "T4",
      "authorship_tag": "ABX9TyMpu07J/nSsKQ8fGoXkH4u4"
    },
    "kernelspec": {
      "name": "python3",
      "display_name": "Python 3"
    },
    "language_info": {
      "name": "python"
    },
    "accelerator": "GPU"
  },
  "cells": [
    {
      "cell_type": "code",
      "execution_count": 1,
      "metadata": {
        "id": "L3WlthF8Rw4J"
      },
      "outputs": [],
      "source": [
        "#问题描述:\n",
        "\n",
        "#考虑一个非常简单的 RNN 单元，其隐藏状态 (h_t) 按如下方式更新：\n",
        "#[ h_t = \\tanh(x_t W_{xh}^T + h_{t-1} W_{hh}^T + b_h) ]\n",
        "#为了简化计算，我们假设偏置 (b_h = 0)。\n",
        "#[ h_t = \\tanh(x_t W_{xh}^T + h_{t-1} W_{hh}^T) ]\n",
        "\n",
        "#网络和输入规格:\n",
        "\n",
        "#输入维度 (D_x): 2\n",
        "#隐藏状态维度 (D_h): 3\n",
        "#时间步数: 我们只考虑两个时间步, t=0 和 t=1。\n",
        "\n",
        "#任务:\n",
        "\n",
        "#前向传播 (展开时间步):\n",
        "#  a. 使用 (x_0) 和 (h_{-1}) 计算第一个时间步的隐藏层输入 (z_0 = x_0 W_{xh}^T + h_{-1} W_{hh}^T)。\n",
        "#  b. 计算第一个时间步的隐藏状态 (h_0 = \\tanh(z_0))。\n",
        "#  c. 使用 (x_1) 和 (h_0) 计算第二个时间步的隐藏层输入 (z_1 = x_1 W_{xh}^T + h_{0} W_{hh}^T)。\n",
        "#  d. 计算第二个时间步的隐藏状态 (h_1 = \\tanh(z_1))。 (这是我们关心的最终状态)\n",
        "\n",
        "#损失计算: a. 使用计算得到的 (h_1) 和给定的 (h_{target}) 计算损失 (L)。(这是一个标量)\n",
        "#反向传播 (梯度计算):\n",
        "#使用 PyTorch 的 自动微分 (loss.backward()) 计算损失 ( L ) 相对于参数 (W_{xh}) 和 (W_{hh}) 的梯度。"
      ]
    },
    {
      "cell_type": "code",
      "source": [
        "import torch\n",
        "import torch.nn as nn\n",
        "import torch.optim as optim\n",
        "import matplotlib.pyplot as plt"
      ],
      "metadata": {
        "id": "bX-4U2mySEIw"
      },
      "execution_count": 2,
      "outputs": []
    },
    {
      "cell_type": "code",
      "source": [
        "#前向传播\n",
        "def forward(W_xh, W_hh, x_0, x_1):\n",
        "  z_0 = torch.matmul(x_0, W_xh.T) #shape (1,3)\n",
        "  h_0 = torch.tanh(z_0)\n",
        "\n",
        "  z_1 = torch.matmul(x_1, W_xh.T) + torch.matmul(h_0, W_hh.t()) #shape (1,3)\n",
        "  h_1 = torch.tanh(z_1)\n",
        "  return h_1"
      ],
      "metadata": {
        "id": "E5ReAlK3jEf_"
      },
      "execution_count": 55,
      "outputs": []
    },
    {
      "cell_type": "code",
      "source": [
        "#计算损失函数loss\n",
        "def compute_loss(h_1, h_target):\n",
        "  loss = (h_1 - h_target)**2 /2\n",
        "  return loss"
      ],
      "metadata": {
        "id": "H6GVWHU3lWpM"
      },
      "execution_count": 36,
      "outputs": []
    },
    {
      "cell_type": "code",
      "source": [
        "# 设置参数和输入\n",
        "W_xh = torch.tensor([\n",
        "    [0.1, 0.2],\n",
        "    [-0.3, 0.4],\n",
        "    [0.2, -0.1]],requires_grad=True)  # 形状 3x2\n",
        "\n",
        "W_hh = torch.tensor([\n",
        "    [0.5, -0.1, 0.1],\n",
        "    [0.1, 0.3, -0.2],\n",
        "    [-0.2, 0.4, 0.1]],requires_grad=True)  # 形状 3x3\n",
        "\n",
        "x_0 = torch.tensor([[0.5, -0.2]])  # 形状 1x2\n",
        "x_1 = torch.tensor([[0.1, 0.3]])  # 形状 1x2\n",
        "h_target = torch.tensor([[0.5, -0.5, 0.5]])  # 形状 1x3\n",
        "\n",
        "epochs = 1000\n",
        "losses = []\n",
        "\n",
        "learning_rate = 0.01\n",
        "\n",
        "for epoch in range(epochs):\n",
        "  h_1 = forward(W_xh, W_hh, x_0, x_1)\n",
        "\n",
        "  loss = compute_loss(h_1, h_target).mean()\n",
        "  losses.append(loss.item())\n",
        "\n",
        "  if W_xh.grad is not None:\n",
        "    W_xh.grad.zero_()\n",
        "    W_hh.grad.zero_()\n",
        "\n",
        "  loss.backward()\n",
        "\n",
        "  with torch.no_grad():\n",
        "    W_xh -= learning_rate * W_xh.grad\n",
        "    W_hh -= learning_rate * W_hh.grad\n",
        "\n",
        "  if epoch%1000 == 0:\n",
        "    print(f\"epoch: {epoch + 1}\",\n",
        "      f\"loss: {loss.item():.4f}\",\n",
        "      f\"h_1: {h_1}\")\n",
        "\n",
        "plt.plot(range(epochs), losses, \"blue\")\n",
        "plt.xlabel(\"epoch axis\")\n",
        "plt.ylabel(\"loss axis\")\n",
        "plt.show()"
      ],
      "metadata": {
        "colab": {
          "base_uri": "https://localhost:8080/",
          "height": 468
        },
        "id": "b_lAFrC2UEA2",
        "outputId": "6b42066e-6252-4a02-b685-87be1943b561"
      },
      "execution_count": 59,
      "outputs": [
        {
          "output_type": "stream",
          "name": "stdout",
          "text": [
            "epoch: 1 loss: 0.3752 h_1: tensor([[ 0.1091, -0.0007, -0.0902]], grad_fn=<TanhBackward0>)\n"
          ]
        },
        {
          "output_type": "display_data",
          "data": {
            "text/plain": [
              "<Figure size 640x480 with 1 Axes>"
            ],
            "image/png": "[encoded data removed]"
          },
          "metadata": {}
        }
      ]
    }
  ]
}