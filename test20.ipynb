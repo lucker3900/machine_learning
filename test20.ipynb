{
  "nbformat": 4,
  "nbformat_minor": 0,
  "metadata": {
    "colab": {
      "provenance": [],
      "authorship_tag": "ABX9TyMxV7kSmoNAuccWkFko17yK"
    },
    "kernelspec": {
      "name": "python3",
      "display_name": "Python 3"
    },
    "language_info": {
      "name": "python"
    }
  },
  "cells": [
    {
      "cell_type": "code",
      "execution_count": 1,
      "metadata": {
        "id": "U6_ZdcGMYswA"
      },
      "outputs": [],
      "source": [
        "#考虑一个具有以下结构的神经网络：\n",
        "#输入层：3个神经元\n",
        "#隐藏层：3个神经元，使用ReLU激活函数\n",
        "#输出层：2个神经元，使用Softmax激活函数\n",
        "#ReLU函数定义为：f(x) = max(0, x)\n",
        "#Softmax函数定义为：softmax(x)i = e^(x_i) / Σ(e^(x_j))，其中j遍历所有输出"
      ]
    },
    {
      "cell_type": "code",
      "source": [
        "import numpy as np\n",
        "import matplotlib.pyplot as plt"
      ],
      "metadata": {
        "id": "rKSDPTB3Y2vK"
      },
      "execution_count": 2,
      "outputs": []
    },
    {
      "cell_type": "code",
      "source": [
        "#计算relu函数\n",
        "def relu(a):\n",
        "  return np.maximum(0, a)"
      ],
      "metadata": {
        "id": "bqgPLdFlZ_Ky"
      },
      "execution_count": 4,
      "outputs": []
    },
    {
      "cell_type": "code",
      "source": [
        "#计算softmax函数\n",
        "def softmax(a):\n",
        "  z = np.exp(a- np.max(a))\n",
        "  return z / np.sum(z)"
      ],
      "metadata": {
        "id": "kWDxM5WOaRGs"
      },
      "execution_count": 18,
      "outputs": []
    },
    {
      "cell_type": "code",
      "source": [
        "#前向传播，计算y_pred\n",
        "def forward(W1, W2, b1, b2, X):\n",
        "  Z = np.dot(X, W1.T) + b1 # shape (3,)\n",
        "  H = relu(Z) #shape (3,)\n",
        "\n",
        "  Zout = np.dot(H, W2.T) + b2 # shape (2,)\n",
        "  y_pred = softmax(Zout)\n",
        "  return Z, H, y_pred"
      ],
      "metadata": {
        "id": "uYL0_v3ibyla"
      },
      "execution_count": 9,
      "outputs": []
    },
    {
      "cell_type": "code",
      "source": [
        "#计算损失函数, loss\n",
        "def compute_loss(y_true, y_pred):\n",
        "  loss = -np.sum(y_true * np.log(y_pred + 1e-10)) / y_pred.shape[0]\n",
        "  return loss"
      ],
      "metadata": {
        "id": "S5p0dKO5j6pb"
      },
      "execution_count": 10,
      "outputs": []
    },
    {
      "cell_type": "code",
      "source": [
        "#反向传播,梯度计算\n",
        "def backward(y_pred, y_true, H, W2, X):\n",
        "  y_diff = y_pred - y_true #shape (2,)\n",
        "\n",
        "  b2_grad = y_diff #shape (2,)\n",
        "  W2_grad = np.outer(y_diff, H) # shape (2,3)\n",
        "\n",
        "  bh = np.dot(y_diff, W2)\n",
        "  bz = bh * (Z>0)\n",
        "  b1_grad = bz\n",
        "  W1_grad = np.outer(bz, X)\n",
        "\n",
        "  return W1_grad, W2_grad, b1_grad, b2_grad"
      ],
      "metadata": {
        "id": "4BkyMELJmxhh"
      },
      "execution_count": 20,
      "outputs": []
    },
    {
      "cell_type": "code",
      "source": [
        "#更新参数，weight,bias\n",
        "def update_params(W1, W2, b1, b2, W1_grad, W2_grad, b1_grad, b2_grad, learning_rate):\n",
        "  W1 -= learning_rate * W1_grad\n",
        "  W2 -= learning_rate * W2_grad\n",
        "  b1 -= learning_rate * b1_grad\n",
        "  b2 -= learning_rate * b2_grad\n",
        "  return W1, W2, b1, b2"
      ],
      "metadata": {
        "id": "Um-X4D_Qpflj"
      },
      "execution_count": 22,
      "outputs": []
    },
    {
      "cell_type": "code",
      "source": [
        "#初始化参数\n",
        "W1 = np.array([[0.2, 0.3, -0.1],\n",
        "        [-0.1, 0.5, 0.2],\n",
        "        [0.1, -0.2, 0.3]]) # ndrarray (3,3)\n",
        "\n",
        "b1 = np.array([0.1, 0.2, -0.1]) # ndarray (3,)\n",
        "\n",
        "W2 = np.array([[0.2, 0.3, 0.1],\n",
        "        [0.1, -0.2, 0.4]]) #ndarray (2,3)\n",
        "\n",
        "b2 = np.array([0.1, -0.1]) # shape (2,)\n",
        "\n",
        "X = np.array([0.5, 1.0, -0.5]) # shape (3,)\n",
        "\n",
        "y_true = np.array([1, 0]) # shape (2, )\n",
        "\n",
        "learning_rate = 0.05\n",
        "\n",
        "epochs = 200\n",
        "losses = []\n",
        "\n",
        "for epoch in range(epochs):\n",
        "  Z, H, y_pred = forward(W1, W2, b1, b2, X)\n",
        "  loss = compute_loss(y_true, y_pred)\n",
        "  losses.append(loss)\n",
        "\n",
        "  W1_grad, W2_grad, b1_grad, b2_grad = backward(y_pred, y_true, H, W2, X)\n",
        "  W1, W2, b1, b2 = update_params(W1, W2, b1, b2, W1_grad, W2_grad, b1_grad, b2_grad, learning_rate)\n",
        "\n",
        "  if epoch%10 ==0:\n",
        "    print(\"Epoch:\", epoch + 1,\n",
        "      \"loss:\", np.round(loss, 4),\n",
        "      \"W1_grad:\", np.round(W1_grad.flatten(), 4),\n",
        "      \"W2_grad:\", np.round(W2_grad.flatten(), 4),\n",
        "      \"b1_grad:\", np.round(b1_grad.flatten(), 4),\n",
        "      \"b2_grad:\", np.round(b2_grad.flatten(), 4),\n",
        "      )\n",
        "\n",
        "plt.plot(range(epochs), losses, \"blue\")\n",
        "plt.xlabel(\"epoch axis\")\n",
        "plt.ylabel(\"loss axis\")\n",
        "plt.show()"
      ],
      "metadata": {
        "colab": {
          "base_uri": "https://localhost:8080/",
          "height": 828
        },
        "id": "D1LRYiSpY8h7",
        "outputId": "26a0d19d-3bca-4e75-da44-3dcfb45d0274"
      },
      "execution_count": 27,
      "outputs": [
        {
          "output_type": "stream",
          "name": "stdout",
          "text": [
            "Epoch: 1 loss: 0.2314 W1_grad: [-0.0185 -0.0371  0.0185 -0.0926 -0.1853  0.0926  0.      0.     -0.    ] W2_grad: [-0.2038 -0.2038 -0.      0.2038  0.2038  0.    ] b1_grad: [-0.0371 -0.1853  0.    ] b2_grad: [-0.3705  0.3705]\n",
            "Epoch: 11 loss: 0.1309 W1_grad: [-0.0315 -0.0631  0.0315 -0.08   -0.16    0.08    0.      0.     -0.    ] W2_grad: [-0.1421 -0.1774 -0.      0.1421  0.1774  0.    ] b1_grad: [-0.0631 -0.16    0.    ] b2_grad: [-0.2303  0.2303]\n",
            "Epoch: 21 loss: 0.0782 W1_grad: [-0.0287 -0.0573  0.0287 -0.0618 -0.1237  0.0618  0.      0.     -0.    ] W2_grad: [-0.1005 -0.1375 -0.      0.1005  0.1375  0.    ] b1_grad: [-0.0573 -0.1237  0.    ] b2_grad: [-0.1448  0.1448]\n",
            "Epoch: 31 loss: 0.0507 W1_grad: [-0.0233 -0.0466  0.0233 -0.047  -0.094   0.047   0.      0.     -0.    ] W2_grad: [-0.0732 -0.1047 -0.      0.0732  0.1047  0.    ] b1_grad: [-0.0466 -0.094   0.    ] b2_grad: [-0.0964  0.0964]\n",
            "Epoch: 41 loss: 0.0354 W1_grad: [-0.0187 -0.0374  0.0187 -0.0365 -0.0731  0.0365  0.      0.     -0.    ] W2_grad: [-0.0555 -0.0814 -0.      0.0555  0.0814  0.    ] b1_grad: [-0.0374 -0.0731  0.    ] b2_grad: [-0.0683  0.0683]\n",
            "Epoch: 51 loss: 0.0263 W1_grad: [-0.0153 -0.0306  0.0153 -0.0292 -0.0585  0.0292  0.      0.     -0.    ] W2_grad: [-0.0437 -0.0652 -0.      0.0437  0.0652  0.    ] b1_grad: [-0.0306 -0.0585  0.    ] b2_grad: [-0.0511  0.0511]\n",
            "Epoch: 61 loss: 0.0204 W1_grad: [-0.0127 -0.0255  0.0127 -0.024  -0.0481  0.024   0.      0.     -0.    ] W2_grad: [-0.0356 -0.0536 -0.      0.0356  0.0536  0.    ] b1_grad: [-0.0255 -0.0481  0.    ] b2_grad: [-0.04  0.04]\n",
            "Epoch: 71 loss: 0.0164 W1_grad: [-0.0108 -0.0216  0.0108 -0.0202 -0.0404  0.0202  0.      0.     -0.    ] W2_grad: [-0.0297 -0.0451 -0.      0.0297  0.0451  0.    ] b1_grad: [-0.0216 -0.0404  0.    ] b2_grad: [-0.0323  0.0323]\n",
            "Epoch: 81 loss: 0.0136 W1_grad: [-0.0093 -0.0187  0.0093 -0.0173 -0.0347  0.0173  0.      0.     -0.    ] W2_grad: [-0.0253 -0.0387 -0.      0.0253  0.0387  0.    ] b1_grad: [-0.0187 -0.0347  0.    ] b2_grad: [-0.0268  0.0268]\n",
            "Epoch: 91 loss: 0.0115 W1_grad: [-0.0082 -0.0164  0.0082 -0.0151 -0.0302  0.0151  0.      0.     -0.    ] W2_grad: [-0.0219 -0.0337 -0.      0.0219  0.0337  0.    ] b1_grad: [-0.0164 -0.0302  0.    ] b2_grad: [-0.0227  0.0227]\n",
            "Epoch: 101 loss: 0.0099 W1_grad: [-0.0073 -0.0145  0.0073 -0.0133 -0.0267  0.0133  0.      0.     -0.    ] W2_grad: [-0.0193 -0.0297 -0.      0.0193  0.0297  0.    ] b1_grad: [-0.0145 -0.0267  0.    ] b2_grad: [-0.0196  0.0196]\n",
            "Epoch: 111 loss: 0.0086 W1_grad: [-0.0065 -0.013   0.0065 -0.0119 -0.0238  0.0119  0.      0.     -0.    ] W2_grad: [-0.0172 -0.0266 -0.      0.0172  0.0266  0.    ] b1_grad: [-0.013  -0.0238  0.    ] b2_grad: [-0.0171  0.0171]\n",
            "Epoch: 121 loss: 0.0076 W1_grad: [-0.0059 -0.0118  0.0059 -0.0107 -0.0214  0.0107  0.      0.     -0.    ] W2_grad: [-0.0154 -0.0239 -0.      0.0154  0.0239  0.    ] b1_grad: [-0.0118 -0.0214  0.    ] b2_grad: [-0.0151  0.0151]\n",
            "Epoch: 131 loss: 0.0068 W1_grad: [-0.0054 -0.0107  0.0054 -0.0097 -0.0195  0.0097  0.      0.     -0.    ] W2_grad: [-0.014  -0.0217 -0.      0.014   0.0217  0.    ] b1_grad: [-0.0107 -0.0195  0.    ] b2_grad: [-0.0135  0.0135]\n",
            "Epoch: 141 loss: 0.0061 W1_grad: [-0.0049 -0.0098  0.0049 -0.0089 -0.0178  0.0089  0.      0.     -0.    ] W2_grad: [-0.0128 -0.0199 -0.      0.0128  0.0199  0.    ] b1_grad: [-0.0098 -0.0178  0.    ] b2_grad: [-0.0122  0.0122]\n",
            "Epoch: 151 loss: 0.0056 W1_grad: [-0.0045 -0.0091  0.0045 -0.0082 -0.0164  0.0082  0.      0.     -0.    ] W2_grad: [-0.0117 -0.0183 -0.      0.0117  0.0183  0.    ] b1_grad: [-0.0091 -0.0164  0.    ] b2_grad: [-0.0111  0.0111]\n",
            "Epoch: 161 loss: 0.0051 W1_grad: [-0.0042 -0.0084  0.0042 -0.0076 -0.0152  0.0076  0.      0.     -0.    ] W2_grad: [-0.0108 -0.0169 -0.      0.0108  0.0169  0.    ] b1_grad: [-0.0084 -0.0152  0.    ] b2_grad: [-0.0101  0.0101]\n",
            "Epoch: 171 loss: 0.0047 W1_grad: [-0.0039 -0.0078  0.0039 -0.0071 -0.0141  0.0071  0.      0.     -0.    ] W2_grad: [-0.0101 -0.0157 -0.      0.0101  0.0157  0.    ] b1_grad: [-0.0078 -0.0141  0.    ] b2_grad: [-0.0093  0.0093]\n",
            "Epoch: 181 loss: 0.0043 W1_grad: [-0.0037 -0.0073  0.0037 -0.0066 -0.0132  0.0066  0.      0.     -0.    ] W2_grad: [-0.0094 -0.0147 -0.      0.0094  0.0147  0.    ] b1_grad: [-0.0073 -0.0132  0.    ] b2_grad: [-0.0086  0.0086]\n",
            "Epoch: 191 loss: 0.004 W1_grad: [-0.0034 -0.0069  0.0034 -0.0062 -0.0123  0.0062  0.      0.     -0.    ] W2_grad: [-0.0088 -0.0138 -0.      0.0088  0.0138  0.    ] b1_grad: [-0.0069 -0.0123  0.    ] b2_grad: [-0.008  0.008]\n"
          ]
        },
        {
          "output_type": "display_data",
          "data": {
            "text/plain": [
              "<Figure size 640x480 with 1 Axes>"
            ],
            "image/png": "[encoded data removed]"
          },
          "metadata": {}
        }
      ]
    }
  ]
}