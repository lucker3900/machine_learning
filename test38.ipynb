{
  "nbformat": 4,
  "nbformat_minor": 0,
  "metadata": {
    "colab": {
      "provenance": [],
      "gpuType": "T4",
      "authorship_tag": "ABX9TyMVPhcuVyODpvFiS3jWGauQ"
    },
    "kernelspec": {
      "name": "python3",
      "display_name": "Python 3"
    },
    "language_info": {
      "name": "python"
    },
    "accelerator": "GPU"
  },
  "cells": [
    {
      "cell_type": "code",
      "execution_count": 1,
      "metadata": {
        "id": "mV6X2y12WXMF"
      },
      "outputs": [],
      "source": [
        "#网络结构\n",
        "#输入层：4 个特征\n",
        "#隐藏层 1：3 个神经元，使用 ReLU 激活函数\n",
        "#隐藏层 2：2 个神经元，使用 Tanh 激活函数\n",
        "#输出层：2 个神经元，使用 Softmax 激活函数（用于多分类，输出概率和为 1）"
      ]
    },
    {
      "cell_type": "code",
      "source": [
        "import torch\n",
        "import torch.nn as nn\n",
        "import torch.optim as optim\n",
        "import matplotlib.pyplot as plt"
      ],
      "metadata": {
        "id": "okBztYUyr2qb"
      },
      "execution_count": 12,
      "outputs": []
    },
    {
      "cell_type": "code",
      "source": [
        "device = torch.device(\"cuda\" if torch.cuda.is_available() else \"cpu\")"
      ],
      "metadata": {
        "id": "-BodT5_Jsbm7"
      },
      "execution_count": 3,
      "outputs": []
    },
    {
      "cell_type": "code",
      "source": [
        "class SimpleNN(nn.Module):\n",
        "  def __init__(self, w1, w2, w3, b1, b2, b3):\n",
        "    super().__init__()\n",
        "    self.layer1 = nn.Linear(4, 3)\n",
        "    self.layer2 = nn.Linear(3, 2)\n",
        "    self.layer3 = nn.Linear(2, 2)\n",
        "\n",
        "    self.layer1.weight.data.copy_(w1)\n",
        "    self.layer1.bias.data.copy_(b1.flatten())\n",
        "    self.layer2.weight.data.copy_(w2)\n",
        "    self.layer2.bias.data.copy_(b2.flatten())\n",
        "    self.layer3.weight.data.copy_(w3)\n",
        "    self.layer3.bias.data.copy_(b3.flatten())\n",
        "\n",
        "  def forward(self, x):\n",
        "    x = torch.relu(self.layer1(x))\n",
        "    x = torch.tanh(self.layer2(x))\n",
        "    x = self.layer3(x)\n",
        "    return x\n"
      ],
      "metadata": {
        "id": "xv8DeEiRvYcE"
      },
      "execution_count": 27,
      "outputs": []
    },
    {
      "cell_type": "code",
      "source": [
        "#初始化参数\n",
        "w1 = torch.tensor([[0.2, 0.3, 0.1, 0.4],\n",
        "          [0.5, 0.6, 0.7, 0.8],\n",
        "          [0.9, 0.1, 0.2, 0.3]]).to(device) #shape(3,4)\n",
        "\n",
        "b1 = torch.tensor([[0.1],\n",
        "          [0.2],\n",
        "          [0.3]]).to(device) #shape(3,1)\n",
        "\n",
        "w2 = torch.tensor([[0.4, 0.5, 0.6],\n",
        "          [0.7, 0.8, 0.9]]).to(device) #shape (2,3)\n",
        "\n",
        "b2 = torch.tensor([[0.1],\n",
        "          [0.2]]).to(device) #shape (2,1)\n",
        "\n",
        "w3 = torch.tensor([[0.3, 0.4],\n",
        "          [0.5, 0.6]]).to(device) #shape (2,2)\n",
        "\n",
        "b3 = torch.tensor([[0.1],\n",
        "          [0.2]]).to(device)\n",
        "\n",
        "x= torch.tensor([[0.1, 0.2, 0.3, 0.4],\n",
        "        [0.5, 0.6, 0.7, 0.8],\n",
        "        [0.9, 1.0, 0.2, 0.3]]).to(device) #shape (3,4)\n",
        "\n",
        "y_true = torch.tensor([[1, 0],\n",
        "            [0, 1],\n",
        "            [1, 0]]).to(device) #shape (3,2)\n",
        "\n",
        "y_true_index = torch.argmax(y_true, dim=1).to(device)\n",
        "\n",
        "model = SimpleNN(w1, w2, w3, b1, b2, b3).to(device)\n",
        "\n",
        "criterion = nn.CrossEntropyLoss()\n",
        "optimizer = optim.SGD(model.parameters(), lr =0.05)\n",
        "\n",
        "losses = []\n",
        "epochs = 4000\n",
        "\n",
        "for epoch in range(epochs):\n",
        "  y_pred = model(x)\n",
        "\n",
        "  loss = criterion(y_pred, y_true_index)\n",
        "  losses.append(loss.item())\n",
        "\n",
        "  optimizer.zero_grad()\n",
        "  loss.backward()\n",
        "  optimizer.step()\n",
        "\n",
        "  if epoch%100 == 0:\n",
        "    print(f\"epoch: {epoch + 1}\",\n",
        "      f\"loss: {loss.item():.4f}\")\n",
        "\n",
        "with torch.no_grad():\n",
        "  y_pred = torch.softmax(model(x), dim=1)\n",
        "\n",
        "print(\"/n the prediction value is:\")\n",
        "print(y_pred)\n",
        "\n",
        "print(\"\\n the real value is:\")\n",
        "print(y_true)\n",
        "\n",
        "y_pred_index = torch.argmax(y_pred, dim=1)\n",
        "print(\"\\n the index of y_pred is:\")\n",
        "print(y_pred_index)\n",
        "\n",
        "print(\"\\n the index of y_true is:\")\n",
        "print(y_true_index)\n",
        "\n",
        "plt.plot(range(epochs), losses, \"blue\")\n",
        "plt.xlabel(\"epoch axis\")\n",
        "plt.ylabel(\"loss axis\")\n",
        "plt.title(\"gradiant descent\")\n",
        "plt.show()"
      ],
      "metadata": {
        "id": "FXRDP2yYW4VG",
        "colab": {
          "base_uri": "https://localhost:8080/",
          "height": 1000
        },
        "outputId": "454f9976-094a-4f4f-a2f2-7ad0da3c7494"
      },
      "execution_count": 45,
      "outputs": [
        {
          "output_type": "stream",
          "name": "stdout",
          "text": [
            "epoch: 1 loss: 0.7951\n",
            "epoch: 101 loss: 0.6389\n",
            "epoch: 201 loss: 0.6364\n",
            "epoch: 301 loss: 0.6336\n",
            "epoch: 401 loss: 0.6283\n",
            "epoch: 501 loss: 0.6150\n",
            "epoch: 601 loss: 0.5801\n",
            "epoch: 701 loss: 0.4814\n",
            "epoch: 801 loss: 0.2076\n",
            "epoch: 901 loss: 0.0792\n",
            "epoch: 1001 loss: 0.0444\n",
            "epoch: 1101 loss: 0.0301\n",
            "epoch: 1201 loss: 0.0226\n",
            "epoch: 1301 loss: 0.0181\n",
            "epoch: 1401 loss: 0.0151\n",
            "epoch: 1501 loss: 0.0129\n",
            "epoch: 1601 loss: 0.0113\n",
            "epoch: 1701 loss: 0.0100\n",
            "epoch: 1801 loss: 0.0090\n",
            "epoch: 1901 loss: 0.0081\n",
            "epoch: 2001 loss: 0.0074\n",
            "epoch: 2101 loss: 0.0068\n",
            "epoch: 2201 loss: 0.0063\n",
            "epoch: 2301 loss: 0.0059\n",
            "epoch: 2401 loss: 0.0055\n",
            "epoch: 2501 loss: 0.0052\n",
            "epoch: 2601 loss: 0.0049\n",
            "epoch: 2701 loss: 0.0046\n",
            "epoch: 2801 loss: 0.0044\n",
            "epoch: 2901 loss: 0.0042\n",
            "epoch: 3001 loss: 0.0040\n",
            "epoch: 3101 loss: 0.0038\n",
            "epoch: 3201 loss: 0.0036\n",
            "epoch: 3301 loss: 0.0035\n",
            "epoch: 3401 loss: 0.0033\n",
            "epoch: 3501 loss: 0.0032\n",
            "epoch: 3601 loss: 0.0031\n",
            "epoch: 3701 loss: 0.0030\n",
            "epoch: 3801 loss: 0.0029\n",
            "epoch: 3901 loss: 0.0028\n",
            "/n the prediction value is:\n",
            "tensor([[0.9977, 0.0023],\n",
            "        [0.0037, 0.9963],\n",
            "        [0.9980, 0.0020]], device='cuda:0')\n",
            "\n",
            " the real value is:\n",
            "tensor([[1, 0],\n",
            "        [0, 1],\n",
            "        [1, 0]], device='cuda:0')\n",
            "\n",
            " the index of y_pred is:\n",
            "tensor([0, 1, 0], device='cuda:0')\n",
            "\n",
            " the index of y_true is:\n",
            "tensor([0, 1, 0], device='cuda:0')\n"
          ]
        },
        {
          "output_type": "display_data",
          "data": {
            "text/plain": [
              "<Figure size 640x480 with 1 Axes>"
            ],
            "image/png": "[encoded data removed]"
          },
          "metadata": {}
        }
      ]
    }
  ]
}