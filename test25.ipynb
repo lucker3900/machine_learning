{
  "nbformat": 4,
  "nbformat_minor": 0,
  "metadata": {
    "colab": {
      "provenance": [],
      "authorship_tag": "ABX9TyOtXIeGMfEwz6LpZG6pp53N"
    },
    "kernelspec": {
      "name": "python3",
      "display_name": "Python 3"
    },
    "language_info": {
      "name": "python"
    }
  },
  "cells": [
    {
      "cell_type": "code",
      "execution_count": 1,
      "metadata": {
        "id": "Z77cU3KKTDu8"
      },
      "outputs": [],
      "source": [
        "#考虑一个神经网络，结构如下：\n",
        "\n",
        "#一个输入节点 (x)\n",
        "#一个隐藏层，包含两个神经元 (h_1, h_2)，均使用 ReLU 激活函数 ( \\text{ReLU}(z) = \\max(0, z) )\n",
        "#一个输出节点 (y_{pred})，使用 Sigmoid 激活函数 ( \\sigma(z) = \\frac{1}{1 + e^{-z}} )"
      ]
    },
    {
      "cell_type": "code",
      "source": [
        "import numpy as np\n",
        "import matplotlib.pyplot as plt"
      ],
      "metadata": {
        "id": "kfPi-SwyTGzY"
      },
      "execution_count": 2,
      "outputs": []
    },
    {
      "cell_type": "code",
      "source": [
        "#计算relu激活函数\n",
        "def relu(a):\n",
        "  return np.maximum(0, a)"
      ],
      "metadata": {
        "id": "04p0ykxfTYhp"
      },
      "execution_count": 3,
      "outputs": []
    },
    {
      "cell_type": "code",
      "source": [
        "#计算sigmoid函数\n",
        "def sigmoid(a):\n",
        "  return 1 / (1 + np.exp(-a))"
      ],
      "metadata": {
        "id": "ReFDWmmkXkqH"
      },
      "execution_count": 9,
      "outputs": []
    },
    {
      "cell_type": "code",
      "source": [
        "#前向传播，求输出y_pred的值\n",
        "def forward(w1, w2, b1, b2, x):\n",
        "  z= w1 * x + b1 #shape (2,)\n",
        "  h= relu(z) #shape (2,)\n",
        "\n",
        "  y_pred = sigmoid(np.dot(h, w2.T) + b2) #shape(2,)\n",
        "  return y_pred, h, z"
      ],
      "metadata": {
        "id": "xfQDcy4mTl5H"
      },
      "execution_count": 26,
      "outputs": []
    },
    {
      "cell_type": "code",
      "source": [
        "#求损失函数loss值\n",
        "def compute_loss(y_pred, y_true):\n",
        "  loss = (y_pred - y_true)**2 /2\n",
        "  return loss"
      ],
      "metadata": {
        "id": "Xfv9NquTWLgn"
      },
      "execution_count": 11,
      "outputs": []
    },
    {
      "cell_type": "code",
      "source": [
        "#反向传播，计算梯度\n",
        "def backward(y_pred, y_true, h, z, w2, x):\n",
        "  b2_grad = (y_pred - y_true) * y_pred * (1- y_pred)\n",
        "  w2_grad = b2_grad * h #shape (2,)\n",
        "\n",
        "  b1_grad = b2_grad.T * w2 * (z>0)\n",
        "  w1_grad = b1_grad * x\n",
        "  return w1_grad, w2_grad, b1_grad, b2_grad"
      ],
      "metadata": {
        "id": "HFKTUidZVxgK"
      },
      "execution_count": 17,
      "outputs": []
    },
    {
      "cell_type": "code",
      "source": [
        "#参数更新\n",
        "def update_params(w1, w2, b1, b2, w1_grad, w2_grad, b1_grad, b2_grad, learning_rate):\n",
        "  w1 -= learning_rate * w1_grad\n",
        "  w2 -= learning_rate * w2_grad\n",
        "  b1 -= learning_rate * b1_grad\n",
        "  b2 -= learning_rate * b2_grad\n",
        "  return w1, w2, b1, b2"
      ],
      "metadata": {
        "id": "YsLsJdYKbQsK"
      },
      "execution_count": 16,
      "outputs": []
    },
    {
      "cell_type": "code",
      "source": [
        "w1 = np.array([0.3, -0.2])\n",
        "\n",
        "#隐藏层神经元的偏置:\n",
        "b1 = np.array([0.1, 0.4])\n",
        "\n",
        "#隐藏层到输出层的权重:\n",
        "w2 = np.array([0.5, -0.4])\n",
        "\n",
        "#输出层神经元的偏置:\n",
        "b2 = -0.1\n",
        "\n",
        "#训练样本:\n",
        "x = 2.0\n",
        "y_true = 0.9\n",
        "\n",
        "learning_rate = 0.03\n",
        "losses = []\n",
        "\n",
        "epochs = 600\n",
        "\n",
        "for epoch in range(epochs):\n",
        "  y_pred, h, z = forward(w1, w2, b1, b2, x)\n",
        "  loss = compute_loss(y_pred, y_true)\n",
        "  losses.append(loss)\n",
        "\n",
        "  w1_grad, w2_grad, b1_grad, b2_grad = backward(y_pred, y_true, h, z, w2, x)\n",
        "  w1, w2, b1, b2 = update_params(w1, w2, b1, b2, w1_grad, w2_grad, b1_grad, b2_grad, learning_rate)\n",
        "\n",
        "  if epoch % 10 ==0:\n",
        "    print(\"epoch:\", epoch + 1,\n",
        "      \"loss:\", np.round(loss, 4),\n",
        "      \"y_pred:\",np.round(y_pred, 2),\n",
        "      \"w1_grad:\", np.round(w1_grad, 2),\n",
        "      \"w2_grad:\", np.round(w2_grad, 2),\n",
        "      \"b1_grad:\", np.round(b1_grad, 2),\n",
        "      \"b2_grad:\", np.round(b2_grad, 2)\n",
        "      )\n",
        "\n",
        "plt.plot(range(epochs), losses, \"yellow\")\n",
        "plt.xlabel(\"epoch axis\")\n",
        "plt.ylabel(\"loss axis\")\n",
        "plt.show()"
      ],
      "metadata": {
        "colab": {
          "base_uri": "https://localhost:8080/",
          "height": 1000
        },
        "id": "kgJ-xhJSTvDf",
        "outputId": "eb68560f-049f-4f6c-8b4b-6f975a0c96c4"
      },
      "execution_count": 31,
      "outputs": [
        {
          "output_type": "stream",
          "name": "stdout",
          "text": [
            "epoch: 1 loss: 0.0571 y_pred: 0.56 w1_grad: [-0.08  0.  ] w2_grad: [-0.06 -0.  ] b1_grad: [-0.04  0.  ] b2_grad: -0.08\n",
            "epoch: 11 loss: 0.0515 y_pred: 0.58 w1_grad: [-0.08  0.  ] w2_grad: [-0.06 -0.  ] b1_grad: [-0.04  0.  ] b2_grad: -0.08\n",
            "epoch: 21 loss: 0.0463 y_pred: 0.6 w1_grad: [-0.08  0.  ] w2_grad: [-0.06 -0.  ] b1_grad: [-0.04  0.  ] b2_grad: -0.07\n",
            "epoch: 31 loss: 0.0415 y_pred: 0.61 w1_grad: [-0.08  0.  ] w2_grad: [-0.06 -0.  ] b1_grad: [-0.04  0.  ] b2_grad: -0.07\n",
            "epoch: 41 loss: 0.037 y_pred: 0.63 w1_grad: [-0.07  0.  ] w2_grad: [-0.06 -0.  ] b1_grad: [-0.04  0.  ] b2_grad: -0.06\n",
            "epoch: 51 loss: 0.033 y_pred: 0.64 w1_grad: [-0.07  0.  ] w2_grad: [-0.06 -0.  ] b1_grad: [-0.03  0.  ] b2_grad: -0.06\n",
            "epoch: 61 loss: 0.0293 y_pred: 0.66 w1_grad: [-0.07  0.  ] w2_grad: [-0.06 -0.  ] b1_grad: [-0.03  0.  ] b2_grad: -0.05\n",
            "epoch: 71 loss: 0.026 y_pred: 0.67 w1_grad: [-0.06  0.  ] w2_grad: [-0.05 -0.  ] b1_grad: [-0.03  0.  ] b2_grad: -0.05\n",
            "epoch: 81 loss: 0.023 y_pred: 0.69 w1_grad: [-0.06  0.  ] w2_grad: [-0.05 -0.  ] b1_grad: [-0.03  0.  ] b2_grad: -0.05\n",
            "epoch: 91 loss: 0.0204 y_pred: 0.7 w1_grad: [-0.06  0.  ] w2_grad: [-0.05 -0.  ] b1_grad: [-0.03  0.  ] b2_grad: -0.04\n",
            "epoch: 101 loss: 0.0181 y_pred: 0.71 w1_grad: [-0.05  0.  ] w2_grad: [-0.05 -0.  ] b1_grad: [-0.03  0.  ] b2_grad: -0.04\n",
            "epoch: 111 loss: 0.016 y_pred: 0.72 w1_grad: [-0.05  0.  ] w2_grad: [-0.05 -0.  ] b1_grad: [-0.02  0.  ] b2_grad: -0.04\n",
            "epoch: 121 loss: 0.0142 y_pred: 0.73 w1_grad: [-0.05  0.  ] w2_grad: [-0.04 -0.  ] b1_grad: [-0.02  0.  ] b2_grad: -0.03\n",
            "epoch: 131 loss: 0.0126 y_pred: 0.74 w1_grad: [-0.04  0.  ] w2_grad: [-0.04 -0.  ] b1_grad: [-0.02  0.  ] b2_grad: -0.03\n",
            "epoch: 141 loss: 0.0113 y_pred: 0.75 w1_grad: [-0.04  0.  ] w2_grad: [-0.04 -0.  ] b1_grad: [-0.02  0.  ] b2_grad: -0.03\n",
            "epoch: 151 loss: 0.01 y_pred: 0.76 w1_grad: [-0.04  0.  ] w2_grad: [-0.04 -0.  ] b1_grad: [-0.02  0.  ] b2_grad: -0.03\n",
            "epoch: 161 loss: 0.009 y_pred: 0.77 w1_grad: [-0.04  0.  ] w2_grad: [-0.03 -0.  ] b1_grad: [-0.02  0.  ] b2_grad: -0.02\n",
            "epoch: 171 loss: 0.008 y_pred: 0.77 w1_grad: [-0.03  0.  ] w2_grad: [-0.03 -0.  ] b1_grad: [-0.02  0.  ] b2_grad: -0.02\n",
            "epoch: 181 loss: 0.0072 y_pred: 0.78 w1_grad: [-0.03  0.  ] w2_grad: [-0.03 -0.  ] b1_grad: [-0.02  0.  ] b2_grad: -0.02\n",
            "epoch: 191 loss: 0.0065 y_pred: 0.79 w1_grad: [-0.03  0.  ] w2_grad: [-0.03 -0.  ] b1_grad: [-0.01  0.  ] b2_grad: -0.02\n",
            "epoch: 201 loss: 0.0058 y_pred: 0.79 w1_grad: [-0.03  0.  ] w2_grad: [-0.03 -0.  ] b1_grad: [-0.01  0.  ] b2_grad: -0.02\n",
            "epoch: 211 loss: 0.0053 y_pred: 0.8 w1_grad: [-0.03  0.  ] w2_grad: [-0.03 -0.  ] b1_grad: [-0.01  0.  ] b2_grad: -0.02\n",
            "epoch: 221 loss: 0.0048 y_pred: 0.8 w1_grad: [-0.02  0.  ] w2_grad: [-0.02 -0.  ] b1_grad: [-0.01  0.  ] b2_grad: -0.02\n",
            "epoch: 231 loss: 0.0043 y_pred: 0.81 w1_grad: [-0.02  0.  ] w2_grad: [-0.02 -0.  ] b1_grad: [-0.01  0.  ] b2_grad: -0.01\n",
            "epoch: 241 loss: 0.0039 y_pred: 0.81 w1_grad: [-0.02  0.  ] w2_grad: [-0.02 -0.  ] b1_grad: [-0.01  0.  ] b2_grad: -0.01\n",
            "epoch: 251 loss: 0.0036 y_pred: 0.82 w1_grad: [-0.02  0.  ] w2_grad: [-0.02 -0.  ] b1_grad: [-0.01  0.  ] b2_grad: -0.01\n",
            "epoch: 261 loss: 0.0033 y_pred: 0.82 w1_grad: [-0.02  0.  ] w2_grad: [-0.02 -0.  ] b1_grad: [-0.01  0.  ] b2_grad: -0.01\n",
            "epoch: 271 loss: 0.003 y_pred: 0.82 w1_grad: [-0.02  0.  ] w2_grad: [-0.02 -0.  ] b1_grad: [-0.01  0.  ] b2_grad: -0.01\n",
            "epoch: 281 loss: 0.0027 y_pred: 0.83 w1_grad: [-0.02  0.  ] w2_grad: [-0.02 -0.  ] b1_grad: [-0.01  0.  ] b2_grad: -0.01\n",
            "epoch: 291 loss: 0.0025 y_pred: 0.83 w1_grad: [-0.02  0.  ] w2_grad: [-0.02 -0.  ] b1_grad: [-0.01  0.  ] b2_grad: -0.01\n",
            "epoch: 301 loss: 0.0023 y_pred: 0.83 w1_grad: [-0.02  0.  ] w2_grad: [-0.02 -0.  ] b1_grad: [-0.01  0.  ] b2_grad: -0.01\n",
            "epoch: 311 loss: 0.0021 y_pred: 0.84 w1_grad: [-0.02  0.  ] w2_grad: [-0.01 -0.  ] b1_grad: [-0.01  0.  ] b2_grad: -0.01\n",
            "epoch: 321 loss: 0.0019 y_pred: 0.84 w1_grad: [-0.01  0.  ] w2_grad: [-0.01 -0.  ] b1_grad: [-0.01  0.  ] b2_grad: -0.01\n",
            "epoch: 331 loss: 0.0018 y_pred: 0.84 w1_grad: [-0.01  0.  ] w2_grad: [-0.01 -0.  ] b1_grad: [-0.01  0.  ] b2_grad: -0.01\n",
            "epoch: 341 loss: 0.0016 y_pred: 0.84 w1_grad: [-0.01  0.  ] w2_grad: [-0.01 -0.  ] b1_grad: [-0.01  0.  ] b2_grad: -0.01\n",
            "epoch: 351 loss: 0.0015 y_pred: 0.84 w1_grad: [-0.01  0.  ] w2_grad: [-0.01 -0.  ] b1_grad: [-0.01  0.  ] b2_grad: -0.01\n",
            "epoch: 361 loss: 0.0014 y_pred: 0.85 w1_grad: [-0.01  0.  ] w2_grad: [-0.01 -0.  ] b1_grad: [-0.01  0.  ] b2_grad: -0.01\n",
            "epoch: 371 loss: 0.0013 y_pred: 0.85 w1_grad: [-0.01  0.  ] w2_grad: [-0.01 -0.  ] b1_grad: [-0.01  0.  ] b2_grad: -0.01\n",
            "epoch: 381 loss: 0.0012 y_pred: 0.85 w1_grad: [-0.01  0.  ] w2_grad: [-0.01 -0.  ] b1_grad: [-0.01  0.  ] b2_grad: -0.01\n",
            "epoch: 391 loss: 0.0011 y_pred: 0.85 w1_grad: [-0.01  0.  ] w2_grad: [-0.01 -0.  ] b1_grad: [-0.01  0.  ] b2_grad: -0.01\n",
            "epoch: 401 loss: 0.001 y_pred: 0.85 w1_grad: [-0.01  0.  ] w2_grad: [-0.01 -0.  ] b1_grad: [-0.  0.] b2_grad: -0.01\n",
            "epoch: 411 loss: 0.001 y_pred: 0.86 w1_grad: [-0.01  0.  ] w2_grad: [-0.01 -0.  ] b1_grad: [-0.  0.] b2_grad: -0.01\n",
            "epoch: 421 loss: 0.0009 y_pred: 0.86 w1_grad: [-0.01  0.  ] w2_grad: [-0.01 -0.  ] b1_grad: [-0.  0.] b2_grad: -0.01\n",
            "epoch: 431 loss: 0.0008 y_pred: 0.86 w1_grad: [-0.01  0.  ] w2_grad: [-0.01 -0.  ] b1_grad: [-0.  0.] b2_grad: -0.0\n",
            "epoch: 441 loss: 0.0008 y_pred: 0.86 w1_grad: [-0.01  0.  ] w2_grad: [-0.01 -0.  ] b1_grad: [-0.  0.] b2_grad: -0.0\n",
            "epoch: 451 loss: 0.0007 y_pred: 0.86 w1_grad: [-0.01  0.  ] w2_grad: [-0.01 -0.  ] b1_grad: [-0.  0.] b2_grad: -0.0\n",
            "epoch: 461 loss: 0.0007 y_pred: 0.86 w1_grad: [-0.01  0.  ] w2_grad: [-0.01 -0.  ] b1_grad: [-0.  0.] b2_grad: -0.0\n",
            "epoch: 471 loss: 0.0006 y_pred: 0.86 w1_grad: [-0.01  0.  ] w2_grad: [-0.01 -0.  ] b1_grad: [-0.  0.] b2_grad: -0.0\n",
            "epoch: 481 loss: 0.0006 y_pred: 0.87 w1_grad: [-0.01  0.  ] w2_grad: [-0.01 -0.  ] b1_grad: [-0.  0.] b2_grad: -0.0\n",
            "epoch: 491 loss: 0.0005 y_pred: 0.87 w1_grad: [-0.01  0.  ] w2_grad: [-0.01 -0.  ] b1_grad: [-0.  0.] b2_grad: -0.0\n",
            "epoch: 501 loss: 0.0005 y_pred: 0.87 w1_grad: [-0.01  0.  ] w2_grad: [-0.01 -0.  ] b1_grad: [-0.  0.] b2_grad: -0.0\n",
            "epoch: 511 loss: 0.0005 y_pred: 0.87 w1_grad: [-0.01  0.  ] w2_grad: [-0.01 -0.  ] b1_grad: [-0.  0.] b2_grad: -0.0\n",
            "epoch: 521 loss: 0.0004 y_pred: 0.87 w1_grad: [-0.01  0.  ] w2_grad: [-0.01 -0.  ] b1_grad: [-0.  0.] b2_grad: -0.0\n",
            "epoch: 531 loss: 0.0004 y_pred: 0.87 w1_grad: [-0.01  0.  ] w2_grad: [-0.01 -0.  ] b1_grad: [-0.  0.] b2_grad: -0.0\n",
            "epoch: 541 loss: 0.0004 y_pred: 0.87 w1_grad: [-0.01  0.  ] w2_grad: [-0.01 -0.  ] b1_grad: [-0.  0.] b2_grad: -0.0\n",
            "epoch: 551 loss: 0.0004 y_pred: 0.87 w1_grad: [-0.01  0.  ] w2_grad: [-0.01 -0.  ] b1_grad: [-0.  0.] b2_grad: -0.0\n",
            "epoch: 561 loss: 0.0003 y_pred: 0.87 w1_grad: [-0.01  0.  ] w2_grad: [-0.01 -0.  ] b1_grad: [-0.  0.] b2_grad: -0.0\n",
            "epoch: 571 loss: 0.0003 y_pred: 0.87 w1_grad: [-0.01  0.  ] w2_grad: [-0.01 -0.  ] b1_grad: [-0.  0.] b2_grad: -0.0\n",
            "epoch: 581 loss: 0.0003 y_pred: 0.88 w1_grad: [-0.  0.] w2_grad: [-0.01 -0.  ] b1_grad: [-0.  0.] b2_grad: -0.0\n",
            "epoch: 591 loss: 0.0003 y_pred: 0.88 w1_grad: [-0.  0.] w2_grad: [-0. -0.] b1_grad: [-0.  0.] b2_grad: -0.0\n"
          ]
        },
        {
          "output_type": "display_data",
          "data": {
            "text/plain": [
              "<Figure size 640x480 with 1 Axes>"
            ],
            "image/png": "[encoded data removed]"
          },
          "metadata": {}
        }
      ]
    },
    {
      "cell_type": "code",
      "source": [
        "import torch\n",
        "import matplotlib.pyplot as plt"
      ],
      "metadata": {
        "id": "1skhl_bddW7-"
      },
      "execution_count": 21,
      "outputs": []
    },
    {
      "cell_type": "code",
      "source": [
        "#前向传播,求输出y_pred的值\n",
        "def forward(w1, w2, b1, b2, x):\n",
        "  z= w1 * x + b1 #shape (2,)\n",
        "  h= torch.relu(z) #shape (2,)\n",
        "\n",
        "  zout = torch.matmul(h, w2.t()) + b2 #shape(2,)\n",
        "  y_pred = torch.sigmoid(zout)\n",
        "  return y_pred, h, z"
      ],
      "metadata": {
        "id": "nKZiVPreeNfK"
      },
      "execution_count": 32,
      "outputs": []
    },
    {
      "cell_type": "code",
      "source": [
        "#求损失函数loss\n",
        "def compute_loss(y_pred, y_true):\n",
        "  loss = (y_pred - y_true) **2 / 2\n",
        "  return loss"
      ],
      "metadata": {
        "id": "yV00z2nPfHv2"
      },
      "execution_count": 24,
      "outputs": []
    },
    {
      "cell_type": "code",
      "source": [
        "#初始化参数\n",
        "w1 = torch.tensor([0.3, -0.2], requires_grad=True)\n",
        "\n",
        "#隐藏层神经元的偏置:\n",
        "b1 = torch.tensor([0.1, 0.4], requires_grad=True)\n",
        "\n",
        "#隐藏层到输出层的权重:\n",
        "w2 = torch.tensor([0.5, -0.4], requires_grad=True)\n",
        "\n",
        "#输出层神经元的偏置:\n",
        "b2 = torch.tensor([-0.1], requires_grad=True)\n",
        "\n",
        "#训练样本:\n",
        "x = 2.0\n",
        "y_true = 0.9\n",
        "\n",
        "learning_rate = 0.03\n",
        "losses = []\n",
        "\n",
        "epochs = 600\n",
        "\n",
        "for epoch in range(epochs):\n",
        "  y_pred, h, z = forward(w1, w2, b1, b2, x)\n",
        "  loss = compute_loss(y_pred, y_true)\n",
        "  losses.append(loss.item())\n",
        "\n",
        "  if w1.grad is not None:\n",
        "    w1.grad.zero_()\n",
        "    w2.grad.zero_()\n",
        "    b1.grad.zero_()\n",
        "    b2.grad.zero_()\n",
        "\n",
        "  #反向传导\n",
        "  loss.backward()\n",
        "\n",
        "  #更新参数params\n",
        "  with torch.no_grad():\n",
        "    w1 -= learning_rate * w1.grad\n",
        "    w2 -= learning_rate * w2.grad\n",
        "    b1 -= learning_rate * b1.grad\n",
        "    b2 -= learning_rate * b2.grad\n",
        "\n",
        "  if epoch %10 == 0:\n",
        "    print(f\"epoch: {epoch + 1}\",\n",
        "      f\"loss: {loss.item():0.4f}\",\n",
        "          f\"y_pred: {y_pred.item():0.4f}\",\n",
        "          f\"w1_grad: {w1_grad.round(2)}\",\n",
        "          f\"w2_grad: {w2_grad.round(2)}\",\n",
        "          f\"b1_grad: {b1_grad.round(2)}\",\n",
        "          f\"b2_grad: {b2_grad.round(2)}\"\n",
        "      )\n",
        "\n",
        "plt.plot(range(epochs), losses, \"blue\")\n",
        "plt.xlabel(\"epoch axis\")\n",
        "plt.ylabel(\"loss axis\")\n",
        "plt.show()"
      ],
      "metadata": {
        "colab": {
          "base_uri": "https://localhost:8080/",
          "height": 1000
        },
        "id": "zip0HWuYdkrY",
        "outputId": "ac58db8d-e888-4415-b69a-7af15fc75d28"
      },
      "execution_count": 42,
      "outputs": [
        {
          "output_type": "stream",
          "name": "stdout",
          "text": [
            "epoch: 1 loss: 0.0571 y_pred: 0.5622 w1_grad: [-0.  0.] w2_grad: [-0. -0.] b1_grad: [-0.  0.] b2_grad: -0.0\n",
            "epoch: 11 loss: 0.0515 y_pred: 0.5790 w1_grad: [-0.  0.] w2_grad: [-0. -0.] b1_grad: [-0.  0.] b2_grad: -0.0\n",
            "epoch: 21 loss: 0.0463 y_pred: 0.5956 w1_grad: [-0.  0.] w2_grad: [-0. -0.] b1_grad: [-0.  0.] b2_grad: -0.0\n",
            "epoch: 31 loss: 0.0415 y_pred: 0.6119 w1_grad: [-0.  0.] w2_grad: [-0. -0.] b1_grad: [-0.  0.] b2_grad: -0.0\n",
            "epoch: 41 loss: 0.0370 y_pred: 0.6279 w1_grad: [-0.  0.] w2_grad: [-0. -0.] b1_grad: [-0.  0.] b2_grad: -0.0\n",
            "epoch: 51 loss: 0.0330 y_pred: 0.6433 w1_grad: [-0.  0.] w2_grad: [-0. -0.] b1_grad: [-0.  0.] b2_grad: -0.0\n",
            "epoch: 61 loss: 0.0293 y_pred: 0.6580 w1_grad: [-0.  0.] w2_grad: [-0. -0.] b1_grad: [-0.  0.] b2_grad: -0.0\n",
            "epoch: 71 loss: 0.0260 y_pred: 0.6721 w1_grad: [-0.  0.] w2_grad: [-0. -0.] b1_grad: [-0.  0.] b2_grad: -0.0\n",
            "epoch: 81 loss: 0.0230 y_pred: 0.6855 w1_grad: [-0.  0.] w2_grad: [-0. -0.] b1_grad: [-0.  0.] b2_grad: -0.0\n",
            "epoch: 91 loss: 0.0204 y_pred: 0.6981 w1_grad: [-0.  0.] w2_grad: [-0. -0.] b1_grad: [-0.  0.] b2_grad: -0.0\n",
            "epoch: 101 loss: 0.0181 y_pred: 0.7100 w1_grad: [-0.  0.] w2_grad: [-0. -0.] b1_grad: [-0.  0.] b2_grad: -0.0\n",
            "epoch: 111 loss: 0.0160 y_pred: 0.7210 w1_grad: [-0.  0.] w2_grad: [-0. -0.] b1_grad: [-0.  0.] b2_grad: -0.0\n",
            "epoch: 121 loss: 0.0142 y_pred: 0.7314 w1_grad: [-0.  0.] w2_grad: [-0. -0.] b1_grad: [-0.  0.] b2_grad: -0.0\n",
            "epoch: 131 loss: 0.0126 y_pred: 0.7410 w1_grad: [-0.  0.] w2_grad: [-0. -0.] b1_grad: [-0.  0.] b2_grad: -0.0\n",
            "epoch: 141 loss: 0.0113 y_pred: 0.7500 w1_grad: [-0.  0.] w2_grad: [-0. -0.] b1_grad: [-0.  0.] b2_grad: -0.0\n",
            "epoch: 151 loss: 0.0100 y_pred: 0.7583 w1_grad: [-0.  0.] w2_grad: [-0. -0.] b1_grad: [-0.  0.] b2_grad: -0.0\n",
            "epoch: 161 loss: 0.0090 y_pred: 0.7660 w1_grad: [-0.  0.] w2_grad: [-0. -0.] b1_grad: [-0.  0.] b2_grad: -0.0\n",
            "epoch: 171 loss: 0.0080 y_pred: 0.7732 w1_grad: [-0.  0.] w2_grad: [-0. -0.] b1_grad: [-0.  0.] b2_grad: -0.0\n",
            "epoch: 181 loss: 0.0072 y_pred: 0.7799 w1_grad: [-0.  0.] w2_grad: [-0. -0.] b1_grad: [-0.  0.] b2_grad: -0.0\n",
            "epoch: 191 loss: 0.0065 y_pred: 0.7861 w1_grad: [-0.  0.] w2_grad: [-0. -0.] b1_grad: [-0.  0.] b2_grad: -0.0\n",
            "epoch: 201 loss: 0.0058 y_pred: 0.7919 w1_grad: [-0.  0.] w2_grad: [-0. -0.] b1_grad: [-0.  0.] b2_grad: -0.0\n",
            "epoch: 211 loss: 0.0053 y_pred: 0.7973 w1_grad: [-0.  0.] w2_grad: [-0. -0.] b1_grad: [-0.  0.] b2_grad: -0.0\n",
            "epoch: 221 loss: 0.0048 y_pred: 0.8023 w1_grad: [-0.  0.] w2_grad: [-0. -0.] b1_grad: [-0.  0.] b2_grad: -0.0\n",
            "epoch: 231 loss: 0.0043 y_pred: 0.8070 w1_grad: [-0.  0.] w2_grad: [-0. -0.] b1_grad: [-0.  0.] b2_grad: -0.0\n",
            "epoch: 241 loss: 0.0039 y_pred: 0.8114 w1_grad: [-0.  0.] w2_grad: [-0. -0.] b1_grad: [-0.  0.] b2_grad: -0.0\n",
            "epoch: 251 loss: 0.0036 y_pred: 0.8155 w1_grad: [-0.  0.] w2_grad: [-0. -0.] b1_grad: [-0.  0.] b2_grad: -0.0\n",
            "epoch: 261 loss: 0.0033 y_pred: 0.8193 w1_grad: [-0.  0.] w2_grad: [-0. -0.] b1_grad: [-0.  0.] b2_grad: -0.0\n",
            "epoch: 271 loss: 0.0030 y_pred: 0.8229 w1_grad: [-0.  0.] w2_grad: [-0. -0.] b1_grad: [-0.  0.] b2_grad: -0.0\n",
            "epoch: 281 loss: 0.0027 y_pred: 0.8263 w1_grad: [-0.  0.] w2_grad: [-0. -0.] b1_grad: [-0.  0.] b2_grad: -0.0\n",
            "epoch: 291 loss: 0.0025 y_pred: 0.8294 w1_grad: [-0.  0.] w2_grad: [-0. -0.] b1_grad: [-0.  0.] b2_grad: -0.0\n",
            "epoch: 301 loss: 0.0023 y_pred: 0.8324 w1_grad: [-0.  0.] w2_grad: [-0. -0.] b1_grad: [-0.  0.] b2_grad: -0.0\n",
            "epoch: 311 loss: 0.0021 y_pred: 0.8352 w1_grad: [-0.  0.] w2_grad: [-0. -0.] b1_grad: [-0.  0.] b2_grad: -0.0\n",
            "epoch: 321 loss: 0.0019 y_pred: 0.8379 w1_grad: [-0.  0.] w2_grad: [-0. -0.] b1_grad: [-0.  0.] b2_grad: -0.0\n",
            "epoch: 331 loss: 0.0018 y_pred: 0.8404 w1_grad: [-0.  0.] w2_grad: [-0. -0.] b1_grad: [-0.  0.] b2_grad: -0.0\n",
            "epoch: 341 loss: 0.0016 y_pred: 0.8428 w1_grad: [-0.  0.] w2_grad: [-0. -0.] b1_grad: [-0.  0.] b2_grad: -0.0\n",
            "epoch: 351 loss: 0.0015 y_pred: 0.8450 w1_grad: [-0.  0.] w2_grad: [-0. -0.] b1_grad: [-0.  0.] b2_grad: -0.0\n",
            "epoch: 361 loss: 0.0014 y_pred: 0.8471 w1_grad: [-0.  0.] w2_grad: [-0. -0.] b1_grad: [-0.  0.] b2_grad: -0.0\n",
            "epoch: 371 loss: 0.0013 y_pred: 0.8491 w1_grad: [-0.  0.] w2_grad: [-0. -0.] b1_grad: [-0.  0.] b2_grad: -0.0\n",
            "epoch: 381 loss: 0.0012 y_pred: 0.8510 w1_grad: [-0.  0.] w2_grad: [-0. -0.] b1_grad: [-0.  0.] b2_grad: -0.0\n",
            "epoch: 391 loss: 0.0011 y_pred: 0.8529 w1_grad: [-0.  0.] w2_grad: [-0. -0.] b1_grad: [-0.  0.] b2_grad: -0.0\n",
            "epoch: 401 loss: 0.0010 y_pred: 0.8546 w1_grad: [-0.  0.] w2_grad: [-0. -0.] b1_grad: [-0.  0.] b2_grad: -0.0\n",
            "epoch: 411 loss: 0.0010 y_pred: 0.8562 w1_grad: [-0.  0.] w2_grad: [-0. -0.] b1_grad: [-0.  0.] b2_grad: -0.0\n",
            "epoch: 421 loss: 0.0009 y_pred: 0.8578 w1_grad: [-0.  0.] w2_grad: [-0. -0.] b1_grad: [-0.  0.] b2_grad: -0.0\n",
            "epoch: 431 loss: 0.0008 y_pred: 0.8593 w1_grad: [-0.  0.] w2_grad: [-0. -0.] b1_grad: [-0.  0.] b2_grad: -0.0\n",
            "epoch: 441 loss: 0.0008 y_pred: 0.8607 w1_grad: [-0.  0.] w2_grad: [-0. -0.] b1_grad: [-0.  0.] b2_grad: -0.0\n",
            "epoch: 451 loss: 0.0007 y_pred: 0.8620 w1_grad: [-0.  0.] w2_grad: [-0. -0.] b1_grad: [-0.  0.] b2_grad: -0.0\n",
            "epoch: 461 loss: 0.0007 y_pred: 0.8633 w1_grad: [-0.  0.] w2_grad: [-0. -0.] b1_grad: [-0.  0.] b2_grad: -0.0\n",
            "epoch: 471 loss: 0.0006 y_pred: 0.8646 w1_grad: [-0.  0.] w2_grad: [-0. -0.] b1_grad: [-0.  0.] b2_grad: -0.0\n",
            "epoch: 481 loss: 0.0006 y_pred: 0.8658 w1_grad: [-0.  0.] w2_grad: [-0. -0.] b1_grad: [-0.  0.] b2_grad: -0.0\n",
            "epoch: 491 loss: 0.0005 y_pred: 0.8669 w1_grad: [-0.  0.] w2_grad: [-0. -0.] b1_grad: [-0.  0.] b2_grad: -0.0\n",
            "epoch: 501 loss: 0.0005 y_pred: 0.8680 w1_grad: [-0.  0.] w2_grad: [-0. -0.] b1_grad: [-0.  0.] b2_grad: -0.0\n",
            "epoch: 511 loss: 0.0005 y_pred: 0.8690 w1_grad: [-0.  0.] w2_grad: [-0. -0.] b1_grad: [-0.  0.] b2_grad: -0.0\n",
            "epoch: 521 loss: 0.0004 y_pred: 0.8700 w1_grad: [-0.  0.] w2_grad: [-0. -0.] b1_grad: [-0.  0.] b2_grad: -0.0\n",
            "epoch: 531 loss: 0.0004 y_pred: 0.8710 w1_grad: [-0.  0.] w2_grad: [-0. -0.] b1_grad: [-0.  0.] b2_grad: -0.0\n",
            "epoch: 541 loss: 0.0004 y_pred: 0.8719 w1_grad: [-0.  0.] w2_grad: [-0. -0.] b1_grad: [-0.  0.] b2_grad: -0.0\n",
            "epoch: 551 loss: 0.0004 y_pred: 0.8728 w1_grad: [-0.  0.] w2_grad: [-0. -0.] b1_grad: [-0.  0.] b2_grad: -0.0\n",
            "epoch: 561 loss: 0.0003 y_pred: 0.8736 w1_grad: [-0.  0.] w2_grad: [-0. -0.] b1_grad: [-0.  0.] b2_grad: -0.0\n",
            "epoch: 571 loss: 0.0003 y_pred: 0.8744 w1_grad: [-0.  0.] w2_grad: [-0. -0.] b1_grad: [-0.  0.] b2_grad: -0.0\n",
            "epoch: 581 loss: 0.0003 y_pred: 0.8752 w1_grad: [-0.  0.] w2_grad: [-0. -0.] b1_grad: [-0.  0.] b2_grad: -0.0\n",
            "epoch: 591 loss: 0.0003 y_pred: 0.8760 w1_grad: [-0.  0.] w2_grad: [-0. -0.] b1_grad: [-0.  0.] b2_grad: -0.0\n"
          ]
        },
        {
          "output_type": "display_data",
          "data": {
            "text/plain": [
              "<Figure size 640x480 with 1 Axes>"
            ],
            "image/png": "[encoded data removed]"
          },
          "metadata": {}
        }
      ]
    }
  ]
}