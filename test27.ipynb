{
  "nbformat": 4,
  "nbformat_minor": 0,
  "metadata": {
    "colab": {
      "provenance": [],
      "authorship_tag": "ABX9TyOuHgg58EUFN9j+ZhbrqgXa"
    },
    "kernelspec": {
      "name": "python3",
      "display_name": "Python 3"
    },
    "language_info": {
      "name": "python"
    }
  },
  "cells": [
    {
      "cell_type": "code",
      "source": [
        "#考虑一个具有两个隐藏层的神经网络，结构如下：\n",
        "\n",
        "#一个输入节点 (x) (但我们会输入一个批次的 (X))\n",
        "#第一个隐藏层，包含 2 个 神经元 (h^{(1)}_1, h^{(1)}_2)，均使用 ReLU 激活函数。\n",
        "#第二个隐藏层，包含 2 个 神经元 (h^{(2)}_1, h^{(2)}_2)，均使用 ReLU 激活函数。\n",
        "#一个输出节点 (y_{pred})，使用 Sigmoid 激活函数。"
      ],
      "metadata": {
        "id": "sUwhofr3-wVu"
      },
      "execution_count": 123,
      "outputs": []
    },
    {
      "cell_type": "code",
      "source": [
        "import numpy as np\n",
        "import matplotlib.pyplot as plt"
      ],
      "metadata": {
        "id": "XFNVNSIcj_84"
      },
      "execution_count": 124,
      "outputs": []
    },
    {
      "cell_type": "code",
      "source": [
        "#添加relu函数\n",
        "def relu(a):\n",
        "  return np.maximum(0, a)"
      ],
      "metadata": {
        "id": "Ax1K4_4jkAkM"
      },
      "execution_count": 125,
      "outputs": []
    },
    {
      "cell_type": "code",
      "source": [
        "#添加sigmoid激活函数\n",
        "def sigmoid(a):\n",
        "  return 1 / (1 + np.exp(-a))"
      ],
      "metadata": {
        "id": "1sbq_wQXkDi2"
      },
      "execution_count": 126,
      "outputs": []
    },
    {
      "cell_type": "code",
      "source": [
        "#前向传播，计算y_pred输出\n",
        "def forward(w1, w2, w3, b1, b2, b3, x):\n",
        "  z1 = np.dot(x, w1) + b1 #shape (2,2)\n",
        "  h1 = relu(z1) #shape (2,2)\n",
        "\n",
        "  z2 = np.dot(h1, w2) + b2 #shape (2,2)\n",
        "  h2 = relu(z2)\n",
        "\n",
        "  zout = np.dot(h2, w3) + b3 #shape (2,1)\n",
        "  y_pred = sigmoid(zout) #shape (2,1)\n",
        "  return y_pred, z1, z2, h1, h2"
      ],
      "metadata": {
        "id": "nUhKcn7IkHxM"
      },
      "execution_count": 127,
      "outputs": []
    },
    {
      "cell_type": "code",
      "source": [
        "#求损失函数loss\n",
        "def compute_loss(y_pred, y_true):\n",
        "  loss = (y_pred - y_true)**2 /2\n",
        "  return loss"
      ],
      "metadata": {
        "id": "e-u4C0lMkOAz"
      },
      "execution_count": 128,
      "outputs": []
    },
    {
      "cell_type": "code",
      "source": [
        "#反向传播，计算梯度\n",
        "def backward(y_pred, y_true, h1, h2, z1, z2, w2, w3, x):\n",
        "  dzout = (y_pred - y_true) * y_pred * (1- y_pred) #shape (2,1)\n",
        "  b3_grad = np.mean(dzout, axis=0, keepdims=True).flatten()\n",
        "  w3_grad = np.dot(h2.T, dzout) #shape (2,1)\n",
        "\n",
        "  dh2 = np.dot(dzout, w3.T) #shape (2,2)\n",
        "  dz2 = dh2 * (z2>0)\n",
        "  b2_grad = np.mean(dz2, axis=0, keepdims=True)\n",
        "  w2_grad = np.dot(h1.T, dz2) #shape (2,2)\n",
        "\n",
        "  dh1 = np.dot(dz2, w2.T) #shape (2,2)\n",
        "  dz1 = dh1 * (z1>0) #shape(2,2)\n",
        "  b1_grad = np.mean(dz1, axis=0, keepdims=True)\n",
        "  w1_grad = np.dot(x.T, dz1) #shape (1,2)\n",
        "  return w1_grad, w2_grad, w3_grad, b1_grad, b2_grad, b3_grad"
      ],
      "metadata": {
        "id": "RLh10wxkkPE9"
      },
      "execution_count": 144,
      "outputs": []
    },
    {
      "cell_type": "code",
      "source": [
        "#更新参数,weight, bias\n",
        "def update_params(w1, w2, w3, b1, b2, b3, w1_grad, w2_grad, w3_grad, b1_grad, b2_grad, b3_grad, learning_rate):\n",
        "  w1 -= learning_rate * w1_grad\n",
        "  w2 -= learning_rate * w2_grad\n",
        "  w3 -= learning_rate * w3_grad\n",
        "  b1 -= learning_rate * b1_grad\n",
        "  b2 -= learning_rate * b2_grad\n",
        "  b3 -= learning_rate * b3_grad\n",
        "  return w1, w2, w3, b1, b2, b3"
      ],
      "metadata": {
        "id": "l2nMZIglkUBc"
      },
      "execution_count": 130,
      "outputs": []
    },
    {
      "cell_type": "code",
      "source": [
        "#参数初始化\n",
        "w1 = np.array([[0.2, 0.3]])\n",
        "\n",
        "b1 = np.array([[0.1, -0.1]])\n",
        "\n",
        "w2 = np.array([[0.4, -0.1],\n",
        "        [0.2, 0.5]])\n",
        "\n",
        "b2 = np.array([[-0.2, 0.3]])\n",
        "\n",
        "w3 = np.array([[-0.6],\n",
        "        [0.7]])\n",
        "\n",
        "b3 = np.array([0.1])\n",
        "\n",
        "x = np.array([[1.5],\n",
        "        [0.5]])\n",
        "\n",
        "y_true = np.array([[0.6],\n",
        "          [0.9]])\n",
        "\n",
        "learning_rate = 0.01\n",
        "epochs = 10000\n",
        "losses = []\n",
        "\n",
        "for epoch in range(epochs):\n",
        "  y_pred, z1, z2, h1, h2 = forward(w1, w2, w3, b1, b2, b3, x)\n",
        "  loss = compute_loss(y_pred, y_true)\n",
        "  losses.append(loss.flatten().mean())\n",
        "\n",
        "  w1_grad, w2_grad, w3_grad, b1_grad, b2_grad, b3_grad = backward(y_pred, y_true, h1, h2, z1, z2, w2, w3, x)\n",
        "  w1, w2, w3, b1, b2, b3 = update_params(w1, w2, w3, b1, b2, b3, w1_grad, w2_grad, w3_grad, b1_grad, b2_grad, b3_grad, learning_rate)\n",
        "\n",
        "  if epoch%100 == 0:\n",
        "    print(\"Epoch:\", epoch + 1,\n",
        "      \"loss:\", np.round(loss.flatten().mean(axis=0, keepdims=True), 4),\n",
        "      \"y_pred\", np.round(y_pred.flatten(), 4),\n",
        "      \"w1:\", np.round(w1.flatten(), 1),\n",
        "      \"w2:\", np.round(w2.flatten(), 1),\n",
        "      \"w3:\", np.round(w3.flatten(), 1),\n",
        "      \"b1:\", np.round(b1.flatten(), 1),\n",
        "      \"b2:\", np.round(b2.flatten(), 1),\n",
        "      \"b3:\", np.round(b3.flatten(), 1)\n",
        "      )\n",
        "\n",
        "plt.plot(range(epochs), losses, \"blue\")\n",
        "plt.xlabel(\"epoch axis\")\n",
        "plt.ylabel(\"loss axis\")\n",
        "plt.show()"
      ],
      "metadata": {
        "colab": {
          "base_uri": "https://localhost:8080/",
          "height": 1000
        },
        "id": "JK9jbhWUkW6d",
        "outputId": "0fa6ddb5-f62c-466a-bdf4-05f756065453"
      },
      "execution_count": 145,
      "outputs": [
        {
          "output_type": "stream",
          "name": "stdout",
          "text": [
            "Epoch: 1 loss: [0.026] y_pred [0.5954 0.5777] w1: [0.2 0.3] w2: [ 0.4 -0.1  0.2  0.5] w3: [-0.6  0.7] b1: [ 0.1 -0.1] b2: [-0.2  0.3] b3: [0.1]\n",
            "Epoch: 101 loss: [0.0232] y_pred [0.6146 0.5955] w1: [0.2 0.3] w2: [ 0.4 -0.1  0.2  0.5] w3: [-0.6  0.7] b1: [ 0.1 -0.1] b2: [-0.2  0.3] b3: [0.1]\n",
            "Epoch: 201 loss: [0.0211] y_pred [0.6314 0.6115] w1: [0.2 0.3] w2: [ 0.4 -0.1  0.2  0.5] w3: [-0.6  0.7] b1: [ 0.1 -0.1] b2: [-0.2  0.4] b3: [0.2]\n",
            "Epoch: 301 loss: [0.0193] y_pred [0.6458 0.6259] w1: [0.2 0.3] w2: [ 0.4 -0.1  0.2  0.5] w3: [-0.6  0.8] b1: [ 0.1 -0.1] b2: [-0.2  0.4] b3: [0.2]\n",
            "Epoch: 401 loss: [0.0179] y_pred [0.6583 0.6387] w1: [0.2 0.3] w2: [ 0.4 -0.1  0.2  0.5] w3: [-0.6  0.8] b1: [ 0.1 -0.1] b2: [-0.2  0.4] b3: [0.2]\n",
            "Epoch: 501 loss: [0.0168] y_pred [0.6688 0.6502] w1: [0.2 0.3] w2: [ 0.4 -0.1  0.2  0.5] w3: [-0.6  0.8] b1: [ 0.1 -0. ] b2: [-0.2  0.4] b3: [0.2]\n",
            "Epoch: 601 loss: [0.0159] y_pred [0.6776 0.6604] w1: [0.2 0.4] w2: [ 0.4 -0.1  0.2  0.5] w3: [-0.6  0.8] b1: [ 0.1 -0. ] b2: [-0.2  0.4] b3: [0.3]\n",
            "Epoch: 701 loss: [0.0151] y_pred [0.6849 0.6695] w1: [0.2 0.4] w2: [ 0.4 -0.1  0.2  0.5] w3: [-0.6  0.8] b1: [ 0.1 -0. ] b2: [-0.2  0.4] b3: [0.3]\n",
            "Epoch: 801 loss: [0.0144] y_pred [0.6908 0.6776] w1: [0.2 0.4] w2: [ 0.4 -0.1  0.2  0.5] w3: [-0.6  0.8] b1: [ 0.1 -0. ] b2: [-0.2  0.5] b3: [0.3]\n",
            "Epoch: 901 loss: [0.0139] y_pred [0.6956 0.6848] w1: [0.2 0.4] w2: [ 0.4 -0.1  0.2  0.5] w3: [-0.6  0.9] b1: [ 0.1 -0. ] b2: [-0.2  0.5] b3: [0.3]\n",
            "Epoch: 1001 loss: [0.0134] y_pred [0.6993 0.6912] w1: [0.2 0.4] w2: [ 0.4 -0.1  0.2  0.5] w3: [-0.6  0.9] b1: [ 0.1 -0. ] b2: [-0.2  0.5] b3: [0.3]\n",
            "Epoch: 1101 loss: [0.0129] y_pred [0.702 0.697] w1: [0.3 0.4] w2: [ 0.4 -0.1  0.2  0.5] w3: [-0.6  0.9] b1: [0.1 0. ] b2: [-0.2  0.5] b3: [0.3]\n",
            "Epoch: 1201 loss: [0.0126] y_pred [0.7054 0.7019] w1: [0.3 0.4] w2: [ 0.4 -0.1  0.3  0.5] w3: [-0.6  0.9] b1: [0.1 0. ] b2: [-0.2  0.5] b3: [0.3]\n",
            "Epoch: 1301 loss: [0.0123] y_pred [0.7086 0.7063] w1: [0.3 0.4] w2: [ 0.4 -0.1  0.3  0.5] w3: [-0.6  0.9] b1: [0.1 0. ] b2: [-0.2  0.5] b3: [0.4]\n",
            "Epoch: 1401 loss: [0.0121] y_pred [0.7112 0.7101] w1: [0.3 0.4] w2: [ 0.4 -0.1  0.3  0.5] w3: [-0.6  0.9] b1: [0.1 0. ] b2: [-0.2  0.5] b3: [0.4]\n",
            "Epoch: 1501 loss: [0.0119] y_pred [0.7132 0.7135] w1: [0.3 0.3] w2: [ 0.5 -0.1  0.3  0.5] w3: [-0.6  0.9] b1: [0.1 0. ] b2: [-0.2  0.5] b3: [0.4]\n",
            "Epoch: 1601 loss: [0.0117] y_pred [0.7148 0.7166] w1: [0.3 0.3] w2: [ 0.5 -0.1  0.3  0.5] w3: [-0.6  0.9] b1: [0.1 0. ] b2: [-0.2  0.5] b3: [0.4]\n",
            "Epoch: 1701 loss: [0.0115] y_pred [0.7159 0.7193] w1: [0.3 0.3] w2: [ 0.5 -0.1  0.3  0.5] w3: [-0.6  0.9] b1: [0.1 0. ] b2: [-0.2  0.5] b3: [0.4]\n",
            "Epoch: 1801 loss: [0.0113] y_pred [0.7167 0.7218] w1: [0.3 0.3] w2: [ 0.5 -0.1  0.3  0.5] w3: [-0.7  0.9] b1: [0.1 0. ] b2: [-0.2  0.5] b3: [0.4]\n",
            "Epoch: 1901 loss: [0.0112] y_pred [0.7172 0.724 ] w1: [0.3 0.3] w2: [ 0.5 -0.1  0.3  0.5] w3: [-0.7  0.9] b1: [0.1 0. ] b2: [-0.2  0.5] b3: [0.4]\n",
            "Epoch: 2001 loss: [0.011] y_pred [0.7175 0.7261] w1: [0.3 0.3] w2: [ 0.5 -0.1  0.3  0.5] w3: [-0.7  0.9] b1: [0.1 0. ] b2: [-0.2  0.5] b3: [0.4]\n",
            "Epoch: 2101 loss: [0.0108] y_pred [0.7175 0.728 ] w1: [0.3 0.3] w2: [ 0.5 -0.1  0.3  0.5] w3: [-0.7  0.9] b1: [0.1 0. ] b2: [-0.2  0.6] b3: [0.4]\n",
            "Epoch: 2201 loss: [0.0107] y_pred [0.7173 0.7297] w1: [0.3 0.3] w2: [ 0.5 -0.1  0.3  0.4] w3: [-0.7  0.9] b1: [0.1 0. ] b2: [-0.2  0.6] b3: [0.4]\n",
            "Epoch: 2301 loss: [0.0105] y_pred [0.7169 0.7314] w1: [0.3 0.3] w2: [ 0.5 -0.1  0.3  0.4] w3: [-0.7  0.9] b1: [0.1 0. ] b2: [-0.2  0.6] b3: [0.4]\n",
            "Epoch: 2401 loss: [0.0104] y_pred [0.7163 0.7329] w1: [0.3 0.3] w2: [ 0.5 -0.1  0.3  0.4] w3: [-0.7  0.9] b1: [0.1 0. ] b2: [-0.2  0.6] b3: [0.4]\n",
            "Epoch: 2501 loss: [0.0102] y_pred [0.7156 0.7344] w1: [0.4 0.3] w2: [ 0.5 -0.1  0.3  0.4] w3: [-0.7  0.9] b1: [0.1 0. ] b2: [-0.2  0.6] b3: [0.4]\n",
            "Epoch: 2601 loss: [0.01] y_pred [0.7148 0.7358] w1: [0.4 0.3] w2: [ 0.5 -0.1  0.3  0.4] w3: [-0.7  0.9] b1: [0.1 0. ] b2: [-0.2  0.6] b3: [0.4]\n",
            "Epoch: 2701 loss: [0.0099] y_pred [0.7138 0.7371] w1: [0.4 0.3] w2: [ 0.5 -0.1  0.3  0.4] w3: [-0.7  1. ] b1: [0.1 0. ] b2: [-0.2  0.6] b3: [0.4]\n",
            "Epoch: 2801 loss: [0.0097] y_pred [0.7127 0.7384] w1: [0.4 0.3] w2: [ 0.5 -0.1  0.3  0.4] w3: [-0.7  1. ] b1: [0.1 0. ] b2: [-0.2  0.6] b3: [0.4]\n",
            "Epoch: 2901 loss: [0.0095] y_pred [0.7114 0.7397] w1: [0.4 0.3] w2: [ 0.5 -0.1  0.3  0.4] w3: [-0.7  1. ] b1: [0.1 0. ] b2: [-0.2  0.6] b3: [0.4]\n",
            "Epoch: 3001 loss: [0.0094] y_pred [0.7101 0.7409] w1: [0.4 0.3] w2: [ 0.5 -0.1  0.3  0.4] w3: [-0.7  1. ] b1: [0.1 0. ] b2: [-0.2  0.6] b3: [0.4]\n",
            "Epoch: 3101 loss: [0.0092] y_pred [0.7086 0.7421] w1: [0.4 0.3] w2: [ 0.5 -0.1  0.3  0.4] w3: [-0.7  1. ] b1: [0.1 0. ] b2: [-0.2  0.6] b3: [0.5]\n",
            "Epoch: 3201 loss: [0.009] y_pred [0.707  0.7432] w1: [0.4 0.3] w2: [ 0.5 -0.1  0.3  0.4] w3: [-0.7  1. ] b1: [0.1 0. ] b2: [-0.2  0.6] b3: [0.5]\n",
            "Epoch: 3301 loss: [0.0088] y_pred [0.7053 0.7444] w1: [0.4 0.3] w2: [ 0.5 -0.2  0.3  0.4] w3: [-0.7  1. ] b1: [0.1 0. ] b2: [-0.2  0.6] b3: [0.5]\n",
            "Epoch: 3401 loss: [0.0086] y_pred [0.7036 0.7455] w1: [0.4 0.3] w2: [ 0.5 -0.2  0.3  0.4] w3: [-0.8  1. ] b1: [0.1 0. ] b2: [-0.2  0.6] b3: [0.5]\n",
            "Epoch: 3501 loss: [0.0085] y_pred [0.7017 0.7467] w1: [0.4 0.3] w2: [ 0.5 -0.2  0.3  0.4] w3: [-0.8  1. ] b1: [0.1 0. ] b2: [-0.2  0.6] b3: [0.5]\n",
            "Epoch: 3601 loss: [0.0083] y_pred [0.6998 0.7479] w1: [0.5 0.3] w2: [ 0.5 -0.2  0.3  0.4] w3: [-0.8  1. ] b1: [0.1 0. ] b2: [-0.2  0.6] b3: [0.5]\n",
            "Epoch: 3701 loss: [0.0081] y_pred [0.6977 0.7491] w1: [0.5 0.3] w2: [ 0.5 -0.2  0.4  0.4] w3: [-0.8  1. ] b1: [0.1 0. ] b2: [-0.2  0.6] b3: [0.5]\n",
            "Epoch: 3801 loss: [0.0079] y_pred [0.6957 0.7503] w1: [0.5 0.3] w2: [ 0.6 -0.2  0.4  0.4] w3: [-0.8  1. ] b1: [0.1 0. ] b2: [-0.2  0.6] b3: [0.5]\n",
            "Epoch: 3901 loss: [0.0077] y_pred [0.6935 0.7516] w1: [0.5 0.3] w2: [ 0.6 -0.2  0.4  0.4] w3: [-0.8  1. ] b1: [0.1 0. ] b2: [-0.2  0.6] b3: [0.5]\n",
            "Epoch: 4001 loss: [0.0075] y_pred [0.6914 0.7529] w1: [0.5 0.3] w2: [ 0.6 -0.2  0.4  0.4] w3: [-0.8  1. ] b1: [0.1 0. ] b2: [-0.2  0.6] b3: [0.5]\n",
            "Epoch: 4101 loss: [0.0073] y_pred [0.6891 0.7542] w1: [0.5 0.3] w2: [ 0.6 -0.2  0.4  0.4] w3: [-0.8  1. ] b1: [0.1 0. ] b2: [-0.2  0.6] b3: [0.5]\n",
            "Epoch: 4201 loss: [0.0071] y_pred [0.6869 0.7556] w1: [0.5 0.3] w2: [ 0.6 -0.2  0.4  0.4] w3: [-0.8  1. ] b1: [0. 0.] b2: [-0.2  0.6] b3: [0.5]\n",
            "Epoch: 4301 loss: [0.0069] y_pred [0.6846 0.757 ] w1: [0.5 0.3] w2: [ 0.6 -0.2  0.4  0.3] w3: [-0.8  1. ] b1: [0. 0.] b2: [-0.2  0.6] b3: [0.5]\n",
            "Epoch: 4401 loss: [0.0067] y_pred [0.6823 0.7585] w1: [0.5 0.3] w2: [ 0.6 -0.2  0.4  0.3] w3: [-0.8  1. ] b1: [0. 0.] b2: [-0.2  0.6] b3: [0.5]\n",
            "Epoch: 4501 loss: [0.0065] y_pred [0.68 0.76] w1: [0.5 0.3] w2: [ 0.6 -0.2  0.4  0.3] w3: [-0.8  1. ] b1: [0. 0.] b2: [-0.2  0.6] b3: [0.5]\n",
            "Epoch: 4601 loss: [0.0063] y_pred [0.6777 0.7616] w1: [0.6 0.3] w2: [ 0.6 -0.2  0.4  0.3] w3: [-0.8  1. ] b1: [0. 0.] b2: [-0.2  0.7] b3: [0.5]\n",
            "Epoch: 4701 loss: [0.0061] y_pred [0.6754 0.7632] w1: [0.6 0.3] w2: [ 0.6 -0.3  0.4  0.3] w3: [-0.9  1. ] b1: [0. 0.] b2: [-0.3  0.7] b3: [0.5]\n",
            "Epoch: 4801 loss: [0.0059] y_pred [0.6731 0.7649] w1: [0.6 0.3] w2: [ 0.6 -0.3  0.4  0.3] w3: [-0.9  1. ] b1: [0. 0.] b2: [-0.3  0.7] b3: [0.5]\n",
            "Epoch: 4901 loss: [0.0057] y_pred [0.6708 0.7666] w1: [0.6 0.3] w2: [ 0.6 -0.3  0.4  0.3] w3: [-0.9  1.1] b1: [0. 0.] b2: [-0.3  0.7] b3: [0.5]\n",
            "Epoch: 5001 loss: [0.0055] y_pred [0.6685 0.7684] w1: [0.6 0.3] w2: [ 0.6 -0.3  0.4  0.3] w3: [-0.9  1.1] b1: [0. 0.] b2: [-0.3  0.7] b3: [0.5]\n",
            "Epoch: 5101 loss: [0.0053] y_pred [0.6663 0.7702] w1: [0.6 0.3] w2: [ 0.6 -0.3  0.4  0.3] w3: [-0.9  1.1] b1: [0. 0.] b2: [-0.3  0.7] b3: [0.5]\n",
            "Epoch: 5201 loss: [0.0051] y_pred [0.6641 0.7721] w1: [0.6 0.3] w2: [ 0.6 -0.3  0.4  0.3] w3: [-0.9  1.1] b1: [0. 0.] b2: [-0.3  0.7] b3: [0.5]\n",
            "Epoch: 5301 loss: [0.0049] y_pred [0.662 0.774] w1: [0.6 0.3] w2: [ 0.6 -0.3  0.4  0.3] w3: [-0.9  1.1] b1: [0. 0.] b2: [-0.3  0.7] b3: [0.5]\n",
            "Epoch: 5401 loss: [0.0047] y_pred [0.6599 0.776 ] w1: [0.6 0.3] w2: [ 0.6 -0.3  0.4  0.3] w3: [-0.9  1.1] b1: [0. 0.] b2: [-0.3  0.7] b3: [0.5]\n",
            "Epoch: 5501 loss: [0.0046] y_pred [0.6578 0.778 ] w1: [0.6 0.3] w2: [ 0.7 -0.3  0.4  0.3] w3: [-0.9  1.1] b1: [0. 0.] b2: [-0.3  0.7] b3: [0.5]\n",
            "Epoch: 5601 loss: [0.0044] y_pred [0.6558 0.7799] w1: [0.6 0.3] w2: [ 0.7 -0.3  0.4  0.3] w3: [-0.9  1.1] b1: [0. 0.] b2: [-0.3  0.7] b3: [0.6]\n",
            "Epoch: 5701 loss: [0.0042] y_pred [0.6533 0.7817] w1: [0.7 0.3] w2: [ 0.7 -0.3  0.4  0.3] w3: [-0.9  1.1] b1: [-0.  0.] b2: [-0.3  0.7] b3: [0.6]\n",
            "Epoch: 5801 loss: [0.004] y_pred [0.651  0.7836] w1: [0.7 0.3] w2: [ 0.7 -0.3  0.4  0.3] w3: [-0.9  1.1] b1: [-0.  0.] b2: [-0.3  0.7] b3: [0.6]\n",
            "Epoch: 5901 loss: [0.0039] y_pred [0.6489 0.7855] w1: [0.7 0.3] w2: [ 0.7 -0.3  0.4  0.3] w3: [-0.9  1.1] b1: [-0.  0.] b2: [-0.3  0.7] b3: [0.6]\n",
            "Epoch: 6001 loss: [0.0037] y_pred [0.6468 0.7875] w1: [0.7 0.3] w2: [ 0.7 -0.3  0.4  0.3] w3: [-0.9  1.1] b1: [-0.  0.] b2: [-0.3  0.7] b3: [0.6]\n",
            "Epoch: 6101 loss: [0.0036] y_pred [0.6449 0.7894] w1: [0.7 0.3] w2: [ 0.7 -0.3  0.4  0.3] w3: [-0.9  1.1] b1: [-0.  0.] b2: [-0.3  0.7] b3: [0.6]\n",
            "Epoch: 6201 loss: [0.0034] y_pred [0.643  0.7914] w1: [0.7 0.3] w2: [ 0.7 -0.3  0.4  0.3] w3: [-1.   1.1] b1: [-0.  0.] b2: [-0.3  0.7] b3: [0.6]\n",
            "Epoch: 6301 loss: [0.0033] y_pred [0.6412 0.7934] w1: [0.7 0.3] w2: [ 0.7 -0.4  0.4  0.3] w3: [-1.   1.1] b1: [-0.  0.] b2: [-0.3  0.7] b3: [0.6]\n",
            "Epoch: 6401 loss: [0.0031] y_pred [0.6394 0.7953] w1: [0.7 0.3] w2: [ 0.7 -0.4  0.4  0.3] w3: [-1.   1.2] b1: [-0.  0.] b2: [-0.3  0.7] b3: [0.6]\n",
            "Epoch: 6501 loss: [0.003] y_pred [0.6378 0.7973] w1: [0.7 0.3] w2: [ 0.7 -0.4  0.4  0.3] w3: [-1.   1.2] b1: [-0.  0.] b2: [-0.3  0.7] b3: [0.6]\n",
            "Epoch: 6601 loss: [0.0029] y_pred [0.6362 0.7993] w1: [0.7 0.3] w2: [ 0.7 -0.4  0.4  0.3] w3: [-1.   1.2] b1: [-0.  0.] b2: [-0.3  0.7] b3: [0.6]\n",
            "Epoch: 6701 loss: [0.0027] y_pred [0.6348 0.8013] w1: [0.7 0.3] w2: [ 0.7 -0.4  0.4  0.3] w3: [-1.   1.2] b1: [-0.  0.] b2: [-0.3  0.7] b3: [0.6]\n",
            "Epoch: 6801 loss: [0.0026] y_pred [0.6334 0.8032] w1: [0.7 0.3] w2: [ 0.7 -0.4  0.4  0.3] w3: [-1.   1.2] b1: [-0.  0.] b2: [-0.3  0.7] b3: [0.6]\n",
            "Epoch: 6901 loss: [0.0025] y_pred [0.632  0.8052] w1: [0.7 0.3] w2: [ 0.7 -0.4  0.4  0.3] w3: [-1.   1.2] b1: [-0.  0.] b2: [-0.3  0.8] b3: [0.6]\n",
            "Epoch: 7001 loss: [0.0024] y_pred [0.6307 0.8071] w1: [0.7 0.3] w2: [ 0.7 -0.4  0.4  0.3] w3: [-1.   1.2] b1: [-0.  0.] b2: [-0.3  0.8] b3: [0.6]\n",
            "Epoch: 7101 loss: [0.0023] y_pred [0.6295 0.809 ] w1: [0.8 0.3] w2: [ 0.7 -0.4  0.4  0.3] w3: [-1.   1.2] b1: [-0.  0.] b2: [-0.3  0.8] b3: [0.6]\n",
            "Epoch: 7201 loss: [0.0022] y_pred [0.6284 0.8109] w1: [0.8 0.3] w2: [ 0.7 -0.4  0.4  0.3] w3: [-1.   1.2] b1: [-0.   0.1] b2: [-0.3  0.8] b3: [0.6]\n",
            "Epoch: 7301 loss: [0.0021] y_pred [0.6272 0.8127] w1: [0.8 0.3] w2: [ 0.7 -0.4  0.4  0.3] w3: [-1.   1.2] b1: [-0.1  0.1] b2: [-0.3  0.8] b3: [0.6]\n",
            "Epoch: 7401 loss: [0.002] y_pred [0.6262 0.8145] w1: [0.8 0.3] w2: [ 0.7 -0.4  0.4  0.3] w3: [-1.   1.2] b1: [-0.1  0.1] b2: [-0.3  0.8] b3: [0.6]\n",
            "Epoch: 7501 loss: [0.0019] y_pred [0.6252 0.8163] w1: [0.8 0.3] w2: [ 0.7 -0.4  0.4  0.3] w3: [-1.   1.2] b1: [-0.1  0.1] b2: [-0.3  0.8] b3: [0.6]\n",
            "Epoch: 7601 loss: [0.0018] y_pred [0.6242 0.8181] w1: [0.8 0.3] w2: [ 0.7 -0.4  0.4  0.3] w3: [-1.   1.2] b1: [-0.1  0.1] b2: [-0.3  0.8] b3: [0.6]\n",
            "Epoch: 7701 loss: [0.0017] y_pred [0.6233 0.8198] w1: [0.8 0.3] w2: [ 0.8 -0.4  0.4  0.3] w3: [-1.   1.2] b1: [-0.1  0.1] b2: [-0.3  0.8] b3: [0.6]\n",
            "Epoch: 7801 loss: [0.0017] y_pred [0.6224 0.8215] w1: [0.8 0.3] w2: [ 0.8 -0.4  0.4  0.3] w3: [-1.   1.2] b1: [-0.1  0.1] b2: [-0.3  0.8] b3: [0.6]\n",
            "Epoch: 7901 loss: [0.0016] y_pred [0.6216 0.8232] w1: [0.8 0.3] w2: [ 0.8 -0.4  0.4  0.3] w3: [-1.   1.3] b1: [-0.1  0.1] b2: [-0.3  0.8] b3: [0.6]\n",
            "Epoch: 8001 loss: [0.0015] y_pred [0.6208 0.8248] w1: [0.8 0.3] w2: [ 0.8 -0.4  0.4  0.3] w3: [-1.   1.3] b1: [-0.1  0.1] b2: [-0.3  0.8] b3: [0.6]\n",
            "Epoch: 8101 loss: [0.0015] y_pred [0.62   0.8264] w1: [0.8 0.3] w2: [ 0.8 -0.4  0.4  0.3] w3: [-1.   1.3] b1: [-0.1  0.1] b2: [-0.3  0.8] b3: [0.6]\n",
            "Epoch: 8201 loss: [0.0014] y_pred [0.6193 0.828 ] w1: [0.8 0.3] w2: [ 0.8 -0.4  0.4  0.3] w3: [-1.   1.3] b1: [-0.1  0.1] b2: [-0.3  0.8] b3: [0.6]\n",
            "Epoch: 8301 loss: [0.0013] y_pred [0.6186 0.8296] w1: [0.8 0.3] w2: [ 0.8 -0.4  0.4  0.3] w3: [-1.   1.3] b1: [-0.1  0.1] b2: [-0.3  0.8] b3: [0.6]\n",
            "Epoch: 8401 loss: [0.0013] y_pred [0.618  0.8311] w1: [0.8 0.3] w2: [ 0.8 -0.4  0.4  0.3] w3: [-1.   1.3] b1: [-0.1  0.1] b2: [-0.3  0.8] b3: [0.7]\n",
            "Epoch: 8501 loss: [0.0012] y_pred [0.6174 0.8326] w1: [0.8 0.3] w2: [ 0.8 -0.4  0.4  0.3] w3: [-1.1  1.3] b1: [-0.1  0.1] b2: [-0.3  0.8] b3: [0.7]\n",
            "Epoch: 8601 loss: [0.0012] y_pred [0.6167 0.834 ] w1: [0.8 0.3] w2: [ 0.8 -0.4  0.4  0.3] w3: [-1.1  1.3] b1: [-0.1  0.1] b2: [-0.3  0.8] b3: [0.7]\n",
            "Epoch: 8701 loss: [0.0011] y_pred [0.6162 0.8354] w1: [0.8 0.3] w2: [ 0.8 -0.4  0.4  0.3] w3: [-1.1  1.3] b1: [-0.1  0.1] b2: [-0.3  0.8] b3: [0.7]\n",
            "Epoch: 8801 loss: [0.0011] y_pred [0.6156 0.8368] w1: [0.8 0.3] w2: [ 0.8 -0.4  0.4  0.3] w3: [-1.1  1.3] b1: [-0.1  0.1] b2: [-0.3  0.8] b3: [0.7]\n",
            "Epoch: 8901 loss: [0.001] y_pred [0.6151 0.8381] w1: [0.8 0.3] w2: [ 0.8 -0.4  0.4  0.3] w3: [-1.1  1.3] b1: [-0.1  0.1] b2: [-0.3  0.8] b3: [0.7]\n",
            "Epoch: 9001 loss: [0.001] y_pred [0.6146 0.8395] w1: [0.8 0.3] w2: [ 0.8 -0.4  0.4  0.3] w3: [-1.1  1.3] b1: [-0.1  0.1] b2: [-0.3  0.8] b3: [0.7]\n",
            "Epoch: 9101 loss: [0.0009] y_pred [0.6141 0.8407] w1: [0.8 0.3] w2: [ 0.8 -0.4  0.4  0.3] w3: [-1.1  1.3] b1: [-0.1  0.1] b2: [-0.3  0.8] b3: [0.7]\n",
            "Epoch: 9201 loss: [0.0009] y_pred [0.6137 0.842 ] w1: [0.8 0.3] w2: [ 0.8 -0.4  0.4  0.3] w3: [-1.1  1.3] b1: [-0.1  0.1] b2: [-0.3  0.8] b3: [0.7]\n",
            "Epoch: 9301 loss: [0.0008] y_pred [0.6132 0.8432] w1: [0.8 0.3] w2: [ 0.8 -0.4  0.4  0.3] w3: [-1.1  1.3] b1: [-0.1  0.1] b2: [-0.3  0.8] b3: [0.7]\n",
            "Epoch: 9401 loss: [0.0008] y_pred [0.6128 0.8444] w1: [0.8 0.3] w2: [ 0.8 -0.4  0.4  0.3] w3: [-1.1  1.3] b1: [-0.1  0.1] b2: [-0.3  0.8] b3: [0.7]\n",
            "Epoch: 9501 loss: [0.0008] y_pred [0.6124 0.8456] w1: [0.8 0.3] w2: [ 0.8 -0.4  0.4  0.3] w3: [-1.1  1.3] b1: [-0.1  0.1] b2: [-0.3  0.8] b3: [0.7]\n",
            "Epoch: 9601 loss: [0.0007] y_pred [0.612  0.8467] w1: [0.8 0.3] w2: [ 0.8 -0.4  0.4  0.3] w3: [-1.1  1.3] b1: [-0.1  0.1] b2: [-0.3  0.9] b3: [0.7]\n",
            "Epoch: 9701 loss: [0.0007] y_pred [0.6116 0.8479] w1: [0.8 0.3] w2: [ 0.8 -0.4  0.4  0.3] w3: [-1.1  1.3] b1: [-0.1  0.1] b2: [-0.4  0.9] b3: [0.7]\n",
            "Epoch: 9801 loss: [0.0007] y_pred [0.6112 0.849 ] w1: [0.8 0.3] w2: [ 0.8 -0.4  0.4  0.3] w3: [-1.1  1.3] b1: [-0.1  0.1] b2: [-0.4  0.9] b3: [0.7]\n",
            "Epoch: 9901 loss: [0.0007] y_pred [0.6109 0.85  ] w1: [0.8 0.3] w2: [ 0.8 -0.4  0.4  0.3] w3: [-1.1  1.3] b1: [-0.1  0.1] b2: [-0.4  0.9] b3: [0.7]\n"
          ]
        },
        {
          "output_type": "display_data",
          "data": {
            "text/plain": [
              "<Figure size 640x480 with 1 Axes>"
            ],
            "image/png": "[encoded data removed]"
          },
          "metadata": {}
        }
      ]
    }
  ]
}