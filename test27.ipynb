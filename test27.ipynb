{
  "nbformat": 4,
  "nbformat_minor": 0,
  "metadata": {
    "colab": {
      "provenance": [],
      "authorship_tag": "ABX9TyOAdcbxSCbyxgHJSYT7Lb1D"
    },
    "kernelspec": {
      "name": "python3",
      "display_name": "Python 3"
    },
    "language_info": {
      "name": "python"
    }
  },
  "cells": [
    {
      "cell_type": "code",
      "execution_count": 109,
      "metadata": {
        "id": "sUwhofr3-wVu"
      },
      "outputs": [],
      "source": [
        "#考虑一个具有两个隐藏层的神经网络，结构如下：\n",
        "\n",
        "#一个输入节点 (x) (但我们会输入一个批次的 (X))\n",
        "#第一个隐藏层，包含 2 个 神经元 (h^{(1)}_1, h^{(1)}_2)，均使用 ReLU 激活函数。\n",
        "#第二个隐藏层，包含 2 个 神经元 (h^{(2)}_1, h^{(2)}_2)，均使用 ReLU 激活函数。\n",
        "#一个输出节点 (y_{pred})，使用 Sigmoid 激活函数。"
      ]
    },
    {
      "cell_type": "code",
      "source": [
        "import numpy as np\n",
        "import matplotlib.pyplot as plt"
      ],
      "metadata": {
        "id": "MycsVmes-3F1"
      },
      "execution_count": 110,
      "outputs": []
    },
    {
      "cell_type": "code",
      "source": [
        "#添加relu函数\n",
        "def relu(a):\n",
        "  return np.maximum(0, a)"
      ],
      "metadata": {
        "id": "yHObA6ii_FKU"
      },
      "execution_count": 111,
      "outputs": []
    },
    {
      "cell_type": "code",
      "source": [
        "#添加sigmoid激活函数\n",
        "def sigmoid(a):\n",
        "  return 1 / (1 + np.exp(-a))"
      ],
      "metadata": {
        "id": "T0k5tMBy_Tx8"
      },
      "execution_count": 112,
      "outputs": []
    },
    {
      "cell_type": "code",
      "source": [
        "#前向传播，计算y_pred输出\n",
        "def forward(w1, w2, w3, b1, b2, b3, x):\n",
        "  z1 = np.dot(x, w1) + b1 #shape (2,2)\n",
        "  h1 = relu(z1) #shape (2,2)\n",
        "\n",
        "  z2 = np.dot(h1, w2) + b2 #shape (2,2)\n",
        "  h2 = relu(z2)\n",
        "\n",
        "  zout = np.dot(h2, w3) + b3 #shape (2,1)\n",
        "  y_pred = sigmoid(zout) #shape (2,1)\n",
        "  return y_pred, z1, z2, h1, h2"
      ],
      "metadata": {
        "id": "LaOlLrlABzV1"
      },
      "execution_count": 113,
      "outputs": []
    },
    {
      "cell_type": "code",
      "source": [
        "#求损失函数loss\n",
        "def compute_loss(y_pred, y_true):\n",
        "  loss = (y_pred - y_true)**2 /2\n",
        "  return loss"
      ],
      "metadata": {
        "id": "LXPQMPybDyaI"
      },
      "execution_count": 114,
      "outputs": []
    },
    {
      "cell_type": "code",
      "source": [
        "#更新参数,weight, bias\n",
        "def update_params(w1, w2, w3, b1, b2, b3, w1_grad, w2_grad, w3_grad, b1_grad, b2_grad, b3_grad, learning_rate):\n",
        "  w1 -= learning_rate * w1_grad\n",
        "  w2 -= learning_rate * w2_grad\n",
        "  w3 -= learning_rate * w3_grad\n",
        "  b1 -= learning_rate * b1_grad\n",
        "  b2 -= learning_rate * b2_grad\n",
        "  b3 -= learning_rate * b3_grad\n",
        "  return w1, w2, w3, b1, b2, b3\n"
      ],
      "metadata": {
        "id": "iqQrok4eMHuZ"
      },
      "execution_count": 115,
      "outputs": []
    },
    {
      "cell_type": "code",
      "source": [
        "w1 = np.array([[0.2, 0.3]])\n",
        "\n",
        "b1 = np.array([[0.1, -0.1]])\n",
        "\n",
        "w2 = np.array([[0.4, -0.1],\n",
        "        [0.2, 0.5]])\n",
        "\n",
        "b2 = np.array([[-0.2, 0.3]])\n",
        "\n",
        "w3 = np.array([[-0.6],\n",
        "        [0.7]])\n",
        "\n",
        "b3 = np.array([0.1])\n",
        "\n",
        "x = np.array([[1.5],\n",
        "        [0.5]])\n",
        "\n",
        "y_true = np.array([[0.6],\n",
        "          [0.9]])\n",
        "\n",
        "learning_rate = 0.01\n",
        "epochs = 10000\n",
        "losses = []\n",
        "\n",
        "for epoch in range(epochs):\n",
        "  y_pred, z1, z2, h1, h2 = forward(w1, w2, w3, b1, b2, b3, x)\n",
        "  loss = compute_loss(y_pred, y_true)\n",
        "  losses.append(loss.flatten().mean())\n",
        "\n",
        "  y_pred = forward(w1, w2, w3, b1, b2, b3, x)\n",
        "  w1, w2, w3, b1, b2, b3 = update_params(w1, w2, w3, b1, b2, b3, w1_grad, w2_grad, w3_grad, b1_grad, b2_grad, b3_grad, learning_rate)\n",
        "\n",
        "  if epoch%100 == 0:\n",
        "    print(\"Epoch:\", epoch + 1,\n",
        "      \"loss:\", np.round(loss.flatten().mean(axis=0, keepdims=True), 4),\n",
        "      \"w1:\", np.round(w1.flatten(), 1),\n",
        "      \"w2:\", np.round(w2.flatten(), 1),\n",
        "      \"w3:\", np.round(w3.flatten(), 1),\n",
        "      \"b1:\", np.round(b1.flatten(), 1),\n",
        "      \"b2:\", np.round(b2.flatten(), 1),\n",
        "      \"b3:\", np.round(b3.flatten(), 1)\n",
        "      )\n",
        "\n",
        "plt.plot(range(epochs), losses, \"blue\")\n",
        "plt.xlabel(\"epoch axis\")\n",
        "plt.ylabel(\"loss axis\")\n",
        "plt.show()"
      ],
      "metadata": {
        "colab": {
          "base_uri": "https://localhost:8080/",
          "height": 1000
        },
        "id": "FqrTR0Sz_gx2",
        "outputId": "7c8e6f36-400c-437b-9a09-baefe01dafc3"
      },
      "execution_count": 117,
      "outputs": [
        {
          "output_type": "stream",
          "name": "stdout",
          "text": [
            "Epoch: 1 loss: [0.026] w1: [0.2 0.3] w2: [ 0.4 -0.1  0.2  0.5] w3: [-0.6  0.7] b1: [ 0.1 -0.1] b2: [-0.2  0.3] b3: [0.1]\n",
            "Epoch: 101 loss: [0.026] w1: [0.2 0.3] w2: [ 0.4 -0.1  0.2  0.5] w3: [-0.6  0.7] b1: [ 0.1 -0.1] b2: [-0.2  0.3] b3: [0.1]\n",
            "Epoch: 201 loss: [0.026] w1: [0.2 0.3] w2: [ 0.4 -0.1  0.2  0.5] w3: [-0.6  0.7] b1: [ 0.1 -0.1] b2: [-0.2  0.3] b3: [0.1]\n",
            "Epoch: 301 loss: [0.026] w1: [0.2 0.3] w2: [ 0.4 -0.1  0.2  0.5] w3: [-0.6  0.7] b1: [ 0.1 -0.1] b2: [-0.2  0.3] b3: [0.1]\n",
            "Epoch: 401 loss: [0.026] w1: [0.1 0.3] w2: [ 0.4 -0.1  0.2  0.5] w3: [-0.6  0.7] b1: [ 0.1 -0.1] b2: [-0.2  0.3] b3: [0.1]\n",
            "Epoch: 501 loss: [0.026] w1: [0.1 0.2] w2: [ 0.4 -0.1  0.2  0.5] w3: [-0.5  0.8] b1: [ 0.1 -0.1] b2: [-0.2  0.3] b3: [0.1]\n",
            "Epoch: 601 loss: [0.026] w1: [0.1 0.2] w2: [ 0.4 -0.1  0.2  0.5] w3: [-0.5  0.8] b1: [ 0.1 -0.1] b2: [-0.2  0.3] b3: [0.1]\n",
            "Epoch: 701 loss: [0.026] w1: [0.1 0.2] w2: [ 0.4 -0.1  0.2  0.5] w3: [-0.5  0.8] b1: [ 0.1 -0.1] b2: [-0.2  0.3] b3: [0.1]\n",
            "Epoch: 801 loss: [0.026] w1: [0.1 0.2] w2: [ 0.4 -0.1  0.2  0.5] w3: [-0.5  0.8] b1: [ 0.1 -0.1] b2: [-0.2  0.3] b3: [0.1]\n",
            "Epoch: 901 loss: [0.026] w1: [0.1 0.2] w2: [ 0.4 -0.1  0.2  0.5] w3: [-0.5  0.8] b1: [ 0.1 -0.1] b2: [-0.2  0.3] b3: [0.1]\n",
            "Epoch: 1001 loss: [0.0259] w1: [0.1 0.2] w2: [ 0.4 -0.1  0.2  0.5] w3: [-0.5  0.8] b1: [ 0.1 -0.1] b2: [-0.2  0.3] b3: [0.1]\n",
            "Epoch: 1101 loss: [0.0258] w1: [0.  0.2] w2: [ 0.4 -0.1  0.2  0.5] w3: [-0.5  0.8] b1: [ 0.1 -0.1] b2: [-0.2  0.3] b3: [0.1]\n",
            "Epoch: 1201 loss: [0.0258] w1: [0.  0.2] w2: [ 0.4 -0.1  0.2  0.5] w3: [-0.5  0.8] b1: [ 0.1 -0.1] b2: [-0.2  0.3] b3: [0.1]\n",
            "Epoch: 1301 loss: [0.0257] w1: [0.  0.2] w2: [ 0.4 -0.1  0.2  0.5] w3: [-0.5  0.8] b1: [ 0.1 -0.1] b2: [-0.2  0.3] b3: [0.1]\n",
            "Epoch: 1401 loss: [0.0256] w1: [-0.   0.2] w2: [ 0.4 -0.1  0.2  0.5] w3: [-0.4  0.8] b1: [ 0.1 -0.1] b2: [-0.2  0.3] b3: [0.1]\n",
            "Epoch: 1501 loss: [0.0256] w1: [-0.   0.1] w2: [ 0.4 -0.1  0.2  0.5] w3: [-0.4  0.9] b1: [ 0.1 -0.1] b2: [-0.2  0.3] b3: [0.1]\n",
            "Epoch: 1601 loss: [0.0255] w1: [-0.   0.1] w2: [ 0.4 -0.1  0.2  0.5] w3: [-0.4  0.9] b1: [ 0.1 -0.1] b2: [-0.2  0.3] b3: [0.1]\n",
            "Epoch: 1701 loss: [0.0254] w1: [-0.   0.1] w2: [ 0.4 -0.1  0.2  0.4] w3: [-0.4  0.9] b1: [ 0.1 -0.1] b2: [-0.2  0.3] b3: [0.1]\n",
            "Epoch: 1801 loss: [0.0254] w1: [-0.1  0.1] w2: [ 0.4 -0.1  0.2  0.4] w3: [-0.4  0.9] b1: [ 0.1 -0.1] b2: [-0.2  0.3] b3: [0.1]\n",
            "Epoch: 1901 loss: [0.0253] w1: [-0.1  0.1] w2: [ 0.4 -0.1  0.2  0.4] w3: [-0.4  0.9] b1: [ 0.1 -0.1] b2: [-0.2  0.3] b3: [0.1]\n",
            "Epoch: 2001 loss: [0.0253] w1: [-0.1  0.1] w2: [ 0.4 -0.1  0.2  0.4] w3: [-0.4  0.9] b1: [ 0.1 -0.1] b2: [-0.2  0.3] b3: [0.1]\n",
            "Epoch: 2101 loss: [0.0252] w1: [-0.1  0.1] w2: [ 0.4 -0.1  0.2  0.4] w3: [-0.4  0.9] b1: [ 0.1 -0.1] b2: [-0.2  0.3] b3: [0.1]\n",
            "Epoch: 2201 loss: [0.0251] w1: [-0.1  0.1] w2: [ 0.4 -0.1  0.2  0.4] w3: [-0.4  0.9] b1: [ 0.1 -0.1] b2: [-0.2  0.3] b3: [0.1]\n",
            "Epoch: 2301 loss: [0.0251] w1: [-0.1  0.1] w2: [ 0.4 -0.1  0.2  0.4] w3: [-0.3  0.9] b1: [ 0.1 -0.1] b2: [-0.2  0.3] b3: [0.1]\n",
            "Epoch: 2401 loss: [0.025] w1: [-0.1  0. ] w2: [ 0.4 -0.1  0.2  0.4] w3: [-0.3  0.9] b1: [ 0.1 -0.1] b2: [-0.2  0.3] b3: [0.1]\n",
            "Epoch: 2501 loss: [0.0249] w1: [-0.2  0. ] w2: [ 0.4 -0.1  0.2  0.4] w3: [-0.3  1. ] b1: [ 0.1 -0.1] b2: [-0.2  0.3] b3: [0.1]\n",
            "Epoch: 2601 loss: [0.0249] w1: [-0.2  0. ] w2: [ 0.4 -0.1  0.2  0.4] w3: [-0.3  1. ] b1: [ 0.1 -0.1] b2: [-0.2  0.3] b3: [0.1]\n",
            "Epoch: 2701 loss: [0.0248] w1: [-0.2  0. ] w2: [ 0.4 -0.1  0.2  0.4] w3: [-0.3  1. ] b1: [ 0.1 -0.1] b2: [-0.2  0.3] b3: [0.1]\n",
            "Epoch: 2801 loss: [0.0248] w1: [-0.2  0. ] w2: [ 0.4 -0.1  0.2  0.4] w3: [-0.3  1. ] b1: [ 0.1 -0.1] b2: [-0.2  0.3] b3: [0.1]\n",
            "Epoch: 2901 loss: [0.0247] w1: [-0.2 -0. ] w2: [ 0.4 -0.1  0.2  0.4] w3: [-0.3  1. ] b1: [ 0.1 -0.1] b2: [-0.2  0.3] b3: [0.1]\n",
            "Epoch: 3001 loss: [0.0247] w1: [-0.2 -0. ] w2: [ 0.4 -0.1  0.2  0.4] w3: [-0.3  1. ] b1: [ 0.1 -0.1] b2: [-0.2  0.3] b3: [0.1]\n",
            "Epoch: 3101 loss: [0.0247] w1: [-0.2 -0. ] w2: [ 0.4 -0.1  0.2  0.4] w3: [-0.3  1. ] b1: [ 0.1 -0.1] b2: [-0.2  0.3] b3: [0.1]\n",
            "Epoch: 3201 loss: [0.0246] w1: [-0.3 -0. ] w2: [ 0.4 -0.1  0.2  0.4] w3: [-0.3  1. ] b1: [ 0.1 -0.1] b2: [-0.2  0.3] b3: [0.1]\n",
            "Epoch: 3301 loss: [0.0246] w1: [-0.3 -0.1] w2: [ 0.4 -0.1  0.2  0.4] w3: [-0.2  1. ] b1: [ 0.1 -0.1] b2: [-0.2  0.3] b3: [0.1]\n",
            "Epoch: 3401 loss: [0.0246] w1: [-0.3 -0.1] w2: [ 0.4 -0.1  0.2  0.4] w3: [-0.2  1.1] b1: [ 0.1 -0.1] b2: [-0.2  0.3] b3: [0.1]\n",
            "Epoch: 3501 loss: [0.0245] w1: [-0.3 -0.1] w2: [ 0.4 -0.1  0.2  0.4] w3: [-0.2  1.1] b1: [ 0.1 -0.1] b2: [-0.2  0.3] b3: [0.1]\n",
            "Epoch: 3601 loss: [0.0245] w1: [-0.3 -0.1] w2: [ 0.4 -0.1  0.2  0.4] w3: [-0.2  1.1] b1: [ 0.1 -0.1] b2: [-0.2  0.3] b3: [0.1]\n",
            "Epoch: 3701 loss: [0.0245] w1: [-0.3 -0.1] w2: [ 0.4 -0.1  0.2  0.4] w3: [-0.2  1.1] b1: [ 0.1 -0.1] b2: [-0.2  0.3] b3: [0.1]\n",
            "Epoch: 3801 loss: [0.0245] w1: [-0.3 -0.1] w2: [ 0.4 -0.1  0.2  0.4] w3: [-0.2  1.1] b1: [ 0.1 -0.1] b2: [-0.2  0.3] b3: [0.1]\n",
            "Epoch: 3901 loss: [0.0244] w1: [-0.4 -0.1] w2: [ 0.4 -0.1  0.2  0.4] w3: [-0.2  1.1] b1: [ 0.1 -0.1] b2: [-0.2  0.3] b3: [0.1]\n",
            "Epoch: 4001 loss: [0.0244] w1: [-0.4 -0.1] w2: [ 0.4 -0.1  0.2  0.4] w3: [-0.2  1.1] b1: [ 0.1 -0.1] b2: [-0.2  0.2] b3: [0.1]\n",
            "Epoch: 4101 loss: [0.0244] w1: [-0.4 -0.1] w2: [ 0.4 -0.1  0.2  0.4] w3: [-0.2  1.1] b1: [ 0.1 -0.1] b2: [-0.2  0.2] b3: [0.1]\n",
            "Epoch: 4201 loss: [0.0244] w1: [-0.4 -0.1] w2: [ 0.4 -0.1  0.2  0.4] w3: [-0.1  1.1] b1: [ 0.1 -0.1] b2: [-0.2  0.2] b3: [0.1]\n",
            "Epoch: 4301 loss: [0.0244] w1: [-0.4 -0.2] w2: [ 0.4 -0.1  0.2  0.4] w3: [-0.1  1.1] b1: [ 0.1 -0.1] b2: [-0.2  0.2] b3: [0.1]\n",
            "Epoch: 4401 loss: [0.0243] w1: [-0.4 -0.2] w2: [ 0.4 -0.1  0.2  0.4] w3: [-0.1  1.2] b1: [ 0.1 -0.1] b2: [-0.2  0.2] b3: [0.1]\n",
            "Epoch: 4501 loss: [0.0243] w1: [-0.4 -0.2] w2: [ 0.4 -0.1  0.2  0.4] w3: [-0.1  1.2] b1: [ 0.1 -0.1] b2: [-0.2  0.2] b3: [0.1]\n",
            "Epoch: 4601 loss: [0.0243] w1: [-0.5 -0.2] w2: [ 0.4 -0.1  0.2  0.4] w3: [-0.1  1.2] b1: [ 0.1 -0.1] b2: [-0.2  0.2] b3: [0.1]\n",
            "Epoch: 4701 loss: [0.0243] w1: [-0.5 -0.2] w2: [ 0.4 -0.1  0.2  0.4] w3: [-0.1  1.2] b1: [ 0.1 -0.1] b2: [-0.2  0.2] b3: [0.1]\n",
            "Epoch: 4801 loss: [0.0243] w1: [-0.5 -0.2] w2: [ 0.4 -0.1  0.2  0.4] w3: [-0.1  1.2] b1: [ 0.1 -0.1] b2: [-0.2  0.2] b3: [0.1]\n",
            "Epoch: 4901 loss: [0.0243] w1: [-0.5 -0.2] w2: [ 0.4 -0.1  0.2  0.3] w3: [-0.1  1.2] b1: [ 0.1 -0.1] b2: [-0.2  0.2] b3: [0.1]\n",
            "Epoch: 5001 loss: [0.0242] w1: [-0.5 -0.2] w2: [ 0.4 -0.1  0.2  0.3] w3: [-0.1  1.2] b1: [ 0.1 -0.1] b2: [-0.2  0.2] b3: [0.1]\n",
            "Epoch: 5101 loss: [0.0242] w1: [-0.5 -0.2] w2: [ 0.4 -0.1  0.2  0.3] w3: [-0.   1.2] b1: [ 0.1 -0.1] b2: [-0.2  0.2] b3: [0.1]\n",
            "Epoch: 5201 loss: [0.0242] w1: [-0.5 -0.3] w2: [ 0.4 -0.1  0.2  0.3] w3: [-0.   1.2] b1: [ 0.1 -0.1] b2: [-0.2  0.2] b3: [0.1]\n",
            "Epoch: 5301 loss: [0.0242] w1: [-0.6 -0.3] w2: [ 0.4 -0.1  0.2  0.3] w3: [-0.   1.3] b1: [ 0.1 -0.1] b2: [-0.2  0.2] b3: [0.1]\n",
            "Epoch: 5401 loss: [0.0242] w1: [-0.6 -0.3] w2: [ 0.4 -0.1  0.2  0.3] w3: [-0.   1.3] b1: [ 0.1 -0.1] b2: [-0.2  0.2] b3: [0.1]\n",
            "Epoch: 5501 loss: [0.0242] w1: [-0.6 -0.3] w2: [ 0.4 -0.1  0.2  0.3] w3: [-0.   1.3] b1: [ 0.1 -0.1] b2: [-0.2  0.2] b3: [0.1]\n",
            "Epoch: 5601 loss: [0.0242] w1: [-0.6 -0.3] w2: [ 0.4 -0.1  0.2  0.3] w3: [0.  1.3] b1: [ 0.1 -0.1] b2: [-0.2  0.2] b3: [0.1]\n",
            "Epoch: 5701 loss: [0.0242] w1: [-0.6 -0.3] w2: [ 0.4 -0.1  0.2  0.3] w3: [0.  1.3] b1: [ 0.1 -0.1] b2: [-0.2  0.2] b3: [0.1]\n",
            "Epoch: 5801 loss: [0.0242] w1: [-0.6 -0.3] w2: [ 0.4 -0.1  0.2  0.3] w3: [0.  1.3] b1: [ 0.1 -0.1] b2: [-0.2  0.2] b3: [0.1]\n",
            "Epoch: 5901 loss: [0.0242] w1: [-0.6 -0.3] w2: [ 0.4 -0.1  0.2  0.3] w3: [0.  1.3] b1: [ 0.1 -0.1] b2: [-0.2  0.2] b3: [0.1]\n",
            "Epoch: 6001 loss: [0.0242] w1: [-0.7 -0.3] w2: [ 0.4 -0.1  0.2  0.3] w3: [0.1 1.3] b1: [ 0.1 -0.1] b2: [-0.2  0.2] b3: [0.1]\n",
            "Epoch: 6101 loss: [0.0242] w1: [-0.7 -0.4] w2: [ 0.4 -0.1  0.2  0.3] w3: [0.1 1.3] b1: [ 0.1 -0.1] b2: [-0.2  0.2] b3: [0.1]\n",
            "Epoch: 6201 loss: [0.0242] w1: [-0.7 -0.4] w2: [ 0.4 -0.1  0.2  0.3] w3: [0.1 1.3] b1: [ 0.1 -0.1] b2: [-0.2  0.2] b3: [0.1]\n",
            "Epoch: 6301 loss: [0.0242] w1: [-0.7 -0.4] w2: [ 0.4 -0.1  0.2  0.3] w3: [0.1 1.4] b1: [ 0.1 -0.1] b2: [-0.2  0.2] b3: [0.1]\n",
            "Epoch: 6401 loss: [0.0242] w1: [-0.7 -0.4] w2: [ 0.4 -0.1  0.2  0.3] w3: [0.1 1.4] b1: [ 0.1 -0.1] b2: [-0.2  0.2] b3: [0.1]\n",
            "Epoch: 6501 loss: [0.0242] w1: [-0.7 -0.4] w2: [ 0.4 -0.1  0.2  0.3] w3: [0.1 1.4] b1: [ 0.1 -0.1] b2: [-0.2  0.2] b3: [0.1]\n",
            "Epoch: 6601 loss: [0.0242] w1: [-0.7 -0.4] w2: [ 0.4 -0.1  0.2  0.3] w3: [0.1 1.4] b1: [ 0.1 -0.1] b2: [-0.2  0.2] b3: [0.1]\n",
            "Epoch: 6701 loss: [0.0242] w1: [-0.8 -0.4] w2: [ 0.4 -0.1  0.2  0.3] w3: [0.1 1.4] b1: [ 0.1 -0.1] b2: [-0.2  0.2] b3: [0.1]\n",
            "Epoch: 6801 loss: [0.0242] w1: [-0.8 -0.4] w2: [ 0.4 -0.1  0.2  0.3] w3: [0.1 1.4] b1: [ 0.1 -0.1] b2: [-0.2  0.2] b3: [0.1]\n",
            "Epoch: 6901 loss: [0.0242] w1: [-0.8 -0.4] w2: [ 0.4 -0.1  0.2  0.3] w3: [0.2 1.4] b1: [ 0.1 -0.1] b2: [-0.2  0.2] b3: [0.1]\n",
            "Epoch: 7001 loss: [0.0242] w1: [-0.8 -0.4] w2: [ 0.4 -0.1  0.2  0.3] w3: [0.2 1.4] b1: [ 0.1 -0.1] b2: [-0.2  0.2] b3: [0.1]\n",
            "Epoch: 7101 loss: [0.0242] w1: [-0.8 -0.5] w2: [ 0.4 -0.1  0.2  0.3] w3: [0.2 1.4] b1: [ 0.1 -0.1] b2: [-0.2  0.2] b3: [0.1]\n",
            "Epoch: 7201 loss: [0.0242] w1: [-0.8 -0.5] w2: [ 0.4 -0.1  0.2  0.3] w3: [0.2 1.4] b1: [ 0.1 -0.1] b2: [-0.2  0.2] b3: [0.1]\n",
            "Epoch: 7301 loss: [0.0242] w1: [-0.8 -0.5] w2: [ 0.4 -0.1  0.2  0.3] w3: [0.2 1.5] b1: [ 0.1 -0.1] b2: [-0.2  0.2] b3: [0.1]\n",
            "Epoch: 7401 loss: [0.0242] w1: [-0.9 -0.5] w2: [ 0.4 -0.1  0.2  0.3] w3: [0.2 1.5] b1: [ 0.1 -0.1] b2: [-0.2  0.2] b3: [0.1]\n",
            "Epoch: 7501 loss: [0.0243] w1: [-0.9 -0.5] w2: [ 0.4 -0.1  0.2  0.3] w3: [0.2 1.5] b1: [ 0.1 -0.1] b2: [-0.2  0.2] b3: [0.1]\n",
            "Epoch: 7601 loss: [0.0243] w1: [-0.9 -0.5] w2: [ 0.4 -0.1  0.2  0.3] w3: [0.2 1.5] b1: [ 0.1 -0.1] b2: [-0.2  0.2] b3: [0.1]\n",
            "Epoch: 7701 loss: [0.0243] w1: [-0.9 -0.5] w2: [ 0.4 -0.1  0.2  0.3] w3: [0.2 1.5] b1: [ 0.1 -0.1] b2: [-0.2  0.2] b3: [0.1]\n",
            "Epoch: 7801 loss: [0.0243] w1: [-0.9 -0.5] w2: [ 0.4 -0.1  0.2  0.3] w3: [0.3 1.5] b1: [ 0.1 -0.1] b2: [-0.2  0.2] b3: [0.1]\n",
            "Epoch: 7901 loss: [0.0243] w1: [-0.9 -0.5] w2: [ 0.4 -0.1  0.2  0.3] w3: [0.3 1.5] b1: [ 0.1 -0.1] b2: [-0.2  0.2] b3: [0.1]\n",
            "Epoch: 8001 loss: [0.0243] w1: [-0.9 -0.6] w2: [ 0.4 -0.1  0.2  0.3] w3: [0.3 1.5] b1: [ 0.1 -0.1] b2: [-0.2  0.2] b3: [0.1]\n",
            "Epoch: 8101 loss: [0.0244] w1: [-1.  -0.6] w2: [ 0.4 -0.1  0.2  0.3] w3: [0.3 1.5] b1: [ 0.1 -0.1] b2: [-0.2  0.2] b3: [0.1]\n",
            "Epoch: 8201 loss: [0.0244] w1: [-1.  -0.6] w2: [ 0.4 -0.1  0.2  0.2] w3: [0.3 1.6] b1: [ 0.1 -0.1] b2: [-0.2  0.2] b3: [0.1]\n",
            "Epoch: 8301 loss: [0.0244] w1: [-1.  -0.6] w2: [ 0.4 -0.1  0.2  0.2] w3: [0.3 1.6] b1: [ 0.1 -0.1] b2: [-0.2  0.2] b3: [0.1]\n",
            "Epoch: 8401 loss: [0.0244] w1: [-1.  -0.6] w2: [ 0.4 -0.1  0.2  0.2] w3: [0.3 1.6] b1: [ 0.1 -0.1] b2: [-0.2  0.2] b3: [0.1]\n",
            "Epoch: 8501 loss: [0.0244] w1: [-1.  -0.6] w2: [ 0.4 -0.1  0.2  0.2] w3: [0.3 1.6] b1: [ 0.1 -0.1] b2: [-0.2  0.2] b3: [0.1]\n",
            "Epoch: 8601 loss: [0.0245] w1: [-1.  -0.6] w2: [ 0.4 -0.1  0.2  0.2] w3: [0.3 1.6] b1: [ 0.1 -0.1] b2: [-0.2  0.2] b3: [0.]\n",
            "Epoch: 8701 loss: [0.0245] w1: [-1.  -0.6] w2: [ 0.4 -0.1  0.2  0.2] w3: [0.3 1.6] b1: [ 0.1 -0.1] b2: [-0.2  0.2] b3: [0.]\n",
            "Epoch: 8801 loss: [0.0245] w1: [-1.1 -0.6] w2: [ 0.4 -0.1  0.2  0.2] w3: [0.4 1.6] b1: [ 0.1 -0.1] b2: [-0.2  0.2] b3: [0.]\n",
            "Epoch: 8901 loss: [0.0245] w1: [-1.1 -0.7] w2: [ 0.4 -0.1  0.2  0.2] w3: [0.4 1.6] b1: [ 0.1 -0.1] b2: [-0.2  0.2] b3: [0.]\n",
            "Epoch: 9001 loss: [0.0246] w1: [-1.1 -0.7] w2: [ 0.4 -0.1  0.2  0.2] w3: [0.4 1.6] b1: [ 0.1 -0.1] b2: [-0.2  0.2] b3: [0.]\n",
            "Epoch: 9101 loss: [0.0246] w1: [-1.1 -0.7] w2: [ 0.4 -0.1  0.2  0.2] w3: [0.4 1.6] b1: [ 0.1 -0.1] b2: [-0.2  0.2] b3: [0.]\n",
            "Epoch: 9201 loss: [0.0246] w1: [-1.1 -0.7] w2: [ 0.4 -0.1  0.2  0.2] w3: [0.4 1.7] b1: [ 0.1 -0.1] b2: [-0.2  0.2] b3: [0.]\n",
            "Epoch: 9301 loss: [0.0247] w1: [-1.1 -0.7] w2: [ 0.4 -0.1  0.2  0.2] w3: [0.4 1.7] b1: [ 0.1 -0.1] b2: [-0.2  0.2] b3: [0.]\n",
            "Epoch: 9401 loss: [0.0247] w1: [-1.1 -0.7] w2: [ 0.4 -0.1  0.2  0.2] w3: [0.4 1.7] b1: [ 0.1 -0.1] b2: [-0.2  0.2] b3: [0.]\n",
            "Epoch: 9501 loss: [0.0247] w1: [-1.2 -0.7] w2: [ 0.4 -0.1  0.2  0.2] w3: [0.4 1.7] b1: [ 0.1 -0.1] b2: [-0.2  0.2] b3: [0.]\n",
            "Epoch: 9601 loss: [0.0248] w1: [-1.2 -0.7] w2: [ 0.4 -0.1  0.2  0.2] w3: [0.4 1.7] b1: [ 0.1 -0.1] b2: [-0.2  0.2] b3: [0.]\n",
            "Epoch: 9701 loss: [0.0248] w1: [-1.2 -0.7] w2: [ 0.4 -0.1  0.2  0.2] w3: [0.5 1.7] b1: [ 0.1 -0.1] b2: [-0.2  0.2] b3: [0.]\n",
            "Epoch: 9801 loss: [0.0248] w1: [-1.2 -0.7] w2: [ 0.4 -0.1  0.2  0.2] w3: [0.5 1.7] b1: [ 0.1 -0.1] b2: [-0.2  0.2] b3: [0.]\n",
            "Epoch: 9901 loss: [0.0249] w1: [-1.2 -0.8] w2: [ 0.4 -0.1  0.2  0.2] w3: [0.5 1.7] b1: [ 0.1 -0.1] b2: [-0.2  0.2] b3: [0.]\n"
          ]
        },
        {
          "output_type": "display_data",
          "data": {
            "text/plain": [
              "<Figure size 640x480 with 1 Axes>"
            ],
            "image/png": "[encoded data removed]"
          },
          "metadata": {}
        }
      ]
    },
    {
      "cell_type": "code",
      "source": [
        "import torch\n",
        "import matplotlib.pyplot as plt"
      ],
      "metadata": {
        "id": "Afp6wdH0Qa2Y"
      },
      "execution_count": 118,
      "outputs": []
    },
    {
      "cell_type": "code",
      "source": [
        "#前向传播，求输出y_pred\n",
        "def th_forward(w1, w2, w3, b1, b2, b3, x):\n",
        "  z1 = torch.matmul(x, w1) + b1 #shape (2,2)\n",
        "  h1 = torch.relu(z1) #shape (2,2)\n",
        "\n",
        "  z2 = torch.matmul(h1, w2) + b2 #shape (2,2)\n",
        "  h2 = torch.relu(z2)\n",
        "\n",
        "  zout = torch.matmul(h2, w3) + b3 #shape (2,1)\n",
        "  y_pred = torch.sigmoid(zout) #shape (2,1)\n",
        "  return y_pred"
      ],
      "metadata": {
        "id": "HJRZA99ARNQw"
      },
      "execution_count": 119,
      "outputs": []
    },
    {
      "cell_type": "code",
      "source": [
        "#求损失函数loss\n",
        "def compute_loss(y_pred, y_true):\n",
        "  loss = (y_pred - y_true)**2 /2\n",
        "  return loss"
      ],
      "metadata": {
        "id": "e4Ii8o5fSr_6"
      },
      "execution_count": 120,
      "outputs": []
    },
    {
      "cell_type": "code",
      "source": [
        "w1 = torch.tensor([[0.2, 0.3]],requires_grad=True)\n",
        "\n",
        "b1 = torch.tensor([[0.1, -0.1]],requires_grad=True)\n",
        "\n",
        "w2 = torch.tensor([[0.4, -0.1],\n",
        "          [0.2, 0.5]],requires_grad=True)\n",
        "\n",
        "b2 = torch.tensor([[-0.2, 0.3]],requires_grad=True)\n",
        "\n",
        "w3 = torch.tensor([[-0.6],\n",
        "          [0.7]],requires_grad=True)\n",
        "\n",
        "b3 = torch.tensor([0.1],requires_grad=True)\n",
        "\n",
        "x = torch.tensor([[1.5],\n",
        "          [0.5]])\n",
        "\n",
        "y_true = torch.tensor([[0.6],\n",
        "            [0.9]])\n",
        "\n",
        "learning_rate = 0.01\n",
        "epochs = 10000\n",
        "\n",
        "losses = []\n",
        "\n",
        "for epoch in range(epochs):\n",
        "  y_pred = th_forward(w1, w2, w3, b1, b2, b3, x)\n",
        "  loss = compute_loss(y_pred, y_true)\n",
        "  #loss = torch.mean(compute_loss(y_pred, y_true), axis=0, keepdims=True).flatten()\n",
        "  losses.append(torch.mean(loss, axis=0, keepdims=True).flatten().item())\n",
        "\n",
        "  if w1.grad is not None:\n",
        "    w1.grad.zero_()\n",
        "    w2.grad.zero_()\n",
        "    w3.grad.zero_()\n",
        "    b1.grad.zero_()\n",
        "    b2.grad.zero_()\n",
        "    b3.grad.zero_()\n",
        "\n",
        "  loss.mean().backward()\n",
        "\n",
        "  with torch.no_grad():\n",
        "    w1 -= learning_rate * w1.grad\n",
        "    w2 -= learning_rate * w2.grad\n",
        "    w3 -= learning_rate * w3.grad\n",
        "    b1 -= learning_rate * b1.grad\n",
        "    b2 -= learning_rate * b2.grad\n",
        "    b3 -= learning_rate * b3.grad\n",
        "\n",
        "  if epoch%100 == 0:\n",
        "    print(\"Epoch:\", epoch + 1,\n",
        "      f\"loss: {loss.mean().item():.4f}\",\n",
        "      f\"y_pred: {y_pred.mean():.4f}\",\n",
        "      f\"w1: {w1.flatten().detach().numpy().round(2)}\",\n",
        "      f\"w2: {w2.flatten().detach().numpy().round(2)}\",\n",
        "      f\"w3: {w3.flatten().detach().numpy().round(2)}\",\n",
        "      f\"b1: {b1.flatten().detach().numpy().round(2)}\",\n",
        "      f\"b2: {b2.flatten().detach().numpy().round(2)}\",\n",
        "      f\"b3: {b3.flatten().detach().numpy().round(2)}\"\n",
        "      )\n",
        "\n",
        "plt.plot(range(epochs), losses, \"blue\")\n",
        "plt.xlabel(\"epoch axis\")\n",
        "plt.ylabel(\"loss axis\")\n",
        "plt.show()"
      ],
      "metadata": {
        "colab": {
          "base_uri": "https://localhost:8080/",
          "height": 1000
        },
        "id": "1EFj7m2uQ1HQ",
        "outputId": "ebe3d520-e702-4437-e1cc-2c7a79961464"
      },
      "execution_count": 121,
      "outputs": [
        {
          "output_type": "stream",
          "name": "stdout",
          "text": [
            "Epoch: 1 loss: 0.0260 y_pred: 0.5866 w1: [0.2 0.3] w2: [ 0.4 -0.1  0.2  0.5] w3: [-0.6  0.7] b1: [ 0.1 -0.1] b2: [-0.2  0.3] b3: [0.1]\n",
            "Epoch: 101 loss: 0.0234 y_pred: 0.6031 w1: [0.2  0.31] w2: [ 0.4  -0.09  0.2   0.5 ] w3: [-0.6   0.71] b1: [ 0.1  -0.09] b2: [-0.2   0.33] b3: [0.14]\n",
            "Epoch: 201 loss: 0.0214 y_pred: 0.6178 w1: [0.2  0.31] w2: [ 0.4  -0.09  0.2   0.5 ] w3: [-0.6   0.72] b1: [ 0.1  -0.07] b2: [-0.2   0.35] b3: [0.17]\n",
            "Epoch: 301 loss: 0.0197 y_pred: 0.6309 w1: [0.2  0.32] w2: [ 0.4  -0.09  0.2   0.5 ] w3: [-0.6   0.73] b1: [ 0.09 -0.06] b2: [-0.2   0.37] b3: [0.2]\n",
            "Epoch: 401 loss: 0.0184 y_pred: 0.6424 w1: [0.2  0.32] w2: [ 0.4  -0.08  0.2   0.5 ] w3: [-0.6   0.75] b1: [ 0.09 -0.05] b2: [-0.19  0.39] b3: [0.23]\n",
            "Epoch: 501 loss: 0.0173 y_pred: 0.6526 w1: [0.2  0.32] w2: [ 0.4  -0.08  0.2   0.51] w3: [-0.6   0.75] b1: [ 0.09 -0.04] b2: [-0.19  0.41] b3: [0.25]\n",
            "Epoch: 601 loss: 0.0164 y_pred: 0.6616 w1: [0.21 0.33] w2: [ 0.41 -0.08  0.21  0.51] w3: [-0.6   0.76] b1: [ 0.09 -0.03] b2: [-0.18  0.43] b3: [0.27]\n",
            "Epoch: 701 loss: 0.0156 y_pred: 0.6696 w1: [0.21 0.33] w2: [ 0.41 -0.08  0.21  0.51] w3: [-0.6   0.77] b1: [ 0.1  -0.02] b2: [-0.18  0.44] b3: [0.29]\n",
            "Epoch: 801 loss: 0.0149 y_pred: 0.6767 w1: [0.21 0.33] w2: [ 0.41 -0.08  0.21  0.5 ] w3: [-0.6   0.78] b1: [ 0.1  -0.02] b2: [-0.17  0.45] b3: [0.31]\n",
            "Epoch: 901 loss: 0.0144 y_pred: 0.6829 w1: [0.21 0.33] w2: [ 0.41 -0.08  0.21  0.5 ] w3: [-0.6   0.79] b1: [ 0.1  -0.01] b2: [-0.17  0.47] b3: [0.32]\n",
            "Epoch: 1001 loss: 0.0139 y_pred: 0.6884 w1: [0.22 0.33] w2: [ 0.42 -0.07  0.22  0.5 ] w3: [-0.6   0.79] b1: [ 0.1 -0. ] b2: [-0.16  0.48] b3: [0.34]\n",
            "Epoch: 1101 loss: 0.0135 y_pred: 0.6932 w1: [0.22 0.33] w2: [ 0.42 -0.07  0.22  0.5 ] w3: [-0.61  0.8 ] b1: [0.1 0. ] b2: [-0.16  0.49] b3: [0.35]\n",
            "Epoch: 1201 loss: 0.0131 y_pred: 0.6975 w1: [0.23 0.33] w2: [ 0.42 -0.07  0.22  0.5 ] w3: [-0.61  0.8 ] b1: [0.1  0.01] b2: [-0.15  0.5 ] b3: [0.36]\n",
            "Epoch: 1301 loss: 0.0128 y_pred: 0.7013 w1: [0.23 0.33] w2: [ 0.42 -0.07  0.23  0.5 ] w3: [-0.61  0.81] b1: [0.11 0.02] b2: [-0.14  0.51] b3: [0.37]\n",
            "Epoch: 1401 loss: 0.0125 y_pred: 0.7047 w1: [0.24 0.33] w2: [ 0.43 -0.07  0.23  0.5 ] w3: [-0.61  0.81] b1: [0.11 0.02] b2: [-0.14  0.51] b3: [0.38]\n",
            "Epoch: 1501 loss: 0.0123 y_pred: 0.7082 w1: [0.24 0.33] w2: [ 0.43 -0.07  0.23  0.5 ] w3: [-0.61  0.82] b1: [0.11 0.02] b2: [-0.14  0.52] b3: [0.39]\n",
            "Epoch: 1601 loss: 0.0121 y_pred: 0.7113 w1: [0.24 0.33] w2: [ 0.43 -0.08  0.23  0.5 ] w3: [-0.62  0.82] b1: [0.11 0.03] b2: [-0.14  0.53] b3: [0.4]\n",
            "Epoch: 1701 loss: 0.0120 y_pred: 0.7141 w1: [0.25 0.33] w2: [ 0.43 -0.08  0.24  0.49] w3: [-0.62  0.82] b1: [0.1  0.03] b2: [-0.14  0.53] b3: [0.41]\n",
            "Epoch: 1801 loss: 0.0118 y_pred: 0.7166 w1: [0.25 0.33] w2: [ 0.43 -0.08  0.24  0.49] w3: [-0.62  0.82] b1: [0.1  0.03] b2: [-0.14  0.54] b3: [0.42]\n",
            "Epoch: 1901 loss: 0.0117 y_pred: 0.7188 w1: [0.25 0.33] w2: [ 0.43 -0.08  0.24  0.49] w3: [-0.62  0.83] b1: [0.1  0.03] b2: [-0.15  0.55] b3: [0.42]\n",
            "Epoch: 2001 loss: 0.0116 y_pred: 0.7207 w1: [0.26 0.32] w2: [ 0.43 -0.08  0.24  0.49] w3: [-0.62  0.83] b1: [0.1  0.04] b2: [-0.15  0.55] b3: [0.43]\n",
            "Epoch: 2101 loss: 0.0115 y_pred: 0.7224 w1: [0.26 0.32] w2: [ 0.44 -0.08  0.24  0.48] w3: [-0.63  0.83] b1: [0.1  0.04] b2: [-0.15  0.56] b3: [0.43]\n",
            "Epoch: 2201 loss: 0.0114 y_pred: 0.7240 w1: [0.26 0.32] w2: [ 0.44 -0.08  0.25  0.48] w3: [-0.63  0.83] b1: [0.1  0.04] b2: [-0.15  0.56] b3: [0.44]\n",
            "Epoch: 2301 loss: 0.0113 y_pred: 0.7254 w1: [0.27 0.32] w2: [ 0.44 -0.09  0.25  0.48] w3: [-0.63  0.83] b1: [0.1  0.04] b2: [-0.15  0.56] b3: [0.45]\n",
            "Epoch: 2401 loss: 0.0112 y_pred: 0.7266 w1: [0.27 0.31] w2: [ 0.44 -0.09  0.25  0.48] w3: [-0.63  0.84] b1: [0.1  0.04] b2: [-0.15  0.57] b3: [0.45]\n",
            "Epoch: 2501 loss: 0.0111 y_pred: 0.7276 w1: [0.27 0.31] w2: [ 0.44 -0.09  0.25  0.47] w3: [-0.64  0.84] b1: [0.1  0.05] b2: [-0.15  0.57] b3: [0.45]\n",
            "Epoch: 2601 loss: 0.0111 y_pred: 0.7286 w1: [0.28 0.31] w2: [ 0.45 -0.09  0.26  0.47] w3: [-0.64  0.84] b1: [0.1  0.05] b2: [-0.16  0.57] b3: [0.46]\n",
            "Epoch: 2701 loss: 0.0110 y_pred: 0.7294 w1: [0.28 0.31] w2: [ 0.45 -0.09  0.26  0.47] w3: [-0.64  0.84] b1: [0.09 0.05] b2: [-0.16  0.58] b3: [0.46]\n",
            "Epoch: 2801 loss: 0.0109 y_pred: 0.7302 w1: [0.29 0.31] w2: [ 0.45 -0.1   0.26  0.47] w3: [-0.64  0.84] b1: [0.09 0.05] b2: [-0.16  0.58] b3: [0.47]\n",
            "Epoch: 2901 loss: 0.0108 y_pred: 0.7308 w1: [0.29 0.3 ] w2: [ 0.45 -0.1   0.26  0.46] w3: [-0.65  0.84] b1: [0.09 0.05] b2: [-0.16  0.58] b3: [0.47]\n",
            "Epoch: 3001 loss: 0.0108 y_pred: 0.7314 w1: [0.3 0.3] w2: [ 0.45 -0.1   0.26  0.46] w3: [-0.65  0.84] b1: [0.09 0.05] b2: [-0.16  0.59] b3: [0.47]\n",
            "Epoch: 3101 loss: 0.0107 y_pred: 0.7319 w1: [0.3 0.3] w2: [ 0.46 -0.1   0.27  0.46] w3: [-0.65  0.84] b1: [0.09 0.05] b2: [-0.16  0.59] b3: [0.48]\n",
            "Epoch: 3201 loss: 0.0106 y_pred: 0.7324 w1: [0.3 0.3] w2: [ 0.46 -0.11  0.27  0.46] w3: [-0.65  0.84] b1: [0.09 0.05] b2: [-0.16  0.59] b3: [0.48]\n",
            "Epoch: 3301 loss: 0.0105 y_pred: 0.7327 w1: [0.31 0.29] w2: [ 0.46 -0.11  0.27  0.45] w3: [-0.66  0.84] b1: [0.09 0.05] b2: [-0.17  0.6 ] b3: [0.48]\n",
            "Epoch: 3401 loss: 0.0104 y_pred: 0.7331 w1: [0.31 0.29] w2: [ 0.46 -0.11  0.27  0.45] w3: [-0.66  0.84] b1: [0.09 0.05] b2: [-0.17  0.6 ] b3: [0.49]\n",
            "Epoch: 3501 loss: 0.0104 y_pred: 0.7334 w1: [0.32 0.29] w2: [ 0.46 -0.11  0.27  0.45] w3: [-0.66  0.85] b1: [0.09 0.05] b2: [-0.17  0.6 ] b3: [0.49]\n",
            "Epoch: 3601 loss: 0.0103 y_pred: 0.7336 w1: [0.32 0.29] w2: [ 0.47 -0.12  0.28  0.45] w3: [-0.67  0.85] b1: [0.09 0.06] b2: [-0.17  0.6 ] b3: [0.49]\n",
            "Epoch: 3701 loss: 0.0102 y_pred: 0.7338 w1: [0.33 0.29] w2: [ 0.47 -0.12  0.28  0.44] w3: [-0.67  0.85] b1: [0.08 0.06] b2: [-0.17  0.6 ] b3: [0.49]\n",
            "Epoch: 3801 loss: 0.0101 y_pred: 0.7340 w1: [0.33 0.28] w2: [ 0.47 -0.12  0.28  0.44] w3: [-0.67  0.85] b1: [0.08 0.06] b2: [-0.17  0.61] b3: [0.5]\n",
            "Epoch: 3901 loss: 0.0101 y_pred: 0.7341 w1: [0.34 0.28] w2: [ 0.47 -0.12  0.28  0.44] w3: [-0.67  0.85] b1: [0.08 0.06] b2: [-0.17  0.61] b3: [0.5]\n",
            "Epoch: 4001 loss: 0.0100 y_pred: 0.7342 w1: [0.34 0.28] w2: [ 0.48 -0.13  0.29  0.44] w3: [-0.68  0.85] b1: [0.08 0.06] b2: [-0.18  0.61] b3: [0.5]\n",
            "Epoch: 4101 loss: 0.0099 y_pred: 0.7342 w1: [0.35 0.28] w2: [ 0.48 -0.13  0.29  0.43] w3: [-0.68  0.85] b1: [0.08 0.06] b2: [-0.18  0.61] b3: [0.5]\n",
            "Epoch: 4201 loss: 0.0098 y_pred: 0.7343 w1: [0.35 0.28] w2: [ 0.48 -0.13  0.29  0.43] w3: [-0.68  0.85] b1: [0.08 0.06] b2: [-0.18  0.62] b3: [0.51]\n",
            "Epoch: 4301 loss: 0.0098 y_pred: 0.7343 w1: [0.36 0.27] w2: [ 0.48 -0.14  0.29  0.43] w3: [-0.69  0.85] b1: [0.08 0.06] b2: [-0.18  0.62] b3: [0.51]\n",
            "Epoch: 4401 loss: 0.0097 y_pred: 0.7343 w1: [0.36 0.27] w2: [ 0.49 -0.14  0.29  0.43] w3: [-0.69  0.85] b1: [0.08 0.06] b2: [-0.18  0.62] b3: [0.51]\n",
            "Epoch: 4501 loss: 0.0096 y_pred: 0.7342 w1: [0.37 0.27] w2: [ 0.49 -0.14  0.3   0.42] w3: [-0.69  0.85] b1: [0.08 0.06] b2: [-0.18  0.62] b3: [0.51]\n",
            "Epoch: 4601 loss: 0.0095 y_pred: 0.7342 w1: [0.37 0.27] w2: [ 0.49 -0.15  0.3   0.42] w3: [-0.7   0.85] b1: [0.08 0.06] b2: [-0.19  0.62] b3: [0.52]\n",
            "Epoch: 4701 loss: 0.0094 y_pred: 0.7341 w1: [0.38 0.27] w2: [ 0.49 -0.15  0.3   0.42] w3: [-0.7   0.85] b1: [0.07 0.06] b2: [-0.19  0.63] b3: [0.52]\n",
            "Epoch: 4801 loss: 0.0094 y_pred: 0.7340 w1: [0.38 0.27] w2: [ 0.5  -0.15  0.3   0.42] w3: [-0.7   0.85] b1: [0.07 0.06] b2: [-0.19  0.63] b3: [0.52]\n",
            "Epoch: 4901 loss: 0.0093 y_pred: 0.7339 w1: [0.39 0.26] w2: [ 0.5  -0.16  0.3   0.41] w3: [-0.71  0.86] b1: [0.07 0.06] b2: [-0.19  0.63] b3: [0.52]\n",
            "Epoch: 5001 loss: 0.0092 y_pred: 0.7337 w1: [0.39 0.26] w2: [ 0.5  -0.16  0.31  0.41] w3: [-0.71  0.86] b1: [0.07 0.06] b2: [-0.19  0.63] b3: [0.52]\n",
            "Epoch: 5101 loss: 0.0091 y_pred: 0.7336 w1: [0.4  0.26] w2: [ 0.51 -0.16  0.31  0.41] w3: [-0.71  0.86] b1: [0.07 0.06] b2: [-0.19  0.63] b3: [0.53]\n",
            "Epoch: 5201 loss: 0.0090 y_pred: 0.7334 w1: [0.4  0.26] w2: [ 0.51 -0.17  0.31  0.41] w3: [-0.72  0.86] b1: [0.07 0.06] b2: [-0.2   0.63] b3: [0.53]\n",
            "Epoch: 5301 loss: 0.0089 y_pred: 0.7332 w1: [0.41 0.26] w2: [ 0.51 -0.17  0.31  0.4 ] w3: [-0.72  0.86] b1: [0.07 0.06] b2: [-0.2   0.64] b3: [0.53]\n",
            "Epoch: 5401 loss: 0.0088 y_pred: 0.7331 w1: [0.41 0.26] w2: [ 0.51 -0.18  0.31  0.4 ] w3: [-0.72  0.86] b1: [0.07 0.06] b2: [-0.2   0.64] b3: [0.53]\n",
            "Epoch: 5501 loss: 0.0087 y_pred: 0.7329 w1: [0.42 0.26] w2: [ 0.52 -0.18  0.31  0.4 ] w3: [-0.73  0.86] b1: [0.07 0.06] b2: [-0.2   0.64] b3: [0.54]\n",
            "Epoch: 5601 loss: 0.0087 y_pred: 0.7327 w1: [0.43 0.25] w2: [ 0.52 -0.18  0.32  0.4 ] w3: [-0.73  0.86] b1: [0.06 0.06] b2: [-0.2   0.64] b3: [0.54]\n",
            "Epoch: 5701 loss: 0.0086 y_pred: 0.7324 w1: [0.43 0.25] w2: [ 0.52 -0.19  0.32  0.4 ] w3: [-0.73  0.86] b1: [0.06 0.06] b2: [-0.2   0.64] b3: [0.54]\n",
            "Epoch: 5801 loss: 0.0085 y_pred: 0.7322 w1: [0.44 0.25] w2: [ 0.53 -0.19  0.32  0.39] w3: [-0.74  0.87] b1: [0.06 0.06] b2: [-0.2   0.65] b3: [0.54]\n",
            "Epoch: 5901 loss: 0.0084 y_pred: 0.7320 w1: [0.44 0.25] w2: [ 0.53 -0.19  0.32  0.39] w3: [-0.74  0.87] b1: [0.06 0.06] b2: [-0.21  0.65] b3: [0.54]\n",
            "Epoch: 6001 loss: 0.0083 y_pred: 0.7317 w1: [0.45 0.25] w2: [ 0.53 -0.2   0.32  0.39] w3: [-0.74  0.87] b1: [0.06 0.06] b2: [-0.21  0.65] b3: [0.55]\n",
            "Epoch: 6101 loss: 0.0082 y_pred: 0.7315 w1: [0.45 0.25] w2: [ 0.54 -0.2   0.33  0.39] w3: [-0.75  0.87] b1: [0.06 0.06] b2: [-0.21  0.65] b3: [0.55]\n",
            "Epoch: 6201 loss: 0.0081 y_pred: 0.7313 w1: [0.46 0.25] w2: [ 0.54 -0.21  0.33  0.39] w3: [-0.75  0.87] b1: [0.06 0.06] b2: [-0.21  0.65] b3: [0.55]\n",
            "Epoch: 6301 loss: 0.0080 y_pred: 0.7310 w1: [0.47 0.25] w2: [ 0.54 -0.21  0.33  0.38] w3: [-0.75  0.87] b1: [0.06 0.06] b2: [-0.21  0.66] b3: [0.55]\n",
            "Epoch: 6401 loss: 0.0079 y_pred: 0.7307 w1: [0.47 0.25] w2: [ 0.55 -0.21  0.33  0.38] w3: [-0.76  0.87] b1: [0.05 0.06] b2: [-0.21  0.66] b3: [0.56]\n",
            "Epoch: 6501 loss: 0.0078 y_pred: 0.7305 w1: [0.48 0.25] w2: [ 0.55 -0.22  0.33  0.38] w3: [-0.76  0.88] b1: [0.05 0.06] b2: [-0.22  0.66] b3: [0.56]\n",
            "Epoch: 6601 loss: 0.0077 y_pred: 0.7302 w1: [0.48 0.24] w2: [ 0.55 -0.22  0.33  0.38] w3: [-0.77  0.88] b1: [0.05 0.06] b2: [-0.22  0.66] b3: [0.56]\n",
            "Epoch: 6701 loss: 0.0076 y_pred: 0.7300 w1: [0.49 0.24] w2: [ 0.56 -0.23  0.34  0.38] w3: [-0.77  0.88] b1: [0.05 0.06] b2: [-0.22  0.66] b3: [0.56]\n",
            "Epoch: 6801 loss: 0.0075 y_pred: 0.7297 w1: [0.49 0.24] w2: [ 0.56 -0.23  0.34  0.37] w3: [-0.77  0.88] b1: [0.05 0.07] b2: [-0.22  0.67] b3: [0.56]\n",
            "Epoch: 6901 loss: 0.0074 y_pred: 0.7294 w1: [0.5  0.24] w2: [ 0.56 -0.23  0.34  0.37] w3: [-0.78  0.88] b1: [0.05 0.07] b2: [-0.22  0.67] b3: [0.57]\n",
            "Epoch: 7001 loss: 0.0073 y_pred: 0.7292 w1: [0.51 0.24] w2: [ 0.57 -0.24  0.34  0.37] w3: [-0.78  0.88] b1: [0.05 0.07] b2: [-0.23  0.67] b3: [0.57]\n",
            "Epoch: 7101 loss: 0.0072 y_pred: 0.7289 w1: [0.51 0.24] w2: [ 0.57 -0.24  0.34  0.37] w3: [-0.78  0.89] b1: [0.04 0.07] b2: [-0.23  0.67] b3: [0.57]\n",
            "Epoch: 7201 loss: 0.0071 y_pred: 0.7287 w1: [0.52 0.24] w2: [ 0.58 -0.25  0.34  0.37] w3: [-0.79  0.89] b1: [0.04 0.07] b2: [-0.23  0.67] b3: [0.57]\n",
            "Epoch: 7301 loss: 0.0070 y_pred: 0.7284 w1: [0.52 0.24] w2: [ 0.58 -0.25  0.35  0.36] w3: [-0.79  0.89] b1: [0.04 0.07] b2: [-0.23  0.68] b3: [0.58]\n",
            "Epoch: 7401 loss: 0.0069 y_pred: 0.7281 w1: [0.53 0.24] w2: [ 0.58 -0.25  0.35  0.36] w3: [-0.8   0.89] b1: [0.04 0.07] b2: [-0.23  0.68] b3: [0.58]\n",
            "Epoch: 7501 loss: 0.0068 y_pred: 0.7279 w1: [0.54 0.24] w2: [ 0.59 -0.26  0.35  0.36] w3: [-0.8   0.89] b1: [0.04 0.07] b2: [-0.24  0.68] b3: [0.58]\n",
            "Epoch: 7601 loss: 0.0066 y_pred: 0.7276 w1: [0.54 0.24] w2: [ 0.59 -0.26  0.35  0.36] w3: [-0.8  0.9] b1: [0.04 0.07] b2: [-0.24  0.68] b3: [0.58]\n",
            "Epoch: 7701 loss: 0.0065 y_pred: 0.7274 w1: [0.55 0.24] w2: [ 0.59 -0.27  0.35  0.36] w3: [-0.81  0.9 ] b1: [0.03 0.07] b2: [-0.24  0.69] b3: [0.59]\n",
            "Epoch: 7801 loss: 0.0064 y_pred: 0.7271 w1: [0.55 0.24] w2: [ 0.6  -0.27  0.35  0.36] w3: [-0.81  0.9 ] b1: [0.03 0.07] b2: [-0.24  0.69] b3: [0.59]\n",
            "Epoch: 7901 loss: 0.0063 y_pred: 0.7269 w1: [0.56 0.24] w2: [ 0.6  -0.27  0.35  0.35] w3: [-0.82  0.9 ] b1: [0.03 0.07] b2: [-0.24  0.69] b3: [0.59]\n",
            "Epoch: 8001 loss: 0.0062 y_pred: 0.7267 w1: [0.57 0.24] w2: [ 0.6  -0.28  0.36  0.35] w3: [-0.82  0.91] b1: [0.03 0.07] b2: [-0.25  0.69] b3: [0.59]\n",
            "Epoch: 8101 loss: 0.0061 y_pred: 0.7264 w1: [0.57 0.24] w2: [ 0.61 -0.28  0.36  0.35] w3: [-0.82  0.91] b1: [0.03 0.07] b2: [-0.25  0.69] b3: [0.6]\n",
            "Epoch: 8201 loss: 0.0060 y_pred: 0.7262 w1: [0.58 0.24] w2: [ 0.61 -0.29  0.36  0.35] w3: [-0.83  0.91] b1: [0.02 0.07] b2: [-0.25  0.7 ] b3: [0.6]\n",
            "Epoch: 8301 loss: 0.0059 y_pred: 0.7260 w1: [0.58 0.24] w2: [ 0.61 -0.29  0.36  0.35] w3: [-0.83  0.91] b1: [0.02 0.07] b2: [-0.25  0.7 ] b3: [0.6]\n",
            "Epoch: 8401 loss: 0.0058 y_pred: 0.7258 w1: [0.59 0.24] w2: [ 0.62 -0.29  0.36  0.35] w3: [-0.84  0.92] b1: [0.02 0.07] b2: [-0.25  0.7 ] b3: [0.6]\n",
            "Epoch: 8501 loss: 0.0057 y_pred: 0.7256 w1: [0.6  0.24] w2: [ 0.62 -0.3   0.36  0.35] w3: [-0.84  0.92] b1: [0.02 0.07] b2: [-0.26  0.7 ] b3: [0.61]\n",
            "Epoch: 8601 loss: 0.0055 y_pred: 0.7254 w1: [0.6  0.24] w2: [ 0.63 -0.3   0.36  0.34] w3: [-0.84  0.92] b1: [0.02 0.07] b2: [-0.26  0.71] b3: [0.61]\n",
            "Epoch: 8701 loss: 0.0054 y_pred: 0.7252 w1: [0.61 0.24] w2: [ 0.63 -0.31  0.36  0.34] w3: [-0.85  0.92] b1: [0.01 0.07] b2: [-0.26  0.71] b3: [0.61]\n",
            "Epoch: 8801 loss: 0.0053 y_pred: 0.7251 w1: [0.61 0.24] w2: [ 0.63 -0.31  0.37  0.34] w3: [-0.85  0.93] b1: [0.01 0.07] b2: [-0.26  0.71] b3: [0.62]\n",
            "Epoch: 8901 loss: 0.0052 y_pred: 0.7249 w1: [0.62 0.24] w2: [ 0.64 -0.31  0.37  0.34] w3: [-0.85  0.93] b1: [0.01 0.07] b2: [-0.27  0.71] b3: [0.62]\n",
            "Epoch: 9001 loss: 0.0051 y_pred: 0.7248 w1: [0.62 0.24] w2: [ 0.64 -0.32  0.37  0.34] w3: [-0.86  0.93] b1: [0.01 0.07] b2: [-0.27  0.72] b3: [0.62]\n",
            "Epoch: 9101 loss: 0.0050 y_pred: 0.7246 w1: [0.63 0.24] w2: [ 0.64 -0.32  0.37  0.34] w3: [-0.86  0.93] b1: [0.   0.07] b2: [-0.27  0.72] b3: [0.62]\n",
            "Epoch: 9201 loss: 0.0049 y_pred: 0.7245 w1: [0.64 0.24] w2: [ 0.65 -0.32  0.37  0.34] w3: [-0.87  0.94] b1: [0.   0.07] b2: [-0.27  0.72] b3: [0.63]\n",
            "Epoch: 9301 loss: 0.0048 y_pred: 0.7244 w1: [0.64 0.24] w2: [ 0.65 -0.33  0.37  0.34] w3: [-0.87  0.94] b1: [0.   0.07] b2: [-0.27  0.72] b3: [0.63]\n",
            "Epoch: 9401 loss: 0.0047 y_pred: 0.7243 w1: [0.65 0.24] w2: [ 0.65 -0.33  0.37  0.33] w3: [-0.87  0.94] b1: [-0.    0.07] b2: [-0.28  0.73] b3: [0.63]\n",
            "Epoch: 9501 loss: 0.0046 y_pred: 0.7242 w1: [0.65 0.24] w2: [ 0.66 -0.34  0.37  0.33] w3: [-0.88  0.95] b1: [-0.    0.07] b2: [-0.28  0.73] b3: [0.63]\n",
            "Epoch: 9601 loss: 0.0045 y_pred: 0.7241 w1: [0.66 0.24] w2: [ 0.66 -0.34  0.38  0.33] w3: [-0.88  0.95] b1: [-0.01  0.07] b2: [-0.28  0.73] b3: [0.64]\n",
            "Epoch: 9701 loss: 0.0044 y_pred: 0.7240 w1: [0.66 0.24] w2: [ 0.66 -0.34  0.38  0.33] w3: [-0.89  0.95] b1: [-0.01  0.07] b2: [-0.28  0.73] b3: [0.64]\n",
            "Epoch: 9801 loss: 0.0043 y_pred: 0.7237 w1: [0.67 0.24] w2: [ 0.67 -0.35  0.38  0.33] w3: [-0.89  0.95] b1: [-0.01  0.07] b2: [-0.29  0.74] b3: [0.64]\n",
            "Epoch: 9901 loss: 0.0042 y_pred: 0.7235 w1: [0.67 0.24] w2: [ 0.67 -0.35  0.38  0.33] w3: [-0.89  0.96] b1: [-0.01  0.07] b2: [-0.29  0.74] b3: [0.64]\n"
          ]
        },
        {
          "output_type": "display_data",
          "data": {
            "text/plain": [
              "<Figure size 640x480 with 1 Axes>"
            ],
            "image/png": "[encoded data removed]"
          },
          "metadata": {}
        }
      ]
    }
  ]
}