{
  "nbformat": 4,
  "nbformat_minor": 0,
  "metadata": {
    "colab": {
      "provenance": [],
      "authorship_tag": "ABX9TyNEPME3tC9ERr0Z9fzoep24"
    },
    "kernelspec": {
      "name": "python3",
      "display_name": "Python 3"
    },
    "language_info": {
      "name": "python"
    }
  },
  "cells": [
    {
      "cell_type": "code",
      "execution_count": 1,
      "metadata": {
        "id": "4svNPyrApKAA"
      },
      "outputs": [],
      "source": [
        "#考虑一个用于多类别分类的神经网络，结构如下：\n",
        "\n",
        "#2 个 输入节点 (x_1, x_2) (输入一个批次的 (X))\n",
        "#一个隐藏层，包含 2 个 神经元 (h_1, h_2)，使用 Tanh 激活函数。\n",
        "#3 个 输出节点（对应3个类别） (y_{pred,1}, y_{pred,2}, y_{pred,3})，使用 Softmax 激活函数。"
      ]
    },
    {
      "cell_type": "code",
      "source": [
        "import numpy as np\n",
        "import matplotlib.pyplot as plt"
      ],
      "metadata": {
        "id": "SLj8ERTQ_iUJ"
      },
      "execution_count": 2,
      "outputs": []
    },
    {
      "cell_type": "code",
      "source": [
        "#激活函数tanh\n",
        "def tanh(a):\n",
        "  return np.tanh(a)"
      ],
      "metadata": {
        "id": "51dDj5CtZfpZ"
      },
      "execution_count": 3,
      "outputs": []
    },
    {
      "cell_type": "code",
      "source": [
        "#softmax激活函数\n",
        "def softmax(a):\n",
        "  a_max = np.max(a, axis=1, keepdims=True)\n",
        "  z = np.exp(a-a_max)\n",
        "\n",
        "  sums = np.sum(z, axis=1, keepdims=True)\n",
        "  return z / sums"
      ],
      "metadata": {
        "id": "KpqZRDdLZqy_"
      },
      "execution_count": 13,
      "outputs": []
    },
    {
      "cell_type": "code",
      "source": [
        "#前向传播，求y_pred\n",
        "def farword(w1, w2, b1, b2, x):\n",
        "  z = np.dot(x, w1) + b1 #shape (2,2)\n",
        "  h = tanh(z)\n",
        "\n",
        "  zout = np.dot(h, w2) + b2 #shape (2,3)\n",
        "  y_pred = softmax(zout)\n",
        "\n",
        "  return h, y_pred\n"
      ],
      "metadata": {
        "id": "81BlDo2yelVS"
      },
      "execution_count": 31,
      "outputs": []
    },
    {
      "cell_type": "code",
      "source": [
        "#求损失函数loss\n",
        "def compute_loss(y_true, y_pred):\n",
        "  loss = -np.sum(y_true * np.log(y_pred + 1e-10))/ y_pred.shape[0]\n",
        "  return loss #shape (2,3)"
      ],
      "metadata": {
        "id": "AFhMP4LsgUkD"
      },
      "execution_count": 26,
      "outputs": []
    },
    {
      "cell_type": "code",
      "source": [
        "#反向传播,计算梯度值\n",
        "def backward(y_pred, y_true, h, w2, x):\n",
        "  dzout = y_pred - y_true\n",
        "  b2_grad = np.mean(dzout, axis=0, keepdims=True).flatten()\n",
        "  w2_grad = np.dot(h, dzout) #shape (2,3)\n",
        "\n",
        "  dh = np.dot(dzout, w2.T)\n",
        "  dz = dh * (1-h**2)\n",
        "  b1_grad = np.mean(dz).flatten()\n",
        "  w1_grad = np.dot(x, dz) #shape (2,2)\n",
        "  return w1_grad, w2_grad, b1_grad, b2_grad"
      ],
      "metadata": {
        "id": "S9HkJqfzhDKa"
      },
      "execution_count": 29,
      "outputs": []
    },
    {
      "cell_type": "code",
      "source": [
        "#参数更新\n",
        "def update_params(w1, w2, b1, b2, w1_grad, w2_grad, b1_grad, b2_grad, learning_rate):\n",
        "    w1 -= learning_rate * w1_grad\n",
        "    w2 -= learning_rate * w2_grad\n",
        "    b1 -= learning_rate * b1_grad\n",
        "    b2 -= learning_rate * b2_grad\n",
        "    return w1, w2, b1, b2"
      ],
      "metadata": {
        "id": "CyENttRzo62d"
      },
      "execution_count": 33,
      "outputs": []
    },
    {
      "cell_type": "code",
      "source": [
        "w1 = np.array([[0.1, -0.2],\n",
        "        [0.3, 0.1]]) #shape (2,2)\n",
        "\n",
        "b1 = np.array([0.1, -0.1]) #shape (2,)\n",
        "\n",
        "\n",
        "w2 = np.array([[0.2, -0.1, 0.3],\n",
        "        [0.4, 0.1, -0.2]])\n",
        "\n",
        "b2 = np.array([0.1, -0.2, 0.1])\n",
        "\n",
        "x = np.array([[1.0, 0.5],\n",
        "        [-0.5, -1.0]]) #shape (2,2)\n",
        "\n",
        "y_true = np.array([[0, 1, 0],\n",
        "          [0, 0, 1]]) #shape (2,3)\n",
        "\n",
        "learning_rate = 0.03\n",
        "losses = []\n",
        "epochs = 800\n",
        "\n",
        "for epoch in range(epochs):\n",
        "  h, y_pred = farword(w1, w2, b1, b2, x)\n",
        "  loss = compute_loss(y_true, y_pred)\n",
        "  losses.append(loss)\n",
        "\n",
        "  w1_grad, w2_grad, b1_grad, b2_grad = backward(y_pred, y_true, h, w2, x)\n",
        "  w1, w2, b1, b2 = update_params(w1, w2, b1, b2, w1_grad, w2_grad, b1_grad, b2_grad, learning_rate)\n",
        "\n",
        "  if epoch%10 == 0:\n",
        "    print(\"Epochs:\", epoch + 1,\n",
        "      \"loss:\", np.round(loss, 4),\n",
        "      \"w1:\", np.round(w1.flatten(), 2),\n",
        "      \"w2:\", np.round(w2.flatten(), 2),\n",
        "      \"b1:\", np.round(b1.flatten(), 2),\n",
        "      \"b2:\", np.round(b2.flatten(), 2)\n",
        "      )\n",
        "\n",
        "plt.plot(range(epochs), losses, \"yellow\")\n",
        "plt.xlabel(\"epoch axis\")\n",
        "plt.ylabel(\"loss axis\")\n",
        "plt.show()"
      ],
      "metadata": {
        "id": "9vBTlavi_ugF",
        "colab": {
          "base_uri": "https://localhost:8080/",
          "height": 1000
        },
        "outputId": "c2e0d08b-c0bb-4c22-ff32-6c249a54b9fb"
      },
      "execution_count": 37,
      "outputs": [
        {
          "output_type": "stream",
          "name": "stdout",
          "text": [
            "Epochs: 1 loss: 1.2066 w1: [ 0.1  -0.2   0.3   0.11] w2: [ 0.2  -0.09  0.29  0.4   0.1  -0.2 ] b1: [ 0.1 -0.1] b2: [ 0.09 -0.19  0.1 ]\n",
            "Epochs: 11 loss: 1.1065 w1: [ 0.05 -0.24  0.3   0.19] w2: [ 0.2  -0.    0.21  0.44  0.05 -0.2 ] b1: [ 0.07 -0.13] b2: [-0.01 -0.13  0.13]\n",
            "Epochs: 21 loss: 1.0288 w1: [ 0.03 -0.29  0.3   0.27] w2: [ 0.2   0.08  0.12  0.48  0.02 -0.21] b1: [ 0.05 -0.15] b2: [-0.09 -0.07  0.16]\n",
            "Epochs: 31 loss: 0.9644 w1: [ 0.02 -0.33  0.31  0.34] w2: [ 0.21  0.15  0.04  0.53 -0.01 -0.22] b1: [ 0.02 -0.18] b2: [-0.17 -0.01  0.18]\n",
            "Epochs: 41 loss: 0.907 w1: [ 0.03 -0.37  0.33  0.41] w2: [ 0.21  0.22 -0.04  0.57 -0.03 -0.24] b1: [ 0.  -0.2] b2: [-0.24  0.03  0.2 ]\n",
            "Epochs: 51 loss: 0.8516 w1: [ 0.05 -0.41  0.35  0.47] w2: [ 0.22  0.3  -0.12  0.62 -0.05 -0.26] b1: [-0.01 -0.21] b2: [-0.3   0.08  0.22]\n",
            "Epochs: 61 loss: 0.7941 w1: [ 0.08 -0.45  0.38  0.53] w2: [ 0.23  0.37 -0.2   0.66 -0.08 -0.28] b1: [-0.03 -0.23] b2: [-0.35  0.12  0.23]\n",
            "Epochs: 71 loss: 0.7319 w1: [ 0.13 -0.48  0.4   0.58] w2: [ 0.23  0.46 -0.29  0.71 -0.11 -0.3 ] b1: [-0.04 -0.24] b2: [-0.4   0.16  0.24]\n",
            "Epochs: 81 loss: 0.6641 w1: [ 0.2  -0.52  0.43  0.63] w2: [ 0.23  0.55 -0.38  0.75 -0.14 -0.31] b1: [-0.05 -0.25] b2: [-0.44  0.2   0.24]\n",
            "Epochs: 91 loss: 0.5922 w1: [ 0.27 -0.56  0.45  0.67] w2: [ 0.23  0.65 -0.48  0.79 -0.17 -0.32] b1: [-0.05 -0.25] b2: [-0.48  0.23  0.25]\n",
            "Epochs: 101 loss: 0.52 w1: [ 0.34 -0.59  0.48  0.71] w2: [ 0.23  0.75 -0.57  0.83 -0.21 -0.33] b1: [-0.06 -0.26] b2: [-0.51  0.26  0.26]\n",
            "Epochs: 111 loss: 0.4516 w1: [ 0.41 -0.63  0.5   0.75] w2: [ 0.22  0.85 -0.67  0.87 -0.24 -0.33] b1: [-0.06 -0.26] b2: [-0.54  0.28  0.26]\n",
            "Epochs: 121 loss: 0.3903 w1: [ 0.47 -0.66  0.53  0.78] w2: [ 0.21  0.94 -0.75  0.91 -0.27 -0.34] b1: [-0.07 -0.27] b2: [-0.57  0.3   0.27]\n",
            "Epochs: 131 loss: 0.3374 w1: [ 0.53 -0.69  0.55  0.81] w2: [ 0.21  1.03 -0.84  0.94 -0.3  -0.34] b1: [-0.07 -0.27] b2: [-0.6   0.32  0.28]\n",
            "Epochs: 141 loss: 0.293 w1: [ 0.58 -0.72  0.57  0.84] w2: [ 0.2   1.12 -0.92  0.97 -0.32 -0.35] b1: [-0.08 -0.28] b2: [-0.62  0.33  0.29]\n",
            "Epochs: 151 loss: 0.256 w1: [ 0.62 -0.75  0.59  0.86] w2: [ 0.19  1.19 -0.99  1.   -0.35 -0.35] b1: [-0.08 -0.28] b2: [-0.64  0.35  0.29]\n",
            "Epochs: 161 loss: 0.2255 w1: [ 0.66 -0.78  0.61  0.89] w2: [ 0.19  1.26 -1.05  1.02 -0.37 -0.35] b1: [-0.08 -0.28] b2: [-0.66  0.36  0.3 ]\n",
            "Epochs: 171 loss: 0.2002 w1: [ 0.7  -0.8   0.63  0.9 ] w2: [ 0.18  1.33 -1.11  1.05 -0.39 -0.36] b1: [-0.09 -0.29] b2: [-0.67  0.36  0.31]\n",
            "Epochs: 181 loss: 0.1791 w1: [ 0.73 -0.82  0.64  0.92] w2: [ 0.18  1.39 -1.17  1.07 -0.4  -0.36] b1: [-0.09 -0.29] b2: [-0.69  0.37  0.31]\n",
            "Epochs: 191 loss: 0.1614 w1: [ 0.75 -0.84  0.66  0.94] w2: [ 0.17  1.44 -1.22  1.09 -0.42 -0.37] b1: [-0.1 -0.3] b2: [-0.7   0.38  0.32]\n",
            "Epochs: 201 loss: 0.1465 w1: [ 0.78 -0.86  0.67  0.95] w2: [ 0.17  1.5  -1.27  1.11 -0.43 -0.37] b1: [-0.1 -0.3] b2: [-0.71  0.39  0.33]\n",
            "Epochs: 211 loss: 0.1337 w1: [ 0.8  -0.88  0.68  0.97] w2: [ 0.17  1.54 -1.31  1.12 -0.45 -0.38] b1: [-0.1 -0.3] b2: [-0.72  0.39  0.33]\n",
            "Epochs: 221 loss: 0.1228 w1: [ 0.82 -0.89  0.69  0.98] w2: [ 0.16  1.59 -1.35  1.14 -0.46 -0.38] b1: [-0.11 -0.31] b2: [-0.73  0.4   0.34]\n",
            "Epochs: 231 loss: 0.1134 w1: [ 0.84 -0.91  0.7   0.99] w2: [ 0.16  1.63 -1.39  1.15 -0.47 -0.38] b1: [-0.11 -0.31] b2: [-0.74  0.4   0.34]\n",
            "Epochs: 241 loss: 0.1051 w1: [ 0.86 -0.92  0.71  1.  ] w2: [ 0.16  1.67 -1.43  1.17 -0.48 -0.39] b1: [-0.11 -0.31] b2: [-0.75  0.4   0.35]\n",
            "Epochs: 251 loss: 0.0979 w1: [ 0.87 -0.93  0.72  1.01] w2: [ 0.16  1.7  -1.46  1.18 -0.49 -0.39] b1: [-0.12 -0.32] b2: [-0.76  0.41  0.35]\n",
            "Epochs: 261 loss: 0.0915 w1: [ 0.89 -0.94  0.73  1.02] w2: [ 0.15  1.74 -1.49  1.19 -0.5  -0.39] b1: [-0.12 -0.32] b2: [-0.77  0.41  0.36]\n",
            "Epochs: 271 loss: 0.0858 w1: [ 0.9  -0.95  0.74  1.03] w2: [ 0.15  1.77 -1.52  1.2  -0.51 -0.4 ] b1: [-0.12 -0.32] b2: [-0.77  0.41  0.36]\n",
            "Epochs: 281 loss: 0.0808 w1: [ 0.91 -0.97  0.74  1.04] w2: [ 0.15  1.8  -1.55  1.21 -0.51 -0.4 ] b1: [-0.12 -0.32] b2: [-0.78  0.42  0.37]\n",
            "Epochs: 291 loss: 0.0763 w1: [ 0.93 -0.98  0.75  1.05] w2: [ 0.15  1.83 -1.58  1.22 -0.52 -0.4 ] b1: [-0.12 -0.32] b2: [-0.79  0.42  0.37]\n",
            "Epochs: 301 loss: 0.0722 w1: [ 0.94 -0.98  0.75  1.06] w2: [ 0.15  1.86 -1.61  1.23 -0.53 -0.41] b1: [-0.13 -0.33] b2: [-0.79  0.42  0.37]\n",
            "Epochs: 311 loss: 0.0685 w1: [ 0.95 -0.99  0.76  1.06] w2: [ 0.15  1.88 -1.63  1.24 -0.53 -0.41] b1: [-0.13 -0.33] b2: [-0.8   0.42  0.38]\n",
            "Epochs: 321 loss: 0.0651 w1: [ 0.96 -1.    0.77  1.07] w2: [ 0.15  1.91 -1.65  1.25 -0.54 -0.41] b1: [-0.13 -0.33] b2: [-0.81  0.43  0.38]\n",
            "Epochs: 331 loss: 0.062 w1: [ 0.97 -1.01  0.77  1.08] w2: [ 0.14  1.93 -1.68  1.26 -0.55 -0.41] b1: [-0.13 -0.33] b2: [-0.81  0.43  0.38]\n",
            "Epochs: 341 loss: 0.0592 w1: [ 0.98 -1.02  0.78  1.08] w2: [ 0.14  1.96 -1.7   1.27 -0.55 -0.42] b1: [-0.13 -0.33] b2: [-0.82  0.43  0.39]\n",
            "Epochs: 351 loss: 0.0566 w1: [ 0.98 -1.03  0.78  1.09] w2: [ 0.14  1.98 -1.72  1.28 -0.56 -0.42] b1: [-0.14 -0.34] b2: [-0.82  0.43  0.39]\n",
            "Epochs: 361 loss: 0.0543 w1: [ 0.99 -1.03  0.78  1.09] w2: [ 0.14  2.   -1.74  1.29 -0.56 -0.42] b1: [-0.14 -0.34] b2: [-0.83  0.43  0.39]\n",
            "Epochs: 371 loss: 0.0521 w1: [ 1.   -1.04  0.79  1.1 ] w2: [ 0.14  2.02 -1.76  1.29 -0.57 -0.43] b1: [-0.14 -0.34] b2: [-0.83  0.44  0.4 ]\n",
            "Epochs: 381 loss: 0.05 w1: [ 1.01 -1.05  0.79  1.11] w2: [ 0.14  2.04 -1.78  1.3  -0.57 -0.43] b1: [-0.14 -0.34] b2: [-0.84  0.44  0.4 ]\n",
            "Epochs: 391 loss: 0.0481 w1: [ 1.02 -1.05  0.8   1.11] w2: [ 0.14  2.06 -1.8   1.31 -0.58 -0.43] b1: [-0.14 -0.34] b2: [-0.84  0.44  0.4 ]\n",
            "Epochs: 401 loss: 0.0464 w1: [ 1.02 -1.06  0.8   1.12] w2: [ 0.14  2.08 -1.81  1.31 -0.58 -0.43] b1: [-0.14 -0.34] b2: [-0.84  0.44  0.4 ]\n",
            "Epochs: 411 loss: 0.0447 w1: [ 1.03 -1.07  0.8   1.12] w2: [ 0.14  2.1  -1.83  1.32 -0.59 -0.43] b1: [-0.14 -0.34] b2: [-0.85  0.44  0.41]\n",
            "Epochs: 421 loss: 0.0432 w1: [ 1.04 -1.07  0.81  1.13] w2: [ 0.14  2.11 -1.85  1.33 -0.59 -0.44] b1: [-0.14 -0.34] b2: [-0.85  0.44  0.41]\n",
            "Epochs: 431 loss: 0.0418 w1: [ 1.04 -1.08  0.81  1.13] w2: [ 0.14  2.13 -1.86  1.33 -0.59 -0.44] b1: [-0.15 -0.35] b2: [-0.86  0.44  0.41]\n",
            "Epochs: 441 loss: 0.0404 w1: [ 1.05 -1.08  0.81  1.13] w2: [ 0.13  2.15 -1.88  1.34 -0.6  -0.44] b1: [-0.15 -0.35] b2: [-0.86  0.45  0.41]\n",
            "Epochs: 451 loss: 0.0391 w1: [ 1.05 -1.09  0.82  1.14] w2: [ 0.13  2.16 -1.9   1.34 -0.6  -0.44] b1: [-0.15 -0.35] b2: [-0.86  0.45  0.42]\n",
            "Epochs: 461 loss: 0.038 w1: [ 1.06 -1.09  0.82  1.14] w2: [ 0.13  2.18 -1.91  1.35 -0.6  -0.45] b1: [-0.15 -0.35] b2: [-0.87  0.45  0.42]\n",
            "Epochs: 471 loss: 0.0368 w1: [ 1.06 -1.1   0.82  1.15] w2: [ 0.13  2.19 -1.92  1.36 -0.61 -0.45] b1: [-0.15 -0.35] b2: [-0.87  0.45  0.42]\n",
            "Epochs: 481 loss: 0.0358 w1: [ 1.07 -1.1   0.82  1.15] w2: [ 0.13  2.21 -1.94  1.36 -0.61 -0.45] b1: [-0.15 -0.35] b2: [-0.87  0.45  0.42]\n",
            "Epochs: 491 loss: 0.0348 w1: [ 1.07 -1.11  0.83  1.15] w2: [ 0.13  2.22 -1.95  1.37 -0.61 -0.45] b1: [-0.15 -0.35] b2: [-0.88  0.45  0.42]\n",
            "Epochs: 501 loss: 0.0338 w1: [ 1.08 -1.11  0.83  1.16] w2: [ 0.13  2.23 -1.96  1.37 -0.62 -0.45] b1: [-0.15 -0.35] b2: [-0.88  0.45  0.43]\n",
            "Epochs: 511 loss: 0.0329 w1: [ 1.08 -1.12  0.83  1.16] w2: [ 0.13  2.25 -1.98  1.38 -0.62 -0.45] b1: [-0.15 -0.35] b2: [-0.88  0.45  0.43]\n",
            "Epochs: 521 loss: 0.032 w1: [ 1.09 -1.12  0.83  1.17] w2: [ 0.13  2.26 -1.99  1.38 -0.62 -0.46] b1: [-0.16 -0.36] b2: [-0.88  0.45  0.43]\n",
            "Epochs: 531 loss: 0.0312 w1: [ 1.09 -1.12  0.84  1.17] w2: [ 0.13  2.27 -2.    1.39 -0.63 -0.46] b1: [-0.16 -0.36] b2: [-0.89  0.46  0.43]\n",
            "Epochs: 541 loss: 0.0304 w1: [ 1.1  -1.13  0.84  1.17] w2: [ 0.13  2.28 -2.01  1.39 -0.63 -0.46] b1: [-0.16 -0.36] b2: [-0.89  0.46  0.43]\n",
            "Epochs: 551 loss: 0.0297 w1: [ 1.1  -1.13  0.84  1.18] w2: [ 0.13  2.3  -2.03  1.39 -0.63 -0.46] b1: [-0.16 -0.36] b2: [-0.89  0.46  0.44]\n",
            "Epochs: 561 loss: 0.029 w1: [ 1.11 -1.14  0.84  1.18] w2: [ 0.13  2.31 -2.04  1.4  -0.64 -0.46] b1: [-0.16 -0.36] b2: [-0.9   0.46  0.44]\n",
            "Epochs: 571 loss: 0.0283 w1: [ 1.11 -1.14  0.85  1.18] w2: [ 0.13  2.32 -2.05  1.4  -0.64 -0.46] b1: [-0.16 -0.36] b2: [-0.9   0.46  0.44]\n",
            "Epochs: 581 loss: 0.0277 w1: [ 1.11 -1.14  0.85  1.19] w2: [ 0.13  2.33 -2.06  1.41 -0.64 -0.47] b1: [-0.16 -0.36] b2: [-0.9   0.46  0.44]\n",
            "Epochs: 591 loss: 0.027 w1: [ 1.12 -1.15  0.85  1.19] w2: [ 0.13  2.34 -2.07  1.41 -0.64 -0.47] b1: [-0.16 -0.36] b2: [-0.9   0.46  0.44]\n",
            "Epochs: 601 loss: 0.0264 w1: [ 1.12 -1.15  0.85  1.19] w2: [ 0.13  2.35 -2.08  1.42 -0.65 -0.47] b1: [-0.16 -0.36] b2: [-0.91  0.46  0.44]\n",
            "Epochs: 611 loss: 0.0259 w1: [ 1.12 -1.15  0.85  1.19] w2: [ 0.13  2.36 -2.09  1.42 -0.65 -0.47] b1: [-0.16 -0.36] b2: [-0.91  0.46  0.45]\n",
            "Epochs: 621 loss: 0.0253 w1: [ 1.13 -1.16  0.85  1.2 ] w2: [ 0.13  2.37 -2.1   1.42 -0.65 -0.47] b1: [-0.16 -0.36] b2: [-0.91  0.46  0.45]\n",
            "Epochs: 631 loss: 0.0248 w1: [ 1.13 -1.16  0.86  1.2 ] w2: [ 0.13  2.38 -2.11  1.43 -0.65 -0.47] b1: [-0.16 -0.36] b2: [-0.91  0.46  0.45]\n",
            "Epochs: 641 loss: 0.0243 w1: [ 1.14 -1.16  0.86  1.2 ] w2: [ 0.13  2.39 -2.12  1.43 -0.66 -0.48] b1: [-0.16 -0.36] b2: [-0.91  0.46  0.45]\n",
            "Epochs: 651 loss: 0.0238 w1: [ 1.14 -1.17  0.86  1.21] w2: [ 0.13  2.4  -2.13  1.43 -0.66 -0.48] b1: [-0.17 -0.37] b2: [-0.92  0.47  0.45]\n",
            "Epochs: 661 loss: 0.0234 w1: [ 1.14 -1.17  0.86  1.21] w2: [ 0.13  2.41 -2.14  1.44 -0.66 -0.48] b1: [-0.17 -0.37] b2: [-0.92  0.47  0.45]\n",
            "Epochs: 671 loss: 0.0229 w1: [ 1.15 -1.17  0.86  1.21] w2: [ 0.13  2.42 -2.15  1.44 -0.66 -0.48] b1: [-0.17 -0.37] b2: [-0.92  0.47  0.45]\n",
            "Epochs: 681 loss: 0.0225 w1: [ 1.15 -1.18  0.86  1.21] w2: [ 0.13  2.43 -2.16  1.44 -0.66 -0.48] b1: [-0.17 -0.37] b2: [-0.92  0.47  0.46]\n",
            "Epochs: 691 loss: 0.0221 w1: [ 1.15 -1.18  0.87  1.22] w2: [ 0.12  2.44 -2.17  1.45 -0.67 -0.48] b1: [-0.17 -0.37] b2: [-0.93  0.47  0.46]\n",
            "Epochs: 701 loss: 0.0217 w1: [ 1.15 -1.18  0.87  1.22] w2: [ 0.12  2.45 -2.18  1.45 -0.67 -0.48] b1: [-0.17 -0.37] b2: [-0.93  0.47  0.46]\n",
            "Epochs: 711 loss: 0.0213 w1: [ 1.16 -1.19  0.87  1.22] w2: [ 0.12  2.46 -2.18  1.45 -0.67 -0.48] b1: [-0.17 -0.37] b2: [-0.93  0.47  0.46]\n",
            "Epochs: 721 loss: 0.0209 w1: [ 1.16 -1.19  0.87  1.22] w2: [ 0.12  2.47 -2.19  1.46 -0.67 -0.49] b1: [-0.17 -0.37] b2: [-0.93  0.47  0.46]\n",
            "Epochs: 731 loss: 0.0205 w1: [ 1.16 -1.19  0.87  1.22] w2: [ 0.12  2.48 -2.2   1.46 -0.67 -0.49] b1: [-0.17 -0.37] b2: [-0.93  0.47  0.46]\n",
            "Epochs: 741 loss: 0.0202 w1: [ 1.17 -1.19  0.87  1.23] w2: [ 0.12  2.49 -2.21  1.46 -0.68 -0.49] b1: [-0.17 -0.37] b2: [-0.93  0.47  0.46]\n",
            "Epochs: 751 loss: 0.0199 w1: [ 1.17 -1.2   0.87  1.23] w2: [ 0.12  2.49 -2.22  1.47 -0.68 -0.49] b1: [-0.17 -0.37] b2: [-0.94  0.47  0.46]\n",
            "Epochs: 761 loss: 0.0195 w1: [ 1.17 -1.2   0.88  1.23] w2: [ 0.12  2.5  -2.23  1.47 -0.68 -0.49] b1: [-0.17 -0.37] b2: [-0.94  0.47  0.47]\n",
            "Epochs: 771 loss: 0.0192 w1: [ 1.17 -1.2   0.88  1.23] w2: [ 0.12  2.51 -2.23  1.47 -0.68 -0.49] b1: [-0.17 -0.37] b2: [-0.94  0.47  0.47]\n",
            "Epochs: 781 loss: 0.0189 w1: [ 1.18 -1.2   0.88  1.24] w2: [ 0.12  2.52 -2.24  1.48 -0.68 -0.49] b1: [-0.17 -0.37] b2: [-0.94  0.47  0.47]\n",
            "Epochs: 791 loss: 0.0186 w1: [ 1.18 -1.21  0.88  1.24] w2: [ 0.12  2.53 -2.25  1.48 -0.68 -0.49] b1: [-0.17 -0.37] b2: [-0.94  0.47  0.47]\n"
          ]
        },
        {
          "output_type": "display_data",
          "data": {
            "text/plain": [
              "<Figure size 640x480 with 1 Axes>"
            ],
            "image/png": "[encoded data removed]"
          },
          "metadata": {}
        }
      ]
    },
    {
      "cell_type": "code",
      "source": [
        "import torch\n",
        "import matplotlib.pyplot as plt"
      ],
      "metadata": {
        "id": "zsxZEO_Ckm3L"
      },
      "execution_count": 38,
      "outputs": []
    },
    {
      "cell_type": "code",
      "source": [
        "#torch前向传播\n",
        "def th_forward(w1, w2, b1, b2, x):\n",
        "  z = torch.matmul(x, w1) + b1 #shape (2,2)\n",
        "  h = torch.tanh(z)\n",
        "\n",
        "  zout = torch.matmul(h, w2) + b2 #shape (2,3)\n",
        "  y_pred = torch.softmax(zout, dim=0)\n",
        "\n",
        "  return y_pred"
      ],
      "metadata": {
        "id": "oQ7x7rimsV1W"
      },
      "execution_count": 68,
      "outputs": []
    },
    {
      "cell_type": "code",
      "source": [
        "#求损失函数loss\n",
        "def compute_loss(y_true, y_pred):\n",
        "  loss = -torch.sum(y_true * torch.log(y_pred + 1e-10))/ y_pred.shape[0]\n",
        "  return loss #shape (2,3)"
      ],
      "metadata": {
        "id": "kQ_pz0XKtEAc"
      },
      "execution_count": 69,
      "outputs": []
    },
    {
      "cell_type": "code",
      "source": [
        "#初始化torch参数\n",
        "w1 = torch.tensor([[0.1, -0.2],\n",
        "        [0.3, 0.1]],requires_grad=True) #shape (2,2)\n",
        "\n",
        "b1 = torch.tensor([0.1, -0.1],requires_grad=True) #shape (2,)\n",
        "\n",
        "\n",
        "w2 = torch.tensor([[0.2, -0.1, 0.3],\n",
        "        [0.4, 0.1, -0.2]],requires_grad=True)\n",
        "\n",
        "b2 = torch.tensor([0.1, -0.2, 0.1],requires_grad=True)\n",
        "\n",
        "x = torch.tensor([[1.0, 0.5],\n",
        "        [-0.5, -1.0]]) #shape (2,2)\n",
        "\n",
        "y_true = torch.tensor([[0, 1, 0],\n",
        "          [0, 0, 1]]) #shape (2,3)\n",
        "\n",
        "learning_rate = 0.03\n",
        "losses = []\n",
        "epochs = 800\n",
        "\n",
        "for epoch in range(epochs):\n",
        "  y_pred = th_forward(w1, w2, b1, b2, x)\n",
        "  loss = compute_loss(y_true, y_pred)\n",
        "  losses.append(loss.item())\n",
        "\n",
        "  if w1.grad is not None:\n",
        "    w1.grad.zero_()\n",
        "    w2.grad.zero_()\n",
        "    b1.grad.zero_()\n",
        "    b2.grad.zero_()\n",
        "\n",
        "  loss.backward()\n",
        "\n",
        "  with torch.no_grad():\n",
        "    w1 -= learning_rate * w1.grad\n",
        "    w2 -= learning_rate * w2.grad\n",
        "    b1 -= learning_rate * b1.grad\n",
        "    b2 -= learning_rate * b2.grad\n",
        "\n",
        "  if epoch%10 == 0:\n",
        "    print(f\"Epochs: {epoch + 1}\",\n",
        "      f\"loss: {np.round(loss.item(), 4)}\",\n",
        "      f\"w1: {w1.flatten().detach().numpy().round(2)}\",\n",
        "      f\"w2: {w2.flatten().detach().numpy().round(2)}\",\n",
        "      f\"b1: {b1.flatten().detach().numpy().round(2)}\",\n",
        "      f\"b2: {b2.flatten().detach().numpy().round(2)}\"\n",
        "      )\n",
        "\n",
        "plt.plot(range(epochs), losses, \"yellow\")\n",
        "plt.xlabel(\"epoch axis\")\n",
        "plt.ylabel(\"loss axis\")\n",
        "plt.show()"
      ],
      "metadata": {
        "colab": {
          "base_uri": "https://localhost:8080/",
          "height": 1000
        },
        "id": "4JT_8yjItLzF",
        "outputId": "3af7a74c-abc0-4d75-bde8-0810e98c877c"
      },
      "execution_count": 73,
      "outputs": [
        {
          "output_type": "stream",
          "name": "stdout",
          "text": [
            "Epochs: 1 loss: 0.7651 w1: [ 0.1 -0.2  0.3  0.1] w2: [ 0.2 -0.1  0.3  0.4  0.1 -0.2] b1: [ 0.1 -0.1] b2: [ 0.1 -0.2  0.1]\n",
            "Epochs: 11 loss: 0.7347 w1: [ 0.06 -0.16  0.26  0.14] w2: [ 0.2  -0.06  0.25  0.4   0.09 -0.19] b1: [ 0.1 -0.1] b2: [ 0.1 -0.2  0.1]\n",
            "Epochs: 21 loss: 0.7139 w1: [ 0.03 -0.13  0.22  0.17] w2: [ 0.2  -0.02  0.22  0.4   0.09 -0.19] b1: [ 0.1 -0.1] b2: [ 0.1 -0.2  0.1]\n",
            "Epochs: 31 loss: 0.698 w1: [ 0.  -0.1  0.2  0.2] w2: [ 0.2   0.    0.19  0.4   0.1  -0.2 ] b1: [ 0.1 -0.1] b2: [ 0.1 -0.2  0.1]\n",
            "Epochs: 41 loss: 0.6838 w1: [-0.02 -0.07  0.18  0.23] w2: [ 0.2   0.02  0.17  0.4   0.11 -0.21] b1: [ 0.1 -0.1] b2: [ 0.1 -0.2  0.1]\n",
            "Epochs: 51 loss: 0.6688 w1: [-0.03 -0.03  0.16  0.27] w2: [ 0.2   0.04  0.16  0.4   0.13 -0.24] b1: [ 0.1 -0.1] b2: [ 0.1 -0.2  0.1]\n",
            "Epochs: 61 loss: 0.6507 w1: [-0.04  0.01  0.15  0.31] w2: [ 0.2   0.05  0.14  0.4   0.16 -0.26] b1: [ 0.1  -0.09] b2: [ 0.1 -0.2  0.1]\n",
            "Epochs: 71 loss: 0.6278 w1: [-0.05  0.06  0.14  0.35] w2: [ 0.2   0.06  0.13  0.4   0.2  -0.3 ] b1: [ 0.1  -0.09] b2: [ 0.1 -0.2  0.1]\n",
            "Epochs: 81 loss: 0.5987 w1: [-0.06  0.11  0.14  0.4 ] w2: [ 0.2   0.07  0.13  0.4   0.24 -0.34] b1: [ 0.1  -0.08] b2: [ 0.1 -0.2  0.1]\n",
            "Epochs: 91 loss: 0.563 w1: [-0.06  0.16  0.13  0.45] w2: [ 0.2   0.08  0.12  0.4   0.3  -0.39] b1: [ 0.1  -0.07] b2: [ 0.1 -0.2  0.1]\n",
            "Epochs: 101 loss: 0.5218 w1: [-0.07  0.22  0.13  0.5 ] w2: [ 0.2   0.08  0.11  0.4   0.35 -0.45] b1: [ 0.1  -0.06] b2: [ 0.1 -0.2  0.1]\n",
            "Epochs: 111 loss: 0.4771 w1: [-0.07  0.28  0.13  0.55] w2: [ 0.2   0.09  0.11  0.4   0.42 -0.51] b1: [ 0.1  -0.05] b2: [ 0.1 -0.2  0.1]\n",
            "Epochs: 121 loss: 0.4317 w1: [-0.07  0.33  0.13  0.6 ] w2: [ 0.2   0.09  0.1   0.4   0.48 -0.57] b1: [ 0.1  -0.04] b2: [ 0.1 -0.2  0.1]\n",
            "Epochs: 131 loss: 0.3881 w1: [-0.07  0.38  0.13  0.65] w2: [ 0.2   0.1   0.1   0.4   0.54 -0.63] b1: [ 0.1  -0.04] b2: [ 0.1 -0.2  0.1]\n",
            "Epochs: 141 loss: 0.348 w1: [-0.07  0.43  0.13  0.7 ] w2: [ 0.2   0.1   0.09  0.4   0.61 -0.69] b1: [ 0.1  -0.03] b2: [ 0.1 -0.2  0.1]\n",
            "Epochs: 151 loss: 0.312 w1: [-0.07  0.48  0.13  0.74] w2: [ 0.2   0.11  0.09  0.4   0.67 -0.75] b1: [ 0.1  -0.02] b2: [ 0.1 -0.2  0.1]\n",
            "Epochs: 161 loss: 0.2805 w1: [-0.07  0.52  0.13  0.78] w2: [ 0.2   0.11  0.09  0.4   0.73 -0.8 ] b1: [ 0.1  -0.01] b2: [ 0.1 -0.2  0.1]\n",
            "Epochs: 171 loss: 0.2532 w1: [-0.06  0.55  0.13  0.81] w2: [ 0.2   0.11  0.08  0.4   0.78 -0.85] b1: [ 0.1  -0.01] b2: [ 0.1 -0.2  0.1]\n",
            "Epochs: 181 loss: 0.2295 w1: [-0.06  0.59  0.14  0.84] w2: [ 0.2   0.12  0.08  0.4   0.83 -0.9 ] b1: [ 0.1 -0. ] b2: [ 0.1 -0.2  0.1]\n",
            "Epochs: 191 loss: 0.2091 w1: [-0.06  0.62  0.14  0.87] w2: [ 0.2   0.12  0.08  0.4   0.88 -0.94] b1: [ 0.1 -0. ] b2: [ 0.1 -0.2  0.1]\n",
            "Epochs: 201 loss: 0.1914 w1: [-0.06  0.64  0.14  0.89] w2: [ 0.2   0.12  0.07  0.4   0.93 -0.99] b1: [0.1 0. ] b2: [ 0.1 -0.2  0.1]\n",
            "Epochs: 211 loss: 0.1761 w1: [-0.06  0.67  0.14  0.91] w2: [ 0.2   0.13  0.07  0.4   0.97 -1.03] b1: [0.1  0.01] b2: [ 0.1 -0.2  0.1]\n",
            "Epochs: 221 loss: 0.1627 w1: [-0.05  0.69  0.14  0.94] w2: [ 0.2   0.13  0.07  0.4   1.01 -1.06] b1: [0.1  0.01] b2: [ 0.1 -0.2  0.1]\n",
            "Epochs: 231 loss: 0.1509 w1: [-0.05  0.71  0.15  0.96] w2: [ 0.2   0.13  0.07  0.4   1.05 -1.1 ] b1: [0.1  0.01] b2: [ 0.1 -0.2  0.1]\n",
            "Epochs: 241 loss: 0.1406 w1: [-0.05  0.73  0.15  0.97] w2: [ 0.2   0.14  0.06  0.4   1.08 -1.13] b1: [0.1  0.01] b2: [ 0.1 -0.2  0.1]\n",
            "Epochs: 251 loss: 0.1314 w1: [-0.05  0.75  0.15  0.99] w2: [ 0.2   0.14  0.06  0.4   1.11 -1.16] b1: [0.1  0.02] b2: [ 0.1 -0.2  0.1]\n",
            "Epochs: 261 loss: 0.1232 w1: [-0.05  0.76  0.15  1.  ] w2: [ 0.2   0.14  0.06  0.4   1.15 -1.19] b1: [0.1  0.02] b2: [ 0.1 -0.2  0.1]\n",
            "Epochs: 271 loss: 0.116 w1: [-0.04  0.78  0.16  1.02] w2: [ 0.2   0.15  0.05  0.4   1.18 -1.22] b1: [0.1  0.02] b2: [ 0.1 -0.2  0.1]\n",
            "Epochs: 281 loss: 0.1094 w1: [-0.04  0.79  0.16  1.03] w2: [ 0.2   0.15  0.05  0.4   1.2  -1.25] b1: [0.1  0.02] b2: [ 0.1 -0.2  0.1]\n",
            "Epochs: 291 loss: 0.1035 w1: [-0.04  0.8   0.16  1.04] w2: [ 0.2   0.15  0.05  0.4   1.23 -1.28] b1: [0.1  0.02] b2: [ 0.1 -0.2  0.1]\n",
            "Epochs: 301 loss: 0.0981 w1: [-0.04  0.82  0.16  1.06] w2: [ 0.2   0.15  0.05  0.4   1.26 -1.3 ] b1: [0.1  0.02] b2: [ 0.1 -0.2  0.1]\n",
            "Epochs: 311 loss: 0.0933 w1: [-0.03  0.83  0.16  1.07] w2: [ 0.2   0.16  0.04  0.4   1.28 -1.33] b1: [0.1  0.02] b2: [ 0.1 -0.2  0.1]\n",
            "Epochs: 321 loss: 0.0888 w1: [-0.03  0.84  0.17  1.08] w2: [ 0.2   0.16  0.04  0.4   1.31 -1.35] b1: [0.1  0.02] b2: [ 0.1 -0.2  0.1]\n",
            "Epochs: 331 loss: 0.0847 w1: [-0.03  0.85  0.17  1.09] w2: [ 0.2   0.16  0.04  0.4   1.33 -1.37] b1: [0.1  0.02] b2: [ 0.1 -0.2  0.1]\n",
            "Epochs: 341 loss: 0.081 w1: [-0.03  0.86  0.17  1.1 ] w2: [ 0.2   0.16  0.04  0.4   1.35 -1.39] b1: [0.1  0.03] b2: [ 0.1 -0.2  0.1]\n",
            "Epochs: 351 loss: 0.0776 w1: [-0.02  0.87  0.17  1.1 ] w2: [ 0.2   0.17  0.03  0.4   1.37 -1.41] b1: [0.1  0.03] b2: [ 0.1 -0.2  0.1]\n",
            "Epochs: 361 loss: 0.0744 w1: [-0.02  0.88  0.18  1.11] w2: [ 0.2   0.17  0.03  0.4   1.39 -1.43] b1: [0.1  0.03] b2: [ 0.1 -0.2  0.1]\n",
            "Epochs: 371 loss: 0.0714 w1: [-0.02  0.88  0.18  1.12] w2: [ 0.2   0.17  0.03  0.4   1.41 -1.45] b1: [0.1  0.03] b2: [ 0.1 -0.2  0.1]\n",
            "Epochs: 381 loss: 0.0687 w1: [-0.02  0.89  0.18  1.13] w2: [ 0.2   0.17  0.03  0.4   1.43 -1.47] b1: [0.1  0.03] b2: [ 0.1 -0.2  0.1]\n",
            "Epochs: 391 loss: 0.0661 w1: [-0.02  0.9   0.18  1.14] w2: [ 0.2   0.18  0.02  0.4   1.45 -1.49] b1: [0.1  0.03] b2: [ 0.1 -0.2  0.1]\n",
            "Epochs: 401 loss: 0.0638 w1: [-0.01  0.91  0.18  1.14] w2: [ 0.2   0.18  0.02  0.4   1.46 -1.5 ] b1: [0.1  0.03] b2: [ 0.1 -0.2  0.1]\n",
            "Epochs: 411 loss: 0.0615 w1: [-0.01  0.91  0.19  1.15] w2: [ 0.2   0.18  0.02  0.4   1.48 -1.52] b1: [0.1  0.03] b2: [ 0.1 -0.2  0.1]\n",
            "Epochs: 421 loss: 0.0595 w1: [-0.01  0.92  0.19  1.16] w2: [ 0.2   0.18  0.02  0.4   1.5  -1.53] b1: [0.1  0.03] b2: [ 0.1 -0.2  0.1]\n",
            "Epochs: 431 loss: 0.0575 w1: [-0.01  0.93  0.19  1.16] w2: [ 0.2   0.19  0.02  0.4   1.51 -1.55] b1: [0.1  0.03] b2: [ 0.1 -0.2  0.1]\n",
            "Epochs: 441 loss: 0.0557 w1: [-0.01  0.93  0.19  1.17] w2: [ 0.2   0.19  0.01  0.4   1.53 -1.57] b1: [0.1  0.03] b2: [ 0.1 -0.2  0.1]\n",
            "Epochs: 451 loss: 0.0539 w1: [-0.    0.94  0.2   1.17] w2: [ 0.2   0.19  0.01  0.4   1.54 -1.58] b1: [0.1  0.03] b2: [ 0.1 -0.2  0.1]\n",
            "Epochs: 461 loss: 0.0523 w1: [-0.    0.95  0.2   1.18] w2: [ 0.2   0.19  0.01  0.4   1.56 -1.59] b1: [0.1  0.03] b2: [ 0.1 -0.2  0.1]\n",
            "Epochs: 471 loss: 0.0508 w1: [0.   0.95 0.2  1.18] w2: [ 0.2   0.19  0.01  0.4   1.57 -1.61] b1: [0.1  0.03] b2: [ 0.1 -0.2  0.1]\n",
            "Epochs: 481 loss: 0.0493 w1: [0.   0.96 0.2  1.19] w2: [ 0.2   0.2   0.    0.4   1.58 -1.62] b1: [0.1  0.03] b2: [ 0.1 -0.2  0.1]\n",
            "Epochs: 491 loss: 0.0479 w1: [0.01 0.96 0.2  1.2 ] w2: [ 0.2   0.2   0.    0.4   1.6  -1.63] b1: [0.1  0.03] b2: [ 0.1 -0.2  0.1]\n",
            "Epochs: 501 loss: 0.0466 w1: [0.01 0.97 0.21 1.2 ] w2: [ 0.2   0.2  -0.    0.4   1.61 -1.65] b1: [0.1  0.03] b2: [ 0.1 -0.2  0.1]\n",
            "Epochs: 511 loss: 0.0454 w1: [0.01 0.97 0.21 1.2 ] w2: [ 0.2   0.2  -0.    0.4   1.62 -1.66] b1: [0.1  0.03] b2: [ 0.1 -0.2  0.1]\n",
            "Epochs: 521 loss: 0.0442 w1: [0.01 0.98 0.21 1.21] w2: [ 0.2   0.21 -0.    0.4   1.63 -1.67] b1: [0.1  0.03] b2: [ 0.1 -0.2  0.1]\n",
            "Epochs: 531 loss: 0.043 w1: [0.01 0.98 0.21 1.21] w2: [ 0.2   0.21 -0.01  0.4   1.65 -1.68] b1: [0.1  0.03] b2: [ 0.1 -0.2  0.1]\n",
            "Epochs: 541 loss: 0.042 w1: [0.01 0.98 0.21 1.22] w2: [ 0.2   0.21 -0.01  0.4   1.66 -1.7 ] b1: [0.1  0.03] b2: [ 0.1 -0.2  0.1]\n",
            "Epochs: 551 loss: 0.0409 w1: [0.02 0.99 0.22 1.22] w2: [ 0.2   0.21 -0.01  0.4   1.67 -1.71] b1: [0.1  0.03] b2: [ 0.1 -0.2  0.1]\n",
            "Epochs: 561 loss: 0.04 w1: [0.02 0.99 0.22 1.23] w2: [ 0.2   0.21 -0.01  0.4   1.68 -1.72] b1: [0.1  0.03] b2: [ 0.1 -0.2  0.1]\n",
            "Epochs: 571 loss: 0.039 w1: [0.02 1.   0.22 1.23] w2: [ 0.2   0.22 -0.02  0.4   1.69 -1.73] b1: [0.1  0.03] b2: [ 0.1 -0.2  0.1]\n",
            "Epochs: 581 loss: 0.0381 w1: [0.02 1.   0.22 1.23] w2: [ 0.2   0.22 -0.02  0.4   1.7  -1.74] b1: [0.1  0.03] b2: [ 0.1 -0.2  0.1]\n",
            "Epochs: 591 loss: 0.0373 w1: [0.02 1.   0.22 1.24] w2: [ 0.2   0.22 -0.02  0.4   1.71 -1.75] b1: [0.1  0.04] b2: [ 0.1 -0.2  0.1]\n",
            "Epochs: 601 loss: 0.0364 w1: [0.03 1.01 0.23 1.24] w2: [ 0.2   0.22 -0.02  0.4   1.72 -1.76] b1: [0.1  0.04] b2: [ 0.1 -0.2  0.1]\n",
            "Epochs: 611 loss: 0.0356 w1: [0.03 1.01 0.23 1.24] w2: [ 0.2   0.22 -0.02  0.4   1.73 -1.77] b1: [0.1  0.04] b2: [ 0.1 -0.2  0.1]\n",
            "Epochs: 621 loss: 0.0349 w1: [0.03 1.02 0.23 1.25] w2: [ 0.2   0.23 -0.03  0.4   1.74 -1.78] b1: [0.1  0.04] b2: [ 0.1 -0.2  0.1]\n",
            "Epochs: 631 loss: 0.0342 w1: [0.03 1.02 0.23 1.25] w2: [ 0.2   0.23 -0.03  0.4   1.75 -1.79] b1: [0.1  0.04] b2: [ 0.1 -0.2  0.1]\n",
            "Epochs: 641 loss: 0.0335 w1: [0.03 1.02 0.23 1.25] w2: [ 0.2   0.23 -0.03  0.4   1.76 -1.8 ] b1: [0.1  0.04] b2: [ 0.1 -0.2  0.1]\n",
            "Epochs: 651 loss: 0.0328 w1: [0.04 1.03 0.23 1.26] w2: [ 0.2   0.23 -0.03  0.4   1.77 -1.81] b1: [0.1  0.04] b2: [ 0.1 -0.2  0.1]\n",
            "Epochs: 661 loss: 0.0321 w1: [0.04 1.03 0.24 1.26] w2: [ 0.2   0.23 -0.03  0.4   1.78 -1.82] b1: [0.1  0.04] b2: [ 0.1 -0.2  0.1]\n",
            "Epochs: 671 loss: 0.0315 w1: [0.04 1.03 0.24 1.26] w2: [ 0.2   0.24 -0.03  0.4   1.79 -1.83] b1: [0.1  0.04] b2: [ 0.1 -0.2  0.1]\n",
            "Epochs: 681 loss: 0.0309 w1: [0.04 1.03 0.24 1.27] w2: [ 0.2   0.24 -0.04  0.4   1.8  -1.83] b1: [0.1  0.04] b2: [ 0.1 -0.2  0.1]\n",
            "Epochs: 691 loss: 0.0303 w1: [0.04 1.04 0.24 1.27] w2: [ 0.2   0.24 -0.04  0.4   1.8  -1.84] b1: [0.1  0.04] b2: [ 0.1 -0.2  0.1]\n",
            "Epochs: 701 loss: 0.0298 w1: [0.04 1.04 0.24 1.27] w2: [ 0.2   0.24 -0.04  0.4   1.81 -1.85] b1: [0.1  0.04] b2: [ 0.1 -0.2  0.1]\n",
            "Epochs: 711 loss: 0.0292 w1: [0.05 1.04 0.25 1.27] w2: [ 0.2   0.24 -0.04  0.4   1.82 -1.86] b1: [0.1  0.04] b2: [ 0.1 -0.2  0.1]\n",
            "Epochs: 721 loss: 0.0287 w1: [0.05 1.05 0.25 1.28] w2: [ 0.2   0.24 -0.04  0.4   1.83 -1.87] b1: [0.1  0.04] b2: [ 0.1 -0.2  0.1]\n",
            "Epochs: 731 loss: 0.0282 w1: [0.05 1.05 0.25 1.28] w2: [ 0.2   0.25 -0.05  0.4   1.84 -1.87] b1: [0.1  0.04] b2: [ 0.1 -0.2  0.1]\n",
            "Epochs: 741 loss: 0.0277 w1: [0.05 1.05 0.25 1.28] w2: [ 0.2   0.25 -0.05  0.4   1.84 -1.88] b1: [0.1  0.04] b2: [ 0.1 -0.2  0.1]\n",
            "Epochs: 751 loss: 0.0272 w1: [0.05 1.05 0.25 1.29] w2: [ 0.2   0.25 -0.05  0.4   1.85 -1.89] b1: [0.1  0.04] b2: [ 0.1 -0.2  0.1]\n",
            "Epochs: 761 loss: 0.0268 w1: [0.05 1.06 0.25 1.29] w2: [ 0.2   0.25 -0.05  0.4   1.86 -1.9 ] b1: [0.1  0.04] b2: [ 0.1 -0.2  0.1]\n",
            "Epochs: 771 loss: 0.0263 w1: [0.06 1.06 0.26 1.29] w2: [ 0.2   0.25 -0.05  0.4   1.87 -1.91] b1: [0.1  0.04] b2: [ 0.1 -0.2  0.1]\n",
            "Epochs: 781 loss: 0.0259 w1: [0.06 1.06 0.26 1.29] w2: [ 0.2   0.26 -0.06  0.4   1.87 -1.91] b1: [0.1  0.04] b2: [ 0.1 -0.2  0.1]\n",
            "Epochs: 791 loss: 0.0255 w1: [0.06 1.06 0.26 1.3 ] w2: [ 0.2   0.26 -0.06  0.4   1.88 -1.92] b1: [0.1  0.04] b2: [ 0.1 -0.2  0.1]\n"
          ]
        },
        {
          "output_type": "display_data",
          "data": {
            "text/plain": [
              "<Figure size 640x480 with 1 Axes>"
            ],
            "image/png": "[encoded data removed]"
          },
          "metadata": {}
        }
      ]
    }
  ]
}