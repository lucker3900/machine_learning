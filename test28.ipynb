{
  "nbformat": 4,
  "nbformat_minor": 0,
  "metadata": {
    "colab": {
      "provenance": [],
      "authorship_tag": "ABX9TyO/8mMyeRG3bEbb64mxzcMO"
    },
    "kernelspec": {
      "name": "python3",
      "display_name": "Python 3"
    },
    "language_info": {
      "name": "python"
    }
  },
  "cells": [
    {
      "cell_type": "code",
      "execution_count": 1,
      "metadata": {
        "id": "4svNPyrApKAA"
      },
      "outputs": [],
      "source": [
        "#考虑一个用于多类别分类的神经网络，结构如下：\n",
        "\n",
        "#2 个 输入节点 (x_1, x_2) (输入一个批次的 (X))\n",
        "#一个隐藏层，包含 2 个 神经元 (h_1, h_2)，使用 Tanh 激活函数。\n",
        "#3 个 输出节点（对应3个类别） (y_{pred,1}, y_{pred,2}, y_{pred,3})，使用 Softmax 激活函数。"
      ]
    },
    {
      "cell_type": "code",
      "source": [
        "import numpy as np\n",
        "import matplotlib.pyplot as plt"
      ],
      "metadata": {
        "id": "SLj8ERTQ_iUJ"
      },
      "execution_count": 2,
      "outputs": []
    },
    {
      "cell_type": "code",
      "source": [
        "#激活函数tanh\n",
        "def tanh(a):\n",
        "  return np.tanh(a)"
      ],
      "metadata": {
        "id": "51dDj5CtZfpZ"
      },
      "execution_count": 3,
      "outputs": []
    },
    {
      "cell_type": "code",
      "source": [
        "#softmax激活函数\n",
        "def softmax(a):\n",
        "  a_max = np.max(a, axis=1, keepdims=True)\n",
        "  z = np.exp(a-a_max)\n",
        "\n",
        "  sums = np.sum(z, axis=1, keepdims=True)\n",
        "  return z / sums"
      ],
      "metadata": {
        "id": "KpqZRDdLZqy_"
      },
      "execution_count": 13,
      "outputs": []
    },
    {
      "cell_type": "code",
      "source": [
        "#前向传播，求y_pred\n",
        "def farword(w1, w2, b1, b2, x):\n",
        "  z = np.dot(x, w1) + b1 #shape (2,2)\n",
        "  h = tanh(z)\n",
        "\n",
        "  zout = np.dot(h, w2) + b2 #shape (2,3)\n",
        "  y_pred = softmax(zout)\n",
        "\n",
        "  return h, y_pred\n"
      ],
      "metadata": {
        "id": "81BlDo2yelVS"
      },
      "execution_count": 31,
      "outputs": []
    },
    {
      "cell_type": "code",
      "source": [
        "#求损失函数loss\n",
        "def compute_loss(y_true, y_pred):\n",
        "  loss = -np.sum(y_true * np.log(y_pred + 1e-10))/ y_pred.shape[0]\n",
        "  return loss #shape (2,3)"
      ],
      "metadata": {
        "id": "AFhMP4LsgUkD"
      },
      "execution_count": 79,
      "outputs": []
    },
    {
      "cell_type": "code",
      "source": [
        "#反向传播,计算梯度值\n",
        "def backward(y_pred, y_true, h, w2, x):\n",
        "  dzout = y_pred - y_true\n",
        "  b2_grad = np.mean(dzout, axis=0, keepdims=True).flatten()\n",
        "  w2_grad = np.dot(h, dzout) #shape (2,3)\n",
        "\n",
        "  dh = np.dot(dzout, w2.T)\n",
        "  dz = dh * (1-h**2)\n",
        "  b1_grad = np.mean(dz, axis=0, keepdims=True).flatten()\n",
        "  w1_grad = np.dot(x, dz) #shape (2,2)\n",
        "  return w1_grad, w2_grad, b1_grad, b2_grad"
      ],
      "metadata": {
        "id": "S9HkJqfzhDKa"
      },
      "execution_count": 74,
      "outputs": []
    },
    {
      "cell_type": "code",
      "source": [
        "#参数更新\n",
        "def update_params(w1, w2, b1, b2, w1_grad, w2_grad, b1_grad, b2_grad, learning_rate):\n",
        "    w1 -= learning_rate * w1_grad\n",
        "    w2 -= learning_rate * w2_grad\n",
        "    b1 -= learning_rate * b1_grad\n",
        "    b2 -= learning_rate * b2_grad\n",
        "    return w1, w2, b1, b2"
      ],
      "metadata": {
        "id": "CyENttRzo62d"
      },
      "execution_count": 33,
      "outputs": []
    },
    {
      "cell_type": "code",
      "source": [
        "w1 = np.array([[0.1, -0.2],\n",
        "        [0.3, 0.1]]) #shape (2,2)\n",
        "\n",
        "b1 = np.array([0.1, -0.1]) #shape (2,)\n",
        "\n",
        "\n",
        "w2 = np.array([[0.2, -0.1, 0.3],\n",
        "        [0.4, 0.1, -0.2]])\n",
        "\n",
        "b2 = np.array([0.1, -0.2, 0.1])\n",
        "\n",
        "x = np.array([[1.0, 0.5],\n",
        "        [-0.5, -1.0]]) #shape (2,2)\n",
        "\n",
        "y_true = np.array([[0, 1, 0],\n",
        "          [0, 0, 1]]) #shape (2,3)\n",
        "\n",
        "learning_rate = 0.03\n",
        "losses = []\n",
        "epochs = 800\n",
        "\n",
        "for epoch in range(epochs):\n",
        "  h, y_pred = farword(w1, w2, b1, b2, x)\n",
        "  loss = compute_loss(y_true, y_pred)\n",
        "  losses.append(loss)\n",
        "\n",
        "  w1_grad, w2_grad, b1_grad, b2_grad = backward(y_pred, y_true, h, w2, x)\n",
        "  w1, w2, b1, b2 = update_params(w1, w2, b1, b2, w1_grad, w2_grad, b1_grad, b2_grad, learning_rate)\n",
        "\n",
        "  if epoch%10 == 0:\n",
        "    print(\"Epochs:\", epoch + 1,\n",
        "      \"loss:\", np.round(loss, 4),\n",
        "      \"w1:\", np.round(w1.flatten(), 2),\n",
        "      \"w2:\", np.round(w2.flatten(), 2),\n",
        "      \"b1:\", np.round(b1.flatten(), 2),\n",
        "      \"b2:\", np.round(b2.flatten(), 2)\n",
        "      )\n",
        "\n",
        "plt.plot(range(epochs), losses, \"yellow\")\n",
        "plt.xlabel(\"epoch axis\")\n",
        "plt.ylabel(\"loss axis\")\n",
        "plt.show()"
      ],
      "metadata": {
        "id": "9vBTlavi_ugF",
        "colab": {
          "base_uri": "https://localhost:8080/",
          "height": 1000
        },
        "outputId": "11ac1bf9-a305-41a6-94b7-1f60936294de"
      },
      "execution_count": 80,
      "outputs": [
        {
          "output_type": "stream",
          "name": "stdout",
          "text": [
            "Epochs: 1 loss: 1.2066 w1: [ 0.1  -0.2   0.3   0.11] w2: [ 0.2  -0.09  0.29  0.4   0.1  -0.2 ] b1: [ 0.1 -0.1] b2: [ 0.09 -0.19  0.1 ]\n",
            "Epochs: 11 loss: 1.1049 w1: [ 0.05 -0.24  0.3   0.19] w2: [ 0.2   0.    0.2   0.44  0.06 -0.2 ] b1: [ 0.09 -0.14] b2: [-0.01 -0.13  0.13]\n",
            "Epochs: 21 loss: 1.0248 w1: [ 0.03 -0.29  0.3   0.27] w2: [ 0.2   0.09  0.12  0.48  0.03 -0.21] b1: [ 0.08 -0.18] b2: [-0.09 -0.07  0.16]\n",
            "Epochs: 31 loss: 0.9569 w1: [ 0.03 -0.32  0.31  0.34] w2: [ 0.2   0.17  0.03  0.53  0.01 -0.24] b1: [ 0.07 -0.22] b2: [-0.17 -0.01  0.18]\n",
            "Epochs: 41 loss: 0.8939 w1: [ 0.04 -0.36  0.33  0.4 ] w2: [ 0.21  0.26 -0.07  0.57  0.   -0.27] b1: [ 0.07 -0.25] b2: [-0.23  0.04  0.2 ]\n",
            "Epochs: 51 loss: 0.8297 w1: [ 0.06 -0.39  0.36  0.46] w2: [ 0.22  0.35 -0.16  0.61 -0.01 -0.31] b1: [ 0.07 -0.28] b2: [-0.29  0.08  0.21]\n",
            "Epochs: 61 loss: 0.7601 w1: [ 0.1  -0.41  0.39  0.52] w2: [ 0.22  0.45 -0.26  0.66 -0.02 -0.34] b1: [ 0.07 -0.31] b2: [-0.34  0.12  0.22]\n",
            "Epochs: 71 loss: 0.6836 w1: [ 0.16 -0.44  0.43  0.56] w2: [ 0.22  0.55 -0.37  0.7  -0.03 -0.37] b1: [ 0.08 -0.33] b2: [-0.39  0.16  0.23]\n",
            "Epochs: 81 loss: 0.6026 w1: [ 0.21 -0.46  0.47  0.61] w2: [ 0.21  0.66 -0.48  0.74 -0.04 -0.4 ] b1: [ 0.08 -0.35] b2: [-0.43  0.2   0.23]\n",
            "Epochs: 91 loss: 0.5222 w1: [ 0.27 -0.47  0.51  0.65] w2: [ 0.21  0.78 -0.58  0.78 -0.06 -0.42] b1: [ 0.09 -0.37] b2: [-0.47  0.23  0.24]\n",
            "Epochs: 101 loss: 0.4478 w1: [ 0.33 -0.49  0.55  0.68] w2: [ 0.2   0.88 -0.68  0.82 -0.08 -0.44] b1: [ 0.09 -0.39] b2: [-0.5   0.26  0.25]\n",
            "Epochs: 111 loss: 0.3826 w1: [ 0.38 -0.51  0.59  0.71] w2: [ 0.19  0.99 -0.77  0.86 -0.1  -0.46] b1: [ 0.1  -0.41] b2: [-0.53  0.28  0.25]\n",
            "Epochs: 121 loss: 0.3278 w1: [ 0.43 -0.52  0.63  0.74] w2: [ 0.18  1.08 -0.86  0.89 -0.12 -0.47] b1: [ 0.1  -0.42] b2: [-0.56  0.3   0.26]\n",
            "Epochs: 131 loss: 0.2827 w1: [ 0.46 -0.54  0.66  0.76] w2: [ 0.17  1.17 -0.94  0.92 -0.14 -0.48] b1: [ 0.1  -0.43] b2: [-0.58  0.32  0.26]\n",
            "Epochs: 141 loss: 0.2459 w1: [ 0.5  -0.55  0.69  0.78] w2: [ 0.16  1.25 -1.01  0.95 -0.15 -0.49] b1: [ 0.1  -0.44] b2: [-0.6   0.33  0.27]\n",
            "Epochs: 151 loss: 0.2158 w1: [ 0.53 -0.57  0.72  0.8 ] w2: [ 0.15  1.32 -1.08  0.98 -0.17 -0.5 ] b1: [ 0.1  -0.46] b2: [-0.62  0.35  0.27]\n",
            "Epochs: 161 loss: 0.1911 w1: [ 0.55 -0.58  0.75  0.82] w2: [ 0.15  1.39 -1.13  1.   -0.19 -0.51] b1: [ 0.1  -0.47] b2: [-0.63  0.36  0.28]\n",
            "Epochs: 171 loss: 0.1708 w1: [ 0.57 -0.59  0.77  0.83] w2: [ 0.14  1.45 -1.19  1.02 -0.2  -0.52] b1: [ 0.1  -0.47] b2: [-0.65  0.37  0.28]\n",
            "Epochs: 181 loss: 0.1538 w1: [ 0.59 -0.6   0.79  0.85] w2: [ 0.14  1.5  -1.24  1.04 -0.21 -0.53] b1: [ 0.1  -0.48] b2: [-0.66  0.38  0.28]\n",
            "Epochs: 191 loss: 0.1395 w1: [ 0.61 -0.61  0.81  0.86] w2: [ 0.13  1.55 -1.28  1.06 -0.23 -0.53] b1: [ 0.1  -0.49] b2: [-0.67  0.39  0.29]\n",
            "Epochs: 201 loss: 0.1274 w1: [ 0.63 -0.62  0.83  0.87] w2: [ 0.13  1.6  -1.33  1.08 -0.24 -0.54] b1: [ 0.1 -0.5] b2: [-0.69  0.39  0.29]\n",
            "Epochs: 211 loss: 0.117 w1: [ 0.64 -0.63  0.85  0.88] w2: [ 0.12  1.65 -1.37  1.09 -0.25 -0.54] b1: [ 0.1 -0.5] b2: [-0.7   0.4   0.29]\n",
            "Epochs: 221 loss: 0.108 w1: [ 0.66 -0.64  0.86  0.89] w2: [ 0.12  1.69 -1.4   1.11 -0.26 -0.55] b1: [ 0.1  -0.51] b2: [-0.71  0.41  0.3 ]\n",
            "Epochs: 231 loss: 0.1002 w1: [ 0.67 -0.65  0.88  0.9 ] w2: [ 0.11  1.72 -1.44  1.12 -0.27 -0.55] b1: [ 0.1  -0.52] b2: [-0.71  0.41  0.3 ]\n",
            "Epochs: 241 loss: 0.0934 w1: [ 0.68 -0.66  0.89  0.91] w2: [ 0.11  1.76 -1.47  1.14 -0.28 -0.56] b1: [ 0.1  -0.52] b2: [-0.72  0.42  0.3 ]\n",
            "Epochs: 251 loss: 0.0873 w1: [ 0.69 -0.67  0.9   0.92] w2: [ 0.11  1.79 -1.5   1.15 -0.29 -0.56] b1: [ 0.1  -0.53] b2: [-0.73  0.42  0.31]\n",
            "Epochs: 261 loss: 0.082 w1: [ 0.7  -0.67  0.91  0.92] w2: [ 0.1   1.83 -1.53  1.16 -0.29 -0.57] b1: [ 0.1  -0.53] b2: [-0.74  0.43  0.31]\n",
            "Epochs: 271 loss: 0.0772 w1: [ 0.71 -0.68  0.92  0.93] w2: [ 0.1   1.86 -1.56  1.17 -0.3  -0.57] b1: [ 0.1  -0.54] b2: [-0.74  0.43  0.31]\n",
            "Epochs: 281 loss: 0.0729 w1: [ 0.72 -0.69  0.93  0.94] w2: [ 0.1   1.89 -1.58  1.18 -0.31 -0.57] b1: [ 0.1  -0.54] b2: [-0.75  0.44  0.31]\n",
            "Epochs: 291 loss: 0.069 w1: [ 0.73 -0.69  0.94  0.94] w2: [ 0.1   1.91 -1.61  1.19 -0.31 -0.58] b1: [ 0.09 -0.55] b2: [-0.76  0.44  0.32]\n",
            "Epochs: 301 loss: 0.0655 w1: [ 0.73 -0.7   0.95  0.95] w2: [ 0.09  1.94 -1.63  1.2  -0.32 -0.58] b1: [ 0.09 -0.55] b2: [-0.76  0.44  0.32]\n",
            "Epochs: 311 loss: 0.0624 w1: [ 0.74 -0.7   0.96  0.96] w2: [ 0.09  1.96 -1.66  1.21 -0.33 -0.59] b1: [ 0.09 -0.55] b2: [-0.77  0.45  0.32]\n",
            "Epochs: 321 loss: 0.0594 w1: [ 0.75 -0.71  0.97  0.96] w2: [ 0.09  1.99 -1.68  1.22 -0.33 -0.59] b1: [ 0.09 -0.56] b2: [-0.77  0.45  0.32]\n",
            "Epochs: 331 loss: 0.0568 w1: [ 0.75 -0.71  0.97  0.97] w2: [ 0.09  2.01 -1.7   1.23 -0.34 -0.59] b1: [ 0.09 -0.56] b2: [-0.78  0.45  0.33]\n",
            "Epochs: 341 loss: 0.0543 w1: [ 0.76 -0.72  0.98  0.97] w2: [ 0.09  2.03 -1.72  1.24 -0.34 -0.59] b1: [ 0.09 -0.56] b2: [-0.78  0.46  0.33]\n",
            "Epochs: 351 loss: 0.0521 w1: [ 0.76 -0.72  0.99  0.98] w2: [ 0.08  2.05 -1.74  1.25 -0.35 -0.6 ] b1: [ 0.09 -0.57] b2: [-0.79  0.46  0.33]\n",
            "Epochs: 361 loss: 0.05 w1: [ 0.77 -0.73  0.99  0.98] w2: [ 0.08  2.07 -1.76  1.25 -0.35 -0.6 ] b1: [ 0.09 -0.57] b2: [-0.79  0.46  0.33]\n",
            "Epochs: 371 loss: 0.0481 w1: [ 0.78 -0.73  1.    0.99] w2: [ 0.08  2.09 -1.78  1.26 -0.36 -0.6 ] b1: [ 0.09 -0.57] b2: [-0.8   0.46  0.33]\n",
            "Epochs: 381 loss: 0.0463 w1: [ 0.78 -0.74  1.01  0.99] w2: [ 0.08  2.11 -1.79  1.27 -0.36 -0.61] b1: [ 0.09 -0.58] b2: [-0.8   0.47  0.34]\n",
            "Epochs: 391 loss: 0.0446 w1: [ 0.79 -0.74  1.01  0.99] w2: [ 0.08  2.13 -1.81  1.28 -0.37 -0.61] b1: [ 0.09 -0.58] b2: [-0.81  0.47  0.34]\n",
            "Epochs: 401 loss: 0.0431 w1: [ 0.79 -0.74  1.02  1.  ] w2: [ 0.08  2.15 -1.83  1.28 -0.37 -0.61] b1: [ 0.09 -0.58] b2: [-0.81  0.47  0.34]\n",
            "Epochs: 411 loss: 0.0416 w1: [ 0.79 -0.75  1.02  1.  ] w2: [ 0.08  2.17 -1.84  1.29 -0.38 -0.61] b1: [ 0.09 -0.58] b2: [-0.81  0.47  0.34]\n",
            "Epochs: 421 loss: 0.0402 w1: [ 0.8  -0.75  1.03  1.01] w2: [ 0.08  2.18 -1.86  1.3  -0.38 -0.62] b1: [ 0.09 -0.59] b2: [-0.82  0.48  0.34]\n",
            "Epochs: 431 loss: 0.0389 w1: [ 0.8  -0.76  1.03  1.01] w2: [ 0.07  2.2  -1.87  1.3  -0.38 -0.62] b1: [ 0.09 -0.59] b2: [-0.82  0.48  0.34]\n",
            "Epochs: 441 loss: 0.0377 w1: [ 0.81 -0.76  1.04  1.01] w2: [ 0.07  2.21 -1.89  1.31 -0.39 -0.62] b1: [ 0.09 -0.59] b2: [-0.82  0.48  0.35]\n",
            "Epochs: 451 loss: 0.0366 w1: [ 0.81 -0.76  1.04  1.02] w2: [ 0.07  2.23 -1.9   1.31 -0.39 -0.62] b1: [ 0.09 -0.59] b2: [-0.83  0.48  0.35]\n",
            "Epochs: 461 loss: 0.0355 w1: [ 0.81 -0.77  1.05  1.02] w2: [ 0.07  2.24 -1.91  1.32 -0.39 -0.63] b1: [ 0.09 -0.6 ] b2: [-0.83  0.48  0.35]\n",
            "Epochs: 471 loss: 0.0345 w1: [ 0.82 -0.77  1.05  1.02] w2: [ 0.07  2.26 -1.93  1.32 -0.4  -0.63] b1: [ 0.09 -0.6 ] b2: [-0.83  0.49  0.35]\n",
            "Epochs: 481 loss: 0.0335 w1: [ 0.82 -0.77  1.05  1.03] w2: [ 0.07  2.27 -1.94  1.33 -0.4  -0.63] b1: [ 0.09 -0.6 ] b2: [-0.84  0.49  0.35]\n",
            "Epochs: 491 loss: 0.0326 w1: [ 0.83 -0.78  1.06  1.03] w2: [ 0.07  2.28 -1.95  1.33 -0.4  -0.63] b1: [ 0.09 -0.6 ] b2: [-0.84  0.49  0.35]\n",
            "Epochs: 501 loss: 0.0318 w1: [ 0.83 -0.78  1.06  1.03] w2: [ 0.07  2.3  -1.97  1.34 -0.41 -0.63] b1: [ 0.09 -0.6 ] b2: [-0.84  0.49  0.35]\n",
            "Epochs: 511 loss: 0.0309 w1: [ 0.83 -0.78  1.07  1.04] w2: [ 0.07  2.31 -1.98  1.34 -0.41 -0.64] b1: [ 0.09 -0.61] b2: [-0.85  0.49  0.35]\n",
            "Epochs: 521 loss: 0.0302 w1: [ 0.83 -0.78  1.07  1.04] w2: [ 0.07  2.32 -1.99  1.35 -0.41 -0.64] b1: [ 0.09 -0.61] b2: [-0.85  0.49  0.36]\n",
            "Epochs: 531 loss: 0.0294 w1: [ 0.84 -0.79  1.07  1.04] w2: [ 0.07  2.34 -2.    1.35 -0.42 -0.64] b1: [ 0.09 -0.61] b2: [-0.85  0.49  0.36]\n",
            "Epochs: 541 loss: 0.0287 w1: [ 0.84 -0.79  1.08  1.04] w2: [ 0.06  2.35 -2.01  1.36 -0.42 -0.64] b1: [ 0.09 -0.61] b2: [-0.85  0.5   0.36]\n",
            "Epochs: 551 loss: 0.028 w1: [ 0.84 -0.79  1.08  1.05] w2: [ 0.06  2.36 -2.02  1.36 -0.42 -0.64] b1: [ 0.09 -0.61] b2: [-0.86  0.5   0.36]\n",
            "Epochs: 561 loss: 0.0274 w1: [ 0.85 -0.79  1.08  1.05] w2: [ 0.06  2.37 -2.03  1.37 -0.42 -0.64] b1: [ 0.09 -0.61] b2: [-0.86  0.5   0.36]\n",
            "Epochs: 571 loss: 0.0268 w1: [ 0.85 -0.8   1.09  1.05] w2: [ 0.06  2.38 -2.05  1.37 -0.43 -0.65] b1: [ 0.09 -0.62] b2: [-0.86  0.5   0.36]\n",
            "Epochs: 581 loss: 0.0262 w1: [ 0.85 -0.8   1.09  1.05] w2: [ 0.06  2.39 -2.06  1.38 -0.43 -0.65] b1: [ 0.09 -0.62] b2: [-0.87  0.5   0.36]\n",
            "Epochs: 591 loss: 0.0256 w1: [ 0.85 -0.8   1.09  1.06] w2: [ 0.06  2.4  -2.07  1.38 -0.43 -0.65] b1: [ 0.09 -0.62] b2: [-0.87  0.5   0.36]\n",
            "Epochs: 601 loss: 0.0251 w1: [ 0.86 -0.8   1.1   1.06] w2: [ 0.06  2.41 -2.08  1.38 -0.43 -0.65] b1: [ 0.09 -0.62] b2: [-0.87  0.5   0.37]\n",
            "Epochs: 611 loss: 0.0245 w1: [ 0.86 -0.81  1.1   1.06] w2: [ 0.06  2.43 -2.09  1.39 -0.44 -0.65] b1: [ 0.09 -0.62] b2: [-0.87  0.51  0.37]\n",
            "Epochs: 621 loss: 0.024 w1: [ 0.86 -0.81  1.1   1.06] w2: [ 0.06  2.44 -2.09  1.39 -0.44 -0.65] b1: [ 0.09 -0.62] b2: [-0.87  0.51  0.37]\n",
            "Epochs: 631 loss: 0.0236 w1: [ 0.86 -0.81  1.1   1.07] w2: [ 0.06  2.45 -2.1   1.4  -0.44 -0.66] b1: [ 0.09 -0.63] b2: [-0.88  0.51  0.37]\n",
            "Epochs: 641 loss: 0.0231 w1: [ 0.87 -0.81  1.11  1.07] w2: [ 0.06  2.45 -2.11  1.4  -0.44 -0.66] b1: [ 0.09 -0.63] b2: [-0.88  0.51  0.37]\n",
            "Epochs: 651 loss: 0.0227 w1: [ 0.87 -0.82  1.11  1.07] w2: [ 0.06  2.46 -2.12  1.4  -0.45 -0.66] b1: [ 0.09 -0.63] b2: [-0.88  0.51  0.37]\n",
            "Epochs: 661 loss: 0.0222 w1: [ 0.87 -0.82  1.11  1.07] w2: [ 0.06  2.47 -2.13  1.41 -0.45 -0.66] b1: [ 0.09 -0.63] b2: [-0.88  0.51  0.37]\n",
            "Epochs: 671 loss: 0.0218 w1: [ 0.87 -0.82  1.11  1.07] w2: [ 0.06  2.48 -2.14  1.41 -0.45 -0.66] b1: [ 0.09 -0.63] b2: [-0.88  0.51  0.37]\n",
            "Epochs: 681 loss: 0.0214 w1: [ 0.88 -0.82  1.12  1.08] w2: [ 0.06  2.49 -2.15  1.41 -0.45 -0.66] b1: [ 0.09 -0.63] b2: [-0.89  0.51  0.37]\n",
            "Epochs: 691 loss: 0.021 w1: [ 0.88 -0.82  1.12  1.08] w2: [ 0.06  2.5  -2.16  1.42 -0.45 -0.67] b1: [ 0.09 -0.63] b2: [-0.89  0.51  0.37]\n",
            "Epochs: 701 loss: 0.0207 w1: [ 0.88 -0.83  1.12  1.08] w2: [ 0.06  2.51 -2.17  1.42 -0.46 -0.67] b1: [ 0.09 -0.64] b2: [-0.89  0.52  0.38]\n",
            "Epochs: 711 loss: 0.0203 w1: [ 0.88 -0.83  1.12  1.08] w2: [ 0.06  2.52 -2.17  1.43 -0.46 -0.67] b1: [ 0.09 -0.64] b2: [-0.89  0.52  0.38]\n",
            "Epochs: 721 loss: 0.0199 w1: [ 0.88 -0.83  1.13  1.08] w2: [ 0.05  2.53 -2.18  1.43 -0.46 -0.67] b1: [ 0.09 -0.64] b2: [-0.89  0.52  0.38]\n",
            "Epochs: 731 loss: 0.0196 w1: [ 0.89 -0.83  1.13  1.09] w2: [ 0.05  2.54 -2.19  1.43 -0.46 -0.67] b1: [ 0.09 -0.64] b2: [-0.9   0.52  0.38]\n",
            "Epochs: 741 loss: 0.0193 w1: [ 0.89 -0.83  1.13  1.09] w2: [ 0.05  2.54 -2.2   1.43 -0.46 -0.67] b1: [ 0.09 -0.64] b2: [-0.9   0.52  0.38]\n",
            "Epochs: 751 loss: 0.019 w1: [ 0.89 -0.84  1.13  1.09] w2: [ 0.05  2.55 -2.21  1.44 -0.46 -0.67] b1: [ 0.09 -0.64] b2: [-0.9   0.52  0.38]\n",
            "Epochs: 761 loss: 0.0187 w1: [ 0.89 -0.84  1.13  1.09] w2: [ 0.05  2.56 -2.21  1.44 -0.47 -0.67] b1: [ 0.09 -0.64] b2: [-0.9   0.52  0.38]\n",
            "Epochs: 771 loss: 0.0184 w1: [ 0.89 -0.84  1.14  1.09] w2: [ 0.05  2.57 -2.22  1.44 -0.47 -0.68] b1: [ 0.09 -0.64] b2: [-0.9   0.52  0.38]\n",
            "Epochs: 781 loss: 0.0181 w1: [ 0.89 -0.84  1.14  1.09] w2: [ 0.05  2.58 -2.23  1.45 -0.47 -0.68] b1: [ 0.09 -0.64] b2: [-0.91  0.52  0.38]\n",
            "Epochs: 791 loss: 0.0178 w1: [ 0.9  -0.84  1.14  1.1 ] w2: [ 0.05  2.58 -2.23  1.45 -0.47 -0.68] b1: [ 0.09 -0.65] b2: [-0.91  0.52  0.38]\n"
          ]
        },
        {
          "output_type": "display_data",
          "data": {
            "text/plain": [
              "<Figure size 640x480 with 1 Axes>"
            ],
            "image/png": "[encoded data removed]"
          },
          "metadata": {}
        }
      ]
    },
    {
      "cell_type": "code",
      "source": [
        "import torch\n",
        "import matplotlib.pyplot as plt"
      ],
      "metadata": {
        "id": "zsxZEO_Ckm3L"
      },
      "execution_count": 38,
      "outputs": []
    },
    {
      "cell_type": "code",
      "source": [
        "#torch前向传播\n",
        "def th_forward(w1, w2, b1, b2, x):\n",
        "  z = torch.matmul(x, w1) + b1 #shape (2,2)\n",
        "  h = torch.tanh(z)\n",
        "\n",
        "  zout = torch.matmul(h, w2) + b2 #shape (2,3)\n",
        "  y_pred = torch.softmax(zout, dim=0)\n",
        "\n",
        "  return y_pred"
      ],
      "metadata": {
        "id": "oQ7x7rimsV1W"
      },
      "execution_count": 68,
      "outputs": []
    },
    {
      "cell_type": "code",
      "source": [
        "#求损失函数loss\n",
        "def th_compute_loss(y_true, y_pred):\n",
        "  loss = -torch.sum(y_true * torch.log(y_pred + 1e-10))/ y_pred.shape[0]\n",
        "  return loss #shape (2,3)"
      ],
      "metadata": {
        "id": "kQ_pz0XKtEAc"
      },
      "execution_count": 76,
      "outputs": []
    },
    {
      "cell_type": "code",
      "source": [
        "#初始化torch参数\n",
        "w1 = torch.tensor([[0.1, -0.2],\n",
        "        [0.3, 0.1]],requires_grad=True) #shape (2,2)\n",
        "\n",
        "b1 = torch.tensor([0.1, -0.1],requires_grad=True) #shape (2,)\n",
        "\n",
        "\n",
        "w2 = torch.tensor([[0.2, -0.1, 0.3],\n",
        "        [0.4, 0.1, -0.2]],requires_grad=True)\n",
        "\n",
        "b2 = torch.tensor([0.1, -0.2, 0.1],requires_grad=True)\n",
        "\n",
        "x = torch.tensor([[1.0, 0.5],\n",
        "        [-0.5, -1.0]]) #shape (2,2)\n",
        "\n",
        "y_true = torch.tensor([[0, 1, 0],\n",
        "          [0, 0, 1]]) #shape (2,3)\n",
        "\n",
        "learning_rate = 0.03\n",
        "losses = []\n",
        "epochs = 800\n",
        "\n",
        "for epoch in range(epochs):\n",
        "  y_pred = th_forward(w1, w2, b1, b2, x)\n",
        "  loss = th_compute_loss(y_true, y_pred)\n",
        "  losses.append(loss.item())\n",
        "\n",
        "  if w1.grad is not None:\n",
        "    w1.grad.zero_()\n",
        "    w2.grad.zero_()\n",
        "    b1.grad.zero_()\n",
        "    b2.grad.zero_()\n",
        "\n",
        "  loss.backward()\n",
        "\n",
        "  with torch.no_grad():\n",
        "    w1 -= learning_rate * w1.grad\n",
        "    w2 -= learning_rate * w2.grad\n",
        "    b1 -= learning_rate * b1.grad\n",
        "    b2 -= learning_rate * b2.grad\n",
        "\n",
        "  if epoch%10 == 0:\n",
        "    print(f\"Epochs: {epoch + 1}\",\n",
        "      f\"loss: {np.round(loss.item(), 4)}\",\n",
        "      f\"w1: {w1.flatten().detach().numpy().round(2)}\",\n",
        "      f\"w2: {w2.flatten().detach().numpy().round(2)}\",\n",
        "      f\"b1: {b1.flatten().detach().numpy().round(2)}\",\n",
        "      f\"b2: {b2.flatten().detach().numpy().round(2)}\"\n",
        "      )\n",
        "\n",
        "plt.plot(range(epochs), losses, \"yellow\")\n",
        "plt.xlabel(\"epoch axis\")\n",
        "plt.ylabel(\"loss axis\")\n",
        "plt.show()"
      ],
      "metadata": {
        "colab": {
          "base_uri": "https://localhost:8080/",
          "height": 1000
        },
        "id": "4JT_8yjItLzF",
        "outputId": "51062e10-4478-4dd2-a393-f72935766ee0"
      },
      "execution_count": 77,
      "outputs": [
        {
          "output_type": "stream",
          "name": "stdout",
          "text": [
            "Epochs: 1 loss: 0.7651 w1: [ 0.1 -0.2  0.3  0.1] w2: [ 0.2 -0.1  0.3  0.4  0.1 -0.2] b1: [ 0.1 -0.1] b2: [ 0.1 -0.2  0.1]\n",
            "Epochs: 11 loss: 0.7347 w1: [ 0.06 -0.16  0.26  0.14] w2: [ 0.2  -0.06  0.25  0.4   0.09 -0.19] b1: [ 0.1 -0.1] b2: [ 0.1 -0.2  0.1]\n",
            "Epochs: 21 loss: 0.7139 w1: [ 0.03 -0.13  0.22  0.17] w2: [ 0.2  -0.02  0.22  0.4   0.09 -0.19] b1: [ 0.1 -0.1] b2: [ 0.1 -0.2  0.1]\n",
            "Epochs: 31 loss: 0.698 w1: [ 0.  -0.1  0.2  0.2] w2: [ 0.2   0.    0.19  0.4   0.1  -0.2 ] b1: [ 0.1 -0.1] b2: [ 0.1 -0.2  0.1]\n",
            "Epochs: 41 loss: 0.6838 w1: [-0.02 -0.07  0.18  0.23] w2: [ 0.2   0.02  0.17  0.4   0.11 -0.21] b1: [ 0.1 -0.1] b2: [ 0.1 -0.2  0.1]\n",
            "Epochs: 51 loss: 0.6688 w1: [-0.03 -0.03  0.16  0.27] w2: [ 0.2   0.04  0.16  0.4   0.13 -0.24] b1: [ 0.1 -0.1] b2: [ 0.1 -0.2  0.1]\n",
            "Epochs: 61 loss: 0.6507 w1: [-0.04  0.01  0.15  0.31] w2: [ 0.2   0.05  0.14  0.4   0.16 -0.26] b1: [ 0.1  -0.09] b2: [ 0.1 -0.2  0.1]\n",
            "Epochs: 71 loss: 0.6278 w1: [-0.05  0.06  0.14  0.35] w2: [ 0.2   0.06  0.13  0.4   0.2  -0.3 ] b1: [ 0.1  -0.09] b2: [ 0.1 -0.2  0.1]\n",
            "Epochs: 81 loss: 0.5987 w1: [-0.06  0.11  0.14  0.4 ] w2: [ 0.2   0.07  0.13  0.4   0.24 -0.34] b1: [ 0.1  -0.08] b2: [ 0.1 -0.2  0.1]\n",
            "Epochs: 91 loss: 0.563 w1: [-0.06  0.16  0.13  0.45] w2: [ 0.2   0.08  0.12  0.4   0.3  -0.39] b1: [ 0.1  -0.07] b2: [ 0.1 -0.2  0.1]\n",
            "Epochs: 101 loss: 0.5218 w1: [-0.07  0.22  0.13  0.5 ] w2: [ 0.2   0.08  0.11  0.4   0.35 -0.45] b1: [ 0.1  -0.06] b2: [ 0.1 -0.2  0.1]\n",
            "Epochs: 111 loss: 0.4771 w1: [-0.07  0.28  0.13  0.55] w2: [ 0.2   0.09  0.11  0.4   0.42 -0.51] b1: [ 0.1  -0.05] b2: [ 0.1 -0.2  0.1]\n",
            "Epochs: 121 loss: 0.4317 w1: [-0.07  0.33  0.13  0.6 ] w2: [ 0.2   0.09  0.1   0.4   0.48 -0.57] b1: [ 0.1  -0.04] b2: [ 0.1 -0.2  0.1]\n",
            "Epochs: 131 loss: 0.3881 w1: [-0.07  0.38  0.13  0.65] w2: [ 0.2   0.1   0.1   0.4   0.54 -0.63] b1: [ 0.1  -0.04] b2: [ 0.1 -0.2  0.1]\n",
            "Epochs: 141 loss: 0.348 w1: [-0.07  0.43  0.13  0.7 ] w2: [ 0.2   0.1   0.09  0.4   0.61 -0.69] b1: [ 0.1  -0.03] b2: [ 0.1 -0.2  0.1]\n",
            "Epochs: 151 loss: 0.312 w1: [-0.07  0.48  0.13  0.74] w2: [ 0.2   0.11  0.09  0.4   0.67 -0.75] b1: [ 0.1  -0.02] b2: [ 0.1 -0.2  0.1]\n",
            "Epochs: 161 loss: 0.2805 w1: [-0.07  0.52  0.13  0.78] w2: [ 0.2   0.11  0.09  0.4   0.73 -0.8 ] b1: [ 0.1  -0.01] b2: [ 0.1 -0.2  0.1]\n",
            "Epochs: 171 loss: 0.2532 w1: [-0.06  0.55  0.13  0.81] w2: [ 0.2   0.11  0.08  0.4   0.78 -0.85] b1: [ 0.1  -0.01] b2: [ 0.1 -0.2  0.1]\n",
            "Epochs: 181 loss: 0.2295 w1: [-0.06  0.59  0.14  0.84] w2: [ 0.2   0.12  0.08  0.4   0.83 -0.9 ] b1: [ 0.1 -0. ] b2: [ 0.1 -0.2  0.1]\n",
            "Epochs: 191 loss: 0.2091 w1: [-0.06  0.62  0.14  0.87] w2: [ 0.2   0.12  0.08  0.4   0.88 -0.94] b1: [ 0.1 -0. ] b2: [ 0.1 -0.2  0.1]\n",
            "Epochs: 201 loss: 0.1914 w1: [-0.06  0.64  0.14  0.89] w2: [ 0.2   0.12  0.07  0.4   0.93 -0.99] b1: [0.1 0. ] b2: [ 0.1 -0.2  0.1]\n",
            "Epochs: 211 loss: 0.1761 w1: [-0.06  0.67  0.14  0.91] w2: [ 0.2   0.13  0.07  0.4   0.97 -1.03] b1: [0.1  0.01] b2: [ 0.1 -0.2  0.1]\n",
            "Epochs: 221 loss: 0.1627 w1: [-0.05  0.69  0.14  0.94] w2: [ 0.2   0.13  0.07  0.4   1.01 -1.06] b1: [0.1  0.01] b2: [ 0.1 -0.2  0.1]\n",
            "Epochs: 231 loss: 0.1509 w1: [-0.05  0.71  0.15  0.96] w2: [ 0.2   0.13  0.07  0.4   1.05 -1.1 ] b1: [0.1  0.01] b2: [ 0.1 -0.2  0.1]\n",
            "Epochs: 241 loss: 0.1406 w1: [-0.05  0.73  0.15  0.97] w2: [ 0.2   0.14  0.06  0.4   1.08 -1.13] b1: [0.1  0.01] b2: [ 0.1 -0.2  0.1]\n",
            "Epochs: 251 loss: 0.1314 w1: [-0.05  0.75  0.15  0.99] w2: [ 0.2   0.14  0.06  0.4   1.11 -1.16] b1: [0.1  0.02] b2: [ 0.1 -0.2  0.1]\n",
            "Epochs: 261 loss: 0.1232 w1: [-0.05  0.76  0.15  1.  ] w2: [ 0.2   0.14  0.06  0.4   1.15 -1.19] b1: [0.1  0.02] b2: [ 0.1 -0.2  0.1]\n",
            "Epochs: 271 loss: 0.116 w1: [-0.04  0.78  0.16  1.02] w2: [ 0.2   0.15  0.05  0.4   1.18 -1.22] b1: [0.1  0.02] b2: [ 0.1 -0.2  0.1]\n",
            "Epochs: 281 loss: 0.1094 w1: [-0.04  0.79  0.16  1.03] w2: [ 0.2   0.15  0.05  0.4   1.2  -1.25] b1: [0.1  0.02] b2: [ 0.1 -0.2  0.1]\n",
            "Epochs: 291 loss: 0.1035 w1: [-0.04  0.8   0.16  1.04] w2: [ 0.2   0.15  0.05  0.4   1.23 -1.28] b1: [0.1  0.02] b2: [ 0.1 -0.2  0.1]\n",
            "Epochs: 301 loss: 0.0981 w1: [-0.04  0.82  0.16  1.06] w2: [ 0.2   0.15  0.05  0.4   1.26 -1.3 ] b1: [0.1  0.02] b2: [ 0.1 -0.2  0.1]\n",
            "Epochs: 311 loss: 0.0933 w1: [-0.03  0.83  0.16  1.07] w2: [ 0.2   0.16  0.04  0.4   1.28 -1.33] b1: [0.1  0.02] b2: [ 0.1 -0.2  0.1]\n",
            "Epochs: 321 loss: 0.0888 w1: [-0.03  0.84  0.17  1.08] w2: [ 0.2   0.16  0.04  0.4   1.31 -1.35] b1: [0.1  0.02] b2: [ 0.1 -0.2  0.1]\n",
            "Epochs: 331 loss: 0.0847 w1: [-0.03  0.85  0.17  1.09] w2: [ 0.2   0.16  0.04  0.4   1.33 -1.37] b1: [0.1  0.02] b2: [ 0.1 -0.2  0.1]\n",
            "Epochs: 341 loss: 0.081 w1: [-0.03  0.86  0.17  1.1 ] w2: [ 0.2   0.16  0.04  0.4   1.35 -1.39] b1: [0.1  0.03] b2: [ 0.1 -0.2  0.1]\n",
            "Epochs: 351 loss: 0.0776 w1: [-0.02  0.87  0.17  1.1 ] w2: [ 0.2   0.17  0.03  0.4   1.37 -1.41] b1: [0.1  0.03] b2: [ 0.1 -0.2  0.1]\n",
            "Epochs: 361 loss: 0.0744 w1: [-0.02  0.88  0.18  1.11] w2: [ 0.2   0.17  0.03  0.4   1.39 -1.43] b1: [0.1  0.03] b2: [ 0.1 -0.2  0.1]\n",
            "Epochs: 371 loss: 0.0714 w1: [-0.02  0.88  0.18  1.12] w2: [ 0.2   0.17  0.03  0.4   1.41 -1.45] b1: [0.1  0.03] b2: [ 0.1 -0.2  0.1]\n",
            "Epochs: 381 loss: 0.0687 w1: [-0.02  0.89  0.18  1.13] w2: [ 0.2   0.17  0.03  0.4   1.43 -1.47] b1: [0.1  0.03] b2: [ 0.1 -0.2  0.1]\n",
            "Epochs: 391 loss: 0.0661 w1: [-0.02  0.9   0.18  1.14] w2: [ 0.2   0.18  0.02  0.4   1.45 -1.49] b1: [0.1  0.03] b2: [ 0.1 -0.2  0.1]\n",
            "Epochs: 401 loss: 0.0638 w1: [-0.01  0.91  0.18  1.14] w2: [ 0.2   0.18  0.02  0.4   1.46 -1.5 ] b1: [0.1  0.03] b2: [ 0.1 -0.2  0.1]\n",
            "Epochs: 411 loss: 0.0615 w1: [-0.01  0.91  0.19  1.15] w2: [ 0.2   0.18  0.02  0.4   1.48 -1.52] b1: [0.1  0.03] b2: [ 0.1 -0.2  0.1]\n",
            "Epochs: 421 loss: 0.0595 w1: [-0.01  0.92  0.19  1.16] w2: [ 0.2   0.18  0.02  0.4   1.5  -1.53] b1: [0.1  0.03] b2: [ 0.1 -0.2  0.1]\n",
            "Epochs: 431 loss: 0.0575 w1: [-0.01  0.93  0.19  1.16] w2: [ 0.2   0.19  0.02  0.4   1.51 -1.55] b1: [0.1  0.03] b2: [ 0.1 -0.2  0.1]\n",
            "Epochs: 441 loss: 0.0557 w1: [-0.01  0.93  0.19  1.17] w2: [ 0.2   0.19  0.01  0.4   1.53 -1.57] b1: [0.1  0.03] b2: [ 0.1 -0.2  0.1]\n",
            "Epochs: 451 loss: 0.0539 w1: [-0.    0.94  0.2   1.17] w2: [ 0.2   0.19  0.01  0.4   1.54 -1.58] b1: [0.1  0.03] b2: [ 0.1 -0.2  0.1]\n",
            "Epochs: 461 loss: 0.0523 w1: [-0.    0.95  0.2   1.18] w2: [ 0.2   0.19  0.01  0.4   1.56 -1.59] b1: [0.1  0.03] b2: [ 0.1 -0.2  0.1]\n",
            "Epochs: 471 loss: 0.0508 w1: [0.   0.95 0.2  1.18] w2: [ 0.2   0.19  0.01  0.4   1.57 -1.61] b1: [0.1  0.03] b2: [ 0.1 -0.2  0.1]\n",
            "Epochs: 481 loss: 0.0493 w1: [0.   0.96 0.2  1.19] w2: [ 0.2   0.2   0.    0.4   1.58 -1.62] b1: [0.1  0.03] b2: [ 0.1 -0.2  0.1]\n",
            "Epochs: 491 loss: 0.0479 w1: [0.01 0.96 0.2  1.2 ] w2: [ 0.2   0.2   0.    0.4   1.6  -1.63] b1: [0.1  0.03] b2: [ 0.1 -0.2  0.1]\n",
            "Epochs: 501 loss: 0.0466 w1: [0.01 0.97 0.21 1.2 ] w2: [ 0.2   0.2  -0.    0.4   1.61 -1.65] b1: [0.1  0.03] b2: [ 0.1 -0.2  0.1]\n",
            "Epochs: 511 loss: 0.0454 w1: [0.01 0.97 0.21 1.2 ] w2: [ 0.2   0.2  -0.    0.4   1.62 -1.66] b1: [0.1  0.03] b2: [ 0.1 -0.2  0.1]\n",
            "Epochs: 521 loss: 0.0442 w1: [0.01 0.98 0.21 1.21] w2: [ 0.2   0.21 -0.    0.4   1.63 -1.67] b1: [0.1  0.03] b2: [ 0.1 -0.2  0.1]\n",
            "Epochs: 531 loss: 0.043 w1: [0.01 0.98 0.21 1.21] w2: [ 0.2   0.21 -0.01  0.4   1.65 -1.68] b1: [0.1  0.03] b2: [ 0.1 -0.2  0.1]\n",
            "Epochs: 541 loss: 0.042 w1: [0.01 0.98 0.21 1.22] w2: [ 0.2   0.21 -0.01  0.4   1.66 -1.7 ] b1: [0.1  0.03] b2: [ 0.1 -0.2  0.1]\n",
            "Epochs: 551 loss: 0.0409 w1: [0.02 0.99 0.22 1.22] w2: [ 0.2   0.21 -0.01  0.4   1.67 -1.71] b1: [0.1  0.03] b2: [ 0.1 -0.2  0.1]\n",
            "Epochs: 561 loss: 0.04 w1: [0.02 0.99 0.22 1.23] w2: [ 0.2   0.21 -0.01  0.4   1.68 -1.72] b1: [0.1  0.03] b2: [ 0.1 -0.2  0.1]\n",
            "Epochs: 571 loss: 0.039 w1: [0.02 1.   0.22 1.23] w2: [ 0.2   0.22 -0.02  0.4   1.69 -1.73] b1: [0.1  0.03] b2: [ 0.1 -0.2  0.1]\n",
            "Epochs: 581 loss: 0.0381 w1: [0.02 1.   0.22 1.23] w2: [ 0.2   0.22 -0.02  0.4   1.7  -1.74] b1: [0.1  0.03] b2: [ 0.1 -0.2  0.1]\n",
            "Epochs: 591 loss: 0.0373 w1: [0.02 1.   0.22 1.24] w2: [ 0.2   0.22 -0.02  0.4   1.71 -1.75] b1: [0.1  0.04] b2: [ 0.1 -0.2  0.1]\n",
            "Epochs: 601 loss: 0.0364 w1: [0.03 1.01 0.23 1.24] w2: [ 0.2   0.22 -0.02  0.4   1.72 -1.76] b1: [0.1  0.04] b2: [ 0.1 -0.2  0.1]\n",
            "Epochs: 611 loss: 0.0356 w1: [0.03 1.01 0.23 1.24] w2: [ 0.2   0.22 -0.02  0.4   1.73 -1.77] b1: [0.1  0.04] b2: [ 0.1 -0.2  0.1]\n",
            "Epochs: 621 loss: 0.0349 w1: [0.03 1.02 0.23 1.25] w2: [ 0.2   0.23 -0.03  0.4   1.74 -1.78] b1: [0.1  0.04] b2: [ 0.1 -0.2  0.1]\n",
            "Epochs: 631 loss: 0.0342 w1: [0.03 1.02 0.23 1.25] w2: [ 0.2   0.23 -0.03  0.4   1.75 -1.79] b1: [0.1  0.04] b2: [ 0.1 -0.2  0.1]\n",
            "Epochs: 641 loss: 0.0335 w1: [0.03 1.02 0.23 1.25] w2: [ 0.2   0.23 -0.03  0.4   1.76 -1.8 ] b1: [0.1  0.04] b2: [ 0.1 -0.2  0.1]\n",
            "Epochs: 651 loss: 0.0328 w1: [0.04 1.03 0.23 1.26] w2: [ 0.2   0.23 -0.03  0.4   1.77 -1.81] b1: [0.1  0.04] b2: [ 0.1 -0.2  0.1]\n",
            "Epochs: 661 loss: 0.0321 w1: [0.04 1.03 0.24 1.26] w2: [ 0.2   0.23 -0.03  0.4   1.78 -1.82] b1: [0.1  0.04] b2: [ 0.1 -0.2  0.1]\n",
            "Epochs: 671 loss: 0.0315 w1: [0.04 1.03 0.24 1.26] w2: [ 0.2   0.24 -0.03  0.4   1.79 -1.83] b1: [0.1  0.04] b2: [ 0.1 -0.2  0.1]\n",
            "Epochs: 681 loss: 0.0309 w1: [0.04 1.03 0.24 1.27] w2: [ 0.2   0.24 -0.04  0.4   1.8  -1.83] b1: [0.1  0.04] b2: [ 0.1 -0.2  0.1]\n",
            "Epochs: 691 loss: 0.0303 w1: [0.04 1.04 0.24 1.27] w2: [ 0.2   0.24 -0.04  0.4   1.8  -1.84] b1: [0.1  0.04] b2: [ 0.1 -0.2  0.1]\n",
            "Epochs: 701 loss: 0.0298 w1: [0.04 1.04 0.24 1.27] w2: [ 0.2   0.24 -0.04  0.4   1.81 -1.85] b1: [0.1  0.04] b2: [ 0.1 -0.2  0.1]\n",
            "Epochs: 711 loss: 0.0292 w1: [0.05 1.04 0.25 1.27] w2: [ 0.2   0.24 -0.04  0.4   1.82 -1.86] b1: [0.1  0.04] b2: [ 0.1 -0.2  0.1]\n",
            "Epochs: 721 loss: 0.0287 w1: [0.05 1.05 0.25 1.28] w2: [ 0.2   0.24 -0.04  0.4   1.83 -1.87] b1: [0.1  0.04] b2: [ 0.1 -0.2  0.1]\n",
            "Epochs: 731 loss: 0.0282 w1: [0.05 1.05 0.25 1.28] w2: [ 0.2   0.25 -0.05  0.4   1.84 -1.87] b1: [0.1  0.04] b2: [ 0.1 -0.2  0.1]\n",
            "Epochs: 741 loss: 0.0277 w1: [0.05 1.05 0.25 1.28] w2: [ 0.2   0.25 -0.05  0.4   1.84 -1.88] b1: [0.1  0.04] b2: [ 0.1 -0.2  0.1]\n",
            "Epochs: 751 loss: 0.0272 w1: [0.05 1.05 0.25 1.29] w2: [ 0.2   0.25 -0.05  0.4   1.85 -1.89] b1: [0.1  0.04] b2: [ 0.1 -0.2  0.1]\n",
            "Epochs: 761 loss: 0.0268 w1: [0.05 1.06 0.25 1.29] w2: [ 0.2   0.25 -0.05  0.4   1.86 -1.9 ] b1: [0.1  0.04] b2: [ 0.1 -0.2  0.1]\n",
            "Epochs: 771 loss: 0.0263 w1: [0.06 1.06 0.26 1.29] w2: [ 0.2   0.25 -0.05  0.4   1.87 -1.91] b1: [0.1  0.04] b2: [ 0.1 -0.2  0.1]\n",
            "Epochs: 781 loss: 0.0259 w1: [0.06 1.06 0.26 1.29] w2: [ 0.2   0.26 -0.06  0.4   1.87 -1.91] b1: [0.1  0.04] b2: [ 0.1 -0.2  0.1]\n",
            "Epochs: 791 loss: 0.0255 w1: [0.06 1.06 0.26 1.3 ] w2: [ 0.2   0.26 -0.06  0.4   1.88 -1.92] b1: [0.1  0.04] b2: [ 0.1 -0.2  0.1]\n"
          ]
        },
        {
          "output_type": "display_data",
          "data": {
            "text/plain": [
              "<Figure size 640x480 with 1 Axes>"
            ],
            "image/png": "[encoded data removed]"
          },
          "metadata": {}
        }
      ]
    }
  ]
}