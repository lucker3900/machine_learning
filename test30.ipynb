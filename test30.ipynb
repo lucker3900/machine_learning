{
  "nbformat": 4,
  "nbformat_minor": 0,
  "metadata": {
    "colab": {
      "provenance": [],
      "authorship_tag": "ABX9TyMaXCgyG8YKkck+aer+sGE2"
    },
    "kernelspec": {
      "name": "python3",
      "display_name": "Python 3"
    },
    "language_info": {
      "name": "python"
    }
  },
  "cells": [
    {
      "cell_type": "code",
      "execution_count": 1,
      "metadata": {
        "id": "HPFq5B4YKZPV"
      },
      "outputs": [],
      "source": [
        "#考虑一个具有两个隐藏层的 3 类别分类神经网络，结构如下：\n",
        "\n",
        "#一个输入节点 (x) (输入一个批次的 (X))\n",
        "#第一个隐藏层，包含 2 个 神经元 (h^{(1)}_1, h^{(1)}_2)，使用 Tanh 激活函数。\n",
        "#第二个隐藏层，包含 2 个 神经元 (h^{(2)}_1, h^{(2)}_2)，使用 Tanh 激活函数。\n",
        "#3 个 输出节点（对应3个类别），使用 Softmax 激活函数。"
      ]
    },
    {
      "cell_type": "code",
      "source": [
        "import numpy as np\n",
        "import matplotlib.pyplot as plt"
      ],
      "metadata": {
        "id": "JAQ6RcXDNF3i"
      },
      "execution_count": 2,
      "outputs": []
    },
    {
      "cell_type": "code",
      "source": [
        "#计算softmax激活函数\n",
        "def softmax(a):\n",
        "  a_max = np.max(a, axis=1, keepdims=True)\n",
        "  z = np.exp(a - a_max)\n",
        "\n",
        "  sums = np.sum(z, axis=1, keepdims=True)\n",
        "  return z / sums"
      ],
      "metadata": {
        "id": "w1hbO9euNww7"
      },
      "execution_count": 4,
      "outputs": []
    },
    {
      "cell_type": "code",
      "source": [
        "#前向传播，求输出y_pred\n",
        "def forward(w1, w2, w3, b1, b2, b3, x):\n",
        "  z1 = np.dot(x, w1) + b1 #shape(2,2) ,x.shape(batch_size, hidden_dim) ,w1.shape(hidden_dim, output_dim)\n",
        "  h1 = np.tanh(z1)\n",
        "\n",
        "  z2 = np.dot(h1, w2) + b2 #shape (2,2)\n",
        "  h2 = np.tanh(z2)\n",
        "\n",
        "  z3 = np.dot(h2, w3) + b3 #shape (2,3)\n",
        "  y_pred = softmax(z3)\n",
        "  return h1, h2, y_pred"
      ],
      "metadata": {
        "id": "GtQaYAH_Oyo8"
      },
      "execution_count": 6,
      "outputs": []
    },
    {
      "cell_type": "code",
      "source": [
        "#求损失函数loss\n",
        "def compute_loss(y_pred, y_true):\n",
        "  loss = -np.sum(y_true * np.log(y_pred + 1e-10)) / y_pred.shape[0]\n",
        "  return loss"
      ],
      "metadata": {
        "id": "lMkbpJ5fQSI1"
      },
      "execution_count": 9,
      "outputs": []
    },
    {
      "cell_type": "code",
      "source": [
        "#反向传播函数，求梯度计算\n",
        "def backward(y_pred, y_true, h1, h2, w3, w2, x):\n",
        "  dz3 = y_pred - y_true #shape(2,3)\n",
        "  b3_grad = np.mean(dz3, axis=0, keepdims=True)\n",
        "  w3_grad = np.dot(h2.T, dz3) / h2.shape[0] #shape (2,3)\n",
        "\n",
        "  dh2 = np.dot(dz3, w3.T) #shape(2,2)\n",
        "  dz2 = dh2 * (1 - h2**2)\n",
        "  b2_grad = np.mean(dz2, axis=0, keepdims=True) #shape(1,2)\n",
        "  w2_grad = np.dot(h1.T, dz2) / h1.shape[0] #shape (2,2)\n",
        "\n",
        "  dh1 = np.dot(dz2, w2.T) #shape(2,2)\n",
        "  dz1 = dh1 * (1 - h1**2)\n",
        "  b1_grad = np.mean(dz1, axis=0, keepdims=True)\n",
        "  w1_grad = np.dot(x.T, dz1) / x.shape[0] #shape (1,2)\n",
        "\n",
        "  return w1_grad, w2_grad, w3_grad, b1_grad, b2_grad, b3_grad"
      ],
      "metadata": {
        "id": "vfczuv2_RBks"
      },
      "execution_count": 17,
      "outputs": []
    },
    {
      "cell_type": "code",
      "source": [
        "#更新参数\n",
        "def update_params(w1, w2, w3, b1, b2, b3, w1_grad, w2_grad, w3_grad, b1_grad, b2_grad, b3_grad, learning_rate):\n",
        "  w1 -= learning_rate * w1_grad\n",
        "  w2 -= learning_rate * w2_grad\n",
        "  w3 -= learning_rate * w3_grad\n",
        "  b1 -= learning_rate * b1_grad\n",
        "  b2 -= learning_rate * b2_grad\n",
        "  b3 -= learning_rate * b3_grad\n",
        "  return w1, w2, w3, b1, b2, b3"
      ],
      "metadata": {
        "id": "UxikYmvmWdZ0"
      },
      "execution_count": 13,
      "outputs": []
    },
    {
      "cell_type": "code",
      "source": [
        "#初始化参数\n",
        "w1 = np.array([[0.5, -0.1]]) #shape (1,2)\n",
        "\n",
        "b1 = np.array([[0.2, -0.2]]) #shape (1,2)\n",
        "\n",
        "w2 = np.array([[0.3, -0.4],\n",
        "        [0.1, 0.2]]) #shape (2,2)\n",
        "\n",
        "b2 = np.array([[-0.1, 0.3]]) #shape (1,2)\n",
        "\n",
        "w3 = np.array([[0.4, -0.2, 0.1],\n",
        "        [-0.3, 0.1, 0.5]]) #shape (2,3)\n",
        "\n",
        "b3 = np.array([[0.1, -0.1, 0.2]]) #shape (1,3)\n",
        "\n",
        "x = np.array([[1.0],\n",
        "        [-1.0]]) #shape (2,1)\n",
        "\n",
        "y_true = np.array([[1, 0, 0],\n",
        "          [0, 0, 1]]) #shape (2,3)\n",
        "\n",
        "learning_rate = 0.015\n",
        "\n",
        "epochs = 4000\n",
        "losses = []\n",
        "\n",
        "for epoch in range(epochs):\n",
        "  h1, h2, y_pred = forward(w1, w2, w3, b1, b2, b3, x)\n",
        "  loss = compute_loss(y_pred, y_true)\n",
        "  losses.append(loss)\n",
        "\n",
        "  w1_grad, w2_grad, w3_grad, b1_grad, b2_grad, b3_grad = backward(y_pred, y_true, h1, h2, w3, w2, x)\n",
        "  w1, w2, w3, b1, b2, b3 = update_params(w1, w2, w3, b1, b2, b3, w1_grad, w2_grad, w3_grad, b1_grad, b2_grad, b3_grad, learning_rate)\n",
        "\n",
        "  if epoch%100 ==0:\n",
        "    print(\"epoch:\", epoch + 1,\n",
        "      \"loss\", np.round(loss, 4),\n",
        "      \"w1\", np.round(w1.flatten(), 2),\n",
        "      \"w2\", np.round(w2.flatten(), 2),\n",
        "      \"w3\", np.round(w3.flatten(), 2),\n",
        "      \"b1\", np.round(b1.flatten(), 2),\n",
        "      \"b2\", np.round(b2.flatten(), 2),\n",
        "      \"b3\", np.round(b3.flatten(), 2)\n",
        "      )\n",
        "\n",
        "plt.plot(range(epochs), losses, \"blue\")\n",
        "plt.xlabel(\"epoch axis\")\n",
        "plt.ylabel(\"loss axis\")\n",
        "plt.show()"
      ],
      "metadata": {
        "colab": {
          "base_uri": "https://localhost:8080/",
          "height": 1000
        },
        "id": "5POIWtGiKeh-",
        "outputId": "693416cc-c435-47cd-ae50-9e02357264e0"
      },
      "execution_count": 18,
      "outputs": [
        {
          "output_type": "stream",
          "name": "stdout",
          "text": [
            "epoch: 1 loss 0.9471 w1 [ 0.5 -0.1] w2 [ 0.3 -0.4  0.1  0.2] w3 [ 0.4 -0.2  0.1 -0.3  0.1  0.5] b1 [ 0.2 -0.2] b2 [-0.1  0.3] b3 [ 0.1 -0.1  0.2]\n",
            "epoch: 101 loss 0.6068 w1 [ 0.75 -0.21] w2 [ 0.45 -0.7   0.04  0.29] w3 [ 0.52 -0.2  -0.02 -0.47  0.05  0.71] b1 [ 0.2 -0.2] b2 [0.06 0.23] b3 [ 0.31 -0.44  0.33]\n",
            "epoch: 201 loss 0.3183 w1 [ 0.98 -0.33] w2 [ 0.62 -0.98 -0.03  0.39] w3 [ 0.68 -0.22 -0.16 -0.7   0.03  0.97] b1 [ 0.17 -0.19] b2 [0.12 0.21] b3 [ 0.41 -0.65  0.44]\n",
            "epoch: 301 loss 0.1811 w1 [ 1.11 -0.41] w2 [ 0.75 -1.14 -0.09  0.47] w3 [ 0.8  -0.23 -0.27 -0.88  0.01  1.17] b1 [ 0.14 -0.18] b2 [0.13 0.21] b3 [ 0.47 -0.78  0.52]\n",
            "epoch: 401 loss 0.1192 w1 [ 1.18 -0.47] w2 [ 0.83 -1.23 -0.14  0.51] w3 [ 0.89 -0.23 -0.36 -1.   -0.01  1.31] b1 [ 0.13 -0.18] b2 [0.13 0.2 ] b3 [ 0.51 -0.88  0.57]\n",
            "epoch: 501 loss 0.0867 w1 [ 1.23 -0.51] w2 [ 0.9  -1.28 -0.17  0.54] w3 [ 0.96 -0.23 -0.43 -1.09 -0.02  1.41] b1 [ 0.12 -0.17] b2 [0.12 0.2 ] b3 [ 0.53 -0.95  0.61]\n",
            "epoch: 601 loss 0.0674 w1 [ 1.26 -0.53] w2 [ 0.94 -1.33 -0.2   0.57] w3 [ 1.02 -0.23 -0.49 -1.16 -0.03  1.48] b1 [ 0.11 -0.17] b2 [0.12 0.2 ] b3 [ 0.56 -1.    0.64]\n",
            "epoch: 701 loss 0.0549 w1 [ 1.29 -0.56] w2 [ 0.98 -1.36 -0.22  0.58] w3 [ 1.06 -0.23 -0.54 -1.21 -0.03  1.54] b1 [ 0.11 -0.16] b2 [0.12 0.2 ] b3 [ 0.58 -1.05  0.67]\n",
            "epoch: 801 loss 0.0461 w1 [ 1.31 -0.58] w2 [ 1.01 -1.38 -0.23  0.6 ] w3 [ 1.1  -0.23 -0.58 -1.25 -0.04  1.6 ] b1 [ 0.1  -0.16] b2 [0.12 0.19] b3 [ 0.6  -1.09  0.69]\n",
            "epoch: 901 loss 0.0397 w1 [ 1.33 -0.59] w2 [ 1.04 -1.4  -0.25  0.61] w3 [ 1.14 -0.22 -0.61 -1.29 -0.05  1.64] b1 [ 0.1  -0.16] b2 [0.11 0.19] b3 [ 0.61 -1.12  0.71]\n",
            "epoch: 1001 loss 0.0348 w1 [ 1.34 -0.6 ] w2 [ 1.06 -1.42 -0.26  0.62] w3 [ 1.17 -0.22 -0.64 -1.33 -0.05  1.68] b1 [ 0.1  -0.16] b2 [0.11 0.19] b3 [ 0.62 -1.15  0.73]\n",
            "epoch: 1101 loss 0.0309 w1 [ 1.35 -0.62] w2 [ 1.08 -1.43 -0.28  0.63] w3 [ 1.19 -0.22 -0.67 -1.36 -0.05  1.71] b1 [ 0.1  -0.15] b2 [0.11 0.19] b3 [ 0.64 -1.18  0.74]\n",
            "epoch: 1201 loss 0.0278 w1 [ 1.36 -0.63] w2 [ 1.1  -1.45 -0.29  0.64] w3 [ 1.22 -0.22 -0.7  -1.38 -0.06  1.74] b1 [ 0.1  -0.15] b2 [0.11 0.19] b3 [ 0.65 -1.2   0.76]\n",
            "epoch: 1301 loss 0.0253 w1 [ 1.37 -0.64] w2 [ 1.11 -1.46 -0.3   0.65] w3 [ 1.24 -0.22 -0.72 -1.41 -0.06  1.77] b1 [ 0.09 -0.15] b2 [0.11 0.19] b3 [ 0.66 -1.23  0.77]\n",
            "epoch: 1401 loss 0.0232 w1 [ 1.38 -0.64] w2 [ 1.13 -1.47 -0.3   0.65] w3 [ 1.26 -0.22 -0.74 -1.43 -0.06  1.79] b1 [ 0.09 -0.15] b2 [0.1  0.19] b3 [ 0.67 -1.25  0.78]\n",
            "epoch: 1501 loss 0.0214 w1 [ 1.38 -0.65] w2 [ 1.14 -1.48 -0.31  0.66] w3 [ 1.28 -0.22 -0.76 -1.45 -0.07  1.82] b1 [ 0.09 -0.15] b2 [0.1  0.19] b3 [ 0.68 -1.27  0.79]\n",
            "epoch: 1601 loss 0.0198 w1 [ 1.39 -0.66] w2 [ 1.15 -1.48 -0.32  0.66] w3 [ 1.29 -0.22 -0.78 -1.47 -0.07  1.84] b1 [ 0.09 -0.15] b2 [0.1  0.19] b3 [ 0.69 -1.28  0.8 ]\n",
            "epoch: 1701 loss 0.0185 w1 [ 1.4  -0.66] w2 [ 1.16 -1.49 -0.33  0.67] w3 [ 1.31 -0.21 -0.79 -1.49 -0.07  1.86] b1 [ 0.09 -0.15] b2 [0.1  0.19] b3 [ 0.69 -1.3   0.81]\n",
            "epoch: 1801 loss 0.0173 w1 [ 1.4  -0.67] w2 [ 1.17 -1.5  -0.33  0.67] w3 [ 1.32 -0.21 -0.81 -1.5  -0.07  1.88] b1 [ 0.09 -0.15] b2 [0.1  0.18] b3 [ 0.7  -1.32  0.82]\n",
            "epoch: 1901 loss 0.0163 w1 [ 1.41 -0.68] w2 [ 1.18 -1.51 -0.34  0.68] w3 [ 1.34 -0.21 -0.83 -1.52 -0.08  1.89] b1 [ 0.09 -0.15] b2 [0.1  0.18] b3 [ 0.71 -1.33  0.82]\n",
            "epoch: 2001 loss 0.0154 w1 [ 1.41 -0.68] w2 [ 1.19 -1.51 -0.34  0.68] w3 [ 1.35 -0.21 -0.84 -1.53 -0.08  1.91] b1 [ 0.09 -0.14] b2 [0.1  0.18] b3 [ 0.71 -1.35  0.83]\n",
            "epoch: 2101 loss 0.0146 w1 [ 1.42 -0.69] w2 [ 1.2  -1.52 -0.35  0.68] w3 [ 1.37 -0.21 -0.85 -1.55 -0.08  1.93] b1 [ 0.09 -0.14] b2 [0.1  0.18] b3 [ 0.72 -1.36  0.84]\n",
            "epoch: 2201 loss 0.0138 w1 [ 1.42 -0.69] w2 [ 1.21 -1.52 -0.35  0.69] w3 [ 1.38 -0.21 -0.87 -1.56 -0.08  1.94] b1 [ 0.09 -0.14] b2 [0.1  0.18] b3 [ 0.73 -1.37  0.84]\n",
            "epoch: 2301 loss 0.0131 w1 [ 1.42 -0.69] w2 [ 1.21 -1.53 -0.36  0.69] w3 [ 1.39 -0.21 -0.88 -1.57 -0.08  1.96] b1 [ 0.09 -0.14] b2 [0.1  0.18] b3 [ 0.73 -1.38  0.85]\n",
            "epoch: 2401 loss 0.0125 w1 [ 1.43 -0.7 ] w2 [ 1.22 -1.53 -0.36  0.69] w3 [ 1.4  -0.21 -0.89 -1.59 -0.08  1.97] b1 [ 0.08 -0.14] b2 [0.1  0.18] b3 [ 0.74 -1.4   0.86]\n",
            "epoch: 2501 loss 0.012 w1 [ 1.43 -0.7 ] w2 [ 1.23 -1.54 -0.37  0.7 ] w3 [ 1.41 -0.21 -0.9  -1.6  -0.08  1.98] b1 [ 0.08 -0.14] b2 [0.09 0.18] b3 [ 0.74 -1.41  0.86]\n",
            "epoch: 2601 loss 0.0115 w1 [ 1.43 -0.71] w2 [ 1.23 -1.54 -0.37  0.7 ] w3 [ 1.42 -0.21 -0.91 -1.61 -0.09  1.99] b1 [ 0.08 -0.14] b2 [0.09 0.18] b3 [ 0.75 -1.42  0.87]\n",
            "epoch: 2701 loss 0.011 w1 [ 1.44 -0.71] w2 [ 1.24 -1.54 -0.38  0.7 ] w3 [ 1.43 -0.21 -0.92 -1.62 -0.09  2.  ] b1 [ 0.08 -0.14] b2 [0.09 0.18] b3 [ 0.75 -1.43  0.87]\n",
            "epoch: 2801 loss 0.0106 w1 [ 1.44 -0.71] w2 [ 1.24 -1.55 -0.38  0.71] w3 [ 1.44 -0.21 -0.93 -1.63 -0.09  2.02] b1 [ 0.08 -0.14] b2 [0.09 0.18] b3 [ 0.76 -1.44  0.88]\n",
            "epoch: 2901 loss 0.0102 w1 [ 1.44 -0.72] w2 [ 1.25 -1.55 -0.38  0.71] w3 [ 1.45 -0.21 -0.94 -1.64 -0.09  2.03] b1 [ 0.08 -0.14] b2 [0.09 0.18] b3 [ 0.76 -1.45  0.88]\n",
            "epoch: 3001 loss 0.0098 w1 [ 1.45 -0.72] w2 [ 1.25 -1.56 -0.39  0.71] w3 [ 1.46 -0.21 -0.95 -1.65 -0.09  2.04] b1 [ 0.08 -0.14] b2 [0.09 0.18] b3 [ 0.77 -1.46  0.89]\n",
            "epoch: 3101 loss 0.0095 w1 [ 1.45 -0.72] w2 [ 1.26 -1.56 -0.39  0.71] w3 [ 1.47 -0.21 -0.96 -1.66 -0.09  2.05] b1 [ 0.08 -0.14] b2 [0.09 0.18] b3 [ 0.77 -1.47  0.89]\n",
            "epoch: 3201 loss 0.0092 w1 [ 1.45 -0.72] w2 [ 1.26 -1.56 -0.39  0.71] w3 [ 1.47 -0.21 -0.97 -1.66 -0.09  2.06] b1 [ 0.08 -0.14] b2 [0.09 0.18] b3 [ 0.78 -1.47  0.9 ]\n",
            "epoch: 3301 loss 0.0089 w1 [ 1.45 -0.73] w2 [ 1.27 -1.56 -0.4   0.72] w3 [ 1.48 -0.21 -0.98 -1.67 -0.09  2.06] b1 [ 0.08 -0.14] b2 [0.09 0.18] b3 [ 0.78 -1.48  0.9 ]\n",
            "epoch: 3401 loss 0.0086 w1 [ 1.45 -0.73] w2 [ 1.27 -1.57 -0.4   0.72] w3 [ 1.49 -0.2  -0.98 -1.68 -0.09  2.07] b1 [ 0.08 -0.14] b2 [0.09 0.18] b3 [ 0.79 -1.49  0.91]\n",
            "epoch: 3501 loss 0.0083 w1 [ 1.46 -0.73] w2 [ 1.28 -1.57 -0.4   0.72] w3 [ 1.5  -0.2  -0.99 -1.69 -0.09  2.08] b1 [ 0.08 -0.14] b2 [0.09 0.18] b3 [ 0.79 -1.5   0.91]\n",
            "epoch: 3601 loss 0.0081 w1 [ 1.46 -0.73] w2 [ 1.28 -1.57 -0.4   0.72] w3 [ 1.5  -0.2  -1.   -1.7  -0.09  2.09] b1 [ 0.08 -0.14] b2 [0.09 0.18] b3 [ 0.79 -1.51  0.91]\n",
            "epoch: 3701 loss 0.0078 w1 [ 1.46 -0.74] w2 [ 1.28 -1.58 -0.41  0.72] w3 [ 1.51 -0.2  -1.01 -1.7  -0.09  2.1 ] b1 [ 0.08 -0.14] b2 [0.09 0.18] b3 [ 0.8  -1.51  0.92]\n",
            "epoch: 3801 loss 0.0076 w1 [ 1.46 -0.74] w2 [ 1.29 -1.58 -0.41  0.73] w3 [ 1.52 -0.2  -1.01 -1.71 -0.1   2.11] b1 [ 0.08 -0.14] b2 [0.09 0.18] b3 [ 0.8  -1.52  0.92]\n",
            "epoch: 3901 loss 0.0074 w1 [ 1.46 -0.74] w2 [ 1.29 -1.58 -0.41  0.73] w3 [ 1.52 -0.2  -1.02 -1.72 -0.1   2.11] b1 [ 0.08 -0.14] b2 [0.09 0.18] b3 [ 0.8  -1.53  0.92]\n"
          ]
        },
        {
          "output_type": "display_data",
          "data": {
            "text/plain": [
              "<Figure size 640x480 with 1 Axes>"
            ],
            "image/png": "[encoded data removed]"
          },
          "metadata": {}
        }
      ]
    },
    {
      "cell_type": "code",
      "source": [
        "import torch\n",
        "import matplotlib.pyplot as plt"
      ],
      "metadata": {
        "id": "Cpa1UHhgYsm9"
      },
      "execution_count": 19,
      "outputs": []
    },
    {
      "cell_type": "code",
      "source": [
        "#前向传播，求出书y_pred\n",
        "def th_forward(w1, w2, w3, b1, b2, b3, x):\n",
        "  z1 = torch.matmul(x, w1) + b1 #shape(2,2) ,x.shape(batch_size, hidden_dim) ,w1.shape(hidden_dim, output_dim)\n",
        "  h1 = torch.tanh(z1)\n",
        "\n",
        "  z2 = torch.matmul(h1, w2) + b2 #shape (2,2)\n",
        "  h2 = torch.tanh(z2)\n",
        "\n",
        "  z3 = torch.matmul(h2, w3) + b3 #shape (2,3)\n",
        "  y_pred = torch.softmax(z3, dim=1)\n",
        "  return y_pred"
      ],
      "metadata": {
        "id": "ndj1DnydYzhF"
      },
      "execution_count": 20,
      "outputs": []
    },
    {
      "cell_type": "code",
      "source": [
        "#求损失函数loss\n",
        "def th_compute_loss(y_pred, y_true):\n",
        "  loss = -torch.sum(y_true * torch.log(y_pred + 1e-10)) / y_pred.shape[0]\n",
        "  return loss"
      ],
      "metadata": {
        "id": "uNRbYaeOZ8A0"
      },
      "execution_count": 21,
      "outputs": []
    },
    {
      "cell_type": "code",
      "source": [
        "#pytorch初始化参数\n",
        "w1 = torch.tensor([[0.5, -0.1]],requires_grad=True) #shape (1,2)\n",
        "\n",
        "b1 = torch.tensor([[0.2, -0.2]],requires_grad=True) #shape (1,2)\n",
        "\n",
        "w2 = torch.tensor([[0.3, -0.4],\n",
        "          [0.1, 0.2]],requires_grad=True) #shape (2,2)\n",
        "\n",
        "b2 = torch.tensor([[-0.1, 0.3]],requires_grad=True) #shape (1,2)\n",
        "\n",
        "w3 = torch.tensor([[0.4, -0.2, 0.1],\n",
        "          [-0.3, 0.1, 0.5]],requires_grad=True) #shape (2,3)\n",
        "\n",
        "b3 = torch.tensor([[0.1, -0.1, 0.2]],requires_grad=True) #shape (1,3)\n",
        "\n",
        "x = torch.tensor([[1.0],\n",
        "          [-1.0]]) #shape (2,1)\n",
        "\n",
        "y_true = torch.tensor([[1, 0, 0],\n",
        "            [0, 0, 1]]) #shape (2,3)\n",
        "\n",
        "epochs = 4000\n",
        "learning_rate = 0.015\n",
        "\n",
        "losses = []\n",
        "\n",
        "for epoch in range(epochs):\n",
        "  y_pred = th_forward(w1, w2, w3, b1, b2, b3, x)\n",
        "\n",
        "  loss = th_compute_loss(y_pred, y_true)\n",
        "  losses.append(loss.item())\n",
        "\n",
        "  if w1.grad is not None:\n",
        "    w1.grad.zero_()\n",
        "    w2.grad.zero_()\n",
        "    w3.grad.zero_()\n",
        "    b1.grad.zero_()\n",
        "    b2.grad.zero_()\n",
        "    b3.grad.zero_()\n",
        "\n",
        "  loss.backward()\n",
        "\n",
        "  with torch.no_grad():\n",
        "    w1 -= learning_rate * w1.grad\n",
        "    w2 -= learning_rate * w2.grad\n",
        "    w3 -= learning_rate * w3.grad\n",
        "    b1 -= learning_rate * b1.grad\n",
        "    b2 -= learning_rate * b2.grad\n",
        "    b3 -= learning_rate * b3.grad\n",
        "\n",
        "  if epoch%100 == 0:\n",
        "    print(f\"epoch: {epoch + 1}\",\n",
        "      f\"loss: {loss.item():.4f}\",\n",
        "      f\"w1: {w1.flatten().detach().numpy().round(2)}\",\n",
        "      f\"w2: {w2.flatten().detach().numpy().round(2)}\",\n",
        "      f\"w3: {w3.flatten().detach().numpy().round(2)}\",\n",
        "      f\"b1: {b1.flatten().detach().numpy().round(2)}\",\n",
        "      f\"b2: {b2.flatten().detach().numpy().round(2)}\",\n",
        "      f\"b3: {b3.flatten().detach().numpy().round(2)}\",\n",
        "      )\n",
        "\n",
        "plt.plot(range(epochs), losses, \"blue\")\n",
        "plt.xlabel(\"epoch axis\")\n",
        "plt.ylabel(\"loss axis\")\n",
        "plt.show()"
      ],
      "metadata": {
        "colab": {
          "base_uri": "https://localhost:8080/",
          "height": 1000
        },
        "id": "QpFF_4rAY9Ie",
        "outputId": "0a7132f4-c20f-47b1-92d2-0fdaf119bafc"
      },
      "execution_count": 27,
      "outputs": [
        {
          "output_type": "stream",
          "name": "stdout",
          "text": [
            "epoch: 1 loss: 0.9471 w1: [ 0.5 -0.1] w2: [ 0.3 -0.4  0.1  0.2] w3: [ 0.4 -0.2  0.1 -0.3  0.1  0.5] b1: [ 0.2 -0.2] b2: [-0.1  0.3] b3: [ 0.1 -0.1  0.2]\n",
            "epoch: 101 loss: 0.6068 w1: [ 0.75 -0.21] w2: [ 0.45 -0.7   0.04  0.29] w3: [ 0.52 -0.2  -0.02 -0.47  0.05  0.71] b1: [ 0.2 -0.2] b2: [0.06 0.23] b3: [ 0.31 -0.44  0.33]\n",
            "epoch: 201 loss: 0.3183 w1: [ 0.98 -0.33] w2: [ 0.62 -0.98 -0.03  0.39] w3: [ 0.68 -0.22 -0.16 -0.7   0.03  0.97] b1: [ 0.17 -0.19] b2: [0.12 0.21] b3: [ 0.41 -0.65  0.44]\n",
            "epoch: 301 loss: 0.1811 w1: [ 1.11 -0.41] w2: [ 0.75 -1.14 -0.09  0.47] w3: [ 0.8  -0.23 -0.27 -0.88  0.01  1.17] b1: [ 0.14 -0.18] b2: [0.13 0.21] b3: [ 0.47 -0.78  0.52]\n",
            "epoch: 401 loss: 0.1192 w1: [ 1.18 -0.47] w2: [ 0.83 -1.23 -0.14  0.51] w3: [ 0.89 -0.23 -0.36 -1.   -0.01  1.31] b1: [ 0.13 -0.18] b2: [0.13 0.2 ] b3: [ 0.51 -0.88  0.57]\n",
            "epoch: 501 loss: 0.0867 w1: [ 1.23 -0.51] w2: [ 0.9  -1.28 -0.17  0.54] w3: [ 0.96 -0.23 -0.43 -1.09 -0.02  1.41] b1: [ 0.12 -0.17] b2: [0.12 0.2 ] b3: [ 0.53 -0.95  0.61]\n",
            "epoch: 601 loss: 0.0674 w1: [ 1.26 -0.53] w2: [ 0.94 -1.33 -0.2   0.57] w3: [ 1.02 -0.23 -0.49 -1.16 -0.03  1.48] b1: [ 0.11 -0.17] b2: [0.12 0.2 ] b3: [ 0.56 -1.    0.64]\n",
            "epoch: 701 loss: 0.0549 w1: [ 1.29 -0.56] w2: [ 0.98 -1.36 -0.22  0.58] w3: [ 1.06 -0.23 -0.54 -1.21 -0.03  1.54] b1: [ 0.11 -0.16] b2: [0.12 0.2 ] b3: [ 0.58 -1.05  0.67]\n",
            "epoch: 801 loss: 0.0461 w1: [ 1.31 -0.58] w2: [ 1.01 -1.38 -0.23  0.6 ] w3: [ 1.1  -0.23 -0.58 -1.25 -0.04  1.6 ] b1: [ 0.1  -0.16] b2: [0.12 0.19] b3: [ 0.6  -1.09  0.69]\n",
            "epoch: 901 loss: 0.0397 w1: [ 1.33 -0.59] w2: [ 1.04 -1.4  -0.25  0.61] w3: [ 1.14 -0.22 -0.61 -1.29 -0.05  1.64] b1: [ 0.1  -0.16] b2: [0.11 0.19] b3: [ 0.61 -1.12  0.71]\n",
            "epoch: 1001 loss: 0.0348 w1: [ 1.34 -0.6 ] w2: [ 1.06 -1.42 -0.26  0.62] w3: [ 1.17 -0.22 -0.64 -1.33 -0.05  1.68] b1: [ 0.1  -0.16] b2: [0.11 0.19] b3: [ 0.62 -1.15  0.73]\n",
            "epoch: 1101 loss: 0.0309 w1: [ 1.35 -0.62] w2: [ 1.08 -1.43 -0.28  0.63] w3: [ 1.19 -0.22 -0.67 -1.36 -0.05  1.71] b1: [ 0.1  -0.15] b2: [0.11 0.19] b3: [ 0.64 -1.18  0.74]\n",
            "epoch: 1201 loss: 0.0278 w1: [ 1.36 -0.63] w2: [ 1.1  -1.45 -0.29  0.64] w3: [ 1.22 -0.22 -0.7  -1.38 -0.06  1.74] b1: [ 0.1  -0.15] b2: [0.11 0.19] b3: [ 0.65 -1.2   0.76]\n",
            "epoch: 1301 loss: 0.0253 w1: [ 1.37 -0.64] w2: [ 1.11 -1.46 -0.3   0.65] w3: [ 1.24 -0.22 -0.72 -1.41 -0.06  1.77] b1: [ 0.09 -0.15] b2: [0.11 0.19] b3: [ 0.66 -1.23  0.77]\n",
            "epoch: 1401 loss: 0.0232 w1: [ 1.38 -0.64] w2: [ 1.13 -1.47 -0.3   0.65] w3: [ 1.26 -0.22 -0.74 -1.43 -0.06  1.79] b1: [ 0.09 -0.15] b2: [0.1  0.19] b3: [ 0.67 -1.25  0.78]\n",
            "epoch: 1501 loss: 0.0214 w1: [ 1.38 -0.65] w2: [ 1.14 -1.48 -0.31  0.66] w3: [ 1.28 -0.22 -0.76 -1.45 -0.07  1.82] b1: [ 0.09 -0.15] b2: [0.1  0.19] b3: [ 0.68 -1.27  0.79]\n",
            "epoch: 1601 loss: 0.0198 w1: [ 1.39 -0.66] w2: [ 1.15 -1.48 -0.32  0.66] w3: [ 1.29 -0.22 -0.78 -1.47 -0.07  1.84] b1: [ 0.09 -0.15] b2: [0.1  0.19] b3: [ 0.69 -1.28  0.8 ]\n",
            "epoch: 1701 loss: 0.0185 w1: [ 1.4  -0.66] w2: [ 1.16 -1.49 -0.33  0.67] w3: [ 1.31 -0.21 -0.79 -1.49 -0.07  1.86] b1: [ 0.09 -0.15] b2: [0.1  0.19] b3: [ 0.69 -1.3   0.81]\n",
            "epoch: 1801 loss: 0.0173 w1: [ 1.4  -0.67] w2: [ 1.17 -1.5  -0.33  0.67] w3: [ 1.32 -0.21 -0.81 -1.5  -0.07  1.88] b1: [ 0.09 -0.15] b2: [0.1  0.18] b3: [ 0.7  -1.32  0.82]\n",
            "epoch: 1901 loss: 0.0163 w1: [ 1.41 -0.68] w2: [ 1.18 -1.51 -0.34  0.68] w3: [ 1.34 -0.21 -0.83 -1.52 -0.08  1.89] b1: [ 0.09 -0.15] b2: [0.1  0.18] b3: [ 0.71 -1.33  0.82]\n",
            "epoch: 2001 loss: 0.0154 w1: [ 1.41 -0.68] w2: [ 1.19 -1.51 -0.34  0.68] w3: [ 1.35 -0.21 -0.84 -1.53 -0.08  1.91] b1: [ 0.09 -0.14] b2: [0.1  0.18] b3: [ 0.71 -1.35  0.83]\n",
            "epoch: 2101 loss: 0.0146 w1: [ 1.42 -0.69] w2: [ 1.2  -1.52 -0.35  0.68] w3: [ 1.37 -0.21 -0.85 -1.55 -0.08  1.93] b1: [ 0.09 -0.14] b2: [0.1  0.18] b3: [ 0.72 -1.36  0.84]\n",
            "epoch: 2201 loss: 0.0138 w1: [ 1.42 -0.69] w2: [ 1.21 -1.52 -0.35  0.69] w3: [ 1.38 -0.21 -0.87 -1.56 -0.08  1.94] b1: [ 0.09 -0.14] b2: [0.1  0.18] b3: [ 0.73 -1.37  0.84]\n",
            "epoch: 2301 loss: 0.0132 w1: [ 1.42 -0.69] w2: [ 1.21 -1.53 -0.36  0.69] w3: [ 1.39 -0.21 -0.88 -1.57 -0.08  1.96] b1: [ 0.09 -0.14] b2: [0.1  0.18] b3: [ 0.73 -1.38  0.85]\n",
            "epoch: 2401 loss: 0.0125 w1: [ 1.43 -0.7 ] w2: [ 1.22 -1.53 -0.36  0.69] w3: [ 1.4  -0.21 -0.89 -1.59 -0.08  1.97] b1: [ 0.08 -0.14] b2: [0.1  0.18] b3: [ 0.74 -1.4   0.86]\n",
            "epoch: 2501 loss: 0.0120 w1: [ 1.43 -0.7 ] w2: [ 1.23 -1.54 -0.37  0.7 ] w3: [ 1.41 -0.21 -0.9  -1.6  -0.08  1.98] b1: [ 0.08 -0.14] b2: [0.09 0.18] b3: [ 0.74 -1.41  0.86]\n",
            "epoch: 2601 loss: 0.0115 w1: [ 1.43 -0.71] w2: [ 1.23 -1.54 -0.37  0.7 ] w3: [ 1.42 -0.21 -0.91 -1.61 -0.09  1.99] b1: [ 0.08 -0.14] b2: [0.09 0.18] b3: [ 0.75 -1.42  0.87]\n",
            "epoch: 2701 loss: 0.0110 w1: [ 1.44 -0.71] w2: [ 1.24 -1.54 -0.38  0.7 ] w3: [ 1.43 -0.21 -0.92 -1.62 -0.09  2.  ] b1: [ 0.08 -0.14] b2: [0.09 0.18] b3: [ 0.75 -1.43  0.87]\n",
            "epoch: 2801 loss: 0.0106 w1: [ 1.44 -0.71] w2: [ 1.24 -1.55 -0.38  0.71] w3: [ 1.44 -0.21 -0.93 -1.63 -0.09  2.02] b1: [ 0.08 -0.14] b2: [0.09 0.18] b3: [ 0.76 -1.44  0.88]\n",
            "epoch: 2901 loss: 0.0102 w1: [ 1.44 -0.72] w2: [ 1.25 -1.55 -0.38  0.71] w3: [ 1.45 -0.21 -0.94 -1.64 -0.09  2.03] b1: [ 0.08 -0.14] b2: [0.09 0.18] b3: [ 0.76 -1.45  0.88]\n",
            "epoch: 3001 loss: 0.0098 w1: [ 1.45 -0.72] w2: [ 1.25 -1.56 -0.39  0.71] w3: [ 1.46 -0.21 -0.95 -1.65 -0.09  2.04] b1: [ 0.08 -0.14] b2: [0.09 0.18] b3: [ 0.77 -1.46  0.89]\n",
            "epoch: 3101 loss: 0.0095 w1: [ 1.45 -0.72] w2: [ 1.26 -1.56 -0.39  0.71] w3: [ 1.47 -0.21 -0.96 -1.66 -0.09  2.05] b1: [ 0.08 -0.14] b2: [0.09 0.18] b3: [ 0.77 -1.47  0.89]\n",
            "epoch: 3201 loss: 0.0092 w1: [ 1.45 -0.72] w2: [ 1.26 -1.56 -0.39  0.71] w3: [ 1.47 -0.21 -0.97 -1.66 -0.09  2.06] b1: [ 0.08 -0.14] b2: [0.09 0.18] b3: [ 0.78 -1.47  0.9 ]\n",
            "epoch: 3301 loss: 0.0089 w1: [ 1.45 -0.73] w2: [ 1.27 -1.56 -0.4   0.72] w3: [ 1.48 -0.21 -0.98 -1.67 -0.09  2.06] b1: [ 0.08 -0.14] b2: [0.09 0.18] b3: [ 0.78 -1.48  0.9 ]\n",
            "epoch: 3401 loss: 0.0086 w1: [ 1.45 -0.73] w2: [ 1.27 -1.57 -0.4   0.72] w3: [ 1.49 -0.2  -0.98 -1.68 -0.09  2.07] b1: [ 0.08 -0.14] b2: [0.09 0.18] b3: [ 0.79 -1.49  0.91]\n",
            "epoch: 3501 loss: 0.0083 w1: [ 1.46 -0.73] w2: [ 1.28 -1.57 -0.4   0.72] w3: [ 1.5  -0.2  -0.99 -1.69 -0.09  2.08] b1: [ 0.08 -0.14] b2: [0.09 0.18] b3: [ 0.79 -1.5   0.91]\n",
            "epoch: 3601 loss: 0.0081 w1: [ 1.46 -0.73] w2: [ 1.28 -1.57 -0.4   0.72] w3: [ 1.5  -0.2  -1.   -1.7  -0.09  2.09] b1: [ 0.08 -0.14] b2: [0.09 0.18] b3: [ 0.79 -1.51  0.91]\n",
            "epoch: 3701 loss: 0.0078 w1: [ 1.46 -0.74] w2: [ 1.28 -1.58 -0.41  0.72] w3: [ 1.51 -0.2  -1.01 -1.7  -0.09  2.1 ] b1: [ 0.08 -0.14] b2: [0.09 0.18] b3: [ 0.8  -1.51  0.92]\n",
            "epoch: 3801 loss: 0.0076 w1: [ 1.46 -0.74] w2: [ 1.29 -1.58 -0.41  0.73] w3: [ 1.52 -0.2  -1.01 -1.71 -0.1   2.11] b1: [ 0.08 -0.14] b2: [0.09 0.18] b3: [ 0.8  -1.52  0.92]\n",
            "epoch: 3901 loss: 0.0074 w1: [ 1.46 -0.74] w2: [ 1.29 -1.58 -0.41  0.73] w3: [ 1.52 -0.2  -1.02 -1.72 -0.1   2.11] b1: [ 0.08 -0.14] b2: [0.09 0.18] b3: [ 0.8  -1.53  0.92]\n"
          ]
        },
        {
          "output_type": "display_data",
          "data": {
            "text/plain": [
              "<Figure size 640x480 with 1 Axes>"
            ],
            "image/png": "[encoded data removed]"
          },
          "metadata": {}
        }
      ]
    }
  ]
}