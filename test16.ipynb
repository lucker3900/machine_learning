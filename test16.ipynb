{
  "nbformat": 4,
  "nbformat_minor": 0,
  "metadata": {
    "colab": {
      "provenance": [],
      "authorship_tag": "ABX9TyNKeyQJYLKZygzbsH5uWE98"
    },
    "kernelspec": {
      "name": "python3",
      "display_name": "Python 3"
    },
    "language_info": {
      "name": "python"
    }
  },
  "cells": [
    {
      "cell_type": "code",
      "source": [
        "#考虑一个单隐藏层的神经网络，结构如下：\n",
        "\n",
        "#输入层：3 个神经元。\n",
        "#隐藏层：2 个神经元，使用 Tanh 激活函数。\n",
        "#输出层：1 个神经元，使用线性激活函数（即无激活函数）。"
      ],
      "metadata": {
        "id": "MEVEv1GXGvgi"
      },
      "execution_count": null,
      "outputs": []
    },
    {
      "cell_type": "code",
      "execution_count": 1,
      "metadata": {
        "id": "pLbcvBlhF6jO"
      },
      "outputs": [],
      "source": [
        "import numpy as np\n",
        "import matplotlib.pyplot as plt"
      ]
    },
    {
      "cell_type": "code",
      "source": [
        "#计算tanh函数\n",
        "def tanh(a):\n",
        "  return np.tanh(a)"
      ],
      "metadata": {
        "id": "dkqLoL2dHY9I"
      },
      "execution_count": 2,
      "outputs": []
    },
    {
      "cell_type": "code",
      "source": [
        "#计算前向传播,求出y_pred\n",
        "def forward(W1, b1, b2, X):\n",
        "  Z = np.dot(X, W1) + b1 # ndarray (2,)\n",
        "  H = np.tanh(Z) #ndarray (2,)\n",
        "\n",
        "  y_pred = np.dot(W2, H) + b2\n",
        "  return Z, H, y_pred"
      ],
      "metadata": {
        "id": "mRYKhD_9Hm6o"
      },
      "execution_count": 6,
      "outputs": []
    },
    {
      "cell_type": "code",
      "source": [
        "#求损失函数loss\n",
        "def compute_loss(y_pred, y_true):\n",
        "  loss = (y_pred - y_true)**2 / 2\n",
        "  return loss"
      ],
      "metadata": {
        "id": "mNYZDLE5IPI_"
      },
      "execution_count": 8,
      "outputs": []
    },
    {
      "cell_type": "code",
      "source": [
        "#反向传导，求梯度计算\n",
        "def backward(y_pred, y_true, H, W2, X):\n",
        "  b2_grad = y_pred - y_true\n",
        "  W2_grad = b2_grad * H\n",
        "\n",
        "  bh = b2_grad * W2\n",
        "  bz = bh * (1- H**2)\n",
        "  b1_grad = bz\n",
        "  W1_grad = np.outer(X, bz)\n",
        "\n",
        "  return W1_grad, W2_grad, b1_grad, b2_grad"
      ],
      "metadata": {
        "id": "FDBjWmTQJJjM"
      },
      "execution_count": 17,
      "outputs": []
    },
    {
      "cell_type": "code",
      "source": [
        "#求参数更新函数\n",
        "def update_params(W1, W2, b1, b2, W1_grad, W2_grad, b1_grad, b2_grad, learning_rate):\n",
        "  W1 -= learning_rate * W1_grad\n",
        "  W2 -= learning_rate * W2_grad\n",
        "  b1 -= learning_rate * b1_grad\n",
        "  b2 -= learning_rate * b2_grad\n",
        "  return W1, W2, b1, b2"
      ],
      "metadata": {
        "id": "hzuZSMzuLc8o"
      },
      "execution_count": 19,
      "outputs": []
    },
    {
      "cell_type": "code",
      "source": [
        "#初始化\n",
        "\n",
        "X = np.array([1.0, -0.5,  0.2])\n",
        "W1 = np.array([[0.2, -0.1], [0.4, 0.3], [-0.3, 0.5]])\n",
        "b1 = np.array([0.1, 0.2])\n",
        "W2 = np.array([0.6, -0.4])\n",
        "b2 = -0.1\n",
        "\n",
        "y_true = 2.0\n",
        "\n",
        "learning_rate = 0.01\n",
        "losses = []\n",
        "epochs = 180\n",
        "\n",
        "for epoch in range(epochs):\n",
        "  Z, H, y_pred = forward(W1, b1, b2, X)\n",
        "  loss = compute_loss(y_pred, y_true)\n",
        "  losses.append(loss)\n",
        "\n",
        "  W1_grad, W2_grad, b1_grad, b2_grad = backward(y_pred, y_true, H, W2, X)\n",
        "  W1, W2, b1, b2 = update_params(W1, W2, b1, b2, W1_grad, W2_grad, b1_grad, b2_grad, learning_rate)\n",
        "\n",
        "  if epoch%10 ==0:\n",
        "    print(\"Epochs:\", epoch + 1,\n",
        "      \"loss:\", np.round(loss, 4),\n",
        "      \"W1_grad:\", np.round(W1_grad.flatten(), 2),\n",
        "      \"W2_grad:\", np.round(W2_grad.flatten(), 2),\n",
        "      \"b1_grad:\", np.round(b1_grad.flatten(), 2),\n",
        "      \"b2_grad:\", np.round(b2_grad.flatten(), 2),\n",
        "      \"W1\", np.round(W1, 2),\n",
        "      \"W2\", np.round(W2, 2),\n",
        "      \"b1\", np.round(b1, 2),\n",
        "      \"b2\", np.round(b2, 2)\n",
        "    )\n",
        "\n",
        "plt.plot(range(epochs), losses, \"blue\")\n",
        "plt.xlabel(\"loss axis\")\n",
        "plt.ylabel(\"epoch axis\")\n",
        "plt.title(\"gradian decense compute\")\n",
        "plt.legend()\n",
        "plt.show()"
      ],
      "metadata": {
        "colab": {
          "base_uri": "https://localhost:8080/",
          "height": 1000
        },
        "id": "Bas7MO56G6db",
        "outputId": "882d5a58-fadf-4569-9f91-a95b8ca9337b"
      },
      "execution_count": 30,
      "outputs": [
        {
          "output_type": "stream",
          "name": "stdout",
          "text": [
            "Epochs: 1 loss: [2.1549 2.2472] W1_grad: [-1.24  0.85  0.62 -0.42 -0.25  0.17] W2_grad: [-0.08 -0.11] b1_grad: [-1.24  0.85] b2_grad: [-2.08 -2.12] W1 [[ 0.21 -0.11]\n",
            " [ 0.39  0.3 ]\n",
            " [-0.3   0.5 ]] W2 [ 0.6 -0.4] b1 [0.11 0.19] b2 [-0.08 -0.08]\n",
            "Epochs: 11 loss: [1.4891 1.7062] W1_grad: [-1.    0.74  0.5  -0.37 -0.2   0.15] W2_grad: [-0.5   0.24] b1_grad: [-1.    0.74] b2_grad: [-1.73 -1.85] W1 [[ 0.32 -0.19]\n",
            " [ 0.34  0.34]\n",
            " [-0.28  0.48]] W2 [ 0.63 -0.41] b1 [0.22 0.11] b2 [0.11 0.12]\n",
            "Epochs: 21 loss: [1.0221 1.2831] W1_grad: [-0.77  0.65  0.39 -0.32 -0.15  0.13] W2_grad: [-0.66  0.45] b1_grad: [-0.77  0.65] b2_grad: [-1.43 -1.6 ] W1 [[ 0.41 -0.26]\n",
            " [ 0.3   0.38]\n",
            " [-0.26  0.47]] W2 [ 0.7  -0.45] b1 [0.31 0.04] b2 [0.26 0.29]\n",
            "Epochs: 31 loss: [0.6965 0.9481] W1_grad: [-0.59  0.57  0.3  -0.28 -0.12  0.11] W2_grad: [-0.68  0.56] b1_grad: [-0.59  0.57] b2_grad: [-1.18 -1.38] W1 [[ 0.48 -0.32]\n",
            " [ 0.26  0.41]\n",
            " [-0.24  0.46]] W2 [ 0.76 -0.5 ] b1 [ 0.38 -0.02] b2 [0.39 0.44]\n",
            "Epochs: 41 loss: [0.4721 0.6874] W1_grad: [-0.46  0.48  0.23 -0.24 -0.09  0.1 ] W2_grad: [-0.64  0.59] b1_grad: [-0.46  0.48] b2_grad: [-0.97 -1.17] W1 [[ 0.53 -0.37]\n",
            " [ 0.24  0.43]\n",
            " [-0.23  0.45]] W2 [ 0.83 -0.56] b1 [ 0.43 -0.07] b2 [0.5  0.56]\n",
            "Epochs: 51 loss: [0.3188 0.4904] W1_grad: [-0.36  0.4   0.18 -0.2  -0.07  0.08] W2_grad: [-0.56  0.57] b1_grad: [-0.36  0.4 ] b2_grad: [-0.8  -0.99] W1 [[ 0.57 -0.41]\n",
            " [ 0.22  0.46]\n",
            " [-0.23  0.44]] W2 [ 0.89 -0.61] b1 [ 0.47 -0.11] b2 [0.59 0.67]\n",
            "Epochs: 61 loss: [0.2148 0.3454] W1_grad: [-0.28  0.33  0.14 -0.17 -0.06  0.07] W2_grad: [-0.48  0.52] b1_grad: [-0.28  0.33] b2_grad: [-0.66 -0.83] W1 [[ 0.6  -0.45]\n",
            " [ 0.2   0.47]\n",
            " [-0.22  0.43]] W2 [ 0.94 -0.67] b1 [ 0.5  -0.15] b2 [0.66 0.76]\n",
            "Epochs: 71 loss: [0.1445 0.241 ] W1_grad: [-0.22  0.27  0.11 -0.14 -0.04  0.05] W2_grad: [-0.41  0.46] b1_grad: [-0.22  0.27] b2_grad: [-0.54 -0.69] W1 [[ 0.62 -0.48]\n",
            " [ 0.19  0.49]\n",
            " [-0.22  0.42]] W2 [ 0.99 -0.72] b1 [ 0.52 -0.18] b2 [0.72 0.84]\n",
            "Epochs: 81 loss: [0.0971 0.167 ] W1_grad: [-0.17  0.22  0.09 -0.11 -0.03  0.04] W2_grad: [-0.34  0.4 ] b1_grad: [-0.17  0.22] b2_grad: [-0.44 -0.58] W1 [[ 0.64 -0.5 ]\n",
            " [ 0.18  0.5 ]\n",
            " [-0.21  0.42]] W2 [ 1.02 -0.76] b1 [ 0.54 -0.2 ] b2 [0.77 0.9 ]\n",
            "Epochs: 91 loss: [0.0652 0.1152] W1_grad: [-0.14  0.18  0.07 -0.09 -0.03  0.04] W2_grad: [-0.29  0.35] b1_grad: [-0.14  0.18] b2_grad: [-0.36 -0.48] W1 [[ 0.66 -0.52]\n",
            " [ 0.17  0.51]\n",
            " [-0.21  0.42]] W2 [ 1.05 -0.8 ] b1 [ 0.56 -0.22] b2 [0.81 0.95]\n",
            "Epochs: 101 loss: [0.0438 0.0791] W1_grad: [-0.11  0.15  0.06 -0.07 -0.02  0.03] W2_grad: [-0.24  0.29] b1_grad: [-0.11  0.15] b2_grad: [-0.3 -0.4] W1 [[ 0.67 -0.54]\n",
            " [ 0.16  0.52]\n",
            " [-0.21  0.41]] W2 [ 1.08 -0.83] b1 [ 0.57 -0.24] b2 [0.84 0.99]\n",
            "Epochs: 111 loss: [0.0294 0.0542] W1_grad: [-0.09  0.12  0.04 -0.06 -0.02  0.02] W2_grad: [-0.2   0.25] b1_grad: [-0.09  0.12] b2_grad: [-0.24 -0.33] W1 [[ 0.68 -0.55]\n",
            " [ 0.16  0.53]\n",
            " [-0.2   0.41]] W2 [ 1.1  -0.86] b1 [ 0.58 -0.25] b2 [0.86 1.03]\n",
            "Epochs: 121 loss: [0.0197 0.0371] W1_grad: [-0.07  0.1   0.04 -0.05 -0.01  0.02] W2_grad: [-0.16  0.21] b1_grad: [-0.07  0.1 ] b2_grad: [-0.2  -0.27] W1 [[ 0.69 -0.56]\n",
            " [ 0.16  0.53]\n",
            " [-0.2   0.41]] W2 [ 1.12 -0.88] b1 [ 0.59 -0.26] b2 [0.89 1.06]\n",
            "Epochs: 131 loss: [0.0132 0.0253] W1_grad: [-0.06  0.08  0.03 -0.04 -0.01  0.02] W2_grad: [-0.13  0.17] b1_grad: [-0.06  0.08] b2_grad: [-0.16 -0.22] W1 [[ 0.7  -0.57]\n",
            " [ 0.15  0.54]\n",
            " [-0.2   0.41]] W2 [ 1.13 -0.9 ] b1 [ 0.6  -0.27] b2 [0.9  1.08]\n",
            "Epochs: 141 loss: [0.0088 0.0172] W1_grad: [-0.05  0.07  0.02 -0.03 -0.01  0.01] W2_grad: [-0.11  0.14] b1_grad: [-0.05  0.07] b2_grad: [-0.13 -0.19] W1 [[ 0.7  -0.58]\n",
            " [ 0.15  0.54]\n",
            " [-0.2   0.4 ]] W2 [ 1.15 -0.91] b1 [ 0.6  -0.28] b2 [0.92 1.1 ]\n",
            "Epochs: 151 loss: [0.0059 0.0117] W1_grad: [-0.04  0.05  0.02 -0.03 -0.01  0.01] W2_grad: [-0.09  0.12] b1_grad: [-0.04  0.05] b2_grad: [-0.11 -0.15] W1 [[ 0.71 -0.59]\n",
            " [ 0.15  0.54]\n",
            " [-0.2   0.4 ]] W2 [ 1.16 -0.93] b1 [ 0.61 -0.29] b2 [0.93 1.12]\n",
            "Epochs: 161 loss: [0.004 0.008] W1_grad: [-0.03  0.04  0.02 -0.02 -0.01  0.01] W2_grad: [-0.07  0.1 ] b1_grad: [-0.03  0.04] b2_grad: [-0.09 -0.13] W1 [[ 0.71 -0.59]\n",
            " [ 0.15  0.55]\n",
            " [-0.2   0.4 ]] W2 [ 1.16 -0.94] b1 [ 0.61 -0.29] b2 [0.94 1.13]\n",
            "Epochs: 171 loss: [0.0027 0.0054] W1_grad: [-0.03  0.04  0.01 -0.02 -0.01  0.01] W2_grad: [-0.06  0.08] b1_grad: [-0.03  0.04] b2_grad: [-0.07 -0.1 ] W1 [[ 0.71 -0.59]\n",
            " [ 0.14  0.55]\n",
            " [-0.2   0.4 ]] W2 [ 1.17 -0.95] b1 [ 0.61 -0.29] b2 [0.95 1.15]\n"
          ]
        },
        {
          "output_type": "stream",
          "name": "stderr",
          "text": [
            "<ipython-input-30-d28836bf0b10>:40: UserWarning: No artists with labels found to put in legend.  Note that artists whose label start with an underscore are ignored when legend() is called with no argument.\n",
            "  plt.legend()\n"
          ]
        },
        {
          "output_type": "display_data",
          "data": {
            "text/plain": [
              "<Figure size 640x480 with 1 Axes>"
            ],
            "image/png": "[encoded data removed]"
          },
          "metadata": {}
        }
      ]
    }
  ]
}
