{
  "nbformat": 4,
  "nbformat_minor": 0,
  "metadata": {
    "colab": {
      "provenance": [],
      "authorship_tag": "ABX9TyO3SLJ1fVmL22Ssj9SvDKnr"
    },
    "kernelspec": {
      "name": "python3",
      "display_name": "Python 3"
    },
    "language_info": {
      "name": "python"
    }
  },
  "cells": [
    {
      "cell_type": "code",
      "execution_count": 1,
      "metadata": {
        "id": "vzeB4mSEHhjE"
      },
      "outputs": [],
      "source": [
        "#考虑一个神经网络，结构如下：\n",
        "\n",
        "#两个输入节点 (x_1, x_2)\n",
        "#一个隐藏层，包含一个神经元 (h)，使用 Tanh 激活函数 ( \\tanh(z) = \\frac{e^z - e^{-z}}{e^z + e^{-z}} )\n",
        "#一个输出节点 (y_{pred})，使用 线性 激活函数 (即 (y_{pred} = z_2))"
      ]
    },
    {
      "cell_type": "code",
      "source": [
        "import numpy as np\n",
        "import matplotlib.pyplot as plt"
      ],
      "metadata": {
        "id": "NH8AJGIBIePt"
      },
      "execution_count": 5,
      "outputs": []
    },
    {
      "cell_type": "code",
      "source": [
        "#计算tanh函数\n",
        "def tanh(a):\n",
        "  return np.tanh(a)"
      ],
      "metadata": {
        "id": "rJzZMLyZIy0P"
      },
      "execution_count": null,
      "outputs": []
    },
    {
      "cell_type": "code",
      "source": [
        "#前向传播，计算输出y_pred\n",
        "def forward(w_11, w_12, b_1, b_2, w_2, x_1, x_2):\n",
        "  z = w_11 * x_1 + w_12 * x_2 + b_1\n",
        "  h = np.tanh(z)\n",
        "\n",
        "  y_pred = w_2 * h + b_2\n",
        "  return y_pred, h"
      ],
      "metadata": {
        "id": "e5ZbhNN2JLew"
      },
      "execution_count": 8,
      "outputs": []
    },
    {
      "cell_type": "code",
      "source": [
        "#计算损失函数loss\n",
        "def compute_loss(y_pred, y_true):\n",
        "  loss = (y_pred- y_true)**2 /2\n",
        "  return loss"
      ],
      "metadata": {
        "id": "1uX2wm9OJzvh"
      },
      "execution_count": 2,
      "outputs": []
    },
    {
      "cell_type": "code",
      "source": [
        "#反向传播，计算梯度\n",
        "def backward(y_pred, y_true, h, w_2, x_1, x_2):\n",
        "  b2_grad = y_pred - y_true\n",
        "  w2_grad = b2_grad * h\n",
        "\n",
        "  b1_grad = b2_grad * w_2 * (1 - h**2)\n",
        "  w11_grad = b1_grad * x_1\n",
        "  w12_grad = b1_grad * x_2\n",
        "  return w11_grad, w12_grad, w2_grad, b1_grad, b2_grad"
      ],
      "metadata": {
        "id": "a4hsbsBRKFgV"
      },
      "execution_count": 10,
      "outputs": []
    },
    {
      "cell_type": "code",
      "source": [
        "#更新参数,params\n",
        "def update_params(w_11, w_12, b_1, b_2, w_2, w11_grad, w12_grad, w2_grad, b1_grad, b2_grad, learning_rate):\n",
        "  w_11 -= learning_rate * w11_grad\n",
        "  w_12 -= learning_rate * w12_grad\n",
        "  w_2 -= learning_rate * w2_grad\n",
        "  b_1 -= learning_rate * b1_grad\n",
        "  b_2 -= learning_rate * b2_grad\n",
        "  return w_11, w_12, w_2, b_1, b_2"
      ],
      "metadata": {
        "id": "3GP4mjYqMigd"
      },
      "execution_count": 17,
      "outputs": []
    },
    {
      "cell_type": "code",
      "source": [
        "#初始化参数\n",
        "w_11 = 0.4\n",
        "w_12 = -0.3\n",
        "b_1 = 0.1\n",
        "w_2 = 0.6\n",
        "b_2 = -0.2\n",
        "#训练样本:\n",
        "\n",
        "x_1 = 1.0\n",
        "x_2 = -0.5\n",
        "y_true = 0.7\n",
        "learning_rate = 0.01\n",
        "\n",
        "losses = []\n",
        "epochs = 300\n",
        "\n",
        "\n",
        "for epoch in range(epochs):\n",
        "  y_pred, h = forward(w_11, w_12, b_1, b_2, w_2, x_1, x_2)\n",
        "\n",
        "  loss = compute_loss(y_pred, y_true)\n",
        "  losses.append(loss)\n",
        "\n",
        "  w11_grad, w12_grad, w2_grad, b1_grad, b2_grad = backward(y_pred, y_true, h, w_2, x_1, x_2)\n",
        "  w_11, w_12, w_2, b_1, b_2 = update_params(w_11, w_12, b_1, b_2, w_2, w11_grad, w12_grad, w2_grad, b1_grad, b2_grad, learning_rate)\n",
        "\n",
        "  if epoch%10 == 0:\n",
        "    print(\"Epochs:\", epoch + 1,\n",
        "      \"loss:\", np.round(loss, 4),\n",
        "      \"w11_grad:\", np.round(w11_grad, 2),\n",
        "      \"w12_grad:\", np.round(w12_grad, 2),\n",
        "      \"w2_grad:\", np.round(w2_grad, 2),\n",
        "      \"b1_grad:\", np.round(b1_grad, 2),\n",
        "      \"b2_grad:\", np.round(b2_grad, 2)\n",
        "      )\n",
        "\n",
        "plt.plot(range(epochs), losses, \"blue\")\n",
        "plt.xlabel(\"epoch axis\")\n",
        "plt.ylabel(\"loss axis\")\n",
        "plt.show()"
      ],
      "metadata": {
        "colab": {
          "base_uri": "https://localhost:8080/",
          "height": 988
        },
        "id": "lcX7czrnHrL1",
        "outputId": "0d1c79c0-97a6-4bdb-d0a5-3e45d380604e"
      },
      "execution_count": 23,
      "outputs": [
        {
          "output_type": "stream",
          "name": "stdout",
          "text": [
            "Epochs: 1 loss: 0.1551 w11_grad: -0.22 w12_grad: 0.11 w2_grad: -0.32 b1_grad: -0.22 b2_grad: -0.56\n",
            "Epochs: 11 loss: 0.1099 w11_grad: -0.19 w12_grad: 0.09 w2_grad: -0.28 b1_grad: -0.19 b2_grad: -0.47\n",
            "Epochs: 21 loss: 0.0774 w11_grad: -0.16 w12_grad: 0.08 w2_grad: -0.25 b1_grad: -0.16 b2_grad: -0.39\n",
            "Epochs: 31 loss: 0.0542 w11_grad: -0.13 w12_grad: 0.07 w2_grad: -0.21 b1_grad: -0.13 b2_grad: -0.33\n",
            "Epochs: 41 loss: 0.0379 w11_grad: -0.11 w12_grad: 0.05 w2_grad: -0.18 b1_grad: -0.11 b2_grad: -0.28\n",
            "Epochs: 51 loss: 0.0264 w11_grad: -0.09 w12_grad: 0.04 w2_grad: -0.15 b1_grad: -0.09 b2_grad: -0.23\n",
            "Epochs: 61 loss: 0.0183 w11_grad: -0.07 w12_grad: 0.04 w2_grad: -0.13 b1_grad: -0.07 b2_grad: -0.19\n",
            "Epochs: 71 loss: 0.0127 w11_grad: -0.06 w12_grad: 0.03 w2_grad: -0.11 b1_grad: -0.06 b2_grad: -0.16\n",
            "Epochs: 81 loss: 0.0088 w11_grad: -0.05 w12_grad: 0.03 w2_grad: -0.09 b1_grad: -0.05 b2_grad: -0.13\n",
            "Epochs: 91 loss: 0.0061 w11_grad: -0.04 w12_grad: 0.02 w2_grad: -0.08 b1_grad: -0.04 b2_grad: -0.11\n",
            "Epochs: 101 loss: 0.0042 w11_grad: -0.04 w12_grad: 0.02 w2_grad: -0.07 b1_grad: -0.04 b2_grad: -0.09\n",
            "Epochs: 111 loss: 0.0029 w11_grad: -0.03 w12_grad: 0.01 w2_grad: -0.05 b1_grad: -0.03 b2_grad: -0.08\n",
            "Epochs: 121 loss: 0.002 w11_grad: -0.02 w12_grad: 0.01 w2_grad: -0.05 b1_grad: -0.02 b2_grad: -0.06\n",
            "Epochs: 131 loss: 0.0014 w11_grad: -0.02 w12_grad: 0.01 w2_grad: -0.04 b1_grad: -0.02 b2_grad: -0.05\n",
            "Epochs: 141 loss: 0.001 w11_grad: -0.02 w12_grad: 0.01 w2_grad: -0.03 b1_grad: -0.02 b2_grad: -0.04\n",
            "Epochs: 151 loss: 0.0007 w11_grad: -0.01 w12_grad: 0.01 w2_grad: -0.03 b1_grad: -0.01 b2_grad: -0.04\n",
            "Epochs: 161 loss: 0.0005 w11_grad: -0.01 w12_grad: 0.01 w2_grad: -0.02 b1_grad: -0.01 b2_grad: -0.03\n",
            "Epochs: 171 loss: 0.0003 w11_grad: -0.01 w12_grad: 0.0 w2_grad: -0.02 b1_grad: -0.01 b2_grad: -0.02\n",
            "Epochs: 181 loss: 0.0002 w11_grad: -0.01 w12_grad: 0.0 w2_grad: -0.02 b1_grad: -0.01 b2_grad: -0.02\n",
            "Epochs: 191 loss: 0.0001 w11_grad: -0.01 w12_grad: 0.0 w2_grad: -0.01 b1_grad: -0.01 b2_grad: -0.02\n",
            "Epochs: 201 loss: 0.0001 w11_grad: -0.01 w12_grad: 0.0 w2_grad: -0.01 b1_grad: -0.01 b2_grad: -0.01\n",
            "Epochs: 211 loss: 0.0001 w11_grad: -0.0 w12_grad: 0.0 w2_grad: -0.01 b1_grad: -0.0 b2_grad: -0.01\n",
            "Epochs: 221 loss: 0.0 w11_grad: -0.0 w12_grad: 0.0 w2_grad: -0.01 b1_grad: -0.0 b2_grad: -0.01\n",
            "Epochs: 231 loss: 0.0 w11_grad: -0.0 w12_grad: 0.0 w2_grad: -0.01 b1_grad: -0.0 b2_grad: -0.01\n",
            "Epochs: 241 loss: 0.0 w11_grad: -0.0 w12_grad: 0.0 w2_grad: -0.0 b1_grad: -0.0 b2_grad: -0.01\n",
            "Epochs: 251 loss: 0.0 w11_grad: -0.0 w12_grad: 0.0 w2_grad: -0.0 b1_grad: -0.0 b2_grad: -0.01\n",
            "Epochs: 261 loss: 0.0 w11_grad: -0.0 w12_grad: 0.0 w2_grad: -0.0 b1_grad: -0.0 b2_grad: -0.0\n",
            "Epochs: 271 loss: 0.0 w11_grad: -0.0 w12_grad: 0.0 w2_grad: -0.0 b1_grad: -0.0 b2_grad: -0.0\n",
            "Epochs: 281 loss: 0.0 w11_grad: -0.0 w12_grad: 0.0 w2_grad: -0.0 b1_grad: -0.0 b2_grad: -0.0\n",
            "Epochs: 291 loss: 0.0 w11_grad: -0.0 w12_grad: 0.0 w2_grad: -0.0 b1_grad: -0.0 b2_grad: -0.0\n"
          ]
        },
        {
          "output_type": "display_data",
          "data": {
            "text/plain": [
              "<Figure size 640x480 with 1 Axes>"
            ],
            "image/png": "[encoded data removed]"
          },
          "metadata": {}
        }
      ]
    }
  ]
}