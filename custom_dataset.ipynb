{
  "nbformat": 4,
  "nbformat_minor": 0,
  "metadata": {
    "colab": {
      "provenance": [],
      "gpuType": "T4"
    },
    "kernelspec": {
      "name": "python3",
      "display_name": "Python 3"
    },
    "language_info": {
      "name": "python"
    },
    "widgets": {
      "application/vnd.jupyter.widget-state+json": {
        "40d1d7f804d14a52b82b39d88ad5e4f4": {
          "model_module": "@jupyter-widgets/controls",
          "model_name": "HBoxModel",
          "model_module_version": "1.5.0",
          "state": {
            "_dom_classes": [],
            "_model_module": "@jupyter-widgets/controls",
            "_model_module_version": "1.5.0",
            "_model_name": "HBoxModel",
            "_view_count": null,
            "_view_module": "@jupyter-widgets/controls",
            "_view_module_version": "1.5.0",
            "_view_name": "HBoxView",
            "box_style": "",
            "children": [
              "IPY_MODEL_180c57aa6662436dafcc6a77dae72e1c",
              "IPY_MODEL_4e5d397417b440f1820c542fad4ab2d1",
              "IPY_MODEL_928139ce4cc84a4d9f275c9a39d8433d"
            ],
            "layout": "IPY_MODEL_a2bfaf0560b94d7e92b12bc2cc8d4fda"
          }
        },
        "180c57aa6662436dafcc6a77dae72e1c": {
          "model_module": "@jupyter-widgets/controls",
          "model_name": "HTMLModel",
          "model_module_version": "1.5.0",
          "state": {
            "_dom_classes": [],
            "_model_module": "@jupyter-widgets/controls",
            "_model_module_version": "1.5.0",
            "_model_name": "HTMLModel",
            "_view_count": null,
            "_view_module": "@jupyter-widgets/controls",
            "_view_module_version": "1.5.0",
            "_view_name": "HTMLView",
            "description": "",
            "description_tooltip": null,
            "layout": "IPY_MODEL_b3ad8ee3a009477fb9a184ecc2dd1899",
            "placeholder": "​",
            "style": "IPY_MODEL_8f3eb53bfd894184bea2800e3276a1f9",
            "value": "100%"
          }
        },
        "4e5d397417b440f1820c542fad4ab2d1": {
          "model_module": "@jupyter-widgets/controls",
          "model_name": "FloatProgressModel",
          "model_module_version": "1.5.0",
          "state": {
            "_dom_classes": [],
            "_model_module": "@jupyter-widgets/controls",
            "_model_module_version": "1.5.0",
            "_model_name": "FloatProgressModel",
            "_view_count": null,
            "_view_module": "@jupyter-widgets/controls",
            "_view_module_version": "1.5.0",
            "_view_name": "ProgressView",
            "bar_style": "success",
            "description": "",
            "description_tooltip": null,
            "layout": "IPY_MODEL_5053dcd928d040b2a39891ad911d936a",
            "max": 10,
            "min": 0,
            "orientation": "horizontal",
            "style": "IPY_MODEL_4fe6a2eaa4d74ca0b48e8a7b74109b62",
            "value": 10
          }
        },
        "928139ce4cc84a4d9f275c9a39d8433d": {
          "model_module": "@jupyter-widgets/controls",
          "model_name": "HTMLModel",
          "model_module_version": "1.5.0",
          "state": {
            "_dom_classes": [],
            "_model_module": "@jupyter-widgets/controls",
            "_model_module_version": "1.5.0",
            "_model_name": "HTMLModel",
            "_view_count": null,
            "_view_module": "@jupyter-widgets/controls",
            "_view_module_version": "1.5.0",
            "_view_name": "HTMLView",
            "description": "",
            "description_tooltip": null,
            "layout": "IPY_MODEL_aede14222f5d4e0fb29743ebdae155f6",
            "placeholder": "​",
            "style": "IPY_MODEL_b7ecefcfa14846aea5cfd06ff18268d7",
            "value": " 10/10 [00:18&lt;00:00,  1.19s/it]"
          }
        },
        "a2bfaf0560b94d7e92b12bc2cc8d4fda": {
          "model_module": "@jupyter-widgets/base",
          "model_name": "LayoutModel",
          "model_module_version": "1.2.0",
          "state": {
            "_model_module": "@jupyter-widgets/base",
            "_model_module_version": "1.2.0",
            "_model_name": "LayoutModel",
            "_view_count": null,
            "_view_module": "@jupyter-widgets/base",
            "_view_module_version": "1.2.0",
            "_view_name": "LayoutView",
            "align_content": null,
            "align_items": null,
            "align_self": null,
            "border": null,
            "bottom": null,
            "display": null,
            "flex": null,
            "flex_flow": null,
            "grid_area": null,
            "grid_auto_columns": null,
            "grid_auto_flow": null,
            "grid_auto_rows": null,
            "grid_column": null,
            "grid_gap": null,
            "grid_row": null,
            "grid_template_areas": null,
            "grid_template_columns": null,
            "grid_template_rows": null,
            "height": null,
            "justify_content": null,
            "justify_items": null,
            "left": null,
            "margin": null,
            "max_height": null,
            "max_width": null,
            "min_height": null,
            "min_width": null,
            "object_fit": null,
            "object_position": null,
            "order": null,
            "overflow": null,
            "overflow_x": null,
            "overflow_y": null,
            "padding": null,
            "right": null,
            "top": null,
            "visibility": null,
            "width": null
          }
        },
        "b3ad8ee3a009477fb9a184ecc2dd1899": {
          "model_module": "@jupyter-widgets/base",
          "model_name": "LayoutModel",
          "model_module_version": "1.2.0",
          "state": {
            "_model_module": "@jupyter-widgets/base",
            "_model_module_version": "1.2.0",
            "_model_name": "LayoutModel",
            "_view_count": null,
            "_view_module": "@jupyter-widgets/base",
            "_view_module_version": "1.2.0",
            "_view_name": "LayoutView",
            "align_content": null,
            "align_items": null,
            "align_self": null,
            "border": null,
            "bottom": null,
            "display": null,
            "flex": null,
            "flex_flow": null,
            "grid_area": null,
            "grid_auto_columns": null,
            "grid_auto_flow": null,
            "grid_auto_rows": null,
            "grid_column": null,
            "grid_gap": null,
            "grid_row": null,
            "grid_template_areas": null,
            "grid_template_columns": null,
            "grid_template_rows": null,
            "height": null,
            "justify_content": null,
            "justify_items": null,
            "left": null,
            "margin": null,
            "max_height": null,
            "max_width": null,
            "min_height": null,
            "min_width": null,
            "object_fit": null,
            "object_position": null,
            "order": null,
            "overflow": null,
            "overflow_x": null,
            "overflow_y": null,
            "padding": null,
            "right": null,
            "top": null,
            "visibility": null,
            "width": null
          }
        },
        "8f3eb53bfd894184bea2800e3276a1f9": {
          "model_module": "@jupyter-widgets/controls",
          "model_name": "DescriptionStyleModel",
          "model_module_version": "1.5.0",
          "state": {
            "_model_module": "@jupyter-widgets/controls",
            "_model_module_version": "1.5.0",
            "_model_name": "DescriptionStyleModel",
            "_view_count": null,
            "_view_module": "@jupyter-widgets/base",
            "_view_module_version": "1.2.0",
            "_view_name": "StyleView",
            "description_width": ""
          }
        },
        "5053dcd928d040b2a39891ad911d936a": {
          "model_module": "@jupyter-widgets/base",
          "model_name": "LayoutModel",
          "model_module_version": "1.2.0",
          "state": {
            "_model_module": "@jupyter-widgets/base",
            "_model_module_version": "1.2.0",
            "_model_name": "LayoutModel",
            "_view_count": null,
            "_view_module": "@jupyter-widgets/base",
            "_view_module_version": "1.2.0",
            "_view_name": "LayoutView",
            "align_content": null,
            "align_items": null,
            "align_self": null,
            "border": null,
            "bottom": null,
            "display": null,
            "flex": null,
            "flex_flow": null,
            "grid_area": null,
            "grid_auto_columns": null,
            "grid_auto_flow": null,
            "grid_auto_rows": null,
            "grid_column": null,
            "grid_gap": null,
            "grid_row": null,
            "grid_template_areas": null,
            "grid_template_columns": null,
            "grid_template_rows": null,
            "height": null,
            "justify_content": null,
            "justify_items": null,
            "left": null,
            "margin": null,
            "max_height": null,
            "max_width": null,
            "min_height": null,
            "min_width": null,
            "object_fit": null,
            "object_position": null,
            "order": null,
            "overflow": null,
            "overflow_x": null,
            "overflow_y": null,
            "padding": null,
            "right": null,
            "top": null,
            "visibility": null,
            "width": null
          }
        },
        "4fe6a2eaa4d74ca0b48e8a7b74109b62": {
          "model_module": "@jupyter-widgets/controls",
          "model_name": "ProgressStyleModel",
          "model_module_version": "1.5.0",
          "state": {
            "_model_module": "@jupyter-widgets/controls",
            "_model_module_version": "1.5.0",
            "_model_name": "ProgressStyleModel",
            "_view_count": null,
            "_view_module": "@jupyter-widgets/base",
            "_view_module_version": "1.2.0",
            "_view_name": "StyleView",
            "bar_color": null,
            "description_width": ""
          }
        },
        "aede14222f5d4e0fb29743ebdae155f6": {
          "model_module": "@jupyter-widgets/base",
          "model_name": "LayoutModel",
          "model_module_version": "1.2.0",
          "state": {
            "_model_module": "@jupyter-widgets/base",
            "_model_module_version": "1.2.0",
            "_model_name": "LayoutModel",
            "_view_count": null,
            "_view_module": "@jupyter-widgets/base",
            "_view_module_version": "1.2.0",
            "_view_name": "LayoutView",
            "align_content": null,
            "align_items": null,
            "align_self": null,
            "border": null,
            "bottom": null,
            "display": null,
            "flex": null,
            "flex_flow": null,
            "grid_area": null,
            "grid_auto_columns": null,
            "grid_auto_flow": null,
            "grid_auto_rows": null,
            "grid_column": null,
            "grid_gap": null,
            "grid_row": null,
            "grid_template_areas": null,
            "grid_template_columns": null,
            "grid_template_rows": null,
            "height": null,
            "justify_content": null,
            "justify_items": null,
            "left": null,
            "margin": null,
            "max_height": null,
            "max_width": null,
            "min_height": null,
            "min_width": null,
            "object_fit": null,
            "object_position": null,
            "order": null,
            "overflow": null,
            "overflow_x": null,
            "overflow_y": null,
            "padding": null,
            "right": null,
            "top": null,
            "visibility": null,
            "width": null
          }
        },
        "b7ecefcfa14846aea5cfd06ff18268d7": {
          "model_module": "@jupyter-widgets/controls",
          "model_name": "DescriptionStyleModel",
          "model_module_version": "1.5.0",
          "state": {
            "_model_module": "@jupyter-widgets/controls",
            "_model_module_version": "1.5.0",
            "_model_name": "DescriptionStyleModel",
            "_view_count": null,
            "_view_module": "@jupyter-widgets/base",
            "_view_module_version": "1.2.0",
            "_view_name": "StyleView",
            "description_width": ""
          }
        }
      }
    },
    "accelerator": "GPU"
  },
  "cells": [
    {
      "cell_type": "code",
      "source": [
        "!pip install wget\n",
        "import wget\n",
        "\n",
        "wget.download(\"https://github.com/GrandmaCan/ML/raw/main/Classification/one_piece_mini.zip\")"
      ],
      "metadata": {
        "colab": {
          "base_uri": "https://localhost:8080/",
          "height": 218
        },
        "id": "_AjJoSo8i0Wy",
        "outputId": "ddfd3242-6de9-4fbb-c9e1-98e6469db9e2"
      },
      "execution_count": 1,
      "outputs": [
        {
          "output_type": "stream",
          "name": "stdout",
          "text": [
            "Collecting wget\n",
            "  Downloading wget-3.2.zip (10 kB)\n",
            "  Preparing metadata (setup.py) ... \u001b[?25l\u001b[?25hdone\n",
            "Building wheels for collected packages: wget\n",
            "  Building wheel for wget (setup.py) ... \u001b[?25l\u001b[?25hdone\n",
            "  Created wheel for wget: filename=wget-3.2-py3-none-any.whl size=9656 sha256=96b525d59e6dc1a7bdb43607fe6c7a4693607922e2b5b8ca6483ba2dfbbe3c7a\n",
            "  Stored in directory: /root/.cache/pip/wheels/40/b3/0f/a40dbd1c6861731779f62cc4babcb234387e11d697df70ee97\n",
            "Successfully built wget\n",
            "Installing collected packages: wget\n",
            "Successfully installed wget-3.2\n"
          ]
        },
        {
          "output_type": "execute_result",
          "data": {
            "text/plain": [
              "'one_piece_mini.zip'"
            ],
            "application/vnd.google.colaboratory.intrinsic+json": {
              "type": "string"
            }
          },
          "metadata": {},
          "execution_count": 1
        }
      ]
    },
    {
      "cell_type": "code",
      "source": [
        "import zipfile\n",
        "\n",
        "with zipfile.ZipFile(\"one_piece_mini.zip\", \"r\") as zip_file:\n",
        "  zip_file.extractall(\"one_piece_mini\")"
      ],
      "metadata": {
        "id": "UE-nvgoSWKJM"
      },
      "execution_count": 2,
      "outputs": []
    },
    {
      "cell_type": "code",
      "source": [
        "from torch.utils.data import Dataset\n",
        "from pathlib import Path\n",
        "from PIL import Image\n",
        "from torchvision import transforms\n",
        "\n",
        "class ImageDataset(Dataset):\n",
        "  def __init__(self, root, train, transform=None):\n",
        "\n",
        "    if train:\n",
        "      image_root = Path(root) / \"train\"\n",
        "    else:\n",
        "      image_root = Path(root) / \"test\"\n",
        "\n",
        "    with open(Path(root) / \"classnames.txt\", \"r\") as f:\n",
        "      lines = f.readlines()\n",
        "      self.classes = [line.strip() for line in lines]\n",
        "\n",
        "    self.paths = [i for i in image_root.rglob(\"*\") if i.is_file()]\n",
        "    self.transform = transform\n",
        "\n",
        "  def __getitem__(self, index):\n",
        "    img = Image.open(self.paths[index]).convert(\"RGB\")\n",
        "    class_name = self.paths[index].parent.name\n",
        "    class_idx = self.classes.index(class_name)\n",
        "\n",
        "    if self.transform:\n",
        "      return self.transform(img), class_idx\n",
        "    else:\n",
        "      return img, class_idx\n",
        "\n",
        "\n",
        "  def __len__(self):\n",
        "    return len(self.paths)"
      ],
      "metadata": {
        "id": "cxVRJarXfxZU"
      },
      "execution_count": 3,
      "outputs": []
    },
    {
      "cell_type": "code",
      "source": [
        "train_transforms = transforms.Compose([\n",
        "  transforms.Resize((64, 64)),\n",
        "  transforms.TrivialAugmentWide(),\n",
        "  transforms.ToTensor()\n",
        "])\n",
        "\n",
        "test_transforms = transforms.Compose([\n",
        "  transforms.Resize((64, 64)),\n",
        "  transforms.ToTensor()\n",
        "])"
      ],
      "metadata": {
        "id": "7q1lJjR_Ptxb"
      },
      "execution_count": 4,
      "outputs": []
    },
    {
      "cell_type": "code",
      "source": [
        "train_dataset = ImageDataset(\"one_piece_mini\", train=True, transform=train_transforms)\n",
        "train_dataset.classes\n",
        "x, y = train_dataset[200]\n",
        "x.shape, y"
      ],
      "metadata": {
        "colab": {
          "base_uri": "https://localhost:8080/"
        },
        "id": "Al_qp3BRlqX9",
        "outputId": "8191d761-54a9-4ec6-b1a8-1f7c30bcafed"
      },
      "execution_count": 5,
      "outputs": [
        {
          "output_type": "execute_result",
          "data": {
            "text/plain": [
              "(torch.Size([3, 64, 64]), 0)"
            ]
          },
          "metadata": {},
          "execution_count": 5
        }
      ]
    },
    {
      "cell_type": "code",
      "source": [
        "import matplotlib.pyplot as plt\n",
        "\n",
        "x, y = train_dataset[100]\n",
        "plt.imshow(x.permute(1, 2, 0))"
      ],
      "metadata": {
        "colab": {
          "base_uri": "https://localhost:8080/",
          "height": 450
        },
        "id": "g2AJQvjjVnVr",
        "outputId": "6949d98e-2f2a-4baa-cb40-06ba67d17ecc"
      },
      "execution_count": 6,
      "outputs": [
        {
          "output_type": "execute_result",
          "data": {
            "text/plain": [
              "<matplotlib.image.AxesImage at 0x7d5e2e129650>"
            ]
          },
          "metadata": {},
          "execution_count": 6
        },
        {
          "output_type": "display_data",
          "data": {
            "text/plain": [
              "<Figure size 640x480 with 1 Axes>"
            ],
            "image/png": "[encoded data removed]"
          },
          "metadata": {}
        }
      ]
    },
    {
      "cell_type": "code",
      "source": [
        "train_dataset = ImageDataset(root=\"one_piece_mini\",\n",
        "                train=True,\n",
        "                transform=train_transforms\n",
        ")\n",
        "\n",
        "test_dataset = ImageDataset(root=\"one_piece_mini\",\n",
        "                train=False,\n",
        "                transform=test_transforms\n",
        ")"
      ],
      "metadata": {
        "id": "jgjBnvB1Qa_i"
      },
      "execution_count": 7,
      "outputs": []
    },
    {
      "cell_type": "code",
      "source": [
        "len(train_dataset), len(test_dataset)"
      ],
      "metadata": {
        "colab": {
          "base_uri": "https://localhost:8080/"
        },
        "id": "0WU8UaTEFsWv",
        "outputId": "02798080-ad3d-4e69-eb8c-45a86364e2f1"
      },
      "execution_count": 8,
      "outputs": [
        {
          "output_type": "execute_result",
          "data": {
            "text/plain": [
              "(240, 60)"
            ]
          },
          "metadata": {},
          "execution_count": 8
        }
      ]
    },
    {
      "cell_type": "code",
      "source": [
        "x, y = test_dataset[0]\n",
        "x.shape, y"
      ],
      "metadata": {
        "colab": {
          "base_uri": "https://localhost:8080/"
        },
        "id": "P2dHvbvYtSLX",
        "outputId": "ee6060ba-2c35-4ff7-dbed-7b9349ec2e2b"
      },
      "execution_count": 9,
      "outputs": [
        {
          "output_type": "execute_result",
          "data": {
            "text/plain": [
              "(torch.Size([3, 64, 64]), 2)"
            ]
          },
          "metadata": {},
          "execution_count": 9
        }
      ]
    },
    {
      "cell_type": "code",
      "source": [
        "from torch.utils.data import DataLoader\n",
        "\n",
        "BATCH_SIZE = 8\n",
        "\n",
        "train_dataloader = DataLoader(dataset=train_dataset,\n",
        "                batch_size=BATCH_SIZE,\n",
        "                shuffle=True\n",
        ")\n",
        "\n",
        "test_dataloader = DataLoader(dataset=test_dataset,\n",
        "                batch_size=BATCH_SIZE,\n",
        "                shuffle=False\n",
        ")"
      ],
      "metadata": {
        "id": "fuh6xvgVwi5d"
      },
      "execution_count": 10,
      "outputs": []
    },
    {
      "cell_type": "code",
      "source": [
        "len(train_dataloader), len(test_dataloader)"
      ],
      "metadata": {
        "colab": {
          "base_uri": "https://localhost:8080/"
        },
        "id": "PDa5ch-JrWBy",
        "outputId": "93f1f3ac-60e3-4eb6-a763-db022dfe89ac"
      },
      "execution_count": 11,
      "outputs": [
        {
          "output_type": "execute_result",
          "data": {
            "text/plain": [
              "(30, 8)"
            ]
          },
          "metadata": {},
          "execution_count": 11
        }
      ]
    },
    {
      "cell_type": "code",
      "source": [
        "x_first_batch, y_first_batch = next(iter(train_dataloader))\n",
        "x_first_batch[0].shape, y_first_batch[0]"
      ],
      "metadata": {
        "colab": {
          "base_uri": "https://localhost:8080/"
        },
        "id": "nJfkyf6Y2Ayd",
        "outputId": "5e3c2147-a75e-4dc3-ee2b-de45cc55dd60"
      },
      "execution_count": 12,
      "outputs": [
        {
          "output_type": "execute_result",
          "data": {
            "text/plain": [
              "(torch.Size([3, 64, 64]), tensor(0))"
            ]
          },
          "metadata": {},
          "execution_count": 12
        }
      ]
    },
    {
      "cell_type": "code",
      "source": [
        "from torch import nn\n",
        "class ImageClassificationModel3(nn.Module):\n",
        "  def __init__(self, input_shape, output_shape):\n",
        "    super().__init__()\n",
        "    self.conv_block_1 = nn.Sequential(\n",
        "      nn.Conv2d(in_channels=input_shape,\n",
        "          out_channels=8,\n",
        "          kernel_size=(3, 3),\n",
        "          stride=1,\n",
        "          padding=1\n",
        "      ),\n",
        "      nn.ReLU(),\n",
        "      nn.Conv2d(in_channels=8,\n",
        "          out_channels=8,\n",
        "          kernel_size=(3, 3),\n",
        "          stride=1,\n",
        "          padding=1\n",
        "      ),\n",
        "      nn.ReLU(),\n",
        "      nn.MaxPool2d(kernel_size=(2, 2),\n",
        "            stride=2,\n",
        "            padding=0\n",
        "      )\n",
        "    )\n",
        "\n",
        "    self.conv_block_2 = nn.Sequential(\n",
        "      nn.Conv2d(in_channels=8,\n",
        "          out_channels=16,\n",
        "          kernel_size=(3, 3),\n",
        "          stride=1,\n",
        "          padding=1\n",
        "      ),\n",
        "      nn.ReLU(),\n",
        "      nn.Conv2d(in_channels=16,\n",
        "          out_channels=16,\n",
        "          kernel_size=(3, 3),\n",
        "          stride=1,\n",
        "          padding=1\n",
        "      ),\n",
        "      nn.ReLU(),\n",
        "      nn.MaxPool2d(kernel_size=(2, 2),\n",
        "            stride=2,\n",
        "            padding=0\n",
        "      )\n",
        "    )\n",
        "\n",
        "    self.classifier = nn.Sequential(\n",
        "      nn.Flatten(start_dim=1, end_dim=-1),\n",
        "      nn.Linear(in_features=16*16*16, out_features=output_shape)\n",
        "    )\n",
        "  def forward(self, x):\n",
        "    x = self.conv_block_1(x)\n",
        "    x = self.conv_block_2(x)\n",
        "    x = self.classifier(x)\n",
        "    return x"
      ],
      "metadata": {
        "id": "cd6tJ5WU2Tfx"
      },
      "execution_count": 13,
      "outputs": []
    },
    {
      "cell_type": "code",
      "source": [
        "import torch\n",
        "device = \"cuda\" if torch.cuda.is_available() else \"cpu\""
      ],
      "metadata": {
        "id": "duqPqDqq41Ht"
      },
      "execution_count": 14,
      "outputs": []
    },
    {
      "cell_type": "code",
      "source": [
        "model = ImageClassificationModel3(3, len(train_dataset.classes))\n",
        "model.to(device)\n",
        "model(x_first_batch.to(device))"
      ],
      "metadata": {
        "colab": {
          "base_uri": "https://localhost:8080/"
        },
        "id": "lFk9H4co3P7t",
        "outputId": "2a92f0aa-2bf4-4779-e1c7-234b7400afdd"
      },
      "execution_count": 15,
      "outputs": [
        {
          "output_type": "execute_result",
          "data": {
            "text/plain": [
              "tensor([[-0.0083,  0.0439,  0.0508],\n",
              "        [-0.0072,  0.0456,  0.0492],\n",
              "        [-0.0056,  0.0430,  0.0519],\n",
              "        [-0.0060,  0.0440,  0.0452],\n",
              "        [-0.0048,  0.0464,  0.0498],\n",
              "        [-0.0063,  0.0450,  0.0489],\n",
              "        [-0.0059,  0.0492,  0.0473],\n",
              "        [-0.0074,  0.0424,  0.0475]], device='cuda:0',\n",
              "       grad_fn=<AddmmBackward0>)"
            ]
          },
          "metadata": {},
          "execution_count": 15
        }
      ]
    },
    {
      "cell_type": "code",
      "source": [
        "cost_fn = nn.CrossEntropyLoss()\n",
        "optimizer = torch.optim.Adam(params=model.parameters(), lr=0.001)"
      ],
      "metadata": {
        "id": "2aOQ8oE83P03"
      },
      "execution_count": 16,
      "outputs": []
    },
    {
      "cell_type": "code",
      "source": [
        "def accuracy_fn(y_pred, y_true):\n",
        "\n",
        "  correct_num = (y_pred==y_true).sum()\n",
        "  acc = correct_num / len(y_true) * 100\n",
        "\n",
        "  return acc"
      ],
      "metadata": {
        "id": "B-U_yhKW7H6I"
      },
      "execution_count": 17,
      "outputs": []
    },
    {
      "cell_type": "code",
      "source": [
        "def train_step(dataloader, model, cost_fn, optimizer, accuracy_fn, device):\n",
        "  train_cost = 0\n",
        "  train_acc = 0\n",
        "  for batch, (x, y) in enumerate(dataloader):\n",
        "    x = x.to(device)\n",
        "    y = y.to(device)\n",
        "\n",
        "    model.train()\n",
        "\n",
        "    y_pred = model(x)\n",
        "\n",
        "    cost = cost_fn(y_pred, y)\n",
        "\n",
        "    train_cost += cost\n",
        "    train_acc += accuracy_fn(y_pred.argmax(dim=1), y)\n",
        "\n",
        "    optimizer.zero_grad()\n",
        "\n",
        "    cost.backward()\n",
        "\n",
        "    optimizer.step()\n",
        "\n",
        "  train_cost /= len(train_dataloader)\n",
        "  train_acc /= len(train_dataloader)\n",
        "\n",
        "  print(f\"\\nTrain Cost: {train_cost:.4f}, Train Acc: {train_acc:.2f}\")\n",
        "\n",
        "\n",
        "def test_step(dataloader, model, cost_fn, accuracy_fn, device):\n",
        "  test_cost = 0\n",
        "  test_acc = 0\n",
        "  model.eval()\n",
        "  with torch.inference_mode():\n",
        "    for x, y in dataloader:\n",
        "      x = x.to(device)\n",
        "      y = y.to(device)\n",
        "\n",
        "      test_pred = model(x)\n",
        "\n",
        "      test_cost += cost_fn(test_pred, y)\n",
        "      test_acc += accuracy_fn(test_pred.argmax(dim=1), y)\n",
        "\n",
        "    test_cost /= len(test_dataloader)\n",
        "    test_acc /= len(test_dataloader)\n",
        "\n",
        "  print(f\"Test Cost: {test_cost:.4f}, Test Acc: {test_acc:.2f} \\n\")"
      ],
      "metadata": {
        "id": "78CCf3NJ9maY"
      },
      "execution_count": 18,
      "outputs": []
    },
    {
      "cell_type": "code",
      "source": [
        "from tqdm.auto import tqdm\n",
        "\n",
        "epochs = 10\n",
        "\n",
        "for epoch in tqdm(range(epochs)):\n",
        "  print(f\"Epoch: {epoch}\\n-------\")\n",
        "\n",
        "  train_step(train_dataloader, model, cost_fn, optimizer, accuracy_fn, device)\n",
        "\n",
        "  test_step(test_dataloader, model, cost_fn, accuracy_fn, device)\n",
        ""
      ],
      "metadata": {
        "id": "uA52i8HJ9mYS",
        "colab": {
          "base_uri": "https://localhost:8080/",
          "height": 1000,
          "referenced_widgets": [
            "40d1d7f804d14a52b82b39d88ad5e4f4",
            "180c57aa6662436dafcc6a77dae72e1c",
            "4e5d397417b440f1820c542fad4ab2d1",
            "928139ce4cc84a4d9f275c9a39d8433d",
            "a2bfaf0560b94d7e92b12bc2cc8d4fda",
            "b3ad8ee3a009477fb9a184ecc2dd1899",
            "8f3eb53bfd894184bea2800e3276a1f9",
            "5053dcd928d040b2a39891ad911d936a",
            "4fe6a2eaa4d74ca0b48e8a7b74109b62",
            "aede14222f5d4e0fb29743ebdae155f6",
            "b7ecefcfa14846aea5cfd06ff18268d7"
          ]
        },
        "outputId": "22875d1d-5b3e-4d88-ddbd-53438b0a4537"
      },
      "execution_count": 19,
      "outputs": [
        {
          "output_type": "display_data",
          "data": {
            "text/plain": [
              "  0%|          | 0/10 [00:00<?, ?it/s]"
            ],
            "application/vnd.jupyter.widget-view+json": {
              "version_major": 2,
              "version_minor": 0,
              "model_id": "40d1d7f804d14a52b82b39d88ad5e4f4"
            }
          },
          "metadata": {}
        },
        {
          "output_type": "stream",
          "name": "stdout",
          "text": [
            "Epoch: 0\n",
            "-------\n",
            "\n",
            "Train Cost: 1.1106, Train Acc: 31.25\n",
            "Test Cost: 1.0925, Test Acc: 37.50 \n",
            "\n",
            "Epoch: 1\n",
            "-------\n",
            "\n",
            "Train Cost: 1.0915, Train Acc: 34.17\n",
            "Test Cost: 1.0701, Test Acc: 56.25 \n",
            "\n",
            "Epoch: 2\n",
            "-------\n",
            "\n",
            "Train Cost: 1.0857, Train Acc: 34.17\n",
            "Test Cost: 1.0687, Test Acc: 56.25 \n",
            "\n",
            "Epoch: 3\n",
            "-------\n",
            "\n",
            "Train Cost: 1.0223, Train Acc: 47.50\n",
            "Test Cost: 1.1600, Test Acc: 29.69 \n",
            "\n",
            "Epoch: 4\n",
            "-------\n",
            "\n",
            "Train Cost: 0.9751, Train Acc: 53.75\n",
            "Test Cost: 0.9251, Test Acc: 67.19 \n",
            "\n",
            "Epoch: 5\n",
            "-------\n",
            "\n",
            "Train Cost: 0.9361, Train Acc: 60.83\n",
            "Test Cost: 0.9225, Test Acc: 70.31 \n",
            "\n",
            "Epoch: 6\n",
            "-------\n",
            "\n",
            "Train Cost: 0.8944, Train Acc: 63.75\n",
            "Test Cost: 0.8012, Test Acc: 67.19 \n",
            "\n",
            "Epoch: 7\n",
            "-------\n",
            "\n",
            "Train Cost: 0.7572, Train Acc: 71.25\n",
            "Test Cost: 0.8911, Test Acc: 57.81 \n",
            "\n",
            "Epoch: 8\n",
            "-------\n",
            "\n",
            "Train Cost: 0.7384, Train Acc: 69.17\n",
            "Test Cost: 0.7685, Test Acc: 73.44 \n",
            "\n",
            "Epoch: 9\n",
            "-------\n",
            "\n",
            "Train Cost: 0.8222, Train Acc: 68.33\n",
            "Test Cost: 0.7384, Test Acc: 82.81 \n",
            "\n"
          ]
        }
      ]
    },
    {
      "cell_type": "code",
      "source": [
        "img = Image.open(\"nami.jpg\").convert(\"RGB\")\n",
        "img = test_transforms(img)\n",
        "img = img.reshape(-1, 3, 64, 64)\n",
        "img.shape\n",
        "model.eval()\n",
        "with torch.inference_mode():\n",
        "  y_pred = model(img.to(device))\n",
        "y_pred = torch.softmax(y_pred, dim=1)\n",
        "class_idx = y_pred.argmax(dim=1)\n",
        "train_dataset.classes[class_idx]"
      ],
      "metadata": {
        "colab": {
          "base_uri": "https://localhost:8080/",
          "height": 347
        },
        "id": "-thd4CIN7H0-",
        "outputId": "4cae794b-5bbe-4bb2-a839-c25b903828ab"
      },
      "execution_count": 20,
      "outputs": [
        {
          "output_type": "error",
          "ename": "FileNotFoundError",
          "evalue": "[Errno 2] No such file or directory: 'nami.jpg'",
          "traceback": [
            "\u001b[0;31m---------------------------------------------------------------------------\u001b[0m",
            "\u001b[0;31mFileNotFoundError\u001b[0m                         Traceback (most recent call last)",
            "\u001b[0;32m<ipython-input-20-8f1f29ad74b8>\u001b[0m in \u001b[0;36m<cell line: 0>\u001b[0;34m()\u001b[0m\n\u001b[0;32m----> 1\u001b[0;31m \u001b[0mimg\u001b[0m \u001b[0;34m=\u001b[0m \u001b[0mImage\u001b[0m\u001b[0;34m.\u001b[0m\u001b[0mopen\u001b[0m\u001b[0;34m(\u001b[0m\u001b[0;34m\"nami.jpg\"\u001b[0m\u001b[0;34m)\u001b[0m\u001b[0;34m.\u001b[0m\u001b[0mconvert\u001b[0m\u001b[0;34m(\u001b[0m\u001b[0;34m\"RGB\"\u001b[0m\u001b[0;34m)\u001b[0m\u001b[0;34m\u001b[0m\u001b[0;34m\u001b[0m\u001b[0m\n\u001b[0m\u001b[1;32m      2\u001b[0m \u001b[0mimg\u001b[0m \u001b[0;34m=\u001b[0m \u001b[0mtest_transforms\u001b[0m\u001b[0;34m(\u001b[0m\u001b[0mimg\u001b[0m\u001b[0;34m)\u001b[0m\u001b[0;34m\u001b[0m\u001b[0;34m\u001b[0m\u001b[0m\n\u001b[1;32m      3\u001b[0m \u001b[0mimg\u001b[0m \u001b[0;34m=\u001b[0m \u001b[0mimg\u001b[0m\u001b[0;34m.\u001b[0m\u001b[0mreshape\u001b[0m\u001b[0;34m(\u001b[0m\u001b[0;34m-\u001b[0m\u001b[0;36m1\u001b[0m\u001b[0;34m,\u001b[0m \u001b[0;36m3\u001b[0m\u001b[0;34m,\u001b[0m \u001b[0;36m64\u001b[0m\u001b[0;34m,\u001b[0m \u001b[0;36m64\u001b[0m\u001b[0;34m)\u001b[0m\u001b[0;34m\u001b[0m\u001b[0;34m\u001b[0m\u001b[0m\n\u001b[1;32m      4\u001b[0m \u001b[0mimg\u001b[0m\u001b[0;34m.\u001b[0m\u001b[0mshape\u001b[0m\u001b[0;34m\u001b[0m\u001b[0;34m\u001b[0m\u001b[0m\n\u001b[1;32m      5\u001b[0m \u001b[0mmodel\u001b[0m\u001b[0;34m.\u001b[0m\u001b[0meval\u001b[0m\u001b[0;34m(\u001b[0m\u001b[0;34m)\u001b[0m\u001b[0;34m\u001b[0m\u001b[0;34m\u001b[0m\u001b[0m\n",
            "\u001b[0;32m/usr/local/lib/python3.11/dist-packages/PIL/Image.py\u001b[0m in \u001b[0;36mopen\u001b[0;34m(fp, mode, formats)\u001b[0m\n\u001b[1;32m   3463\u001b[0m \u001b[0;34m\u001b[0m\u001b[0m\n\u001b[1;32m   3464\u001b[0m     \u001b[0;32mif\u001b[0m \u001b[0mfilename\u001b[0m\u001b[0;34m:\u001b[0m\u001b[0;34m\u001b[0m\u001b[0;34m\u001b[0m\u001b[0m\n\u001b[0;32m-> 3465\u001b[0;31m         \u001b[0mfp\u001b[0m \u001b[0;34m=\u001b[0m \u001b[0mbuiltins\u001b[0m\u001b[0;34m.\u001b[0m\u001b[0mopen\u001b[0m\u001b[0;34m(\u001b[0m\u001b[0mfilename\u001b[0m\u001b[0;34m,\u001b[0m \u001b[0;34m\"rb\"\u001b[0m\u001b[0;34m)\u001b[0m\u001b[0;34m\u001b[0m\u001b[0;34m\u001b[0m\u001b[0m\n\u001b[0m\u001b[1;32m   3466\u001b[0m         \u001b[0mexclusive_fp\u001b[0m \u001b[0;34m=\u001b[0m \u001b[0;32mTrue\u001b[0m\u001b[0;34m\u001b[0m\u001b[0;34m\u001b[0m\u001b[0m\n\u001b[1;32m   3467\u001b[0m     \u001b[0;32melse\u001b[0m\u001b[0;34m:\u001b[0m\u001b[0;34m\u001b[0m\u001b[0;34m\u001b[0m\u001b[0m\n",
            "\u001b[0;31mFileNotFoundError\u001b[0m: [Errno 2] No such file or directory: 'nami.jpg'"
          ]
        }
      ]
    },
    {
      "cell_type": "code",
      "source": [
        "import requests\n",
        "\n",
        "url = \"https://firebasestorage.googleapis.com/v0/b/grandmacan-2dae4.appspot.com/o/ML_data%2Fone_piece_full.zip?alt=media&token=937656fd-f5c1-44f5-b174-1e2d590b8ef3\"\n",
        "\n",
        "with open(\"one_piece_full.zip\", \"wb\") as f:\n",
        "  req = requests.get(url)\n",
        "  f.write(req.content)"
      ],
      "metadata": {
        "id": "JXmfLvSL423x"
      },
      "execution_count": null,
      "outputs": []
    },
    {
      "cell_type": "code",
      "source": [
        "import zipfile\n",
        "\n",
        "with zipfile.ZipFile(\"one_piece_full.zip\", \"r\") as zip_file:\n",
        "  zip_file.extractall(\"one_piece_full\")"
      ],
      "metadata": {
        "id": "qhBT-byn421O"
      },
      "execution_count": null,
      "outputs": []
    },
    {
      "cell_type": "code",
      "source": [
        "train_dataset = ImageDataset(root=\"one_piece_full\",\n",
        "                train=True,\n",
        "                transform=train_transforms\n",
        ")\n",
        "\n",
        "test_dataset = ImageDataset(root=\"one_piece_full\",\n",
        "                train=False,\n",
        "                transform=test_transforms\n",
        ")"
      ],
      "metadata": {
        "id": "3HaLmF1b42yv"
      },
      "execution_count": null,
      "outputs": []
    },
    {
      "cell_type": "code",
      "source": [
        "len(train_dataset), len(test_dataset)"
      ],
      "metadata": {
        "id": "IkM5IZ6R_r-R"
      },
      "execution_count": null,
      "outputs": []
    },
    {
      "cell_type": "code",
      "source": [
        "from torch.utils.data import DataLoader\n",
        "\n",
        "BATCH_SIZE = 16\n",
        "\n",
        "train_dataloader = DataLoader(dataset=train_dataset,\n",
        "                batch_size=BATCH_SIZE,\n",
        "                shuffle=True\n",
        ")\n",
        "\n",
        "test_dataloader = DataLoader(dataset=test_dataset,\n",
        "                batch_size=BATCH_SIZE,\n",
        "                shuffle=False\n",
        ")"
      ],
      "metadata": {
        "id": "vXMPNSG2_fLi"
      },
      "execution_count": null,
      "outputs": []
    },
    {
      "cell_type": "code",
      "source": [
        "len(train_dataloader), len(test_dataloader)"
      ],
      "metadata": {
        "id": "DAFG7fc8_zmp"
      },
      "execution_count": null,
      "outputs": []
    },
    {
      "cell_type": "code",
      "source": [
        "model_2 = ImageClassificationModel3(3, len(train_dataset.classes))\n",
        "model_2.to(device)"
      ],
      "metadata": {
        "id": "PGk8TejUAZHS"
      },
      "execution_count": null,
      "outputs": []
    },
    {
      "cell_type": "code",
      "source": [
        "cost_fn = nn.CrossEntropyLoss()\n",
        "optimizer = torch.optim.Adam(params=model_2.parameters(), lr=0.001)"
      ],
      "metadata": {
        "id": "eIt9RgCr_fHJ"
      },
      "execution_count": null,
      "outputs": []
    },
    {
      "cell_type": "code",
      "source": [
        "from tqdm.auto import tqdm\n",
        "\n",
        "epochs = 10\n",
        "\n",
        "for epoch in tqdm(range(epochs)):\n",
        "  print(f\"Epoch: {epoch}\\n-------\")\n",
        "\n",
        "  train_step(train_dataloader, model_2, cost_fn, optimizer, accuracy_fn, device)\n",
        "\n",
        "  test_step(test_dataloader, model_2, cost_fn, accuracy_fn, device)\n",
        ""
      ],
      "metadata": {
        "id": "_w5bbM1kABZo"
      },
      "execution_count": null,
      "outputs": []
    }
  ]
}