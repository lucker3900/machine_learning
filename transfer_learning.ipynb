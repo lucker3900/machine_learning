{
  "nbformat": 4,
  "nbformat_minor": 0,
  "metadata": {
    "colab": {
      "provenance": []
    },
    "kernelspec": {
      "name": "python3",
      "display_name": "Python 3"
    },
    "language_info": {
      "name": "python"
    },
    "gpuClass": "standard",
    "accelerator": "GPU",
    "widgets": {
      "application/vnd.jupyter.widget-state+json": {
        "109d7980dcba448aa4ddb02035e108dd": {
          "model_module": "@jupyter-widgets/controls",
          "model_name": "HBoxModel",
          "model_module_version": "1.5.0",
          "state": {
            "_dom_classes": [],
            "_model_module": "@jupyter-widgets/controls",
            "_model_module_version": "1.5.0",
            "_model_name": "HBoxModel",
            "_view_count": null,
            "_view_module": "@jupyter-widgets/controls",
            "_view_module_version": "1.5.0",
            "_view_name": "HBoxView",
            "box_style": "",
            "children": [
              "IPY_MODEL_6342097dda89431daa236cb64ee6c30c",
              "IPY_MODEL_13157f85c9e54f7f8256522fd1833daa",
              "IPY_MODEL_d4fc6da8df6a44daa74bda4f7f795d65"
            ],
            "layout": "IPY_MODEL_402cf4d690e94e7cbc192fc2bfc3d656"
          }
        },
        "6342097dda89431daa236cb64ee6c30c": {
          "model_module": "@jupyter-widgets/controls",
          "model_name": "HTMLModel",
          "model_module_version": "1.5.0",
          "state": {
            "_dom_classes": [],
            "_model_module": "@jupyter-widgets/controls",
            "_model_module_version": "1.5.0",
            "_model_name": "HTMLModel",
            "_view_count": null,
            "_view_module": "@jupyter-widgets/controls",
            "_view_module_version": "1.5.0",
            "_view_name": "HTMLView",
            "description": "",
            "description_tooltip": null,
            "layout": "IPY_MODEL_4e553fbcb44b461cad6c0c69c2f36891",
            "placeholder": "​",
            "style": "IPY_MODEL_0217598606264f71867243fe47bc52c4",
            "value": "100%"
          }
        },
        "13157f85c9e54f7f8256522fd1833daa": {
          "model_module": "@jupyter-widgets/controls",
          "model_name": "FloatProgressModel",
          "model_module_version": "1.5.0",
          "state": {
            "_dom_classes": [],
            "_model_module": "@jupyter-widgets/controls",
            "_model_module_version": "1.5.0",
            "_model_name": "FloatProgressModel",
            "_view_count": null,
            "_view_module": "@jupyter-widgets/controls",
            "_view_module_version": "1.5.0",
            "_view_name": "ProgressView",
            "bar_style": "success",
            "description": "",
            "description_tooltip": null,
            "layout": "IPY_MODEL_f4f1eda2dbfd40868ad7dc99f21257a3",
            "max": 10,
            "min": 0,
            "orientation": "horizontal",
            "style": "IPY_MODEL_356bc6c20de34cb0bf37b4249a034d0c",
            "value": 10
          }
        },
        "d4fc6da8df6a44daa74bda4f7f795d65": {
          "model_module": "@jupyter-widgets/controls",
          "model_name": "HTMLModel",
          "model_module_version": "1.5.0",
          "state": {
            "_dom_classes": [],
            "_model_module": "@jupyter-widgets/controls",
            "_model_module_version": "1.5.0",
            "_model_name": "HTMLModel",
            "_view_count": null,
            "_view_module": "@jupyter-widgets/controls",
            "_view_module_version": "1.5.0",
            "_view_name": "HTMLView",
            "description": "",
            "description_tooltip": null,
            "layout": "IPY_MODEL_7bc82f54b43145658e88293b2ea92525",
            "placeholder": "​",
            "style": "IPY_MODEL_e2a2ff3b0c6d4440b0a1e113a52a2675",
            "value": " 10/10 [08:41&lt;00:00, 51.90s/it]"
          }
        },
        "402cf4d690e94e7cbc192fc2bfc3d656": {
          "model_module": "@jupyter-widgets/base",
          "model_name": "LayoutModel",
          "model_module_version": "1.2.0",
          "state": {
            "_model_module": "@jupyter-widgets/base",
            "_model_module_version": "1.2.0",
            "_model_name": "LayoutModel",
            "_view_count": null,
            "_view_module": "@jupyter-widgets/base",
            "_view_module_version": "1.2.0",
            "_view_name": "LayoutView",
            "align_content": null,
            "align_items": null,
            "align_self": null,
            "border": null,
            "bottom": null,
            "display": null,
            "flex": null,
            "flex_flow": null,
            "grid_area": null,
            "grid_auto_columns": null,
            "grid_auto_flow": null,
            "grid_auto_rows": null,
            "grid_column": null,
            "grid_gap": null,
            "grid_row": null,
            "grid_template_areas": null,
            "grid_template_columns": null,
            "grid_template_rows": null,
            "height": null,
            "justify_content": null,
            "justify_items": null,
            "left": null,
            "margin": null,
            "max_height": null,
            "max_width": null,
            "min_height": null,
            "min_width": null,
            "object_fit": null,
            "object_position": null,
            "order": null,
            "overflow": null,
            "overflow_x": null,
            "overflow_y": null,
            "padding": null,
            "right": null,
            "top": null,
            "visibility": null,
            "width": null
          }
        },
        "4e553fbcb44b461cad6c0c69c2f36891": {
          "model_module": "@jupyter-widgets/base",
          "model_name": "LayoutModel",
          "model_module_version": "1.2.0",
          "state": {
            "_model_module": "@jupyter-widgets/base",
            "_model_module_version": "1.2.0",
            "_model_name": "LayoutModel",
            "_view_count": null,
            "_view_module": "@jupyter-widgets/base",
            "_view_module_version": "1.2.0",
            "_view_name": "LayoutView",
            "align_content": null,
            "align_items": null,
            "align_self": null,
            "border": null,
            "bottom": null,
            "display": null,
            "flex": null,
            "flex_flow": null,
            "grid_area": null,
            "grid_auto_columns": null,
            "grid_auto_flow": null,
            "grid_auto_rows": null,
            "grid_column": null,
            "grid_gap": null,
            "grid_row": null,
            "grid_template_areas": null,
            "grid_template_columns": null,
            "grid_template_rows": null,
            "height": null,
            "justify_content": null,
            "justify_items": null,
            "left": null,
            "margin": null,
            "max_height": null,
            "max_width": null,
            "min_height": null,
            "min_width": null,
            "object_fit": null,
            "object_position": null,
            "order": null,
            "overflow": null,
            "overflow_x": null,
            "overflow_y": null,
            "padding": null,
            "right": null,
            "top": null,
            "visibility": null,
            "width": null
          }
        },
        "0217598606264f71867243fe47bc52c4": {
          "model_module": "@jupyter-widgets/controls",
          "model_name": "DescriptionStyleModel",
          "model_module_version": "1.5.0",
          "state": {
            "_model_module": "@jupyter-widgets/controls",
            "_model_module_version": "1.5.0",
            "_model_name": "DescriptionStyleModel",
            "_view_count": null,
            "_view_module": "@jupyter-widgets/base",
            "_view_module_version": "1.2.0",
            "_view_name": "StyleView",
            "description_width": ""
          }
        },
        "f4f1eda2dbfd40868ad7dc99f21257a3": {
          "model_module": "@jupyter-widgets/base",
          "model_name": "LayoutModel",
          "model_module_version": "1.2.0",
          "state": {
            "_model_module": "@jupyter-widgets/base",
            "_model_module_version": "1.2.0",
            "_model_name": "LayoutModel",
            "_view_count": null,
            "_view_module": "@jupyter-widgets/base",
            "_view_module_version": "1.2.0",
            "_view_name": "LayoutView",
            "align_content": null,
            "align_items": null,
            "align_self": null,
            "border": null,
            "bottom": null,
            "display": null,
            "flex": null,
            "flex_flow": null,
            "grid_area": null,
            "grid_auto_columns": null,
            "grid_auto_flow": null,
            "grid_auto_rows": null,
            "grid_column": null,
            "grid_gap": null,
            "grid_row": null,
            "grid_template_areas": null,
            "grid_template_columns": null,
            "grid_template_rows": null,
            "height": null,
            "justify_content": null,
            "justify_items": null,
            "left": null,
            "margin": null,
            "max_height": null,
            "max_width": null,
            "min_height": null,
            "min_width": null,
            "object_fit": null,
            "object_position": null,
            "order": null,
            "overflow": null,
            "overflow_x": null,
            "overflow_y": null,
            "padding": null,
            "right": null,
            "top": null,
            "visibility": null,
            "width": null
          }
        },
        "356bc6c20de34cb0bf37b4249a034d0c": {
          "model_module": "@jupyter-widgets/controls",
          "model_name": "ProgressStyleModel",
          "model_module_version": "1.5.0",
          "state": {
            "_model_module": "@jupyter-widgets/controls",
            "_model_module_version": "1.5.0",
            "_model_name": "ProgressStyleModel",
            "_view_count": null,
            "_view_module": "@jupyter-widgets/base",
            "_view_module_version": "1.2.0",
            "_view_name": "StyleView",
            "bar_color": null,
            "description_width": ""
          }
        },
        "7bc82f54b43145658e88293b2ea92525": {
          "model_module": "@jupyter-widgets/base",
          "model_name": "LayoutModel",
          "model_module_version": "1.2.0",
          "state": {
            "_model_module": "@jupyter-widgets/base",
            "_model_module_version": "1.2.0",
            "_model_name": "LayoutModel",
            "_view_count": null,
            "_view_module": "@jupyter-widgets/base",
            "_view_module_version": "1.2.0",
            "_view_name": "LayoutView",
            "align_content": null,
            "align_items": null,
            "align_self": null,
            "border": null,
            "bottom": null,
            "display": null,
            "flex": null,
            "flex_flow": null,
            "grid_area": null,
            "grid_auto_columns": null,
            "grid_auto_flow": null,
            "grid_auto_rows": null,
            "grid_column": null,
            "grid_gap": null,
            "grid_row": null,
            "grid_template_areas": null,
            "grid_template_columns": null,
            "grid_template_rows": null,
            "height": null,
            "justify_content": null,
            "justify_items": null,
            "left": null,
            "margin": null,
            "max_height": null,
            "max_width": null,
            "min_height": null,
            "min_width": null,
            "object_fit": null,
            "object_position": null,
            "order": null,
            "overflow": null,
            "overflow_x": null,
            "overflow_y": null,
            "padding": null,
            "right": null,
            "top": null,
            "visibility": null,
            "width": null
          }
        },
        "e2a2ff3b0c6d4440b0a1e113a52a2675": {
          "model_module": "@jupyter-widgets/controls",
          "model_name": "DescriptionStyleModel",
          "model_module_version": "1.5.0",
          "state": {
            "_model_module": "@jupyter-widgets/controls",
            "_model_module_version": "1.5.0",
            "_model_name": "DescriptionStyleModel",
            "_view_count": null,
            "_view_module": "@jupyter-widgets/base",
            "_view_module_version": "1.2.0",
            "_view_name": "StyleView",
            "description_width": ""
          }
        }
      }
    }
  },
  "cells": [
    {
      "cell_type": "code",
      "source": [
        "import requests\n",
        "import zipfile\n",
        "import torch\n",
        "from torch.utils.data import Dataset\n",
        "from pathlib import Path\n",
        "from PIL import Image"
      ],
      "metadata": {
        "id": "eLauURi_R-mp"
      },
      "execution_count": null,
      "outputs": []
    },
    {
      "cell_type": "code",
      "execution_count": null,
      "metadata": {
        "id": "jEwTw1KEIAhY"
      },
      "outputs": [],
      "source": [
        "url = \"https://firebasestorage.googleapis.com/v0/b/grandmacan-2dae4.appspot.com/o/ML_data%2Fone_piece_full.zip?alt=media&token=937656fd-f5c1-44f5-b174-1e2d590b8ef3\"\n",
        "\n",
        "with open(\"one_piece_full.zip\", \"wb\") as f:\n",
        "  req = requests.get(url)\n",
        "  f.write(req.content)\n",
        "\n",
        "with zipfile.ZipFile(\"one_piece_full.zip\", \"r\") as zip_file:\n",
        "  zip_file.extractall(\"one_piece_full\")"
      ]
    },
    {
      "cell_type": "code",
      "source": [
        "device = \"cuda\" if torch.cuda.is_available() else \"cpu\""
      ],
      "metadata": {
        "id": "IwkdnIN7R4kp"
      },
      "execution_count": null,
      "outputs": []
    },
    {
      "cell_type": "code",
      "source": [
        "def accuracy_fn(y_pred, y_true):\n",
        "  correct_num = (y_pred==y_true).sum()\n",
        "  acc = correct_num / len(y_true) * 100\n",
        "  return acc\n",
        "\n",
        "def train_step(dataloader, model, cost_fn, optimizer, accuracy_fn, device):\n",
        "  train_cost = 0\n",
        "  train_acc = 0\n",
        "  for batch, (x, y) in enumerate(dataloader):\n",
        "    x = x.to(device)\n",
        "    y = y.to(device)\n",
        "    model.to(device)\n",
        "\n",
        "    model.train()\n",
        "\n",
        "    y_pred = model(x)\n",
        "\n",
        "    cost = cost_fn(y_pred, y)\n",
        "\n",
        "    train_cost += cost\n",
        "    train_acc += accuracy_fn(y_pred.argmax(dim=1), y)\n",
        "\n",
        "    optimizer.zero_grad()\n",
        "\n",
        "    cost.backward()\n",
        "\n",
        "    optimizer.step()\n",
        "\n",
        "  train_cost /= len(train_dataloader)\n",
        "  train_acc /= len(train_dataloader)\n",
        "\n",
        "  print(f\"\\nTrain Cost: {train_cost:.4f}, Train Acc: {train_acc:.2f}\")\n",
        "\n",
        "\n",
        "def test_step(dataloader, model, cost_fn, accuracy_fn, device):\n",
        "  test_cost = 0\n",
        "  test_acc = 0\n",
        "  model.eval()\n",
        "  with torch.inference_mode():\n",
        "    for x, y in dataloader:\n",
        "      x = x.to(device)\n",
        "      y = y.to(device)\n",
        "      model.to(device)\n",
        "\n",
        "      test_pred = model(x)\n",
        "\n",
        "      test_cost += cost_fn(test_pred, y)\n",
        "      test_acc += accuracy_fn(test_pred.argmax(dim=1), y)\n",
        "\n",
        "    test_cost /= len(test_dataloader)\n",
        "    test_acc /= len(test_dataloader)\n",
        "\n",
        "  print(f\"Test Cost: {test_cost:.4f}, Test Acc: {test_acc:.2f} \\n\")"
      ],
      "metadata": {
        "id": "PnSuhfa1R6lI"
      },
      "execution_count": null,
      "outputs": []
    },
    {
      "cell_type": "code",
      "source": [
        "class ImageDataset(Dataset):\n",
        "  def __init__(self, root, train, transform=None):\n",
        "\n",
        "    if train:\n",
        "      image_root = Path(root) / \"train\"\n",
        "    else:\n",
        "      image_root = Path(root) / \"test\"\n",
        "\n",
        "    with open(Path(root) / \"classnames.txt\", \"r\") as f:\n",
        "      lines = f.readlines()\n",
        "      self.classes = [line.strip() for line in lines]\n",
        "\n",
        "    self.paths = [i for i in image_root.rglob(\"*\") if i.is_file()]\n",
        "    self.transform = transform\n",
        "\n",
        "  def __getitem__(self, index):\n",
        "    img = Image.open(self.paths[index]).convert(\"RGB\")\n",
        "    class_name = self.paths[index].parent.name\n",
        "    class_idx = self.classes.index(class_name)\n",
        "\n",
        "    if self.transform:\n",
        "      return self.transform(img), class_idx\n",
        "    else:\n",
        "      return img, class_idx\n",
        "\n",
        "\n",
        "  def __len__(self):\n",
        "    return len(self.paths)"
      ],
      "metadata": {
        "id": "eD0AUh5XIHqo"
      },
      "execution_count": null,
      "outputs": []
    },
    {
      "cell_type": "code",
      "source": [
        "import torchvision\n",
        "# EfficientNet_B0 在更新後似乎出了點問題, 改用 EfficientNet_B1\n",
        "# weights = torchvision.models.EfficientNet_B0_Weights.DEFAULT\n",
        "# model = torchvision.models.efficientnet_b0(weights=weights)\n",
        "\n",
        "weights = torchvision.models.EfficientNet_B1_Weights.DEFAULT\n",
        "model = torchvision.models.efficientnet_b1(weights=weights)\n",
        "model"
      ],
      "metadata": {
        "id": "G0BxTBNH7ap6"
      },
      "execution_count": null,
      "outputs": []
    },
    {
      "cell_type": "code",
      "source": [
        "efficientnet_b1_transforms = weights.transforms()"
      ],
      "metadata": {
        "id": "dFaHrSCwmBsd"
      },
      "execution_count": null,
      "outputs": []
    },
    {
      "cell_type": "code",
      "source": [
        "train_dataset = ImageDataset(root=\"one_piece_full\",\n",
        "              train=True,\n",
        "              transform=efficientnet_b1_transforms\n",
        ")\n",
        "\n",
        "test_dataset = ImageDataset(root=\"one_piece_full\",\n",
        "              train=False,\n",
        "              transform=efficientnet_b1_transforms\n",
        ")"
      ],
      "metadata": {
        "id": "tD-CWwXRmxjm"
      },
      "execution_count": null,
      "outputs": []
    },
    {
      "cell_type": "code",
      "source": [
        "from torch.utils.data import DataLoader\n",
        "\n",
        "BATCH_SIZE = 16\n",
        "\n",
        "train_dataloader = DataLoader(dataset=train_dataset,\n",
        "                batch_size=BATCH_SIZE,\n",
        "                shuffle=True\n",
        ")\n",
        "\n",
        "test_dataloader = DataLoader(dataset=test_dataset,\n",
        "                batch_size=BATCH_SIZE,\n",
        "                shuffle=False\n",
        ")"
      ],
      "metadata": {
        "id": "wQjA7XSpvL1a"
      },
      "execution_count": null,
      "outputs": []
    },
    {
      "cell_type": "code",
      "source": [
        "len(train_dataloader), len(test_dataloader)"
      ],
      "metadata": {
        "colab": {
          "base_uri": "https://localhost:8080/"
        },
        "id": "dXGgdFYfvQT4",
        "outputId": "35d14cc6-222b-4bf2-daa4-690829620f70"
      },
      "execution_count": null,
      "outputs": [
        {
          "output_type": "execute_result",
          "data": {
            "text/plain": [
              "(189, 47)"
            ]
          },
          "metadata": {},
          "execution_count": 14
        }
      ]
    },
    {
      "cell_type": "code",
      "source": [
        "!pip install torchinfo\n",
        "from torchinfo import summary"
      ],
      "metadata": {
        "colab": {
          "base_uri": "https://localhost:8080/"
        },
        "id": "6O_6PuF87anl",
        "outputId": "5fc2625b-7d90-4f4f-c0c5-2c3ae66948e9"
      },
      "execution_count": null,
      "outputs": [
        {
          "output_type": "stream",
          "name": "stdout",
          "text": [
            "Looking in indexes: https://pypi.org/simple, https://us-python.pkg.dev/colab-wheels/public/simple/\n",
            "Collecting torchinfo\n",
            "  Downloading torchinfo-1.7.2-py3-none-any.whl (22 kB)\n",
            "Installing collected packages: torchinfo\n",
            "Successfully installed torchinfo-1.7.2\n"
          ]
        }
      ]
    },
    {
      "cell_type": "code",
      "source": [
        "summary(model=model,\n",
        "    input_size=(16, 3, 64, 64),\n",
        "    col_names=[\"input_size\", \"output_size\", \"num_params\", \"trainable\"],\n",
        "    row_settings=[\"var_names\"]\n",
        ")"
      ],
      "metadata": {
        "colab": {
          "base_uri": "https://localhost:8080/"
        },
        "id": "6WbaZGDaBm5P",
        "outputId": "419cdd4e-21ea-4914-900f-8cb13f567478"
      },
      "execution_count": null,
      "outputs": [
        {
          "output_type": "stream",
          "name": "stderr",
          "text": [
            "/usr/local/lib/python3.9/dist-packages/torchinfo/torchinfo.py:477: UserWarning: TypedStorage is deprecated. It will be removed in the future and UntypedStorage will be the only storage class. This should only matter to you if you are using storages directly.  To access UntypedStorage directly, use tensor.untyped_storage() instead of tensor.storage()\n",
            "  action_fn=lambda data: sys.getsizeof(data.storage()),\n",
            "/usr/local/lib/python3.9/dist-packages/torch/storage.py:665: UserWarning: TypedStorage is deprecated. It will be removed in the future and UntypedStorage will be the only storage class. This should only matter to you if you are using storages directly.  To access UntypedStorage directly, use tensor.untyped_storage() instead of tensor.storage()\n",
            "  return super().__sizeof__() + self.nbytes()\n"
          ]
        },
        {
          "output_type": "execute_result",
          "data": {
            "text/plain": [
              "================================================================================================================================================================\n",
              "Layer (type (var_name))                                      Input Shape               Output Shape              Param #                   Trainable\n",
              "================================================================================================================================================================\n",
              "EfficientNet (EfficientNet)                                  [16, 3, 64, 64]           [16, 18]                  --                        Partial\n",
              "├─Sequential (features)                                      [16, 3, 64, 64]           [16, 1280, 2, 2]          --                        False\n",
              "│    └─Conv2dNormActivation (0)                              [16, 3, 64, 64]           [16, 32, 32, 32]          --                        False\n",
              "│    │    └─Conv2d (0)                                       [16, 3, 64, 64]           [16, 32, 32, 32]          (864)                     False\n",
              "│    │    └─BatchNorm2d (1)                                  [16, 32, 32, 32]          [16, 32, 32, 32]          (64)                      False\n",
              "│    │    └─SiLU (2)                                         [16, 32, 32, 32]          [16, 32, 32, 32]          --                        --\n",
              "│    └─Sequential (1)                                        [16, 32, 32, 32]          [16, 16, 32, 32]          --                        False\n",
              "│    │    └─MBConv (0)                                       [16, 32, 32, 32]          [16, 16, 32, 32]          (1,448)                   False\n",
              "│    └─Sequential (2)                                        [16, 16, 32, 32]          [16, 24, 16, 16]          --                        False\n",
              "│    │    └─MBConv (0)                                       [16, 16, 32, 32]          [16, 24, 16, 16]          (6,004)                   False\n",
              "│    │    └─MBConv (1)                                       [16, 24, 16, 16]          [16, 24, 16, 16]          (10,710)                  False\n",
              "│    └─Sequential (3)                                        [16, 24, 16, 16]          [16, 40, 8, 8]            --                        False\n",
              "│    │    └─MBConv (0)                                       [16, 24, 16, 16]          [16, 40, 8, 8]            (15,350)                  False\n",
              "│    │    └─MBConv (1)                                       [16, 40, 8, 8]            [16, 40, 8, 8]            (31,290)                  False\n",
              "│    └─Sequential (4)                                        [16, 40, 8, 8]            [16, 80, 4, 4]            --                        False\n",
              "│    │    └─MBConv (0)                                       [16, 40, 8, 8]            [16, 80, 4, 4]            (37,130)                  False\n",
              "│    │    └─MBConv (1)                                       [16, 80, 4, 4]            [16, 80, 4, 4]            (102,900)                 False\n",
              "│    │    └─MBConv (2)                                       [16, 80, 4, 4]            [16, 80, 4, 4]            (102,900)                 False\n",
              "│    └─Sequential (5)                                        [16, 80, 4, 4]            [16, 112, 4, 4]           --                        False\n",
              "│    │    └─MBConv (0)                                       [16, 80, 4, 4]            [16, 112, 4, 4]           (126,004)                 False\n",
              "│    │    └─MBConv (1)                                       [16, 112, 4, 4]           [16, 112, 4, 4]           (208,572)                 False\n",
              "│    │    └─MBConv (2)                                       [16, 112, 4, 4]           [16, 112, 4, 4]           (208,572)                 False\n",
              "│    └─Sequential (6)                                        [16, 112, 4, 4]           [16, 192, 2, 2]           --                        False\n",
              "│    │    └─MBConv (0)                                       [16, 112, 4, 4]           [16, 192, 2, 2]           (262,492)                 False\n",
              "│    │    └─MBConv (1)                                       [16, 192, 2, 2]           [16, 192, 2, 2]           (587,952)                 False\n",
              "│    │    └─MBConv (2)                                       [16, 192, 2, 2]           [16, 192, 2, 2]           (587,952)                 False\n",
              "│    │    └─MBConv (3)                                       [16, 192, 2, 2]           [16, 192, 2, 2]           (587,952)                 False\n",
              "│    └─Sequential (7)                                        [16, 192, 2, 2]           [16, 320, 2, 2]           --                        False\n",
              "│    │    └─MBConv (0)                                       [16, 192, 2, 2]           [16, 320, 2, 2]           (717,232)                 False\n",
              "│    └─Conv2dNormActivation (8)                              [16, 320, 2, 2]           [16, 1280, 2, 2]          --                        False\n",
              "│    │    └─Conv2d (0)                                       [16, 320, 2, 2]           [16, 1280, 2, 2]          (409,600)                 False\n",
              "│    │    └─BatchNorm2d (1)                                  [16, 1280, 2, 2]          [16, 1280, 2, 2]          (2,560)                   False\n",
              "│    │    └─SiLU (2)                                         [16, 1280, 2, 2]          [16, 1280, 2, 2]          --                        --\n",
              "├─AdaptiveAvgPool2d (avgpool)                                [16, 1280, 2, 2]          [16, 1280, 1, 1]          --                        --\n",
              "├─Sequential (classifier)                                    [16, 1280]                [16, 18]                  --                        True\n",
              "│    └─Dropout (0)                                           [16, 1280]                [16, 1280]                --                        --\n",
              "│    └─Linear (1)                                            [16, 1280]                [16, 18]                  23,058                    True\n",
              "================================================================================================================================================================\n",
              "Total params: 4,030,606\n",
              "Trainable params: 23,058\n",
              "Non-trainable params: 4,007,548\n",
              "Total mult-adds (M): 512.66\n",
              "================================================================================================================================================================\n",
              "Input size (MB): 0.79\n",
              "Forward/backward pass size (MB): 142.00\n",
              "Params size (MB): 16.12\n",
              "Estimated Total Size (MB): 158.91\n",
              "================================================================================================================================================================"
            ]
          },
          "metadata": {},
          "execution_count": 10
        }
      ]
    },
    {
      "cell_type": "code",
      "source": [
        "from torch import nn\n",
        "model.classifier[1] = nn.Linear(in_features=1280, out_features=18, bias=True)"
      ],
      "metadata": {
        "id": "I644vuV2Bm2w"
      },
      "execution_count": null,
      "outputs": []
    },
    {
      "cell_type": "code",
      "source": [
        "for param in model.features.parameters():\n",
        "  param.requires_grad=False"
      ],
      "metadata": {
        "id": "g83hTgvrzOYS"
      },
      "execution_count": null,
      "outputs": []
    },
    {
      "cell_type": "code",
      "source": [
        "cost_fn = nn.CrossEntropyLoss()\n",
        "optimizer = torch.optim.Adam(params=model.parameters(), lr=0.001)"
      ],
      "metadata": {
        "id": "Uo6oy-CKur43"
      },
      "execution_count": null,
      "outputs": []
    },
    {
      "cell_type": "code",
      "source": [
        "from tqdm.auto import tqdm\n",
        "\n",
        "epochs = 10\n",
        "\n",
        "for epoch in tqdm(range(epochs)):\n",
        "  print(f\"Epoch: {epoch}\\n-------\")\n",
        "\n",
        "  train_step(train_dataloader, model, cost_fn, optimizer, accuracy_fn, device)\n",
        "\n",
        "  test_step(test_dataloader, model, cost_fn, accuracy_fn, device)\n"
      ],
      "metadata": {
        "colab": {
          "base_uri": "https://localhost:8080/",
          "height": 1000,
          "referenced_widgets": [
            "109d7980dcba448aa4ddb02035e108dd",
            "6342097dda89431daa236cb64ee6c30c",
            "13157f85c9e54f7f8256522fd1833daa",
            "d4fc6da8df6a44daa74bda4f7f795d65",
            "402cf4d690e94e7cbc192fc2bfc3d656",
            "4e553fbcb44b461cad6c0c69c2f36891",
            "0217598606264f71867243fe47bc52c4",
            "f4f1eda2dbfd40868ad7dc99f21257a3",
            "356bc6c20de34cb0bf37b4249a034d0c",
            "7bc82f54b43145658e88293b2ea92525",
            "e2a2ff3b0c6d4440b0a1e113a52a2675"
          ]
        },
        "id": "fPo3RXKN5oHs",
        "outputId": "6082d0b4-e0a3-449e-9698-3e1db140c192"
      },
      "execution_count": null,
      "outputs": [
        {
          "output_type": "display_data",
          "data": {
            "text/plain": [
              "  0%|          | 0/10 [00:00<?, ?it/s]"
            ],
            "application/vnd.jupyter.widget-view+json": {
              "version_major": 2,
              "version_minor": 0,
              "model_id": "109d7980dcba448aa4ddb02035e108dd"
            }
          },
          "metadata": {}
        },
        {
          "output_type": "stream",
          "name": "stdout",
          "text": [
            "Epoch: 0\n",
            "-------\n"
          ]
        },
        {
          "output_type": "stream",
          "name": "stderr",
          "text": [
            "/usr/local/lib/python3.9/dist-packages/PIL/Image.py:975: UserWarning: Palette images with Transparency expressed in bytes should be converted to RGBA images\n",
            "  warnings.warn(\n"
          ]
        },
        {
          "output_type": "stream",
          "name": "stdout",
          "text": [
            "\n",
            "Train Cost: 1.9935, Train Acc: 50.11\n",
            "Test Cost: 1.4989, Test Acc: 67.08 \n",
            "\n",
            "Epoch: 1\n",
            "-------\n",
            "\n",
            "Train Cost: 1.2094, Train Acc: 70.95\n",
            "Test Cost: 1.1799, Test Acc: 70.67 \n",
            "\n",
            "Epoch: 2\n",
            "-------\n",
            "\n",
            "Train Cost: 0.9792, Train Acc: 75.93\n",
            "Test Cost: 1.0750, Test Acc: 73.21 \n",
            "\n",
            "Epoch: 3\n",
            "-------\n",
            "\n",
            "Train Cost: 0.8369, Train Acc: 79.11\n",
            "Test Cost: 0.9915, Test Acc: 73.35 \n",
            "\n",
            "Epoch: 4\n",
            "-------\n",
            "\n",
            "Train Cost: 0.7357, Train Acc: 81.35\n",
            "Test Cost: 0.9155, Test Acc: 75.08 \n",
            "\n",
            "Epoch: 5\n",
            "-------\n",
            "\n",
            "Train Cost: 0.6885, Train Acc: 82.12\n",
            "Test Cost: 0.9085, Test Acc: 75.61 \n",
            "\n",
            "Epoch: 6\n",
            "-------\n",
            "\n",
            "Train Cost: 0.6318, Train Acc: 83.36\n",
            "Test Cost: 0.8843, Test Acc: 75.99 \n",
            "\n",
            "Epoch: 7\n",
            "-------\n",
            "\n",
            "Train Cost: 0.5847, Train Acc: 83.70\n",
            "Test Cost: 0.8339, Test Acc: 77.60 \n",
            "\n",
            "Epoch: 8\n",
            "-------\n",
            "\n",
            "Train Cost: 0.5576, Train Acc: 84.90\n",
            "Test Cost: 0.8327, Test Acc: 77.87 \n",
            "\n",
            "Epoch: 9\n",
            "-------\n",
            "\n",
            "Train Cost: 0.5225, Train Acc: 85.80\n",
            "Test Cost: 0.8067, Test Acc: 76.94 \n",
            "\n"
          ]
        }
      ]
    },
    {
      "cell_type": "code",
      "source": [],
      "metadata": {
        "id": "NWZoRujW5FAp"
      },
      "execution_count": null,
      "outputs": []
    },
    {
      "cell_type": "code",
      "source": [],
      "metadata": {
        "id": "m_Od_DRL3gNK"
      },
      "execution_count": null,
      "outputs": []
    }
  ]
}