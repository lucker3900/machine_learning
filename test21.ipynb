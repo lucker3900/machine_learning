{
  "nbformat": 4,
  "nbformat_minor": 0,
  "metadata": {
    "colab": {
      "provenance": [],
      "authorship_tag": "ABX9TyPf0G7hO0vab0B47Nivaovp"
    },
    "kernelspec": {
      "name": "python3",
      "display_name": "Python 3"
    },
    "language_info": {
      "name": "python"
    }
  },
  "cells": [
    {
      "cell_type": "code",
      "source": [
        "#网络结构如下：\n",
        "#输入层：2个神经元（输入特征维度为2）\n",
        "\n",
        "#隐藏层：3个神经元，激活函数为 ReLU\n",
        "\n",
        "#输出层：1个神经元，激活函数为 Sigmoid（用于二分类）"
      ],
      "metadata": {
        "id": "JGyo58V_cZcP"
      },
      "execution_count": 1,
      "outputs": []
    },
    {
      "cell_type": "code",
      "source": [
        "import numpy as np\n",
        "import matplotlib.pyplot as plt\n",
        "import torch"
      ],
      "metadata": {
        "id": "mTDDHb5WdF2M"
      },
      "execution_count": 2,
      "outputs": []
    },
    {
      "cell_type": "code",
      "source": [
        "#计算relu函数\n",
        "def relu(a):\n",
        "  return np.maximum(0, a)"
      ],
      "metadata": {
        "id": "RvWDtT4qck9J"
      },
      "execution_count": 3,
      "outputs": []
    },
    {
      "cell_type": "code",
      "source": [
        "#计算sigmoid函数\n",
        "def sigmoid(a):\n",
        "  return 1/(1 + np.exp(-a))"
      ],
      "metadata": {
        "id": "pdwa8HJ3d1ro"
      },
      "execution_count": 5,
      "outputs": []
    },
    {
      "cell_type": "code",
      "source": [
        "#前向传播，计算y_pred输出\n",
        "def forward(W1, W2, b1, b2, X):\n",
        "  Z = np.dot(X, W1.T) + b1 # shape (3,3)\n",
        "  H = relu(Z) # shape (3,3)\n",
        "\n",
        "  Zout = np.dot(H, W2.T) + b2 # shape (3,1)\n",
        "  y_pred = sigmoid(Zout) # shape (3,1)\n",
        "  return Z, H, y_pred"
      ],
      "metadata": {
        "id": "cLxEf1jheEZf"
      },
      "execution_count": 6,
      "outputs": []
    },
    {
      "cell_type": "code",
      "source": [
        "#计算损失函数loss\n",
        "def compute_loss(y_pred, y_true):\n",
        "  loss = (y_pred - y_true)**2/2 # shape (3,1)\n",
        "  return loss"
      ],
      "metadata": {
        "id": "nKm8FpnHfuGS"
      },
      "execution_count": 19,
      "outputs": []
    },
    {
      "cell_type": "code",
      "source": [
        "#反向传播，梯度计算\n",
        "def backward(y_pred, y_true, W2, H, Z, X):\n",
        "  y_diff = y_pred - y_true\n",
        "\n",
        "  dzout = y_diff * y_pred * (1- y_pred) #shape(3,1)\n",
        "  b2_grad = np.mean(dzout, axis=0, keepdims=True) #shape (1,1)\n",
        "  W2_grad = np.dot(dzout.T, H) # shape(1,3)\n",
        "\n",
        "  dh = np.dot(dzout, W2) #shape (3,3)\n",
        "  dz = dh * (Z>0)\n",
        "  b1_grad = np.mean(dz, axis=0, keepdims=True).T\n",
        "  W1_grad = np.dot(dz.T, X)\n",
        "  return W1_grad, W2_grad, b1_grad, b2_grad"
      ],
      "metadata": {
        "id": "FXl6JDlmgajJ"
      },
      "execution_count": 13,
      "outputs": []
    },
    {
      "cell_type": "code",
      "source": [
        "#更新参数纠正weight,bias\n",
        "def update_params(W1, W2, b1, b2, W1_grad, W2_grad, b1_grad, b2_grad, learning_rate):\n",
        "  W1 -= learning_rate * W1_grad\n",
        "  W2 -= learning_rate * W2_grad\n",
        "  b1 -= learning_rate * b1_grad\n",
        "  b2 -= learning_rate * b2_grad\n",
        "  return W1, W2, b1, b2"
      ],
      "metadata": {
        "id": "R7yftQvUmOJR"
      },
      "execution_count": 21,
      "outputs": []
    },
    {
      "cell_type": "code",
      "execution_count": 34,
      "metadata": {
        "colab": {
          "base_uri": "https://localhost:8080/",
          "height": 1000
        },
        "id": "NILtzg-pcO-t",
        "outputId": "e3c4b133-1731-4ab6-9daa-5cd19834f8c2"
      },
      "outputs": [
        {
          "output_type": "stream",
          "name": "stdout",
          "text": [
            "Epoch: 1 loss: [[0.1437]] W1_grad [-0.01  0.04 -0.01  0.05 -0.01  0.05] W2_grad [0.03 0.04 0.05] b1_grad [0.01 0.01 0.01] b2_grad [0.01]\n",
            "Epoch: 11 loss: [[0.1288]] W1_grad [-0.01  0.05 -0.01  0.05 -0.02  0.06] W2_grad [0.03 0.04 0.05] b1_grad [0.01 0.01 0.01] b2_grad [0.02]\n",
            "Epoch: 21 loss: [[0.1151]] W1_grad [-0.02  0.05 -0.02  0.05 -0.02  0.05] W2_grad [0.01 0.02 0.03] b1_grad [0.01 0.01 0.01] b2_grad [0.01]\n",
            "Epoch: 31 loss: [[0.1052]] W1_grad [-0.02  0.04 -0.03  0.05 -0.03  0.05] W2_grad [-0. -0.  0.] b1_grad [0.   0.   0.01] b2_grad [0.01]\n",
            "Epoch: 41 loss: [[0.0957]] W1_grad [-0.04 -0.03 -0.03  0.05 -0.03  0.05] W2_grad [-0.02 -0.02 -0.02] b1_grad [-0.02  0.    0.  ] b2_grad [0.01]\n",
            "Epoch: 51 loss: [[0.0832]] W1_grad [-0.04 -0.03 -0.05 -0.03 -0.03  0.06] W2_grad [-0.02 -0.04 -0.03] b1_grad [-0.02 -0.02  0.01] b2_grad [0.01]\n",
            "Epoch: 61 loss: [[0.068]] W1_grad [-0.04 -0.02 -0.04 -0.03 -0.04 -0.03] W2_grad [-0.03 -0.04 -0.04] b1_grad [-0.02 -0.02 -0.02] b2_grad [0.02]\n",
            "Epoch: 71 loss: [[0.0608]] W1_grad [-0.03 -0.02 -0.03 -0.02 -0.04 -0.02] W2_grad [-0.02 -0.03 -0.04] b1_grad [-0.02 -0.02 -0.02] b2_grad [0.02]\n",
            "Epoch: 81 loss: [[0.0543]] W1_grad [-0.03 -0.02 -0.03 -0.02 -0.03 -0.02] W2_grad [-0.02 -0.03 -0.03] b1_grad [-0.01 -0.02 -0.02] b2_grad [0.03]\n",
            "Epoch: 91 loss: [[0.0493]] W1_grad [-0.02 -0.02 -0.03 -0.02 -0.    0.1 ] W2_grad [-0.02 -0.02 -0.03] b1_grad [-0.01 -0.01  0.03] b2_grad [0.03]\n",
            "Epoch: 101 loss: [[0.0445]] W1_grad [-0.02 -0.01 -0.02 -0.01  0.    0.11] W2_grad [-0.02 -0.02 -0.02] b1_grad [-0.01 -0.01  0.03] b2_grad [0.03]\n",
            "Epoch: 111 loss: [[0.0399]] W1_grad [-0.02 -0.01 -0.02 -0.01 -0.02 -0.01] W2_grad [-0.01 -0.02 -0.02] b1_grad [-0.01 -0.01 -0.01] b2_grad [0.03]\n",
            "Epoch: 121 loss: [[0.0357]] W1_grad [-0.01 -0.01 -0.02 -0.01 -0.02 -0.01] W2_grad [-0.01 -0.02 -0.02] b1_grad [-0.01 -0.01 -0.01] b2_grad [0.03]\n",
            "Epoch: 131 loss: [[0.0328]] W1_grad [-0.01 -0.01 -0.02 -0.01  0.01  0.11] W2_grad [-0.01 -0.01 -0.02] b1_grad [-0.01 -0.01  0.03] b2_grad [0.03]\n",
            "Epoch: 141 loss: [[0.0294]] W1_grad [-0.01 -0.01 -0.01 -0.01 -0.01 -0.01] W2_grad [-0.01 -0.01 -0.01] b1_grad [-0.01 -0.01 -0.01] b2_grad [0.02]\n",
            "Epoch: 151 loss: [[0.027]] W1_grad [-0.01 -0.01  0.01  0.1  -0.01 -0.01] W2_grad [-0.01 -0.01 -0.01] b1_grad [-0.01  0.03 -0.01] b2_grad [0.02]\n",
            "Epoch: 161 loss: [[0.0246]] W1_grad [-0.01 -0.01 -0.01 -0.01  0.01  0.1 ] W2_grad [-0.01 -0.01 -0.01] b1_grad [-0.01 -0.01  0.03] b2_grad [0.02]\n",
            "Epoch: 171 loss: [[0.0225]] W1_grad [-0.01 -0.01 -0.01 -0.01 -0.01 -0.01] W2_grad [-0.01 -0.01 -0.01] b1_grad [-0.01 -0.01 -0.01] b2_grad [0.02]\n",
            "Epoch: 181 loss: [[0.0209]] W1_grad [-0.01 -0.01 -0.01 -0.01 -0.01 -0.01] W2_grad [-0.01 -0.01 -0.01] b1_grad [-0.01 -0.01 -0.01] b2_grad [0.02]\n",
            "Epoch: 191 loss: [[0.0192]] W1_grad [-0.01 -0.01 -0.01 -0.01 -0.01 -0.01] W2_grad [-0.01 -0.01 -0.01] b1_grad [-0.01 -0.01 -0.01] b2_grad [0.02]\n",
            "Epoch: 201 loss: [[0.0177]] W1_grad [-0.01 -0.   -0.01 -0.01 -0.01 -0.01] W2_grad [-0.01 -0.01 -0.01] b1_grad [-0.   -0.01 -0.01] b2_grad [0.02]\n",
            "Epoch: 211 loss: [[0.0164]] W1_grad [-0.01 -0.   -0.01 -0.01 -0.01 -0.01] W2_grad [-0.01 -0.01 -0.01] b1_grad [-0.   -0.   -0.01] b2_grad [0.02]\n",
            "Epoch: 221 loss: [[0.0152]] W1_grad [-0.01 -0.   -0.01 -0.   -0.01 -0.01] W2_grad [-0.01 -0.01 -0.01] b1_grad [-0.   -0.   -0.01] b2_grad [0.02]\n",
            "Epoch: 231 loss: [[0.0142]] W1_grad [-0.01 -0.   -0.01 -0.   -0.01 -0.  ] W2_grad [-0.01 -0.01 -0.01] b1_grad [-0. -0. -0.] b2_grad [0.02]\n",
            "Epoch: 241 loss: [[0.0133]] W1_grad [-0.01 -0.   -0.01 -0.   -0.01 -0.  ] W2_grad [-0.01 -0.01 -0.01] b1_grad [-0. -0. -0.] b2_grad [0.01]\n",
            "Epoch: 251 loss: [[0.0125]] W1_grad [-0.01 -0.   -0.01 -0.   -0.01 -0.  ] W2_grad [-0.   -0.01 -0.01] b1_grad [-0. -0. -0.] b2_grad [0.01]\n",
            "Epoch: 261 loss: [[0.0117]] W1_grad [-0.01 -0.   -0.01 -0.   -0.01 -0.  ] W2_grad [-0.   -0.01 -0.01] b1_grad [-0. -0. -0.] b2_grad [0.01]\n",
            "Epoch: 271 loss: [[0.0111]] W1_grad [-0.   -0.   -0.01 -0.   -0.01 -0.  ] W2_grad [-0.   -0.01 -0.01] b1_grad [-0. -0. -0.] b2_grad [0.01]\n",
            "Epoch: 281 loss: [[0.0105]] W1_grad [-0.   -0.   -0.01 -0.   -0.01 -0.  ] W2_grad [-0.   -0.01 -0.01] b1_grad [-0. -0. -0.] b2_grad [0.01]\n",
            "Epoch: 291 loss: [[0.0099]] W1_grad [-0.   -0.   -0.01 -0.    0.01  0.06] W2_grad [-0.   -0.   -0.01] b1_grad [-0.   -0.    0.02] b2_grad [0.01]\n",
            "Epoch: 301 loss: [[0.0094]] W1_grad [-0.   -0.   -0.   -0.   -0.01 -0.  ] W2_grad [-0.   -0.   -0.01] b1_grad [-0. -0. -0.] b2_grad [0.01]\n",
            "Epoch: 311 loss: [[0.0089]] W1_grad [-0.   -0.   -0.   -0.   -0.01 -0.  ] W2_grad [-0. -0. -0.] b1_grad [-0. -0. -0.] b2_grad [0.01]\n",
            "Epoch: 321 loss: [[0.0085]] W1_grad [-0. -0. -0. -0. -0. -0.] W2_grad [-0. -0. -0.] b1_grad [-0. -0. -0.] b2_grad [0.01]\n",
            "Epoch: 331 loss: [[0.0081]] W1_grad [-0. -0. -0. -0. -0. -0.] W2_grad [-0. -0. -0.] b1_grad [-0. -0. -0.] b2_grad [0.01]\n",
            "Epoch: 341 loss: [[0.0077]] W1_grad [-0.   -0.    0.01  0.05 -0.   -0.  ] W2_grad [-0. -0. -0.] b1_grad [-0.    0.02 -0.  ] b2_grad [0.01]\n",
            "Epoch: 351 loss: [[0.0074]] W1_grad [-0. -0. -0. -0. -0. -0.] W2_grad [-0. -0. -0.] b1_grad [-0. -0. -0.] b2_grad [0.01]\n",
            "Epoch: 361 loss: [[0.0071]] W1_grad [-0.   -0.    0.01  0.04  0.01  0.05] W2_grad [-0. -0. -0.] b1_grad [-0.    0.02  0.02] b2_grad [0.01]\n",
            "Epoch: 371 loss: [[0.0068]] W1_grad [ 0.01  0.04 -0.   -0.   -0.   -0.  ] W2_grad [-0. -0. -0.] b1_grad [ 0.01 -0.   -0.  ] b2_grad [0.01]\n",
            "Epoch: 381 loss: [[0.0065]] W1_grad [-0. -0. -0. -0. -0. -0.] W2_grad [-0. -0. -0.] b1_grad [-0. -0. -0.] b2_grad [0.01]\n",
            "Epoch: 391 loss: [[0.0062]] W1_grad [-0. -0. -0. -0. -0. -0.] W2_grad [-0. -0. -0.] b1_grad [-0. -0. -0.] b2_grad [0.01]\n",
            "Epoch: 401 loss: [[0.006]] W1_grad [-0. -0. -0. -0. -0. -0.] W2_grad [-0. -0. -0.] b1_grad [-0. -0. -0.] b2_grad [0.01]\n",
            "Epoch: 411 loss: [[0.0058]] W1_grad [-0. -0. -0. -0. -0. -0.] W2_grad [-0. -0. -0.] b1_grad [-0. -0. -0.] b2_grad [0.01]\n",
            "Epoch: 421 loss: [[0.0056]] W1_grad [-0.   -0.    0.01  0.04 -0.   -0.  ] W2_grad [-0. -0. -0.] b1_grad [-0.    0.01 -0.  ] b2_grad [0.01]\n",
            "Epoch: 431 loss: [[0.0054]] W1_grad [-0. -0. -0. -0. -0. -0.] W2_grad [-0. -0. -0.] b1_grad [-0. -0. -0.] b2_grad [0.01]\n",
            "Epoch: 441 loss: [[0.0052]] W1_grad [-0. -0. -0. -0. -0. -0.] W2_grad [-0. -0. -0.] b1_grad [-0. -0. -0.] b2_grad [0.01]\n",
            "Epoch: 451 loss: [[0.005]] W1_grad [-0. -0. -0. -0. -0. -0.] W2_grad [-0. -0. -0.] b1_grad [-0. -0. -0.] b2_grad [0.01]\n",
            "Epoch: 461 loss: [[0.0049]] W1_grad [-0. -0. -0. -0. -0. -0.] W2_grad [-0. -0. -0.] b1_grad [-0. -0. -0.] b2_grad [0.01]\n",
            "Epoch: 471 loss: [[0.0047]] W1_grad [-0.   -0.    0.01  0.03 -0.   -0.  ] W2_grad [-0. -0. -0.] b1_grad [-0.    0.01 -0.  ] b2_grad [0.01]\n",
            "Epoch: 481 loss: [[0.0046]] W1_grad [-0. -0. -0. -0. -0. -0.] W2_grad [-0. -0. -0.] b1_grad [-0. -0. -0.] b2_grad [0.01]\n",
            "Epoch: 491 loss: [[0.0044]] W1_grad [ 0.    0.03 -0.   -0.   -0.   -0.  ] W2_grad [-0. -0. -0.] b1_grad [ 0.01 -0.   -0.  ] b2_grad [0.01]\n",
            "Epoch: 501 loss: [[0.0043]] W1_grad [-0. -0. -0. -0. -0. -0.] W2_grad [-0. -0. -0.] b1_grad [-0. -0. -0.] b2_grad [0.01]\n",
            "Epoch: 511 loss: [[0.0042]] W1_grad [-0. -0. -0. -0. -0. -0.] W2_grad [-0. -0. -0.] b1_grad [-0. -0. -0.] b2_grad [0.01]\n",
            "Epoch: 521 loss: [[0.0041]] W1_grad [-0. -0. -0. -0. -0. -0.] W2_grad [-0. -0. -0.] b1_grad [-0. -0. -0.] b2_grad [0.01]\n",
            "Epoch: 531 loss: [[0.004]] W1_grad [-0. -0. -0. -0. -0. -0.] W2_grad [-0. -0. -0.] b1_grad [-0. -0. -0.] b2_grad [0.01]\n",
            "Epoch: 541 loss: [[0.0039]] W1_grad [-0. -0. -0. -0. -0. -0.] W2_grad [-0. -0. -0.] b1_grad [-0. -0. -0.] b2_grad [0.01]\n",
            "Epoch: 551 loss: [[0.0038]] W1_grad [-0. -0. -0. -0. -0. -0.] W2_grad [-0. -0. -0.] b1_grad [-0. -0. -0.] b2_grad [0.01]\n",
            "Epoch: 561 loss: [[0.0036]] W1_grad [-0. -0. -0. -0. -0. -0.] W2_grad [-0. -0. -0.] b1_grad [-0. -0. -0.] b2_grad [0.]\n",
            "Epoch: 571 loss: [[0.0036]] W1_grad [-0. -0. -0. -0. -0. -0.] W2_grad [-0. -0. -0.] b1_grad [-0. -0. -0.] b2_grad [0.]\n",
            "Epoch: 581 loss: [[0.0035]] W1_grad [-0. -0. -0. -0. -0. -0.] W2_grad [-0. -0. -0.] b1_grad [-0. -0. -0.] b2_grad [0.]\n",
            "Epoch: 591 loss: [[0.0034]] W1_grad [-0. -0. -0. -0. -0. -0.] W2_grad [-0. -0. -0.] b1_grad [-0. -0. -0.] b2_grad [0.]\n",
            "Epoch: 601 loss: [[0.0033]] W1_grad [-0. -0. -0. -0. -0. -0.] W2_grad [-0. -0. -0.] b1_grad [-0. -0. -0.] b2_grad [0.]\n",
            "Epoch: 611 loss: [[0.0032]] W1_grad [-0. -0. -0. -0. -0. -0.] W2_grad [-0. -0. -0.] b1_grad [-0. -0. -0.] b2_grad [0.]\n",
            "Epoch: 621 loss: [[0.0032]] W1_grad [-0.   -0.   -0.   -0.    0.    0.03] W2_grad [-0. -0. -0.] b1_grad [-0.   -0.    0.01] b2_grad [0.]\n",
            "Epoch: 631 loss: [[0.0031]] W1_grad [-0. -0. -0. -0. -0. -0.] W2_grad [-0. -0. -0.] b1_grad [-0. -0. -0.] b2_grad [0.]\n",
            "Epoch: 641 loss: [[0.003]] W1_grad [ 0.    0.02 -0.   -0.   -0.   -0.  ] W2_grad [-0. -0. -0.] b1_grad [ 0.01 -0.   -0.  ] b2_grad [0.]\n",
            "Epoch: 651 loss: [[0.0029]] W1_grad [-0. -0. -0. -0. -0. -0.] W2_grad [-0. -0. -0.] b1_grad [-0. -0. -0.] b2_grad [0.]\n",
            "Epoch: 661 loss: [[0.0029]] W1_grad [-0. -0. -0. -0. -0. -0.] W2_grad [-0. -0. -0.] b1_grad [-0. -0. -0.] b2_grad [0.]\n",
            "Epoch: 671 loss: [[0.0028]] W1_grad [-0. -0. -0. -0. -0. -0.] W2_grad [-0. -0. -0.] b1_grad [-0. -0. -0.] b2_grad [0.]\n",
            "Epoch: 681 loss: [[0.0028]] W1_grad [ 0.    0.02 -0.   -0.   -0.   -0.  ] W2_grad [-0. -0. -0.] b1_grad [ 0.01 -0.   -0.  ] b2_grad [0.]\n",
            "Epoch: 691 loss: [[0.0027]] W1_grad [-0.   -0.   -0.   -0.    0.    0.02] W2_grad [-0. -0. -0.] b1_grad [-0.   -0.    0.01] b2_grad [0.]\n",
            "Epoch: 701 loss: [[0.0027]] W1_grad [-0. -0. -0. -0. -0. -0.] W2_grad [-0. -0. -0.] b1_grad [-0. -0. -0.] b2_grad [0.]\n",
            "Epoch: 711 loss: [[0.0026]] W1_grad [-0.   -0.    0.    0.02 -0.   -0.  ] W2_grad [-0. -0. -0.] b1_grad [-0.    0.01 -0.  ] b2_grad [0.]\n",
            "Epoch: 721 loss: [[0.0026]] W1_grad [-0. -0. -0. -0. -0. -0.] W2_grad [-0. -0. -0.] b1_grad [-0. -0. -0.] b2_grad [0.]\n",
            "Epoch: 731 loss: [[0.0025]] W1_grad [-0. -0. -0. -0. -0. -0.] W2_grad [-0. -0. -0.] b1_grad [-0. -0. -0.] b2_grad [0.]\n",
            "Epoch: 741 loss: [[0.0025]] W1_grad [-0. -0. -0. -0. -0. -0.] W2_grad [-0. -0. -0.] b1_grad [-0. -0. -0.] b2_grad [0.]\n",
            "Epoch: 751 loss: [[0.0024]] W1_grad [-0. -0. -0. -0. -0. -0.] W2_grad [-0. -0. -0.] b1_grad [-0. -0. -0.] b2_grad [0.]\n",
            "Epoch: 761 loss: [[0.0024]] W1_grad [-0. -0. -0. -0. -0. -0.] W2_grad [-0. -0. -0.] b1_grad [-0. -0. -0.] b2_grad [0.]\n",
            "Epoch: 771 loss: [[0.0023]] W1_grad [ 0.    0.02 -0.   -0.   -0.   -0.  ] W2_grad [-0. -0. -0.] b1_grad [ 0.01 -0.   -0.  ] b2_grad [0.]\n",
            "Epoch: 781 loss: [[0.0023]] W1_grad [-0.   -0.    0.    0.02 -0.   -0.  ] W2_grad [-0. -0. -0.] b1_grad [-0.    0.01 -0.  ] b2_grad [0.]\n",
            "Epoch: 791 loss: [[0.0023]] W1_grad [-0.   -0.    0.    0.02  0.    0.02] W2_grad [-0. -0. -0.] b1_grad [-0.    0.01  0.01] b2_grad [0.]\n",
            "Epoch: 801 loss: [[0.0022]] W1_grad [-0. -0. -0. -0. -0. -0.] W2_grad [-0. -0. -0.] b1_grad [-0. -0. -0.] b2_grad [0.]\n",
            "Epoch: 811 loss: [[0.0022]] W1_grad [-0. -0. -0. -0. -0. -0.] W2_grad [-0. -0. -0.] b1_grad [-0. -0. -0.] b2_grad [0.]\n",
            "Epoch: 821 loss: [[0.0021]] W1_grad [-0. -0. -0. -0. -0. -0.] W2_grad [-0. -0. -0.] b1_grad [-0. -0. -0.] b2_grad [0.]\n",
            "Epoch: 831 loss: [[0.0021]] W1_grad [-0. -0. -0. -0. -0. -0.] W2_grad [-0. -0. -0.] b1_grad [-0. -0. -0.] b2_grad [0.]\n",
            "Epoch: 841 loss: [[0.0021]] W1_grad [ 0.    0.01 -0.   -0.   -0.   -0.  ] W2_grad [-0. -0. -0.] b1_grad [ 0.01 -0.   -0.  ] b2_grad [0.]\n",
            "Epoch: 851 loss: [[0.002]] W1_grad [-0. -0. -0. -0. -0. -0.] W2_grad [-0. -0. -0.] b1_grad [-0. -0. -0.] b2_grad [0.]\n",
            "Epoch: 861 loss: [[0.002]] W1_grad [-0. -0. -0. -0. -0. -0.] W2_grad [-0. -0. -0.] b1_grad [-0. -0. -0.] b2_grad [0.]\n",
            "Epoch: 871 loss: [[0.002]] W1_grad [-0. -0. -0. -0. -0. -0.] W2_grad [-0. -0. -0.] b1_grad [-0. -0. -0.] b2_grad [0.]\n",
            "Epoch: 881 loss: [[0.0019]] W1_grad [-0. -0. -0. -0. -0. -0.] W2_grad [-0. -0. -0.] b1_grad [-0. -0. -0.] b2_grad [0.]\n",
            "Epoch: 891 loss: [[0.0019]] W1_grad [-0. -0. -0. -0. -0. -0.] W2_grad [-0. -0. -0.] b1_grad [-0. -0. -0.] b2_grad [0.]\n",
            "Epoch: 901 loss: [[0.0019]] W1_grad [-0. -0. -0. -0. -0. -0.] W2_grad [-0. -0. -0.] b1_grad [-0. -0. -0.] b2_grad [0.]\n",
            "Epoch: 911 loss: [[0.0019]] W1_grad [-0. -0. -0. -0. -0. -0.] W2_grad [-0. -0. -0.] b1_grad [-0. -0. -0.] b2_grad [0.]\n",
            "Epoch: 921 loss: [[0.0018]] W1_grad [-0.   -0.    0.    0.02 -0.   -0.  ] W2_grad [-0. -0. -0.] b1_grad [-0.    0.01 -0.  ] b2_grad [0.]\n",
            "Epoch: 931 loss: [[0.0018]] W1_grad [-0. -0. -0. -0. -0. -0.] W2_grad [-0. -0. -0.] b1_grad [-0. -0. -0.] b2_grad [0.]\n",
            "Epoch: 941 loss: [[0.0018]] W1_grad [-0. -0. -0. -0. -0. -0.] W2_grad [-0. -0. -0.] b1_grad [-0. -0. -0.] b2_grad [0.]\n",
            "Epoch: 951 loss: [[0.0018]] W1_grad [-0.   -0.    0.    0.02 -0.   -0.  ] W2_grad [-0. -0. -0.] b1_grad [-0.    0.01 -0.  ] b2_grad [0.]\n",
            "Epoch: 961 loss: [[0.0017]] W1_grad [-0. -0. -0. -0. -0. -0.] W2_grad [-0. -0. -0.] b1_grad [-0. -0. -0.] b2_grad [0.]\n",
            "Epoch: 971 loss: [[0.0017]] W1_grad [-0. -0. -0. -0. -0. -0.] W2_grad [-0. -0. -0.] b1_grad [-0. -0. -0.] b2_grad [0.]\n",
            "Epoch: 981 loss: [[0.0017]] W1_grad [-0. -0. -0. -0. -0. -0.] W2_grad [-0. -0. -0.] b1_grad [-0. -0. -0.] b2_grad [0.]\n",
            "Epoch: 991 loss: [[0.0017]] W1_grad [-0. -0. -0. -0. -0. -0.] W2_grad [-0. -0. -0.] b1_grad [-0. -0. -0.] b2_grad [0.]\n"
          ]
        },
        {
          "output_type": "display_data",
          "data": {
            "text/plain": [
              "<Figure size 640x480 with 1 Axes>"
            ],
            "image/png": "[encoded data removed]"
          },
          "metadata": {}
        }
      ],
      "source": [
        "X = np.array([[0.5, 0.3],\n",
        "        [0.8, 0.6],\n",
        "        [0.2, 0.9]])  # shape: (3, 2)\n",
        "\n",
        "y_true = np.array([[1], [1], [0]])  # shape: (3, 1)\n",
        "\n",
        "W1 = np.array([[0.1, 0.2],\n",
        "        [0.3, 0.4],\n",
        "        [0.5, 0.6]])  # shape: (3, 2)\n",
        "\n",
        "b1 = np.array([[0.1],\n",
        "        [0.2],\n",
        "        [0.3]])    # shape: (3, 1)\n",
        "\n",
        "W2 = np.array([[0.7, 0.8, 0.9]])  # shape: (1, 3)\n",
        "b2 = np.array([[0.4]])         # shape: (1, 1)\n",
        "\n",
        "learning_rate = 0.3\n",
        "\n",
        "epochs = 1000\n",
        "losses = []\n",
        "\n",
        "for epoch in range(epochs):\n",
        "  Z, H, y_pred = forward(W1, W2, b1, b2, X)\n",
        "  loss = compute_loss(y_pred, y_true)\n",
        "  losses.append(loss.flatten().mean())\n",
        "\n",
        "  W1_grad, W2_grad, b1_grad, b2_grad = backward(y_pred, y_true, W2, H, Z, X)\n",
        "  W1, W2, b1, b2 = update_params(W1, W2, b1, b2, W1_grad, W2_grad, b1_grad, b2_grad, learning_rate)\n",
        "\n",
        "  if epoch%10 == 0 :\n",
        "    print(\"Epoch:\", epoch + 1,\n",
        "      \"loss:\", np.round(loss.mean(axis=0, keepdims=True), 4),\n",
        "      \"W1_grad\", np.round(W1_grad.flatten(), 2),\n",
        "      \"W2_grad\", np.round(W2_grad.flatten(), 2),\n",
        "      \"b1_grad\", np.round(b1_grad.flatten(), 2),\n",
        "      \"b2_grad\", np.round(b2_grad.flatten(), 2)\n",
        "      )\n",
        "\n",
        "plt.plot(range(epochs), losses, \"yellow\")\n",
        "plt.xlabel(\"epoch axis\")\n",
        "plt.ylabel(\"loss axis\")\n",
        "plt.show()"
      ]
    },
    {
      "cell_type": "code",
      "source": [
        "#pytorch计算前向传播\n",
        "def th_forward(W1, W2, b1, b2, X):\n",
        "  Z = torch.matmul(X, W1.t()) + b1 #torch size(3,3)\n",
        "  H = torch.relu(Z)\n",
        "\n",
        "  Zout = torch.matmul(H, W2.t()) + b2 #torch size(3,1)\n",
        "  y_pred = torch.sigmoid(Zout) #torch size(3,1)\n",
        "  return y_pred"
      ],
      "metadata": {
        "id": "iYZVMV1fugRj"
      },
      "execution_count": 42,
      "outputs": []
    },
    {
      "cell_type": "code",
      "source": [
        "#计算loss函数\n",
        "def compute_loss(y_pred, y_true):\n",
        "  loss = (y_pred- y_true)**2/2\n",
        "  return loss"
      ],
      "metadata": {
        "id": "5ZIu1M1iwgSn"
      },
      "execution_count": 43,
      "outputs": []
    },
    {
      "cell_type": "code",
      "source": [
        "#参数pytorch参数初始化\n",
        "X = torch.tensor([[0.5, 0.3],\n",
        "        [0.8, 0.6],\n",
        "        [0.2, 0.9]])  # shape: (3, 2)\n",
        "\n",
        "y_true = torch.tensor([[1], [1], [0]])  # shape: (3, 1)\n",
        "\n",
        "W1 = torch.tensor([[0.1, 0.2],\n",
        "        [0.3, 0.4],\n",
        "        [0.5, 0.6]],requires_grad=True)  # shape: (3, 2)\n",
        "\n",
        "b1 = torch.tensor([[0.1],\n",
        "        [0.2],\n",
        "        [0.3]],requires_grad=True)    # shape: (3, 1)\n",
        "\n",
        "W2 = torch.tensor([[0.7, 0.8, 0.9]],requires_grad=True)  # shape: (1, 3)\n",
        "b2 = torch.tensor([[0.4]],requires_grad=True)         # shape: (1, 1)\n",
        "\n",
        "learning_rate = 0.3\n",
        "\n",
        "losses = []\n",
        "epochs = 1000\n",
        "\n",
        "for epoch in range(epochs):\n",
        "  y_pred = th_forward(W1, W2, b1, b2, X)\n",
        "\n",
        "  loss = compute_loss(y_pred, y_true)\n",
        "  losses.append(loss.flatten().mean().item())\n",
        "\n",
        "  if W1.grad is not None:\n",
        "    W1.grad.zero_()\n",
        "    W2.grad.zero_()\n",
        "    b1.grad.zero_()\n",
        "    b2.grad.zero_()\n",
        "\n",
        "  loss.flatten().mean().backward()\n",
        "\n",
        "  #更新参数params\n",
        "  with torch.no_grad():\n",
        "    W1 -= learning_rate * W1.grad\n",
        "    W2 -= learning_rate * W2.grad\n",
        "    b1 -= learning_rate * b1.grad\n",
        "    b2 -= learning_rate * b2.grad\n",
        "\n",
        "  if epoch%10 == 0 :\n",
        "    print(f\"Epoch:, {epoch + 1}\",\n",
        "      f\"loss:, {loss.flatten().mean().item():.4f}\",\n",
        "      f\"W1_grad, {W1.grad.flatten().numpy().round(2)}\",\n",
        "      f\"W2_grad, {W2.grad.flatten().numpy().round(2)}\",\n",
        "      f\"b1_grad, {b1.grad.flatten().numpy().round(2)}\",\n",
        "      f\"b2_grad, {b2.grad.flatten().numpy().round(2)}\"\n",
        "      )\n",
        "\n",
        "plt.plot(range(epochs), losses, \"blue\")\n",
        "plt.xlabel(\"epoch axis\")\n",
        "plt.ylabel(\"loss axis\")\n",
        "plt.show()\n",
        ""
      ],
      "metadata": {
        "colab": {
          "base_uri": "https://localhost:8080/",
          "height": 1000
        },
        "id": "gpW9JydGwx8k",
        "outputId": "2ce6fbeb-c67b-4ff5-e728-fec7b25d1c95"
      },
      "execution_count": 67,
      "outputs": [
        {
          "output_type": "stream",
          "name": "stdout",
          "text": [
            "Epoch:, 1 loss:, 0.1437 W1_grad, [-0.    0.01 -0.    0.02 -0.    0.02] W2_grad, [0.01 0.01 0.02] b1_grad, [-0.03 -0.01  0.07] b2_grad, [0.01]\n",
            "Epoch:, 11 loss:, 0.1197 W1_grad, [-0.    0.02 -0.    0.02 -0.    0.02] W2_grad, [0.01 0.01 0.02] b1_grad, [-0.03 -0.01  0.09] b2_grad, [0.02]\n",
            "Epoch:, 21 loss:, 0.1024 W1_grad, [-0.    0.02 -0.    0.02 -0.    0.02] W2_grad, [0.   0.   0.01] b1_grad, [-0.03 -0.02  0.09] b2_grad, [0.02]\n",
            "Epoch:, 31 loss:, 0.0917 W1_grad, [-0.    0.02 -0.    0.02 -0.    0.02] W2_grad, [-0.  0.  0.] b1_grad, [-0.03 -0.02  0.09] b2_grad, [0.02]\n",
            "Epoch:, 41 loss:, 0.0834 W1_grad, [-0.    0.02 -0.    0.02 -0.    0.02] W2_grad, [-0. -0. -0.] b1_grad, [-0.03 -0.02  0.09] b2_grad, [0.03]\n",
            "Epoch:, 51 loss:, 0.0761 W1_grad, [-0.    0.02 -0.    0.02 -0.    0.02] W2_grad, [-0.01 -0.   -0.  ] b1_grad, [-0.02 -0.01  0.1 ] b2_grad, [0.03]\n",
            "Epoch:, 61 loss:, 0.0698 W1_grad, [0.   0.03 0.   0.03 0.   0.02] W2_grad, [-0.01 -0.   -0.  ] b1_grad, [-0.02 -0.01  0.1 ] b2_grad, [0.03]\n",
            "Epoch:, 71 loss:, 0.0646 W1_grad, [0.   0.03 0.   0.03 0.   0.02] W2_grad, [-0. -0. -0.] b1_grad, [-0.01 -0.01  0.1 ] b2_grad, [0.04]\n",
            "Epoch:, 81 loss:, 0.0606 W1_grad, [0.   0.03 0.   0.03 0.   0.03] W2_grad, [-0. -0. -0.] b1_grad, [-0.01 -0.01  0.1 ] b2_grad, [0.04]\n",
            "Epoch:, 91 loss:, 0.0574 W1_grad, [0.   0.03 0.   0.03 0.   0.03] W2_grad, [-0. -0. -0.] b1_grad, [-0.01 -0.01  0.1 ] b2_grad, [0.04]\n",
            "Epoch:, 101 loss:, 0.0550 W1_grad, [0.   0.03 0.   0.03 0.   0.03] W2_grad, [-0. -0.  0.] b1_grad, [-0.01 -0.01  0.1 ] b2_grad, [0.04]\n",
            "Epoch:, 111 loss:, 0.0531 W1_grad, [0.   0.03 0.   0.03 0.   0.03] W2_grad, [-0. -0.  0.] b1_grad, [-0.01 -0.01  0.1 ] b2_grad, [0.04]\n",
            "Epoch:, 121 loss:, 0.0516 W1_grad, [0.01 0.03 0.   0.03 0.   0.03] W2_grad, [-0. -0.  0.] b1_grad, [-0.   -0.01  0.1 ] b2_grad, [0.04]\n",
            "Epoch:, 131 loss:, 0.0504 W1_grad, [0.01 0.04 0.01 0.03 0.   0.03] W2_grad, [-0. -0.  0.] b1_grad, [-0.  -0.   0.1] b2_grad, [0.04]\n",
            "Epoch:, 141 loss:, 0.0495 W1_grad, [0.01 0.04 0.01 0.03 0.   0.03] W2_grad, [-0. -0.  0.] b1_grad, [-0.   -0.    0.11] b2_grad, [0.04]\n",
            "Epoch:, 151 loss:, 0.0487 W1_grad, [0.01 0.04 0.01 0.03 0.   0.02] W2_grad, [-0. -0.  0.] b1_grad, [-0.   -0.    0.11] b2_grad, [0.04]\n",
            "Epoch:, 161 loss:, 0.0481 W1_grad, [0.01 0.04 0.01 0.03 0.   0.02] W2_grad, [-0. -0.  0.] b1_grad, [-0.   -0.    0.11] b2_grad, [0.04]\n",
            "Epoch:, 171 loss:, 0.0475 W1_grad, [0.01 0.04 0.01 0.03 0.   0.02] W2_grad, [-0. -0.  0.] b1_grad, [-0.   -0.    0.11] b2_grad, [0.04]\n",
            "Epoch:, 181 loss:, 0.0470 W1_grad, [0.01 0.04 0.01 0.03 0.   0.02] W2_grad, [-0. -0.  0.] b1_grad, [-0.   -0.    0.11] b2_grad, [0.04]\n",
            "Epoch:, 191 loss:, 0.0466 W1_grad, [0.01 0.04 0.01 0.03 0.   0.02] W2_grad, [-0. -0.  0.] b1_grad, [-0.   -0.    0.11] b2_grad, [0.04]\n",
            "Epoch:, 201 loss:, 0.0463 W1_grad, [0.01 0.04 0.01 0.03 0.   0.02] W2_grad, [-0. -0.  0.] b1_grad, [-0.   -0.    0.11] b2_grad, [0.04]\n",
            "Epoch:, 211 loss:, 0.0459 W1_grad, [0.01 0.04 0.01 0.03 0.   0.02] W2_grad, [-0. -0.  0.] b1_grad, [-0.   -0.    0.11] b2_grad, [0.04]\n",
            "Epoch:, 221 loss:, 0.0456 W1_grad, [0.01 0.04 0.01 0.03 0.   0.02] W2_grad, [-0. -0.  0.] b1_grad, [-0.   -0.    0.11] b2_grad, [0.04]\n",
            "Epoch:, 231 loss:, 0.0454 W1_grad, [0.01 0.04 0.01 0.03 0.   0.02] W2_grad, [-0. -0.  0.] b1_grad, [-0.   -0.    0.11] b2_grad, [0.04]\n",
            "Epoch:, 241 loss:, 0.0451 W1_grad, [0.01 0.04 0.01 0.03 0.   0.02] W2_grad, [-0. -0.  0.] b1_grad, [-0.   -0.    0.11] b2_grad, [0.04]\n",
            "Epoch:, 251 loss:, 0.0449 W1_grad, [0.01 0.04 0.01 0.03 0.   0.02] W2_grad, [-0. -0.  0.] b1_grad, [-0.   -0.    0.11] b2_grad, [0.04]\n",
            "Epoch:, 261 loss:, 0.0447 W1_grad, [0.01 0.04 0.01 0.03 0.   0.02] W2_grad, [-0. -0.  0.] b1_grad, [-0.   -0.    0.11] b2_grad, [0.04]\n",
            "Epoch:, 271 loss:, 0.0445 W1_grad, [0.01 0.04 0.01 0.03 0.   0.02] W2_grad, [-0. -0.  0.] b1_grad, [-0.   -0.    0.11] b2_grad, [0.04]\n",
            "Epoch:, 281 loss:, 0.0443 W1_grad, [0.01 0.04 0.01 0.03 0.   0.02] W2_grad, [-0. -0.  0.] b1_grad, [-0.   -0.    0.11] b2_grad, [0.04]\n",
            "Epoch:, 291 loss:, 0.0442 W1_grad, [0.01 0.04 0.01 0.03 0.   0.02] W2_grad, [-0. -0.  0.] b1_grad, [-0.   -0.    0.11] b2_grad, [0.04]\n",
            "Epoch:, 301 loss:, 0.0440 W1_grad, [0.01 0.04 0.01 0.03 0.   0.02] W2_grad, [-0. -0.  0.] b1_grad, [-0.   -0.    0.11] b2_grad, [0.04]\n",
            "Epoch:, 311 loss:, 0.0439 W1_grad, [0.01 0.04 0.01 0.03 0.   0.02] W2_grad, [-0. -0.  0.] b1_grad, [-0.   -0.    0.11] b2_grad, [0.04]\n",
            "Epoch:, 321 loss:, 0.0438 W1_grad, [0.01 0.04 0.01 0.03 0.   0.02] W2_grad, [-0. -0.  0.] b1_grad, [-0.   -0.    0.11] b2_grad, [0.04]\n",
            "Epoch:, 331 loss:, 0.0436 W1_grad, [0.01 0.04 0.01 0.03 0.   0.02] W2_grad, [-0. -0.  0.] b1_grad, [-0.   -0.    0.11] b2_grad, [0.04]\n",
            "Epoch:, 341 loss:, 0.0435 W1_grad, [0.01 0.04 0.01 0.03 0.   0.02] W2_grad, [-0. -0.  0.] b1_grad, [-0.   -0.    0.11] b2_grad, [0.04]\n",
            "Epoch:, 351 loss:, 0.0434 W1_grad, [0.01 0.04 0.01 0.03 0.   0.02] W2_grad, [-0. -0.  0.] b1_grad, [-0.   -0.    0.11] b2_grad, [0.04]\n",
            "Epoch:, 361 loss:, 0.0433 W1_grad, [0.01 0.05 0.01 0.03 0.   0.02] W2_grad, [-0. -0.  0.] b1_grad, [-0.   -0.    0.11] b2_grad, [0.04]\n",
            "Epoch:, 371 loss:, 0.0432 W1_grad, [0.01 0.05 0.01 0.03 0.   0.02] W2_grad, [-0. -0.  0.] b1_grad, [-0.   -0.    0.11] b2_grad, [0.04]\n",
            "Epoch:, 381 loss:, 0.0431 W1_grad, [0.01 0.05 0.01 0.03 0.   0.02] W2_grad, [-0. -0.  0.] b1_grad, [-0.   -0.    0.11] b2_grad, [0.04]\n",
            "Epoch:, 391 loss:, 0.0430 W1_grad, [0.01 0.05 0.01 0.03 0.   0.02] W2_grad, [-0. -0.  0.] b1_grad, [-0.   -0.    0.11] b2_grad, [0.04]\n",
            "Epoch:, 401 loss:, 0.0430 W1_grad, [0.01 0.05 0.01 0.03 0.   0.02] W2_grad, [-0. -0.  0.] b1_grad, [-0.   -0.    0.11] b2_grad, [0.04]\n",
            "Epoch:, 411 loss:, 0.0429 W1_grad, [0.01 0.05 0.01 0.03 0.   0.02] W2_grad, [-0. -0.  0.] b1_grad, [-0.   -0.    0.11] b2_grad, [0.04]\n",
            "Epoch:, 421 loss:, 0.0428 W1_grad, [0.01 0.05 0.01 0.03 0.   0.02] W2_grad, [-0. -0.  0.] b1_grad, [-0.   -0.    0.11] b2_grad, [0.04]\n",
            "Epoch:, 431 loss:, 0.0428 W1_grad, [0.01 0.05 0.01 0.03 0.   0.02] W2_grad, [-0. -0.  0.] b1_grad, [-0.   -0.    0.11] b2_grad, [0.04]\n",
            "Epoch:, 441 loss:, 0.0427 W1_grad, [0.01 0.05 0.01 0.03 0.   0.02] W2_grad, [-0. -0.  0.] b1_grad, [-0.   -0.    0.11] b2_grad, [0.04]\n",
            "Epoch:, 451 loss:, 0.0427 W1_grad, [0.01 0.05 0.01 0.03 0.   0.02] W2_grad, [-0. -0.  0.] b1_grad, [-0.   -0.    0.11] b2_grad, [0.04]\n",
            "Epoch:, 461 loss:, 0.0426 W1_grad, [0.01 0.05 0.01 0.03 0.   0.02] W2_grad, [-0. -0.  0.] b1_grad, [-0.   -0.    0.11] b2_grad, [0.04]\n",
            "Epoch:, 471 loss:, 0.0426 W1_grad, [0.01 0.05 0.01 0.03 0.   0.02] W2_grad, [-0. -0.  0.] b1_grad, [-0.   -0.    0.11] b2_grad, [0.04]\n",
            "Epoch:, 481 loss:, 0.0425 W1_grad, [0.01 0.05 0.01 0.03 0.   0.02] W2_grad, [-0. -0.  0.] b1_grad, [-0.   -0.    0.11] b2_grad, [0.04]\n",
            "Epoch:, 491 loss:, 0.0425 W1_grad, [0.01 0.05 0.01 0.03 0.   0.02] W2_grad, [-0. -0.  0.] b1_grad, [-0.   -0.    0.11] b2_grad, [0.04]\n",
            "Epoch:, 501 loss:, 0.0424 W1_grad, [0.01 0.05 0.01 0.03 0.   0.02] W2_grad, [-0. -0.  0.] b1_grad, [-0.   -0.    0.11] b2_grad, [0.04]\n",
            "Epoch:, 511 loss:, 0.0424 W1_grad, [0.01 0.05 0.01 0.03 0.   0.02] W2_grad, [-0. -0.  0.] b1_grad, [-0.   -0.    0.11] b2_grad, [0.04]\n",
            "Epoch:, 521 loss:, 0.0423 W1_grad, [0.01 0.05 0.01 0.03 0.   0.02] W2_grad, [-0. -0.  0.] b1_grad, [-0.   -0.    0.11] b2_grad, [0.04]\n",
            "Epoch:, 531 loss:, 0.0423 W1_grad, [0.01 0.05 0.01 0.03 0.   0.02] W2_grad, [-0. -0.  0.] b1_grad, [-0.   -0.    0.11] b2_grad, [0.04]\n",
            "Epoch:, 541 loss:, 0.0423 W1_grad, [0.01 0.05 0.01 0.03 0.   0.02] W2_grad, [-0. -0.  0.] b1_grad, [-0.   -0.    0.11] b2_grad, [0.04]\n",
            "Epoch:, 551 loss:, 0.0423 W1_grad, [0.01 0.05 0.01 0.03 0.   0.02] W2_grad, [-0. -0.  0.] b1_grad, [-0.   -0.    0.11] b2_grad, [0.04]\n",
            "Epoch:, 561 loss:, 0.0422 W1_grad, [0.01 0.05 0.01 0.03 0.   0.02] W2_grad, [-0. -0.  0.] b1_grad, [-0.   -0.    0.11] b2_grad, [0.04]\n",
            "Epoch:, 571 loss:, 0.0422 W1_grad, [0.01 0.05 0.01 0.03 0.   0.02] W2_grad, [-0. -0.  0.] b1_grad, [-0.   -0.    0.11] b2_grad, [0.04]\n",
            "Epoch:, 581 loss:, 0.0422 W1_grad, [0.01 0.05 0.01 0.03 0.   0.02] W2_grad, [-0. -0.  0.] b1_grad, [-0.   -0.    0.11] b2_grad, [0.04]\n",
            "Epoch:, 591 loss:, 0.0421 W1_grad, [0.01 0.05 0.01 0.03 0.   0.02] W2_grad, [-0. -0.  0.] b1_grad, [-0.   -0.    0.11] b2_grad, [0.04]\n",
            "Epoch:, 601 loss:, 0.0421 W1_grad, [0.01 0.05 0.01 0.03 0.   0.02] W2_grad, [-0. -0.  0.] b1_grad, [-0.   -0.    0.11] b2_grad, [0.04]\n",
            "Epoch:, 611 loss:, 0.0421 W1_grad, [0.01 0.05 0.01 0.03 0.   0.02] W2_grad, [-0. -0.  0.] b1_grad, [-0.   -0.    0.11] b2_grad, [0.04]\n",
            "Epoch:, 621 loss:, 0.0421 W1_grad, [0.01 0.05 0.01 0.03 0.   0.02] W2_grad, [-0. -0.  0.] b1_grad, [-0.   -0.    0.11] b2_grad, [0.04]\n",
            "Epoch:, 631 loss:, 0.0421 W1_grad, [0.01 0.05 0.01 0.03 0.   0.02] W2_grad, [-0. -0.  0.] b1_grad, [-0.   -0.    0.11] b2_grad, [0.04]\n",
            "Epoch:, 641 loss:, 0.0420 W1_grad, [0.01 0.05 0.01 0.03 0.   0.02] W2_grad, [-0. -0.  0.] b1_grad, [-0.   -0.    0.11] b2_grad, [0.04]\n",
            "Epoch:, 651 loss:, 0.0420 W1_grad, [0.01 0.05 0.01 0.03 0.   0.02] W2_grad, [-0. -0.  0.] b1_grad, [-0.   -0.    0.11] b2_grad, [0.04]\n",
            "Epoch:, 661 loss:, 0.0420 W1_grad, [0.01 0.05 0.01 0.03 0.   0.02] W2_grad, [-0. -0.  0.] b1_grad, [-0.   -0.    0.11] b2_grad, [0.04]\n",
            "Epoch:, 671 loss:, 0.0420 W1_grad, [0.01 0.05 0.01 0.03 0.   0.02] W2_grad, [-0. -0.  0.] b1_grad, [-0.   -0.    0.11] b2_grad, [0.04]\n",
            "Epoch:, 681 loss:, 0.0420 W1_grad, [0.01 0.05 0.01 0.03 0.   0.02] W2_grad, [-0. -0.  0.] b1_grad, [-0.   -0.    0.11] b2_grad, [0.04]\n",
            "Epoch:, 691 loss:, 0.0420 W1_grad, [0.01 0.05 0.01 0.03 0.   0.02] W2_grad, [-0. -0.  0.] b1_grad, [-0.   -0.    0.11] b2_grad, [0.04]\n",
            "Epoch:, 701 loss:, 0.0420 W1_grad, [0.01 0.05 0.01 0.03 0.   0.02] W2_grad, [-0. -0.  0.] b1_grad, [-0.   -0.    0.12] b2_grad, [0.04]\n",
            "Epoch:, 711 loss:, 0.0419 W1_grad, [0.01 0.05 0.01 0.03 0.   0.02] W2_grad, [-0. -0.  0.] b1_grad, [-0.   -0.    0.12] b2_grad, [0.04]\n",
            "Epoch:, 721 loss:, 0.0419 W1_grad, [0.01 0.05 0.01 0.03 0.   0.02] W2_grad, [-0. -0.  0.] b1_grad, [-0.   -0.    0.12] b2_grad, [0.04]\n",
            "Epoch:, 731 loss:, 0.0419 W1_grad, [0.01 0.05 0.01 0.03 0.   0.02] W2_grad, [-0. -0.  0.] b1_grad, [-0.   -0.    0.12] b2_grad, [0.04]\n",
            "Epoch:, 741 loss:, 0.0419 W1_grad, [0.01 0.05 0.01 0.03 0.   0.02] W2_grad, [-0. -0.  0.] b1_grad, [-0.   -0.    0.12] b2_grad, [0.04]\n",
            "Epoch:, 751 loss:, 0.0419 W1_grad, [0.01 0.05 0.01 0.03 0.   0.02] W2_grad, [-0. -0.  0.] b1_grad, [-0.   -0.    0.12] b2_grad, [0.04]\n",
            "Epoch:, 761 loss:, 0.0419 W1_grad, [0.01 0.05 0.01 0.03 0.   0.02] W2_grad, [-0. -0.  0.] b1_grad, [-0.   -0.    0.12] b2_grad, [0.04]\n",
            "Epoch:, 771 loss:, 0.0419 W1_grad, [0.01 0.05 0.01 0.03 0.   0.02] W2_grad, [-0. -0.  0.] b1_grad, [-0.   -0.    0.12] b2_grad, [0.04]\n",
            "Epoch:, 781 loss:, 0.0419 W1_grad, [0.01 0.05 0.01 0.03 0.   0.02] W2_grad, [-0. -0.  0.] b1_grad, [-0.   -0.    0.12] b2_grad, [0.04]\n",
            "Epoch:, 791 loss:, 0.0419 W1_grad, [0.01 0.05 0.01 0.03 0.   0.02] W2_grad, [-0. -0.  0.] b1_grad, [-0.   -0.    0.12] b2_grad, [0.04]\n",
            "Epoch:, 801 loss:, 0.0419 W1_grad, [0.01 0.05 0.01 0.03 0.   0.02] W2_grad, [-0. -0.  0.] b1_grad, [-0.   -0.    0.12] b2_grad, [0.04]\n",
            "Epoch:, 811 loss:, 0.0419 W1_grad, [0.01 0.05 0.01 0.03 0.   0.02] W2_grad, [-0. -0.  0.] b1_grad, [-0.   -0.    0.12] b2_grad, [0.04]\n",
            "Epoch:, 821 loss:, 0.0418 W1_grad, [0.01 0.05 0.01 0.03 0.   0.02] W2_grad, [-0. -0.  0.] b1_grad, [-0.   -0.    0.12] b2_grad, [0.04]\n",
            "Epoch:, 831 loss:, 0.0418 W1_grad, [0.01 0.05 0.01 0.03 0.   0.02] W2_grad, [-0. -0.  0.] b1_grad, [-0.   -0.    0.12] b2_grad, [0.04]\n",
            "Epoch:, 841 loss:, 0.0418 W1_grad, [0.01 0.05 0.01 0.03 0.   0.02] W2_grad, [-0. -0.  0.] b1_grad, [-0.   -0.    0.12] b2_grad, [0.04]\n",
            "Epoch:, 851 loss:, 0.0418 W1_grad, [0.01 0.05 0.01 0.03 0.   0.02] W2_grad, [-0. -0.  0.] b1_grad, [-0.   -0.    0.12] b2_grad, [0.04]\n",
            "Epoch:, 861 loss:, 0.0418 W1_grad, [0.01 0.05 0.01 0.03 0.   0.02] W2_grad, [-0. -0.  0.] b1_grad, [-0.   -0.    0.12] b2_grad, [0.04]\n",
            "Epoch:, 871 loss:, 0.0418 W1_grad, [0.01 0.05 0.01 0.03 0.   0.02] W2_grad, [-0. -0.  0.] b1_grad, [-0.   -0.    0.12] b2_grad, [0.04]\n",
            "Epoch:, 881 loss:, 0.0418 W1_grad, [0.01 0.05 0.01 0.03 0.   0.02] W2_grad, [-0. -0.  0.] b1_grad, [-0.   -0.    0.12] b2_grad, [0.04]\n",
            "Epoch:, 891 loss:, 0.0418 W1_grad, [0.01 0.05 0.01 0.03 0.   0.02] W2_grad, [-0. -0.  0.] b1_grad, [-0.   -0.    0.12] b2_grad, [0.04]\n",
            "Epoch:, 901 loss:, 0.0418 W1_grad, [0.01 0.05 0.01 0.03 0.   0.02] W2_grad, [-0. -0.  0.] b1_grad, [-0.   -0.    0.12] b2_grad, [0.04]\n",
            "Epoch:, 911 loss:, 0.0418 W1_grad, [0.01 0.05 0.01 0.03 0.   0.02] W2_grad, [-0. -0.  0.] b1_grad, [-0.   -0.    0.12] b2_grad, [0.04]\n",
            "Epoch:, 921 loss:, 0.0418 W1_grad, [0.01 0.05 0.01 0.03 0.   0.02] W2_grad, [-0. -0. -0.] b1_grad, [-0.   -0.    0.12] b2_grad, [0.04]\n",
            "Epoch:, 931 loss:, 0.0418 W1_grad, [0.01 0.05 0.01 0.04 0.   0.02] W2_grad, [-0. -0. -0.] b1_grad, [-0.   -0.    0.12] b2_grad, [0.04]\n",
            "Epoch:, 941 loss:, 0.0418 W1_grad, [0.01 0.05 0.01 0.04 0.   0.02] W2_grad, [-0. -0. -0.] b1_grad, [-0.   -0.    0.12] b2_grad, [0.04]\n",
            "Epoch:, 951 loss:, 0.0418 W1_grad, [0.01 0.05 0.01 0.04 0.   0.02] W2_grad, [-0. -0. -0.] b1_grad, [-0.   -0.    0.12] b2_grad, [0.04]\n",
            "Epoch:, 961 loss:, 0.0418 W1_grad, [0.01 0.05 0.01 0.04 0.   0.02] W2_grad, [-0. -0. -0.] b1_grad, [-0.   -0.    0.12] b2_grad, [0.04]\n",
            "Epoch:, 971 loss:, 0.0418 W1_grad, [0.01 0.05 0.01 0.04 0.   0.02] W2_grad, [-0. -0. -0.] b1_grad, [-0.   -0.    0.12] b2_grad, [0.04]\n",
            "Epoch:, 981 loss:, 0.0418 W1_grad, [0.01 0.05 0.01 0.04 0.   0.02] W2_grad, [-0. -0. -0.] b1_grad, [-0.   -0.    0.12] b2_grad, [0.04]\n",
            "Epoch:, 991 loss:, 0.0418 W1_grad, [0.01 0.05 0.01 0.04 0.   0.02] W2_grad, [-0. -0. -0.] b1_grad, [-0.   -0.    0.12] b2_grad, [0.04]\n"
          ]
        },
        {
          "output_type": "display_data",
          "data": {
            "text/plain": [
              "<Figure size 640x480 with 1 Axes>"
            ],
            "image/png": "[encoded data removed]"
          },
          "metadata": {}
        }
      ]
    }
  ]
}