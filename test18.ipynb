{
  "nbformat": 4,
  "nbformat_minor": 0,
  "metadata": {
    "colab": {
      "provenance": [],
      "authorship_tag": "ABX9TyOZcTc3F7gZVk/pH2Zm6LB+"
    },
    "kernelspec": {
      "name": "python3",
      "display_name": "Python 3"
    },
    "language_info": {
      "name": "python"
    }
  },
  "cells": [
    {
      "cell_type": "code",
      "execution_count": 1,
      "metadata": {
        "id": "czWDrFzWzywz"
      },
      "outputs": [],
      "source": [
        "#设计一个用于二分类的小型神经网络，结构如下：\n",
        "\n",
        "#输入层：3个特征 (x₁, x₂, x₃)\n",
        "#隐藏层：2个神经元，使用 ReLU 激活函数\n",
        "#输出层：1个神经元，使用 Sigmoid 激活函数（二分类）"
      ]
    },
    {
      "cell_type": "code",
      "source": [
        "import numpy as np\n",
        "import matplotlib.pyplot as plt"
      ],
      "metadata": {
        "id": "J3FVVX_Vz2Be"
      },
      "execution_count": 3,
      "outputs": []
    },
    {
      "cell_type": "code",
      "source": [
        "#relu激活函数\n",
        "def relu(a):\n",
        "  return np.maximum(0, a)"
      ],
      "metadata": {
        "id": "BI0PGipS0wIf"
      },
      "execution_count": 6,
      "outputs": []
    },
    {
      "cell_type": "code",
      "source": [
        "#sigmoid激活函数\n",
        "def sigmoid(a):\n",
        "  return 1 / (1+np.exp(-a))"
      ],
      "metadata": {
        "id": "d37pu93e09kX"
      },
      "execution_count": 8,
      "outputs": []
    },
    {
      "cell_type": "code",
      "source": [
        "#前向传播,求输出y_pred\n",
        "def forward(W1, W2, b1, b2, X):\n",
        "  Z = np.dot(X, W1.T).T + b1 #shape(2,1)\n",
        "  H = relu(Z) #shape (2,1)\n",
        "\n",
        "  Zo = np.dot(W2, H) + b2 #shape (1,1)\n",
        "  y_pred = sigmoid(Zo) #shape (1,1)\n",
        "\n",
        "  return Z, H, Zo, y_pred"
      ],
      "metadata": {
        "id": "wW7Astan1K8P"
      },
      "execution_count": 17,
      "outputs": []
    },
    {
      "cell_type": "code",
      "source": [
        "#求损失,los函数\n",
        "def compute_loss(y_pred, y_true):\n",
        "  loss = (y_pred - y_true)**2 /2\n",
        "  return loss"
      ],
      "metadata": {
        "id": "gbcu8wB23VVo"
      },
      "execution_count": 34,
      "outputs": []
    },
    {
      "cell_type": "code",
      "source": [
        "#求反向传导, 梯度计算\n",
        "def backward(Z, Zo, H, W2, X):\n",
        "  dy = y_pred - y_true #shape(1,1)\n",
        "  b2_grad = dy * Zo * (1-Zo) #shape (1,1)\n",
        "  W2_grad = np.dot(b2_grad, H.T) #shape (1,2)\n",
        "\n",
        "  dh = np.dot(W2.T, b2_grad) #shape (2,1)\n",
        "  dz = dh * (Z>0) #shape (2,1)\n",
        "  b1_grad = dz\n",
        "  W1_grad = np.dot(dz ,X)\n",
        "\n",
        "  return W1_grad, W2_grad, b1_grad, b2_grad"
      ],
      "metadata": {
        "id": "W0jdnmZk3JWA"
      },
      "execution_count": 31,
      "outputs": []
    },
    {
      "cell_type": "code",
      "source": [
        "#更新参数,weight,bias\n",
        "def update_params(W1, W2, b1, b2, W1_grad, W2_grad, b1_grad, b2_grad, learning_rate):\n",
        "  W1 -= learning_rate * W1_grad\n",
        "  W2 -= learning_rate * W2_grad\n",
        "  b1 -= learning_rate * b1_grad\n",
        "  b2 -= learning_rate * b2_grad\n",
        "  return W1, W2, b1, b2"
      ],
      "metadata": {
        "id": "qxanvpt07M9A"
      },
      "execution_count": 28,
      "outputs": []
    },
    {
      "cell_type": "code",
      "source": [
        "W1 = np.array([[0.1, 0.2, -0.1],   # 隐藏层第一个神经元的权重\n",
        "    [0.3, 0.1, 0.2]])   #ndarray (2,3) 隐藏层第二个神经元的权重\n",
        "\n",
        "b1 = np.array([[0.1],    # 隐藏层第一个神经元的偏置\n",
        "    [0.2]])    #ndarray (2,1) 隐藏层第二个神经元的偏置\n",
        "\n",
        "W2 = np.array([[0.2, 0.3]])  #shape (1,2) 输出层神经元的权重\n",
        "\n",
        "b2 = np.array([[0.1]])    #shape (1,1) 输出层神经元的偏置\n",
        "\n",
        "X = np.array([[1, 2, 3]])  #shape (1,3) 一个样本，3个特征\n",
        "y_true = np.array([[1]])    #y_true (1,1) 真实标签\n",
        "\n",
        "learning_rate = 0.01\n",
        "\n",
        "epochs = 400\n",
        "\n",
        "losses = []\n",
        "\n",
        "for epoch in range(epochs):\n",
        "  Z, H, Zo, y_pred = forward(W1, W2, b1, b2, X)\n",
        "  loss = compute_loss(y_pred, y_true)\n",
        "  losses.append(loss.flatten())\n",
        "\n",
        "  W1_grad, W2_grad, b1_grad, b2_grad = backward(Z, Zo, H, W2, X)\n",
        "  W1, W2, b1, b2 = update_params(W1, W2, b1, b2, W1_grad, W2_grad, b1_grad, b2_grad, learning_rate)\n",
        "\n",
        "  if(epoch%10 == 0):\n",
        "    print(\"Epochs:\", epoch + 1,\n",
        "      \"loss:\", np.round(loss.flatten(), 4),\n",
        "      \"W1_grad:\", np.round(W1_grad.flatten(), 2),\n",
        "      \"W2_grad:\", np.round(W2_grad.flatten(), 2),\n",
        "      \"b1_grad:\", np.round(b1_grad.flatten(), 2),\n",
        "      \"b2_grad:\", np.round(b2_grad.flatten(), 2)\n",
        "      )\n",
        "\n",
        "plt.plot(range(epochs), losses, \"blue\")\n",
        "plt.xlabel(\"epoch axis\")\n",
        "plt.ylabel(\"loss axis\")\n",
        "plt.show()"
      ],
      "metadata": {
        "colab": {
          "base_uri": "https://localhost:8080/",
          "height": 1000
        },
        "id": "4W4too2f0KE4",
        "outputId": "89e08ca4-054a-4b1a-de90-1a0c170b9b8a"
      },
      "execution_count": 41,
      "outputs": [
        {
          "output_type": "stream",
          "name": "stdout",
          "text": [
            "Epochs: 1 loss: [0.0669] W1_grad: [-0.02 -0.04 -0.05 -0.03 -0.05 -0.08] W2_grad: [-0.03 -0.12] b1_grad: [-0.02 -0.03] b2_grad: [-0.09]\n",
            "Epochs: 11 loss: [0.0634] W1_grad: [-0.02 -0.03 -0.05 -0.03 -0.05 -0.08] W2_grad: [-0.03 -0.12] b1_grad: [-0.02 -0.03] b2_grad: [-0.09]\n",
            "Epochs: 21 loss: [0.06] W1_grad: [-0.02 -0.03 -0.05 -0.03 -0.05 -0.08] W2_grad: [-0.03 -0.11] b1_grad: [-0.02 -0.03] b2_grad: [-0.08]\n",
            "Epochs: 31 loss: [0.0568] W1_grad: [-0.02 -0.03 -0.05 -0.02 -0.05 -0.07] W2_grad: [-0.03 -0.1 ] b1_grad: [-0.02 -0.02] b2_grad: [-0.07]\n",
            "Epochs: 41 loss: [0.0539] W1_grad: [-0.01 -0.03 -0.04 -0.02 -0.05 -0.07] W2_grad: [-0.03 -0.1 ] b1_grad: [-0.01 -0.02] b2_grad: [-0.07]\n",
            "Epochs: 51 loss: [0.0512] W1_grad: [-0.01 -0.03 -0.04 -0.02 -0.04 -0.06] W2_grad: [-0.02 -0.09] b1_grad: [-0.01 -0.02] b2_grad: [-0.06]\n",
            "Epochs: 61 loss: [0.0489] W1_grad: [-0.01 -0.02 -0.03 -0.02 -0.04 -0.06] W2_grad: [-0.02 -0.08] b1_grad: [-0.01 -0.02] b2_grad: [-0.05]\n",
            "Epochs: 71 loss: [0.0469] W1_grad: [-0.01 -0.02 -0.03 -0.02 -0.03 -0.05] W2_grad: [-0.02 -0.07] b1_grad: [-0.01 -0.02] b2_grad: [-0.05]\n",
            "Epochs: 81 loss: [0.0451] W1_grad: [-0.01 -0.02 -0.03 -0.01 -0.03 -0.04] W2_grad: [-0.02 -0.06] b1_grad: [-0.01 -0.01] b2_grad: [-0.04]\n",
            "Epochs: 91 loss: [0.0436] W1_grad: [-0.01 -0.01 -0.02 -0.01 -0.03 -0.04] W2_grad: [-0.02 -0.05] b1_grad: [-0.01 -0.01] b2_grad: [-0.03]\n",
            "Epochs: 101 loss: [0.0423] W1_grad: [-0.01 -0.01 -0.02 -0.01 -0.02 -0.03] W2_grad: [-0.01 -0.05] b1_grad: [-0.01 -0.01] b2_grad: [-0.03]\n",
            "Epochs: 111 loss: [0.0413] W1_grad: [-0.01 -0.01 -0.02 -0.01 -0.02 -0.03] W2_grad: [-0.01 -0.04] b1_grad: [-0.01 -0.01] b2_grad: [-0.02]\n",
            "Epochs: 121 loss: [0.0404] W1_grad: [-0.   -0.01 -0.01 -0.01 -0.02 -0.02] W2_grad: [-0.01 -0.03] b1_grad: [-0.   -0.01] b2_grad: [-0.02]\n",
            "Epochs: 131 loss: [0.0396] W1_grad: [-0.   -0.01 -0.01 -0.01 -0.01 -0.02] W2_grad: [-0.01 -0.03] b1_grad: [-0.   -0.01] b2_grad: [-0.02]\n",
            "Epochs: 141 loss: [0.039] W1_grad: [-0.   -0.01 -0.01 -0.01 -0.01 -0.02] W2_grad: [-0.01 -0.02] b1_grad: [-0.   -0.01] b2_grad: [-0.01]\n",
            "Epochs: 151 loss: [0.0385] W1_grad: [-0.   -0.01 -0.01 -0.   -0.01 -0.01] W2_grad: [-0.01 -0.02] b1_grad: [-0. -0.] b2_grad: [-0.01]\n",
            "Epochs: 161 loss: [0.0381] W1_grad: [-0.   -0.   -0.01 -0.   -0.01 -0.01] W2_grad: [-0.   -0.02] b1_grad: [-0. -0.] b2_grad: [-0.01]\n",
            "Epochs: 171 loss: [0.0377] W1_grad: [-0.   -0.   -0.01 -0.   -0.01 -0.01] W2_grad: [-0.   -0.01] b1_grad: [-0. -0.] b2_grad: [-0.01]\n",
            "Epochs: 181 loss: [0.0374] W1_grad: [-0.   -0.   -0.   -0.   -0.01 -0.01] W2_grad: [-0.   -0.01] b1_grad: [-0. -0.] b2_grad: [-0.01]\n",
            "Epochs: 191 loss: [0.0372] W1_grad: [-0.   -0.   -0.   -0.   -0.   -0.01] W2_grad: [-0.   -0.01] b1_grad: [-0. -0.] b2_grad: [-0.01]\n",
            "Epochs: 201 loss: [0.037] W1_grad: [-0.   -0.   -0.   -0.   -0.   -0.01] W2_grad: [-0.   -0.01] b1_grad: [-0. -0.] b2_grad: [-0.]\n",
            "Epochs: 211 loss: [0.0369] W1_grad: [-0. -0. -0. -0. -0. -0.] W2_grad: [-0.   -0.01] b1_grad: [-0. -0.] b2_grad: [-0.]\n",
            "Epochs: 221 loss: [0.0367] W1_grad: [-0. -0. -0. -0. -0. -0.] W2_grad: [-0. -0.] b1_grad: [-0. -0.] b2_grad: [-0.]\n",
            "Epochs: 231 loss: [0.0366] W1_grad: [-0. -0. -0. -0. -0. -0.] W2_grad: [-0. -0.] b1_grad: [-0. -0.] b2_grad: [-0.]\n",
            "Epochs: 241 loss: [0.0365] W1_grad: [-0. -0. -0. -0. -0. -0.] W2_grad: [-0. -0.] b1_grad: [-0. -0.] b2_grad: [-0.]\n",
            "Epochs: 251 loss: [0.0365] W1_grad: [-0. -0. -0. -0. -0. -0.] W2_grad: [-0. -0.] b1_grad: [-0. -0.] b2_grad: [-0.]\n",
            "Epochs: 261 loss: [0.0364] W1_grad: [-0. -0. -0. -0. -0. -0.] W2_grad: [-0. -0.] b1_grad: [-0. -0.] b2_grad: [-0.]\n",
            "Epochs: 271 loss: [0.0364] W1_grad: [-0. -0. -0. -0. -0. -0.] W2_grad: [-0. -0.] b1_grad: [-0. -0.] b2_grad: [-0.]\n",
            "Epochs: 281 loss: [0.0363] W1_grad: [-0. -0. -0. -0. -0. -0.] W2_grad: [-0. -0.] b1_grad: [-0. -0.] b2_grad: [-0.]\n",
            "Epochs: 291 loss: [0.0363] W1_grad: [-0. -0. -0. -0. -0. -0.] W2_grad: [-0. -0.] b1_grad: [-0. -0.] b2_grad: [-0.]\n",
            "Epochs: 301 loss: [0.0363] W1_grad: [-0. -0. -0. -0. -0. -0.] W2_grad: [-0. -0.] b1_grad: [-0. -0.] b2_grad: [-0.]\n",
            "Epochs: 311 loss: [0.0363] W1_grad: [-0. -0. -0. -0. -0. -0.] W2_grad: [-0. -0.] b1_grad: [-0. -0.] b2_grad: [-0.]\n",
            "Epochs: 321 loss: [0.0362] W1_grad: [-0. -0. -0. -0. -0. -0.] W2_grad: [-0. -0.] b1_grad: [-0. -0.] b2_grad: [-0.]\n",
            "Epochs: 331 loss: [0.0362] W1_grad: [-0. -0. -0. -0. -0. -0.] W2_grad: [-0. -0.] b1_grad: [-0. -0.] b2_grad: [-0.]\n",
            "Epochs: 341 loss: [0.0362] W1_grad: [-0. -0. -0. -0. -0. -0.] W2_grad: [-0. -0.] b1_grad: [-0. -0.] b2_grad: [-0.]\n",
            "Epochs: 351 loss: [0.0362] W1_grad: [-0. -0. -0. -0. -0. -0.] W2_grad: [-0. -0.] b1_grad: [-0. -0.] b2_grad: [-0.]\n",
            "Epochs: 361 loss: [0.0362] W1_grad: [-0. -0. -0. -0. -0. -0.] W2_grad: [-0. -0.] b1_grad: [-0. -0.] b2_grad: [-0.]\n",
            "Epochs: 371 loss: [0.0362] W1_grad: [-0. -0. -0. -0. -0. -0.] W2_grad: [-0. -0.] b1_grad: [-0. -0.] b2_grad: [-0.]\n",
            "Epochs: 381 loss: [0.0362] W1_grad: [-0. -0. -0. -0. -0. -0.] W2_grad: [-0. -0.] b1_grad: [-0. -0.] b2_grad: [-0.]\n",
            "Epochs: 391 loss: [0.0362] W1_grad: [-0. -0. -0. -0. -0. -0.] W2_grad: [-0. -0.] b1_grad: [-0. -0.] b2_grad: [-0.]\n"
          ]
        },
        {
          "output_type": "display_data",
          "data": {
            "text/plain": [
              "<Figure size 640x480 with 1 Axes>"
            ],
            "image/png": "[encoded data removed]"
          },
          "metadata": {}
        }
      ]
    }
  ]
}